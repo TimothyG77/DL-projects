{
 "cells": [
  {
   "cell_type": "markdown",
   "id": "620ed4e9",
   "metadata": {},
   "source": [
    "#### USA Houseprices - Dataset 1 - Excercise 1 - Timothy Gregorian"
   ]
  },
  {
   "cell_type": "markdown",
   "id": "1a90e52c",
   "metadata": {},
   "source": [
    "In this analysis, we explore a dataset of housing prices in the United States to understand the key factors that influence property values. The main goal is to build a predictive model using a deep learning neural network, which can accurately estimate house prices based on their characteristics.\n",
    "\n",
    "In addition, we will analyze the correlations between the variables, since there is a possibility that the dataset may not be suitable for achieving a high R-squared score when evaluating the quality of the model."
   ]
  },
  {
   "cell_type": "markdown",
   "id": "e2c6ad93",
   "metadata": {},
   "source": [
    "#### Use of AI \n",
    "I used AI to generate ideas on how to improve the error metrics (e.g., R², MSE, MAE, RMSE). The AI supported me in identifying possible causes for poor performance (such as dataset quality, feature encoding, scaling, or model architecture) and suggested alternative strategies."
   ]
  },
  {
   "cell_type": "markdown",
   "id": "0a5fe286",
   "metadata": {},
   "source": [
    "### Link to Dataset 1\n",
    "https://www.kaggle.com/datasets/arnavgupta1205/usa-housing-dataset\n",
    "\n",
    "### Information about the Dataset\n",
    "This USA Housing Market Dataset contains 300 rows and 10 columns of real-estate related data, which can be used for housing price predictions."
   ]
  },
  {
   "cell_type": "markdown",
   "id": "41493eae",
   "metadata": {},
   "source": [
    "### Data Description\n",
    "The dataset consists of 10 variables related  to housing characteristics in the United States:\n",
    "\n",
    "1) Price: The selling price of the house (target variable).\n",
    "\n",
    "2) Bedrooms: Number of bedrooms in the house.\n",
    "\n",
    "3) Bathrooms: Number of bathrooms in the house.\n",
    "\n",
    "4) SquareFeet: Total living area in square feet.\n",
    "\n",
    "5) YearBuilt: The year the property was constructed.\n",
    "\n",
    "6) GarageSpaces: Number of garage spaces available.\n",
    "\n",
    "7) LotSize: Size of the property lot.\n",
    "\n",
    "8) ZipCode: Postal code indicating the geographical location of the    house (categorical variable).\n",
    "\n",
    "9) CrimeRate: Crime index of the neighborhood where the house is located (0.0 - 100.0).\n",
    "\n",
    "10) SchoolRating: Quality rating of nearby schools, ranging from 1 (lowest) to 10 (highest)."
   ]
  },
  {
   "cell_type": "markdown",
   "id": "12565413",
   "metadata": {},
   "source": [
    "#### Import all necessary libraries"
   ]
  },
  {
   "cell_type": "code",
   "execution_count": 4,
   "id": "e203bf0b",
   "metadata": {},
   "outputs": [],
   "source": [
    "import pandas as pd\n",
    "import numpy as np\n",
    "import matplotlib.pyplot as plt\n",
    "import seaborn as sns\n",
    "\n",
    "from sklearn.model_selection import train_test_split\n",
    "from sklearn.preprocessing import StandardScaler\n",
    "from sklearn import metrics\n",
    "\n",
    "import tensorflow as tf\n",
    "import keras\n",
    "from keras import layers"
   ]
  },
  {
   "cell_type": "markdown",
   "id": "387ff957",
   "metadata": {},
   "source": [
    "#### Load the Dataset"
   ]
  },
  {
   "cell_type": "code",
   "execution_count": 5,
   "id": "2e66719c",
   "metadata": {},
   "outputs": [
    {
     "data": {
      "application/vnd.microsoft.datawrangler.viewer.v0+json": {
       "columns": [
        {
         "name": "index",
         "rawType": "int64",
         "type": "integer"
        },
        {
         "name": "Price",
         "rawType": "int64",
         "type": "integer"
        },
        {
         "name": "Bedrooms",
         "rawType": "int64",
         "type": "integer"
        },
        {
         "name": "Bathrooms",
         "rawType": "float64",
         "type": "float"
        },
        {
         "name": "SquareFeet",
         "rawType": "int64",
         "type": "integer"
        },
        {
         "name": "YearBuilt",
         "rawType": "int64",
         "type": "integer"
        },
        {
         "name": "GarageSpaces",
         "rawType": "int64",
         "type": "integer"
        },
        {
         "name": "LotSize",
         "rawType": "float64",
         "type": "float"
        },
        {
         "name": "ZipCode",
         "rawType": "int64",
         "type": "integer"
        },
        {
         "name": "CrimeRate",
         "rawType": "float64",
         "type": "float"
        },
        {
         "name": "SchoolRating",
         "rawType": "int64",
         "type": "integer"
        }
       ],
       "ref": "82ad5603-a945-4df8-b083-d23583704ff5",
       "rows": [
        [
         "0",
         "221958",
         "1",
         "1.9",
         "4827",
         "1979",
         "2",
         "1.45",
         "82240",
         "48.6",
         "5"
        ],
        [
         "1",
         "771155",
         "2",
         "2.0",
         "1035",
         "1987",
         "2",
         "1.75",
         "74315",
         "92.03",
         "9"
        ],
        [
         "2",
         "231932",
         "1",
         "3.0",
         "2769",
         "1982",
         "1",
         "1.46",
         "79249",
         "52.08",
         "3"
        ],
        [
         "3",
         "465838",
         "3",
         "3.3",
         "2708",
         "1907",
         "3",
         "1.62",
         "80587",
         "61.65",
         "1"
        ],
        [
         "4",
         "359178",
         "4",
         "3.4",
         "1175",
         "1994",
         "2",
         "0.74",
         "20756",
         "15.66",
         "4"
        ]
       ],
       "shape": {
        "columns": 10,
        "rows": 5
       }
      },
      "text/html": [
       "<div>\n",
       "<style scoped>\n",
       "    .dataframe tbody tr th:only-of-type {\n",
       "        vertical-align: middle;\n",
       "    }\n",
       "\n",
       "    .dataframe tbody tr th {\n",
       "        vertical-align: top;\n",
       "    }\n",
       "\n",
       "    .dataframe thead th {\n",
       "        text-align: right;\n",
       "    }\n",
       "</style>\n",
       "<table border=\"1\" class=\"dataframe\">\n",
       "  <thead>\n",
       "    <tr style=\"text-align: right;\">\n",
       "      <th></th>\n",
       "      <th>Price</th>\n",
       "      <th>Bedrooms</th>\n",
       "      <th>Bathrooms</th>\n",
       "      <th>SquareFeet</th>\n",
       "      <th>YearBuilt</th>\n",
       "      <th>GarageSpaces</th>\n",
       "      <th>LotSize</th>\n",
       "      <th>ZipCode</th>\n",
       "      <th>CrimeRate</th>\n",
       "      <th>SchoolRating</th>\n",
       "    </tr>\n",
       "  </thead>\n",
       "  <tbody>\n",
       "    <tr>\n",
       "      <th>0</th>\n",
       "      <td>221958</td>\n",
       "      <td>1</td>\n",
       "      <td>1.9</td>\n",
       "      <td>4827</td>\n",
       "      <td>1979</td>\n",
       "      <td>2</td>\n",
       "      <td>1.45</td>\n",
       "      <td>82240</td>\n",
       "      <td>48.60</td>\n",
       "      <td>5</td>\n",
       "    </tr>\n",
       "    <tr>\n",
       "      <th>1</th>\n",
       "      <td>771155</td>\n",
       "      <td>2</td>\n",
       "      <td>2.0</td>\n",
       "      <td>1035</td>\n",
       "      <td>1987</td>\n",
       "      <td>2</td>\n",
       "      <td>1.75</td>\n",
       "      <td>74315</td>\n",
       "      <td>92.03</td>\n",
       "      <td>9</td>\n",
       "    </tr>\n",
       "    <tr>\n",
       "      <th>2</th>\n",
       "      <td>231932</td>\n",
       "      <td>1</td>\n",
       "      <td>3.0</td>\n",
       "      <td>2769</td>\n",
       "      <td>1982</td>\n",
       "      <td>1</td>\n",
       "      <td>1.46</td>\n",
       "      <td>79249</td>\n",
       "      <td>52.08</td>\n",
       "      <td>3</td>\n",
       "    </tr>\n",
       "    <tr>\n",
       "      <th>3</th>\n",
       "      <td>465838</td>\n",
       "      <td>3</td>\n",
       "      <td>3.3</td>\n",
       "      <td>2708</td>\n",
       "      <td>1907</td>\n",
       "      <td>3</td>\n",
       "      <td>1.62</td>\n",
       "      <td>80587</td>\n",
       "      <td>61.65</td>\n",
       "      <td>1</td>\n",
       "    </tr>\n",
       "    <tr>\n",
       "      <th>4</th>\n",
       "      <td>359178</td>\n",
       "      <td>4</td>\n",
       "      <td>3.4</td>\n",
       "      <td>1175</td>\n",
       "      <td>1994</td>\n",
       "      <td>2</td>\n",
       "      <td>0.74</td>\n",
       "      <td>20756</td>\n",
       "      <td>15.66</td>\n",
       "      <td>4</td>\n",
       "    </tr>\n",
       "  </tbody>\n",
       "</table>\n",
       "</div>"
      ],
      "text/plain": [
       "    Price  Bedrooms  Bathrooms  SquareFeet  YearBuilt  GarageSpaces  LotSize  \\\n",
       "0  221958         1        1.9        4827       1979             2     1.45   \n",
       "1  771155         2        2.0        1035       1987             2     1.75   \n",
       "2  231932         1        3.0        2769       1982             1     1.46   \n",
       "3  465838         3        3.3        2708       1907             3     1.62   \n",
       "4  359178         4        3.4        1175       1994             2     0.74   \n",
       "\n",
       "   ZipCode  CrimeRate  SchoolRating  \n",
       "0    82240      48.60             5  \n",
       "1    74315      92.03             9  \n",
       "2    79249      52.08             3  \n",
       "3    80587      61.65             1  \n",
       "4    20756      15.66             4  "
      ]
     },
     "execution_count": 5,
     "metadata": {},
     "output_type": "execute_result"
    }
   ],
   "source": [
    "df = pd.read_csv(\"usa_housing_kaggle.csv\")\n",
    "df.head()"
   ]
  },
  {
   "cell_type": "markdown",
   "id": "3adf40b7",
   "metadata": {},
   "source": [
    "#### Information about the Dataset"
   ]
  },
  {
   "cell_type": "code",
   "execution_count": 6,
   "id": "b9d433cc",
   "metadata": {},
   "outputs": [
    {
     "name": "stdout",
     "output_type": "stream",
     "text": [
      "(300, 10)\n",
      "\n",
      "\n",
      "<class 'pandas.core.frame.DataFrame'>\n",
      "RangeIndex: 300 entries, 0 to 299\n",
      "Data columns (total 10 columns):\n",
      " #   Column        Non-Null Count  Dtype  \n",
      "---  ------        --------------  -----  \n",
      " 0   Price         300 non-null    int64  \n",
      " 1   Bedrooms      300 non-null    int64  \n",
      " 2   Bathrooms     300 non-null    float64\n",
      " 3   SquareFeet    300 non-null    int64  \n",
      " 4   YearBuilt     300 non-null    int64  \n",
      " 5   GarageSpaces  300 non-null    int64  \n",
      " 6   LotSize       300 non-null    float64\n",
      " 7   ZipCode       300 non-null    int64  \n",
      " 8   CrimeRate     300 non-null    float64\n",
      " 9   SchoolRating  300 non-null    int64  \n",
      "dtypes: float64(3), int64(7)\n",
      "memory usage: 23.6 KB\n",
      "None\n",
      "\n",
      "\n",
      "               Price    Bedrooms   Bathrooms  SquareFeet    YearBuilt  \\\n",
      "count     300.000000  300.000000  300.000000   300.00000   300.000000   \n",
      "mean   522761.916667    2.966667    2.464000  3052.75000  1962.616667   \n",
      "std    256922.348275    1.451175    0.886184  1194.97144    36.005431   \n",
      "min    112666.000000    1.000000    1.000000   840.00000  1902.000000   \n",
      "25%    299936.500000    2.000000    1.700000  2053.50000  1931.750000   \n",
      "50%    505806.500000    3.000000    2.400000  3127.00000  1961.000000   \n",
      "75%    744603.750000    4.000000    3.200000  4081.00000  1994.000000   \n",
      "max    999684.000000    5.000000    4.000000  4997.00000  2022.000000   \n",
      "\n",
      "       GarageSpaces     LotSize       ZipCode   CrimeRate  SchoolRating  \n",
      "count    300.000000  300.000000    300.000000  300.000000    300.000000  \n",
      "mean       1.513333    1.062200  54324.770000   49.324033      5.096667  \n",
      "std        1.116832    0.543896  24718.938552   28.833220      2.674165  \n",
      "min        0.000000    0.110000  10163.000000    0.190000      1.000000  \n",
      "25%        1.000000    0.570000  34175.000000   22.547500      3.000000  \n",
      "50%        1.000000    1.085000  54896.500000   49.970000      5.000000  \n",
      "75%        3.000000    1.482500  74108.000000   74.402500      8.000000  \n",
      "max        3.000000    2.000000  99881.000000   99.710000      9.000000  \n"
     ]
    }
   ],
   "source": [
    "print(df.shape)\n",
    "print(\"\\n\")\n",
    "print(df.info())\n",
    "print(\"\\n\")\n",
    "print(df.describe())"
   ]
  },
  {
   "cell_type": "markdown",
   "id": "af6a6680",
   "metadata": {},
   "source": [
    "#### Check the length of the Dataset"
   ]
  },
  {
   "cell_type": "code",
   "execution_count": 7,
   "id": "1fff2ea6",
   "metadata": {},
   "outputs": [
    {
     "name": "stdout",
     "output_type": "stream",
     "text": [
      "Amount of data in the dataset: \n"
     ]
    },
    {
     "data": {
      "text/plain": [
       "300"
      ]
     },
     "execution_count": 7,
     "metadata": {},
     "output_type": "execute_result"
    }
   ],
   "source": [
    "print(\"Amount of data in the dataset: \")\n",
    "len(df)"
   ]
  },
  {
   "cell_type": "markdown",
   "id": "6a9b4ec6",
   "metadata": {},
   "source": [
    "#### Check for any missing values "
   ]
  },
  {
   "cell_type": "code",
   "execution_count": 8,
   "id": "ec3e87c4",
   "metadata": {},
   "outputs": [
    {
     "data": {
      "application/vnd.microsoft.datawrangler.viewer.v0+json": {
       "columns": [
        {
         "name": "index",
         "rawType": "object",
         "type": "string"
        },
        {
         "name": "0",
         "rawType": "int64",
         "type": "integer"
        }
       ],
       "ref": "9ed56fa3-4558-4f12-bc61-5a0c9c35b264",
       "rows": [
        [
         "Price",
         "0"
        ],
        [
         "Bedrooms",
         "0"
        ],
        [
         "Bathrooms",
         "0"
        ],
        [
         "SquareFeet",
         "0"
        ],
        [
         "YearBuilt",
         "0"
        ],
        [
         "GarageSpaces",
         "0"
        ],
        [
         "LotSize",
         "0"
        ],
        [
         "ZipCode",
         "0"
        ],
        [
         "CrimeRate",
         "0"
        ],
        [
         "SchoolRating",
         "0"
        ]
       ],
       "shape": {
        "columns": 1,
        "rows": 10
       }
      },
      "text/plain": [
       "Price           0\n",
       "Bedrooms        0\n",
       "Bathrooms       0\n",
       "SquareFeet      0\n",
       "YearBuilt       0\n",
       "GarageSpaces    0\n",
       "LotSize         0\n",
       "ZipCode         0\n",
       "CrimeRate       0\n",
       "SchoolRating    0\n",
       "dtype: int64"
      ]
     },
     "execution_count": 8,
     "metadata": {},
     "output_type": "execute_result"
    }
   ],
   "source": [
    "df.isna().sum()"
   ]
  },
  {
   "cell_type": "markdown",
   "id": "8043631c",
   "metadata": {},
   "source": [
    "#### Check for any duplicates"
   ]
  },
  {
   "cell_type": "code",
   "execution_count": 9,
   "id": "f5da7b37",
   "metadata": {},
   "outputs": [
    {
     "name": "stdout",
     "output_type": "stream",
     "text": [
      "Duplicates: \n"
     ]
    },
    {
     "data": {
      "text/plain": [
       "0"
      ]
     },
     "execution_count": 9,
     "metadata": {},
     "output_type": "execute_result"
    }
   ],
   "source": [
    "print(\"Duplicates: \")\n",
    "duplicates = int(df.duplicated().sum())\n",
    "duplicates"
   ]
  },
  {
   "cell_type": "markdown",
   "id": "e6fde361",
   "metadata": {},
   "source": [
    "#### Data Cleaning \n",
    "The results showed that the dataset contains 300 observations, with no missing values and no duplicate records.\n",
    "\n",
    "To make the variable \"Zip_Code\" useful for our model, it has been split into 4 categories which represent the cardinal directions (North, East, South, West).\n",
    "\n",
    "The One-Hot-Encoding method was used for the variable \"Region_East\", \"Region_West\", \"Region_South\" and \"Region_North\", so that the neural model does not see higher numbers of zip codes as a better number."
   ]
  },
  {
   "cell_type": "code",
   "execution_count": 10,
   "id": "db573ff5",
   "metadata": {},
   "outputs": [],
   "source": [
    "# Independent Variable List:\n",
    "# Bedrooms\n",
    "# Bathrooms\n",
    "# Squarefeet\n",
    "# YearBuilt\n",
    "# GarageSpaces\n",
    "# LotSize\n",
    "# ZipCode\n",
    "# CrimeRate\n",
    "# SchoolRating\n",
    "\n",
    "# Dependent Variables:\n",
    "# Price -> Training the model to predict this variable\n",
    "# Save every independent variable in X, except for \"price\"\n",
    "\n",
    "def zipcode_to_region(zipcode):\n",
    "    if 10000 <= zipcode < 30000:\n",
    "        return \"East\"\n",
    "    elif 30000 <= zipcode < 50000:\n",
    "        return \"South\"\n",
    "    elif 50000 <= zipcode < 70000:\n",
    "        return \"North\"\n",
    "    else:\n",
    "        return \"West\"\n",
    "\n",
    "\n",
    "df = df.drop(columns=[\"Region_East\", \"Region_West\", \"Region_South\", \"Region_North\"], errors=\"ignore\")\n",
    "\n",
    "df[\"Region\"] = df[\"ZipCode\"].apply(zipcode_to_region)\n",
    "\n",
    "df = pd.get_dummies(df, columns=[\"Region\"], drop_first=False)\n",
    "\n",
    "y = df[\"Price\"]\n",
    "X = df.drop([\"Price\", \"ZipCode\"], axis=1)"
   ]
  },
  {
   "cell_type": "markdown",
   "id": "43e28b04",
   "metadata": {},
   "source": [
    "#### Correlation"
   ]
  },
  {
   "cell_type": "code",
   "execution_count": 11,
   "id": "6a8ac8b1",
   "metadata": {},
   "outputs": [
    {
     "data": {
      "image/png": "[encoded data removed]",
      "text/plain": [
       "<Figure size 1000x600 with 2 Axes>"
      ]
     },
     "metadata": {},
     "output_type": "display_data"
    }
   ],
   "source": [
    "corr = X.join(y).corr(numeric_only=True)\n",
    "\n",
    "plt.figure(figsize=(10, 6))\n",
    "sns.heatmap(corr, annot=True, cmap=\"coolwarm\", fmt=\".2f\")\n",
    "plt.title(\"Correlation Matrix of Housing Data\")\n",
    "plt.show()"
   ]
  },
  {
   "cell_type": "markdown",
   "id": "c9a68b65",
   "metadata": {},
   "source": [
    "Most variables like bedrooms, bathrooms, size, or year built have only a weak connection to house prices. The regions also don’t explain much, which shows that the dataset does not have strong predictors for price."
   ]
  },
  {
   "cell_type": "markdown",
   "id": "f9892f69",
   "metadata": {},
   "source": [
    "#### Fisher Score"
   ]
  },
  {
   "cell_type": "code",
   "execution_count": 12,
   "id": "d79b5fc8",
   "metadata": {},
   "outputs": [
    {
     "data": {
      "image/png": "[encoded data removed]",
      "text/plain": [
       "<Figure size 800x500 with 1 Axes>"
      ]
     },
     "metadata": {},
     "output_type": "display_data"
    }
   ],
   "source": [
    "from skfeature.function.similarity_based import fisher_score\n",
    "\n",
    "y_binned = pd.qcut(y, q=4, labels=False)\n",
    "\n",
    "ranks = fisher_score.fisher_score(X.values, y_binned.values)\n",
    "feat_importances = pd.Series(ranks, index=X.columns)\n",
    "\n",
    "feat_importances.sort_values(ascending=False).plot(kind=\"barh\", figsize=(8,5))\n",
    "plt.title(\"Feature Importance by Fisher Score\")\n",
    "plt.show()\n",
    "\n"
   ]
  },
  {
   "cell_type": "markdown",
   "id": "1bb4288d",
   "metadata": {},
   "source": [
    "The Fisher Score test shows that CrimeRate, Bathrooms, and Regions have the strongest influence on predicting house prices. Variables like SquareFeet, GarageSpaces, and SchoolRating are less important for the model."
   ]
  },
  {
   "cell_type": "markdown",
   "id": "d2b70141",
   "metadata": {},
   "source": [
    "#### SelectKBest-Score"
   ]
  },
  {
   "cell_type": "code",
   "execution_count": 13,
   "id": "a144344a",
   "metadata": {},
   "outputs": [
    {
     "name": "stdout",
     "output_type": "stream",
     "text": [
      "         Feature     Chi2 Score\n",
      "2     SquareFeet  139860.475391\n",
      "6      CrimeRate    5039.632897\n",
      "7   SchoolRating     419.528450\n",
      "4   GarageSpaces     246.440529\n",
      "8    Region_East     239.000000\n",
      "10  Region_South     228.000000\n",
      "9   Region_North     227.000000\n",
      "0       Bedrooms     212.247191\n",
      "11   Region_West     206.000000\n",
      "3      YearBuilt     197.502102\n",
      "1      Bathrooms      95.296753\n",
      "5        LotSize      83.271463\n"
     ]
    }
   ],
   "source": [
    "from sklearn.feature_selection import SelectKBest, chi2\n",
    "import numpy as np\n",
    "\n",
    "X_cat = np.abs(X)  \n",
    "y_cat = y.astype(int)\n",
    "\n",
    "chi2_selector = SelectKBest(score_func=chi2, k=\"all\")\n",
    "chi2_selector.fit(X_cat, y_cat)\n",
    "\n",
    "chi2_scores = pd.DataFrame({\n",
    "    \"Feature\": X_cat.columns,\n",
    "    \"Chi2 Score\": chi2_selector.scores_\n",
    "}).sort_values(by=\"Chi2 Score\", ascending=False)\n",
    "\n",
    "print(chi2_scores)\n"
   ]
  },
  {
   "cell_type": "markdown",
   "id": "e2745b76",
   "metadata": {},
   "source": [
    "The SelectKBest Chi² test shows that SquareFeet and CrimeRate are the most important features for predicting house prices. Other variables like Bathrooms and LotSize have much lower importance."
   ]
  },
  {
   "cell_type": "markdown",
   "id": "06ca9bfa",
   "metadata": {},
   "source": [
    "#### VIF-Test"
   ]
  },
  {
   "cell_type": "code",
   "execution_count": 14,
   "id": "4b2d3016",
   "metadata": {},
   "outputs": [
    {
     "name": "stdout",
     "output_type": "stream",
     "text": [
      "         Feature          VIF\n",
      "0       Bedrooms     1.040308\n",
      "1      Bathrooms     1.033074\n",
      "2     SquareFeet     1.039447\n",
      "3      YearBuilt     1.042271\n",
      "4   GarageSpaces     1.030404\n",
      "5        LotSize     1.062858\n",
      "6      CrimeRate     1.009585\n",
      "7   SchoolRating     1.023965\n",
      "8    Region_East   652.689179\n",
      "9   Region_North   773.774603\n",
      "10  Region_South   769.372113\n",
      "11   Region_West  1007.981243\n"
     ]
    }
   ],
   "source": [
    "from statsmodels.stats.outliers_influence import variance_inflation_factor\n",
    "\n",
    "X_vif = X.copy()\n",
    "\n",
    "X_vif = X_vif.astype(float)\n",
    "\n",
    "vif_data = pd.DataFrame()\n",
    "vif_data[\"Feature\"] = X_vif.columns\n",
    "vif_data[\"VIF\"] = [variance_inflation_factor(X_vif.values, i) for i in range(len(X_vif.columns))]\n",
    "\n",
    "print(vif_data)\n"
   ]
  },
  {
   "cell_type": "markdown",
   "id": "f8ac5deb",
   "metadata": {},
   "source": [
    "The VIF test shows that most features like Bedrooms, Bathrooms, and SquareFeet have low collinearity and are safe to keep. However, the Region variables have extremely high VIF values, which means they are strongly correlated with each other and could cause problems in the model."
   ]
  },
  {
   "cell_type": "markdown",
   "id": "8ace1aec",
   "metadata": {},
   "source": [
    "#### X/y -Split"
   ]
  },
  {
   "cell_type": "code",
   "execution_count": 15,
   "id": "2468eced",
   "metadata": {},
   "outputs": [
    {
     "name": "stdout",
     "output_type": "stream",
     "text": [
      "Training size: (210, 12)\n",
      "Validation size: (45, 12)\n",
      "Test size: (45, 12)\n"
     ]
    }
   ],
   "source": [
    "X_train, X_temp, y_train, y_temp = train_test_split(X, y, test_size=0.3)\n",
    "\n",
    "X_val, X_test, y_val, y_test = train_test_split(X_temp, y_temp, test_size=0.5)\n",
    "\n",
    "print(\"Training size:\", X_train.shape)\n",
    "print(\"Validation size:\", X_val.shape)\n",
    "print(\"Test size:\", X_test.shape)"
   ]
  },
  {
   "cell_type": "markdown",
   "id": "5fe61678",
   "metadata": {},
   "source": [
    "#### Scaling of the Data\n",
    "The training, validation, and test datasets are scaled with StandardScaler to standardize feature values."
   ]
  },
  {
   "cell_type": "code",
   "execution_count": 16,
   "id": "e32ca17c",
   "metadata": {},
   "outputs": [],
   "source": [
    "from sklearn.preprocessing import StandardScaler\n",
    "\n",
    "scaler = StandardScaler()\n",
    "\n",
    "X_train = scaler.fit_transform(X_train)\n",
    "X_val   = scaler.transform(X_val)\n",
    "X_test  = scaler.transform(X_test)"
   ]
  },
  {
   "cell_type": "markdown",
   "id": "ab54f885",
   "metadata": {},
   "source": [
    "#### Architecture of the neural network\n",
    "The neural network is built with multiple dense layers and batch normalization to improve learning stability."
   ]
  },
  {
   "cell_type": "code",
   "execution_count": 17,
   "id": "d934cebb",
   "metadata": {},
   "outputs": [
    {
     "name": "stderr",
     "output_type": "stream",
     "text": [
      "d:\\5. Semester\\Deep Learning\\DL-projects\\venv312\\Lib\\site-packages\\keras\\src\\layers\\normalization\\batch_normalization.py:142: UserWarning: Do not pass an `input_shape`/`input_dim` argument to a layer. When using Sequential models, prefer using an `Input(shape)` object as the first layer in the model instead.\n",
      "  super().__init__(**kwargs)\n"
     ]
    },
    {
     "data": {
      "text/html": [
       "<pre style=\"white-space:pre;overflow-x:auto;line-height:normal;font-family:Menlo,'DejaVu Sans Mono',consolas,'Courier New',monospace\"><span style=\"font-weight: bold\">Model: \"sequential\"</span>\n",
       "</pre>\n"
      ],
      "text/plain": [
       "\u001b[1mModel: \"sequential\"\u001b[0m\n"
      ]
     },
     "metadata": {},
     "output_type": "display_data"
    },
    {
     "data": {
      "text/html": [
       "<pre style=\"white-space:pre;overflow-x:auto;line-height:normal;font-family:Menlo,'DejaVu Sans Mono',consolas,'Courier New',monospace\">┏━━━━━━━━━━━━━━━━━━━━━━━━━━━━━━━━━┳━━━━━━━━━━━━━━━━━━━━━━━━┳━━━━━━━━━━━━━━━┓\n",
       "┃<span style=\"font-weight: bold\"> Layer (type)                    </span>┃<span style=\"font-weight: bold\"> Output Shape           </span>┃<span style=\"font-weight: bold\">       Param # </span>┃\n",
       "┡━━━━━━━━━━━━━━━━━━━━━━━━━━━━━━━━━╇━━━━━━━━━━━━━━━━━━━━━━━━╇━━━━━━━━━━━━━━━┩\n",
       "│ batch_normalization             │ (<span style=\"color: #00d7ff; text-decoration-color: #00d7ff\">None</span>, <span style=\"color: #00af00; text-decoration-color: #00af00\">12</span>)             │            <span style=\"color: #00af00; text-decoration-color: #00af00\">48</span> │\n",
       "│ (<span style=\"color: #0087ff; text-decoration-color: #0087ff\">BatchNormalization</span>)            │                        │               │\n",
       "├─────────────────────────────────┼────────────────────────┼───────────────┤\n",
       "│ dense (<span style=\"color: #0087ff; text-decoration-color: #0087ff\">Dense</span>)                   │ (<span style=\"color: #00d7ff; text-decoration-color: #00d7ff\">None</span>, <span style=\"color: #00af00; text-decoration-color: #00af00\">32</span>)             │           <span style=\"color: #00af00; text-decoration-color: #00af00\">416</span> │\n",
       "├─────────────────────────────────┼────────────────────────┼───────────────┤\n",
       "│ dense_1 (<span style=\"color: #0087ff; text-decoration-color: #0087ff\">Dense</span>)                 │ (<span style=\"color: #00d7ff; text-decoration-color: #00d7ff\">None</span>, <span style=\"color: #00af00; text-decoration-color: #00af00\">16</span>)             │           <span style=\"color: #00af00; text-decoration-color: #00af00\">528</span> │\n",
       "├─────────────────────────────────┼────────────────────────┼───────────────┤\n",
       "│ dense_2 (<span style=\"color: #0087ff; text-decoration-color: #0087ff\">Dense</span>)                 │ (<span style=\"color: #00d7ff; text-decoration-color: #00d7ff\">None</span>, <span style=\"color: #00af00; text-decoration-color: #00af00\">8</span>)              │           <span style=\"color: #00af00; text-decoration-color: #00af00\">136</span> │\n",
       "├─────────────────────────────────┼────────────────────────┼───────────────┤\n",
       "│ dense_3 (<span style=\"color: #0087ff; text-decoration-color: #0087ff\">Dense</span>)                 │ (<span style=\"color: #00d7ff; text-decoration-color: #00d7ff\">None</span>, <span style=\"color: #00af00; text-decoration-color: #00af00\">1</span>)              │             <span style=\"color: #00af00; text-decoration-color: #00af00\">9</span> │\n",
       "└─────────────────────────────────┴────────────────────────┴───────────────┘\n",
       "</pre>\n"
      ],
      "text/plain": [
       "┏━━━━━━━━━━━━━━━━━━━━━━━━━━━━━━━━━┳━━━━━━━━━━━━━━━━━━━━━━━━┳━━━━━━━━━━━━━━━┓\n",
       "┃\u001b[1m \u001b[0m\u001b[1mLayer (type)                   \u001b[0m\u001b[1m \u001b[0m┃\u001b[1m \u001b[0m\u001b[1mOutput Shape          \u001b[0m\u001b[1m \u001b[0m┃\u001b[1m \u001b[0m\u001b[1m      Param #\u001b[0m\u001b[1m \u001b[0m┃\n",
       "┡━━━━━━━━━━━━━━━━━━━━━━━━━━━━━━━━━╇━━━━━━━━━━━━━━━━━━━━━━━━╇━━━━━━━━━━━━━━━┩\n",
       "│ batch_normalization             │ (\u001b[38;5;45mNone\u001b[0m, \u001b[38;5;34m12\u001b[0m)             │            \u001b[38;5;34m48\u001b[0m │\n",
       "│ (\u001b[38;5;33mBatchNormalization\u001b[0m)            │                        │               │\n",
       "├─────────────────────────────────┼────────────────────────┼───────────────┤\n",
       "│ dense (\u001b[38;5;33mDense\u001b[0m)                   │ (\u001b[38;5;45mNone\u001b[0m, \u001b[38;5;34m32\u001b[0m)             │           \u001b[38;5;34m416\u001b[0m │\n",
       "├─────────────────────────────────┼────────────────────────┼───────────────┤\n",
       "│ dense_1 (\u001b[38;5;33mDense\u001b[0m)                 │ (\u001b[38;5;45mNone\u001b[0m, \u001b[38;5;34m16\u001b[0m)             │           \u001b[38;5;34m528\u001b[0m │\n",
       "├─────────────────────────────────┼────────────────────────┼───────────────┤\n",
       "│ dense_2 (\u001b[38;5;33mDense\u001b[0m)                 │ (\u001b[38;5;45mNone\u001b[0m, \u001b[38;5;34m8\u001b[0m)              │           \u001b[38;5;34m136\u001b[0m │\n",
       "├─────────────────────────────────┼────────────────────────┼───────────────┤\n",
       "│ dense_3 (\u001b[38;5;33mDense\u001b[0m)                 │ (\u001b[38;5;45mNone\u001b[0m, \u001b[38;5;34m1\u001b[0m)              │             \u001b[38;5;34m9\u001b[0m │\n",
       "└─────────────────────────────────┴────────────────────────┴───────────────┘\n"
      ]
     },
     "metadata": {},
     "output_type": "display_data"
    },
    {
     "data": {
      "text/html": [
       "<pre style=\"white-space:pre;overflow-x:auto;line-height:normal;font-family:Menlo,'DejaVu Sans Mono',consolas,'Courier New',monospace\"><span style=\"font-weight: bold\"> Total params: </span><span style=\"color: #00af00; text-decoration-color: #00af00\">1,137</span> (4.44 KB)\n",
       "</pre>\n"
      ],
      "text/plain": [
       "\u001b[1m Total params: \u001b[0m\u001b[38;5;34m1,137\u001b[0m (4.44 KB)\n"
      ]
     },
     "metadata": {},
     "output_type": "display_data"
    },
    {
     "data": {
      "text/html": [
       "<pre style=\"white-space:pre;overflow-x:auto;line-height:normal;font-family:Menlo,'DejaVu Sans Mono',consolas,'Courier New',monospace\"><span style=\"font-weight: bold\"> Trainable params: </span><span style=\"color: #00af00; text-decoration-color: #00af00\">1,113</span> (4.35 KB)\n",
       "</pre>\n"
      ],
      "text/plain": [
       "\u001b[1m Trainable params: \u001b[0m\u001b[38;5;34m1,113\u001b[0m (4.35 KB)\n"
      ]
     },
     "metadata": {},
     "output_type": "display_data"
    },
    {
     "data": {
      "text/html": [
       "<pre style=\"white-space:pre;overflow-x:auto;line-height:normal;font-family:Menlo,'DejaVu Sans Mono',consolas,'Courier New',monospace\"><span style=\"font-weight: bold\"> Non-trainable params: </span><span style=\"color: #00af00; text-decoration-color: #00af00\">24</span> (96.00 B)\n",
       "</pre>\n"
      ],
      "text/plain": [
       "\u001b[1m Non-trainable params: \u001b[0m\u001b[38;5;34m24\u001b[0m (96.00 B)\n"
      ]
     },
     "metadata": {},
     "output_type": "display_data"
    }
   ],
   "source": [
    "from keras.callbacks import ModelCheckpoint, EarlyStopping, ReduceLROnPlateau\n",
    "\n",
    "variable_amount = len(X.columns)\n",
    "\n",
    "training_model_11 = keras.Sequential(\n",
    "    [\n",
    "        layers.BatchNormalization(input_shape=(variable_amount,)),\n",
    "        layers.Dense(32, activation=\"relu\"),\n",
    "        layers.Dense(16, activation=\"relu\"),\n",
    "        layers.Dense(8, activation=\"relu\"),\n",
    "        layers.Dense(1)\n",
    "    ]\n",
    ")\n",
    "\n",
    "training_model_11.compile(optimizer=\"adam\", loss=\"mse\")\n",
    "\n",
    "training_model_11.summary()"
   ]
  },
  {
   "cell_type": "markdown",
   "id": "d3c397fa",
   "metadata": {},
   "source": [
    "#### Training of the model\n",
    "The model is trained with early stopping to prevent overfitting, using validation loss."
   ]
  },
  {
   "cell_type": "code",
   "execution_count": 18,
   "id": "ea752cde",
   "metadata": {},
   "outputs": [
    {
     "name": "stdout",
     "output_type": "stream",
     "text": [
      "Epoch 1/300\n",
      "\u001b[1m7/7\u001b[0m \u001b[32m━━━━━━━━━━━━━━━━━━━━\u001b[0m\u001b[37m\u001b[0m \u001b[1m4s\u001b[0m 67ms/step - loss: 348338880512.0000 - val_loss: 286898552832.0000\n",
      "Epoch 2/300\n",
      "\u001b[1m7/7\u001b[0m \u001b[32m━━━━━━━━━━━━━━━━━━━━\u001b[0m\u001b[37m\u001b[0m \u001b[1m0s\u001b[0m 18ms/step - loss: 348338749440.0000 - val_loss: 286898454528.0000\n",
      "Epoch 3/300\n",
      "\u001b[1m7/7\u001b[0m \u001b[32m━━━━━━━━━━━━━━━━━━━━\u001b[0m\u001b[37m\u001b[0m \u001b[1m0s\u001b[0m 14ms/step - loss: 348338651136.0000 - val_loss: 286898356224.0000\n",
      "Epoch 4/300\n",
      "\u001b[1m7/7\u001b[0m \u001b[32m━━━━━━━━━━━━━━━━━━━━\u001b[0m\u001b[37m\u001b[0m \u001b[1m0s\u001b[0m 13ms/step - loss: 348338618368.0000 - val_loss: 286898225152.0000\n",
      "Epoch 5/300\n",
      "\u001b[1m7/7\u001b[0m \u001b[32m━━━━━━━━━━━━━━━━━━━━\u001b[0m\u001b[37m\u001b[0m \u001b[1m0s\u001b[0m 13ms/step - loss: 348338454528.0000 - val_loss: 286898094080.0000\n",
      "Epoch 6/300\n",
      "\u001b[1m7/7\u001b[0m \u001b[32m━━━━━━━━━━━━━━━━━━━━\u001b[0m\u001b[37m\u001b[0m \u001b[1m0s\u001b[0m 15ms/step - loss: 348338356224.0000 - val_loss: 286897930240.0000\n",
      "Epoch 7/300\n",
      "\u001b[1m7/7\u001b[0m \u001b[32m━━━━━━━━━━━━━━━━━━━━\u001b[0m\u001b[37m\u001b[0m \u001b[1m0s\u001b[0m 14ms/step - loss: 348338061312.0000 - val_loss: 286897700864.0000\n",
      "Epoch 8/300\n",
      "\u001b[1m7/7\u001b[0m \u001b[32m━━━━━━━━━━━━━━━━━━━━\u001b[0m\u001b[37m\u001b[0m \u001b[1m0s\u001b[0m 13ms/step - loss: 348337831936.0000 - val_loss: 286897405952.0000\n",
      "Epoch 9/300\n",
      "\u001b[1m7/7\u001b[0m \u001b[32m━━━━━━━━━━━━━━━━━━━━\u001b[0m\u001b[37m\u001b[0m \u001b[1m0s\u001b[0m 13ms/step - loss: 348337471488.0000 - val_loss: 286897012736.0000\n",
      "Epoch 10/300\n",
      "\u001b[1m7/7\u001b[0m \u001b[32m━━━━━━━━━━━━━━━━━━━━\u001b[0m\u001b[37m\u001b[0m \u001b[1m0s\u001b[0m 15ms/step - loss: 348337078272.0000 - val_loss: 286896553984.0000\n",
      "Epoch 11/300\n",
      "\u001b[1m7/7\u001b[0m \u001b[32m━━━━━━━━━━━━━━━━━━━━\u001b[0m\u001b[37m\u001b[0m \u001b[1m0s\u001b[0m 16ms/step - loss: 348336521216.0000 - val_loss: 286895931392.0000\n",
      "Epoch 12/300\n",
      "\u001b[1m7/7\u001b[0m \u001b[32m━━━━━━━━━━━━━━━━━━━━\u001b[0m\u001b[37m\u001b[0m \u001b[1m0s\u001b[0m 15ms/step - loss: 348335833088.0000 - val_loss: 286895177728.0000\n",
      "Epoch 13/300\n",
      "\u001b[1m7/7\u001b[0m \u001b[32m━━━━━━━━━━━━━━━━━━━━\u001b[0m\u001b[37m\u001b[0m \u001b[1m0s\u001b[0m 16ms/step - loss: 348334915584.0000 - val_loss: 286894194688.0000\n",
      "Epoch 14/300\n",
      "\u001b[1m7/7\u001b[0m \u001b[32m━━━━━━━━━━━━━━━━━━━━\u001b[0m\u001b[37m\u001b[0m \u001b[1m0s\u001b[0m 15ms/step - loss: 348333834240.0000 - val_loss: 286892949504.0000\n",
      "Epoch 15/300\n",
      "\u001b[1m7/7\u001b[0m \u001b[32m━━━━━━━━━━━━━━━━━━━━\u001b[0m\u001b[37m\u001b[0m \u001b[1m0s\u001b[0m 14ms/step - loss: 348332457984.0000 - val_loss: 286891409408.0000\n",
      "Epoch 16/300\n",
      "\u001b[1m7/7\u001b[0m \u001b[32m━━━━━━━━━━━━━━━━━━━━\u001b[0m\u001b[37m\u001b[0m \u001b[1m0s\u001b[0m 15ms/step - loss: 348330721280.0000 - val_loss: 286889476096.0000\n",
      "Epoch 17/300\n",
      "\u001b[1m7/7\u001b[0m \u001b[32m━━━━━━━━━━━━━━━━━━━━\u001b[0m\u001b[37m\u001b[0m \u001b[1m0s\u001b[0m 16ms/step - loss: 348328525824.0000 - val_loss: 286887084032.0000\n",
      "Epoch 18/300\n",
      "\u001b[1m7/7\u001b[0m \u001b[32m━━━━━━━━━━━━━━━━━━━━\u001b[0m\u001b[37m\u001b[0m \u001b[1m0s\u001b[0m 18ms/step - loss: 348325773312.0000 - val_loss: 286884200448.0000\n",
      "Epoch 19/300\n",
      "\u001b[1m7/7\u001b[0m \u001b[32m━━━━━━━━━━━━━━━━━━━━\u001b[0m\u001b[37m\u001b[0m \u001b[1m0s\u001b[0m 18ms/step - loss: 348322496512.0000 - val_loss: 286880563200.0000\n",
      "Epoch 20/300\n",
      "\u001b[1m7/7\u001b[0m \u001b[32m━━━━━━━━━━━━━━━━━━━━\u001b[0m\u001b[37m\u001b[0m \u001b[1m0s\u001b[0m 16ms/step - loss: 348318498816.0000 - val_loss: 286876139520.0000\n",
      "Epoch 21/300\n",
      "\u001b[1m7/7\u001b[0m \u001b[32m━━━━━━━━━━━━━━━━━━━━\u001b[0m\u001b[37m\u001b[0m \u001b[1m0s\u001b[0m 17ms/step - loss: 348313387008.0000 - val_loss: 286870732800.0000\n",
      "Epoch 22/300\n",
      "\u001b[1m7/7\u001b[0m \u001b[32m━━━━━━━━━━━━━━━━━━━━\u001b[0m\u001b[37m\u001b[0m \u001b[1m0s\u001b[0m 16ms/step - loss: 348307095552.0000 - val_loss: 286864080896.0000\n",
      "Epoch 23/300\n",
      "\u001b[1m7/7\u001b[0m \u001b[32m━━━━━━━━━━━━━━━━━━━━\u001b[0m\u001b[37m\u001b[0m \u001b[1m0s\u001b[0m 15ms/step - loss: 348299362304.0000 - val_loss: 286855987200.0000\n",
      "Epoch 24/300\n",
      "\u001b[1m7/7\u001b[0m \u001b[32m━━━━━━━━━━━━━━━━━━━━\u001b[0m\u001b[37m\u001b[0m \u001b[1m0s\u001b[0m 13ms/step - loss: 348289728512.0000 - val_loss: 286846156800.0000\n",
      "Epoch 25/300\n",
      "\u001b[1m7/7\u001b[0m \u001b[32m━━━━━━━━━━━━━━━━━━━━\u001b[0m\u001b[37m\u001b[0m \u001b[1m0s\u001b[0m 15ms/step - loss: 348278652928.0000 - val_loss: 286834294784.0000\n",
      "Epoch 26/300\n",
      "\u001b[1m7/7\u001b[0m \u001b[32m━━━━━━━━━━━━━━━━━━━━\u001b[0m\u001b[37m\u001b[0m \u001b[1m0s\u001b[0m 16ms/step - loss: 348264923136.0000 - val_loss: 286819942400.0000\n",
      "Epoch 27/300\n",
      "\u001b[1m7/7\u001b[0m \u001b[32m━━━━━━━━━━━━━━━━━━━━\u001b[0m\u001b[37m\u001b[0m \u001b[1m0s\u001b[0m 16ms/step - loss: 348248440832.0000 - val_loss: 286802739200.0000\n",
      "Epoch 28/300\n",
      "\u001b[1m7/7\u001b[0m \u001b[32m━━━━━━━━━━━━━━━━━━━━\u001b[0m\u001b[37m\u001b[0m \u001b[1m0s\u001b[0m 16ms/step - loss: 348228452352.0000 - val_loss: 286782095360.0000\n",
      "Epoch 29/300\n",
      "\u001b[1m7/7\u001b[0m \u001b[32m━━━━━━━━━━━━━━━━━━━━\u001b[0m\u001b[37m\u001b[0m \u001b[1m0s\u001b[0m 16ms/step - loss: 348204662784.0000 - val_loss: 286757748736.0000\n",
      "Epoch 30/300\n",
      "\u001b[1m7/7\u001b[0m \u001b[32m━━━━━━━━━━━━━━━━━━━━\u001b[0m\u001b[37m\u001b[0m \u001b[1m0s\u001b[0m 13ms/step - loss: 348176842752.0000 - val_loss: 286728749056.0000\n",
      "Epoch 31/300\n",
      "\u001b[1m7/7\u001b[0m \u001b[32m━━━━━━━━━━━━━━━━━━━━\u001b[0m\u001b[37m\u001b[0m \u001b[1m0s\u001b[0m 13ms/step - loss: 348142043136.0000 - val_loss: 286694801408.0000\n",
      "Epoch 32/300\n",
      "\u001b[1m7/7\u001b[0m \u001b[32m━━━━━━━━━━━━━━━━━━━━\u001b[0m\u001b[37m\u001b[0m \u001b[1m0s\u001b[0m 13ms/step - loss: 348102197248.0000 - val_loss: 286654857216.0000\n",
      "Epoch 33/300\n",
      "\u001b[1m7/7\u001b[0m \u001b[32m━━━━━━━━━━━━━━━━━━━━\u001b[0m\u001b[37m\u001b[0m \u001b[1m0s\u001b[0m 14ms/step - loss: 348054880256.0000 - val_loss: 286607507456.0000\n",
      "Epoch 34/300\n",
      "\u001b[1m7/7\u001b[0m \u001b[32m━━━━━━━━━━━━━━━━━━━━\u001b[0m\u001b[37m\u001b[0m \u001b[1m0s\u001b[0m 13ms/step - loss: 347999174656.0000 - val_loss: 286551932928.0000\n",
      "Epoch 35/300\n",
      "\u001b[1m7/7\u001b[0m \u001b[32m━━━━━━━━━━━━━━━━━━━━\u001b[0m\u001b[37m\u001b[0m \u001b[1m0s\u001b[0m 13ms/step - loss: 347935014912.0000 - val_loss: 286487052288.0000\n",
      "Epoch 36/300\n",
      "\u001b[1m7/7\u001b[0m \u001b[32m━━━━━━━━━━━━━━━━━━━━\u001b[0m\u001b[37m\u001b[0m \u001b[1m0s\u001b[0m 16ms/step - loss: 347855126528.0000 - val_loss: 286411816960.0000\n",
      "Epoch 37/300\n",
      "\u001b[1m7/7\u001b[0m \u001b[32m━━━━━━━━━━━━━━━━━━━━\u001b[0m\u001b[37m\u001b[0m \u001b[1m0s\u001b[0m 15ms/step - loss: 347771699200.0000 - val_loss: 286325112832.0000\n",
      "Epoch 38/300\n",
      "\u001b[1m7/7\u001b[0m \u001b[32m━━━━━━━━━━━━━━━━━━━━\u001b[0m\u001b[37m\u001b[0m \u001b[1m0s\u001b[0m 15ms/step - loss: 347670085632.0000 - val_loss: 286222876672.0000\n",
      "Epoch 39/300\n",
      "\u001b[1m7/7\u001b[0m \u001b[32m━━━━━━━━━━━━━━━━━━━━\u001b[0m\u001b[37m\u001b[0m \u001b[1m0s\u001b[0m 14ms/step - loss: 347546451968.0000 - val_loss: 286107271168.0000\n",
      "Epoch 40/300\n",
      "\u001b[1m7/7\u001b[0m \u001b[32m━━━━━━━━━━━━━━━━━━━━\u001b[0m\u001b[37m\u001b[0m \u001b[1m0s\u001b[0m 15ms/step - loss: 347404304384.0000 - val_loss: 285974691840.0000\n",
      "Epoch 41/300\n",
      "\u001b[1m7/7\u001b[0m \u001b[32m━━━━━━━━━━━━━━━━━━━━\u001b[0m\u001b[37m\u001b[0m \u001b[1m0s\u001b[0m 14ms/step - loss: 347253145600.0000 - val_loss: 285821370368.0000\n",
      "Epoch 42/300\n",
      "\u001b[1m7/7\u001b[0m \u001b[32m━━━━━━━━━━━━━━━━━━━━\u001b[0m\u001b[37m\u001b[0m \u001b[1m0s\u001b[0m 18ms/step - loss: 347070627840.0000 - val_loss: 285646127104.0000\n",
      "Epoch 43/300\n",
      "\u001b[1m7/7\u001b[0m \u001b[32m━━━━━━━━━━━━━━━━━━━━\u001b[0m\u001b[37m\u001b[0m \u001b[1m0s\u001b[0m 15ms/step - loss: 346851508224.0000 - val_loss: 285446111232.0000\n",
      "Epoch 44/300\n",
      "\u001b[1m7/7\u001b[0m \u001b[32m━━━━━━━━━━━━━━━━━━━━\u001b[0m\u001b[37m\u001b[0m \u001b[1m0s\u001b[0m 13ms/step - loss: 346614431744.0000 - val_loss: 285219553280.0000\n",
      "Epoch 45/300\n",
      "\u001b[1m7/7\u001b[0m \u001b[32m━━━━━━━━━━━━━━━━━━━━\u001b[0m\u001b[37m\u001b[0m \u001b[1m0s\u001b[0m 16ms/step - loss: 346357268480.0000 - val_loss: 284962258944.0000\n",
      "Epoch 46/300\n",
      "\u001b[1m7/7\u001b[0m \u001b[32m━━━━━━━━━━━━━━━━━━━━\u001b[0m\u001b[37m\u001b[0m \u001b[1m0s\u001b[0m 14ms/step - loss: 346041057280.0000 - val_loss: 284673703936.0000\n",
      "Epoch 47/300\n",
      "\u001b[1m7/7\u001b[0m \u001b[32m━━━━━━━━━━━━━━━━━━━━\u001b[0m\u001b[37m\u001b[0m \u001b[1m0s\u001b[0m 13ms/step - loss: 345711738880.0000 - val_loss: 284351496192.0000\n",
      "Epoch 48/300\n",
      "\u001b[1m7/7\u001b[0m \u001b[32m━━━━━━━━━━━━━━━━━━━━\u001b[0m\u001b[37m\u001b[0m \u001b[1m0s\u001b[0m 18ms/step - loss: 345331826688.0000 - val_loss: 283990327296.0000\n",
      "Epoch 49/300\n",
      "\u001b[1m7/7\u001b[0m \u001b[32m━━━━━━━━━━━━━━━━━━━━\u001b[0m\u001b[37m\u001b[0m \u001b[1m0s\u001b[0m 15ms/step - loss: 344906563584.0000 - val_loss: 283589279744.0000\n",
      "Epoch 50/300\n",
      "\u001b[1m7/7\u001b[0m \u001b[32m━━━━━━━━━━━━━━━━━━━━\u001b[0m\u001b[37m\u001b[0m \u001b[1m0s\u001b[0m 16ms/step - loss: 344441126912.0000 - val_loss: 283144781824.0000\n",
      "Epoch 51/300\n",
      "\u001b[1m7/7\u001b[0m \u001b[32m━━━━━━━━━━━━━━━━━━━━\u001b[0m\u001b[37m\u001b[0m \u001b[1m0s\u001b[0m 17ms/step - loss: 343932010496.0000 - val_loss: 282649296896.0000\n",
      "Epoch 52/300\n",
      "\u001b[1m7/7\u001b[0m \u001b[32m━━━━━━━━━━━━━━━━━━━━\u001b[0m\u001b[37m\u001b[0m \u001b[1m0s\u001b[0m 15ms/step - loss: 343330586624.0000 - val_loss: 282106429440.0000\n",
      "Epoch 53/300\n",
      "\u001b[1m7/7\u001b[0m \u001b[32m━━━━━━━━━━━━━━━━━━━━\u001b[0m\u001b[37m\u001b[0m \u001b[1m0s\u001b[0m 17ms/step - loss: 342693117952.0000 - val_loss: 281505595392.0000\n",
      "Epoch 54/300\n",
      "\u001b[1m7/7\u001b[0m \u001b[32m━━━━━━━━━━━━━━━━━━━━\u001b[0m\u001b[37m\u001b[0m \u001b[1m0s\u001b[0m 13ms/step - loss: 342016098304.0000 - val_loss: 280845221888.0000\n",
      "Epoch 55/300\n",
      "\u001b[1m7/7\u001b[0m \u001b[32m━━━━━━━━━━━━━━━━━━━━\u001b[0m\u001b[37m\u001b[0m \u001b[1m0s\u001b[0m 16ms/step - loss: 341235924992.0000 - val_loss: 280119803904.0000\n",
      "Epoch 56/300\n",
      "\u001b[1m7/7\u001b[0m \u001b[32m━━━━━━━━━━━━━━━━━━━━\u001b[0m\u001b[37m\u001b[0m \u001b[1m0s\u001b[0m 16ms/step - loss: 340389625856.0000 - val_loss: 279326982144.0000\n",
      "Epoch 57/300\n",
      "\u001b[1m7/7\u001b[0m \u001b[32m━━━━━━━━━━━━━━━━━━━━\u001b[0m\u001b[37m\u001b[0m \u001b[1m0s\u001b[0m 16ms/step - loss: 339543162880.0000 - val_loss: 278472753152.0000\n",
      "Epoch 58/300\n",
      "\u001b[1m7/7\u001b[0m \u001b[32m━━━━━━━━━━━━━━━━━━━━\u001b[0m\u001b[37m\u001b[0m \u001b[1m0s\u001b[0m 17ms/step - loss: 338470240256.0000 - val_loss: 277534408704.0000\n",
      "Epoch 59/300\n",
      "\u001b[1m7/7\u001b[0m \u001b[32m━━━━━━━━━━━━━━━━━━━━\u001b[0m\u001b[37m\u001b[0m \u001b[1m0s\u001b[0m 18ms/step - loss: 337404919808.0000 - val_loss: 276521222144.0000\n",
      "Epoch 60/300\n",
      "\u001b[1m7/7\u001b[0m \u001b[32m━━━━━━━━━━━━━━━━━━━━\u001b[0m\u001b[37m\u001b[0m \u001b[1m0s\u001b[0m 13ms/step - loss: 336216195072.0000 - val_loss: 275418218496.0000\n",
      "Epoch 61/300\n",
      "\u001b[1m7/7\u001b[0m \u001b[32m━━━━━━━━━━━━━━━━━━━━\u001b[0m\u001b[37m\u001b[0m \u001b[1m0s\u001b[0m 15ms/step - loss: 334894137344.0000 - val_loss: 274208587776.0000\n",
      "Epoch 62/300\n",
      "\u001b[1m7/7\u001b[0m \u001b[32m━━━━━━━━━━━━━━━━━━━━\u001b[0m\u001b[37m\u001b[0m \u001b[1m0s\u001b[0m 15ms/step - loss: 333565853696.0000 - val_loss: 272928325632.0000\n",
      "Epoch 63/300\n",
      "\u001b[1m7/7\u001b[0m \u001b[32m━━━━━━━━━━━━━━━━━━━━\u001b[0m\u001b[37m\u001b[0m \u001b[1m0s\u001b[0m 16ms/step - loss: 332116492288.0000 - val_loss: 271562358784.0000\n",
      "Epoch 64/300\n",
      "\u001b[1m7/7\u001b[0m \u001b[32m━━━━━━━━━━━━━━━━━━━━\u001b[0m\u001b[37m\u001b[0m \u001b[1m0s\u001b[0m 16ms/step - loss: 330413703168.0000 - val_loss: 270081114112.0000\n",
      "Epoch 65/300\n",
      "\u001b[1m7/7\u001b[0m \u001b[32m━━━━━━━━━━━━━━━━━━━━\u001b[0m\u001b[37m\u001b[0m \u001b[1m0s\u001b[0m 15ms/step - loss: 328695087104.0000 - val_loss: 268492865536.0000\n",
      "Epoch 66/300\n",
      "\u001b[1m7/7\u001b[0m \u001b[32m━━━━━━━━━━━━━━━━━━━━\u001b[0m\u001b[37m\u001b[0m \u001b[1m0s\u001b[0m 14ms/step - loss: 326913490944.0000 - val_loss: 266771415040.0000\n",
      "Epoch 67/300\n",
      "\u001b[1m7/7\u001b[0m \u001b[32m━━━━━━━━━━━━━━━━━━━━\u001b[0m\u001b[37m\u001b[0m \u001b[1m0s\u001b[0m 14ms/step - loss: 325005574144.0000 - val_loss: 264968192000.0000\n",
      "Epoch 68/300\n",
      "\u001b[1m7/7\u001b[0m \u001b[32m━━━━━━━━━━━━━━━━━━━━\u001b[0m\u001b[37m\u001b[0m \u001b[1m0s\u001b[0m 16ms/step - loss: 322761621504.0000 - val_loss: 263068991488.0000\n",
      "Epoch 69/300\n",
      "\u001b[1m7/7\u001b[0m \u001b[32m━━━━━━━━━━━━━━━━━━━━\u001b[0m\u001b[37m\u001b[0m \u001b[1m0s\u001b[0m 16ms/step - loss: 320849248256.0000 - val_loss: 261079400448.0000\n",
      "Epoch 70/300\n",
      "\u001b[1m7/7\u001b[0m \u001b[32m━━━━━━━━━━━━━━━━━━━━\u001b[0m\u001b[37m\u001b[0m \u001b[1m0s\u001b[0m 16ms/step - loss: 318469570560.0000 - val_loss: 258923560960.0000\n",
      "Epoch 71/300\n",
      "\u001b[1m7/7\u001b[0m \u001b[32m━━━━━━━━━━━━━━━━━━━━\u001b[0m\u001b[37m\u001b[0m \u001b[1m0s\u001b[0m 15ms/step - loss: 315935424512.0000 - val_loss: 256664305664.0000\n",
      "Epoch 72/300\n",
      "\u001b[1m7/7\u001b[0m \u001b[32m━━━━━━━━━━━━━━━━━━━━\u001b[0m\u001b[37m\u001b[0m \u001b[1m0s\u001b[0m 14ms/step - loss: 313223872512.0000 - val_loss: 254254170112.0000\n",
      "Epoch 73/300\n",
      "\u001b[1m7/7\u001b[0m \u001b[32m━━━━━━━━━━━━━━━━━━━━\u001b[0m\u001b[37m\u001b[0m \u001b[1m0s\u001b[0m 13ms/step - loss: 310720135168.0000 - val_loss: 251701297152.0000\n",
      "Epoch 74/300\n",
      "\u001b[1m7/7\u001b[0m \u001b[32m━━━━━━━━━━━━━━━━━━━━\u001b[0m\u001b[37m\u001b[0m \u001b[1m0s\u001b[0m 13ms/step - loss: 307627589632.0000 - val_loss: 249026478080.0000\n",
      "Epoch 75/300\n",
      "\u001b[1m7/7\u001b[0m \u001b[32m━━━━━━━━━━━━━━━━━━━━\u001b[0m\u001b[37m\u001b[0m \u001b[1m0s\u001b[0m 14ms/step - loss: 304391847936.0000 - val_loss: 246221832192.0000\n",
      "Epoch 76/300\n",
      "\u001b[1m7/7\u001b[0m \u001b[32m━━━━━━━━━━━━━━━━━━━━\u001b[0m\u001b[37m\u001b[0m \u001b[1m0s\u001b[0m 14ms/step - loss: 301348323328.0000 - val_loss: 243328172032.0000\n",
      "Epoch 77/300\n",
      "\u001b[1m7/7\u001b[0m \u001b[32m━━━━━━━━━━━━━━━━━━━━\u001b[0m\u001b[37m\u001b[0m \u001b[1m0s\u001b[0m 15ms/step - loss: 297975414784.0000 - val_loss: 240255467520.0000\n",
      "Epoch 78/300\n",
      "\u001b[1m7/7\u001b[0m \u001b[32m━━━━━━━━━━━━━━━━━━━━\u001b[0m\u001b[37m\u001b[0m \u001b[1m0s\u001b[0m 12ms/step - loss: 294359367680.0000 - val_loss: 237046661120.0000\n",
      "Epoch 79/300\n",
      "\u001b[1m7/7\u001b[0m \u001b[32m━━━━━━━━━━━━━━━━━━━━\u001b[0m\u001b[37m\u001b[0m \u001b[1m0s\u001b[0m 16ms/step - loss: 291121463296.0000 - val_loss: 233693200384.0000\n",
      "Epoch 80/300\n",
      "\u001b[1m7/7\u001b[0m \u001b[32m━━━━━━━━━━━━━━━━━━━━\u001b[0m\u001b[37m\u001b[0m \u001b[1m0s\u001b[0m 17ms/step - loss: 287080415232.0000 - val_loss: 230146473984.0000\n",
      "Epoch 81/300\n",
      "\u001b[1m7/7\u001b[0m \u001b[32m━━━━━━━━━━━━━━━━━━━━\u001b[0m\u001b[37m\u001b[0m \u001b[1m0s\u001b[0m 13ms/step - loss: 282714439680.0000 - val_loss: 226530213888.0000\n",
      "Epoch 82/300\n",
      "\u001b[1m7/7\u001b[0m \u001b[32m━━━━━━━━━━━━━━━━━━━━\u001b[0m\u001b[37m\u001b[0m \u001b[1m0s\u001b[0m 14ms/step - loss: 278709436416.0000 - val_loss: 222755520512.0000\n",
      "Epoch 83/300\n",
      "\u001b[1m7/7\u001b[0m \u001b[32m━━━━━━━━━━━━━━━━━━━━\u001b[0m\u001b[37m\u001b[0m \u001b[1m0s\u001b[0m 17ms/step - loss: 274224513024.0000 - val_loss: 218795163648.0000\n",
      "Epoch 84/300\n",
      "\u001b[1m7/7\u001b[0m \u001b[32m━━━━━━━━━━━━━━━━━━━━\u001b[0m\u001b[37m\u001b[0m \u001b[1m0s\u001b[0m 14ms/step - loss: 270045806592.0000 - val_loss: 214733619200.0000\n",
      "Epoch 85/300\n",
      "\u001b[1m7/7\u001b[0m \u001b[32m━━━━━━━━━━━━━━━━━━━━\u001b[0m\u001b[37m\u001b[0m \u001b[1m0s\u001b[0m 16ms/step - loss: 265502195712.0000 - val_loss: 210598166528.0000\n",
      "Epoch 86/300\n",
      "\u001b[1m7/7\u001b[0m \u001b[32m━━━━━━━━━━━━━━━━━━━━\u001b[0m\u001b[37m\u001b[0m \u001b[1m0s\u001b[0m 17ms/step - loss: 260780998656.0000 - val_loss: 206222950400.0000\n",
      "Epoch 87/300\n",
      "\u001b[1m7/7\u001b[0m \u001b[32m━━━━━━━━━━━━━━━━━━━━\u001b[0m\u001b[37m\u001b[0m \u001b[1m0s\u001b[0m 13ms/step - loss: 255506251776.0000 - val_loss: 201772744704.0000\n",
      "Epoch 88/300\n",
      "\u001b[1m7/7\u001b[0m \u001b[32m━━━━━━━━━━━━━━━━━━━━\u001b[0m\u001b[37m\u001b[0m \u001b[1m0s\u001b[0m 14ms/step - loss: 250551336960.0000 - val_loss: 197267734528.0000\n",
      "Epoch 89/300\n",
      "\u001b[1m7/7\u001b[0m \u001b[32m━━━━━━━━━━━━━━━━━━━━\u001b[0m\u001b[37m\u001b[0m \u001b[1m0s\u001b[0m 14ms/step - loss: 245693579264.0000 - val_loss: 192703725568.0000\n",
      "Epoch 90/300\n",
      "\u001b[1m7/7\u001b[0m \u001b[32m━━━━━━━━━━━━━━━━━━━━\u001b[0m\u001b[37m\u001b[0m \u001b[1m0s\u001b[0m 14ms/step - loss: 240132390912.0000 - val_loss: 187959115776.0000\n",
      "Epoch 91/300\n",
      "\u001b[1m7/7\u001b[0m \u001b[32m━━━━━━━━━━━━━━━━━━━━\u001b[0m\u001b[37m\u001b[0m \u001b[1m0s\u001b[0m 14ms/step - loss: 234728095744.0000 - val_loss: 183154884608.0000\n",
      "Epoch 92/300\n",
      "\u001b[1m7/7\u001b[0m \u001b[32m━━━━━━━━━━━━━━━━━━━━\u001b[0m\u001b[37m\u001b[0m \u001b[1m0s\u001b[0m 13ms/step - loss: 229402460160.0000 - val_loss: 178187042816.0000\n",
      "Epoch 93/300\n",
      "\u001b[1m7/7\u001b[0m \u001b[32m━━━━━━━━━━━━━━━━━━━━\u001b[0m\u001b[37m\u001b[0m \u001b[1m0s\u001b[0m 15ms/step - loss: 223928172544.0000 - val_loss: 173265371136.0000\n",
      "Epoch 94/300\n",
      "\u001b[1m7/7\u001b[0m \u001b[32m━━━━━━━━━━━━━━━━━━━━\u001b[0m\u001b[37m\u001b[0m \u001b[1m0s\u001b[0m 14ms/step - loss: 218141622272.0000 - val_loss: 168344698880.0000\n",
      "Epoch 95/300\n",
      "\u001b[1m7/7\u001b[0m \u001b[32m━━━━━━━━━━━━━━━━━━━━\u001b[0m\u001b[37m\u001b[0m \u001b[1m0s\u001b[0m 13ms/step - loss: 212819591168.0000 - val_loss: 163323887616.0000\n",
      "Epoch 96/300\n",
      "\u001b[1m7/7\u001b[0m \u001b[32m━━━━━━━━━━━━━━━━━━━━\u001b[0m\u001b[37m\u001b[0m \u001b[1m0s\u001b[0m 15ms/step - loss: 207664300032.0000 - val_loss: 158407147520.0000\n",
      "Epoch 97/300\n",
      "\u001b[1m7/7\u001b[0m \u001b[32m━━━━━━━━━━━━━━━━━━━━\u001b[0m\u001b[37m\u001b[0m \u001b[1m0s\u001b[0m 17ms/step - loss: 201489956864.0000 - val_loss: 153461784576.0000\n",
      "Epoch 98/300\n",
      "\u001b[1m7/7\u001b[0m \u001b[32m━━━━━━━━━━━━━━━━━━━━\u001b[0m\u001b[37m\u001b[0m \u001b[1m0s\u001b[0m 15ms/step - loss: 195671326720.0000 - val_loss: 148408254464.0000\n",
      "Epoch 99/300\n",
      "\u001b[1m7/7\u001b[0m \u001b[32m━━━━━━━━━━━━━━━━━━━━\u001b[0m\u001b[37m\u001b[0m \u001b[1m0s\u001b[0m 15ms/step - loss: 190637948928.0000 - val_loss: 143479898112.0000\n",
      "Epoch 100/300\n",
      "\u001b[1m7/7\u001b[0m \u001b[32m━━━━━━━━━━━━━━━━━━━━\u001b[0m\u001b[37m\u001b[0m \u001b[1m0s\u001b[0m 15ms/step - loss: 185028837376.0000 - val_loss: 138481303552.0000\n",
      "Epoch 101/300\n",
      "\u001b[1m7/7\u001b[0m \u001b[32m━━━━━━━━━━━━━━━━━━━━\u001b[0m\u001b[37m\u001b[0m \u001b[1m0s\u001b[0m 15ms/step - loss: 178576506880.0000 - val_loss: 133552955392.0000\n",
      "Epoch 102/300\n",
      "\u001b[1m7/7\u001b[0m \u001b[32m━━━━━━━━━━━━━━━━━━━━\u001b[0m\u001b[37m\u001b[0m \u001b[1m0s\u001b[0m 16ms/step - loss: 172778045440.0000 - val_loss: 128726728704.0000\n",
      "Epoch 103/300\n",
      "\u001b[1m7/7\u001b[0m \u001b[32m━━━━━━━━━━━━━━━━━━━━\u001b[0m\u001b[37m\u001b[0m \u001b[1m0s\u001b[0m 17ms/step - loss: 167489011712.0000 - val_loss: 123986862080.0000\n",
      "Epoch 104/300\n",
      "\u001b[1m7/7\u001b[0m \u001b[32m━━━━━━━━━━━━━━━━━━━━\u001b[0m\u001b[37m\u001b[0m \u001b[1m0s\u001b[0m 16ms/step - loss: 162244689920.0000 - val_loss: 119314046976.0000\n",
      "Epoch 105/300\n",
      "\u001b[1m7/7\u001b[0m \u001b[32m━━━━━━━━━━━━━━━━━━━━\u001b[0m\u001b[37m\u001b[0m \u001b[1m0s\u001b[0m 15ms/step - loss: 157301325824.0000 - val_loss: 114852233216.0000\n",
      "Epoch 106/300\n",
      "\u001b[1m7/7\u001b[0m \u001b[32m━━━━━━━━━━━━━━━━━━━━\u001b[0m\u001b[37m\u001b[0m \u001b[1m0s\u001b[0m 15ms/step - loss: 151451762688.0000 - val_loss: 110450778112.0000\n",
      "Epoch 107/300\n",
      "\u001b[1m7/7\u001b[0m \u001b[32m━━━━━━━━━━━━━━━━━━━━\u001b[0m\u001b[37m\u001b[0m \u001b[1m0s\u001b[0m 15ms/step - loss: 146583699456.0000 - val_loss: 106276577280.0000\n",
      "Epoch 108/300\n",
      "\u001b[1m7/7\u001b[0m \u001b[32m━━━━━━━━━━━━━━━━━━━━\u001b[0m\u001b[37m\u001b[0m \u001b[1m0s\u001b[0m 15ms/step - loss: 141149880320.0000 - val_loss: 102220709888.0000\n",
      "Epoch 109/300\n",
      "\u001b[1m7/7\u001b[0m \u001b[32m━━━━━━━━━━━━━━━━━━━━\u001b[0m\u001b[37m\u001b[0m \u001b[1m0s\u001b[0m 12ms/step - loss: 137356795904.0000 - val_loss: 98275655680.0000\n",
      "Epoch 110/300\n",
      "\u001b[1m7/7\u001b[0m \u001b[32m━━━━━━━━━━━━━━━━━━━━\u001b[0m\u001b[37m\u001b[0m \u001b[1m0s\u001b[0m 16ms/step - loss: 133300617216.0000 - val_loss: 94593605632.0000\n",
      "Epoch 111/300\n",
      "\u001b[1m7/7\u001b[0m \u001b[32m━━━━━━━━━━━━━━━━━━━━\u001b[0m\u001b[37m\u001b[0m \u001b[1m0s\u001b[0m 13ms/step - loss: 128144859136.0000 - val_loss: 91050868736.0000\n",
      "Epoch 112/300\n",
      "\u001b[1m7/7\u001b[0m \u001b[32m━━━━━━━━━━━━━━━━━━━━\u001b[0m\u001b[37m\u001b[0m \u001b[1m0s\u001b[0m 14ms/step - loss: 124501745664.0000 - val_loss: 87822565376.0000\n",
      "Epoch 113/300\n",
      "\u001b[1m7/7\u001b[0m \u001b[32m━━━━━━━━━━━━━━━━━━━━\u001b[0m\u001b[37m\u001b[0m \u001b[1m0s\u001b[0m 14ms/step - loss: 119853957120.0000 - val_loss: 84661411840.0000\n",
      "Epoch 114/300\n",
      "\u001b[1m7/7\u001b[0m \u001b[32m━━━━━━━━━━━━━━━━━━━━\u001b[0m\u001b[37m\u001b[0m \u001b[1m0s\u001b[0m 13ms/step - loss: 116667228160.0000 - val_loss: 81728053248.0000\n",
      "Epoch 115/300\n",
      "\u001b[1m7/7\u001b[0m \u001b[32m━━━━━━━━━━━━━━━━━━━━\u001b[0m\u001b[37m\u001b[0m \u001b[1m0s\u001b[0m 17ms/step - loss: 113859846144.0000 - val_loss: 79017795584.0000\n",
      "Epoch 116/300\n",
      "\u001b[1m7/7\u001b[0m \u001b[32m━━━━━━━━━━━━━━━━━━━━\u001b[0m\u001b[37m\u001b[0m \u001b[1m0s\u001b[0m 14ms/step - loss: 109019750400.0000 - val_loss: 76568027136.0000\n",
      "Epoch 117/300\n",
      "\u001b[1m7/7\u001b[0m \u001b[32m━━━━━━━━━━━━━━━━━━━━\u001b[0m\u001b[37m\u001b[0m \u001b[1m0s\u001b[0m 13ms/step - loss: 107431403520.0000 - val_loss: 74302955520.0000\n",
      "Epoch 118/300\n",
      "\u001b[1m7/7\u001b[0m \u001b[32m━━━━━━━━━━━━━━━━━━━━\u001b[0m\u001b[37m\u001b[0m \u001b[1m0s\u001b[0m 16ms/step - loss: 103526785024.0000 - val_loss: 72232280064.0000\n",
      "Epoch 119/300\n",
      "\u001b[1m7/7\u001b[0m \u001b[32m━━━━━━━━━━━━━━━━━━━━\u001b[0m\u001b[37m\u001b[0m \u001b[1m0s\u001b[0m 16ms/step - loss: 101599158272.0000 - val_loss: 70340608000.0000\n",
      "Epoch 120/300\n",
      "\u001b[1m7/7\u001b[0m \u001b[32m━━━━━━━━━━━━━━━━━━━━\u001b[0m\u001b[37m\u001b[0m \u001b[1m0s\u001b[0m 13ms/step - loss: 99470802944.0000 - val_loss: 68603748352.0000\n",
      "Epoch 121/300\n",
      "\u001b[1m7/7\u001b[0m \u001b[32m━━━━━━━━━━━━━━━━━━━━\u001b[0m\u001b[37m\u001b[0m \u001b[1m0s\u001b[0m 15ms/step - loss: 97505304576.0000 - val_loss: 67057979392.0000\n",
      "Epoch 122/300\n",
      "\u001b[1m7/7\u001b[0m \u001b[32m━━━━━━━━━━━━━━━━━━━━\u001b[0m\u001b[37m\u001b[0m \u001b[1m0s\u001b[0m 16ms/step - loss: 95479177216.0000 - val_loss: 65689268224.0000\n",
      "Epoch 123/300\n",
      "\u001b[1m7/7\u001b[0m \u001b[32m━━━━━━━━━━━━━━━━━━━━\u001b[0m\u001b[37m\u001b[0m \u001b[1m0s\u001b[0m 17ms/step - loss: 93813866496.0000 - val_loss: 64420880384.0000\n",
      "Epoch 124/300\n",
      "\u001b[1m7/7\u001b[0m \u001b[32m━━━━━━━━━━━━━━━━━━━━\u001b[0m\u001b[37m\u001b[0m \u001b[1m0s\u001b[0m 16ms/step - loss: 92267249664.0000 - val_loss: 63378800640.0000\n",
      "Epoch 125/300\n",
      "\u001b[1m7/7\u001b[0m \u001b[32m━━━━━━━━━━━━━━━━━━━━\u001b[0m\u001b[37m\u001b[0m \u001b[1m0s\u001b[0m 14ms/step - loss: 90403389440.0000 - val_loss: 62470918144.0000\n",
      "Epoch 126/300\n",
      "\u001b[1m7/7\u001b[0m \u001b[32m━━━━━━━━━━━━━━━━━━━━\u001b[0m\u001b[37m\u001b[0m \u001b[1m0s\u001b[0m 14ms/step - loss: 88482340864.0000 - val_loss: 61661999104.0000\n",
      "Epoch 127/300\n",
      "\u001b[1m7/7\u001b[0m \u001b[32m━━━━━━━━━━━━━━━━━━━━\u001b[0m\u001b[37m\u001b[0m \u001b[1m0s\u001b[0m 13ms/step - loss: 88150261760.0000 - val_loss: 61003415552.0000\n",
      "Epoch 128/300\n",
      "\u001b[1m7/7\u001b[0m \u001b[32m━━━━━━━━━━━━━━━━━━━━\u001b[0m\u001b[37m\u001b[0m \u001b[1m0s\u001b[0m 13ms/step - loss: 86517293056.0000 - val_loss: 60457385984.0000\n",
      "Epoch 129/300\n",
      "\u001b[1m7/7\u001b[0m \u001b[32m━━━━━━━━━━━━━━━━━━━━\u001b[0m\u001b[37m\u001b[0m \u001b[1m0s\u001b[0m 15ms/step - loss: 85907718144.0000 - val_loss: 60015509504.0000\n",
      "Epoch 130/300\n",
      "\u001b[1m7/7\u001b[0m \u001b[32m━━━━━━━━━━━━━━━━━━━━\u001b[0m\u001b[37m\u001b[0m \u001b[1m0s\u001b[0m 15ms/step - loss: 85981102080.0000 - val_loss: 59667726336.0000\n",
      "Epoch 131/300\n",
      "\u001b[1m7/7\u001b[0m \u001b[32m━━━━━━━━━━━━━━━━━━━━\u001b[0m\u001b[37m\u001b[0m \u001b[1m0s\u001b[0m 15ms/step - loss: 83375456256.0000 - val_loss: 59381837824.0000\n",
      "Epoch 132/300\n",
      "\u001b[1m7/7\u001b[0m \u001b[32m━━━━━━━━━━━━━━━━━━━━\u001b[0m\u001b[37m\u001b[0m \u001b[1m0s\u001b[0m 15ms/step - loss: 84898283520.0000 - val_loss: 59141730304.0000\n",
      "Epoch 133/300\n",
      "\u001b[1m7/7\u001b[0m \u001b[32m━━━━━━━━━━━━━━━━━━━━\u001b[0m\u001b[37m\u001b[0m \u001b[1m0s\u001b[0m 16ms/step - loss: 83631759360.0000 - val_loss: 58926399488.0000\n",
      "Epoch 134/300\n",
      "\u001b[1m7/7\u001b[0m \u001b[32m━━━━━━━━━━━━━━━━━━━━\u001b[0m\u001b[37m\u001b[0m \u001b[1m0s\u001b[0m 16ms/step - loss: 82563858432.0000 - val_loss: 58778230784.0000\n",
      "Epoch 135/300\n",
      "\u001b[1m7/7\u001b[0m \u001b[32m━━━━━━━━━━━━━━━━━━━━\u001b[0m\u001b[37m\u001b[0m \u001b[1m0s\u001b[0m 13ms/step - loss: 83192512512.0000 - val_loss: 58648424448.0000\n",
      "Epoch 136/300\n",
      "\u001b[1m7/7\u001b[0m \u001b[32m━━━━━━━━━━━━━━━━━━━━\u001b[0m\u001b[37m\u001b[0m \u001b[1m0s\u001b[0m 14ms/step - loss: 83176751104.0000 - val_loss: 58532757504.0000\n",
      "Epoch 137/300\n",
      "\u001b[1m7/7\u001b[0m \u001b[32m━━━━━━━━━━━━━━━━━━━━\u001b[0m\u001b[37m\u001b[0m \u001b[1m0s\u001b[0m 12ms/step - loss: 82148483072.0000 - val_loss: 58453790720.0000\n",
      "Epoch 138/300\n",
      "\u001b[1m7/7\u001b[0m \u001b[32m━━━━━━━━━━━━━━━━━━━━\u001b[0m\u001b[37m\u001b[0m \u001b[1m0s\u001b[0m 16ms/step - loss: 82639593472.0000 - val_loss: 58390122496.0000\n",
      "Epoch 139/300\n",
      "\u001b[1m7/7\u001b[0m \u001b[32m━━━━━━━━━━━━━━━━━━━━\u001b[0m\u001b[37m\u001b[0m \u001b[1m0s\u001b[0m 16ms/step - loss: 80794042368.0000 - val_loss: 58343559168.0000\n",
      "Epoch 140/300\n",
      "\u001b[1m7/7\u001b[0m \u001b[32m━━━━━━━━━━━━━━━━━━━━\u001b[0m\u001b[37m\u001b[0m \u001b[1m0s\u001b[0m 17ms/step - loss: 80597073920.0000 - val_loss: 58319536128.0000\n",
      "Epoch 141/300\n",
      "\u001b[1m7/7\u001b[0m \u001b[32m━━━━━━━━━━━━━━━━━━━━\u001b[0m\u001b[37m\u001b[0m \u001b[1m0s\u001b[0m 16ms/step - loss: 82319499264.0000 - val_loss: 58280402944.0000\n",
      "Epoch 142/300\n",
      "\u001b[1m7/7\u001b[0m \u001b[32m━━━━━━━━━━━━━━━━━━━━\u001b[0m\u001b[37m\u001b[0m \u001b[1m0s\u001b[0m 16ms/step - loss: 80275914752.0000 - val_loss: 58243969024.0000\n",
      "Epoch 143/300\n",
      "\u001b[1m7/7\u001b[0m \u001b[32m━━━━━━━━━━━━━━━━━━━━\u001b[0m\u001b[37m\u001b[0m \u001b[1m0s\u001b[0m 15ms/step - loss: 80736657408.0000 - val_loss: 58228367360.0000\n",
      "Epoch 144/300\n",
      "\u001b[1m7/7\u001b[0m \u001b[32m━━━━━━━━━━━━━━━━━━━━\u001b[0m\u001b[37m\u001b[0m \u001b[1m0s\u001b[0m 13ms/step - loss: 80136454144.0000 - val_loss: 58221993984.0000\n",
      "Epoch 145/300\n",
      "\u001b[1m7/7\u001b[0m \u001b[32m━━━━━━━━━━━━━━━━━━━━\u001b[0m\u001b[37m\u001b[0m \u001b[1m0s\u001b[0m 16ms/step - loss: 80093749248.0000 - val_loss: 58174840832.0000\n",
      "Epoch 146/300\n",
      "\u001b[1m7/7\u001b[0m \u001b[32m━━━━━━━━━━━━━━━━━━━━\u001b[0m\u001b[37m\u001b[0m \u001b[1m0s\u001b[0m 13ms/step - loss: 80016662528.0000 - val_loss: 58142543872.0000\n",
      "Epoch 147/300\n",
      "\u001b[1m7/7\u001b[0m \u001b[32m━━━━━━━━━━━━━━━━━━━━\u001b[0m\u001b[37m\u001b[0m \u001b[1m0s\u001b[0m 13ms/step - loss: 81554685952.0000 - val_loss: 58102480896.0000\n",
      "Epoch 148/300\n",
      "\u001b[1m7/7\u001b[0m \u001b[32m━━━━━━━━━━━━━━━━━━━━\u001b[0m\u001b[37m\u001b[0m \u001b[1m0s\u001b[0m 12ms/step - loss: 81262370816.0000 - val_loss: 58066956288.0000\n",
      "Epoch 149/300\n",
      "\u001b[1m7/7\u001b[0m \u001b[32m━━━━━━━━━━━━━━━━━━━━\u001b[0m\u001b[37m\u001b[0m \u001b[1m0s\u001b[0m 17ms/step - loss: 79817269248.0000 - val_loss: 58035802112.0000\n",
      "Epoch 150/300\n",
      "\u001b[1m7/7\u001b[0m \u001b[32m━━━━━━━━━━━━━━━━━━━━\u001b[0m\u001b[37m\u001b[0m \u001b[1m0s\u001b[0m 15ms/step - loss: 78839332864.0000 - val_loss: 57976029184.0000\n",
      "Epoch 151/300\n",
      "\u001b[1m7/7\u001b[0m \u001b[32m━━━━━━━━━━━━━━━━━━━━\u001b[0m\u001b[37m\u001b[0m \u001b[1m0s\u001b[0m 14ms/step - loss: 79793127424.0000 - val_loss: 57929404416.0000\n",
      "Epoch 152/300\n",
      "\u001b[1m7/7\u001b[0m \u001b[32m━━━━━━━━━━━━━━━━━━━━\u001b[0m\u001b[37m\u001b[0m \u001b[1m0s\u001b[0m 16ms/step - loss: 78689140736.0000 - val_loss: 57908551680.0000\n",
      "Epoch 153/300\n",
      "\u001b[1m7/7\u001b[0m \u001b[32m━━━━━━━━━━━━━━━━━━━━\u001b[0m\u001b[37m\u001b[0m \u001b[1m0s\u001b[0m 16ms/step - loss: 80294780928.0000 - val_loss: 57890435072.0000\n",
      "Epoch 154/300\n",
      "\u001b[1m7/7\u001b[0m \u001b[32m━━━━━━━━━━━━━━━━━━━━\u001b[0m\u001b[37m\u001b[0m \u001b[1m0s\u001b[0m 15ms/step - loss: 78663065600.0000 - val_loss: 57828253696.0000\n",
      "Epoch 155/300\n",
      "\u001b[1m7/7\u001b[0m \u001b[32m━━━━━━━━━━━━━━━━━━━━\u001b[0m\u001b[37m\u001b[0m \u001b[1m0s\u001b[0m 13ms/step - loss: 79345639424.0000 - val_loss: 57767055360.0000\n",
      "Epoch 156/300\n",
      "\u001b[1m7/7\u001b[0m \u001b[32m━━━━━━━━━━━━━━━━━━━━\u001b[0m\u001b[37m\u001b[0m \u001b[1m0s\u001b[0m 16ms/step - loss: 79491825664.0000 - val_loss: 57734209536.0000\n",
      "Epoch 157/300\n",
      "\u001b[1m7/7\u001b[0m \u001b[32m━━━━━━━━━━━━━━━━━━━━\u001b[0m\u001b[37m\u001b[0m \u001b[1m0s\u001b[0m 15ms/step - loss: 78709776384.0000 - val_loss: 57697054720.0000\n",
      "Epoch 158/300\n",
      "\u001b[1m7/7\u001b[0m \u001b[32m━━━━━━━━━━━━━━━━━━━━\u001b[0m\u001b[37m\u001b[0m \u001b[1m0s\u001b[0m 11ms/step - loss: 79259156480.0000 - val_loss: 57700667392.0000\n",
      "Epoch 159/300\n",
      "\u001b[1m7/7\u001b[0m \u001b[32m━━━━━━━━━━━━━━━━━━━━\u001b[0m\u001b[37m\u001b[0m \u001b[1m0s\u001b[0m 15ms/step - loss: 79363645440.0000 - val_loss: 57657081856.0000\n",
      "Epoch 160/300\n",
      "\u001b[1m7/7\u001b[0m \u001b[32m━━━━━━━━━━━━━━━━━━━━\u001b[0m\u001b[37m\u001b[0m \u001b[1m0s\u001b[0m 13ms/step - loss: 77507510272.0000 - val_loss: 57634148352.0000\n",
      "Epoch 161/300\n",
      "\u001b[1m7/7\u001b[0m \u001b[32m━━━━━━━━━━━━━━━━━━━━\u001b[0m\u001b[37m\u001b[0m \u001b[1m0s\u001b[0m 15ms/step - loss: 78054465536.0000 - val_loss: 57562693632.0000\n",
      "Epoch 162/300\n",
      "\u001b[1m7/7\u001b[0m \u001b[32m━━━━━━━━━━━━━━━━━━━━\u001b[0m\u001b[37m\u001b[0m \u001b[1m0s\u001b[0m 16ms/step - loss: 78290354176.0000 - val_loss: 57530339328.0000\n",
      "Epoch 163/300\n",
      "\u001b[1m7/7\u001b[0m \u001b[32m━━━━━━━━━━━━━━━━━━━━\u001b[0m\u001b[37m\u001b[0m \u001b[1m0s\u001b[0m 17ms/step - loss: 78117994496.0000 - val_loss: 57481711616.0000\n",
      "Epoch 164/300\n",
      "\u001b[1m7/7\u001b[0m \u001b[32m━━━━━━━━━━━━━━━━━━━━\u001b[0m\u001b[37m\u001b[0m \u001b[1m0s\u001b[0m 16ms/step - loss: 77587890176.0000 - val_loss: 57460117504.0000\n",
      "Epoch 165/300\n",
      "\u001b[1m7/7\u001b[0m \u001b[32m━━━━━━━━━━━━━━━━━━━━\u001b[0m\u001b[37m\u001b[0m \u001b[1m0s\u001b[0m 14ms/step - loss: 78449704960.0000 - val_loss: 57406799872.0000\n",
      "Epoch 166/300\n",
      "\u001b[1m7/7\u001b[0m \u001b[32m━━━━━━━━━━━━━━━━━━━━\u001b[0m\u001b[37m\u001b[0m \u001b[1m0s\u001b[0m 16ms/step - loss: 78496907264.0000 - val_loss: 57389375488.0000\n",
      "Epoch 167/300\n",
      "\u001b[1m7/7\u001b[0m \u001b[32m━━━━━━━━━━━━━━━━━━━━\u001b[0m\u001b[37m\u001b[0m \u001b[1m0s\u001b[0m 13ms/step - loss: 78307639296.0000 - val_loss: 57318121472.0000\n",
      "Epoch 168/300\n",
      "\u001b[1m7/7\u001b[0m \u001b[32m━━━━━━━━━━━━━━━━━━━━\u001b[0m\u001b[37m\u001b[0m \u001b[1m0s\u001b[0m 15ms/step - loss: 78047141888.0000 - val_loss: 57237487616.0000\n",
      "Epoch 169/300\n",
      "\u001b[1m7/7\u001b[0m \u001b[32m━━━━━━━━━━━━━━━━━━━━\u001b[0m\u001b[37m\u001b[0m \u001b[1m0s\u001b[0m 14ms/step - loss: 77651738624.0000 - val_loss: 57211355136.0000\n",
      "Epoch 170/300\n",
      "\u001b[1m7/7\u001b[0m \u001b[32m━━━━━━━━━━━━━━━━━━━━\u001b[0m\u001b[37m\u001b[0m \u001b[1m0s\u001b[0m 15ms/step - loss: 79193169920.0000 - val_loss: 57147887616.0000\n",
      "Epoch 171/300\n",
      "\u001b[1m7/7\u001b[0m \u001b[32m━━━━━━━━━━━━━━━━━━━━\u001b[0m\u001b[37m\u001b[0m \u001b[1m0s\u001b[0m 15ms/step - loss: 77709049856.0000 - val_loss: 57136234496.0000\n",
      "Epoch 172/300\n",
      "\u001b[1m7/7\u001b[0m \u001b[32m━━━━━━━━━━━━━━━━━━━━\u001b[0m\u001b[37m\u001b[0m \u001b[1m0s\u001b[0m 15ms/step - loss: 77739016192.0000 - val_loss: 57115668480.0000\n",
      "Epoch 173/300\n",
      "\u001b[1m7/7\u001b[0m \u001b[32m━━━━━━━━━━━━━━━━━━━━\u001b[0m\u001b[37m\u001b[0m \u001b[1m0s\u001b[0m 15ms/step - loss: 76624068608.0000 - val_loss: 57087995904.0000\n",
      "Epoch 174/300\n",
      "\u001b[1m7/7\u001b[0m \u001b[32m━━━━━━━━━━━━━━━━━━━━\u001b[0m\u001b[37m\u001b[0m \u001b[1m0s\u001b[0m 11ms/step - loss: 77508689920.0000 - val_loss: 57096069120.0000\n",
      "Epoch 175/300\n",
      "\u001b[1m7/7\u001b[0m \u001b[32m━━━━━━━━━━━━━━━━━━━━\u001b[0m\u001b[37m\u001b[0m \u001b[1m0s\u001b[0m 13ms/step - loss: 77572939776.0000 - val_loss: 57071124480.0000\n",
      "Epoch 176/300\n",
      "\u001b[1m7/7\u001b[0m \u001b[32m━━━━━━━━━━━━━━━━━━━━\u001b[0m\u001b[37m\u001b[0m \u001b[1m0s\u001b[0m 11ms/step - loss: 77334175744.0000 - val_loss: 57077829632.0000\n",
      "Epoch 177/300\n",
      "\u001b[1m7/7\u001b[0m \u001b[32m━━━━━━━━━━━━━━━━━━━━\u001b[0m\u001b[37m\u001b[0m \u001b[1m0s\u001b[0m 16ms/step - loss: 77513957376.0000 - val_loss: 57035276288.0000\n",
      "Epoch 178/300\n",
      "\u001b[1m7/7\u001b[0m \u001b[32m━━━━━━━━━━━━━━━━━━━━\u001b[0m\u001b[37m\u001b[0m \u001b[1m0s\u001b[0m 15ms/step - loss: 77137682432.0000 - val_loss: 56978804736.0000\n",
      "Epoch 179/300\n",
      "\u001b[1m7/7\u001b[0m \u001b[32m━━━━━━━━━━━━━━━━━━━━\u001b[0m\u001b[37m\u001b[0m \u001b[1m0s\u001b[0m 15ms/step - loss: 77705322496.0000 - val_loss: 56928653312.0000\n",
      "Epoch 180/300\n",
      "\u001b[1m7/7\u001b[0m \u001b[32m━━━━━━━━━━━━━━━━━━━━\u001b[0m\u001b[37m\u001b[0m \u001b[1m0s\u001b[0m 11ms/step - loss: 77598523392.0000 - val_loss: 56929050624.0000\n",
      "Epoch 181/300\n",
      "\u001b[1m7/7\u001b[0m \u001b[32m━━━━━━━━━━━━━━━━━━━━\u001b[0m\u001b[37m\u001b[0m \u001b[1m0s\u001b[0m 14ms/step - loss: 77388898304.0000 - val_loss: 56883523584.0000\n",
      "Epoch 182/300\n",
      "\u001b[1m7/7\u001b[0m \u001b[32m━━━━━━━━━━━━━━━━━━━━\u001b[0m\u001b[37m\u001b[0m \u001b[1m0s\u001b[0m 15ms/step - loss: 76728492032.0000 - val_loss: 56872722432.0000\n",
      "Epoch 183/300\n",
      "\u001b[1m7/7\u001b[0m \u001b[32m━━━━━━━━━━━━━━━━━━━━\u001b[0m\u001b[37m\u001b[0m \u001b[1m0s\u001b[0m 10ms/step - loss: 76451987456.0000 - val_loss: 56890228736.0000\n",
      "Epoch 184/300\n",
      "\u001b[1m7/7\u001b[0m \u001b[32m━━━━━━━━━━━━━━━━━━━━\u001b[0m\u001b[37m\u001b[0m \u001b[1m0s\u001b[0m 15ms/step - loss: 77780967424.0000 - val_loss: 56866156544.0000\n",
      "Epoch 185/300\n",
      "\u001b[1m7/7\u001b[0m \u001b[32m━━━━━━━━━━━━━━━━━━━━\u001b[0m\u001b[37m\u001b[0m \u001b[1m0s\u001b[0m 12ms/step - loss: 76781223936.0000 - val_loss: 56850092032.0000\n",
      "Epoch 186/300\n",
      "\u001b[1m7/7\u001b[0m \u001b[32m━━━━━━━━━━━━━━━━━━━━\u001b[0m\u001b[37m\u001b[0m \u001b[1m0s\u001b[0m 12ms/step - loss: 76640591872.0000 - val_loss: 56789499904.0000\n",
      "Epoch 187/300\n",
      "\u001b[1m7/7\u001b[0m \u001b[32m━━━━━━━━━━━━━━━━━━━━\u001b[0m\u001b[37m\u001b[0m \u001b[1m0s\u001b[0m 14ms/step - loss: 76455501824.0000 - val_loss: 56764592128.0000\n",
      "Epoch 188/300\n",
      "\u001b[1m7/7\u001b[0m \u001b[32m━━━━━━━━━━━━━━━━━━━━\u001b[0m\u001b[37m\u001b[0m \u001b[1m0s\u001b[0m 15ms/step - loss: 76401262592.0000 - val_loss: 56749789184.0000\n",
      "Epoch 189/300\n",
      "\u001b[1m7/7\u001b[0m \u001b[32m━━━━━━━━━━━━━━━━━━━━\u001b[0m\u001b[37m\u001b[0m \u001b[1m0s\u001b[0m 15ms/step - loss: 75512569856.0000 - val_loss: 56715833344.0000\n",
      "Epoch 190/300\n",
      "\u001b[1m7/7\u001b[0m \u001b[32m━━━━━━━━━━━━━━━━━━━━\u001b[0m\u001b[37m\u001b[0m \u001b[1m0s\u001b[0m 17ms/step - loss: 76176990208.0000 - val_loss: 56689205248.0000\n",
      "Epoch 191/300\n",
      "\u001b[1m7/7\u001b[0m \u001b[32m━━━━━━━━━━━━━━━━━━━━\u001b[0m\u001b[37m\u001b[0m \u001b[1m0s\u001b[0m 15ms/step - loss: 75737702400.0000 - val_loss: 56676900864.0000\n",
      "Epoch 192/300\n",
      "\u001b[1m7/7\u001b[0m \u001b[32m━━━━━━━━━━━━━━━━━━━━\u001b[0m\u001b[37m\u001b[0m \u001b[1m0s\u001b[0m 16ms/step - loss: 76643459072.0000 - val_loss: 56663207936.0000\n",
      "Epoch 193/300\n",
      "\u001b[1m7/7\u001b[0m \u001b[32m━━━━━━━━━━━━━━━━━━━━\u001b[0m\u001b[37m\u001b[0m \u001b[1m0s\u001b[0m 15ms/step - loss: 76693209088.0000 - val_loss: 56590045184.0000\n",
      "Epoch 194/300\n",
      "\u001b[1m7/7\u001b[0m \u001b[32m━━━━━━━━━━━━━━━━━━━━\u001b[0m\u001b[37m\u001b[0m \u001b[1m0s\u001b[0m 13ms/step - loss: 75608850432.0000 - val_loss: 56586088448.0000\n",
      "Epoch 195/300\n",
      "\u001b[1m7/7\u001b[0m \u001b[32m━━━━━━━━━━━━━━━━━━━━\u001b[0m\u001b[37m\u001b[0m \u001b[1m0s\u001b[0m 15ms/step - loss: 75672748032.0000 - val_loss: 56539037696.0000\n",
      "Epoch 196/300\n",
      "\u001b[1m7/7\u001b[0m \u001b[32m━━━━━━━━━━━━━━━━━━━━\u001b[0m\u001b[37m\u001b[0m \u001b[1m0s\u001b[0m 16ms/step - loss: 74732691456.0000 - val_loss: 56473739264.0000\n",
      "Epoch 197/300\n",
      "\u001b[1m7/7\u001b[0m \u001b[32m━━━━━━━━━━━━━━━━━━━━\u001b[0m\u001b[37m\u001b[0m \u001b[1m0s\u001b[0m 13ms/step - loss: 75470766080.0000 - val_loss: 56442318848.0000\n",
      "Epoch 198/300\n",
      "\u001b[1m7/7\u001b[0m \u001b[32m━━━━━━━━━━━━━━━━━━━━\u001b[0m\u001b[37m\u001b[0m \u001b[1m0s\u001b[0m 9ms/step - loss: 76793954304.0000 - val_loss: 56467718144.0000\n",
      "Epoch 199/300\n",
      "\u001b[1m7/7\u001b[0m \u001b[32m━━━━━━━━━━━━━━━━━━━━\u001b[0m\u001b[37m\u001b[0m \u001b[1m0s\u001b[0m 11ms/step - loss: 75989909504.0000 - val_loss: 56447504384.0000\n",
      "Epoch 200/300\n",
      "\u001b[1m7/7\u001b[0m \u001b[32m━━━━━━━━━━━━━━━━━━━━\u001b[0m\u001b[37m\u001b[0m \u001b[1m0s\u001b[0m 15ms/step - loss: 75557896192.0000 - val_loss: 56434475008.0000\n",
      "Epoch 201/300\n",
      "\u001b[1m7/7\u001b[0m \u001b[32m━━━━━━━━━━━━━━━━━━━━\u001b[0m\u001b[37m\u001b[0m \u001b[1m0s\u001b[0m 15ms/step - loss: 76143108096.0000 - val_loss: 56365568000.0000\n",
      "Epoch 202/300\n",
      "\u001b[1m7/7\u001b[0m \u001b[32m━━━━━━━━━━━━━━━━━━━━\u001b[0m\u001b[37m\u001b[0m \u001b[1m0s\u001b[0m 15ms/step - loss: 75447181312.0000 - val_loss: 56318369792.0000\n",
      "Epoch 203/300\n",
      "\u001b[1m7/7\u001b[0m \u001b[32m━━━━━━━━━━━━━━━━━━━━\u001b[0m\u001b[37m\u001b[0m \u001b[1m0s\u001b[0m 16ms/step - loss: 75857559552.0000 - val_loss: 56276828160.0000\n",
      "Epoch 204/300\n",
      "\u001b[1m7/7\u001b[0m \u001b[32m━━━━━━━━━━━━━━━━━━━━\u001b[0m\u001b[37m\u001b[0m \u001b[1m0s\u001b[0m 16ms/step - loss: 75797094400.0000 - val_loss: 56266080256.0000\n",
      "Epoch 205/300\n",
      "\u001b[1m7/7\u001b[0m \u001b[32m━━━━━━━━━━━━━━━━━━━━\u001b[0m\u001b[37m\u001b[0m \u001b[1m0s\u001b[0m 15ms/step - loss: 76578889728.0000 - val_loss: 56192536576.0000\n",
      "Epoch 206/300\n",
      "\u001b[1m7/7\u001b[0m \u001b[32m━━━━━━━━━━━━━━━━━━━━\u001b[0m\u001b[37m\u001b[0m \u001b[1m0s\u001b[0m 12ms/step - loss: 75695316992.0000 - val_loss: 56150982656.0000\n",
      "Epoch 207/300\n",
      "\u001b[1m7/7\u001b[0m \u001b[32m━━━━━━━━━━━━━━━━━━━━\u001b[0m\u001b[37m\u001b[0m \u001b[1m0s\u001b[0m 13ms/step - loss: 75535630336.0000 - val_loss: 56125771776.0000\n",
      "Epoch 208/300\n",
      "\u001b[1m7/7\u001b[0m \u001b[32m━━━━━━━━━━━━━━━━━━━━\u001b[0m\u001b[37m\u001b[0m \u001b[1m0s\u001b[0m 15ms/step - loss: 74803011584.0000 - val_loss: 56109064192.0000\n",
      "Epoch 209/300\n",
      "\u001b[1m7/7\u001b[0m \u001b[32m━━━━━━━━━━━━━━━━━━━━\u001b[0m\u001b[37m\u001b[0m \u001b[1m0s\u001b[0m 10ms/step - loss: 75149860864.0000 - val_loss: 56127021056.0000\n",
      "Epoch 210/300\n",
      "\u001b[1m7/7\u001b[0m \u001b[32m━━━━━━━━━━━━━━━━━━━━\u001b[0m\u001b[37m\u001b[0m \u001b[1m0s\u001b[0m 16ms/step - loss: 75143938048.0000 - val_loss: 56069402624.0000\n",
      "Epoch 211/300\n",
      "\u001b[1m7/7\u001b[0m \u001b[32m━━━━━━━━━━━━━━━━━━━━\u001b[0m\u001b[37m\u001b[0m \u001b[1m0s\u001b[0m 16ms/step - loss: 75930730496.0000 - val_loss: 56042250240.0000\n",
      "Epoch 212/300\n",
      "\u001b[1m7/7\u001b[0m \u001b[32m━━━━━━━━━━━━━━━━━━━━\u001b[0m\u001b[37m\u001b[0m \u001b[1m0s\u001b[0m 11ms/step - loss: 75208720384.0000 - val_loss: 56071659520.0000\n",
      "Epoch 213/300\n",
      "\u001b[1m7/7\u001b[0m \u001b[32m━━━━━━━━━━━━━━━━━━━━\u001b[0m\u001b[37m\u001b[0m \u001b[1m0s\u001b[0m 12ms/step - loss: 75202347008.0000 - val_loss: 56031584256.0000\n",
      "Epoch 214/300\n",
      "\u001b[1m7/7\u001b[0m \u001b[32m━━━━━━━━━━━━━━━━━━━━\u001b[0m\u001b[37m\u001b[0m \u001b[1m0s\u001b[0m 14ms/step - loss: 75159724032.0000 - val_loss: 56014389248.0000\n",
      "Epoch 215/300\n",
      "\u001b[1m7/7\u001b[0m \u001b[32m━━━━━━━━━━━━━━━━━━━━\u001b[0m\u001b[37m\u001b[0m \u001b[1m0s\u001b[0m 15ms/step - loss: 74679812096.0000 - val_loss: 56003653632.0000\n",
      "Epoch 216/300\n",
      "\u001b[1m7/7\u001b[0m \u001b[32m━━━━━━━━━━━━━━━━━━━━\u001b[0m\u001b[37m\u001b[0m \u001b[1m0s\u001b[0m 15ms/step - loss: 75298414592.0000 - val_loss: 55979761664.0000\n",
      "Epoch 217/300\n",
      "\u001b[1m7/7\u001b[0m \u001b[32m━━━━━━━━━━━━━━━━━━━━\u001b[0m\u001b[37m\u001b[0m \u001b[1m0s\u001b[0m 14ms/step - loss: 75394916352.0000 - val_loss: 55931375616.0000\n",
      "Epoch 218/300\n",
      "\u001b[1m7/7\u001b[0m \u001b[32m━━━━━━━━━━━━━━━━━━━━\u001b[0m\u001b[37m\u001b[0m \u001b[1m0s\u001b[0m 12ms/step - loss: 75156307968.0000 - val_loss: 55957258240.0000\n",
      "Epoch 219/300\n",
      "\u001b[1m7/7\u001b[0m \u001b[32m━━━━━━━━━━━━━━━━━━━━\u001b[0m\u001b[37m\u001b[0m \u001b[1m0s\u001b[0m 11ms/step - loss: 74684416000.0000 - val_loss: 55997046784.0000\n",
      "Epoch 220/300\n",
      "\u001b[1m7/7\u001b[0m \u001b[32m━━━━━━━━━━━━━━━━━━━━\u001b[0m\u001b[37m\u001b[0m \u001b[1m0s\u001b[0m 11ms/step - loss: 74698661888.0000 - val_loss: 55990079488.0000\n",
      "Epoch 221/300\n",
      "\u001b[1m7/7\u001b[0m \u001b[32m━━━━━━━━━━━━━━━━━━━━\u001b[0m\u001b[37m\u001b[0m \u001b[1m0s\u001b[0m 12ms/step - loss: 74849443840.0000 - val_loss: 55994232832.0000\n",
      "Epoch 222/300\n",
      "\u001b[1m7/7\u001b[0m \u001b[32m━━━━━━━━━━━━━━━━━━━━\u001b[0m\u001b[37m\u001b[0m \u001b[1m0s\u001b[0m 12ms/step - loss: 75362369536.0000 - val_loss: 55954067456.0000\n",
      "Epoch 223/300\n",
      "\u001b[1m7/7\u001b[0m \u001b[32m━━━━━━━━━━━━━━━━━━━━\u001b[0m\u001b[37m\u001b[0m \u001b[1m0s\u001b[0m 11ms/step - loss: 74608582656.0000 - val_loss: 55933874176.0000\n",
      "Epoch 224/300\n",
      "\u001b[1m7/7\u001b[0m \u001b[32m━━━━━━━━━━━━━━━━━━━━\u001b[0m\u001b[37m\u001b[0m \u001b[1m0s\u001b[0m 15ms/step - loss: 74841022464.0000 - val_loss: 55924228096.0000\n",
      "Epoch 225/300\n",
      "\u001b[1m7/7\u001b[0m \u001b[32m━━━━━━━━━━━━━━━━━━━━\u001b[0m\u001b[37m\u001b[0m \u001b[1m0s\u001b[0m 16ms/step - loss: 73612328960.0000 - val_loss: 55910555648.0000\n",
      "Epoch 226/300\n",
      "\u001b[1m7/7\u001b[0m \u001b[32m━━━━━━━━━━━━━━━━━━━━\u001b[0m\u001b[37m\u001b[0m \u001b[1m0s\u001b[0m 16ms/step - loss: 74884513792.0000 - val_loss: 55897382912.0000\n",
      "Epoch 227/300\n",
      "\u001b[1m7/7\u001b[0m \u001b[32m━━━━━━━━━━━━━━━━━━━━\u001b[0m\u001b[37m\u001b[0m \u001b[1m0s\u001b[0m 13ms/step - loss: 74751950848.0000 - val_loss: 55878004736.0000\n",
      "Epoch 228/300\n",
      "\u001b[1m7/7\u001b[0m \u001b[32m━━━━━━━━━━━━━━━━━━━━\u001b[0m\u001b[37m\u001b[0m \u001b[1m0s\u001b[0m 11ms/step - loss: 74326450176.0000 - val_loss: 55894839296.0000\n",
      "Epoch 229/300\n",
      "\u001b[1m7/7\u001b[0m \u001b[32m━━━━━━━━━━━━━━━━━━━━\u001b[0m\u001b[37m\u001b[0m \u001b[1m0s\u001b[0m 11ms/step - loss: 74656153600.0000 - val_loss: 55906594816.0000\n",
      "Epoch 230/300\n",
      "\u001b[1m7/7\u001b[0m \u001b[32m━━━━━━━━━━━━━━━━━━━━\u001b[0m\u001b[37m\u001b[0m \u001b[1m0s\u001b[0m 13ms/step - loss: 73727434752.0000 - val_loss: 55855833088.0000\n",
      "Epoch 231/300\n",
      "\u001b[1m7/7\u001b[0m \u001b[32m━━━━━━━━━━━━━━━━━━━━\u001b[0m\u001b[37m\u001b[0m \u001b[1m0s\u001b[0m 15ms/step - loss: 74419134464.0000 - val_loss: 55806017536.0000\n",
      "Epoch 232/300\n",
      "\u001b[1m7/7\u001b[0m \u001b[32m━━━━━━━━━━━━━━━━━━━━\u001b[0m\u001b[37m\u001b[0m \u001b[1m0s\u001b[0m 17ms/step - loss: 75374182400.0000 - val_loss: 55742537728.0000\n",
      "Epoch 233/300\n",
      "\u001b[1m7/7\u001b[0m \u001b[32m━━━━━━━━━━━━━━━━━━━━\u001b[0m\u001b[37m\u001b[0m \u001b[1m0s\u001b[0m 11ms/step - loss: 74370097152.0000 - val_loss: 55766622208.0000\n",
      "Epoch 234/300\n",
      "\u001b[1m7/7\u001b[0m \u001b[32m━━━━━━━━━━━━━━━━━━━━\u001b[0m\u001b[37m\u001b[0m \u001b[1m0s\u001b[0m 8ms/step - loss: 73832497152.0000 - val_loss: 55768944640.0000\n",
      "Epoch 235/300\n",
      "\u001b[1m7/7\u001b[0m \u001b[32m━━━━━━━━━━━━━━━━━━━━\u001b[0m\u001b[37m\u001b[0m \u001b[1m0s\u001b[0m 9ms/step - loss: 74301243392.0000 - val_loss: 55770353664.0000\n",
      "Epoch 236/300\n",
      "\u001b[1m7/7\u001b[0m \u001b[32m━━━━━━━━━━━━━━━━━━━━\u001b[0m\u001b[37m\u001b[0m \u001b[1m0s\u001b[0m 10ms/step - loss: 74817257472.0000 - val_loss: 55768629248.0000\n",
      "Epoch 237/300\n",
      "\u001b[1m7/7\u001b[0m \u001b[32m━━━━━━━━━━━━━━━━━━━━\u001b[0m\u001b[37m\u001b[0m \u001b[1m0s\u001b[0m 11ms/step - loss: 73955639296.0000 - val_loss: 55747264512.0000\n",
      "Epoch 238/300\n",
      "\u001b[1m7/7\u001b[0m \u001b[32m━━━━━━━━━━━━━━━━━━━━\u001b[0m\u001b[37m\u001b[0m \u001b[1m0s\u001b[0m 11ms/step - loss: 74336665600.0000 - val_loss: 55760592896.0000\n",
      "Epoch 239/300\n",
      "\u001b[1m7/7\u001b[0m \u001b[32m━━━━━━━━━━━━━━━━━━━━\u001b[0m\u001b[37m\u001b[0m \u001b[1m0s\u001b[0m 17ms/step - loss: 74679771136.0000 - val_loss: 55726546944.0000\n",
      "Epoch 240/300\n",
      "\u001b[1m7/7\u001b[0m \u001b[32m━━━━━━━━━━━━━━━━━━━━\u001b[0m\u001b[37m\u001b[0m \u001b[1m0s\u001b[0m 15ms/step - loss: 73451986944.0000 - val_loss: 55645650944.0000\n",
      "Epoch 241/300\n",
      "\u001b[1m7/7\u001b[0m \u001b[32m━━━━━━━━━━━━━━━━━━━━\u001b[0m\u001b[37m\u001b[0m \u001b[1m0s\u001b[0m 15ms/step - loss: 73765871616.0000 - val_loss: 55614623744.0000\n",
      "Epoch 242/300\n",
      "\u001b[1m7/7\u001b[0m \u001b[32m━━━━━━━━━━━━━━━━━━━━\u001b[0m\u001b[37m\u001b[0m \u001b[1m0s\u001b[0m 11ms/step - loss: 73710518272.0000 - val_loss: 55638781952.0000\n",
      "Epoch 243/300\n",
      "\u001b[1m7/7\u001b[0m \u001b[32m━━━━━━━━━━━━━━━━━━━━\u001b[0m\u001b[37m\u001b[0m \u001b[1m0s\u001b[0m 11ms/step - loss: 73349185536.0000 - val_loss: 55658004480.0000\n",
      "Epoch 244/300\n",
      "\u001b[1m7/7\u001b[0m \u001b[32m━━━━━━━━━━━━━━━━━━━━\u001b[0m\u001b[37m\u001b[0m \u001b[1m0s\u001b[0m 10ms/step - loss: 74067107840.0000 - val_loss: 55654850560.0000\n",
      "Epoch 245/300\n",
      "\u001b[1m7/7\u001b[0m \u001b[32m━━━━━━━━━━━━━━━━━━━━\u001b[0m\u001b[37m\u001b[0m \u001b[1m0s\u001b[0m 10ms/step - loss: 74347241472.0000 - val_loss: 55619260416.0000\n",
      "Epoch 246/300\n",
      "\u001b[1m7/7\u001b[0m \u001b[32m━━━━━━━━━━━━━━━━━━━━\u001b[0m\u001b[37m\u001b[0m \u001b[1m0s\u001b[0m 11ms/step - loss: 73989963776.0000 - val_loss: 55641362432.0000\n",
      "Epoch 247/300\n",
      "\u001b[1m7/7\u001b[0m \u001b[32m━━━━━━━━━━━━━━━━━━━━\u001b[0m\u001b[37m\u001b[0m \u001b[1m0s\u001b[0m 11ms/step - loss: 74304634880.0000 - val_loss: 55661228032.0000\n",
      "Epoch 248/300\n",
      "\u001b[1m7/7\u001b[0m \u001b[32m━━━━━━━━━━━━━━━━━━━━\u001b[0m\u001b[37m\u001b[0m \u001b[1m0s\u001b[0m 9ms/step - loss: 73964814336.0000 - val_loss: 55636508672.0000\n",
      "Epoch 249/300\n",
      "\u001b[1m7/7\u001b[0m \u001b[32m━━━━━━━━━━━━━━━━━━━━\u001b[0m\u001b[37m\u001b[0m \u001b[1m0s\u001b[0m 11ms/step - loss: 73770491904.0000 - val_loss: 55654969344.0000\n",
      "Epoch 250/300\n",
      "\u001b[1m7/7\u001b[0m \u001b[32m━━━━━━━━━━━━━━━━━━━━\u001b[0m\u001b[37m\u001b[0m \u001b[1m0s\u001b[0m 10ms/step - loss: 73556951040.0000 - val_loss: 55662784512.0000\n",
      "Epoch 251/300\n",
      "\u001b[1m7/7\u001b[0m \u001b[32m━━━━━━━━━━━━━━━━━━━━\u001b[0m\u001b[37m\u001b[0m \u001b[1m0s\u001b[0m 10ms/step - loss: 74004193280.0000 - val_loss: 55651225600.0000\n",
      "Epoch 252/300\n",
      "\u001b[1m7/7\u001b[0m \u001b[32m━━━━━━━━━━━━━━━━━━━━\u001b[0m\u001b[37m\u001b[0m \u001b[1m0s\u001b[0m 10ms/step - loss: 74857594880.0000 - val_loss: 55615537152.0000\n",
      "Epoch 253/300\n",
      "\u001b[1m7/7\u001b[0m \u001b[32m━━━━━━━━━━━━━━━━━━━━\u001b[0m\u001b[37m\u001b[0m \u001b[1m0s\u001b[0m 12ms/step - loss: 73899958272.0000 - val_loss: 55622180864.0000\n",
      "Epoch 254/300\n",
      "\u001b[1m7/7\u001b[0m \u001b[32m━━━━━━━━━━━━━━━━━━━━\u001b[0m\u001b[37m\u001b[0m \u001b[1m0s\u001b[0m 10ms/step - loss: 73845301248.0000 - val_loss: 55637028864.0000\n",
      "Epoch 255/300\n",
      "\u001b[1m7/7\u001b[0m \u001b[32m━━━━━━━━━━━━━━━━━━━━\u001b[0m\u001b[37m\u001b[0m \u001b[1m0s\u001b[0m 13ms/step - loss: 73258033152.0000 - val_loss: 55632736256.0000\n",
      "Epoch 256/300\n",
      "\u001b[1m7/7\u001b[0m \u001b[32m━━━━━━━━━━━━━━━━━━━━\u001b[0m\u001b[37m\u001b[0m \u001b[1m0s\u001b[0m 11ms/step - loss: 73044885504.0000 - val_loss: 55622541312.0000\n",
      "Epoch 257/300\n",
      "\u001b[1m7/7\u001b[0m \u001b[32m━━━━━━━━━━━━━━━━━━━━\u001b[0m\u001b[37m\u001b[0m \u001b[1m0s\u001b[0m 15ms/step - loss: 73964445696.0000 - val_loss: 55614025728.0000\n",
      "Epoch 258/300\n",
      "\u001b[1m7/7\u001b[0m \u001b[32m━━━━━━━━━━━━━━━━━━━━\u001b[0m\u001b[37m\u001b[0m \u001b[1m0s\u001b[0m 11ms/step - loss: 73008275456.0000 - val_loss: 55626375168.0000\n",
      "Epoch 259/300\n",
      "\u001b[1m7/7\u001b[0m \u001b[32m━━━━━━━━━━━━━━━━━━━━\u001b[0m\u001b[37m\u001b[0m \u001b[1m0s\u001b[0m 9ms/step - loss: 73497509888.0000 - val_loss: 55633190912.0000\n",
      "Epoch 260/300\n",
      "\u001b[1m7/7\u001b[0m \u001b[32m━━━━━━━━━━━━━━━━━━━━\u001b[0m\u001b[37m\u001b[0m \u001b[1m0s\u001b[0m 14ms/step - loss: 72890384384.0000 - val_loss: 55525605376.0000\n",
      "Epoch 261/300\n",
      "\u001b[1m7/7\u001b[0m \u001b[32m━━━━━━━━━━━━━━━━━━━━\u001b[0m\u001b[37m\u001b[0m \u001b[1m0s\u001b[0m 13ms/step - loss: 73422594048.0000 - val_loss: 55490646016.0000\n",
      "Epoch 262/300\n",
      "\u001b[1m7/7\u001b[0m \u001b[32m━━━━━━━━━━━━━━━━━━━━\u001b[0m\u001b[37m\u001b[0m \u001b[1m0s\u001b[0m 16ms/step - loss: 73354985472.0000 - val_loss: 55405289472.0000\n",
      "Epoch 263/300\n",
      "\u001b[1m7/7\u001b[0m \u001b[32m━━━━━━━━━━━━━━━━━━━━\u001b[0m\u001b[37m\u001b[0m \u001b[1m0s\u001b[0m 14ms/step - loss: 72928722944.0000 - val_loss: 55372910592.0000\n",
      "Epoch 264/300\n",
      "\u001b[1m7/7\u001b[0m \u001b[32m━━━━━━━━━━━━━━━━━━━━\u001b[0m\u001b[37m\u001b[0m \u001b[1m0s\u001b[0m 10ms/step - loss: 73507954688.0000 - val_loss: 55402835968.0000\n",
      "Epoch 265/300\n",
      "\u001b[1m7/7\u001b[0m \u001b[32m━━━━━━━━━━━━━━━━━━━━\u001b[0m\u001b[37m\u001b[0m \u001b[1m0s\u001b[0m 11ms/step - loss: 72805302272.0000 - val_loss: 55439716352.0000\n",
      "Epoch 266/300\n",
      "\u001b[1m7/7\u001b[0m \u001b[32m━━━━━━━━━━━━━━━━━━━━\u001b[0m\u001b[37m\u001b[0m \u001b[1m0s\u001b[0m 9ms/step - loss: 73232588800.0000 - val_loss: 55422734336.0000\n",
      "Epoch 267/300\n",
      "\u001b[1m7/7\u001b[0m \u001b[32m━━━━━━━━━━━━━━━━━━━━\u001b[0m\u001b[37m\u001b[0m \u001b[1m0s\u001b[0m 12ms/step - loss: 72830517248.0000 - val_loss: 55374430208.0000\n",
      "Epoch 268/300\n",
      "\u001b[1m7/7\u001b[0m \u001b[32m━━━━━━━━━━━━━━━━━━━━\u001b[0m\u001b[37m\u001b[0m \u001b[1m0s\u001b[0m 14ms/step - loss: 72948924416.0000 - val_loss: 55368220672.0000\n",
      "Epoch 269/300\n",
      "\u001b[1m7/7\u001b[0m \u001b[32m━━━━━━━━━━━━━━━━━━━━\u001b[0m\u001b[37m\u001b[0m \u001b[1m0s\u001b[0m 15ms/step - loss: 73100894208.0000 - val_loss: 55365459968.0000\n",
      "Epoch 270/300\n",
      "\u001b[1m7/7\u001b[0m \u001b[32m━━━━━━━━━━━━━━━━━━━━\u001b[0m\u001b[37m\u001b[0m \u001b[1m0s\u001b[0m 11ms/step - loss: 72980070400.0000 - val_loss: 55368044544.0000\n",
      "Epoch 271/300\n",
      "\u001b[1m7/7\u001b[0m \u001b[32m━━━━━━━━━━━━━━━━━━━━\u001b[0m\u001b[37m\u001b[0m \u001b[1m0s\u001b[0m 16ms/step - loss: 72567734272.0000 - val_loss: 55409750016.0000\n",
      "Epoch 272/300\n",
      "\u001b[1m7/7\u001b[0m \u001b[32m━━━━━━━━━━━━━━━━━━━━\u001b[0m\u001b[37m\u001b[0m \u001b[1m0s\u001b[0m 12ms/step - loss: 72671444992.0000 - val_loss: 55427866624.0000\n",
      "Epoch 273/300\n",
      "\u001b[1m7/7\u001b[0m \u001b[32m━━━━━━━━━━━━━━━━━━━━\u001b[0m\u001b[37m\u001b[0m \u001b[1m0s\u001b[0m 10ms/step - loss: 73235152896.0000 - val_loss: 55439216640.0000\n",
      "Epoch 274/300\n",
      "\u001b[1m7/7\u001b[0m \u001b[32m━━━━━━━━━━━━━━━━━━━━\u001b[0m\u001b[37m\u001b[0m \u001b[1m0s\u001b[0m 10ms/step - loss: 73331744768.0000 - val_loss: 55442173952.0000\n",
      "Epoch 275/300\n",
      "\u001b[1m7/7\u001b[0m \u001b[32m━━━━━━━━━━━━━━━━━━━━\u001b[0m\u001b[37m\u001b[0m \u001b[1m0s\u001b[0m 10ms/step - loss: 73047506944.0000 - val_loss: 55415750656.0000\n",
      "Epoch 276/300\n",
      "\u001b[1m7/7\u001b[0m \u001b[32m━━━━━━━━━━━━━━━━━━━━\u001b[0m\u001b[37m\u001b[0m \u001b[1m0s\u001b[0m 11ms/step - loss: 72901328896.0000 - val_loss: 55437332480.0000\n",
      "Epoch 277/300\n",
      "\u001b[1m7/7\u001b[0m \u001b[32m━━━━━━━━━━━━━━━━━━━━\u001b[0m\u001b[37m\u001b[0m \u001b[1m0s\u001b[0m 11ms/step - loss: 72950759424.0000 - val_loss: 55444316160.0000\n",
      "Epoch 278/300\n",
      "\u001b[1m7/7\u001b[0m \u001b[32m━━━━━━━━━━━━━━━━━━━━\u001b[0m\u001b[37m\u001b[0m \u001b[1m0s\u001b[0m 9ms/step - loss: 72543199232.0000 - val_loss: 55423758336.0000\n",
      "Epoch 279/300\n",
      "\u001b[1m7/7\u001b[0m \u001b[32m━━━━━━━━━━━━━━━━━━━━\u001b[0m\u001b[37m\u001b[0m \u001b[1m0s\u001b[0m 9ms/step - loss: 73141624832.0000 - val_loss: 55396806656.0000\n",
      "Epoch 280/300\n",
      "\u001b[1m7/7\u001b[0m \u001b[32m━━━━━━━━━━━━━━━━━━━━\u001b[0m\u001b[37m\u001b[0m \u001b[1m0s\u001b[0m 11ms/step - loss: 72590196736.0000 - val_loss: 55373307904.0000\n",
      "Epoch 281/300\n",
      "\u001b[1m7/7\u001b[0m \u001b[32m━━━━━━━━━━━━━━━━━━━━\u001b[0m\u001b[37m\u001b[0m \u001b[1m0s\u001b[0m 10ms/step - loss: 72395390976.0000 - val_loss: 55365898240.0000\n",
      "Epoch 282/300\n",
      "\u001b[1m7/7\u001b[0m \u001b[32m━━━━━━━━━━━━━━━━━━━━\u001b[0m\u001b[37m\u001b[0m \u001b[1m0s\u001b[0m 29ms/step - loss: 73016082432.0000 - val_loss: 55331811328.0000\n",
      "Epoch 283/300\n",
      "\u001b[1m7/7\u001b[0m \u001b[32m━━━━━━━━━━━━━━━━━━━━\u001b[0m\u001b[37m\u001b[0m \u001b[1m0s\u001b[0m 11ms/step - loss: 72623783936.0000 - val_loss: 55338270720.0000\n",
      "Epoch 284/300\n",
      "\u001b[1m7/7\u001b[0m \u001b[32m━━━━━━━━━━━━━━━━━━━━\u001b[0m\u001b[37m\u001b[0m \u001b[1m0s\u001b[0m 9ms/step - loss: 71930486784.0000 - val_loss: 55355019264.0000\n",
      "Epoch 285/300\n",
      "\u001b[1m7/7\u001b[0m \u001b[32m━━━━━━━━━━━━━━━━━━━━\u001b[0m\u001b[37m\u001b[0m \u001b[1m0s\u001b[0m 10ms/step - loss: 72579571712.0000 - val_loss: 55347859456.0000\n",
      "Epoch 286/300\n",
      "\u001b[1m7/7\u001b[0m \u001b[32m━━━━━━━━━━━━━━━━━━━━\u001b[0m\u001b[37m\u001b[0m \u001b[1m0s\u001b[0m 15ms/step - loss: 72961548288.0000 - val_loss: 55323549696.0000\n",
      "Epoch 287/300\n",
      "\u001b[1m7/7\u001b[0m \u001b[32m━━━━━━━━━━━━━━━━━━━━\u001b[0m\u001b[37m\u001b[0m \u001b[1m0s\u001b[0m 11ms/step - loss: 72912101376.0000 - val_loss: 55348817920.0000\n",
      "Epoch 288/300\n",
      "\u001b[1m7/7\u001b[0m \u001b[32m━━━━━━━━━━━━━━━━━━━━\u001b[0m\u001b[37m\u001b[0m \u001b[1m0s\u001b[0m 16ms/step - loss: 72959156224.0000 - val_loss: 55297150976.0000\n",
      "Epoch 289/300\n",
      "\u001b[1m7/7\u001b[0m \u001b[32m━━━━━━━━━━━━━━━━━━━━\u001b[0m\u001b[37m\u001b[0m \u001b[1m0s\u001b[0m 13ms/step - loss: 72877596672.0000 - val_loss: 55322624000.0000\n",
      "Epoch 290/300\n",
      "\u001b[1m7/7\u001b[0m \u001b[32m━━━━━━━━━━━━━━━━━━━━\u001b[0m\u001b[37m\u001b[0m \u001b[1m0s\u001b[0m 10ms/step - loss: 72698929152.0000 - val_loss: 55314894848.0000\n",
      "Epoch 291/300\n",
      "\u001b[1m7/7\u001b[0m \u001b[32m━━━━━━━━━━━━━━━━━━━━\u001b[0m\u001b[37m\u001b[0m \u001b[1m0s\u001b[0m 11ms/step - loss: 72370315264.0000 - val_loss: 55299469312.0000\n",
      "Epoch 292/300\n",
      "\u001b[1m7/7\u001b[0m \u001b[32m━━━━━━━━━━━━━━━━━━━━\u001b[0m\u001b[37m\u001b[0m \u001b[1m0s\u001b[0m 9ms/step - loss: 71887691776.0000 - val_loss: 55313600512.0000\n",
      "Epoch 293/300\n",
      "\u001b[1m7/7\u001b[0m \u001b[32m━━━━━━━━━━━━━━━━━━━━\u001b[0m\u001b[37m\u001b[0m \u001b[1m0s\u001b[0m 17ms/step - loss: 72970346496.0000 - val_loss: 55259545600.0000\n",
      "Epoch 294/300\n",
      "\u001b[1m7/7\u001b[0m \u001b[32m━━━━━━━━━━━━━━━━━━━━\u001b[0m\u001b[37m\u001b[0m \u001b[1m0s\u001b[0m 14ms/step - loss: 72495136768.0000 - val_loss: 55238029312.0000\n",
      "Epoch 295/300\n",
      "\u001b[1m7/7\u001b[0m \u001b[32m━━━━━━━━━━━━━━━━━━━━\u001b[0m\u001b[37m\u001b[0m \u001b[1m0s\u001b[0m 10ms/step - loss: 72251195392.0000 - val_loss: 55241953280.0000\n",
      "Epoch 296/300\n",
      "\u001b[1m7/7\u001b[0m \u001b[32m━━━━━━━━━━━━━━━━━━━━\u001b[0m\u001b[37m\u001b[0m \u001b[1m0s\u001b[0m 14ms/step - loss: 72669429760.0000 - val_loss: 55230943232.0000\n",
      "Epoch 297/300\n",
      "\u001b[1m7/7\u001b[0m \u001b[32m━━━━━━━━━━━━━━━━━━━━\u001b[0m\u001b[37m\u001b[0m \u001b[1m0s\u001b[0m 16ms/step - loss: 72367726592.0000 - val_loss: 55182729216.0000\n",
      "Epoch 298/300\n",
      "\u001b[1m7/7\u001b[0m \u001b[32m━━━━━━━━━━━━━━━━━━━━\u001b[0m\u001b[37m\u001b[0m \u001b[1m0s\u001b[0m 14ms/step - loss: 72872812544.0000 - val_loss: 55179902976.0000\n",
      "Epoch 299/300\n",
      "\u001b[1m7/7\u001b[0m \u001b[32m━━━━━━━━━━━━━━━━━━━━\u001b[0m\u001b[37m\u001b[0m \u001b[1m0s\u001b[0m 12ms/step - loss: 72156889088.0000 - val_loss: 55156244480.0000\n",
      "Epoch 300/300\n",
      "\u001b[1m7/7\u001b[0m \u001b[32m━━━━━━━━━━━━━━━━━━━━\u001b[0m\u001b[37m\u001b[0m \u001b[1m0s\u001b[0m 10ms/step - loss: 72312848384.0000 - val_loss: 55170924544.0000\n"
     ]
    }
   ],
   "source": [
    "from tensorflow.keras.callbacks import EarlyStopping\n",
    "\n",
    "early_stop = EarlyStopping(\n",
    "    monitor=\"val_loss\",  \n",
    "    patience=20,         \n",
    "    restore_best_weights=True\n",
    "\n",
    ")\n",
    "\n",
    "mc = ModelCheckpoint(\n",
    "    'best_model_small_dataset-regression.keras',\n",
    "    monitor='val_loss',\n",
    "    mode='min',\n",
    "    save_best_only=True\n",
    ")\n",
    "\n",
    "callback_list = [early_stop, mc]\n",
    "\n",
    "history = training_model_11.fit(\n",
    "    x=X_train,\n",
    "    y=y_train,\n",
    "    epochs=300,\n",
    "    validation_data=(X_val, y_val),\n",
    "    callbacks=callback_list,\n",
    "    verbose=1\n",
    ")\n"
   ]
  },
  {
   "cell_type": "markdown",
   "id": "f8fb6f67",
   "metadata": {},
   "source": [
    "#### Visualisation of the results"
   ]
  },
  {
   "cell_type": "code",
   "execution_count": 19,
   "id": "b8684f87",
   "metadata": {},
   "outputs": [
    {
     "data": {
      "image/png": "[encoded data removed]",
      "text/plain": [
       "<Figure size 800x500 with 1 Axes>"
      ]
     },
     "metadata": {},
     "output_type": "display_data"
    }
   ],
   "source": [
    "loss_df = pd.DataFrame(training_model_11.history.history)\n",
    "loss_df.plot(figsize=(8,5))\n",
    "plt.title(\"Training vs Validation Loss\")\n",
    "plt.xlabel(\"Epochs\")\n",
    "plt.ylabel(\"MSE Loss\")\n",
    "plt.grid(True)\n",
    "plt.show()\n"
   ]
  },
  {
   "cell_type": "markdown",
   "id": "6e57187c",
   "metadata": {},
   "source": [
    "The graph shows that both training and validation loss decrease steadily, meaning the model is learning well. Around 125 epochs, the losses become stable, which suggests the model has reached a good point without overfitting."
   ]
  },
  {
   "cell_type": "markdown",
   "id": "16f224b4",
   "metadata": {},
   "source": [
    "#### Reload the best version of the model form history\n"
   ]
  },
  {
   "cell_type": "code",
   "execution_count": 20,
   "id": "415ae46e",
   "metadata": {},
   "outputs": [],
   "source": [
    "from keras.models import load_model\n",
    "best_trained_model = load_model(\"best_model_small_dataset-regression.keras\")"
   ]
  },
  {
   "cell_type": "markdown",
   "id": "5ed31144",
   "metadata": {},
   "source": [
    "#### Data evaluation"
   ]
  },
  {
   "cell_type": "code",
   "execution_count": 21,
   "id": "65d2881a",
   "metadata": {},
   "outputs": [
    {
     "name": "stdout",
     "output_type": "stream",
     "text": [
      "Test data evaluation\n",
      "60396032000.0\n",
      "\n",
      "Train data evaluation:\n",
      "72360206336.0\n"
     ]
    }
   ],
   "source": [
    "print(\"Test data evaluation\")\n",
    "print(best_trained_model.evaluate(X_test, y_test, verbose=0))\n",
    "print(\"\\nTrain data evaluation:\")\n",
    "print(best_trained_model.evaluate(X_train, y_train, verbose=0))"
   ]
  },
  {
   "cell_type": "markdown",
   "id": "6a01a2bc",
   "metadata": {},
   "source": [
    "The evaluation shows that the error for test and train data is very large, meaning the model is not predicting prices accurately. This suggests that either the dataset is very complex pr the dataset is too small to use or the model still needs improvements."
   ]
  },
  {
   "cell_type": "markdown",
   "id": "9cb22e1b",
   "metadata": {},
   "source": [
    "#### Prediction of the data"
   ]
  },
  {
   "cell_type": "code",
   "execution_count": 22,
   "id": "899f7427",
   "metadata": {},
   "outputs": [
    {
     "name": "stdout",
     "output_type": "stream",
     "text": [
      "\u001b[1m2/2\u001b[0m \u001b[32m━━━━━━━━━━━━━━━━━━━━\u001b[0m\u001b[37m\u001b[0m \u001b[1m0s\u001b[0m 54ms/step\n"
     ]
    },
    {
     "data": {
      "application/vnd.microsoft.datawrangler.viewer.v0+json": {
       "columns": [
        {
         "name": "index",
         "rawType": "int64",
         "type": "integer"
        },
        {
         "name": "Test True Y",
         "rawType": "int64",
         "type": "integer"
        },
        {
         "name": "Model Predictions",
         "rawType": "float32",
         "type": "float"
        }
       ],
       "ref": "ac1ae398-69ec-457d-819a-96b990b87b02",
       "rows": [
        [
         "0",
         "679879",
         "602814.06"
        ],
        [
         "1",
         "633556",
         "486805.25"
        ],
        [
         "2",
         "256730",
         "443990.62"
        ],
        [
         "3",
         "679304",
         "618285.94"
        ],
        [
         "4",
         "573254",
         "570499.8"
        ],
        [
         "5",
         "827270",
         "534795.94"
        ],
        [
         "6",
         "219176",
         "585884.5"
        ],
        [
         "7",
         "419030",
         "551236.9"
        ],
        [
         "8",
         "978338",
         "535193.6"
        ],
        [
         "9",
         "237848",
         "518169.25"
        ],
        [
         "10",
         "561079",
         "498966.88"
        ],
        [
         "11",
         "613153",
         "644588.3"
        ],
        [
         "12",
         "967055",
         "555087.3"
        ],
        [
         "13",
         "275203",
         "523822.25"
        ],
        [
         "14",
         "475713",
         "492177.66"
        ],
        [
         "15",
         "704365",
         "449814.9"
        ],
        [
         "16",
         "359178",
         "446736.97"
        ],
        [
         "17",
         "479989",
         "508193.88"
        ],
        [
         "18",
         "819094",
         "518800.8"
        ],
        [
         "19",
         "531839",
         "562761.94"
        ],
        [
         "20",
         "206530",
         "466919.75"
        ],
        [
         "21",
         "465838",
         "574525.1"
        ],
        [
         "22",
         "371836",
         "549488.8"
        ],
        [
         "23",
         "937437",
         "437735.7"
        ],
        [
         "24",
         "296769",
         "548168.0"
        ],
        [
         "25",
         "693128",
         "581589.56"
        ],
        [
         "26",
         "580754",
         "520708.38"
        ],
        [
         "27",
         "979989",
         "457572.1"
        ],
        [
         "28",
         "364712",
         "443141.97"
        ],
        [
         "29",
         "212547",
         "534415.3"
        ],
        [
         "30",
         "792517",
         "478233.7"
        ],
        [
         "31",
         "417824",
         "575156.1"
        ],
        [
         "32",
         "905889",
         "582324.7"
        ],
        [
         "33",
         "170467",
         "500275.56"
        ],
        [
         "34",
         "203355",
         "463238.47"
        ],
        [
         "35",
         "559773",
         "493327.03"
        ],
        [
         "36",
         "572525",
         "517520.94"
        ],
        [
         "37",
         "229312",
         "531308.9"
        ],
        [
         "38",
         "665894",
         "498448.44"
        ],
        [
         "39",
         "378167",
         "441965.03"
        ],
        [
         "40",
         "788519",
         "506671.2"
        ],
        [
         "41",
         "819064",
         "365489.3"
        ],
        [
         "42",
         "231932",
         "516410.6"
        ],
        [
         "43",
         "484681",
         "511939.62"
        ],
        [
         "44",
         "635822",
         "521185.34"
        ]
       ],
       "shape": {
        "columns": 2,
        "rows": 45
       }
      },
      "text/html": [
       "<div>\n",
       "<style scoped>\n",
       "    .dataframe tbody tr th:only-of-type {\n",
       "        vertical-align: middle;\n",
       "    }\n",
       "\n",
       "    .dataframe tbody tr th {\n",
       "        vertical-align: top;\n",
       "    }\n",
       "\n",
       "    .dataframe thead th {\n",
       "        text-align: right;\n",
       "    }\n",
       "</style>\n",
       "<table border=\"1\" class=\"dataframe\">\n",
       "  <thead>\n",
       "    <tr style=\"text-align: right;\">\n",
       "      <th></th>\n",
       "      <th>Test True Y</th>\n",
       "      <th>Model Predictions</th>\n",
       "    </tr>\n",
       "  </thead>\n",
       "  <tbody>\n",
       "    <tr>\n",
       "      <th>0</th>\n",
       "      <td>679879</td>\n",
       "      <td>602814.06250</td>\n",
       "    </tr>\n",
       "    <tr>\n",
       "      <th>1</th>\n",
       "      <td>633556</td>\n",
       "      <td>486805.25000</td>\n",
       "    </tr>\n",
       "    <tr>\n",
       "      <th>2</th>\n",
       "      <td>256730</td>\n",
       "      <td>443990.62500</td>\n",
       "    </tr>\n",
       "    <tr>\n",
       "      <th>3</th>\n",
       "      <td>679304</td>\n",
       "      <td>618285.93750</td>\n",
       "    </tr>\n",
       "    <tr>\n",
       "      <th>4</th>\n",
       "      <td>573254</td>\n",
       "      <td>570499.81250</td>\n",
       "    </tr>\n",
       "    <tr>\n",
       "      <th>5</th>\n",
       "      <td>827270</td>\n",
       "      <td>534795.93750</td>\n",
       "    </tr>\n",
       "    <tr>\n",
       "      <th>6</th>\n",
       "      <td>219176</td>\n",
       "      <td>585884.50000</td>\n",
       "    </tr>\n",
       "    <tr>\n",
       "      <th>7</th>\n",
       "      <td>419030</td>\n",
       "      <td>551236.87500</td>\n",
       "    </tr>\n",
       "    <tr>\n",
       "      <th>8</th>\n",
       "      <td>978338</td>\n",
       "      <td>535193.62500</td>\n",
       "    </tr>\n",
       "    <tr>\n",
       "      <th>9</th>\n",
       "      <td>237848</td>\n",
       "      <td>518169.25000</td>\n",
       "    </tr>\n",
       "    <tr>\n",
       "      <th>10</th>\n",
       "      <td>561079</td>\n",
       "      <td>498966.87500</td>\n",
       "    </tr>\n",
       "    <tr>\n",
       "      <th>11</th>\n",
       "      <td>613153</td>\n",
       "      <td>644588.31250</td>\n",
       "    </tr>\n",
       "    <tr>\n",
       "      <th>12</th>\n",
       "      <td>967055</td>\n",
       "      <td>555087.31250</td>\n",
       "    </tr>\n",
       "    <tr>\n",
       "      <th>13</th>\n",
       "      <td>275203</td>\n",
       "      <td>523822.25000</td>\n",
       "    </tr>\n",
       "    <tr>\n",
       "      <th>14</th>\n",
       "      <td>475713</td>\n",
       "      <td>492177.65625</td>\n",
       "    </tr>\n",
       "    <tr>\n",
       "      <th>15</th>\n",
       "      <td>704365</td>\n",
       "      <td>449814.90625</td>\n",
       "    </tr>\n",
       "    <tr>\n",
       "      <th>16</th>\n",
       "      <td>359178</td>\n",
       "      <td>446736.96875</td>\n",
       "    </tr>\n",
       "    <tr>\n",
       "      <th>17</th>\n",
       "      <td>479989</td>\n",
       "      <td>508193.87500</td>\n",
       "    </tr>\n",
       "    <tr>\n",
       "      <th>18</th>\n",
       "      <td>819094</td>\n",
       "      <td>518800.81250</td>\n",
       "    </tr>\n",
       "    <tr>\n",
       "      <th>19</th>\n",
       "      <td>531839</td>\n",
       "      <td>562761.93750</td>\n",
       "    </tr>\n",
       "    <tr>\n",
       "      <th>20</th>\n",
       "      <td>206530</td>\n",
       "      <td>466919.75000</td>\n",
       "    </tr>\n",
       "    <tr>\n",
       "      <th>21</th>\n",
       "      <td>465838</td>\n",
       "      <td>574525.12500</td>\n",
       "    </tr>\n",
       "    <tr>\n",
       "      <th>22</th>\n",
       "      <td>371836</td>\n",
       "      <td>549488.81250</td>\n",
       "    </tr>\n",
       "    <tr>\n",
       "      <th>23</th>\n",
       "      <td>937437</td>\n",
       "      <td>437735.68750</td>\n",
       "    </tr>\n",
       "    <tr>\n",
       "      <th>24</th>\n",
       "      <td>296769</td>\n",
       "      <td>548168.00000</td>\n",
       "    </tr>\n",
       "    <tr>\n",
       "      <th>25</th>\n",
       "      <td>693128</td>\n",
       "      <td>581589.56250</td>\n",
       "    </tr>\n",
       "    <tr>\n",
       "      <th>26</th>\n",
       "      <td>580754</td>\n",
       "      <td>520708.37500</td>\n",
       "    </tr>\n",
       "    <tr>\n",
       "      <th>27</th>\n",
       "      <td>979989</td>\n",
       "      <td>457572.09375</td>\n",
       "    </tr>\n",
       "    <tr>\n",
       "      <th>28</th>\n",
       "      <td>364712</td>\n",
       "      <td>443141.96875</td>\n",
       "    </tr>\n",
       "    <tr>\n",
       "      <th>29</th>\n",
       "      <td>212547</td>\n",
       "      <td>534415.31250</td>\n",
       "    </tr>\n",
       "    <tr>\n",
       "      <th>30</th>\n",
       "      <td>792517</td>\n",
       "      <td>478233.68750</td>\n",
       "    </tr>\n",
       "    <tr>\n",
       "      <th>31</th>\n",
       "      <td>417824</td>\n",
       "      <td>575156.12500</td>\n",
       "    </tr>\n",
       "    <tr>\n",
       "      <th>32</th>\n",
       "      <td>905889</td>\n",
       "      <td>582324.68750</td>\n",
       "    </tr>\n",
       "    <tr>\n",
       "      <th>33</th>\n",
       "      <td>170467</td>\n",
       "      <td>500275.56250</td>\n",
       "    </tr>\n",
       "    <tr>\n",
       "      <th>34</th>\n",
       "      <td>203355</td>\n",
       "      <td>463238.46875</td>\n",
       "    </tr>\n",
       "    <tr>\n",
       "      <th>35</th>\n",
       "      <td>559773</td>\n",
       "      <td>493327.03125</td>\n",
       "    </tr>\n",
       "    <tr>\n",
       "      <th>36</th>\n",
       "      <td>572525</td>\n",
       "      <td>517520.93750</td>\n",
       "    </tr>\n",
       "    <tr>\n",
       "      <th>37</th>\n",
       "      <td>229312</td>\n",
       "      <td>531308.87500</td>\n",
       "    </tr>\n",
       "    <tr>\n",
       "      <th>38</th>\n",
       "      <td>665894</td>\n",
       "      <td>498448.43750</td>\n",
       "    </tr>\n",
       "    <tr>\n",
       "      <th>39</th>\n",
       "      <td>378167</td>\n",
       "      <td>441965.03125</td>\n",
       "    </tr>\n",
       "    <tr>\n",
       "      <th>40</th>\n",
       "      <td>788519</td>\n",
       "      <td>506671.18750</td>\n",
       "    </tr>\n",
       "    <tr>\n",
       "      <th>41</th>\n",
       "      <td>819064</td>\n",
       "      <td>365489.31250</td>\n",
       "    </tr>\n",
       "    <tr>\n",
       "      <th>42</th>\n",
       "      <td>231932</td>\n",
       "      <td>516410.59375</td>\n",
       "    </tr>\n",
       "    <tr>\n",
       "      <th>43</th>\n",
       "      <td>484681</td>\n",
       "      <td>511939.62500</td>\n",
       "    </tr>\n",
       "    <tr>\n",
       "      <th>44</th>\n",
       "      <td>635822</td>\n",
       "      <td>521185.34375</td>\n",
       "    </tr>\n",
       "  </tbody>\n",
       "</table>\n",
       "</div>"
      ],
      "text/plain": [
       "    Test True Y  Model Predictions\n",
       "0        679879       602814.06250\n",
       "1        633556       486805.25000\n",
       "2        256730       443990.62500\n",
       "3        679304       618285.93750\n",
       "4        573254       570499.81250\n",
       "5        827270       534795.93750\n",
       "6        219176       585884.50000\n",
       "7        419030       551236.87500\n",
       "8        978338       535193.62500\n",
       "9        237848       518169.25000\n",
       "10       561079       498966.87500\n",
       "11       613153       644588.31250\n",
       "12       967055       555087.31250\n",
       "13       275203       523822.25000\n",
       "14       475713       492177.65625\n",
       "15       704365       449814.90625\n",
       "16       359178       446736.96875\n",
       "17       479989       508193.87500\n",
       "18       819094       518800.81250\n",
       "19       531839       562761.93750\n",
       "20       206530       466919.75000\n",
       "21       465838       574525.12500\n",
       "22       371836       549488.81250\n",
       "23       937437       437735.68750\n",
       "24       296769       548168.00000\n",
       "25       693128       581589.56250\n",
       "26       580754       520708.37500\n",
       "27       979989       457572.09375\n",
       "28       364712       443141.96875\n",
       "29       212547       534415.31250\n",
       "30       792517       478233.68750\n",
       "31       417824       575156.12500\n",
       "32       905889       582324.68750\n",
       "33       170467       500275.56250\n",
       "34       203355       463238.46875\n",
       "35       559773       493327.03125\n",
       "36       572525       517520.93750\n",
       "37       229312       531308.87500\n",
       "38       665894       498448.43750\n",
       "39       378167       441965.03125\n",
       "40       788519       506671.18750\n",
       "41       819064       365489.31250\n",
       "42       231932       516410.59375\n",
       "43       484681       511939.62500\n",
       "44       635822       521185.34375"
      ]
     },
     "execution_count": 22,
     "metadata": {},
     "output_type": "execute_result"
    }
   ],
   "source": [
    "import seaborn as sns\n",
    "\n",
    "test_predictions = best_trained_model.predict(X_test)\n",
    "test_predictions = pd.Series(test_predictions.reshape(len(y_test),))\n",
    "\n",
    "pred_df = pd.DataFrame(pd.DataFrame(np.asarray(y_test), columns=[\"Test True Y\"]))\n",
    "pred_df = pd.concat([pred_df, test_predictions], axis = 1)\n",
    "pred_df.columns = [\"Test True Y\", \"Model Predictions\"]\n",
    "\n",
    "pred_df"
   ]
  },
  {
   "cell_type": "code",
   "execution_count": 23,
   "id": "32523806",
   "metadata": {},
   "outputs": [
    {
     "data": {
      "image/png": "[encoded data removed]",
      "text/plain": [
       "<Figure size 600x600 with 1 Axes>"
      ]
     },
     "metadata": {},
     "output_type": "display_data"
    }
   ],
   "source": [
    "plt.figure(figsize=(6,6))\n",
    "sns.scatterplot(x=\"Test True Y\", y=\"Model Predictions\", data=pred_df)\n",
    "\n",
    "# Rote gestrichelte Linie (perfekte Vorhersage)\n",
    "min_val = min(pred_df[\"Test True Y\"].min(), pred_df[\"Model Predictions\"].min())\n",
    "max_val = max(pred_df[\"Test True Y\"].max(), pred_df[\"Model Predictions\"].max())\n",
    "plt.plot([min_val, max_val], [min_val, max_val], \"r--\")\n",
    "\n",
    "plt.title(\"True vs Predicted House Prices\")\n",
    "plt.xlabel(\"Test True Y\")\n",
    "plt.ylabel(\"Model Predictions\")\n",
    "plt.show()\n"
   ]
  },
  {
   "cell_type": "markdown",
   "id": "33bf5deb",
   "metadata": {},
   "source": [
    "The scatterplot shows that many predicted prices are spread far from the red line. This means the model struggles to match the true house prices accurately."
   ]
  },
  {
   "cell_type": "code",
   "execution_count": 24,
   "id": "06ecad11",
   "metadata": {},
   "outputs": [
    {
     "name": "stdout",
     "output_type": "stream",
     "text": [
      "MAE\n",
      "201229.38 $\n",
      "\n",
      "MSE\n",
      "60396032000.0 $^2\n",
      "\n",
      "RMSE:\n",
      "245756.04 $\n",
      "\n",
      "R-squared:\n",
      "-0.05\n",
      "\n",
      "Explained variance score:\n",
      "-0.04\n"
     ]
    }
   ],
   "source": [
    "print(\"MAE\")\n",
    "print(round(metrics.mean_absolute_error(y_test, test_predictions), 2), \"$\")\n",
    "\n",
    "print(\"\\nMSE\")\n",
    "print(round(metrics.mean_squared_error(y_test, test_predictions), 2), \"$^2\")\n",
    "\n",
    "print('\\nRMSE:')\n",
    "print(round(np.sqrt(metrics.mean_squared_error(y_test, test_predictions)), 2), \"$\")\n",
    "\n",
    "print('\\nR-squared:')\n",
    "print(round(metrics.r2_score(y_test, test_predictions), 2))\n",
    "\n",
    "print(\"\\nExplained variance score:\")\n",
    "print(round(metrics.explained_variance_score(y_test, test_predictions), 2))"
   ]
  },
  {
   "cell_type": "markdown",
   "id": "92c67023",
   "metadata": {},
   "source": [
    "The error metrics show high values and a negative R-squared, which means the model performs poorly and explains the data worse than a simple average. This indicates that the predictions are not reliable yet."
   ]
  },
  {
   "cell_type": "code",
   "execution_count": 25,
   "id": "53a970ca",
   "metadata": {},
   "outputs": [
    {
     "name": "stderr",
     "output_type": "stream",
     "text": [
      "C:\\Users\\Timothy\\AppData\\Local\\Temp\\ipykernel_6420\\3264322254.py:1: UserWarning: \n",
      "\n",
      "`distplot` is a deprecated function and will be removed in seaborn v0.14.0.\n",
      "\n",
      "Please adapt your code to use either `displot` (a figure-level function with\n",
      "similar flexibility) or `histplot` (an axes-level function for histograms).\n",
      "\n",
      "For a guide to updating your code to use the new functions, please see\n",
      "https://gist.github.com/mwaskom/de44147ed2974457ad6372750bbe5751\n",
      "\n",
      "  sns.distplot((y_test - test_predictions))\n"
     ]
    },
    {
     "data": {
      "image/png": "[encoded data removed]",
      "text/plain": [
       "<Figure size 640x480 with 1 Axes>"
      ]
     },
     "metadata": {},
     "output_type": "display_data"
    }
   ],
   "source": [
    "sns.distplot((y_test - test_predictions))\n",
    "plt.show()\n",
    "plt.close()"
   ]
  },
  {
   "cell_type": "markdown",
   "id": "4677d267",
   "metadata": {},
   "source": [
    "The distplot shows an approximately symmetric distribution of the residuals around 0, indicating that the model’s errors are spread evenly around the prediction axis. However, the values are quite widely dispersed, which suggests a generally low prediction accuracy."
   ]
  },
  {
   "cell_type": "markdown",
   "id": "f1f51545",
   "metadata": {},
   "source": [
    "#### Trying the model in practice with new imaginery house"
   ]
  },
  {
   "cell_type": "code",
   "execution_count": 26,
   "id": "4b466772",
   "metadata": {},
   "outputs": [
    {
     "data": {
      "text/plain": [
       "Index(['Bedrooms', 'Bathrooms', 'SquareFeet', 'YearBuilt', 'GarageSpaces',\n",
       "       'LotSize', 'CrimeRate', 'SchoolRating', 'Region_East', 'Region_North',\n",
       "       'Region_South', 'Region_West'],\n",
       "      dtype='object')"
      ]
     },
     "execution_count": 26,
     "metadata": {},
     "output_type": "execute_result"
    }
   ],
   "source": [
    "X.columns"
   ]
  },
  {
   "cell_type": "code",
   "execution_count": 27,
   "id": "2dfc59fe",
   "metadata": {},
   "outputs": [
    {
     "data": {
      "application/vnd.microsoft.datawrangler.viewer.v0+json": {
       "columns": [
        {
         "name": "index",
         "rawType": "int64",
         "type": "integer"
        },
        {
         "name": "Bedrooms",
         "rawType": "int64",
         "type": "integer"
        },
        {
         "name": "Bathrooms",
         "rawType": "float64",
         "type": "float"
        },
        {
         "name": "SquareFeet",
         "rawType": "int64",
         "type": "integer"
        },
        {
         "name": "YearBuilt",
         "rawType": "int64",
         "type": "integer"
        },
        {
         "name": "GarageSpaces",
         "rawType": "int64",
         "type": "integer"
        },
        {
         "name": "LotSize",
         "rawType": "float64",
         "type": "float"
        },
        {
         "name": "CrimeRate",
         "rawType": "float64",
         "type": "float"
        },
        {
         "name": "SchoolRating",
         "rawType": "int64",
         "type": "integer"
        },
        {
         "name": "Region_East",
         "rawType": "bool",
         "type": "boolean"
        },
        {
         "name": "Region_North",
         "rawType": "bool",
         "type": "boolean"
        },
        {
         "name": "Region_South",
         "rawType": "bool",
         "type": "boolean"
        },
        {
         "name": "Region_West",
         "rawType": "bool",
         "type": "boolean"
        }
       ],
       "ref": "d9995271-4fb1-4268-8bf9-468fbc3c22e9",
       "rows": [
        [
         "0",
         "1",
         "1.9",
         "4827",
         "1979",
         "2",
         "1.45",
         "48.6",
         "5",
         "False",
         "False",
         "False",
         "True"
        ],
        [
         "1",
         "2",
         "2.0",
         "1035",
         "1987",
         "2",
         "1.75",
         "92.03",
         "9",
         "False",
         "False",
         "False",
         "True"
        ],
        [
         "2",
         "1",
         "3.0",
         "2769",
         "1982",
         "1",
         "1.46",
         "52.08",
         "3",
         "False",
         "False",
         "False",
         "True"
        ]
       ],
       "shape": {
        "columns": 12,
        "rows": 3
       }
      },
      "text/html": [
       "<div>\n",
       "<style scoped>\n",
       "    .dataframe tbody tr th:only-of-type {\n",
       "        vertical-align: middle;\n",
       "    }\n",
       "\n",
       "    .dataframe tbody tr th {\n",
       "        vertical-align: top;\n",
       "    }\n",
       "\n",
       "    .dataframe thead th {\n",
       "        text-align: right;\n",
       "    }\n",
       "</style>\n",
       "<table border=\"1\" class=\"dataframe\">\n",
       "  <thead>\n",
       "    <tr style=\"text-align: right;\">\n",
       "      <th></th>\n",
       "      <th>Bedrooms</th>\n",
       "      <th>Bathrooms</th>\n",
       "      <th>SquareFeet</th>\n",
       "      <th>YearBuilt</th>\n",
       "      <th>GarageSpaces</th>\n",
       "      <th>LotSize</th>\n",
       "      <th>CrimeRate</th>\n",
       "      <th>SchoolRating</th>\n",
       "      <th>Region_East</th>\n",
       "      <th>Region_North</th>\n",
       "      <th>Region_South</th>\n",
       "      <th>Region_West</th>\n",
       "    </tr>\n",
       "  </thead>\n",
       "  <tbody>\n",
       "    <tr>\n",
       "      <th>0</th>\n",
       "      <td>1</td>\n",
       "      <td>1.9</td>\n",
       "      <td>4827</td>\n",
       "      <td>1979</td>\n",
       "      <td>2</td>\n",
       "      <td>1.45</td>\n",
       "      <td>48.60</td>\n",
       "      <td>5</td>\n",
       "      <td>False</td>\n",
       "      <td>False</td>\n",
       "      <td>False</td>\n",
       "      <td>True</td>\n",
       "    </tr>\n",
       "    <tr>\n",
       "      <th>1</th>\n",
       "      <td>2</td>\n",
       "      <td>2.0</td>\n",
       "      <td>1035</td>\n",
       "      <td>1987</td>\n",
       "      <td>2</td>\n",
       "      <td>1.75</td>\n",
       "      <td>92.03</td>\n",
       "      <td>9</td>\n",
       "      <td>False</td>\n",
       "      <td>False</td>\n",
       "      <td>False</td>\n",
       "      <td>True</td>\n",
       "    </tr>\n",
       "    <tr>\n",
       "      <th>2</th>\n",
       "      <td>1</td>\n",
       "      <td>3.0</td>\n",
       "      <td>2769</td>\n",
       "      <td>1982</td>\n",
       "      <td>1</td>\n",
       "      <td>1.46</td>\n",
       "      <td>52.08</td>\n",
       "      <td>3</td>\n",
       "      <td>False</td>\n",
       "      <td>False</td>\n",
       "      <td>False</td>\n",
       "      <td>True</td>\n",
       "    </tr>\n",
       "  </tbody>\n",
       "</table>\n",
       "</div>"
      ],
      "text/plain": [
       "   Bedrooms  Bathrooms  SquareFeet  YearBuilt  GarageSpaces  LotSize  \\\n",
       "0         1        1.9        4827       1979             2     1.45   \n",
       "1         2        2.0        1035       1987             2     1.75   \n",
       "2         1        3.0        2769       1982             1     1.46   \n",
       "\n",
       "   CrimeRate  SchoolRating  Region_East  Region_North  Region_South  \\\n",
       "0      48.60             5        False         False         False   \n",
       "1      92.03             9        False         False         False   \n",
       "2      52.08             3        False         False         False   \n",
       "\n",
       "   Region_West  \n",
       "0         True  \n",
       "1         True  \n",
       "2         True  "
      ]
     },
     "execution_count": 27,
     "metadata": {},
     "output_type": "execute_result"
    }
   ],
   "source": [
    "X.head(3)"
   ]
  },
  {
   "cell_type": "code",
   "execution_count": 28,
   "id": "2b3eee66",
   "metadata": {},
   "outputs": [
    {
     "name": "stdout",
     "output_type": "stream",
     "text": [
      "\u001b[1m1/1\u001b[0m \u001b[32m━━━━━━━━━━━━━━━━━━━━\u001b[0m\u001b[37m\u001b[0m \u001b[1m0s\u001b[0m 33ms/step\n",
      "Estimated house price:\n",
      "$581541.81\n"
     ]
    }
   ],
   "source": [
    "small_tester_row = {\n",
    "    \"Bedrooms\": 5,\n",
    "    \"Bathrooms\": 3.7,\n",
    "    \"SquareFeet\": 3530,\n",
    "    \"YearBuilt\": 1954,\n",
    "    \"GarageSpaces\": 2,\n",
    "    \"LotSize\": 0.74,\n",
    "    \"CrimeRate\": 2.91,\n",
    "    \"SchoolRating\": 6,\n",
    "    \"Region_East\": 0,\n",
    "    \"Region_North\": 0,\n",
    "    \"Region_South\": 0,\n",
    "    \"Region_West\": 1\n",
    "}\n",
    "\n",
    "small_tester_row = pd.DataFrame([small_tester_row])\n",
    "\n",
    "small_tester_row_scaled = scaler.transform(small_tester_row)\n",
    "\n",
    "result = best_trained_model.predict(small_tester_row_scaled)[0][0]\n",
    "\n",
    "print(\"Estimated house price:\")\n",
    "print(f\"${round(float(result), 2)}\")"
   ]
  },
  {
   "cell_type": "code",
   "execution_count": 29,
   "id": "abf7c01d",
   "metadata": {},
   "outputs": [
    {
     "name": "stdout",
     "output_type": "stream",
     "text": [
      "\u001b[1m1/1\u001b[0m \u001b[32m━━━━━━━━━━━━━━━━━━━━\u001b[0m\u001b[37m\u001b[0m \u001b[1m0s\u001b[0m 39ms/step\n",
      "Estimated house price:\n",
      "$548168.0\n"
     ]
    }
   ],
   "source": [
    "small_tester_row1 = {\n",
    "    \"Bedrooms\": 5,\n",
    "    \"Bathrooms\": 3.7,\n",
    "    \"SquareFeet\": 3530,\n",
    "    \"YearBuilt\": 1954,\n",
    "    \"GarageSpaces\": 2,\n",
    "    \"LotSize\": 0.74,\n",
    "    \"CrimeRate\": 2.91,\n",
    "    \"SchoolRating\": 6,\n",
    "    \"Region_East\": 0,\n",
    "    \"Region_North\": 0,\n",
    "    \"Region_South\": 1,\n",
    "    \"Region_West\": 0\n",
    "}\n",
    "\n",
    "small_tester_row1 = pd.DataFrame([small_tester_row1])\n",
    "\n",
    "small_tester_row_scaled1 = scaler.transform(small_tester_row1)\n",
    "\n",
    "result = best_trained_model.predict(small_tester_row_scaled1)[0][0]\n",
    "\n",
    "print(\"Estimated house price:\")\n",
    "print(f\"${round(float(result), 2)}\")"
   ]
  },
  {
   "cell_type": "code",
   "execution_count": 30,
   "id": "4b3d3c7f",
   "metadata": {},
   "outputs": [
    {
     "name": "stdout",
     "output_type": "stream",
     "text": [
      "\u001b[1m1/1\u001b[0m \u001b[32m━━━━━━━━━━━━━━━━━━━━\u001b[0m\u001b[37m\u001b[0m \u001b[1m0s\u001b[0m 31ms/step\n",
      "Estimated house price:\n",
      "$569090.75\n"
     ]
    }
   ],
   "source": [
    "small_tester_row2 = {\n",
    "    \"Bedrooms\": 5,\n",
    "    \"Bathrooms\": 3.7,\n",
    "    \"SquareFeet\": 3530,\n",
    "    \"YearBuilt\": 1954,\n",
    "    \"GarageSpaces\": 2,\n",
    "    \"LotSize\": 0.74,\n",
    "    \"CrimeRate\": 2.91,\n",
    "    \"SchoolRating\": 6,\n",
    "    \"Region_East\": 0,\n",
    "    \"Region_North\": 1,\n",
    "    \"Region_South\": 0,\n",
    "    \"Region_West\": 0\n",
    "}\n",
    "\n",
    "small_tester_row2 = pd.DataFrame([small_tester_row2])\n",
    "\n",
    "small_tester_row_scaled2 = scaler.transform(small_tester_row2)\n",
    "\n",
    "result = best_trained_model.predict(small_tester_row_scaled2)[0][0]\n",
    "\n",
    "print(\"Estimated house price:\")\n",
    "print(f\"${round(float(result), 2)}\")"
   ]
  },
  {
   "cell_type": "code",
   "execution_count": 31,
   "id": "7aec28bc",
   "metadata": {},
   "outputs": [
    {
     "name": "stdout",
     "output_type": "stream",
     "text": [
      "\u001b[1m1/1\u001b[0m \u001b[32m━━━━━━━━━━━━━━━━━━━━\u001b[0m\u001b[37m\u001b[0m \u001b[1m0s\u001b[0m 31ms/step\n",
      "Estimated house price:\n",
      "$519371.69\n"
     ]
    }
   ],
   "source": [
    "small_tester_row3 = {\n",
    "    \"Bedrooms\": 5,\n",
    "    \"Bathrooms\": 3.7,\n",
    "    \"SquareFeet\": 3530,\n",
    "    \"YearBuilt\": 1954,\n",
    "    \"GarageSpaces\": 2,\n",
    "    \"LotSize\": 0.74,\n",
    "    \"CrimeRate\": 2.91,\n",
    "    \"SchoolRating\": 6,\n",
    "    \"Region_East\": 1,\n",
    "    \"Region_North\": 0,\n",
    "    \"Region_South\": 0,\n",
    "    \"Region_West\": 0\n",
    "}\n",
    "\n",
    "small_tester_row3 = pd.DataFrame([small_tester_row3])\n",
    "\n",
    "small_tester_row_scaled3 = scaler.transform(small_tester_row3)\n",
    "\n",
    "result = best_trained_model.predict(small_tester_row_scaled3)[0][0]\n",
    "\n",
    "print(\"Estimated house price:\")\n",
    "print(f\"${round(float(result), 2)}\")"
   ]
  },
  {
   "cell_type": "markdown",
   "id": "f9025e82",
   "metadata": {},
   "source": [
    "#### Model Evaluation and Prediction Analysis\n",
    "\n",
    "The model was trained on only 300 records, which resulted in weak performance metrics. These scores indicate that the model does not capture the underlying patterns in the data.\n",
    "\n",
    "When testing one sample row 92 in the CSV -> (true price: 296,769) and changing only the region variable, the predicted prices ranged between 519,371 and 581,541, all much higher than the actual value. This shows that the model overestimates prices and relies too heavily on the region feature."
   ]
  },
  {
   "cell_type": "markdown",
   "id": "39d294fa",
   "metadata": {},
   "source": [
    "#### Conclusion\n",
    "The analysis highlights several challenges in predicting house prices with our dataset using a neural network. Most features show only very weak correlations with the target variable (Price). This limits the model’s ability to learn strong predictive patterns. Variables such as SquareFeet, CrimeRate, and Region, at the Fisher Score and Chi²-Test, have higher importance, while others contribute very little. This confirms that not all features are equally useful. The results of the VIF-Test reveal high multicollinearity among the Region variables, meaning that some of them are redundant and may confuse the model. The error metrics (MAE, RMSE, negative R²) show that the trained model currently performs poorly. Predictions on new test data are also far off from the true values.\n",
    "\n",
    "In the end, the weak performance is less a problem of the neural network architecture itself, but rather of the dataset. The low correlation make accurate prediction difficult. To improve results, a larger and higher-quality dataset with more meaningful features would be necessary."
   ]
  },
  {
   "cell_type": "markdown",
   "id": "f0424cbb",
   "metadata": {},
   "source": [
    "#### Use of AI for data generation\n",
    "Since the original dataset was relatively small and might have limited the model’s learning capacity, I used AI to generate 5,000 synthetic but realistic housing data samples. The goal was to test whether the poor performance mainly resulted from the lack of data. By expanding the dataset, we aimed to give the model more diverse examples and improve its ability to generalize."
   ]
  },
  {
   "cell_type": "markdown",
   "id": "17717d72",
   "metadata": {},
   "source": [
    "#### Loading the dataset"
   ]
  },
  {
   "cell_type": "code",
   "execution_count": 32,
   "id": "ba11c507",
   "metadata": {},
   "outputs": [
    {
     "data": {
      "application/vnd.microsoft.datawrangler.viewer.v0+json": {
       "columns": [
        {
         "name": "index",
         "rawType": "int64",
         "type": "integer"
        },
        {
         "name": "Price",
         "rawType": "int64",
         "type": "integer"
        },
        {
         "name": "Bedrooms",
         "rawType": "int64",
         "type": "integer"
        },
        {
         "name": "Bathrooms",
         "rawType": "float64",
         "type": "float"
        },
        {
         "name": "SquareFeet",
         "rawType": "int64",
         "type": "integer"
        },
        {
         "name": "YearBuilt",
         "rawType": "int64",
         "type": "integer"
        },
        {
         "name": "GarageSpaces",
         "rawType": "int64",
         "type": "integer"
        },
        {
         "name": "LotSize",
         "rawType": "float64",
         "type": "float"
        },
        {
         "name": "ZipCode",
         "rawType": "int64",
         "type": "integer"
        },
        {
         "name": "CrimeRate",
         "rawType": "float64",
         "type": "float"
        },
        {
         "name": "SchoolRating",
         "rawType": "int64",
         "type": "integer"
        }
       ],
       "ref": "8d5980dd-6979-4c2d-9022-bcd5993153ad",
       "rows": [
        [
         "0",
         "768057",
         "4",
         "1.7",
         "2847",
         "1972",
         "2",
         "1.46",
         "75201",
         "37.28",
         "10"
        ],
        [
         "1",
         "712254",
         "5",
         "3.3",
         "2740",
         "1964",
         "1",
         "1.66",
         "30301",
         "39.89",
         "1"
        ],
        [
         "2",
         "713762",
         "3",
         "2.4",
         "3163",
         "1966",
         "2",
         "0.99",
         "30301",
         "84.57",
         "3"
        ],
        [
         "3",
         "881840",
         "5",
         "2.7",
         "3306",
         "1963",
         "2",
         "1.29",
         "60601",
         "49.06",
         "5"
        ],
        [
         "4",
         "881072",
         "5",
         "2.9",
         "3591",
         "1965",
         "1",
         "1.54",
         "30301",
         "53.41",
         "4"
        ]
       ],
       "shape": {
        "columns": 10,
        "rows": 5
       }
      },
      "text/html": [
       "<div>\n",
       "<style scoped>\n",
       "    .dataframe tbody tr th:only-of-type {\n",
       "        vertical-align: middle;\n",
       "    }\n",
       "\n",
       "    .dataframe tbody tr th {\n",
       "        vertical-align: top;\n",
       "    }\n",
       "\n",
       "    .dataframe thead th {\n",
       "        text-align: right;\n",
       "    }\n",
       "</style>\n",
       "<table border=\"1\" class=\"dataframe\">\n",
       "  <thead>\n",
       "    <tr style=\"text-align: right;\">\n",
       "      <th></th>\n",
       "      <th>Price</th>\n",
       "      <th>Bedrooms</th>\n",
       "      <th>Bathrooms</th>\n",
       "      <th>SquareFeet</th>\n",
       "      <th>YearBuilt</th>\n",
       "      <th>GarageSpaces</th>\n",
       "      <th>LotSize</th>\n",
       "      <th>ZipCode</th>\n",
       "      <th>CrimeRate</th>\n",
       "      <th>SchoolRating</th>\n",
       "    </tr>\n",
       "  </thead>\n",
       "  <tbody>\n",
       "    <tr>\n",
       "      <th>0</th>\n",
       "      <td>768057</td>\n",
       "      <td>4</td>\n",
       "      <td>1.7</td>\n",
       "      <td>2847</td>\n",
       "      <td>1972</td>\n",
       "      <td>2</td>\n",
       "      <td>1.46</td>\n",
       "      <td>75201</td>\n",
       "      <td>37.28</td>\n",
       "      <td>10</td>\n",
       "    </tr>\n",
       "    <tr>\n",
       "      <th>1</th>\n",
       "      <td>712254</td>\n",
       "      <td>5</td>\n",
       "      <td>3.3</td>\n",
       "      <td>2740</td>\n",
       "      <td>1964</td>\n",
       "      <td>1</td>\n",
       "      <td>1.66</td>\n",
       "      <td>30301</td>\n",
       "      <td>39.89</td>\n",
       "      <td>1</td>\n",
       "    </tr>\n",
       "    <tr>\n",
       "      <th>2</th>\n",
       "      <td>713762</td>\n",
       "      <td>3</td>\n",
       "      <td>2.4</td>\n",
       "      <td>3163</td>\n",
       "      <td>1966</td>\n",
       "      <td>2</td>\n",
       "      <td>0.99</td>\n",
       "      <td>30301</td>\n",
       "      <td>84.57</td>\n",
       "      <td>3</td>\n",
       "    </tr>\n",
       "    <tr>\n",
       "      <th>3</th>\n",
       "      <td>881840</td>\n",
       "      <td>5</td>\n",
       "      <td>2.7</td>\n",
       "      <td>3306</td>\n",
       "      <td>1963</td>\n",
       "      <td>2</td>\n",
       "      <td>1.29</td>\n",
       "      <td>60601</td>\n",
       "      <td>49.06</td>\n",
       "      <td>5</td>\n",
       "    </tr>\n",
       "    <tr>\n",
       "      <th>4</th>\n",
       "      <td>881072</td>\n",
       "      <td>5</td>\n",
       "      <td>2.9</td>\n",
       "      <td>3591</td>\n",
       "      <td>1965</td>\n",
       "      <td>1</td>\n",
       "      <td>1.54</td>\n",
       "      <td>30301</td>\n",
       "      <td>53.41</td>\n",
       "      <td>4</td>\n",
       "    </tr>\n",
       "  </tbody>\n",
       "</table>\n",
       "</div>"
      ],
      "text/plain": [
       "    Price  Bedrooms  Bathrooms  SquareFeet  YearBuilt  GarageSpaces  LotSize  \\\n",
       "0  768057         4        1.7        2847       1972             2     1.46   \n",
       "1  712254         5        3.3        2740       1964             1     1.66   \n",
       "2  713762         3        2.4        3163       1966             2     0.99   \n",
       "3  881840         5        2.7        3306       1963             2     1.29   \n",
       "4  881072         5        2.9        3591       1965             1     1.54   \n",
       "\n",
       "   ZipCode  CrimeRate  SchoolRating  \n",
       "0    75201      37.28            10  \n",
       "1    30301      39.89             1  \n",
       "2    30301      84.57             3  \n",
       "3    60601      49.06             5  \n",
       "4    30301      53.41             4  "
      ]
     },
     "execution_count": 32,
     "metadata": {},
     "output_type": "execute_result"
    }
   ],
   "source": [
    "df2 = pd.read_csv(\"usa_housing_realistic.csv\")\n",
    "df2.head()"
   ]
  },
  {
   "cell_type": "code",
   "execution_count": 33,
   "id": "c73f2a33",
   "metadata": {},
   "outputs": [
    {
     "name": "stdout",
     "output_type": "stream",
     "text": [
      "(5000, 10)\n",
      "\n",
      "\n",
      "<class 'pandas.core.frame.DataFrame'>\n",
      "RangeIndex: 5000 entries, 0 to 4999\n",
      "Data columns (total 10 columns):\n",
      " #   Column        Non-Null Count  Dtype  \n",
      "---  ------        --------------  -----  \n",
      " 0   Price         5000 non-null   int64  \n",
      " 1   Bedrooms      5000 non-null   int64  \n",
      " 2   Bathrooms     5000 non-null   float64\n",
      " 3   SquareFeet    5000 non-null   int64  \n",
      " 4   YearBuilt     5000 non-null   int64  \n",
      " 5   GarageSpaces  5000 non-null   int64  \n",
      " 6   LotSize       5000 non-null   float64\n",
      " 7   ZipCode       5000 non-null   int64  \n",
      " 8   CrimeRate     5000 non-null   float64\n",
      " 9   SchoolRating  5000 non-null   int64  \n",
      "dtypes: float64(3), int64(7)\n",
      "memory usage: 390.8 KB\n",
      "None\n",
      "\n",
      "\n",
      "              Price     Bedrooms    Bathrooms   SquareFeet    YearBuilt  \\\n",
      "count  5.000000e+03  5000.000000  5000.000000  5000.000000  5000.000000   \n",
      "mean   6.907359e+05     3.010800     2.890500  2704.120200  1985.472200   \n",
      "std    1.835829e+05     1.424601     0.661585   746.768298    21.087384   \n",
      "min    1.302280e+05     1.000000     1.000000   400.000000  1950.000000   \n",
      "25%    5.542125e+05     2.000000     2.400000  2163.000000  1967.000000   \n",
      "50%    6.893525e+05     3.000000     2.900000  2695.000000  1985.000000   \n",
      "75%    8.266085e+05     4.000000     3.300000  3252.250000  2003.000000   \n",
      "max    1.326626e+06     5.000000     5.000000  5188.000000  2022.000000   \n",
      "\n",
      "       GarageSpaces      LotSize       ZipCode    CrimeRate  SchoolRating  \n",
      "count   5000.000000  5000.000000   5000.000000  5000.000000    5000.00000  \n",
      "mean       1.513600     1.103114  53936.240000    49.794338       5.52780  \n",
      "std        0.811632     0.410293  30065.425261    19.775083       2.84423  \n",
      "min        0.000000     0.100000  10001.000000     0.000000       1.00000  \n",
      "25%        1.000000     0.810000  30301.000000    36.605000       3.00000  \n",
      "50%        2.000000     1.100000  60601.000000    49.685000       6.00000  \n",
      "75%        2.000000     1.390000  75201.000000    63.250000       8.00000  \n",
      "max        3.000000     2.350000  94101.000000   100.000000      10.00000  \n"
     ]
    }
   ],
   "source": [
    "print(df2.shape)\n",
    "print(\"\\n\")\n",
    "print(df2.info())\n",
    "print(\"\\n\")\n",
    "print(df2.describe())"
   ]
  },
  {
   "cell_type": "code",
   "execution_count": 34,
   "id": "afa4c6e9",
   "metadata": {},
   "outputs": [
    {
     "name": "stdout",
     "output_type": "stream",
     "text": [
      "Amount of data in the dataset: \n"
     ]
    },
    {
     "data": {
      "text/plain": [
       "5000"
      ]
     },
     "execution_count": 34,
     "metadata": {},
     "output_type": "execute_result"
    }
   ],
   "source": [
    "print(\"Amount of data in the dataset: \")\n",
    "len(df2)"
   ]
  },
  {
   "cell_type": "markdown",
   "id": "98f839de",
   "metadata": {},
   "source": [
    "#### Clean the dataset and handle mising values"
   ]
  },
  {
   "cell_type": "code",
   "execution_count": 35,
   "id": "1706c681",
   "metadata": {},
   "outputs": [
    {
     "data": {
      "application/vnd.microsoft.datawrangler.viewer.v0+json": {
       "columns": [
        {
         "name": "index",
         "rawType": "object",
         "type": "string"
        },
        {
         "name": "0",
         "rawType": "int64",
         "type": "integer"
        }
       ],
       "ref": "f035634b-020d-41d2-a056-3f289f7e1296",
       "rows": [
        [
         "Price",
         "0"
        ],
        [
         "Bedrooms",
         "0"
        ],
        [
         "Bathrooms",
         "0"
        ],
        [
         "SquareFeet",
         "0"
        ],
        [
         "YearBuilt",
         "0"
        ],
        [
         "GarageSpaces",
         "0"
        ],
        [
         "LotSize",
         "0"
        ],
        [
         "ZipCode",
         "0"
        ],
        [
         "CrimeRate",
         "0"
        ],
        [
         "SchoolRating",
         "0"
        ]
       ],
       "shape": {
        "columns": 1,
        "rows": 10
       }
      },
      "text/plain": [
       "Price           0\n",
       "Bedrooms        0\n",
       "Bathrooms       0\n",
       "SquareFeet      0\n",
       "YearBuilt       0\n",
       "GarageSpaces    0\n",
       "LotSize         0\n",
       "ZipCode         0\n",
       "CrimeRate       0\n",
       "SchoolRating    0\n",
       "dtype: int64"
      ]
     },
     "execution_count": 35,
     "metadata": {},
     "output_type": "execute_result"
    }
   ],
   "source": [
    "df2.isna().sum()"
   ]
  },
  {
   "cell_type": "markdown",
   "id": "9e7a3837",
   "metadata": {},
   "source": [
    "#### Check if there are any duplicates"
   ]
  },
  {
   "cell_type": "code",
   "execution_count": 36,
   "id": "5e612feb",
   "metadata": {},
   "outputs": [
    {
     "name": "stdout",
     "output_type": "stream",
     "text": [
      "Duplicates: \n"
     ]
    },
    {
     "data": {
      "text/plain": [
       "0"
      ]
     },
     "execution_count": 36,
     "metadata": {},
     "output_type": "execute_result"
    }
   ],
   "source": [
    "print(\"Duplicates: \")\n",
    "duplicates = int(df2.duplicated().sum())\n",
    "duplicates"
   ]
  },
  {
   "cell_type": "code",
   "execution_count": 37,
   "id": "d716db37",
   "metadata": {},
   "outputs": [],
   "source": [
    "def zipcode_to_region(zipcode):\n",
    "    if 10000 <= zipcode < 30000:\n",
    "        return \"East\"\n",
    "    elif 30000 <= zipcode < 50000:\n",
    "        return \"South\"\n",
    "    elif 50000 <= zipcode < 70000:\n",
    "        return \"North\"\n",
    "    else:\n",
    "        return \"West\"\n",
    "\n",
    "df2 = df2.drop(columns=[\"Region_East\", \"Region_West\", \"Region_South\", \"Region_North\"], errors=\"ignore\")\n",
    "\n",
    "df2[\"Region\"] = df2[\"ZipCode\"].apply(zipcode_to_region)\n",
    "\n",
    "df2 = pd.get_dummies(df2, columns=[\"Region\"], drop_first=False)\n",
    "\n",
    "y = df2[\"Price\"]\n",
    "X = df2.drop([\"Price\", \"ZipCode\"], axis=1)"
   ]
  },
  {
   "cell_type": "markdown",
   "id": "7901264d",
   "metadata": {},
   "source": [
    "#### Correlation"
   ]
  },
  {
   "cell_type": "code",
   "execution_count": 38,
   "id": "a078e6af",
   "metadata": {},
   "outputs": [
    {
     "data": {
      "image/png": "[encoded data removed]",
      "text/plain": [
       "<Figure size 1000x600 with 2 Axes>"
      ]
     },
     "metadata": {},
     "output_type": "display_data"
    }
   ],
   "source": [
    "corr = X.join(y).corr(numeric_only=True)\n",
    "\n",
    "plt.figure(figsize=(10, 6))\n",
    "sns.heatmap(corr, annot=True, cmap=\"coolwarm\", fmt=\".2f\")\n",
    "plt.title(\"Correlation Matrix of Housing Data\")\n",
    "plt.show()"
   ]
  },
  {
   "cell_type": "markdown",
   "id": "42ec4546",
   "metadata": {},
   "source": [
    "In this new correlation matrix, the key variables like SquareFeet, Bedrooms, and LotSize show a stronger and clearer relationship with Price compared to the earlier results. "
   ]
  },
  {
   "cell_type": "markdown",
   "id": "e7511d5b",
   "metadata": {},
   "source": [
    "#### Fisher-Score"
   ]
  },
  {
   "cell_type": "code",
   "execution_count": 39,
   "id": "ea7eed10",
   "metadata": {},
   "outputs": [
    {
     "data": {
      "image/png": "[encoded data removed]",
      "text/plain": [
       "<Figure size 800x500 with 1 Axes>"
      ]
     },
     "metadata": {},
     "output_type": "display_data"
    }
   ],
   "source": [
    "from skfeature.function.similarity_based import fisher_score\n",
    "\n",
    "y_binned = pd.qcut(y, q=4, labels=False)\n",
    "\n",
    "ranks = fisher_score.fisher_score(X.values, y_binned.values)\n",
    "feat_importances = pd.Series(ranks, index=X.columns)\n",
    "\n",
    "feat_importances.sort_values(ascending=False).plot(kind=\"barh\", figsize=(8,5))\n",
    "plt.title(\"Feature Importance by Fisher Score\")\n",
    "plt.show()"
   ]
  },
  {
   "cell_type": "markdown",
   "id": "0147456e",
   "metadata": {},
   "source": [
    "In this Fisher Score plot, features like Bathrooms, YearBuilt, and Bedrooms now stand out as the most important, while the region variables have very little influence. Compared to the earlier results, the ranking looks clearer and more realistic."
   ]
  },
  {
   "cell_type": "markdown",
   "id": "9229de6e",
   "metadata": {},
   "source": [
    "#### SelectKBest-Score"
   ]
  },
  {
   "cell_type": "code",
   "execution_count": 40,
   "id": "6733b339",
   "metadata": {},
   "outputs": [
    {
     "name": "stdout",
     "output_type": "stream",
     "text": [
      "         Feature    Chi2 Score\n",
      "2     SquareFeet  1.030823e+06\n",
      "6      CrimeRate  3.911576e+04\n",
      "7   SchoolRating  7.296236e+03\n",
      "8    Region_East  4.040463e+03\n",
      "9   Region_North  3.997633e+03\n",
      "10  Region_South  3.911387e+03\n",
      "0       Bedrooms  3.365855e+03\n",
      "11   Region_West  3.007443e+03\n",
      "4   GarageSpaces  2.167729e+03\n",
      "3      YearBuilt  1.115821e+03\n",
      "5        LotSize  7.609664e+02\n",
      "1      Bathrooms  7.556214e+02\n"
     ]
    },
    {
     "name": "stderr",
     "output_type": "stream",
     "text": [
      "d:\\5. Semester\\Deep Learning\\DL-projects\\venv312\\Lib\\site-packages\\sklearn\\preprocessing\\_label.py:302: UserWarning: The number of unique classes is greater than 50% of the number of samples. `y` could represent a regression problem, not a classification problem.\n",
      "  self.y_type_ = type_of_target(y, input_name=\"y\")\n",
      "d:\\5. Semester\\Deep Learning\\DL-projects\\venv312\\Lib\\site-packages\\sklearn\\utils\\multiclass.py:79: UserWarning: The number of unique classes is greater than 50% of the number of samples. `y` could represent a regression problem, not a classification problem.\n",
      "  ys_types = set(type_of_target(x) for x in ys)\n",
      "d:\\5. Semester\\Deep Learning\\DL-projects\\venv312\\Lib\\site-packages\\sklearn\\preprocessing\\_label.py:359: UserWarning: The number of unique classes is greater than 50% of the number of samples. `y` could represent a regression problem, not a classification problem.\n",
      "  y_is_multilabel = type_of_target(y).startswith(\"multilabel\")\n",
      "d:\\5. Semester\\Deep Learning\\DL-projects\\venv312\\Lib\\site-packages\\sklearn\\preprocessing\\_label.py:528: UserWarning: The number of unique classes is greater than 50% of the number of samples. `y` could represent a regression problem, not a classification problem.\n",
      "  y_type = type_of_target(y)\n"
     ]
    }
   ],
   "source": [
    "from sklearn.feature_selection import SelectKBest, chi2\n",
    "import numpy as np\n",
    "\n",
    "X_cat = np.abs(X)  \n",
    "y_cat = y.astype(int)\n",
    "\n",
    "chi2_selector = SelectKBest(score_func=chi2, k=\"all\")\n",
    "chi2_selector.fit(X_cat, y_cat)\n",
    "\n",
    "chi2_scores = pd.DataFrame({\n",
    "    \"Feature\": X_cat.columns,\n",
    "    \"Chi2 Score\": chi2_selector.scores_\n",
    "}).sort_values(by=\"Chi2 Score\", ascending=False)\n",
    "\n",
    "print(chi2_scores)"
   ]
  },
  {
   "cell_type": "markdown",
   "id": "ee4b12ba",
   "metadata": {},
   "source": [
    "In this Chi² test, SquareFeet dominates as the most important feature, followed by CrimeRate and SchoolRating, while variables like LotSize and Bathrooms have much lower scores. Compared to the earlier results, the importance is more concentrated on meaningful features. This indicates, that using a larger dataset with good data, could improve the Chi²-Score."
   ]
  },
  {
   "cell_type": "markdown",
   "id": "2d33b1a1",
   "metadata": {},
   "source": [
    "#### VIF-Test"
   ]
  },
  {
   "cell_type": "code",
   "execution_count": 41,
   "id": "4a2a648a",
   "metadata": {},
   "outputs": [
    {
     "name": "stdout",
     "output_type": "stream",
     "text": [
      "         Feature          VIF\n",
      "0       Bedrooms     3.930642\n",
      "1      Bathrooms     1.686300\n",
      "2     SquareFeet     2.297704\n",
      "3      YearBuilt     1.001190\n",
      "4   GarageSpaces     1.000970\n",
      "5        LotSize     1.903355\n",
      "6      CrimeRate     1.002097\n",
      "7   SchoolRating     1.000972\n",
      "8    Region_East  1697.028720\n",
      "9   Region_North  1755.826894\n",
      "10  Region_South  1937.604167\n",
      "11   Region_West  3549.056924\n"
     ]
    }
   ],
   "source": [
    "from statsmodels.stats.outliers_influence import variance_inflation_factor\n",
    "\n",
    "X_vif = X.copy()\n",
    "\n",
    "X_vif = X_vif.astype(float)\n",
    "\n",
    "vif_data = pd.DataFrame()\n",
    "vif_data[\"Feature\"] = X_vif.columns\n",
    "vif_data[\"VIF\"] = [variance_inflation_factor(X_vif.values, i) for i in range(len(X_vif.columns))]\n",
    "\n",
    "print(vif_data)"
   ]
  },
  {
   "cell_type": "markdown",
   "id": "8352ec82",
   "metadata": {},
   "source": [
    "The VIF results show that most numeric features (like Bedrooms, SquareFeet, LotSize) have low multicollinearity, which is good. However, the Region variables still have extremely high VIF values, meaning they overlap heavily and could cause instability in the model. Compared to before, this confirms that the categorical encoding of regions remains a challenge."
   ]
  },
  {
   "cell_type": "markdown",
   "id": "5187eb27",
   "metadata": {},
   "source": [
    "#### X/y -Split"
   ]
  },
  {
   "cell_type": "code",
   "execution_count": 42,
   "id": "18d6ba7f",
   "metadata": {},
   "outputs": [
    {
     "name": "stdout",
     "output_type": "stream",
     "text": [
      "Training size: (3500, 12)\n",
      "Validation size: (750, 12)\n",
      "Test size: (750, 12)\n"
     ]
    }
   ],
   "source": [
    "X_train, X_temp, y_train, y_temp = train_test_split(X, y, test_size=0.3)\n",
    "\n",
    "X_val, X_test, y_val, y_test = train_test_split(X_temp, y_temp, test_size=0.5)\n",
    "\n",
    "print(\"Training size:\", X_train.shape)\n",
    "print(\"Validation size:\", X_val.shape)\n",
    "print(\"Test size:\", X_test.shape)"
   ]
  },
  {
   "cell_type": "markdown",
   "id": "6f84828b",
   "metadata": {},
   "source": [
    "#### Scaling of the Data"
   ]
  },
  {
   "cell_type": "code",
   "execution_count": 43,
   "id": "1b018a08",
   "metadata": {},
   "outputs": [],
   "source": [
    "from sklearn.preprocessing import StandardScaler\n",
    "\n",
    "scaler = StandardScaler()\n",
    "\n",
    "X_train = scaler.fit_transform(X_train)\n",
    "X_val   = scaler.transform(X_val)\n",
    "X_test  = scaler.transform(X_test)\n"
   ]
  },
  {
   "cell_type": "markdown",
   "id": "d4c90847",
   "metadata": {},
   "source": [
    "#### Create a neural network structure"
   ]
  },
  {
   "cell_type": "code",
   "execution_count": 44,
   "id": "358c794f",
   "metadata": {},
   "outputs": [
    {
     "name": "stderr",
     "output_type": "stream",
     "text": [
      "d:\\5. Semester\\Deep Learning\\DL-projects\\venv312\\Lib\\site-packages\\keras\\src\\layers\\normalization\\batch_normalization.py:142: UserWarning: Do not pass an `input_shape`/`input_dim` argument to a layer. When using Sequential models, prefer using an `Input(shape)` object as the first layer in the model instead.\n",
      "  super().__init__(**kwargs)\n"
     ]
    },
    {
     "data": {
      "text/html": [
       "<pre style=\"white-space:pre;overflow-x:auto;line-height:normal;font-family:Menlo,'DejaVu Sans Mono',consolas,'Courier New',monospace\"><span style=\"font-weight: bold\">Model: \"sequential_1\"</span>\n",
       "</pre>\n"
      ],
      "text/plain": [
       "\u001b[1mModel: \"sequential_1\"\u001b[0m\n"
      ]
     },
     "metadata": {},
     "output_type": "display_data"
    },
    {
     "data": {
      "text/html": [
       "<pre style=\"white-space:pre;overflow-x:auto;line-height:normal;font-family:Menlo,'DejaVu Sans Mono',consolas,'Courier New',monospace\">┏━━━━━━━━━━━━━━━━━━━━━━━━━━━━━━━━━┳━━━━━━━━━━━━━━━━━━━━━━━━┳━━━━━━━━━━━━━━━┓\n",
       "┃<span style=\"font-weight: bold\"> Layer (type)                    </span>┃<span style=\"font-weight: bold\"> Output Shape           </span>┃<span style=\"font-weight: bold\">       Param # </span>┃\n",
       "┡━━━━━━━━━━━━━━━━━━━━━━━━━━━━━━━━━╇━━━━━━━━━━━━━━━━━━━━━━━━╇━━━━━━━━━━━━━━━┩\n",
       "│ batch_normalization_1           │ (<span style=\"color: #00d7ff; text-decoration-color: #00d7ff\">None</span>, <span style=\"color: #00af00; text-decoration-color: #00af00\">12</span>)             │            <span style=\"color: #00af00; text-decoration-color: #00af00\">48</span> │\n",
       "│ (<span style=\"color: #0087ff; text-decoration-color: #0087ff\">BatchNormalization</span>)            │                        │               │\n",
       "├─────────────────────────────────┼────────────────────────┼───────────────┤\n",
       "│ dense_4 (<span style=\"color: #0087ff; text-decoration-color: #0087ff\">Dense</span>)                 │ (<span style=\"color: #00d7ff; text-decoration-color: #00d7ff\">None</span>, <span style=\"color: #00af00; text-decoration-color: #00af00\">16</span>)             │           <span style=\"color: #00af00; text-decoration-color: #00af00\">208</span> │\n",
       "├─────────────────────────────────┼────────────────────────┼───────────────┤\n",
       "│ dense_5 (<span style=\"color: #0087ff; text-decoration-color: #0087ff\">Dense</span>)                 │ (<span style=\"color: #00d7ff; text-decoration-color: #00d7ff\">None</span>, <span style=\"color: #00af00; text-decoration-color: #00af00\">8</span>)              │           <span style=\"color: #00af00; text-decoration-color: #00af00\">136</span> │\n",
       "├─────────────────────────────────┼────────────────────────┼───────────────┤\n",
       "│ dense_6 (<span style=\"color: #0087ff; text-decoration-color: #0087ff\">Dense</span>)                 │ (<span style=\"color: #00d7ff; text-decoration-color: #00d7ff\">None</span>, <span style=\"color: #00af00; text-decoration-color: #00af00\">4</span>)              │            <span style=\"color: #00af00; text-decoration-color: #00af00\">36</span> │\n",
       "├─────────────────────────────────┼────────────────────────┼───────────────┤\n",
       "│ dense_7 (<span style=\"color: #0087ff; text-decoration-color: #0087ff\">Dense</span>)                 │ (<span style=\"color: #00d7ff; text-decoration-color: #00d7ff\">None</span>, <span style=\"color: #00af00; text-decoration-color: #00af00\">1</span>)              │             <span style=\"color: #00af00; text-decoration-color: #00af00\">5</span> │\n",
       "└─────────────────────────────────┴────────────────────────┴───────────────┘\n",
       "</pre>\n"
      ],
      "text/plain": [
       "┏━━━━━━━━━━━━━━━━━━━━━━━━━━━━━━━━━┳━━━━━━━━━━━━━━━━━━━━━━━━┳━━━━━━━━━━━━━━━┓\n",
       "┃\u001b[1m \u001b[0m\u001b[1mLayer (type)                   \u001b[0m\u001b[1m \u001b[0m┃\u001b[1m \u001b[0m\u001b[1mOutput Shape          \u001b[0m\u001b[1m \u001b[0m┃\u001b[1m \u001b[0m\u001b[1m      Param #\u001b[0m\u001b[1m \u001b[0m┃\n",
       "┡━━━━━━━━━━━━━━━━━━━━━━━━━━━━━━━━━╇━━━━━━━━━━━━━━━━━━━━━━━━╇━━━━━━━━━━━━━━━┩\n",
       "│ batch_normalization_1           │ (\u001b[38;5;45mNone\u001b[0m, \u001b[38;5;34m12\u001b[0m)             │            \u001b[38;5;34m48\u001b[0m │\n",
       "│ (\u001b[38;5;33mBatchNormalization\u001b[0m)            │                        │               │\n",
       "├─────────────────────────────────┼────────────────────────┼───────────────┤\n",
       "│ dense_4 (\u001b[38;5;33mDense\u001b[0m)                 │ (\u001b[38;5;45mNone\u001b[0m, \u001b[38;5;34m16\u001b[0m)             │           \u001b[38;5;34m208\u001b[0m │\n",
       "├─────────────────────────────────┼────────────────────────┼───────────────┤\n",
       "│ dense_5 (\u001b[38;5;33mDense\u001b[0m)                 │ (\u001b[38;5;45mNone\u001b[0m, \u001b[38;5;34m8\u001b[0m)              │           \u001b[38;5;34m136\u001b[0m │\n",
       "├─────────────────────────────────┼────────────────────────┼───────────────┤\n",
       "│ dense_6 (\u001b[38;5;33mDense\u001b[0m)                 │ (\u001b[38;5;45mNone\u001b[0m, \u001b[38;5;34m4\u001b[0m)              │            \u001b[38;5;34m36\u001b[0m │\n",
       "├─────────────────────────────────┼────────────────────────┼───────────────┤\n",
       "│ dense_7 (\u001b[38;5;33mDense\u001b[0m)                 │ (\u001b[38;5;45mNone\u001b[0m, \u001b[38;5;34m1\u001b[0m)              │             \u001b[38;5;34m5\u001b[0m │\n",
       "└─────────────────────────────────┴────────────────────────┴───────────────┘\n"
      ]
     },
     "metadata": {},
     "output_type": "display_data"
    },
    {
     "data": {
      "text/html": [
       "<pre style=\"white-space:pre;overflow-x:auto;line-height:normal;font-family:Menlo,'DejaVu Sans Mono',consolas,'Courier New',monospace\"><span style=\"font-weight: bold\"> Total params: </span><span style=\"color: #00af00; text-decoration-color: #00af00\">433</span> (1.69 KB)\n",
       "</pre>\n"
      ],
      "text/plain": [
       "\u001b[1m Total params: \u001b[0m\u001b[38;5;34m433\u001b[0m (1.69 KB)\n"
      ]
     },
     "metadata": {},
     "output_type": "display_data"
    },
    {
     "data": {
      "text/html": [
       "<pre style=\"white-space:pre;overflow-x:auto;line-height:normal;font-family:Menlo,'DejaVu Sans Mono',consolas,'Courier New',monospace\"><span style=\"font-weight: bold\"> Trainable params: </span><span style=\"color: #00af00; text-decoration-color: #00af00\">409</span> (1.60 KB)\n",
       "</pre>\n"
      ],
      "text/plain": [
       "\u001b[1m Trainable params: \u001b[0m\u001b[38;5;34m409\u001b[0m (1.60 KB)\n"
      ]
     },
     "metadata": {},
     "output_type": "display_data"
    },
    {
     "data": {
      "text/html": [
       "<pre style=\"white-space:pre;overflow-x:auto;line-height:normal;font-family:Menlo,'DejaVu Sans Mono',consolas,'Courier New',monospace\"><span style=\"font-weight: bold\"> Non-trainable params: </span><span style=\"color: #00af00; text-decoration-color: #00af00\">24</span> (96.00 B)\n",
       "</pre>\n"
      ],
      "text/plain": [
       "\u001b[1m Non-trainable params: \u001b[0m\u001b[38;5;34m24\u001b[0m (96.00 B)\n"
      ]
     },
     "metadata": {},
     "output_type": "display_data"
    }
   ],
   "source": [
    "from keras.callbacks import ModelCheckpoint, EarlyStopping, ReduceLROnPlateau\n",
    "\n",
    "variable_amount = len(X.columns)\n",
    "\n",
    "neural_model_12 = keras.Sequential(\n",
    "    [\n",
    "        layers.BatchNormalization(input_shape=(variable_amount,)),\n",
    "        layers.Dense(16, activation=\"relu\"),\n",
    "        layers.Dense(8, activation=\"relu\"),\n",
    "        layers.Dense(4, activation=\"relu\"),\n",
    "        layers.Dense(1)\n",
    "    ]\n",
    ")\n",
    "\n",
    "neural_model_12.compile(optimizer=\"adam\", loss=\"mse\")\n",
    "\n",
    "neural_model_12.summary()"
   ]
  },
  {
   "cell_type": "markdown",
   "id": "53b42ec0",
   "metadata": {},
   "source": [
    "#### Train the neural network"
   ]
  },
  {
   "cell_type": "code",
   "execution_count": 45,
   "id": "f8bdab26",
   "metadata": {},
   "outputs": [
    {
     "name": "stdout",
     "output_type": "stream",
     "text": [
      "Epoch 1/300\n",
      "\u001b[1m110/110\u001b[0m \u001b[32m━━━━━━━━━━━━━━━━━━━━\u001b[0m\u001b[37m\u001b[0m \u001b[1m2s\u001b[0m 4ms/step - loss: 507879915520.0000 - val_loss: 516990763008.0000\n",
      "Epoch 2/300\n",
      "\u001b[1m110/110\u001b[0m \u001b[32m━━━━━━━━━━━━━━━━━━━━\u001b[0m\u001b[37m\u001b[0m \u001b[1m0s\u001b[0m 2ms/step - loss: 507845279744.0000 - val_loss: 516892655616.0000\n",
      "Epoch 3/300\n",
      "\u001b[1m110/110\u001b[0m \u001b[32m━━━━━━━━━━━━━━━━━━━━\u001b[0m\u001b[37m\u001b[0m \u001b[1m0s\u001b[0m 2ms/step - loss: 507485126656.0000 - val_loss: 516049174528.0000\n",
      "Epoch 4/300\n",
      "\u001b[1m110/110\u001b[0m \u001b[32m━━━━━━━━━━━━━━━━━━━━\u001b[0m\u001b[37m\u001b[0m \u001b[1m0s\u001b[0m 3ms/step - loss: 505225183232.0000 - val_loss: 511655608320.0000\n",
      "Epoch 5/300\n",
      "\u001b[1m110/110\u001b[0m \u001b[32m━━━━━━━━━━━━━━━━━━━━\u001b[0m\u001b[37m\u001b[0m \u001b[1m0s\u001b[0m 3ms/step - loss: 496368287744.0000 - val_loss: 497019027456.0000\n",
      "Epoch 6/300\n",
      "\u001b[1m110/110\u001b[0m \u001b[32m━━━━━━━━━━━━━━━━━━━━\u001b[0m\u001b[37m\u001b[0m \u001b[1m0s\u001b[0m 4ms/step - loss: 472601624576.0000 - val_loss: 462561345536.0000\n",
      "Epoch 7/300\n",
      "\u001b[1m110/110\u001b[0m \u001b[32m━━━━━━━━━━━━━━━━━━━━\u001b[0m\u001b[37m\u001b[0m \u001b[1m0s\u001b[0m 3ms/step - loss: 424216887296.0000 - val_loss: 398784528384.0000\n",
      "Epoch 8/300\n",
      "\u001b[1m110/110\u001b[0m \u001b[32m━━━━━━━━━━━━━━━━━━━━\u001b[0m\u001b[37m\u001b[0m \u001b[1m0s\u001b[0m 3ms/step - loss: 345475481600.0000 - val_loss: 303669706752.0000\n",
      "Epoch 9/300\n",
      "\u001b[1m110/110\u001b[0m \u001b[32m━━━━━━━━━━━━━━━━━━━━\u001b[0m\u001b[37m\u001b[0m \u001b[1m0s\u001b[0m 3ms/step - loss: 242159075328.0000 - val_loss: 192300531712.0000\n",
      "Epoch 10/300\n",
      "\u001b[1m110/110\u001b[0m \u001b[32m━━━━━━━━━━━━━━━━━━━━\u001b[0m\u001b[37m\u001b[0m \u001b[1m0s\u001b[0m 3ms/step - loss: 136804466688.0000 - val_loss: 94201094144.0000\n",
      "Epoch 11/300\n",
      "\u001b[1m110/110\u001b[0m \u001b[32m━━━━━━━━━━━━━━━━━━━━\u001b[0m\u001b[37m\u001b[0m \u001b[1m0s\u001b[0m 3ms/step - loss: 60272549888.0000 - val_loss: 36952457216.0000\n",
      "Epoch 12/300\n",
      "\u001b[1m110/110\u001b[0m \u001b[32m━━━━━━━━━━━━━━━━━━━━\u001b[0m\u001b[37m\u001b[0m \u001b[1m0s\u001b[0m 3ms/step - loss: 24182439936.0000 - val_loss: 15879653376.0000\n",
      "Epoch 13/300\n",
      "\u001b[1m110/110\u001b[0m \u001b[32m━━━━━━━━━━━━━━━━━━━━\u001b[0m\u001b[37m\u001b[0m \u001b[1m0s\u001b[0m 2ms/step - loss: 12994178048.0000 - val_loss: 9982799872.0000\n",
      "Epoch 14/300\n",
      "\u001b[1m110/110\u001b[0m \u001b[32m━━━━━━━━━━━━━━━━━━━━\u001b[0m\u001b[37m\u001b[0m \u001b[1m0s\u001b[0m 3ms/step - loss: 9636489216.0000 - val_loss: 7670519296.0000\n",
      "Epoch 15/300\n",
      "\u001b[1m110/110\u001b[0m \u001b[32m━━━━━━━━━━━━━━━━━━━━\u001b[0m\u001b[37m\u001b[0m \u001b[1m0s\u001b[0m 3ms/step - loss: 7902276096.0000 - val_loss: 6129741824.0000\n",
      "Epoch 16/300\n",
      "\u001b[1m110/110\u001b[0m \u001b[32m━━━━━━━━━━━━━━━━━━━━\u001b[0m\u001b[37m\u001b[0m \u001b[1m0s\u001b[0m 2ms/step - loss: 6586674688.0000 - val_loss: 4930173440.0000\n",
      "Epoch 17/300\n",
      "\u001b[1m110/110\u001b[0m \u001b[32m━━━━━━━━━━━━━━━━━━━━\u001b[0m\u001b[37m\u001b[0m \u001b[1m0s\u001b[0m 2ms/step - loss: 5389064704.0000 - val_loss: 4002048256.0000\n",
      "Epoch 18/300\n",
      "\u001b[1m110/110\u001b[0m \u001b[32m━━━━━━━━━━━━━━━━━━━━\u001b[0m\u001b[37m\u001b[0m \u001b[1m0s\u001b[0m 2ms/step - loss: 4640404992.0000 - val_loss: 3271021568.0000\n",
      "Epoch 19/300\n",
      "\u001b[1m110/110\u001b[0m \u001b[32m━━━━━━━━━━━━━━━━━━━━\u001b[0m\u001b[37m\u001b[0m \u001b[1m0s\u001b[0m 3ms/step - loss: 4084912384.0000 - val_loss: 2661566976.0000\n",
      "Epoch 20/300\n",
      "\u001b[1m110/110\u001b[0m \u001b[32m━━━━━━━━━━━━━━━━━━━━\u001b[0m\u001b[37m\u001b[0m \u001b[1m0s\u001b[0m 3ms/step - loss: 3538873344.0000 - val_loss: 2264726272.0000\n",
      "Epoch 21/300\n",
      "\u001b[1m110/110\u001b[0m \u001b[32m━━━━━━━━━━━━━━━━━━━━\u001b[0m\u001b[37m\u001b[0m \u001b[1m0s\u001b[0m 3ms/step - loss: 3111658240.0000 - val_loss: 1928552576.0000\n",
      "Epoch 22/300\n",
      "\u001b[1m110/110\u001b[0m \u001b[32m━━━━━━━━━━━━━━━━━━━━\u001b[0m\u001b[37m\u001b[0m \u001b[1m0s\u001b[0m 3ms/step - loss: 3025581824.0000 - val_loss: 1641775360.0000\n",
      "Epoch 23/300\n",
      "\u001b[1m110/110\u001b[0m \u001b[32m━━━━━━━━━━━━━━━━━━━━\u001b[0m\u001b[37m\u001b[0m \u001b[1m0s\u001b[0m 3ms/step - loss: 2630944768.0000 - val_loss: 1424015360.0000\n",
      "Epoch 24/300\n",
      "\u001b[1m110/110\u001b[0m \u001b[32m━━━━━━━━━━━━━━━━━━━━\u001b[0m\u001b[37m\u001b[0m \u001b[1m0s\u001b[0m 2ms/step - loss: 2775220480.0000 - val_loss: 1219321984.0000\n",
      "Epoch 25/300\n",
      "\u001b[1m110/110\u001b[0m \u001b[32m━━━━━━━━━━━━━━━━━━━━\u001b[0m\u001b[37m\u001b[0m \u001b[1m0s\u001b[0m 2ms/step - loss: 2231321856.0000 - val_loss: 1083177728.0000\n",
      "Epoch 26/300\n",
      "\u001b[1m110/110\u001b[0m \u001b[32m━━━━━━━━━━━━━━━━━━━━\u001b[0m\u001b[37m\u001b[0m \u001b[1m0s\u001b[0m 2ms/step - loss: 2195204096.0000 - val_loss: 961515456.0000\n",
      "Epoch 27/300\n",
      "\u001b[1m110/110\u001b[0m \u001b[32m━━━━━━━━━━━━━━━━━━━━\u001b[0m\u001b[37m\u001b[0m \u001b[1m0s\u001b[0m 2ms/step - loss: 2665946368.0000 - val_loss: 862030336.0000\n",
      "Epoch 28/300\n",
      "\u001b[1m110/110\u001b[0m \u001b[32m━━━━━━━━━━━━━━━━━━━━\u001b[0m\u001b[37m\u001b[0m \u001b[1m0s\u001b[0m 2ms/step - loss: 2107085952.0000 - val_loss: 794923648.0000\n",
      "Epoch 29/300\n",
      "\u001b[1m110/110\u001b[0m \u001b[32m━━━━━━━━━━━━━━━━━━━━\u001b[0m\u001b[37m\u001b[0m \u001b[1m0s\u001b[0m 2ms/step - loss: 2038865536.0000 - val_loss: 732608576.0000\n",
      "Epoch 30/300\n",
      "\u001b[1m110/110\u001b[0m \u001b[32m━━━━━━━━━━━━━━━━━━━━\u001b[0m\u001b[37m\u001b[0m \u001b[1m0s\u001b[0m 2ms/step - loss: 2002188288.0000 - val_loss: 689446528.0000\n",
      "Epoch 31/300\n",
      "\u001b[1m110/110\u001b[0m \u001b[32m━━━━━━━━━━━━━━━━━━━━\u001b[0m\u001b[37m\u001b[0m \u001b[1m0s\u001b[0m 3ms/step - loss: 1987371520.0000 - val_loss: 623734144.0000\n",
      "Epoch 32/300\n",
      "\u001b[1m110/110\u001b[0m \u001b[32m━━━━━━━━━━━━━━━━━━━━\u001b[0m\u001b[37m\u001b[0m \u001b[1m0s\u001b[0m 3ms/step - loss: 2087224192.0000 - val_loss: 599236928.0000\n",
      "Epoch 33/300\n",
      "\u001b[1m110/110\u001b[0m \u001b[32m━━━━━━━━━━━━━━━━━━━━\u001b[0m\u001b[37m\u001b[0m \u001b[1m0s\u001b[0m 2ms/step - loss: 1750736896.0000 - val_loss: 562956032.0000\n",
      "Epoch 34/300\n",
      "\u001b[1m110/110\u001b[0m \u001b[32m━━━━━━━━━━━━━━━━━━━━\u001b[0m\u001b[37m\u001b[0m \u001b[1m0s\u001b[0m 2ms/step - loss: 1908387968.0000 - val_loss: 552251776.0000\n",
      "Epoch 35/300\n",
      "\u001b[1m110/110\u001b[0m \u001b[32m━━━━━━━━━━━━━━━━━━━━\u001b[0m\u001b[37m\u001b[0m \u001b[1m0s\u001b[0m 2ms/step - loss: 1911882112.0000 - val_loss: 520982816.0000\n",
      "Epoch 36/300\n",
      "\u001b[1m110/110\u001b[0m \u001b[32m━━━━━━━━━━━━━━━━━━━━\u001b[0m\u001b[37m\u001b[0m \u001b[1m0s\u001b[0m 2ms/step - loss: 1699235968.0000 - val_loss: 546565760.0000\n",
      "Epoch 37/300\n",
      "\u001b[1m110/110\u001b[0m \u001b[32m━━━━━━━━━━━━━━━━━━━━\u001b[0m\u001b[37m\u001b[0m \u001b[1m0s\u001b[0m 2ms/step - loss: 1601388544.0000 - val_loss: 483703744.0000\n",
      "Epoch 38/300\n",
      "\u001b[1m110/110\u001b[0m \u001b[32m━━━━━━━━━━━━━━━━━━━━\u001b[0m\u001b[37m\u001b[0m \u001b[1m0s\u001b[0m 2ms/step - loss: 2242343168.0000 - val_loss: 472291168.0000\n",
      "Epoch 39/300\n",
      "\u001b[1m110/110\u001b[0m \u001b[32m━━━━━━━━━━━━━━━━━━━━\u001b[0m\u001b[37m\u001b[0m \u001b[1m0s\u001b[0m 2ms/step - loss: 1810893312.0000 - val_loss: 468904832.0000\n",
      "Epoch 40/300\n",
      "\u001b[1m110/110\u001b[0m \u001b[32m━━━━━━━━━━━━━━━━━━━━\u001b[0m\u001b[37m\u001b[0m \u001b[1m0s\u001b[0m 2ms/step - loss: 1904685824.0000 - val_loss: 456109280.0000\n",
      "Epoch 41/300\n",
      "\u001b[1m110/110\u001b[0m \u001b[32m━━━━━━━━━━━━━━━━━━━━\u001b[0m\u001b[37m\u001b[0m \u001b[1m0s\u001b[0m 2ms/step - loss: 2040019840.0000 - val_loss: 450531872.0000\n",
      "Epoch 42/300\n",
      "\u001b[1m110/110\u001b[0m \u001b[32m━━━━━━━━━━━━━━━━━━━━\u001b[0m\u001b[37m\u001b[0m \u001b[1m0s\u001b[0m 2ms/step - loss: 1908191104.0000 - val_loss: 436349184.0000\n",
      "Epoch 43/300\n",
      "\u001b[1m110/110\u001b[0m \u001b[32m━━━━━━━━━━━━━━━━━━━━\u001b[0m\u001b[37m\u001b[0m \u001b[1m0s\u001b[0m 2ms/step - loss: 1702649216.0000 - val_loss: 451152480.0000\n",
      "Epoch 44/300\n",
      "\u001b[1m110/110\u001b[0m \u001b[32m━━━━━━━━━━━━━━━━━━━━\u001b[0m\u001b[37m\u001b[0m \u001b[1m0s\u001b[0m 2ms/step - loss: 1552084224.0000 - val_loss: 432982560.0000\n",
      "Epoch 45/300\n",
      "\u001b[1m110/110\u001b[0m \u001b[32m━━━━━━━━━━━━━━━━━━━━\u001b[0m\u001b[37m\u001b[0m \u001b[1m0s\u001b[0m 2ms/step - loss: 1775325696.0000 - val_loss: 432075456.0000\n",
      "Epoch 46/300\n",
      "\u001b[1m110/110\u001b[0m \u001b[32m━━━━━━━━━━━━━━━━━━━━\u001b[0m\u001b[37m\u001b[0m \u001b[1m0s\u001b[0m 3ms/step - loss: 1641685504.0000 - val_loss: 428696480.0000\n",
      "Epoch 47/300\n",
      "\u001b[1m110/110\u001b[0m \u001b[32m━━━━━━━━━━━━━━━━━━━━\u001b[0m\u001b[37m\u001b[0m \u001b[1m0s\u001b[0m 2ms/step - loss: 1870770432.0000 - val_loss: 422983296.0000\n",
      "Epoch 48/300\n",
      "\u001b[1m110/110\u001b[0m \u001b[32m━━━━━━━━━━━━━━━━━━━━\u001b[0m\u001b[37m\u001b[0m \u001b[1m0s\u001b[0m 2ms/step - loss: 1994412800.0000 - val_loss: 443264896.0000\n",
      "Epoch 49/300\n",
      "\u001b[1m110/110\u001b[0m \u001b[32m━━━━━━━━━━━━━━━━━━━━\u001b[0m\u001b[37m\u001b[0m \u001b[1m0s\u001b[0m 3ms/step - loss: 1831003648.0000 - val_loss: 415124672.0000\n",
      "Epoch 50/300\n",
      "\u001b[1m110/110\u001b[0m \u001b[32m━━━━━━━━━━━━━━━━━━━━\u001b[0m\u001b[37m\u001b[0m \u001b[1m0s\u001b[0m 3ms/step - loss: 1900025728.0000 - val_loss: 410732864.0000\n",
      "Epoch 51/300\n",
      "\u001b[1m110/110\u001b[0m \u001b[32m━━━━━━━━━━━━━━━━━━━━\u001b[0m\u001b[37m\u001b[0m \u001b[1m0s\u001b[0m 3ms/step - loss: 1993535744.0000 - val_loss: 429324640.0000\n",
      "Epoch 52/300\n",
      "\u001b[1m110/110\u001b[0m \u001b[32m━━━━━━━━━━━━━━━━━━━━\u001b[0m\u001b[37m\u001b[0m \u001b[1m0s\u001b[0m 2ms/step - loss: 1720545024.0000 - val_loss: 412765504.0000\n",
      "Epoch 53/300\n",
      "\u001b[1m110/110\u001b[0m \u001b[32m━━━━━━━━━━━━━━━━━━━━\u001b[0m\u001b[37m\u001b[0m \u001b[1m0s\u001b[0m 3ms/step - loss: 1723069568.0000 - val_loss: 407652896.0000\n",
      "Epoch 54/300\n",
      "\u001b[1m110/110\u001b[0m \u001b[32m━━━━━━━━━━━━━━━━━━━━\u001b[0m\u001b[37m\u001b[0m \u001b[1m0s\u001b[0m 2ms/step - loss: 1832961664.0000 - val_loss: 426731712.0000\n",
      "Epoch 55/300\n",
      "\u001b[1m110/110\u001b[0m \u001b[32m━━━━━━━━━━━━━━━━━━━━\u001b[0m\u001b[37m\u001b[0m \u001b[1m0s\u001b[0m 2ms/step - loss: 2076600832.0000 - val_loss: 415481984.0000\n",
      "Epoch 56/300\n",
      "\u001b[1m110/110\u001b[0m \u001b[32m━━━━━━━━━━━━━━━━━━━━\u001b[0m\u001b[37m\u001b[0m \u001b[1m0s\u001b[0m 3ms/step - loss: 1663802112.0000 - val_loss: 406391520.0000\n",
      "Epoch 57/300\n",
      "\u001b[1m110/110\u001b[0m \u001b[32m━━━━━━━━━━━━━━━━━━━━\u001b[0m\u001b[37m\u001b[0m \u001b[1m0s\u001b[0m 2ms/step - loss: 1841020800.0000 - val_loss: 433614272.0000\n",
      "Epoch 58/300\n",
      "\u001b[1m110/110\u001b[0m \u001b[32m━━━━━━━━━━━━━━━━━━━━\u001b[0m\u001b[37m\u001b[0m \u001b[1m0s\u001b[0m 3ms/step - loss: 1693125120.0000 - val_loss: 410373440.0000\n",
      "Epoch 59/300\n",
      "\u001b[1m110/110\u001b[0m \u001b[32m━━━━━━━━━━━━━━━━━━━━\u001b[0m\u001b[37m\u001b[0m \u001b[1m0s\u001b[0m 2ms/step - loss: 1775817728.0000 - val_loss: 413850528.0000\n",
      "Epoch 60/300\n",
      "\u001b[1m110/110\u001b[0m \u001b[32m━━━━━━━━━━━━━━━━━━━━\u001b[0m\u001b[37m\u001b[0m \u001b[1m0s\u001b[0m 3ms/step - loss: 1942945664.0000 - val_loss: 431047968.0000\n",
      "Epoch 61/300\n",
      "\u001b[1m110/110\u001b[0m \u001b[32m━━━━━━━━━━━━━━━━━━━━\u001b[0m\u001b[37m\u001b[0m \u001b[1m0s\u001b[0m 3ms/step - loss: 1637164288.0000 - val_loss: 449972544.0000\n",
      "Epoch 62/300\n",
      "\u001b[1m110/110\u001b[0m \u001b[32m━━━━━━━━━━━━━━━━━━━━\u001b[0m\u001b[37m\u001b[0m \u001b[1m0s\u001b[0m 3ms/step - loss: 2111529216.0000 - val_loss: 408305088.0000\n",
      "Epoch 63/300\n",
      "\u001b[1m110/110\u001b[0m \u001b[32m━━━━━━━━━━━━━━━━━━━━\u001b[0m\u001b[37m\u001b[0m \u001b[1m0s\u001b[0m 2ms/step - loss: 1639911424.0000 - val_loss: 413610944.0000\n",
      "Epoch 64/300\n",
      "\u001b[1m110/110\u001b[0m \u001b[32m━━━━━━━━━━━━━━━━━━━━\u001b[0m\u001b[37m\u001b[0m \u001b[1m0s\u001b[0m 2ms/step - loss: 1894986368.0000 - val_loss: 412147648.0000\n",
      "Epoch 65/300\n",
      "\u001b[1m110/110\u001b[0m \u001b[32m━━━━━━━━━━━━━━━━━━━━\u001b[0m\u001b[37m\u001b[0m \u001b[1m0s\u001b[0m 3ms/step - loss: 1873646464.0000 - val_loss: 400681152.0000\n",
      "Epoch 66/300\n",
      "\u001b[1m110/110\u001b[0m \u001b[32m━━━━━━━━━━━━━━━━━━━━\u001b[0m\u001b[37m\u001b[0m \u001b[1m0s\u001b[0m 2ms/step - loss: 1680018688.0000 - val_loss: 416443840.0000\n",
      "Epoch 67/300\n",
      "\u001b[1m110/110\u001b[0m \u001b[32m━━━━━━━━━━━━━━━━━━━━\u001b[0m\u001b[37m\u001b[0m \u001b[1m0s\u001b[0m 2ms/step - loss: 2087905920.0000 - val_loss: 418540064.0000\n",
      "Epoch 68/300\n",
      "\u001b[1m110/110\u001b[0m \u001b[32m━━━━━━━━━━━━━━━━━━━━\u001b[0m\u001b[37m\u001b[0m \u001b[1m0s\u001b[0m 2ms/step - loss: 1697097088.0000 - val_loss: 420114688.0000\n",
      "Epoch 69/300\n",
      "\u001b[1m110/110\u001b[0m \u001b[32m━━━━━━━━━━━━━━━━━━━━\u001b[0m\u001b[37m\u001b[0m \u001b[1m0s\u001b[0m 2ms/step - loss: 1855246720.0000 - val_loss: 410685312.0000\n",
      "Epoch 70/300\n",
      "\u001b[1m110/110\u001b[0m \u001b[32m━━━━━━━━━━━━━━━━━━━━\u001b[0m\u001b[37m\u001b[0m \u001b[1m0s\u001b[0m 2ms/step - loss: 1657721600.0000 - val_loss: 402097824.0000\n",
      "Epoch 71/300\n",
      "\u001b[1m110/110\u001b[0m \u001b[32m━━━━━━━━━━━━━━━━━━━━\u001b[0m\u001b[37m\u001b[0m \u001b[1m0s\u001b[0m 3ms/step - loss: 1771966208.0000 - val_loss: 408476832.0000\n",
      "Epoch 72/300\n",
      "\u001b[1m110/110\u001b[0m \u001b[32m━━━━━━━━━━━━━━━━━━━━\u001b[0m\u001b[37m\u001b[0m \u001b[1m0s\u001b[0m 3ms/step - loss: 1828721536.0000 - val_loss: 455916704.0000\n",
      "Epoch 73/300\n",
      "\u001b[1m110/110\u001b[0m \u001b[32m━━━━━━━━━━━━━━━━━━━━\u001b[0m\u001b[37m\u001b[0m \u001b[1m0s\u001b[0m 2ms/step - loss: 1486617216.0000 - val_loss: 404711488.0000\n",
      "Epoch 74/300\n",
      "\u001b[1m110/110\u001b[0m \u001b[32m━━━━━━━━━━━━━━━━━━━━\u001b[0m\u001b[37m\u001b[0m \u001b[1m0s\u001b[0m 2ms/step - loss: 1503450112.0000 - val_loss: 401092512.0000\n",
      "Epoch 75/300\n",
      "\u001b[1m110/110\u001b[0m \u001b[32m━━━━━━━━━━━━━━━━━━━━\u001b[0m\u001b[37m\u001b[0m \u001b[1m0s\u001b[0m 2ms/step - loss: 1689408000.0000 - val_loss: 398789760.0000\n",
      "Epoch 76/300\n",
      "\u001b[1m110/110\u001b[0m \u001b[32m━━━━━━━━━━━━━━━━━━━━\u001b[0m\u001b[37m\u001b[0m \u001b[1m0s\u001b[0m 2ms/step - loss: 1791251072.0000 - val_loss: 400720128.0000\n",
      "Epoch 77/300\n",
      "\u001b[1m110/110\u001b[0m \u001b[32m━━━━━━━━━━━━━━━━━━━━\u001b[0m\u001b[37m\u001b[0m \u001b[1m0s\u001b[0m 2ms/step - loss: 1925058176.0000 - val_loss: 404898368.0000\n",
      "Epoch 78/300\n",
      "\u001b[1m110/110\u001b[0m \u001b[32m━━━━━━━━━━━━━━━━━━━━\u001b[0m\u001b[37m\u001b[0m \u001b[1m0s\u001b[0m 3ms/step - loss: 1745779968.0000 - val_loss: 401300960.0000\n",
      "Epoch 79/300\n",
      "\u001b[1m110/110\u001b[0m \u001b[32m━━━━━━━━━━━━━━━━━━━━\u001b[0m\u001b[37m\u001b[0m \u001b[1m0s\u001b[0m 2ms/step - loss: 1657125504.0000 - val_loss: 443289440.0000\n",
      "Epoch 80/300\n",
      "\u001b[1m110/110\u001b[0m \u001b[32m━━━━━━━━━━━━━━━━━━━━\u001b[0m\u001b[37m\u001b[0m \u001b[1m0s\u001b[0m 3ms/step - loss: 2051734528.0000 - val_loss: 403025728.0000\n",
      "Epoch 81/300\n",
      "\u001b[1m110/110\u001b[0m \u001b[32m━━━━━━━━━━━━━━━━━━━━\u001b[0m\u001b[37m\u001b[0m \u001b[1m0s\u001b[0m 2ms/step - loss: 1856319616.0000 - val_loss: 468178048.0000\n",
      "Epoch 82/300\n",
      "\u001b[1m110/110\u001b[0m \u001b[32m━━━━━━━━━━━━━━━━━━━━\u001b[0m\u001b[37m\u001b[0m \u001b[1m0s\u001b[0m 3ms/step - loss: 1723121152.0000 - val_loss: 414014688.0000\n",
      "Epoch 83/300\n",
      "\u001b[1m110/110\u001b[0m \u001b[32m━━━━━━━━━━━━━━━━━━━━\u001b[0m\u001b[37m\u001b[0m \u001b[1m0s\u001b[0m 2ms/step - loss: 1664513792.0000 - val_loss: 401449248.0000\n",
      "Epoch 84/300\n",
      "\u001b[1m110/110\u001b[0m \u001b[32m━━━━━━━━━━━━━━━━━━━━\u001b[0m\u001b[37m\u001b[0m \u001b[1m0s\u001b[0m 2ms/step - loss: 1697057024.0000 - val_loss: 404316672.0000\n",
      "Epoch 85/300\n",
      "\u001b[1m110/110\u001b[0m \u001b[32m━━━━━━━━━━━━━━━━━━━━\u001b[0m\u001b[37m\u001b[0m \u001b[1m0s\u001b[0m 2ms/step - loss: 1999290624.0000 - val_loss: 482723808.0000\n",
      "Epoch 86/300\n",
      "\u001b[1m110/110\u001b[0m \u001b[32m━━━━━━━━━━━━━━━━━━━━\u001b[0m\u001b[37m\u001b[0m \u001b[1m0s\u001b[0m 2ms/step - loss: 1771162880.0000 - val_loss: 407908352.0000\n",
      "Epoch 87/300\n",
      "\u001b[1m110/110\u001b[0m \u001b[32m━━━━━━━━━━━━━━━━━━━━\u001b[0m\u001b[37m\u001b[0m \u001b[1m0s\u001b[0m 2ms/step - loss: 1869019264.0000 - val_loss: 398422208.0000\n",
      "Epoch 88/300\n",
      "\u001b[1m110/110\u001b[0m \u001b[32m━━━━━━━━━━━━━━━━━━━━\u001b[0m\u001b[37m\u001b[0m \u001b[1m0s\u001b[0m 2ms/step - loss: 1779802880.0000 - val_loss: 395860512.0000\n",
      "Epoch 89/300\n",
      "\u001b[1m110/110\u001b[0m \u001b[32m━━━━━━━━━━━━━━━━━━━━\u001b[0m\u001b[37m\u001b[0m \u001b[1m0s\u001b[0m 2ms/step - loss: 1532064384.0000 - val_loss: 410159680.0000\n",
      "Epoch 90/300\n",
      "\u001b[1m110/110\u001b[0m \u001b[32m━━━━━━━━━━━━━━━━━━━━\u001b[0m\u001b[37m\u001b[0m \u001b[1m0s\u001b[0m 3ms/step - loss: 2175073024.0000 - val_loss: 398351520.0000\n",
      "Epoch 91/300\n",
      "\u001b[1m110/110\u001b[0m \u001b[32m━━━━━━━━━━━━━━━━━━━━\u001b[0m\u001b[37m\u001b[0m \u001b[1m0s\u001b[0m 2ms/step - loss: 1734707072.0000 - val_loss: 431678560.0000\n",
      "Epoch 92/300\n",
      "\u001b[1m110/110\u001b[0m \u001b[32m━━━━━━━━━━━━━━━━━━━━\u001b[0m\u001b[37m\u001b[0m \u001b[1m0s\u001b[0m 2ms/step - loss: 1608079104.0000 - val_loss: 410858848.0000\n",
      "Epoch 93/300\n",
      "\u001b[1m110/110\u001b[0m \u001b[32m━━━━━━━━━━━━━━━━━━━━\u001b[0m\u001b[37m\u001b[0m \u001b[1m0s\u001b[0m 2ms/step - loss: 1893158400.0000 - val_loss: 415308352.0000\n",
      "Epoch 94/300\n",
      "\u001b[1m110/110\u001b[0m \u001b[32m━━━━━━━━━━━━━━━━━━━━\u001b[0m\u001b[37m\u001b[0m \u001b[1m0s\u001b[0m 2ms/step - loss: 1684819584.0000 - val_loss: 406301536.0000\n",
      "Epoch 95/300\n",
      "\u001b[1m110/110\u001b[0m \u001b[32m━━━━━━━━━━━━━━━━━━━━\u001b[0m\u001b[37m\u001b[0m \u001b[1m0s\u001b[0m 2ms/step - loss: 2004895616.0000 - val_loss: 397546080.0000\n",
      "Epoch 96/300\n",
      "\u001b[1m110/110\u001b[0m \u001b[32m━━━━━━━━━━━━━━━━━━━━\u001b[0m\u001b[37m\u001b[0m \u001b[1m0s\u001b[0m 2ms/step - loss: 1626834816.0000 - val_loss: 426362048.0000\n",
      "Epoch 97/300\n",
      "\u001b[1m110/110\u001b[0m \u001b[32m━━━━━━━━━━━━━━━━━━━━\u001b[0m\u001b[37m\u001b[0m \u001b[1m0s\u001b[0m 2ms/step - loss: 1694912512.0000 - val_loss: 399770048.0000\n",
      "Epoch 98/300\n",
      "\u001b[1m110/110\u001b[0m \u001b[32m━━━━━━━━━━━━━━━━━━━━\u001b[0m\u001b[37m\u001b[0m \u001b[1m0s\u001b[0m 2ms/step - loss: 1905674880.0000 - val_loss: 417899136.0000\n",
      "Epoch 99/300\n",
      "\u001b[1m110/110\u001b[0m \u001b[32m━━━━━━━━━━━━━━━━━━━━\u001b[0m\u001b[37m\u001b[0m \u001b[1m0s\u001b[0m 2ms/step - loss: 1537488640.0000 - val_loss: 394890848.0000\n",
      "Epoch 100/300\n",
      "\u001b[1m110/110\u001b[0m \u001b[32m━━━━━━━━━━━━━━━━━━━━\u001b[0m\u001b[37m\u001b[0m \u001b[1m0s\u001b[0m 2ms/step - loss: 1652204544.0000 - val_loss: 404356192.0000\n",
      "Epoch 101/300\n",
      "\u001b[1m110/110\u001b[0m \u001b[32m━━━━━━━━━━━━━━━━━━━━\u001b[0m\u001b[37m\u001b[0m \u001b[1m0s\u001b[0m 2ms/step - loss: 1899982208.0000 - val_loss: 404024032.0000\n",
      "Epoch 102/300\n",
      "\u001b[1m110/110\u001b[0m \u001b[32m━━━━━━━━━━━━━━━━━━━━\u001b[0m\u001b[37m\u001b[0m \u001b[1m0s\u001b[0m 2ms/step - loss: 1632362752.0000 - val_loss: 416743904.0000\n",
      "Epoch 103/300\n",
      "\u001b[1m110/110\u001b[0m \u001b[32m━━━━━━━━━━━━━━━━━━━━\u001b[0m\u001b[37m\u001b[0m \u001b[1m0s\u001b[0m 3ms/step - loss: 1856085120.0000 - val_loss: 429652000.0000\n",
      "Epoch 104/300\n",
      "\u001b[1m110/110\u001b[0m \u001b[32m━━━━━━━━━━━━━━━━━━━━\u001b[0m\u001b[37m\u001b[0m \u001b[1m0s\u001b[0m 2ms/step - loss: 1786816512.0000 - val_loss: 440004512.0000\n",
      "Epoch 105/300\n",
      "\u001b[1m110/110\u001b[0m \u001b[32m━━━━━━━━━━━━━━━━━━━━\u001b[0m\u001b[37m\u001b[0m \u001b[1m0s\u001b[0m 3ms/step - loss: 2173628928.0000 - val_loss: 402481184.0000\n",
      "Epoch 106/300\n",
      "\u001b[1m110/110\u001b[0m \u001b[32m━━━━━━━━━━━━━━━━━━━━\u001b[0m\u001b[37m\u001b[0m \u001b[1m0s\u001b[0m 2ms/step - loss: 1988349056.0000 - val_loss: 400202528.0000\n",
      "Epoch 107/300\n",
      "\u001b[1m110/110\u001b[0m \u001b[32m━━━━━━━━━━━━━━━━━━━━\u001b[0m\u001b[37m\u001b[0m \u001b[1m0s\u001b[0m 2ms/step - loss: 1685500928.0000 - val_loss: 411732192.0000\n",
      "Epoch 108/300\n",
      "\u001b[1m110/110\u001b[0m \u001b[32m━━━━━━━━━━━━━━━━━━━━\u001b[0m\u001b[37m\u001b[0m \u001b[1m0s\u001b[0m 2ms/step - loss: 1635116160.0000 - val_loss: 409478016.0000\n",
      "Epoch 109/300\n",
      "\u001b[1m110/110\u001b[0m \u001b[32m━━━━━━━━━━━━━━━━━━━━\u001b[0m\u001b[37m\u001b[0m \u001b[1m0s\u001b[0m 2ms/step - loss: 1914850432.0000 - val_loss: 423827488.0000\n",
      "Epoch 110/300\n",
      "\u001b[1m110/110\u001b[0m \u001b[32m━━━━━━━━━━━━━━━━━━━━\u001b[0m\u001b[37m\u001b[0m \u001b[1m0s\u001b[0m 4ms/step - loss: 1843465856.0000 - val_loss: 425538176.0000\n",
      "Epoch 111/300\n",
      "\u001b[1m110/110\u001b[0m \u001b[32m━━━━━━━━━━━━━━━━━━━━\u001b[0m\u001b[37m\u001b[0m \u001b[1m0s\u001b[0m 2ms/step - loss: 1665581312.0000 - val_loss: 420792032.0000\n",
      "Epoch 112/300\n",
      "\u001b[1m110/110\u001b[0m \u001b[32m━━━━━━━━━━━━━━━━━━━━\u001b[0m\u001b[37m\u001b[0m \u001b[1m0s\u001b[0m 2ms/step - loss: 1789547264.0000 - val_loss: 406709120.0000\n",
      "Epoch 113/300\n",
      "\u001b[1m110/110\u001b[0m \u001b[32m━━━━━━━━━━━━━━━━━━━━\u001b[0m\u001b[37m\u001b[0m \u001b[1m0s\u001b[0m 2ms/step - loss: 2084612992.0000 - val_loss: 441973664.0000\n",
      "Epoch 114/300\n",
      "\u001b[1m110/110\u001b[0m \u001b[32m━━━━━━━━━━━━━━━━━━━━\u001b[0m\u001b[37m\u001b[0m \u001b[1m0s\u001b[0m 2ms/step - loss: 1671430912.0000 - val_loss: 393880128.0000\n",
      "Epoch 115/300\n",
      "\u001b[1m110/110\u001b[0m \u001b[32m━━━━━━━━━━━━━━━━━━━━\u001b[0m\u001b[37m\u001b[0m \u001b[1m0s\u001b[0m 2ms/step - loss: 1834830208.0000 - val_loss: 411798336.0000\n",
      "Epoch 116/300\n",
      "\u001b[1m110/110\u001b[0m \u001b[32m━━━━━━━━━━━━━━━━━━━━\u001b[0m\u001b[37m\u001b[0m \u001b[1m0s\u001b[0m 2ms/step - loss: 1770910336.0000 - val_loss: 435351328.0000\n",
      "Epoch 117/300\n",
      "\u001b[1m110/110\u001b[0m \u001b[32m━━━━━━━━━━━━━━━━━━━━\u001b[0m\u001b[37m\u001b[0m \u001b[1m0s\u001b[0m 2ms/step - loss: 1663383936.0000 - val_loss: 408678752.0000\n",
      "Epoch 118/300\n",
      "\u001b[1m110/110\u001b[0m \u001b[32m━━━━━━━━━━━━━━━━━━━━\u001b[0m\u001b[37m\u001b[0m \u001b[1m0s\u001b[0m 2ms/step - loss: 2071083008.0000 - val_loss: 424468320.0000\n",
      "Epoch 119/300\n",
      "\u001b[1m110/110\u001b[0m \u001b[32m━━━━━━━━━━━━━━━━━━━━\u001b[0m\u001b[37m\u001b[0m \u001b[1m0s\u001b[0m 2ms/step - loss: 1835653632.0000 - val_loss: 395752736.0000\n",
      "Epoch 120/300\n",
      "\u001b[1m110/110\u001b[0m \u001b[32m━━━━━━━━━━━━━━━━━━━━\u001b[0m\u001b[37m\u001b[0m \u001b[1m0s\u001b[0m 2ms/step - loss: 2318050560.0000 - val_loss: 398846848.0000\n",
      "Epoch 121/300\n",
      "\u001b[1m110/110\u001b[0m \u001b[32m━━━━━━━━━━━━━━━━━━━━\u001b[0m\u001b[37m\u001b[0m \u001b[1m0s\u001b[0m 2ms/step - loss: 1890303360.0000 - val_loss: 395910976.0000\n",
      "Epoch 122/300\n",
      "\u001b[1m110/110\u001b[0m \u001b[32m━━━━━━━━━━━━━━━━━━━━\u001b[0m\u001b[37m\u001b[0m \u001b[1m0s\u001b[0m 2ms/step - loss: 1898764544.0000 - val_loss: 409512192.0000\n",
      "Epoch 123/300\n",
      "\u001b[1m110/110\u001b[0m \u001b[32m━━━━━━━━━━━━━━━━━━━━\u001b[0m\u001b[37m\u001b[0m \u001b[1m0s\u001b[0m 2ms/step - loss: 2076212736.0000 - val_loss: 394649920.0000\n",
      "Epoch 124/300\n",
      "\u001b[1m110/110\u001b[0m \u001b[32m━━━━━━━━━━━━━━━━━━━━\u001b[0m\u001b[37m\u001b[0m \u001b[1m0s\u001b[0m 2ms/step - loss: 1795515008.0000 - val_loss: 419337376.0000\n",
      "Epoch 125/300\n",
      "\u001b[1m110/110\u001b[0m \u001b[32m━━━━━━━━━━━━━━━━━━━━\u001b[0m\u001b[37m\u001b[0m \u001b[1m0s\u001b[0m 3ms/step - loss: 1704683136.0000 - val_loss: 403284032.0000\n",
      "Epoch 126/300\n",
      "\u001b[1m110/110\u001b[0m \u001b[32m━━━━━━━━━━━━━━━━━━━━\u001b[0m\u001b[37m\u001b[0m \u001b[1m0s\u001b[0m 2ms/step - loss: 1690214784.0000 - val_loss: 424310720.0000\n",
      "Epoch 127/300\n",
      "\u001b[1m110/110\u001b[0m \u001b[32m━━━━━━━━━━━━━━━━━━━━\u001b[0m\u001b[37m\u001b[0m \u001b[1m0s\u001b[0m 2ms/step - loss: 2034523008.0000 - val_loss: 435652192.0000\n",
      "Epoch 128/300\n",
      "\u001b[1m110/110\u001b[0m \u001b[32m━━━━━━━━━━━━━━━━━━━━\u001b[0m\u001b[37m\u001b[0m \u001b[1m0s\u001b[0m 2ms/step - loss: 1701386624.0000 - val_loss: 438661504.0000\n",
      "Epoch 129/300\n",
      "\u001b[1m110/110\u001b[0m \u001b[32m━━━━━━━━━━━━━━━━━━━━\u001b[0m\u001b[37m\u001b[0m \u001b[1m0s\u001b[0m 2ms/step - loss: 1719456256.0000 - val_loss: 404778400.0000\n",
      "Epoch 130/300\n",
      "\u001b[1m110/110\u001b[0m \u001b[32m━━━━━━━━━━━━━━━━━━━━\u001b[0m\u001b[37m\u001b[0m \u001b[1m0s\u001b[0m 2ms/step - loss: 1831202176.0000 - val_loss: 397776768.0000\n",
      "Epoch 131/300\n",
      "\u001b[1m110/110\u001b[0m \u001b[32m━━━━━━━━━━━━━━━━━━━━\u001b[0m\u001b[37m\u001b[0m \u001b[1m0s\u001b[0m 2ms/step - loss: 1643713920.0000 - val_loss: 397583232.0000\n",
      "Epoch 132/300\n",
      "\u001b[1m110/110\u001b[0m \u001b[32m━━━━━━━━━━━━━━━━━━━━\u001b[0m\u001b[37m\u001b[0m \u001b[1m0s\u001b[0m 2ms/step - loss: 1749125632.0000 - val_loss: 394021056.0000\n",
      "Epoch 133/300\n",
      "\u001b[1m110/110\u001b[0m \u001b[32m━━━━━━━━━━━━━━━━━━━━\u001b[0m\u001b[37m\u001b[0m \u001b[1m0s\u001b[0m 2ms/step - loss: 1793676544.0000 - val_loss: 402831136.0000\n",
      "Epoch 134/300\n",
      "\u001b[1m110/110\u001b[0m \u001b[32m━━━━━━━━━━━━━━━━━━━━\u001b[0m\u001b[37m\u001b[0m \u001b[1m0s\u001b[0m 3ms/step - loss: 1830975360.0000 - val_loss: 413867488.0000\n"
     ]
    }
   ],
   "source": [
    "from tensorflow.keras.callbacks import EarlyStopping\n",
    "\n",
    "early_stop = EarlyStopping(\n",
    "    monitor=\"val_loss\",  \n",
    "    patience=20,         \n",
    "    restore_best_weights=True\n",
    ")\n",
    "\n",
    "mc2 = ModelCheckpoint(\n",
    "    'best_model_small_dataset_extended-regression.keras',\n",
    "    monitor='val_loss',\n",
    "    mode='min',\n",
    "    save_best_only=True\n",
    ")\n",
    "\n",
    "callback_list = [early_stop, mc2]\n",
    "\n",
    "history = neural_model_12.fit(\n",
    "    x=X_train, y=y_train,\n",
    "    epochs=300,\n",
    "    validation_data=(X_val, y_val),\n",
    "    callbacks=callback_list,\n",
    "    verbose=1\n",
    ")\n"
   ]
  },
  {
   "cell_type": "markdown",
   "id": "3af633fb",
   "metadata": {},
   "source": [
    "#### Performance and Error Metrics"
   ]
  },
  {
   "cell_type": "code",
   "execution_count": 46,
   "id": "8d42b430",
   "metadata": {},
   "outputs": [
    {
     "data": {
      "image/png": "[encoded data removed]",
      "text/plain": [
       "<Figure size 800x500 with 1 Axes>"
      ]
     },
     "metadata": {},
     "output_type": "display_data"
    }
   ],
   "source": [
    "loss_df2 = pd.DataFrame(neural_model_12.history.history)\n",
    "loss_df2.plot(figsize=(8,5))\n",
    "plt.title(\"Training vs Validation Loss\")\n",
    "plt.xlabel(\"Epochs\")\n",
    "plt.ylabel(\"MSE Loss\")\n",
    "plt.grid(True)\n",
    "plt.show()"
   ]
  },
  {
   "cell_type": "markdown",
   "id": "789f6618",
   "metadata": {},
   "source": [
    "This graph shows that both training and validation loss quickly dropped within the first few epochs and then stabilized at nearly zero. Compared to the earlier run, the model learned much faster and more consistently, which suggests an improvement in data quality."
   ]
  },
  {
   "cell_type": "markdown",
   "id": "9bc2d9c6",
   "metadata": {},
   "source": [
    "#### Reload the best version of the model from history"
   ]
  },
  {
   "cell_type": "code",
   "execution_count": 47,
   "id": "ef214331",
   "metadata": {},
   "outputs": [],
   "source": [
    "best_trained_model2 = load_model(\"best_model_small_dataset_extended-regression.keras\")"
   ]
  },
  {
   "cell_type": "markdown",
   "id": "258ac1d4",
   "metadata": {},
   "source": [
    "#### Trying the model and predict the price with new house data"
   ]
  },
  {
   "cell_type": "code",
   "execution_count": 48,
   "id": "bb7fb16b",
   "metadata": {},
   "outputs": [
    {
     "name": "stdout",
     "output_type": "stream",
     "text": [
      "Test data evaluation\n",
      "410028704.0\n",
      "\n",
      "Train data evaluation:\n",
      "398035072.0\n"
     ]
    }
   ],
   "source": [
    "print(\"Test data evaluation\")\n",
    "print(best_trained_model2.evaluate(X_test, y_test, verbose=0))\n",
    "print(\"\\nTrain data evaluation:\")\n",
    "print(best_trained_model2.evaluate(X_train, y_train, verbose=0))"
   ]
  },
  {
   "cell_type": "markdown",
   "id": "dbdc9df8",
   "metadata": {},
   "source": [
    "This evaluation shows that the error for both training and test data is much lower than before. It suggests the model now generalizes better and performs more consistently on unseen data."
   ]
  },
  {
   "cell_type": "code",
   "execution_count": 49,
   "id": "723e48d8",
   "metadata": {},
   "outputs": [
    {
     "name": "stdout",
     "output_type": "stream",
     "text": [
      "\u001b[1m24/24\u001b[0m \u001b[32m━━━━━━━━━━━━━━━━━━━━\u001b[0m\u001b[37m\u001b[0m \u001b[1m0s\u001b[0m 3ms/step\n"
     ]
    },
    {
     "data": {
      "application/vnd.microsoft.datawrangler.viewer.v0+json": {
       "columns": [
        {
         "name": "index",
         "rawType": "int64",
         "type": "integer"
        },
        {
         "name": "Test True Y",
         "rawType": "int64",
         "type": "integer"
        },
        {
         "name": "Model Predictions",
         "rawType": "float32",
         "type": "float"
        }
       ],
       "ref": "c3ea61dd-3633-4149-a93e-9ae171d8a88c",
       "rows": [
        [
         "0",
         "641853",
         "634949.56"
        ],
        [
         "1",
         "857755",
         "877697.56"
        ],
        [
         "2",
         "891249",
         "930547.5"
        ],
        [
         "3",
         "400641",
         "429226.56"
        ],
        [
         "4",
         "903711",
         "930889.56"
        ],
        [
         "5",
         "669171",
         "691868.56"
        ],
        [
         "6",
         "1071711",
         "1.0658232e+06"
        ],
        [
         "7",
         "901487",
         "902854.94"
        ],
        [
         "8",
         "986592",
         "995208.56"
        ],
        [
         "9",
         "475228",
         "468387.72"
        ],
        [
         "10",
         "886638",
         "865774.56"
        ],
        [
         "11",
         "318243",
         "315773.7"
        ],
        [
         "12",
         "622158",
         "626728.06"
        ],
        [
         "13",
         "599658",
         "613412.0"
        ],
        [
         "14",
         "644377",
         "588951.25"
        ],
        [
         "15",
         "771313",
         "777791.94"
        ],
        [
         "16",
         "511635",
         "475124.25"
        ],
        [
         "17",
         "595839",
         "595542.06"
        ],
        [
         "18",
         "707400",
         "699526.94"
        ],
        [
         "19",
         "899990",
         "881994.2"
        ],
        [
         "20",
         "822929",
         "791025.06"
        ],
        [
         "21",
         "750208",
         "752385.7"
        ],
        [
         "22",
         "883277",
         "842372.06"
        ],
        [
         "23",
         "804426",
         "785293.1"
        ],
        [
         "24",
         "601598",
         "601617.56"
        ],
        [
         "25",
         "403839",
         "389941.0"
        ],
        [
         "26",
         "414110",
         "396755.75"
        ],
        [
         "27",
         "306937",
         "296070.1"
        ],
        [
         "28",
         "680076",
         "667133.3"
        ],
        [
         "29",
         "617600",
         "596733.56"
        ],
        [
         "30",
         "695431",
         "688598.44"
        ],
        [
         "31",
         "641585",
         "626029.1"
        ],
        [
         "32",
         "922006",
         "896232.2"
        ],
        [
         "33",
         "504820",
         "540414.8"
        ],
        [
         "34",
         "733093",
         "744682.56"
        ],
        [
         "35",
         "738978",
         "723226.3"
        ],
        [
         "36",
         "770676",
         "784936.06"
        ],
        [
         "37",
         "499649",
         "489428.47"
        ],
        [
         "38",
         "425188",
         "453971.97"
        ],
        [
         "39",
         "699824",
         "675644.25"
        ],
        [
         "40",
         "847968",
         "800654.75"
        ],
        [
         "41",
         "790616",
         "791198.3"
        ],
        [
         "42",
         "759523",
         "743010.94"
        ],
        [
         "43",
         "436041",
         "467885.3"
        ],
        [
         "44",
         "846824",
         "846143.06"
        ],
        [
         "45",
         "1044250",
         "1.00225206e+06"
        ],
        [
         "46",
         "635163",
         "660327.25"
        ],
        [
         "47",
         "764257",
         "754883.3"
        ],
        [
         "48",
         "753061",
         "731126.1"
        ],
        [
         "49",
         "733098",
         "740700.56"
        ]
       ],
       "shape": {
        "columns": 2,
        "rows": 750
       }
      },
      "text/html": [
       "<div>\n",
       "<style scoped>\n",
       "    .dataframe tbody tr th:only-of-type {\n",
       "        vertical-align: middle;\n",
       "    }\n",
       "\n",
       "    .dataframe tbody tr th {\n",
       "        vertical-align: top;\n",
       "    }\n",
       "\n",
       "    .dataframe thead th {\n",
       "        text-align: right;\n",
       "    }\n",
       "</style>\n",
       "<table border=\"1\" class=\"dataframe\">\n",
       "  <thead>\n",
       "    <tr style=\"text-align: right;\">\n",
       "      <th></th>\n",
       "      <th>Test True Y</th>\n",
       "      <th>Model Predictions</th>\n",
       "    </tr>\n",
       "  </thead>\n",
       "  <tbody>\n",
       "    <tr>\n",
       "      <th>0</th>\n",
       "      <td>641853</td>\n",
       "      <td>634949.5625</td>\n",
       "    </tr>\n",
       "    <tr>\n",
       "      <th>1</th>\n",
       "      <td>857755</td>\n",
       "      <td>877697.5625</td>\n",
       "    </tr>\n",
       "    <tr>\n",
       "      <th>2</th>\n",
       "      <td>891249</td>\n",
       "      <td>930547.5000</td>\n",
       "    </tr>\n",
       "    <tr>\n",
       "      <th>3</th>\n",
       "      <td>400641</td>\n",
       "      <td>429226.5625</td>\n",
       "    </tr>\n",
       "    <tr>\n",
       "      <th>4</th>\n",
       "      <td>903711</td>\n",
       "      <td>930889.5625</td>\n",
       "    </tr>\n",
       "    <tr>\n",
       "      <th>...</th>\n",
       "      <td>...</td>\n",
       "      <td>...</td>\n",
       "    </tr>\n",
       "    <tr>\n",
       "      <th>745</th>\n",
       "      <td>684189</td>\n",
       "      <td>689919.7500</td>\n",
       "    </tr>\n",
       "    <tr>\n",
       "      <th>746</th>\n",
       "      <td>648046</td>\n",
       "      <td>629750.0000</td>\n",
       "    </tr>\n",
       "    <tr>\n",
       "      <th>747</th>\n",
       "      <td>936616</td>\n",
       "      <td>968729.3125</td>\n",
       "    </tr>\n",
       "    <tr>\n",
       "      <th>748</th>\n",
       "      <td>855094</td>\n",
       "      <td>877243.4375</td>\n",
       "    </tr>\n",
       "    <tr>\n",
       "      <th>749</th>\n",
       "      <td>815987</td>\n",
       "      <td>845632.9375</td>\n",
       "    </tr>\n",
       "  </tbody>\n",
       "</table>\n",
       "<p>750 rows × 2 columns</p>\n",
       "</div>"
      ],
      "text/plain": [
       "     Test True Y  Model Predictions\n",
       "0         641853        634949.5625\n",
       "1         857755        877697.5625\n",
       "2         891249        930547.5000\n",
       "3         400641        429226.5625\n",
       "4         903711        930889.5625\n",
       "..           ...                ...\n",
       "745       684189        689919.7500\n",
       "746       648046        629750.0000\n",
       "747       936616        968729.3125\n",
       "748       855094        877243.4375\n",
       "749       815987        845632.9375\n",
       "\n",
       "[750 rows x 2 columns]"
      ]
     },
     "execution_count": 49,
     "metadata": {},
     "output_type": "execute_result"
    }
   ],
   "source": [
    "import seaborn as sns\n",
    "\n",
    "test_predictions2 = best_trained_model2.predict(X_test)\n",
    "test_predictions2 = pd.Series(test_predictions2.reshape(len(y_test),))\n",
    "\n",
    "pred_df2 = pd.DataFrame(pd.DataFrame(np.asarray(y_test), columns=[\"Test True Y\"]))\n",
    "pred_df2 = pd.concat([pred_df2, test_predictions2], axis = 1)\n",
    "pred_df2.columns = [\"Test True Y\", \"Model Predictions\"]\n",
    "\n",
    "pred_df2"
   ]
  },
  {
   "cell_type": "code",
   "execution_count": 50,
   "id": "d585e9c9",
   "metadata": {},
   "outputs": [
    {
     "data": {
      "image/png": "[encoded data removed]",
      "text/plain": [
       "<Figure size 600x600 with 1 Axes>"
      ]
     },
     "metadata": {},
     "output_type": "display_data"
    }
   ],
   "source": [
    "plt.figure(figsize=(6,6))\n",
    "sns.scatterplot(x=\"Test True Y\", y=\"Model Predictions\", data=pred_df2)\n",
    "\n",
    "min_val = min(pred_df2[\"Test True Y\"].min(), pred_df2[\"Model Predictions\"].min())\n",
    "max_val = max(pred_df2[\"Test True Y\"].max(), pred_df2[\"Model Predictions\"].max())\n",
    "plt.plot([min_val, max_val], [min_val, max_val], \"r--\")\n",
    "\n",
    "plt.title(\"True vs Predicted House Prices\")\n",
    "plt.xlabel(\"Test True Y\")\n",
    "plt.ylabel(\"Model Predictions\")\n",
    "plt.show()"
   ]
  },
  {
   "cell_type": "markdown",
   "id": "02d653ec",
   "metadata": {},
   "source": [
    "This scatterplot shows that the predicted house prices align very closely with the true values. The points almost follow the red diagonal line, which means the model is making accurate predictions."
   ]
  },
  {
   "cell_type": "code",
   "execution_count": 51,
   "id": "1b435f8b",
   "metadata": {},
   "outputs": [
    {
     "name": "stdout",
     "output_type": "stream",
     "text": [
      "MAE\n",
      "16398.7 $\n",
      "\n",
      "MSE\n",
      "410028704.0 $^2\n",
      "\n",
      "RMSE:\n",
      "20249.17 $\n",
      "\n",
      "R-squared:\n",
      "0.99\n",
      "\n",
      "Explained variance score:\n",
      "0.99\n"
     ]
    }
   ],
   "source": [
    "print(\"MAE\")\n",
    "print(round(metrics.mean_absolute_error(y_test, test_predictions2), 2), \"$\")\n",
    "\n",
    "print(\"\\nMSE\")\n",
    "print(round(metrics.mean_squared_error(y_test, test_predictions2), 2), \"$^2\")\n",
    "\n",
    "print('\\nRMSE:')\n",
    "print(round(np.sqrt(metrics.mean_squared_error(y_test, test_predictions2)), 2), \"$\")\n",
    "\n",
    "print('\\nR-squared:')\n",
    "print(round(metrics.r2_score(y_test, test_predictions2), 2))\n",
    "\n",
    "print(\"\\nExplained variance score:\")\n",
    "print(round(metrics.explained_variance_score(y_test, test_predictions2), 2))"
   ]
  },
  {
   "cell_type": "markdown",
   "id": "8f963fcf",
   "metadata": {},
   "source": [
    "These evaluation metrics show excellent model performance: the MAE and RMSE are low, while R² and explained variance score are very close to 1. This means the model predicts house prices with very high accuracy."
   ]
  },
  {
   "cell_type": "code",
   "execution_count": 52,
   "id": "158ba301",
   "metadata": {},
   "outputs": [
    {
     "name": "stderr",
     "output_type": "stream",
     "text": [
      "C:\\Users\\Timothy\\AppData\\Local\\Temp\\ipykernel_6420\\1068473982.py:1: UserWarning: \n",
      "\n",
      "`distplot` is a deprecated function and will be removed in seaborn v0.14.0.\n",
      "\n",
      "Please adapt your code to use either `displot` (a figure-level function with\n",
      "similar flexibility) or `histplot` (an axes-level function for histograms).\n",
      "\n",
      "For a guide to updating your code to use the new functions, please see\n",
      "https://gist.github.com/mwaskom/de44147ed2974457ad6372750bbe5751\n",
      "\n",
      "  sns.distplot((y_test - test_predictions2))\n"
     ]
    },
    {
     "data": {
      "image/png": "[encoded data removed]",
      "text/plain": [
       "<Figure size 640x480 with 1 Axes>"
      ]
     },
     "metadata": {},
     "output_type": "display_data"
    }
   ],
   "source": [
    "sns.distplot((y_test - test_predictions2))\n",
    "plt.show()\n",
    "plt.close()"
   ]
  },
  {
   "cell_type": "markdown",
   "id": "7d715395",
   "metadata": {},
   "source": [
    "This residual plot shows that most prediction errors are centered around zero, with a roughly normal distribution. This indicates that the model’s predictions are balanced and do not show major bias."
   ]
  },
  {
   "cell_type": "markdown",
   "id": "a4330849",
   "metadata": {},
   "source": [
    "#### Trying the model in practice with new imaginary house"
   ]
  },
  {
   "cell_type": "code",
   "execution_count": 53,
   "id": "3ba347d0",
   "metadata": {},
   "outputs": [
    {
     "data": {
      "text/plain": [
       "Index(['Bedrooms', 'Bathrooms', 'SquareFeet', 'YearBuilt', 'GarageSpaces',\n",
       "       'LotSize', 'CrimeRate', 'SchoolRating', 'Region_East', 'Region_North',\n",
       "       'Region_South', 'Region_West'],\n",
       "      dtype='object')"
      ]
     },
     "execution_count": 53,
     "metadata": {},
     "output_type": "execute_result"
    }
   ],
   "source": [
    "X.columns"
   ]
  },
  {
   "cell_type": "code",
   "execution_count": 54,
   "id": "3bfbbc25",
   "metadata": {},
   "outputs": [
    {
     "data": {
      "application/vnd.microsoft.datawrangler.viewer.v0+json": {
       "columns": [
        {
         "name": "index",
         "rawType": "int64",
         "type": "integer"
        },
        {
         "name": "Bedrooms",
         "rawType": "int64",
         "type": "integer"
        },
        {
         "name": "Bathrooms",
         "rawType": "float64",
         "type": "float"
        },
        {
         "name": "SquareFeet",
         "rawType": "int64",
         "type": "integer"
        },
        {
         "name": "YearBuilt",
         "rawType": "int64",
         "type": "integer"
        },
        {
         "name": "GarageSpaces",
         "rawType": "int64",
         "type": "integer"
        },
        {
         "name": "LotSize",
         "rawType": "float64",
         "type": "float"
        },
        {
         "name": "CrimeRate",
         "rawType": "float64",
         "type": "float"
        },
        {
         "name": "SchoolRating",
         "rawType": "int64",
         "type": "integer"
        },
        {
         "name": "Region_East",
         "rawType": "bool",
         "type": "boolean"
        },
        {
         "name": "Region_North",
         "rawType": "bool",
         "type": "boolean"
        },
        {
         "name": "Region_South",
         "rawType": "bool",
         "type": "boolean"
        },
        {
         "name": "Region_West",
         "rawType": "bool",
         "type": "boolean"
        }
       ],
       "ref": "59f7d438-b328-49db-9430-a0e2c43a24f7",
       "rows": [
        [
         "0",
         "4",
         "1.7",
         "2847",
         "1972",
         "2",
         "1.46",
         "37.28",
         "10",
         "False",
         "False",
         "False",
         "True"
        ],
        [
         "1",
         "5",
         "3.3",
         "2740",
         "1964",
         "1",
         "1.66",
         "39.89",
         "1",
         "False",
         "False",
         "True",
         "False"
        ],
        [
         "2",
         "3",
         "2.4",
         "3163",
         "1966",
         "2",
         "0.99",
         "84.57",
         "3",
         "False",
         "False",
         "True",
         "False"
        ]
       ],
       "shape": {
        "columns": 12,
        "rows": 3
       }
      },
      "text/html": [
       "<div>\n",
       "<style scoped>\n",
       "    .dataframe tbody tr th:only-of-type {\n",
       "        vertical-align: middle;\n",
       "    }\n",
       "\n",
       "    .dataframe tbody tr th {\n",
       "        vertical-align: top;\n",
       "    }\n",
       "\n",
       "    .dataframe thead th {\n",
       "        text-align: right;\n",
       "    }\n",
       "</style>\n",
       "<table border=\"1\" class=\"dataframe\">\n",
       "  <thead>\n",
       "    <tr style=\"text-align: right;\">\n",
       "      <th></th>\n",
       "      <th>Bedrooms</th>\n",
       "      <th>Bathrooms</th>\n",
       "      <th>SquareFeet</th>\n",
       "      <th>YearBuilt</th>\n",
       "      <th>GarageSpaces</th>\n",
       "      <th>LotSize</th>\n",
       "      <th>CrimeRate</th>\n",
       "      <th>SchoolRating</th>\n",
       "      <th>Region_East</th>\n",
       "      <th>Region_North</th>\n",
       "      <th>Region_South</th>\n",
       "      <th>Region_West</th>\n",
       "    </tr>\n",
       "  </thead>\n",
       "  <tbody>\n",
       "    <tr>\n",
       "      <th>0</th>\n",
       "      <td>4</td>\n",
       "      <td>1.7</td>\n",
       "      <td>2847</td>\n",
       "      <td>1972</td>\n",
       "      <td>2</td>\n",
       "      <td>1.46</td>\n",
       "      <td>37.28</td>\n",
       "      <td>10</td>\n",
       "      <td>False</td>\n",
       "      <td>False</td>\n",
       "      <td>False</td>\n",
       "      <td>True</td>\n",
       "    </tr>\n",
       "    <tr>\n",
       "      <th>1</th>\n",
       "      <td>5</td>\n",
       "      <td>3.3</td>\n",
       "      <td>2740</td>\n",
       "      <td>1964</td>\n",
       "      <td>1</td>\n",
       "      <td>1.66</td>\n",
       "      <td>39.89</td>\n",
       "      <td>1</td>\n",
       "      <td>False</td>\n",
       "      <td>False</td>\n",
       "      <td>True</td>\n",
       "      <td>False</td>\n",
       "    </tr>\n",
       "    <tr>\n",
       "      <th>2</th>\n",
       "      <td>3</td>\n",
       "      <td>2.4</td>\n",
       "      <td>3163</td>\n",
       "      <td>1966</td>\n",
       "      <td>2</td>\n",
       "      <td>0.99</td>\n",
       "      <td>84.57</td>\n",
       "      <td>3</td>\n",
       "      <td>False</td>\n",
       "      <td>False</td>\n",
       "      <td>True</td>\n",
       "      <td>False</td>\n",
       "    </tr>\n",
       "  </tbody>\n",
       "</table>\n",
       "</div>"
      ],
      "text/plain": [
       "   Bedrooms  Bathrooms  SquareFeet  YearBuilt  GarageSpaces  LotSize  \\\n",
       "0         4        1.7        2847       1972             2     1.46   \n",
       "1         5        3.3        2740       1964             1     1.66   \n",
       "2         3        2.4        3163       1966             2     0.99   \n",
       "\n",
       "   CrimeRate  SchoolRating  Region_East  Region_North  Region_South  \\\n",
       "0      37.28            10        False         False         False   \n",
       "1      39.89             1        False         False          True   \n",
       "2      84.57             3        False         False          True   \n",
       "\n",
       "   Region_West  \n",
       "0         True  \n",
       "1        False  \n",
       "2        False  "
      ]
     },
     "execution_count": 54,
     "metadata": {},
     "output_type": "execute_result"
    }
   ],
   "source": [
    "X.head(3)"
   ]
  },
  {
   "cell_type": "code",
   "execution_count": 59,
   "id": "4b926809",
   "metadata": {},
   "outputs": [
    {
     "name": "stdout",
     "output_type": "stream",
     "text": [
      "\u001b[1m1/1\u001b[0m \u001b[32m━━━━━━━━━━━━━━━━━━━━\u001b[0m\u001b[37m\u001b[0m \u001b[1m0s\u001b[0m 36ms/step\n",
      "Estimated house price with this example:\n",
      "$1008417.62\n"
     ]
    }
   ],
   "source": [
    "tester_row2 = {\n",
    "    \"Bedrooms\": 5,\n",
    "    \"Bathrooms\": 4,\n",
    "    \"SquareFeet\": 3953,\n",
    "    \"YearBuilt\": 2006,\n",
    "    \"GarageSpaces\": 1,\n",
    "    \"LotSize\": 1.49,\n",
    "    \"CrimeRate\": 49.9,\n",
    "    \"SchoolRating\": 8,\n",
    "    \"Region_East\": 0,\n",
    "    \"Region_North\": 0,\n",
    "    \"Region_South\": 0,\n",
    "    \"Region_West\": 1\n",
    "}\n",
    "\n",
    "tester_row2 = pd.DataFrame([tester_row2])\n",
    "\n",
    "tester_row_scaled2 = scaler.transform(tester_row2)\n",
    "\n",
    "result = best_trained_model2.predict(tester_row_scaled2)[0][0]\n",
    "\n",
    "print(\"Estimated house price with this example:\")\n",
    "print(f\"${round(float(result), 2)}\")"
   ]
  },
  {
   "cell_type": "code",
   "execution_count": 60,
   "id": "45beb840",
   "metadata": {},
   "outputs": [
    {
     "name": "stdout",
     "output_type": "stream",
     "text": [
      "\u001b[1m1/1\u001b[0m \u001b[32m━━━━━━━━━━━━━━━━━━━━\u001b[0m\u001b[37m\u001b[0m \u001b[1m0s\u001b[0m 24ms/step\n",
      "Estimated house price with this example:\n",
      "$1010972.56\n"
     ]
    }
   ],
   "source": [
    "tester_row3 = {\n",
    "    \"Bedrooms\": 5,\n",
    "    \"Bathrooms\": 4,\n",
    "    \"SquareFeet\": 3953,\n",
    "    \"YearBuilt\": 2006,\n",
    "    \"GarageSpaces\": 1,\n",
    "    \"LotSize\": 1.49,\n",
    "    \"CrimeRate\": 49.9,\n",
    "    \"SchoolRating\": 8,\n",
    "    \"Region_East\": 0,\n",
    "    \"Region_North\": 0,\n",
    "    \"Region_South\": 1,\n",
    "    \"Region_West\": 0\n",
    "}\n",
    "\n",
    "tester_row3 = pd.DataFrame([tester_row3])\n",
    "\n",
    "tester_row_scaled3 = scaler.transform(tester_row3)\n",
    "\n",
    "result = best_trained_model2.predict(tester_row_scaled3)[0][0]\n",
    "\n",
    "print(\"Estimated house price with this example:\")\n",
    "print(f\"${round(float(result), 2)}\")"
   ]
  },
  {
   "cell_type": "code",
   "execution_count": 61,
   "id": "e51f929b",
   "metadata": {},
   "outputs": [
    {
     "name": "stdout",
     "output_type": "stream",
     "text": [
      "\u001b[1m1/1\u001b[0m \u001b[32m━━━━━━━━━━━━━━━━━━━━\u001b[0m\u001b[37m\u001b[0m \u001b[1m0s\u001b[0m 72ms/step\n",
      "Estimated house price with this example:\n",
      "$1011290.62\n"
     ]
    }
   ],
   "source": [
    "tester_row4 = {\n",
    "    \"Bedrooms\": 5,\n",
    "    \"Bathrooms\": 4,\n",
    "    \"SquareFeet\": 3953,\n",
    "    \"YearBuilt\": 2006,\n",
    "    \"GarageSpaces\": 1,\n",
    "    \"LotSize\": 1.49,\n",
    "    \"CrimeRate\": 49.9,\n",
    "    \"SchoolRating\": 8,\n",
    "    \"Region_East\": 0,\n",
    "    \"Region_North\": 1,\n",
    "    \"Region_South\": 0,\n",
    "    \"Region_West\": 0\n",
    "}\n",
    "\n",
    "tester_row4 = pd.DataFrame([tester_row4])\n",
    "\n",
    "tester_row_scaled4 = scaler.transform(tester_row4)\n",
    "\n",
    "result = best_trained_model2.predict(tester_row_scaled4)[0][0]\n",
    "\n",
    "print(\"Estimated house price with this example:\")\n",
    "print(f\"${round(float(result), 2)}\")"
   ]
  },
  {
   "cell_type": "code",
   "execution_count": 62,
   "id": "85e6b2d9",
   "metadata": {},
   "outputs": [
    {
     "name": "stdout",
     "output_type": "stream",
     "text": [
      "\u001b[1m1/1\u001b[0m \u001b[32m━━━━━━━━━━━━━━━━━━━━\u001b[0m\u001b[37m\u001b[0m \u001b[1m0s\u001b[0m 29ms/step\n",
      "Estimated house price with this example:\n",
      "$1009862.44\n"
     ]
    }
   ],
   "source": [
    "tester_row5 = {\n",
    "    \"Bedrooms\": 5,\n",
    "    \"Bathrooms\": 4,\n",
    "    \"SquareFeet\": 3953,\n",
    "    \"YearBuilt\": 2006,\n",
    "    \"GarageSpaces\": 1,\n",
    "    \"LotSize\": 1.49,\n",
    "    \"CrimeRate\": 49.9,\n",
    "    \"SchoolRating\": 8,\n",
    "    \"Region_East\": 1,\n",
    "    \"Region_North\": 0,\n",
    "    \"Region_South\": 0,\n",
    "    \"Region_West\": 0\n",
    "}\n",
    "\n",
    "tester_row5 = pd.DataFrame([tester_row5])\n",
    "\n",
    "tester_row_scaled5 = scaler.transform(tester_row5)\n",
    "\n",
    "result = best_trained_model2.predict(tester_row_scaled5)[0][0]\n",
    "\n",
    "print(\"Estimated house price with this example:\")\n",
    "print(f\"${round(float(result), 2)}\")"
   ]
  },
  {
   "cell_type": "markdown",
   "id": "5a4fea95",
   "metadata": {},
   "source": [
    "#### Model Evaluation and Prediction Analysis\n",
    "In the second experiment, the model was trained on a synthetically generated dataset of 5000 entries. These results indicate that the model can now explain almost all of the variance in the data, with very small prediction errors compared to the actual values.\n",
    "\n",
    "To further test the model, the same input values as before were used, while only the categorical region variables were changed. The predicted house prices were highly consistent, ranging between $1,000,417 and $1,011,290, closely matching the actual value from the dataset (CSV -> row 577 -> price: 1,005,472). Unlike the previous small dataset, the predictions are now very stable and realistic, with only minor variations across different regions."
   ]
  },
  {
   "cell_type": "markdown",
   "id": "9d0fd318",
   "metadata": {},
   "source": [
    "#### Conclusion"
   ]
  },
  {
   "cell_type": "markdown",
   "id": "ebd5460f",
   "metadata": {},
   "source": [
    "The results with the synthetic dataset of 5,000 samples generated by AI show a clear improvement in model performance compared to the original small dataset. The correlations in the synthetic data were stronger and more consistent, which gave the model clearer patterns to learn from. As a result, the evaluation metrics improved significantly, with the model achieving a very high R² score of 0.99 and much lower prediction errors.\n",
    "\n",
    "#### Challenges during the project\n",
    "\n",
    "At first, I struggled with preprocessing and scaling, especially deciding how to handle categorical variables, but with testing and adjustments I was able to stabilize the training. In working life, methods like this can be highly useful for price prediction, market analysis, and forecasting, as they show how synthetic data can solve problems of limited datasets. This project required experimentation to find the right model setup. For further optimization, I would explore more feature engineering, different regularization techniques, and testing alternative architectures to ensure the model generalizes even better  and predicts more accurrately."
   ]
  }
 ],
 "metadata": {
  "kernelspec": {
   "display_name": "venv312 (3.12.10)",
   "language": "python",
   "name": "python3"
  },
  "language_info": {
   "codemirror_mode": {
    "name": "ipython",
    "version": 3
   },
   "file_extension": ".py",
   "mimetype": "text/x-python",
   "name": "python",
   "nbconvert_exporter": "python",
   "pygments_lexer": "ipython3",
   "version": "3.12.10"
  }
 },
 "nbformat": 4,
 "nbformat_minor": 5
}

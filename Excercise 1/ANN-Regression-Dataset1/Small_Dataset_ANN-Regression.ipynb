{
 "cells": [
  {
   "cell_type": "markdown",
   "id": "620ed4e9",
   "metadata": {},
   "source": [
    "#### USA Houseprices - Dataset 1 - Excercise 1 - Timothy Gregorian"
   ]
  },
  {
   "cell_type": "markdown",
   "id": "1a90e52c",
   "metadata": {},
   "source": [
    "In this analysis, we explore a dataset of housing prices in the United States to understand the key factors that influence property values. The main goal is to build a predictive model using a deep learning neural network, which can accurately estimate house prices based on their characteristics.\n",
    "\n",
    "In addition, we will analyze the correlations between the variables, since there is a possibility that the dataset may not be suitable for achieving a high R-squared score when evaluating the quality of the model."
   ]
  },
  {
   "cell_type": "markdown",
   "id": "e2c6ad93",
   "metadata": {},
   "source": [
    "#### Use of AI \n",
    "I used AI to generate ideas on how to improve the error metrics (e.g., R², MSE, MAE, RMSE). The AI supported me in identifying possible causes for poor performance (such as dataset quality, feature encoding, scaling, or model architecture) and suggested alternative strategies."
   ]
  },
  {
   "cell_type": "markdown",
   "id": "0a5fe286",
   "metadata": {},
   "source": [
    "### Link to Dataset 1\n",
    "https://www.kaggle.com/datasets/arnavgupta1205/usa-housing-dataset\n",
    "\n",
    "### Information about the Dataset\n",
    "This USA Housing Market Dataset contains 300 rows and 10 columns of real-estate related data, which can be used for housing price predictions."
   ]
  },
  {
   "cell_type": "markdown",
   "id": "41493eae",
   "metadata": {},
   "source": [
    "### Data Description\n",
    "The dataset consists of 10 variables related  to housing characteristics in the United States:\n",
    "\n",
    "1) Price: The selling price of the house (target variable).\n",
    "\n",
    "2) Bedrooms: Number of bedrooms in the house.\n",
    "\n",
    "3) Bathrooms: Number of bathrooms in the house.\n",
    "\n",
    "4) SquareFeet: Total living area in square feet.\n",
    "\n",
    "5) YearBuilt: The year the property was constructed.\n",
    "\n",
    "6) GarageSpaces: Number of garage spaces available.\n",
    "\n",
    "7) LotSize: Size of the property lot.\n",
    "\n",
    "8) ZipCode: Postal code indicating the geographical location of the    house (categorical variable).\n",
    "\n",
    "9) CrimeRate: Crime index of the neighborhood where the house is located (0.0 - 100.0).\n",
    "\n",
    "10) SchoolRating: Quality rating of nearby schools, ranging from 1 (lowest) to 10 (highest)."
   ]
  },
  {
   "cell_type": "markdown",
   "id": "12565413",
   "metadata": {},
   "source": [
    "#### Import all necessary libraries"
   ]
  },
  {
   "cell_type": "code",
   "execution_count": 11,
   "id": "e203bf0b",
   "metadata": {},
   "outputs": [],
   "source": [
    "import pandas as pd\n",
    "import numpy as np\n",
    "import matplotlib.pyplot as plt\n",
    "import seaborn as sns\n",
    "\n",
    "from sklearn.model_selection import train_test_split\n",
    "from sklearn.preprocessing import StandardScaler\n",
    "from sklearn import metrics\n",
    "\n",
    "import tensorflow as tf\n",
    "import keras\n",
    "from keras import layers"
   ]
  },
  {
   "cell_type": "markdown",
   "id": "387ff957",
   "metadata": {},
   "source": [
    "#### Load the Dataset"
   ]
  },
  {
   "cell_type": "code",
   "execution_count": 12,
   "id": "2e66719c",
   "metadata": {},
   "outputs": [
    {
     "data": {
      "application/vnd.microsoft.datawrangler.viewer.v0+json": {
       "columns": [
        {
         "name": "index",
         "rawType": "int64",
         "type": "integer"
        },
        {
         "name": "Price",
         "rawType": "int64",
         "type": "integer"
        },
        {
         "name": "Bedrooms",
         "rawType": "int64",
         "type": "integer"
        },
        {
         "name": "Bathrooms",
         "rawType": "float64",
         "type": "float"
        },
        {
         "name": "SquareFeet",
         "rawType": "int64",
         "type": "integer"
        },
        {
         "name": "YearBuilt",
         "rawType": "int64",
         "type": "integer"
        },
        {
         "name": "GarageSpaces",
         "rawType": "int64",
         "type": "integer"
        },
        {
         "name": "LotSize",
         "rawType": "float64",
         "type": "float"
        },
        {
         "name": "ZipCode",
         "rawType": "int64",
         "type": "integer"
        },
        {
         "name": "CrimeRate",
         "rawType": "float64",
         "type": "float"
        },
        {
         "name": "SchoolRating",
         "rawType": "int64",
         "type": "integer"
        }
       ],
       "ref": "039199b1-f190-44bf-98c7-19829296e6aa",
       "rows": [
        [
         "0",
         "221958",
         "1",
         "1.9",
         "4827",
         "1979",
         "2",
         "1.45",
         "82240",
         "48.6",
         "5"
        ],
        [
         "1",
         "771155",
         "2",
         "2.0",
         "1035",
         "1987",
         "2",
         "1.75",
         "74315",
         "92.03",
         "9"
        ],
        [
         "2",
         "231932",
         "1",
         "3.0",
         "2769",
         "1982",
         "1",
         "1.46",
         "79249",
         "52.08",
         "3"
        ],
        [
         "3",
         "465838",
         "3",
         "3.3",
         "2708",
         "1907",
         "3",
         "1.62",
         "80587",
         "61.65",
         "1"
        ],
        [
         "4",
         "359178",
         "4",
         "3.4",
         "1175",
         "1994",
         "2",
         "0.74",
         "20756",
         "15.66",
         "4"
        ]
       ],
       "shape": {
        "columns": 10,
        "rows": 5
       }
      },
      "text/html": [
       "<div>\n",
       "<style scoped>\n",
       "    .dataframe tbody tr th:only-of-type {\n",
       "        vertical-align: middle;\n",
       "    }\n",
       "\n",
       "    .dataframe tbody tr th {\n",
       "        vertical-align: top;\n",
       "    }\n",
       "\n",
       "    .dataframe thead th {\n",
       "        text-align: right;\n",
       "    }\n",
       "</style>\n",
       "<table border=\"1\" class=\"dataframe\">\n",
       "  <thead>\n",
       "    <tr style=\"text-align: right;\">\n",
       "      <th></th>\n",
       "      <th>Price</th>\n",
       "      <th>Bedrooms</th>\n",
       "      <th>Bathrooms</th>\n",
       "      <th>SquareFeet</th>\n",
       "      <th>YearBuilt</th>\n",
       "      <th>GarageSpaces</th>\n",
       "      <th>LotSize</th>\n",
       "      <th>ZipCode</th>\n",
       "      <th>CrimeRate</th>\n",
       "      <th>SchoolRating</th>\n",
       "    </tr>\n",
       "  </thead>\n",
       "  <tbody>\n",
       "    <tr>\n",
       "      <th>0</th>\n",
       "      <td>221958</td>\n",
       "      <td>1</td>\n",
       "      <td>1.9</td>\n",
       "      <td>4827</td>\n",
       "      <td>1979</td>\n",
       "      <td>2</td>\n",
       "      <td>1.45</td>\n",
       "      <td>82240</td>\n",
       "      <td>48.60</td>\n",
       "      <td>5</td>\n",
       "    </tr>\n",
       "    <tr>\n",
       "      <th>1</th>\n",
       "      <td>771155</td>\n",
       "      <td>2</td>\n",
       "      <td>2.0</td>\n",
       "      <td>1035</td>\n",
       "      <td>1987</td>\n",
       "      <td>2</td>\n",
       "      <td>1.75</td>\n",
       "      <td>74315</td>\n",
       "      <td>92.03</td>\n",
       "      <td>9</td>\n",
       "    </tr>\n",
       "    <tr>\n",
       "      <th>2</th>\n",
       "      <td>231932</td>\n",
       "      <td>1</td>\n",
       "      <td>3.0</td>\n",
       "      <td>2769</td>\n",
       "      <td>1982</td>\n",
       "      <td>1</td>\n",
       "      <td>1.46</td>\n",
       "      <td>79249</td>\n",
       "      <td>52.08</td>\n",
       "      <td>3</td>\n",
       "    </tr>\n",
       "    <tr>\n",
       "      <th>3</th>\n",
       "      <td>465838</td>\n",
       "      <td>3</td>\n",
       "      <td>3.3</td>\n",
       "      <td>2708</td>\n",
       "      <td>1907</td>\n",
       "      <td>3</td>\n",
       "      <td>1.62</td>\n",
       "      <td>80587</td>\n",
       "      <td>61.65</td>\n",
       "      <td>1</td>\n",
       "    </tr>\n",
       "    <tr>\n",
       "      <th>4</th>\n",
       "      <td>359178</td>\n",
       "      <td>4</td>\n",
       "      <td>3.4</td>\n",
       "      <td>1175</td>\n",
       "      <td>1994</td>\n",
       "      <td>2</td>\n",
       "      <td>0.74</td>\n",
       "      <td>20756</td>\n",
       "      <td>15.66</td>\n",
       "      <td>4</td>\n",
       "    </tr>\n",
       "  </tbody>\n",
       "</table>\n",
       "</div>"
      ],
      "text/plain": [
       "    Price  Bedrooms  Bathrooms  SquareFeet  YearBuilt  GarageSpaces  LotSize  \\\n",
       "0  221958         1        1.9        4827       1979             2     1.45   \n",
       "1  771155         2        2.0        1035       1987             2     1.75   \n",
       "2  231932         1        3.0        2769       1982             1     1.46   \n",
       "3  465838         3        3.3        2708       1907             3     1.62   \n",
       "4  359178         4        3.4        1175       1994             2     0.74   \n",
       "\n",
       "   ZipCode  CrimeRate  SchoolRating  \n",
       "0    82240      48.60             5  \n",
       "1    74315      92.03             9  \n",
       "2    79249      52.08             3  \n",
       "3    80587      61.65             1  \n",
       "4    20756      15.66             4  "
      ]
     },
     "execution_count": 12,
     "metadata": {},
     "output_type": "execute_result"
    }
   ],
   "source": [
    "df = pd.read_csv(\"usa_housing_kaggle.csv\")\n",
    "df.head()"
   ]
  },
  {
   "cell_type": "markdown",
   "id": "3adf40b7",
   "metadata": {},
   "source": [
    "#### Information about the Dataset"
   ]
  },
  {
   "cell_type": "code",
   "execution_count": 13,
   "id": "b9d433cc",
   "metadata": {},
   "outputs": [
    {
     "name": "stdout",
     "output_type": "stream",
     "text": [
      "(300, 10)\n",
      "\n",
      "\n",
      "<class 'pandas.core.frame.DataFrame'>\n",
      "RangeIndex: 300 entries, 0 to 299\n",
      "Data columns (total 10 columns):\n",
      " #   Column        Non-Null Count  Dtype  \n",
      "---  ------        --------------  -----  \n",
      " 0   Price         300 non-null    int64  \n",
      " 1   Bedrooms      300 non-null    int64  \n",
      " 2   Bathrooms     300 non-null    float64\n",
      " 3   SquareFeet    300 non-null    int64  \n",
      " 4   YearBuilt     300 non-null    int64  \n",
      " 5   GarageSpaces  300 non-null    int64  \n",
      " 6   LotSize       300 non-null    float64\n",
      " 7   ZipCode       300 non-null    int64  \n",
      " 8   CrimeRate     300 non-null    float64\n",
      " 9   SchoolRating  300 non-null    int64  \n",
      "dtypes: float64(3), int64(7)\n",
      "memory usage: 23.6 KB\n",
      "None\n",
      "\n",
      "\n",
      "               Price    Bedrooms   Bathrooms  SquareFeet    YearBuilt  \\\n",
      "count     300.000000  300.000000  300.000000   300.00000   300.000000   \n",
      "mean   522761.916667    2.966667    2.464000  3052.75000  1962.616667   \n",
      "std    256922.348275    1.451175    0.886184  1194.97144    36.005431   \n",
      "min    112666.000000    1.000000    1.000000   840.00000  1902.000000   \n",
      "25%    299936.500000    2.000000    1.700000  2053.50000  1931.750000   \n",
      "50%    505806.500000    3.000000    2.400000  3127.00000  1961.000000   \n",
      "75%    744603.750000    4.000000    3.200000  4081.00000  1994.000000   \n",
      "max    999684.000000    5.000000    4.000000  4997.00000  2022.000000   \n",
      "\n",
      "       GarageSpaces     LotSize       ZipCode   CrimeRate  SchoolRating  \n",
      "count    300.000000  300.000000    300.000000  300.000000    300.000000  \n",
      "mean       1.513333    1.062200  54324.770000   49.324033      5.096667  \n",
      "std        1.116832    0.543896  24718.938552   28.833220      2.674165  \n",
      "min        0.000000    0.110000  10163.000000    0.190000      1.000000  \n",
      "25%        1.000000    0.570000  34175.000000   22.547500      3.000000  \n",
      "50%        1.000000    1.085000  54896.500000   49.970000      5.000000  \n",
      "75%        3.000000    1.482500  74108.000000   74.402500      8.000000  \n",
      "max        3.000000    2.000000  99881.000000   99.710000      9.000000  \n"
     ]
    }
   ],
   "source": [
    "print(df.shape)\n",
    "print(\"\\n\")\n",
    "print(df.info())\n",
    "print(\"\\n\")\n",
    "print(df.describe())"
   ]
  },
  {
   "cell_type": "markdown",
   "id": "af6a6680",
   "metadata": {},
   "source": [
    "#### Check the length of the Dataset"
   ]
  },
  {
   "cell_type": "code",
   "execution_count": 14,
   "id": "1fff2ea6",
   "metadata": {},
   "outputs": [
    {
     "name": "stdout",
     "output_type": "stream",
     "text": [
      "Amount of data in the dataset: \n"
     ]
    },
    {
     "data": {
      "text/plain": [
       "300"
      ]
     },
     "execution_count": 14,
     "metadata": {},
     "output_type": "execute_result"
    }
   ],
   "source": [
    "print(\"Amount of data in the dataset: \")\n",
    "len(df)"
   ]
  },
  {
   "cell_type": "markdown",
   "id": "6a9b4ec6",
   "metadata": {},
   "source": [
    "#### Check for any missing values "
   ]
  },
  {
   "cell_type": "code",
   "execution_count": 15,
   "id": "ec3e87c4",
   "metadata": {},
   "outputs": [
    {
     "data": {
      "application/vnd.microsoft.datawrangler.viewer.v0+json": {
       "columns": [
        {
         "name": "index",
         "rawType": "object",
         "type": "string"
        },
        {
         "name": "0",
         "rawType": "int64",
         "type": "integer"
        }
       ],
       "ref": "3d033641-69d6-4532-95bd-e1782f823639",
       "rows": [
        [
         "Price",
         "0"
        ],
        [
         "Bedrooms",
         "0"
        ],
        [
         "Bathrooms",
         "0"
        ],
        [
         "SquareFeet",
         "0"
        ],
        [
         "YearBuilt",
         "0"
        ],
        [
         "GarageSpaces",
         "0"
        ],
        [
         "LotSize",
         "0"
        ],
        [
         "ZipCode",
         "0"
        ],
        [
         "CrimeRate",
         "0"
        ],
        [
         "SchoolRating",
         "0"
        ]
       ],
       "shape": {
        "columns": 1,
        "rows": 10
       }
      },
      "text/plain": [
       "Price           0\n",
       "Bedrooms        0\n",
       "Bathrooms       0\n",
       "SquareFeet      0\n",
       "YearBuilt       0\n",
       "GarageSpaces    0\n",
       "LotSize         0\n",
       "ZipCode         0\n",
       "CrimeRate       0\n",
       "SchoolRating    0\n",
       "dtype: int64"
      ]
     },
     "execution_count": 15,
     "metadata": {},
     "output_type": "execute_result"
    }
   ],
   "source": [
    "df.isna().sum()"
   ]
  },
  {
   "cell_type": "markdown",
   "id": "8043631c",
   "metadata": {},
   "source": [
    "#### Check for any duplicates"
   ]
  },
  {
   "cell_type": "code",
   "execution_count": 16,
   "id": "f5da7b37",
   "metadata": {},
   "outputs": [
    {
     "name": "stdout",
     "output_type": "stream",
     "text": [
      "Duplicates: \n"
     ]
    },
    {
     "data": {
      "text/plain": [
       "0"
      ]
     },
     "execution_count": 16,
     "metadata": {},
     "output_type": "execute_result"
    }
   ],
   "source": [
    "print(\"Duplicates: \")\n",
    "duplicates = int(df.duplicated().sum())\n",
    "duplicates"
   ]
  },
  {
   "cell_type": "markdown",
   "id": "e6fde361",
   "metadata": {},
   "source": [
    "#### Data Cleaning \n",
    "The results showed that the dataset contains 300 observations, with no missing values and no duplicate records.\n",
    "\n",
    "To make the variable \"Zip_Code\" useful for our model, it has been split into 4 categories which represent the cardinal directions (North, East, South, West).\n",
    "\n",
    "The One-Hot-Encoding method was used for the variable \"Region_East\", \"Region_West\", \"Region_South\" and \"Region_North\", so that the neural model does not see higher numbers of zip codes as a better number."
   ]
  },
  {
   "cell_type": "code",
   "execution_count": 17,
   "id": "db573ff5",
   "metadata": {},
   "outputs": [],
   "source": [
    "# Independent Variable List:\n",
    "# Bedrooms\n",
    "# Bathrooms\n",
    "# Squarefeet\n",
    "# YearBuilt\n",
    "# GarageSpaces\n",
    "# LotSize\n",
    "# ZipCode\n",
    "# CrimeRate\n",
    "# SchoolRating\n",
    "\n",
    "# Dependent Variables:\n",
    "# Price -> Training the model to predict this variable\n",
    "# Save every independent variable in X, except for \"price\"\n",
    "\n",
    "def zipcode_to_region(zipcode):\n",
    "    if 10000 <= zipcode < 30000:\n",
    "        return \"East\"\n",
    "    elif 30000 <= zipcode < 50000:\n",
    "        return \"South\"\n",
    "    elif 50000 <= zipcode < 70000:\n",
    "        return \"North\"\n",
    "    else:\n",
    "        return \"West\"\n",
    "\n",
    "\n",
    "df = df.drop(columns=[\"Region_East\", \"Region_West\", \"Region_South\", \"Region_North\"], errors=\"ignore\")\n",
    "\n",
    "df[\"Region\"] = df[\"ZipCode\"].apply(zipcode_to_region)\n",
    "\n",
    "df = pd.get_dummies(df, columns=[\"Region\"], drop_first=False)\n",
    "\n",
    "y = df[\"Price\"]\n",
    "X = df.drop([\"Price\", \"ZipCode\"], axis=1)"
   ]
  },
  {
   "cell_type": "markdown",
   "id": "43e28b04",
   "metadata": {},
   "source": [
    "#### Correlation"
   ]
  },
  {
   "cell_type": "code",
   "execution_count": 18,
   "id": "6a8ac8b1",
   "metadata": {},
   "outputs": [
    {
     "data": {
      "image/png": "[encoded data removed]",
      "text/plain": [
       "<Figure size 1000x600 with 2 Axes>"
      ]
     },
     "metadata": {},
     "output_type": "display_data"
    }
   ],
   "source": [
    "corr = X.join(y).corr(numeric_only=True)\n",
    "\n",
    "plt.figure(figsize=(10, 6))\n",
    "sns.heatmap(corr, annot=True, cmap=\"coolwarm\", fmt=\".2f\")\n",
    "plt.title(\"Correlation Matrix of Housing Data\")\n",
    "plt.show()"
   ]
  },
  {
   "cell_type": "markdown",
   "id": "c9a68b65",
   "metadata": {},
   "source": [
    "Most variables like bedrooms, bathrooms, size, or year built have only a weak connection to house prices. The regions also don’t explain much, which shows that the dataset does not have strong predictors for price."
   ]
  },
  {
   "cell_type": "markdown",
   "id": "f9892f69",
   "metadata": {},
   "source": [
    "#### Fisher Score"
   ]
  },
  {
   "cell_type": "code",
   "execution_count": 19,
   "id": "d79b5fc8",
   "metadata": {},
   "outputs": [
    {
     "data": {
      "image/png": "[encoded data removed]",
      "text/plain": [
       "<Figure size 800x500 with 1 Axes>"
      ]
     },
     "metadata": {},
     "output_type": "display_data"
    }
   ],
   "source": [
    "from skfeature.function.similarity_based import fisher_score\n",
    "\n",
    "y_binned = pd.qcut(y, q=4, labels=False)\n",
    "\n",
    "ranks = fisher_score.fisher_score(X.values, y_binned.values)\n",
    "feat_importances = pd.Series(ranks, index=X.columns)\n",
    "\n",
    "feat_importances.sort_values(ascending=False).plot(kind=\"barh\", figsize=(8,5))\n",
    "plt.title(\"Feature Importance by Fisher Score\")\n",
    "plt.show()\n",
    "\n"
   ]
  },
  {
   "cell_type": "markdown",
   "id": "1bb4288d",
   "metadata": {},
   "source": [
    "The Fisher Score test shows that CrimeRate, Bathrooms, and Regions have the strongest influence on predicting house prices. Variables like SquareFeet, GarageSpaces, and SchoolRating are less important for the model."
   ]
  },
  {
   "cell_type": "markdown",
   "id": "d2b70141",
   "metadata": {},
   "source": [
    "#### SelectKBest-Score"
   ]
  },
  {
   "cell_type": "code",
   "execution_count": 20,
   "id": "a144344a",
   "metadata": {},
   "outputs": [
    {
     "name": "stdout",
     "output_type": "stream",
     "text": [
      "         Feature     Chi2 Score\n",
      "2     SquareFeet  139860.475391\n",
      "6      CrimeRate    5039.632897\n",
      "7   SchoolRating     419.528450\n",
      "4   GarageSpaces     246.440529\n",
      "8    Region_East     239.000000\n",
      "10  Region_South     228.000000\n",
      "9   Region_North     227.000000\n",
      "0       Bedrooms     212.247191\n",
      "11   Region_West     206.000000\n",
      "3      YearBuilt     197.502102\n",
      "1      Bathrooms      95.296753\n",
      "5        LotSize      83.271463\n"
     ]
    }
   ],
   "source": [
    "from sklearn.feature_selection import SelectKBest, chi2\n",
    "import numpy as np\n",
    "\n",
    "X_cat = np.abs(X)  \n",
    "y_cat = y.astype(int)\n",
    "\n",
    "chi2_selector = SelectKBest(score_func=chi2, k=\"all\")\n",
    "chi2_selector.fit(X_cat, y_cat)\n",
    "\n",
    "chi2_scores = pd.DataFrame({\n",
    "    \"Feature\": X_cat.columns,\n",
    "    \"Chi2 Score\": chi2_selector.scores_\n",
    "}).sort_values(by=\"Chi2 Score\", ascending=False)\n",
    "\n",
    "print(chi2_scores)\n"
   ]
  },
  {
   "cell_type": "markdown",
   "id": "e2745b76",
   "metadata": {},
   "source": [
    "The SelectKBest Chi² test shows that SquareFeet and CrimeRate are the most important features for predicting house prices. Other variables like Bathrooms and LotSize have much lower importance."
   ]
  },
  {
   "cell_type": "markdown",
   "id": "06ca9bfa",
   "metadata": {},
   "source": [
    "#### VIF-Test"
   ]
  },
  {
   "cell_type": "code",
   "execution_count": 21,
   "id": "4b2d3016",
   "metadata": {},
   "outputs": [
    {
     "name": "stdout",
     "output_type": "stream",
     "text": [
      "         Feature          VIF\n",
      "0       Bedrooms     1.040308\n",
      "1      Bathrooms     1.033074\n",
      "2     SquareFeet     1.039447\n",
      "3      YearBuilt     1.042271\n",
      "4   GarageSpaces     1.030404\n",
      "5        LotSize     1.062858\n",
      "6      CrimeRate     1.009585\n",
      "7   SchoolRating     1.023965\n",
      "8    Region_East   652.689179\n",
      "9   Region_North   773.774603\n",
      "10  Region_South   769.372113\n",
      "11   Region_West  1007.981243\n"
     ]
    }
   ],
   "source": [
    "from statsmodels.stats.outliers_influence import variance_inflation_factor\n",
    "\n",
    "X_vif = X.copy()\n",
    "\n",
    "X_vif = X_vif.astype(float)\n",
    "\n",
    "vif_data = pd.DataFrame()\n",
    "vif_data[\"Feature\"] = X_vif.columns\n",
    "vif_data[\"VIF\"] = [variance_inflation_factor(X_vif.values, i) for i in range(len(X_vif.columns))]\n",
    "\n",
    "print(vif_data)\n"
   ]
  },
  {
   "cell_type": "markdown",
   "id": "f8ac5deb",
   "metadata": {},
   "source": [
    "The VIF test shows that most features like Bedrooms, Bathrooms, and SquareFeet have low collinearity and are safe to keep. However, the Region variables have extremely high VIF values, which means they are strongly correlated with each other and could cause problems in the model."
   ]
  },
  {
   "cell_type": "markdown",
   "id": "8ace1aec",
   "metadata": {},
   "source": [
    "#### X/y -Split"
   ]
  },
  {
   "cell_type": "code",
   "execution_count": 22,
   "id": "2468eced",
   "metadata": {},
   "outputs": [
    {
     "name": "stdout",
     "output_type": "stream",
     "text": [
      "Training size: (210, 12)\n",
      "Validation size: (45, 12)\n",
      "Test size: (45, 12)\n"
     ]
    }
   ],
   "source": [
    "X_train, X_temp, y_train, y_temp = train_test_split(X, y, test_size=0.3)\n",
    "\n",
    "X_val, X_test, y_val, y_test = train_test_split(X_temp, y_temp, test_size=0.5)\n",
    "\n",
    "print(\"Training size:\", X_train.shape)\n",
    "print(\"Validation size:\", X_val.shape)\n",
    "print(\"Test size:\", X_test.shape)"
   ]
  },
  {
   "cell_type": "markdown",
   "id": "5fe61678",
   "metadata": {},
   "source": [
    "#### Scaling of the Data\n",
    "The training, validation, and test datasets are scaled with StandardScaler to standardize feature values."
   ]
  },
  {
   "cell_type": "code",
   "execution_count": 23,
   "id": "e32ca17c",
   "metadata": {},
   "outputs": [],
   "source": [
    "from sklearn.preprocessing import StandardScaler\n",
    "\n",
    "scaler = StandardScaler()\n",
    "\n",
    "X_train = scaler.fit_transform(X_train)\n",
    "X_val   = scaler.transform(X_val)\n",
    "X_test  = scaler.transform(X_test)"
   ]
  },
  {
   "cell_type": "markdown",
   "id": "ab54f885",
   "metadata": {},
   "source": [
    "#### Architecture of the neural network\n",
    "The neural network is built with multiple dense layers and batch normalization to improve learning stability."
   ]
  },
  {
   "cell_type": "code",
   "execution_count": 24,
   "id": "d934cebb",
   "metadata": {},
   "outputs": [
    {
     "name": "stderr",
     "output_type": "stream",
     "text": [
      "d:\\5. Semester\\Deep Learning\\DL-projects\\venv312\\Lib\\site-packages\\keras\\src\\layers\\normalization\\batch_normalization.py:142: UserWarning: Do not pass an `input_shape`/`input_dim` argument to a layer. When using Sequential models, prefer using an `Input(shape)` object as the first layer in the model instead.\n",
      "  super().__init__(**kwargs)\n"
     ]
    },
    {
     "data": {
      "text/html": [
       "<pre style=\"white-space:pre;overflow-x:auto;line-height:normal;font-family:Menlo,'DejaVu Sans Mono',consolas,'Courier New',monospace\"><span style=\"font-weight: bold\">Model: \"sequential\"</span>\n",
       "</pre>\n"
      ],
      "text/plain": [
       "\u001b[1mModel: \"sequential\"\u001b[0m\n"
      ]
     },
     "metadata": {},
     "output_type": "display_data"
    },
    {
     "data": {
      "text/html": [
       "<pre style=\"white-space:pre;overflow-x:auto;line-height:normal;font-family:Menlo,'DejaVu Sans Mono',consolas,'Courier New',monospace\">┏━━━━━━━━━━━━━━━━━━━━━━━━━━━━━━━━━┳━━━━━━━━━━━━━━━━━━━━━━━━┳━━━━━━━━━━━━━━━┓\n",
       "┃<span style=\"font-weight: bold\"> Layer (type)                    </span>┃<span style=\"font-weight: bold\"> Output Shape           </span>┃<span style=\"font-weight: bold\">       Param # </span>┃\n",
       "┡━━━━━━━━━━━━━━━━━━━━━━━━━━━━━━━━━╇━━━━━━━━━━━━━━━━━━━━━━━━╇━━━━━━━━━━━━━━━┩\n",
       "│ batch_normalization             │ (<span style=\"color: #00d7ff; text-decoration-color: #00d7ff\">None</span>, <span style=\"color: #00af00; text-decoration-color: #00af00\">12</span>)             │            <span style=\"color: #00af00; text-decoration-color: #00af00\">48</span> │\n",
       "│ (<span style=\"color: #0087ff; text-decoration-color: #0087ff\">BatchNormalization</span>)            │                        │               │\n",
       "├─────────────────────────────────┼────────────────────────┼───────────────┤\n",
       "│ dense (<span style=\"color: #0087ff; text-decoration-color: #0087ff\">Dense</span>)                   │ (<span style=\"color: #00d7ff; text-decoration-color: #00d7ff\">None</span>, <span style=\"color: #00af00; text-decoration-color: #00af00\">32</span>)             │           <span style=\"color: #00af00; text-decoration-color: #00af00\">416</span> │\n",
       "├─────────────────────────────────┼────────────────────────┼───────────────┤\n",
       "│ dense_1 (<span style=\"color: #0087ff; text-decoration-color: #0087ff\">Dense</span>)                 │ (<span style=\"color: #00d7ff; text-decoration-color: #00d7ff\">None</span>, <span style=\"color: #00af00; text-decoration-color: #00af00\">16</span>)             │           <span style=\"color: #00af00; text-decoration-color: #00af00\">528</span> │\n",
       "├─────────────────────────────────┼────────────────────────┼───────────────┤\n",
       "│ dense_2 (<span style=\"color: #0087ff; text-decoration-color: #0087ff\">Dense</span>)                 │ (<span style=\"color: #00d7ff; text-decoration-color: #00d7ff\">None</span>, <span style=\"color: #00af00; text-decoration-color: #00af00\">8</span>)              │           <span style=\"color: #00af00; text-decoration-color: #00af00\">136</span> │\n",
       "├─────────────────────────────────┼────────────────────────┼───────────────┤\n",
       "│ dense_3 (<span style=\"color: #0087ff; text-decoration-color: #0087ff\">Dense</span>)                 │ (<span style=\"color: #00d7ff; text-decoration-color: #00d7ff\">None</span>, <span style=\"color: #00af00; text-decoration-color: #00af00\">1</span>)              │             <span style=\"color: #00af00; text-decoration-color: #00af00\">9</span> │\n",
       "└─────────────────────────────────┴────────────────────────┴───────────────┘\n",
       "</pre>\n"
      ],
      "text/plain": [
       "┏━━━━━━━━━━━━━━━━━━━━━━━━━━━━━━━━━┳━━━━━━━━━━━━━━━━━━━━━━━━┳━━━━━━━━━━━━━━━┓\n",
       "┃\u001b[1m \u001b[0m\u001b[1mLayer (type)                   \u001b[0m\u001b[1m \u001b[0m┃\u001b[1m \u001b[0m\u001b[1mOutput Shape          \u001b[0m\u001b[1m \u001b[0m┃\u001b[1m \u001b[0m\u001b[1m      Param #\u001b[0m\u001b[1m \u001b[0m┃\n",
       "┡━━━━━━━━━━━━━━━━━━━━━━━━━━━━━━━━━╇━━━━━━━━━━━━━━━━━━━━━━━━╇━━━━━━━━━━━━━━━┩\n",
       "│ batch_normalization             │ (\u001b[38;5;45mNone\u001b[0m, \u001b[38;5;34m12\u001b[0m)             │            \u001b[38;5;34m48\u001b[0m │\n",
       "│ (\u001b[38;5;33mBatchNormalization\u001b[0m)            │                        │               │\n",
       "├─────────────────────────────────┼────────────────────────┼───────────────┤\n",
       "│ dense (\u001b[38;5;33mDense\u001b[0m)                   │ (\u001b[38;5;45mNone\u001b[0m, \u001b[38;5;34m32\u001b[0m)             │           \u001b[38;5;34m416\u001b[0m │\n",
       "├─────────────────────────────────┼────────────────────────┼───────────────┤\n",
       "│ dense_1 (\u001b[38;5;33mDense\u001b[0m)                 │ (\u001b[38;5;45mNone\u001b[0m, \u001b[38;5;34m16\u001b[0m)             │           \u001b[38;5;34m528\u001b[0m │\n",
       "├─────────────────────────────────┼────────────────────────┼───────────────┤\n",
       "│ dense_2 (\u001b[38;5;33mDense\u001b[0m)                 │ (\u001b[38;5;45mNone\u001b[0m, \u001b[38;5;34m8\u001b[0m)              │           \u001b[38;5;34m136\u001b[0m │\n",
       "├─────────────────────────────────┼────────────────────────┼───────────────┤\n",
       "│ dense_3 (\u001b[38;5;33mDense\u001b[0m)                 │ (\u001b[38;5;45mNone\u001b[0m, \u001b[38;5;34m1\u001b[0m)              │             \u001b[38;5;34m9\u001b[0m │\n",
       "└─────────────────────────────────┴────────────────────────┴───────────────┘\n"
      ]
     },
     "metadata": {},
     "output_type": "display_data"
    },
    {
     "data": {
      "text/html": [
       "<pre style=\"white-space:pre;overflow-x:auto;line-height:normal;font-family:Menlo,'DejaVu Sans Mono',consolas,'Courier New',monospace\"><span style=\"font-weight: bold\"> Total params: </span><span style=\"color: #00af00; text-decoration-color: #00af00\">1,137</span> (4.44 KB)\n",
       "</pre>\n"
      ],
      "text/plain": [
       "\u001b[1m Total params: \u001b[0m\u001b[38;5;34m1,137\u001b[0m (4.44 KB)\n"
      ]
     },
     "metadata": {},
     "output_type": "display_data"
    },
    {
     "data": {
      "text/html": [
       "<pre style=\"white-space:pre;overflow-x:auto;line-height:normal;font-family:Menlo,'DejaVu Sans Mono',consolas,'Courier New',monospace\"><span style=\"font-weight: bold\"> Trainable params: </span><span style=\"color: #00af00; text-decoration-color: #00af00\">1,113</span> (4.35 KB)\n",
       "</pre>\n"
      ],
      "text/plain": [
       "\u001b[1m Trainable params: \u001b[0m\u001b[38;5;34m1,113\u001b[0m (4.35 KB)\n"
      ]
     },
     "metadata": {},
     "output_type": "display_data"
    },
    {
     "data": {
      "text/html": [
       "<pre style=\"white-space:pre;overflow-x:auto;line-height:normal;font-family:Menlo,'DejaVu Sans Mono',consolas,'Courier New',monospace\"><span style=\"font-weight: bold\"> Non-trainable params: </span><span style=\"color: #00af00; text-decoration-color: #00af00\">24</span> (96.00 B)\n",
       "</pre>\n"
      ],
      "text/plain": [
       "\u001b[1m Non-trainable params: \u001b[0m\u001b[38;5;34m24\u001b[0m (96.00 B)\n"
      ]
     },
     "metadata": {},
     "output_type": "display_data"
    }
   ],
   "source": [
    "from keras.callbacks import ModelCheckpoint, EarlyStopping, ReduceLROnPlateau\n",
    "\n",
    "variable_amount = len(X.columns)\n",
    "\n",
    "training_model_11 = keras.Sequential(\n",
    "    [\n",
    "        layers.BatchNormalization(input_shape=(variable_amount,)),\n",
    "        layers.Dense(32, activation=\"relu\"),\n",
    "        layers.Dense(16, activation=\"relu\"),\n",
    "        layers.Dense(8, activation=\"relu\"),\n",
    "        layers.Dense(1)\n",
    "    ]\n",
    ")\n",
    "\n",
    "training_model_11.compile(optimizer=\"adam\", loss=\"mse\")\n",
    "\n",
    "training_model_11.summary()"
   ]
  },
  {
   "cell_type": "markdown",
   "id": "d3c397fa",
   "metadata": {},
   "source": [
    "#### Training of the model\n",
    "The model is trained with early stopping to prevent overfitting, using validation loss."
   ]
  },
  {
   "cell_type": "code",
   "execution_count": 25,
   "id": "ea752cde",
   "metadata": {},
   "outputs": [
    {
     "name": "stdout",
     "output_type": "stream",
     "text": [
      "Epoch 1/300\n",
      "\u001b[1m7/7\u001b[0m \u001b[32m━━━━━━━━━━━━━━━━━━━━\u001b[0m\u001b[37m\u001b[0m \u001b[1m4s\u001b[0m 56ms/step - loss: 320339279872.0000 - val_loss: 388529324032.0000\n",
      "Epoch 2/300\n",
      "\u001b[1m7/7\u001b[0m \u001b[32m━━━━━━━━━━━━━━━━━━━━\u001b[0m\u001b[37m\u001b[0m \u001b[1m0s\u001b[0m 18ms/step - loss: 320339181568.0000 - val_loss: 388529127424.0000\n",
      "Epoch 3/300\n",
      "\u001b[1m7/7\u001b[0m \u001b[32m━━━━━━━━━━━━━━━━━━━━\u001b[0m\u001b[37m\u001b[0m \u001b[1m0s\u001b[0m 14ms/step - loss: 320338984960.0000 - val_loss: 388528898048.0000\n",
      "Epoch 4/300\n",
      "\u001b[1m7/7\u001b[0m \u001b[32m━━━━━━━━━━━━━━━━━━━━\u001b[0m\u001b[37m\u001b[0m \u001b[1m0s\u001b[0m 17ms/step - loss: 320338755584.0000 - val_loss: 388528668672.0000\n",
      "Epoch 5/300\n",
      "\u001b[1m7/7\u001b[0m \u001b[32m━━━━━━━━━━━━━━━━━━━━\u001b[0m\u001b[37m\u001b[0m \u001b[1m0s\u001b[0m 14ms/step - loss: 320338526208.0000 - val_loss: 388528373760.0000\n",
      "Epoch 6/300\n",
      "\u001b[1m7/7\u001b[0m \u001b[32m━━━━━━━━━━━━━━━━━━━━\u001b[0m\u001b[37m\u001b[0m \u001b[1m0s\u001b[0m 15ms/step - loss: 320338264064.0000 - val_loss: 388528013312.0000\n",
      "Epoch 7/300\n",
      "\u001b[1m7/7\u001b[0m \u001b[32m━━━━━━━━━━━━━━━━━━━━\u001b[0m\u001b[37m\u001b[0m \u001b[1m0s\u001b[0m 14ms/step - loss: 320337903616.0000 - val_loss: 388527620096.0000\n",
      "Epoch 8/300\n",
      "\u001b[1m7/7\u001b[0m \u001b[32m━━━━━━━━━━━━━━━━━━━━\u001b[0m\u001b[37m\u001b[0m \u001b[1m0s\u001b[0m 13ms/step - loss: 320337477632.0000 - val_loss: 388527063040.0000\n",
      "Epoch 9/300\n",
      "\u001b[1m7/7\u001b[0m \u001b[32m━━━━━━━━━━━━━━━━━━━━\u001b[0m\u001b[37m\u001b[0m \u001b[1m0s\u001b[0m 13ms/step - loss: 320336920576.0000 - val_loss: 388526342144.0000\n",
      "Epoch 10/300\n",
      "\u001b[1m7/7\u001b[0m \u001b[32m━━━━━━━━━━━━━━━━━━━━\u001b[0m\u001b[37m\u001b[0m \u001b[1m0s\u001b[0m 13ms/step - loss: 320336199680.0000 - val_loss: 388525457408.0000\n",
      "Epoch 11/300\n",
      "\u001b[1m7/7\u001b[0m \u001b[32m━━━━━━━━━━━━━━━━━━━━\u001b[0m\u001b[37m\u001b[0m \u001b[1m0s\u001b[0m 16ms/step - loss: 320335347712.0000 - val_loss: 388524343296.0000\n",
      "Epoch 12/300\n",
      "\u001b[1m7/7\u001b[0m \u001b[32m━━━━━━━━━━━━━━━━━━━━\u001b[0m\u001b[37m\u001b[0m \u001b[1m0s\u001b[0m 16ms/step - loss: 320334200832.0000 - val_loss: 388522999808.0000\n",
      "Epoch 13/300\n",
      "\u001b[1m7/7\u001b[0m \u001b[32m━━━━━━━━━━━━━━━━━━━━\u001b[0m\u001b[37m\u001b[0m \u001b[1m0s\u001b[0m 15ms/step - loss: 320332890112.0000 - val_loss: 388521263104.0000\n",
      "Epoch 14/300\n",
      "\u001b[1m7/7\u001b[0m \u001b[32m━━━━━━━━━━━━━━━━━━━━\u001b[0m\u001b[37m\u001b[0m \u001b[1m0s\u001b[0m 14ms/step - loss: 320331186176.0000 - val_loss: 388519133184.0000\n",
      "Epoch 15/300\n",
      "\u001b[1m7/7\u001b[0m \u001b[32m━━━━━━━━━━━━━━━━━━━━\u001b[0m\u001b[37m\u001b[0m \u001b[1m0s\u001b[0m 14ms/step - loss: 320328957952.0000 - val_loss: 388516446208.0000\n",
      "Epoch 16/300\n",
      "\u001b[1m7/7\u001b[0m \u001b[32m━━━━━━━━━━━━━━━━━━━━\u001b[0m\u001b[37m\u001b[0m \u001b[1m0s\u001b[0m 17ms/step - loss: 320326270976.0000 - val_loss: 388513103872.0000\n",
      "Epoch 17/300\n",
      "\u001b[1m7/7\u001b[0m \u001b[32m━━━━━━━━━━━━━━━━━━━━\u001b[0m\u001b[37m\u001b[0m \u001b[1m0s\u001b[0m 17ms/step - loss: 320322994176.0000 - val_loss: 388508975104.0000\n",
      "Epoch 18/300\n",
      "\u001b[1m7/7\u001b[0m \u001b[32m━━━━━━━━━━━━━━━━━━━━\u001b[0m\u001b[37m\u001b[0m \u001b[1m0s\u001b[0m 16ms/step - loss: 320318832640.0000 - val_loss: 388503928832.0000\n",
      "Epoch 19/300\n",
      "\u001b[1m7/7\u001b[0m \u001b[32m━━━━━━━━━━━━━━━━━━━━\u001b[0m\u001b[37m\u001b[0m \u001b[1m0s\u001b[0m 17ms/step - loss: 320313720832.0000 - val_loss: 388497768448.0000\n",
      "Epoch 20/300\n",
      "\u001b[1m7/7\u001b[0m \u001b[32m━━━━━━━━━━━━━━━━━━━━\u001b[0m\u001b[37m\u001b[0m \u001b[1m0s\u001b[0m 16ms/step - loss: 320307757056.0000 - val_loss: 388490297344.0000\n",
      "Epoch 21/300\n",
      "\u001b[1m7/7\u001b[0m \u001b[32m━━━━━━━━━━━━━━━━━━━━\u001b[0m\u001b[37m\u001b[0m \u001b[1m0s\u001b[0m 18ms/step - loss: 320300285952.0000 - val_loss: 388481187840.0000\n",
      "Epoch 22/300\n",
      "\u001b[1m7/7\u001b[0m \u001b[32m━━━━━━━━━━━━━━━━━━━━\u001b[0m\u001b[37m\u001b[0m \u001b[1m0s\u001b[0m 16ms/step - loss: 320291405824.0000 - val_loss: 388470210560.0000\n",
      "Epoch 23/300\n",
      "\u001b[1m7/7\u001b[0m \u001b[32m━━━━━━━━━━━━━━━━━━━━\u001b[0m\u001b[37m\u001b[0m \u001b[1m0s\u001b[0m 16ms/step - loss: 320280199168.0000 - val_loss: 388457103360.0000\n",
      "Epoch 24/300\n",
      "\u001b[1m7/7\u001b[0m \u001b[32m━━━━━━━━━━━━━━━━━━━━\u001b[0m\u001b[37m\u001b[0m \u001b[1m0s\u001b[0m 16ms/step - loss: 320266993664.0000 - val_loss: 388441374720.0000\n",
      "Epoch 25/300\n",
      "\u001b[1m7/7\u001b[0m \u001b[32m━━━━━━━━━━━━━━━━━━━━\u001b[0m\u001b[37m\u001b[0m \u001b[1m0s\u001b[0m 17ms/step - loss: 320251232256.0000 - val_loss: 388422598656.0000\n",
      "Epoch 26/300\n",
      "\u001b[1m7/7\u001b[0m \u001b[32m━━━━━━━━━━━━━━━━━━━━\u001b[0m\u001b[37m\u001b[0m \u001b[1m0s\u001b[0m 16ms/step - loss: 320232620032.0000 - val_loss: 388400414720.0000\n",
      "Epoch 27/300\n",
      "\u001b[1m7/7\u001b[0m \u001b[32m━━━━━━━━━━━━━━━━━━━━\u001b[0m\u001b[37m\u001b[0m \u001b[1m0s\u001b[0m 16ms/step - loss: 320210239488.0000 - val_loss: 388374167552.0000\n",
      "Epoch 28/300\n",
      "\u001b[1m7/7\u001b[0m \u001b[32m━━━━━━━━━━━━━━━━━━━━\u001b[0m\u001b[37m\u001b[0m \u001b[1m0s\u001b[0m 16ms/step - loss: 320184451072.0000 - val_loss: 388342906880.0000\n",
      "Epoch 29/300\n",
      "\u001b[1m7/7\u001b[0m \u001b[32m━━━━━━━━━━━━━━━━━━━━\u001b[0m\u001b[37m\u001b[0m \u001b[1m0s\u001b[0m 17ms/step - loss: 320152371200.0000 - val_loss: 388306206720.0000\n",
      "Epoch 30/300\n",
      "\u001b[1m7/7\u001b[0m \u001b[32m━━━━━━━━━━━━━━━━━━━━\u001b[0m\u001b[37m\u001b[0m \u001b[1m0s\u001b[0m 16ms/step - loss: 320115245056.0000 - val_loss: 388262789120.0000\n",
      "Epoch 31/300\n",
      "\u001b[1m7/7\u001b[0m \u001b[32m━━━━━━━━━━━━━━━━━━━━\u001b[0m\u001b[37m\u001b[0m \u001b[1m0s\u001b[0m 16ms/step - loss: 320075300864.0000 - val_loss: 388212555776.0000\n",
      "Epoch 32/300\n",
      "\u001b[1m7/7\u001b[0m \u001b[32m━━━━━━━━━━━━━━━━━━━━\u001b[0m\u001b[37m\u001b[0m \u001b[1m0s\u001b[0m 17ms/step - loss: 320023199744.0000 - val_loss: 388153180160.0000\n",
      "Epoch 33/300\n",
      "\u001b[1m7/7\u001b[0m \u001b[32m━━━━━━━━━━━━━━━━━━━━\u001b[0m\u001b[37m\u001b[0m \u001b[1m0s\u001b[0m 16ms/step - loss: 319964512256.0000 - val_loss: 388083843072.0000\n",
      "Epoch 34/300\n",
      "\u001b[1m7/7\u001b[0m \u001b[32m━━━━━━━━━━━━━━━━━━━━\u001b[0m\u001b[37m\u001b[0m \u001b[1m0s\u001b[0m 17ms/step - loss: 319893340160.0000 - val_loss: 388002676736.0000\n",
      "Epoch 35/300\n",
      "\u001b[1m7/7\u001b[0m \u001b[32m━━━━━━━━━━━━━━━━━━━━\u001b[0m\u001b[37m\u001b[0m \u001b[1m0s\u001b[0m 17ms/step - loss: 319812239360.0000 - val_loss: 387907780608.0000\n",
      "Epoch 36/300\n",
      "\u001b[1m7/7\u001b[0m \u001b[32m━━━━━━━━━━━━━━━━━━━━\u001b[0m\u001b[37m\u001b[0m \u001b[1m0s\u001b[0m 16ms/step - loss: 319723896832.0000 - val_loss: 387798958080.0000\n",
      "Epoch 37/300\n",
      "\u001b[1m7/7\u001b[0m \u001b[32m━━━━━━━━━━━━━━━━━━━━\u001b[0m\u001b[37m\u001b[0m \u001b[1m0s\u001b[0m 16ms/step - loss: 319612289024.0000 - val_loss: 387672801280.0000\n",
      "Epoch 38/300\n",
      "\u001b[1m7/7\u001b[0m \u001b[32m━━━━━━━━━━━━━━━━━━━━\u001b[0m\u001b[37m\u001b[0m \u001b[1m0s\u001b[0m 16ms/step - loss: 319478497280.0000 - val_loss: 387528228864.0000\n",
      "Epoch 39/300\n",
      "\u001b[1m7/7\u001b[0m \u001b[32m━━━━━━━━━━━━━━━━━━━━\u001b[0m\u001b[37m\u001b[0m \u001b[1m0s\u001b[0m 15ms/step - loss: 319337005056.0000 - val_loss: 387359014912.0000\n",
      "Epoch 40/300\n",
      "\u001b[1m7/7\u001b[0m \u001b[32m━━━━━━━━━━━━━━━━━━━━\u001b[0m\u001b[37m\u001b[0m \u001b[1m0s\u001b[0m 19ms/step - loss: 319186010112.0000 - val_loss: 387164798976.0000\n",
      "Epoch 41/300\n",
      "\u001b[1m7/7\u001b[0m \u001b[32m━━━━━━━━━━━━━━━━━━━━\u001b[0m\u001b[37m\u001b[0m \u001b[1m0s\u001b[0m 18ms/step - loss: 318987468800.0000 - val_loss: 386945810432.0000\n",
      "Epoch 42/300\n",
      "\u001b[1m7/7\u001b[0m \u001b[32m━━━━━━━━━━━━━━━━━━━━\u001b[0m\u001b[37m\u001b[0m \u001b[1m0s\u001b[0m 16ms/step - loss: 318774149120.0000 - val_loss: 386698838016.0000\n",
      "Epoch 43/300\n",
      "\u001b[1m7/7\u001b[0m \u001b[32m━━━━━━━━━━━━━━━━━━━━\u001b[0m\u001b[37m\u001b[0m \u001b[1m0s\u001b[0m 17ms/step - loss: 318526095360.0000 - val_loss: 386418606080.0000\n",
      "Epoch 44/300\n",
      "\u001b[1m7/7\u001b[0m \u001b[32m━━━━━━━━━━━━━━━━━━━━\u001b[0m\u001b[37m\u001b[0m \u001b[1m0s\u001b[0m 14ms/step - loss: 318255923200.0000 - val_loss: 386105081856.0000\n",
      "Epoch 45/300\n",
      "\u001b[1m7/7\u001b[0m \u001b[32m━━━━━━━━━━━━━━━━━━━━\u001b[0m\u001b[37m\u001b[0m \u001b[1m0s\u001b[0m 16ms/step - loss: 317926801408.0000 - val_loss: 385751810048.0000\n",
      "Epoch 46/300\n",
      "\u001b[1m7/7\u001b[0m \u001b[32m━━━━━━━━━━━━━━━━━━━━\u001b[0m\u001b[37m\u001b[0m \u001b[1m0s\u001b[0m 17ms/step - loss: 317600989184.0000 - val_loss: 385350500352.0000\n",
      "Epoch 47/300\n",
      "\u001b[1m7/7\u001b[0m \u001b[32m━━━━━━━━━━━━━━━━━━━━\u001b[0m\u001b[37m\u001b[0m \u001b[1m0s\u001b[0m 17ms/step - loss: 317192568832.0000 - val_loss: 384904593408.0000\n",
      "Epoch 48/300\n",
      "\u001b[1m7/7\u001b[0m \u001b[32m━━━━━━━━━━━━━━━━━━━━\u001b[0m\u001b[37m\u001b[0m \u001b[1m0s\u001b[0m 16ms/step - loss: 316754624512.0000 - val_loss: 384403636224.0000\n",
      "Epoch 49/300\n",
      "\u001b[1m7/7\u001b[0m \u001b[32m━━━━━━━━━━━━━━━━━━━━\u001b[0m\u001b[37m\u001b[0m \u001b[1m0s\u001b[0m 16ms/step - loss: 316257140736.0000 - val_loss: 383849889792.0000\n",
      "Epoch 50/300\n",
      "\u001b[1m7/7\u001b[0m \u001b[32m━━━━━━━━━━━━━━━━━━━━\u001b[0m\u001b[37m\u001b[0m \u001b[1m0s\u001b[0m 16ms/step - loss: 315702116352.0000 - val_loss: 383231033344.0000\n",
      "Epoch 51/300\n",
      "\u001b[1m7/7\u001b[0m \u001b[32m━━━━━━━━━━━━━━━━━━━━\u001b[0m\u001b[37m\u001b[0m \u001b[1m0s\u001b[0m 16ms/step - loss: 315090436096.0000 - val_loss: 382554112000.0000\n",
      "Epoch 52/300\n",
      "\u001b[1m7/7\u001b[0m \u001b[32m━━━━━━━━━━━━━━━━━━━━\u001b[0m\u001b[37m\u001b[0m \u001b[1m0s\u001b[0m 16ms/step - loss: 314410237952.0000 - val_loss: 381792157696.0000\n",
      "Epoch 53/300\n",
      "\u001b[1m7/7\u001b[0m \u001b[32m━━━━━━━━━━━━━━━━━━━━\u001b[0m\u001b[37m\u001b[0m \u001b[1m0s\u001b[0m 16ms/step - loss: 313682984960.0000 - val_loss: 380956606464.0000\n",
      "Epoch 54/300\n",
      "\u001b[1m7/7\u001b[0m \u001b[32m━━━━━━━━━━━━━━━━━━━━\u001b[0m\u001b[37m\u001b[0m \u001b[1m0s\u001b[0m 16ms/step - loss: 312863162368.0000 - val_loss: 380051718144.0000\n",
      "Epoch 55/300\n",
      "\u001b[1m7/7\u001b[0m \u001b[32m━━━━━━━━━━━━━━━━━━━━\u001b[0m\u001b[37m\u001b[0m \u001b[1m0s\u001b[0m 15ms/step - loss: 312009424896.0000 - val_loss: 379057012736.0000\n",
      "Epoch 56/300\n",
      "\u001b[1m7/7\u001b[0m \u001b[32m━━━━━━━━━━━━━━━━━━━━\u001b[0m\u001b[37m\u001b[0m \u001b[1m0s\u001b[0m 16ms/step - loss: 311044112384.0000 - val_loss: 377961807872.0000\n",
      "Epoch 57/300\n",
      "\u001b[1m7/7\u001b[0m \u001b[32m━━━━━━━━━━━━━━━━━━━━\u001b[0m\u001b[37m\u001b[0m \u001b[1m0s\u001b[0m 16ms/step - loss: 309941141504.0000 - val_loss: 376772657152.0000\n",
      "Epoch 58/300\n",
      "\u001b[1m7/7\u001b[0m \u001b[32m━━━━━━━━━━━━━━━━━━━━\u001b[0m\u001b[37m\u001b[0m \u001b[1m0s\u001b[0m 19ms/step - loss: 308783710208.0000 - val_loss: 375495589888.0000\n",
      "Epoch 59/300\n",
      "\u001b[1m7/7\u001b[0m \u001b[32m━━━━━━━━━━━━━━━━━━━━\u001b[0m\u001b[37m\u001b[0m \u001b[1m0s\u001b[0m 20ms/step - loss: 307596034048.0000 - val_loss: 374091382784.0000\n",
      "Epoch 60/300\n",
      "\u001b[1m7/7\u001b[0m \u001b[32m━━━━━━━━━━━━━━━━━━━━\u001b[0m\u001b[37m\u001b[0m \u001b[1m0s\u001b[0m 17ms/step - loss: 306192875520.0000 - val_loss: 372604436480.0000\n",
      "Epoch 61/300\n",
      "\u001b[1m7/7\u001b[0m \u001b[32m━━━━━━━━━━━━━━━━━━━━\u001b[0m\u001b[37m\u001b[0m \u001b[1m0s\u001b[0m 17ms/step - loss: 304684597248.0000 - val_loss: 370969116672.0000\n",
      "Epoch 62/300\n",
      "\u001b[1m7/7\u001b[0m \u001b[32m━━━━━━━━━━━━━━━━━━━━\u001b[0m\u001b[37m\u001b[0m \u001b[1m0s\u001b[0m 16ms/step - loss: 303141355520.0000 - val_loss: 369231265792.0000\n",
      "Epoch 63/300\n",
      "\u001b[1m7/7\u001b[0m \u001b[32m━━━━━━━━━━━━━━━━━━━━\u001b[0m\u001b[37m\u001b[0m \u001b[1m0s\u001b[0m 17ms/step - loss: 301484965888.0000 - val_loss: 367337897984.0000\n",
      "Epoch 64/300\n",
      "\u001b[1m7/7\u001b[0m \u001b[32m━━━━━━━━━━━━━━━━━━━━\u001b[0m\u001b[37m\u001b[0m \u001b[1m0s\u001b[0m 17ms/step - loss: 299645796352.0000 - val_loss: 365302218752.0000\n",
      "Epoch 65/300\n",
      "\u001b[1m7/7\u001b[0m \u001b[32m━━━━━━━━━━━━━━━━━━━━\u001b[0m\u001b[37m\u001b[0m \u001b[1m0s\u001b[0m 16ms/step - loss: 297730899968.0000 - val_loss: 363129995264.0000\n",
      "Epoch 66/300\n",
      "\u001b[1m7/7\u001b[0m \u001b[32m━━━━━━━━━━━━━━━━━━━━\u001b[0m\u001b[37m\u001b[0m \u001b[1m0s\u001b[0m 17ms/step - loss: 295633256448.0000 - val_loss: 360791048192.0000\n",
      "Epoch 67/300\n",
      "\u001b[1m7/7\u001b[0m \u001b[32m━━━━━━━━━━━━━━━━━━━━\u001b[0m\u001b[37m\u001b[0m \u001b[1m0s\u001b[0m 17ms/step - loss: 293444026368.0000 - val_loss: 358312345600.0000\n",
      "Epoch 68/300\n",
      "\u001b[1m7/7\u001b[0m \u001b[32m━━━━━━━━━━━━━━━━━━━━\u001b[0m\u001b[37m\u001b[0m \u001b[1m0s\u001b[0m 23ms/step - loss: 291050782720.0000 - val_loss: 355684777984.0000\n",
      "Epoch 69/300\n",
      "\u001b[1m7/7\u001b[0m \u001b[32m━━━━━━━━━━━━━━━━━━━━\u001b[0m\u001b[37m\u001b[0m \u001b[1m0s\u001b[0m 16ms/step - loss: 288435765248.0000 - val_loss: 352880492544.0000\n",
      "Epoch 70/300\n",
      "\u001b[1m7/7\u001b[0m \u001b[32m━━━━━━━━━━━━━━━━━━━━\u001b[0m\u001b[37m\u001b[0m \u001b[1m0s\u001b[0m 16ms/step - loss: 285835689984.0000 - val_loss: 349892182016.0000\n",
      "Epoch 71/300\n",
      "\u001b[1m7/7\u001b[0m \u001b[32m━━━━━━━━━━━━━━━━━━━━\u001b[0m\u001b[37m\u001b[0m \u001b[1m0s\u001b[0m 16ms/step - loss: 282988380160.0000 - val_loss: 346757136384.0000\n",
      "Epoch 72/300\n",
      "\u001b[1m7/7\u001b[0m \u001b[32m━━━━━━━━━━━━━━━━━━━━\u001b[0m\u001b[37m\u001b[0m \u001b[1m0s\u001b[0m 16ms/step - loss: 280012226560.0000 - val_loss: 343419944960.0000\n",
      "Epoch 73/300\n",
      "\u001b[1m7/7\u001b[0m \u001b[32m━━━━━━━━━━━━━━━━━━━━\u001b[0m\u001b[37m\u001b[0m \u001b[1m0s\u001b[0m 16ms/step - loss: 276952580096.0000 - val_loss: 339922092032.0000\n",
      "Epoch 74/300\n",
      "\u001b[1m7/7\u001b[0m \u001b[32m━━━━━━━━━━━━━━━━━━━━\u001b[0m\u001b[37m\u001b[0m \u001b[1m0s\u001b[0m 16ms/step - loss: 273504092160.0000 - val_loss: 336240312320.0000\n",
      "Epoch 75/300\n",
      "\u001b[1m7/7\u001b[0m \u001b[32m━━━━━━━━━━━━━━━━━━━━\u001b[0m\u001b[37m\u001b[0m \u001b[1m0s\u001b[0m 20ms/step - loss: 270153842688.0000 - val_loss: 332312018944.0000\n",
      "Epoch 76/300\n",
      "\u001b[1m7/7\u001b[0m \u001b[32m━━━━━━━━━━━━━━━━━━━━\u001b[0m\u001b[37m\u001b[0m \u001b[1m0s\u001b[0m 16ms/step - loss: 266755817472.0000 - val_loss: 328268644352.0000\n",
      "Epoch 77/300\n",
      "\u001b[1m7/7\u001b[0m \u001b[32m━━━━━━━━━━━━━━━━━━━━\u001b[0m\u001b[37m\u001b[0m \u001b[1m0s\u001b[0m 16ms/step - loss: 262831685632.0000 - val_loss: 324163665920.0000\n",
      "Epoch 78/300\n",
      "\u001b[1m7/7\u001b[0m \u001b[32m━━━━━━━━━━━━━━━━━━━━\u001b[0m\u001b[37m\u001b[0m \u001b[1m0s\u001b[0m 16ms/step - loss: 258722840576.0000 - val_loss: 319742410752.0000\n",
      "Epoch 79/300\n",
      "\u001b[1m7/7\u001b[0m \u001b[32m━━━━━━━━━━━━━━━━━━━━\u001b[0m\u001b[37m\u001b[0m \u001b[1m0s\u001b[0m 16ms/step - loss: 254892589056.0000 - val_loss: 315177598976.0000\n",
      "Epoch 80/300\n",
      "\u001b[1m7/7\u001b[0m \u001b[32m━━━━━━━━━━━━━━━━━━━━\u001b[0m\u001b[37m\u001b[0m \u001b[1m0s\u001b[0m 17ms/step - loss: 250899988480.0000 - val_loss: 310353428480.0000\n",
      "Epoch 81/300\n",
      "\u001b[1m7/7\u001b[0m \u001b[32m━━━━━━━━━━━━━━━━━━━━\u001b[0m\u001b[37m\u001b[0m \u001b[1m0s\u001b[0m 16ms/step - loss: 246362472448.0000 - val_loss: 305424269312.0000\n",
      "Epoch 82/300\n",
      "\u001b[1m7/7\u001b[0m \u001b[32m━━━━━━━━━━━━━━━━━━━━\u001b[0m\u001b[37m\u001b[0m \u001b[1m0s\u001b[0m 16ms/step - loss: 241936596992.0000 - val_loss: 300358762496.0000\n",
      "Epoch 83/300\n",
      "\u001b[1m7/7\u001b[0m \u001b[32m━━━━━━━━━━━━━━━━━━━━\u001b[0m\u001b[37m\u001b[0m \u001b[1m0s\u001b[0m 17ms/step - loss: 237322584064.0000 - val_loss: 295204945920.0000\n",
      "Epoch 84/300\n",
      "\u001b[1m7/7\u001b[0m \u001b[32m━━━━━━━━━━━━━━━━━━━━\u001b[0m\u001b[37m\u001b[0m \u001b[1m0s\u001b[0m 16ms/step - loss: 232588935168.0000 - val_loss: 289788395520.0000\n",
      "Epoch 85/300\n",
      "\u001b[1m7/7\u001b[0m \u001b[32m━━━━━━━━━━━━━━━━━━━━\u001b[0m\u001b[37m\u001b[0m \u001b[1m0s\u001b[0m 16ms/step - loss: 227509518336.0000 - val_loss: 284323479552.0000\n",
      "Epoch 86/300\n",
      "\u001b[1m7/7\u001b[0m \u001b[32m━━━━━━━━━━━━━━━━━━━━\u001b[0m\u001b[37m\u001b[0m \u001b[1m0s\u001b[0m 18ms/step - loss: 222679498752.0000 - val_loss: 278689185792.0000\n",
      "Epoch 87/300\n",
      "\u001b[1m7/7\u001b[0m \u001b[32m━━━━━━━━━━━━━━━━━━━━\u001b[0m\u001b[37m\u001b[0m \u001b[1m0s\u001b[0m 16ms/step - loss: 217071927296.0000 - val_loss: 272768122880.0000\n",
      "Epoch 88/300\n",
      "\u001b[1m7/7\u001b[0m \u001b[32m━━━━━━━━━━━━━━━━━━━━\u001b[0m\u001b[37m\u001b[0m \u001b[1m0s\u001b[0m 20ms/step - loss: 212247756800.0000 - val_loss: 266840309760.0000\n",
      "Epoch 89/300\n",
      "\u001b[1m7/7\u001b[0m \u001b[32m━━━━━━━━━━━━━━━━━━━━\u001b[0m\u001b[37m\u001b[0m \u001b[1m0s\u001b[0m 16ms/step - loss: 207011807232.0000 - val_loss: 260833067008.0000\n",
      "Epoch 90/300\n",
      "\u001b[1m7/7\u001b[0m \u001b[32m━━━━━━━━━━━━━━━━━━━━\u001b[0m\u001b[37m\u001b[0m \u001b[1m0s\u001b[0m 19ms/step - loss: 200939651072.0000 - val_loss: 254750785536.0000\n",
      "Epoch 91/300\n",
      "\u001b[1m7/7\u001b[0m \u001b[32m━━━━━━━━━━━━━━━━━━━━\u001b[0m\u001b[37m\u001b[0m \u001b[1m0s\u001b[0m 20ms/step - loss: 195566419968.0000 - val_loss: 248483938304.0000\n",
      "Epoch 92/300\n",
      "\u001b[1m7/7\u001b[0m \u001b[32m━━━━━━━━━━━━━━━━━━━━\u001b[0m\u001b[37m\u001b[0m \u001b[1m0s\u001b[0m 17ms/step - loss: 190057660416.0000 - val_loss: 242294112256.0000\n",
      "Epoch 93/300\n",
      "\u001b[1m7/7\u001b[0m \u001b[32m━━━━━━━━━━━━━━━━━━━━\u001b[0m\u001b[37m\u001b[0m \u001b[1m0s\u001b[0m 16ms/step - loss: 184841584640.0000 - val_loss: 236039766016.0000\n",
      "Epoch 94/300\n",
      "\u001b[1m7/7\u001b[0m \u001b[32m━━━━━━━━━━━━━━━━━━━━\u001b[0m\u001b[37m\u001b[0m \u001b[1m0s\u001b[0m 16ms/step - loss: 178942623744.0000 - val_loss: 229542182912.0000\n",
      "Epoch 95/300\n",
      "\u001b[1m7/7\u001b[0m \u001b[32m━━━━━━━━━━━━━━━━━━━━\u001b[0m\u001b[37m\u001b[0m \u001b[1m0s\u001b[0m 17ms/step - loss: 173259849728.0000 - val_loss: 223211765760.0000\n",
      "Epoch 96/300\n",
      "\u001b[1m7/7\u001b[0m \u001b[32m━━━━━━━━━━━━━━━━━━━━\u001b[0m\u001b[37m\u001b[0m \u001b[1m0s\u001b[0m 16ms/step - loss: 168337653760.0000 - val_loss: 216737955840.0000\n",
      "Epoch 97/300\n",
      "\u001b[1m7/7\u001b[0m \u001b[32m━━━━━━━━━━━━━━━━━━━━\u001b[0m\u001b[37m\u001b[0m \u001b[1m0s\u001b[0m 16ms/step - loss: 162924249088.0000 - val_loss: 210370347008.0000\n",
      "Epoch 98/300\n",
      "\u001b[1m7/7\u001b[0m \u001b[32m━━━━━━━━━━━━━━━━━━━━\u001b[0m\u001b[37m\u001b[0m \u001b[1m0s\u001b[0m 16ms/step - loss: 157001269248.0000 - val_loss: 204158205952.0000\n",
      "Epoch 99/300\n",
      "\u001b[1m7/7\u001b[0m \u001b[32m━━━━━━━━━━━━━━━━━━━━\u001b[0m\u001b[37m\u001b[0m \u001b[1m0s\u001b[0m 17ms/step - loss: 151924408320.0000 - val_loss: 197988990976.0000\n",
      "Epoch 100/300\n",
      "\u001b[1m7/7\u001b[0m \u001b[32m━━━━━━━━━━━━━━━━━━━━\u001b[0m\u001b[37m\u001b[0m \u001b[1m0s\u001b[0m 16ms/step - loss: 146455134208.0000 - val_loss: 191872204800.0000\n",
      "Epoch 101/300\n",
      "\u001b[1m7/7\u001b[0m \u001b[32m━━━━━━━━━━━━━━━━━━━━\u001b[0m\u001b[37m\u001b[0m \u001b[1m0s\u001b[0m 16ms/step - loss: 141198426112.0000 - val_loss: 185816809472.0000\n",
      "Epoch 102/300\n",
      "\u001b[1m7/7\u001b[0m \u001b[32m━━━━━━━━━━━━━━━━━━━━\u001b[0m\u001b[37m\u001b[0m \u001b[1m0s\u001b[0m 16ms/step - loss: 136404295680.0000 - val_loss: 179794100224.0000\n",
      "Epoch 103/300\n",
      "\u001b[1m7/7\u001b[0m \u001b[32m━━━━━━━━━━━━━━━━━━━━\u001b[0m\u001b[37m\u001b[0m \u001b[1m0s\u001b[0m 17ms/step - loss: 132282474496.0000 - val_loss: 174140620800.0000\n",
      "Epoch 104/300\n",
      "\u001b[1m7/7\u001b[0m \u001b[32m━━━━━━━━━━━━━━━━━━━━\u001b[0m\u001b[37m\u001b[0m \u001b[1m0s\u001b[0m 17ms/step - loss: 127345803264.0000 - val_loss: 168442920960.0000\n",
      "Epoch 105/300\n",
      "\u001b[1m7/7\u001b[0m \u001b[32m━━━━━━━━━━━━━━━━━━━━\u001b[0m\u001b[37m\u001b[0m \u001b[1m0s\u001b[0m 17ms/step - loss: 121873408000.0000 - val_loss: 163081060352.0000\n",
      "Epoch 106/300\n",
      "\u001b[1m7/7\u001b[0m \u001b[32m━━━━━━━━━━━━━━━━━━━━\u001b[0m\u001b[37m\u001b[0m \u001b[1m0s\u001b[0m 17ms/step - loss: 118347194368.0000 - val_loss: 157779181568.0000\n",
      "Epoch 107/300\n",
      "\u001b[1m7/7\u001b[0m \u001b[32m━━━━━━━━━━━━━━━━━━━━\u001b[0m\u001b[37m\u001b[0m \u001b[1m0s\u001b[0m 19ms/step - loss: 113707843584.0000 - val_loss: 152593956864.0000\n",
      "Epoch 108/300\n",
      "\u001b[1m7/7\u001b[0m \u001b[32m━━━━━━━━━━━━━━━━━━━━\u001b[0m\u001b[37m\u001b[0m \u001b[1m0s\u001b[0m 16ms/step - loss: 109800144896.0000 - val_loss: 147634520064.0000\n",
      "Epoch 109/300\n",
      "\u001b[1m7/7\u001b[0m \u001b[32m━━━━━━━━━━━━━━━━━━━━\u001b[0m\u001b[37m\u001b[0m \u001b[1m0s\u001b[0m 16ms/step - loss: 106767204352.0000 - val_loss: 142903984128.0000\n",
      "Epoch 110/300\n",
      "\u001b[1m7/7\u001b[0m \u001b[32m━━━━━━━━━━━━━━━━━━━━\u001b[0m\u001b[37m\u001b[0m \u001b[1m0s\u001b[0m 16ms/step - loss: 101965365248.0000 - val_loss: 138630397952.0000\n",
      "Epoch 111/300\n",
      "\u001b[1m7/7\u001b[0m \u001b[32m━━━━━━━━━━━━━━━━━━━━\u001b[0m\u001b[37m\u001b[0m \u001b[1m0s\u001b[0m 15ms/step - loss: 101156208640.0000 - val_loss: 134569574400.0000\n",
      "Epoch 112/300\n",
      "\u001b[1m7/7\u001b[0m \u001b[32m━━━━━━━━━━━━━━━━━━━━\u001b[0m\u001b[37m\u001b[0m \u001b[1m0s\u001b[0m 16ms/step - loss: 97054343168.0000 - val_loss: 130819481600.0000\n",
      "Epoch 113/300\n",
      "\u001b[1m7/7\u001b[0m \u001b[32m━━━━━━━━━━━━━━━━━━━━\u001b[0m\u001b[37m\u001b[0m \u001b[1m0s\u001b[0m 16ms/step - loss: 93995884544.0000 - val_loss: 127196880896.0000\n",
      "Epoch 114/300\n",
      "\u001b[1m7/7\u001b[0m \u001b[32m━━━━━━━━━━━━━━━━━━━━\u001b[0m\u001b[37m\u001b[0m \u001b[1m0s\u001b[0m 17ms/step - loss: 91566219264.0000 - val_loss: 123903762432.0000\n",
      "Epoch 115/300\n",
      "\u001b[1m7/7\u001b[0m \u001b[32m━━━━━━━━━━━━━━━━━━━━\u001b[0m\u001b[37m\u001b[0m \u001b[1m0s\u001b[0m 16ms/step - loss: 88623046656.0000 - val_loss: 120873033728.0000\n",
      "Epoch 116/300\n",
      "\u001b[1m7/7\u001b[0m \u001b[32m━━━━━━━━━━━━━━━━━━━━\u001b[0m\u001b[37m\u001b[0m \u001b[1m0s\u001b[0m 17ms/step - loss: 87421026304.0000 - val_loss: 118164930560.0000\n",
      "Epoch 117/300\n",
      "\u001b[1m7/7\u001b[0m \u001b[32m━━━━━━━━━━━━━━━━━━━━\u001b[0m\u001b[37m\u001b[0m \u001b[1m0s\u001b[0m 16ms/step - loss: 85320941568.0000 - val_loss: 115386376192.0000\n",
      "Epoch 118/300\n",
      "\u001b[1m7/7\u001b[0m \u001b[32m━━━━━━━━━━━━━━━━━━━━\u001b[0m\u001b[37m\u001b[0m \u001b[1m0s\u001b[0m 18ms/step - loss: 84793229312.0000 - val_loss: 112972062720.0000\n",
      "Epoch 119/300\n",
      "\u001b[1m7/7\u001b[0m \u001b[32m━━━━━━━━━━━━━━━━━━━━\u001b[0m\u001b[37m\u001b[0m \u001b[1m0s\u001b[0m 16ms/step - loss: 82685083648.0000 - val_loss: 110884847616.0000\n",
      "Epoch 120/300\n",
      "\u001b[1m7/7\u001b[0m \u001b[32m━━━━━━━━━━━━━━━━━━━━\u001b[0m\u001b[37m\u001b[0m \u001b[1m0s\u001b[0m 16ms/step - loss: 81861525504.0000 - val_loss: 108978970624.0000\n",
      "Epoch 121/300\n",
      "\u001b[1m7/7\u001b[0m \u001b[32m━━━━━━━━━━━━━━━━━━━━\u001b[0m\u001b[37m\u001b[0m \u001b[1m0s\u001b[0m 16ms/step - loss: 79853543424.0000 - val_loss: 107064958976.0000\n",
      "Epoch 122/300\n",
      "\u001b[1m7/7\u001b[0m \u001b[32m━━━━━━━━━━━━━━━━━━━━\u001b[0m\u001b[37m\u001b[0m \u001b[1m0s\u001b[0m 16ms/step - loss: 78530076672.0000 - val_loss: 105466298368.0000\n",
      "Epoch 123/300\n",
      "\u001b[1m7/7\u001b[0m \u001b[32m━━━━━━━━━━━━━━━━━━━━\u001b[0m\u001b[37m\u001b[0m \u001b[1m0s\u001b[0m 20ms/step - loss: 79617089536.0000 - val_loss: 103966613504.0000\n",
      "Epoch 124/300\n",
      "\u001b[1m7/7\u001b[0m \u001b[32m━━━━━━━━━━━━━━━━━━━━\u001b[0m\u001b[37m\u001b[0m \u001b[1m0s\u001b[0m 16ms/step - loss: 77379067904.0000 - val_loss: 102440771584.0000\n",
      "Epoch 125/300\n",
      "\u001b[1m7/7\u001b[0m \u001b[32m━━━━━━━━━━━━━━━━━━━━\u001b[0m\u001b[37m\u001b[0m \u001b[1m0s\u001b[0m 16ms/step - loss: 77114335232.0000 - val_loss: 101223931904.0000\n",
      "Epoch 126/300\n",
      "\u001b[1m7/7\u001b[0m \u001b[32m━━━━━━━━━━━━━━━━━━━━\u001b[0m\u001b[37m\u001b[0m \u001b[1m0s\u001b[0m 16ms/step - loss: 76311420928.0000 - val_loss: 100172472320.0000\n",
      "Epoch 127/300\n",
      "\u001b[1m7/7\u001b[0m \u001b[32m━━━━━━━━━━━━━━━━━━━━\u001b[0m\u001b[37m\u001b[0m \u001b[1m0s\u001b[0m 16ms/step - loss: 75479203840.0000 - val_loss: 99284885504.0000\n",
      "Epoch 128/300\n",
      "\u001b[1m7/7\u001b[0m \u001b[32m━━━━━━━━━━━━━━━━━━━━\u001b[0m\u001b[37m\u001b[0m \u001b[1m0s\u001b[0m 18ms/step - loss: 74814357504.0000 - val_loss: 98453291008.0000\n",
      "Epoch 129/300\n",
      "\u001b[1m7/7\u001b[0m \u001b[32m━━━━━━━━━━━━━━━━━━━━\u001b[0m\u001b[37m\u001b[0m \u001b[1m0s\u001b[0m 18ms/step - loss: 74908434432.0000 - val_loss: 97595801600.0000\n",
      "Epoch 130/300\n",
      "\u001b[1m7/7\u001b[0m \u001b[32m━━━━━━━━━━━━━━━━━━━━\u001b[0m\u001b[37m\u001b[0m \u001b[1m0s\u001b[0m 16ms/step - loss: 75221737472.0000 - val_loss: 96859406336.0000\n",
      "Epoch 131/300\n",
      "\u001b[1m7/7\u001b[0m \u001b[32m━━━━━━━━━━━━━━━━━━━━\u001b[0m\u001b[37m\u001b[0m \u001b[1m0s\u001b[0m 16ms/step - loss: 75332354048.0000 - val_loss: 96174374912.0000\n",
      "Epoch 132/300\n",
      "\u001b[1m7/7\u001b[0m \u001b[32m━━━━━━━━━━━━━━━━━━━━\u001b[0m\u001b[37m\u001b[0m \u001b[1m0s\u001b[0m 17ms/step - loss: 74312802304.0000 - val_loss: 95723601920.0000\n",
      "Epoch 133/300\n",
      "\u001b[1m7/7\u001b[0m \u001b[32m━━━━━━━━━━━━━━━━━━━━\u001b[0m\u001b[37m\u001b[0m \u001b[1m0s\u001b[0m 16ms/step - loss: 72376123392.0000 - val_loss: 95168167936.0000\n",
      "Epoch 134/300\n",
      "\u001b[1m7/7\u001b[0m \u001b[32m━━━━━━━━━━━━━━━━━━━━\u001b[0m\u001b[37m\u001b[0m \u001b[1m0s\u001b[0m 16ms/step - loss: 73708150784.0000 - val_loss: 94566621184.0000\n",
      "Epoch 135/300\n",
      "\u001b[1m7/7\u001b[0m \u001b[32m━━━━━━━━━━━━━━━━━━━━\u001b[0m\u001b[37m\u001b[0m \u001b[1m0s\u001b[0m 16ms/step - loss: 73926254592.0000 - val_loss: 94163845120.0000\n",
      "Epoch 136/300\n",
      "\u001b[1m7/7\u001b[0m \u001b[32m━━━━━━━━━━━━━━━━━━━━\u001b[0m\u001b[37m\u001b[0m \u001b[1m0s\u001b[0m 16ms/step - loss: 73693143040.0000 - val_loss: 93777944576.0000\n",
      "Epoch 137/300\n",
      "\u001b[1m7/7\u001b[0m \u001b[32m━━━━━━━━━━━━━━━━━━━━\u001b[0m\u001b[37m\u001b[0m \u001b[1m0s\u001b[0m 19ms/step - loss: 74720378880.0000 - val_loss: 93491036160.0000\n",
      "Epoch 138/300\n",
      "\u001b[1m7/7\u001b[0m \u001b[32m━━━━━━━━━━━━━━━━━━━━\u001b[0m\u001b[37m\u001b[0m \u001b[1m0s\u001b[0m 16ms/step - loss: 72817721344.0000 - val_loss: 93153173504.0000\n",
      "Epoch 139/300\n",
      "\u001b[1m7/7\u001b[0m \u001b[32m━━━━━━━━━━━━━━━━━━━━\u001b[0m\u001b[37m\u001b[0m \u001b[1m0s\u001b[0m 16ms/step - loss: 72500871168.0000 - val_loss: 92814180352.0000\n",
      "Epoch 140/300\n",
      "\u001b[1m7/7\u001b[0m \u001b[32m━━━━━━━━━━━━━━━━━━━━\u001b[0m\u001b[37m\u001b[0m \u001b[1m0s\u001b[0m 18ms/step - loss: 72484331520.0000 - val_loss: 92524175360.0000\n",
      "Epoch 141/300\n",
      "\u001b[1m7/7\u001b[0m \u001b[32m━━━━━━━━━━━━━━━━━━━━\u001b[0m\u001b[37m\u001b[0m \u001b[1m0s\u001b[0m 18ms/step - loss: 71686635520.0000 - val_loss: 92237324288.0000\n",
      "Epoch 142/300\n",
      "\u001b[1m7/7\u001b[0m \u001b[32m━━━━━━━━━━━━━━━━━━━━\u001b[0m\u001b[37m\u001b[0m \u001b[1m0s\u001b[0m 16ms/step - loss: 73112526848.0000 - val_loss: 92005146624.0000\n",
      "Epoch 143/300\n",
      "\u001b[1m7/7\u001b[0m \u001b[32m━━━━━━━━━━━━━━━━━━━━\u001b[0m\u001b[37m\u001b[0m \u001b[1m0s\u001b[0m 16ms/step - loss: 71323631616.0000 - val_loss: 91764105216.0000\n",
      "Epoch 144/300\n",
      "\u001b[1m7/7\u001b[0m \u001b[32m━━━━━━━━━━━━━━━━━━━━\u001b[0m\u001b[37m\u001b[0m \u001b[1m0s\u001b[0m 16ms/step - loss: 72318795776.0000 - val_loss: 91557109760.0000\n",
      "Epoch 145/300\n",
      "\u001b[1m7/7\u001b[0m \u001b[32m━━━━━━━━━━━━━━━━━━━━\u001b[0m\u001b[37m\u001b[0m \u001b[1m0s\u001b[0m 16ms/step - loss: 72265711616.0000 - val_loss: 91287683072.0000\n",
      "Epoch 146/300\n",
      "\u001b[1m7/7\u001b[0m \u001b[32m━━━━━━━━━━━━━━━━━━━━\u001b[0m\u001b[37m\u001b[0m \u001b[1m0s\u001b[0m 16ms/step - loss: 72262508544.0000 - val_loss: 91088486400.0000\n",
      "Epoch 147/300\n",
      "\u001b[1m7/7\u001b[0m \u001b[32m━━━━━━━━━━━━━━━━━━━━\u001b[0m\u001b[37m\u001b[0m \u001b[1m0s\u001b[0m 16ms/step - loss: 72458076160.0000 - val_loss: 90899226624.0000\n",
      "Epoch 148/300\n",
      "\u001b[1m7/7\u001b[0m \u001b[32m━━━━━━━━━━━━━━━━━━━━\u001b[0m\u001b[37m\u001b[0m \u001b[1m0s\u001b[0m 16ms/step - loss: 72489172992.0000 - val_loss: 90805501952.0000\n",
      "Epoch 149/300\n",
      "\u001b[1m7/7\u001b[0m \u001b[32m━━━━━━━━━━━━━━━━━━━━\u001b[0m\u001b[37m\u001b[0m \u001b[1m0s\u001b[0m 16ms/step - loss: 72044765184.0000 - val_loss: 90664878080.0000\n",
      "Epoch 150/300\n",
      "\u001b[1m7/7\u001b[0m \u001b[32m━━━━━━━━━━━━━━━━━━━━\u001b[0m\u001b[37m\u001b[0m \u001b[1m0s\u001b[0m 16ms/step - loss: 71918575616.0000 - val_loss: 90602725376.0000\n",
      "Epoch 151/300\n",
      "\u001b[1m7/7\u001b[0m \u001b[32m━━━━━━━━━━━━━━━━━━━━\u001b[0m\u001b[37m\u001b[0m \u001b[1m0s\u001b[0m 16ms/step - loss: 72381341696.0000 - val_loss: 90358218752.0000\n",
      "Epoch 152/300\n",
      "\u001b[1m7/7\u001b[0m \u001b[32m━━━━━━━━━━━━━━━━━━━━\u001b[0m\u001b[37m\u001b[0m \u001b[1m0s\u001b[0m 22ms/step - loss: 71204864000.0000 - val_loss: 90253705216.0000\n",
      "Epoch 153/300\n",
      "\u001b[1m7/7\u001b[0m \u001b[32m━━━━━━━━━━━━━━━━━━━━\u001b[0m\u001b[37m\u001b[0m \u001b[1m0s\u001b[0m 18ms/step - loss: 70740090880.0000 - val_loss: 90139697152.0000\n",
      "Epoch 154/300\n",
      "\u001b[1m7/7\u001b[0m \u001b[32m━━━━━━━━━━━━━━━━━━━━\u001b[0m\u001b[37m\u001b[0m \u001b[1m0s\u001b[0m 16ms/step - loss: 71605485568.0000 - val_loss: 90054967296.0000\n",
      "Epoch 155/300\n",
      "\u001b[1m7/7\u001b[0m \u001b[32m━━━━━━━━━━━━━━━━━━━━\u001b[0m\u001b[37m\u001b[0m \u001b[1m0s\u001b[0m 16ms/step - loss: 71462936576.0000 - val_loss: 89896026112.0000\n",
      "Epoch 156/300\n",
      "\u001b[1m7/7\u001b[0m \u001b[32m━━━━━━━━━━━━━━━━━━━━\u001b[0m\u001b[37m\u001b[0m \u001b[1m0s\u001b[0m 16ms/step - loss: 71275757568.0000 - val_loss: 89844809728.0000\n",
      "Epoch 157/300\n",
      "\u001b[1m7/7\u001b[0m \u001b[32m━━━━━━━━━━━━━━━━━━━━\u001b[0m\u001b[37m\u001b[0m \u001b[1m0s\u001b[0m 15ms/step - loss: 70356402176.0000 - val_loss: 89786753024.0000\n",
      "Epoch 158/300\n",
      "\u001b[1m7/7\u001b[0m \u001b[32m━━━━━━━━━━━━━━━━━━━━\u001b[0m\u001b[37m\u001b[0m \u001b[1m0s\u001b[0m 16ms/step - loss: 71300595712.0000 - val_loss: 89660276736.0000\n",
      "Epoch 159/300\n",
      "\u001b[1m7/7\u001b[0m \u001b[32m━━━━━━━━━━━━━━━━━━━━\u001b[0m\u001b[37m\u001b[0m \u001b[1m0s\u001b[0m 16ms/step - loss: 71607681024.0000 - val_loss: 89509093376.0000\n",
      "Epoch 160/300\n",
      "\u001b[1m7/7\u001b[0m \u001b[32m━━━━━━━━━━━━━━━━━━━━\u001b[0m\u001b[37m\u001b[0m \u001b[1m0s\u001b[0m 16ms/step - loss: 71279255552.0000 - val_loss: 89342558208.0000\n",
      "Epoch 161/300\n",
      "\u001b[1m7/7\u001b[0m \u001b[32m━━━━━━━━━━━━━━━━━━━━\u001b[0m\u001b[37m\u001b[0m \u001b[1m0s\u001b[0m 16ms/step - loss: 70860783616.0000 - val_loss: 89231753216.0000\n",
      "Epoch 162/300\n",
      "\u001b[1m7/7\u001b[0m \u001b[32m━━━━━━━━━━━━━━━━━━━━\u001b[0m\u001b[37m\u001b[0m \u001b[1m0s\u001b[0m 16ms/step - loss: 70518177792.0000 - val_loss: 89110798336.0000\n",
      "Epoch 163/300\n",
      "\u001b[1m7/7\u001b[0m \u001b[32m━━━━━━━━━━━━━━━━━━━━\u001b[0m\u001b[37m\u001b[0m \u001b[1m0s\u001b[0m 17ms/step - loss: 69856616448.0000 - val_loss: 89058353152.0000\n",
      "Epoch 164/300\n",
      "\u001b[1m7/7\u001b[0m \u001b[32m━━━━━━━━━━━━━━━━━━━━\u001b[0m\u001b[37m\u001b[0m \u001b[1m0s\u001b[0m 18ms/step - loss: 71533027328.0000 - val_loss: 89017147392.0000\n",
      "Epoch 165/300\n",
      "\u001b[1m7/7\u001b[0m \u001b[32m━━━━━━━━━━━━━━━━━━━━\u001b[0m\u001b[37m\u001b[0m \u001b[1m0s\u001b[0m 18ms/step - loss: 70996885504.0000 - val_loss: 88923414528.0000\n",
      "Epoch 166/300\n",
      "\u001b[1m7/7\u001b[0m \u001b[32m━━━━━━━━━━━━━━━━━━━━\u001b[0m\u001b[37m\u001b[0m \u001b[1m0s\u001b[0m 20ms/step - loss: 71124746240.0000 - val_loss: 88765030400.0000\n",
      "Epoch 167/300\n",
      "\u001b[1m7/7\u001b[0m \u001b[32m━━━━━━━━━━━━━━━━━━━━\u001b[0m\u001b[37m\u001b[0m \u001b[1m0s\u001b[0m 16ms/step - loss: 70786719744.0000 - val_loss: 88596660224.0000\n",
      "Epoch 168/300\n",
      "\u001b[1m7/7\u001b[0m \u001b[32m━━━━━━━━━━━━━━━━━━━━\u001b[0m\u001b[37m\u001b[0m \u001b[1m0s\u001b[0m 16ms/step - loss: 69637783552.0000 - val_loss: 88537899008.0000\n",
      "Epoch 169/300\n",
      "\u001b[1m7/7\u001b[0m \u001b[32m━━━━━━━━━━━━━━━━━━━━\u001b[0m\u001b[37m\u001b[0m \u001b[1m0s\u001b[0m 16ms/step - loss: 70382608384.0000 - val_loss: 88457863168.0000\n",
      "Epoch 170/300\n",
      "\u001b[1m7/7\u001b[0m \u001b[32m━━━━━━━━━━━━━━━━━━━━\u001b[0m\u001b[37m\u001b[0m \u001b[1m0s\u001b[0m 14ms/step - loss: 70065250304.0000 - val_loss: 88452481024.0000\n",
      "Epoch 171/300\n",
      "\u001b[1m7/7\u001b[0m \u001b[32m━━━━━━━━━━━━━━━━━━━━\u001b[0m\u001b[37m\u001b[0m \u001b[1m0s\u001b[0m 16ms/step - loss: 70456041472.0000 - val_loss: 88411258880.0000\n",
      "Epoch 172/300\n",
      "\u001b[1m7/7\u001b[0m \u001b[32m━━━━━━━━━━━━━━━━━━━━\u001b[0m\u001b[37m\u001b[0m \u001b[1m0s\u001b[0m 16ms/step - loss: 69730263040.0000 - val_loss: 88371896320.0000\n",
      "Epoch 173/300\n",
      "\u001b[1m7/7\u001b[0m \u001b[32m━━━━━━━━━━━━━━━━━━━━\u001b[0m\u001b[37m\u001b[0m \u001b[1m0s\u001b[0m 16ms/step - loss: 70767697920.0000 - val_loss: 88344510464.0000\n",
      "Epoch 174/300\n",
      "\u001b[1m7/7\u001b[0m \u001b[32m━━━━━━━━━━━━━━━━━━━━\u001b[0m\u001b[37m\u001b[0m \u001b[1m0s\u001b[0m 16ms/step - loss: 70267199488.0000 - val_loss: 88287625216.0000\n",
      "Epoch 175/300\n",
      "\u001b[1m7/7\u001b[0m \u001b[32m━━━━━━━━━━━━━━━━━━━━\u001b[0m\u001b[37m\u001b[0m \u001b[1m0s\u001b[0m 17ms/step - loss: 70854369280.0000 - val_loss: 88263745536.0000\n",
      "Epoch 176/300\n",
      "\u001b[1m7/7\u001b[0m \u001b[32m━━━━━━━━━━━━━━━━━━━━\u001b[0m\u001b[37m\u001b[0m \u001b[1m0s\u001b[0m 17ms/step - loss: 70625263616.0000 - val_loss: 88120786944.0000\n",
      "Epoch 177/300\n",
      "\u001b[1m7/7\u001b[0m \u001b[32m━━━━━━━━━━━━━━━━━━━━\u001b[0m\u001b[37m\u001b[0m \u001b[1m0s\u001b[0m 16ms/step - loss: 70435758080.0000 - val_loss: 88064409600.0000\n",
      "Epoch 178/300\n",
      "\u001b[1m7/7\u001b[0m \u001b[32m━━━━━━━━━━━━━━━━━━━━\u001b[0m\u001b[37m\u001b[0m \u001b[1m0s\u001b[0m 16ms/step - loss: 69843197952.0000 - val_loss: 87984406528.0000\n",
      "Epoch 179/300\n",
      "\u001b[1m7/7\u001b[0m \u001b[32m━━━━━━━━━━━━━━━━━━━━\u001b[0m\u001b[37m\u001b[0m \u001b[1m0s\u001b[0m 20ms/step - loss: 69643632640.0000 - val_loss: 87930429440.0000\n",
      "Epoch 180/300\n",
      "\u001b[1m7/7\u001b[0m \u001b[32m━━━━━━━━━━━━━━━━━━━━\u001b[0m\u001b[37m\u001b[0m \u001b[1m0s\u001b[0m 16ms/step - loss: 69944745984.0000 - val_loss: 87765581824.0000\n",
      "Epoch 181/300\n",
      "\u001b[1m7/7\u001b[0m \u001b[32m━━━━━━━━━━━━━━━━━━━━\u001b[0m\u001b[37m\u001b[0m \u001b[1m0s\u001b[0m 16ms/step - loss: 69695414272.0000 - val_loss: 87682670592.0000\n",
      "Epoch 182/300\n",
      "\u001b[1m7/7\u001b[0m \u001b[32m━━━━━━━━━━━━━━━━━━━━\u001b[0m\u001b[37m\u001b[0m \u001b[1m0s\u001b[0m 16ms/step - loss: 68905426944.0000 - val_loss: 87501709312.0000\n",
      "Epoch 183/300\n",
      "\u001b[1m7/7\u001b[0m \u001b[32m━━━━━━━━━━━━━━━━━━━━\u001b[0m\u001b[37m\u001b[0m \u001b[1m0s\u001b[0m 16ms/step - loss: 69330321408.0000 - val_loss: 87493959680.0000\n",
      "Epoch 184/300\n",
      "\u001b[1m7/7\u001b[0m \u001b[32m━━━━━━━━━━━━━━━━━━━━\u001b[0m\u001b[37m\u001b[0m \u001b[1m0s\u001b[0m 16ms/step - loss: 69423235072.0000 - val_loss: 87375691776.0000\n",
      "Epoch 185/300\n",
      "\u001b[1m7/7\u001b[0m \u001b[32m━━━━━━━━━━━━━━━━━━━━\u001b[0m\u001b[37m\u001b[0m \u001b[1m0s\u001b[0m 17ms/step - loss: 69209571328.0000 - val_loss: 87332577280.0000\n",
      "Epoch 186/300\n",
      "\u001b[1m7/7\u001b[0m \u001b[32m━━━━━━━━━━━━━━━━━━━━\u001b[0m\u001b[37m\u001b[0m \u001b[1m0s\u001b[0m 17ms/step - loss: 69004173312.0000 - val_loss: 87114039296.0000\n",
      "Epoch 187/300\n",
      "\u001b[1m7/7\u001b[0m \u001b[32m━━━━━━━━━━━━━━━━━━━━\u001b[0m\u001b[37m\u001b[0m \u001b[1m0s\u001b[0m 17ms/step - loss: 68527419392.0000 - val_loss: 87016423424.0000\n",
      "Epoch 188/300\n",
      "\u001b[1m7/7\u001b[0m \u001b[32m━━━━━━━━━━━━━━━━━━━━\u001b[0m\u001b[37m\u001b[0m \u001b[1m0s\u001b[0m 14ms/step - loss: 69502754816.0000 - val_loss: 87063404544.0000\n",
      "Epoch 189/300\n",
      "\u001b[1m7/7\u001b[0m \u001b[32m━━━━━━━━━━━━━━━━━━━━\u001b[0m\u001b[37m\u001b[0m \u001b[1m0s\u001b[0m 12ms/step - loss: 69132222464.0000 - val_loss: 87080689664.0000\n",
      "Epoch 190/300\n",
      "\u001b[1m7/7\u001b[0m \u001b[32m━━━━━━━━━━━━━━━━━━━━\u001b[0m\u001b[37m\u001b[0m \u001b[1m0s\u001b[0m 13ms/step - loss: 69051727872.0000 - val_loss: 87088209920.0000\n",
      "Epoch 191/300\n",
      "\u001b[1m7/7\u001b[0m \u001b[32m━━━━━━━━━━━━━━━━━━━━\u001b[0m\u001b[37m\u001b[0m \u001b[1m0s\u001b[0m 16ms/step - loss: 68375044096.0000 - val_loss: 86958374912.0000\n",
      "Epoch 192/300\n",
      "\u001b[1m7/7\u001b[0m \u001b[32m━━━━━━━━━━━━━━━━━━━━\u001b[0m\u001b[37m\u001b[0m \u001b[1m0s\u001b[0m 22ms/step - loss: 69258510336.0000 - val_loss: 86871621632.0000\n",
      "Epoch 193/300\n",
      "\u001b[1m7/7\u001b[0m \u001b[32m━━━━━━━━━━━━━━━━━━━━\u001b[0m\u001b[37m\u001b[0m \u001b[1m0s\u001b[0m 16ms/step - loss: 69460033536.0000 - val_loss: 86773334016.0000\n",
      "Epoch 194/300\n",
      "\u001b[1m7/7\u001b[0m \u001b[32m━━━━━━━━━━━━━━━━━━━━\u001b[0m\u001b[37m\u001b[0m \u001b[1m0s\u001b[0m 16ms/step - loss: 69468332032.0000 - val_loss: 86679486464.0000\n",
      "Epoch 195/300\n",
      "\u001b[1m7/7\u001b[0m \u001b[32m━━━━━━━━━━━━━━━━━━━━\u001b[0m\u001b[37m\u001b[0m \u001b[1m0s\u001b[0m 16ms/step - loss: 68926644224.0000 - val_loss: 86663839744.0000\n",
      "Epoch 196/300\n",
      "\u001b[1m7/7\u001b[0m \u001b[32m━━━━━━━━━━━━━━━━━━━━\u001b[0m\u001b[37m\u001b[0m \u001b[1m0s\u001b[0m 16ms/step - loss: 68878909440.0000 - val_loss: 86592151552.0000\n",
      "Epoch 197/300\n",
      "\u001b[1m7/7\u001b[0m \u001b[32m━━━━━━━━━━━━━━━━━━━━\u001b[0m\u001b[37m\u001b[0m \u001b[1m0s\u001b[0m 16ms/step - loss: 68781260800.0000 - val_loss: 86538846208.0000\n",
      "Epoch 198/300\n",
      "\u001b[1m7/7\u001b[0m \u001b[32m━━━━━━━━━━━━━━━━━━━━\u001b[0m\u001b[37m\u001b[0m \u001b[1m0s\u001b[0m 16ms/step - loss: 68735516672.0000 - val_loss: 86495059968.0000\n",
      "Epoch 199/300\n",
      "\u001b[1m7/7\u001b[0m \u001b[32m━━━━━━━━━━━━━━━━━━━━\u001b[0m\u001b[37m\u001b[0m \u001b[1m0s\u001b[0m 16ms/step - loss: 68479713280.0000 - val_loss: 86436388864.0000\n",
      "Epoch 200/300\n",
      "\u001b[1m7/7\u001b[0m \u001b[32m━━━━━━━━━━━━━━━━━━━━\u001b[0m\u001b[37m\u001b[0m \u001b[1m0s\u001b[0m 17ms/step - loss: 68380606464.0000 - val_loss: 86366781440.0000\n",
      "Epoch 201/300\n",
      "\u001b[1m7/7\u001b[0m \u001b[32m━━━━━━━━━━━━━━━━━━━━\u001b[0m\u001b[37m\u001b[0m \u001b[1m0s\u001b[0m 16ms/step - loss: 68799258624.0000 - val_loss: 86318768128.0000\n",
      "Epoch 202/300\n",
      "\u001b[1m7/7\u001b[0m \u001b[32m━━━━━━━━━━━━━━━━━━━━\u001b[0m\u001b[37m\u001b[0m \u001b[1m0s\u001b[0m 16ms/step - loss: 69364899840.0000 - val_loss: 86220759040.0000\n",
      "Epoch 203/300\n",
      "\u001b[1m7/7\u001b[0m \u001b[32m━━━━━━━━━━━━━━━━━━━━\u001b[0m\u001b[37m\u001b[0m \u001b[1m0s\u001b[0m 16ms/step - loss: 68334731264.0000 - val_loss: 86163103744.0000\n",
      "Epoch 204/300\n",
      "\u001b[1m7/7\u001b[0m \u001b[32m━━━━━━━━━━━━━━━━━━━━\u001b[0m\u001b[37m\u001b[0m \u001b[1m0s\u001b[0m 17ms/step - loss: 68952760320.0000 - val_loss: 86119219200.0000\n",
      "Epoch 205/300\n",
      "\u001b[1m7/7\u001b[0m \u001b[32m━━━━━━━━━━━━━━━━━━━━\u001b[0m\u001b[37m\u001b[0m \u001b[1m0s\u001b[0m 17ms/step - loss: 68228100096.0000 - val_loss: 86144270336.0000\n",
      "Epoch 206/300\n",
      "\u001b[1m7/7\u001b[0m \u001b[32m━━━━━━━━━━━━━━━━━━━━\u001b[0m\u001b[37m\u001b[0m \u001b[1m0s\u001b[0m 16ms/step - loss: 68277538816.0000 - val_loss: 86073712640.0000\n",
      "Epoch 207/300\n",
      "\u001b[1m7/7\u001b[0m \u001b[32m━━━━━━━━━━━━━━━━━━━━\u001b[0m\u001b[37m\u001b[0m \u001b[1m0s\u001b[0m 16ms/step - loss: 68553854976.0000 - val_loss: 86031859712.0000\n",
      "Epoch 208/300\n",
      "\u001b[1m7/7\u001b[0m \u001b[32m━━━━━━━━━━━━━━━━━━━━\u001b[0m\u001b[37m\u001b[0m \u001b[1m0s\u001b[0m 17ms/step - loss: 68589813760.0000 - val_loss: 86001590272.0000\n",
      "Epoch 209/300\n",
      "\u001b[1m7/7\u001b[0m \u001b[32m━━━━━━━━━━━━━━━━━━━━\u001b[0m\u001b[37m\u001b[0m \u001b[1m0s\u001b[0m 16ms/step - loss: 69279170560.0000 - val_loss: 85906874368.0000\n",
      "Epoch 210/300\n",
      "\u001b[1m7/7\u001b[0m \u001b[32m━━━━━━━━━━━━━━━━━━━━\u001b[0m\u001b[37m\u001b[0m \u001b[1m0s\u001b[0m 12ms/step - loss: 68887912448.0000 - val_loss: 85939281920.0000\n",
      "Epoch 211/300\n",
      "\u001b[1m7/7\u001b[0m \u001b[32m━━━━━━━━━━━━━━━━━━━━\u001b[0m\u001b[37m\u001b[0m \u001b[1m0s\u001b[0m 12ms/step - loss: 68862189568.0000 - val_loss: 85933924352.0000\n",
      "Epoch 212/300\n",
      "\u001b[1m7/7\u001b[0m \u001b[32m━━━━━━━━━━━━━━━━━━━━\u001b[0m\u001b[37m\u001b[0m \u001b[1m0s\u001b[0m 16ms/step - loss: 68549808128.0000 - val_loss: 85895970816.0000\n",
      "Epoch 213/300\n",
      "\u001b[1m7/7\u001b[0m \u001b[32m━━━━━━━━━━━━━━━━━━━━\u001b[0m\u001b[37m\u001b[0m \u001b[1m0s\u001b[0m 17ms/step - loss: 67339669504.0000 - val_loss: 85829853184.0000\n",
      "Epoch 214/300\n",
      "\u001b[1m7/7\u001b[0m \u001b[32m━━━━━━━━━━━━━━━━━━━━\u001b[0m\u001b[37m\u001b[0m \u001b[1m0s\u001b[0m 16ms/step - loss: 68101791744.0000 - val_loss: 85734268928.0000\n",
      "Epoch 215/300\n",
      "\u001b[1m7/7\u001b[0m \u001b[32m━━━━━━━━━━━━━━━━━━━━\u001b[0m\u001b[37m\u001b[0m \u001b[1m0s\u001b[0m 16ms/step - loss: 68242239488.0000 - val_loss: 85687836672.0000\n",
      "Epoch 216/300\n",
      "\u001b[1m7/7\u001b[0m \u001b[32m━━━━━━━━━━━━━━━━━━━━\u001b[0m\u001b[37m\u001b[0m \u001b[1m0s\u001b[0m 16ms/step - loss: 68140658688.0000 - val_loss: 85678211072.0000\n",
      "Epoch 217/300\n",
      "\u001b[1m7/7\u001b[0m \u001b[32m━━━━━━━━━━━━━━━━━━━━\u001b[0m\u001b[37m\u001b[0m \u001b[1m0s\u001b[0m 17ms/step - loss: 68731863040.0000 - val_loss: 85667479552.0000\n",
      "Epoch 218/300\n",
      "\u001b[1m7/7\u001b[0m \u001b[32m━━━━━━━━━━━━━━━━━━━━\u001b[0m\u001b[37m\u001b[0m \u001b[1m0s\u001b[0m 20ms/step - loss: 67643838464.0000 - val_loss: 85632950272.0000\n",
      "Epoch 219/300\n",
      "\u001b[1m7/7\u001b[0m \u001b[32m━━━━━━━━━━━━━━━━━━━━\u001b[0m\u001b[37m\u001b[0m \u001b[1m0s\u001b[0m 24ms/step - loss: 67662495744.0000 - val_loss: 85503942656.0000\n",
      "Epoch 220/300\n",
      "\u001b[1m7/7\u001b[0m \u001b[32m━━━━━━━━━━━━━━━━━━━━\u001b[0m\u001b[37m\u001b[0m \u001b[1m0s\u001b[0m 17ms/step - loss: 67996823552.0000 - val_loss: 85478916096.0000\n",
      "Epoch 221/300\n",
      "\u001b[1m7/7\u001b[0m \u001b[32m━━━━━━━━━━━━━━━━━━━━\u001b[0m\u001b[37m\u001b[0m \u001b[1m0s\u001b[0m 17ms/step - loss: 68245299200.0000 - val_loss: 85407514624.0000\n",
      "Epoch 222/300\n",
      "\u001b[1m7/7\u001b[0m \u001b[32m━━━━━━━━━━━━━━━━━━━━\u001b[0m\u001b[37m\u001b[0m \u001b[1m0s\u001b[0m 17ms/step - loss: 67238174720.0000 - val_loss: 85377245184.0000\n",
      "Epoch 223/300\n",
      "\u001b[1m7/7\u001b[0m \u001b[32m━━━━━━━━━━━━━━━━━━━━\u001b[0m\u001b[37m\u001b[0m \u001b[1m0s\u001b[0m 17ms/step - loss: 67813384192.0000 - val_loss: 85290917888.0000\n",
      "Epoch 224/300\n",
      "\u001b[1m7/7\u001b[0m \u001b[32m━━━━━━━━━━━━━━━━━━━━\u001b[0m\u001b[37m\u001b[0m \u001b[1m0s\u001b[0m 21ms/step - loss: 67515953152.0000 - val_loss: 85260574720.0000\n",
      "Epoch 225/300\n",
      "\u001b[1m7/7\u001b[0m \u001b[32m━━━━━━━━━━━━━━━━━━━━\u001b[0m\u001b[37m\u001b[0m \u001b[1m0s\u001b[0m 16ms/step - loss: 67184885760.0000 - val_loss: 85126152192.0000\n",
      "Epoch 226/300\n",
      "\u001b[1m7/7\u001b[0m \u001b[32m━━━━━━━━━━━━━━━━━━━━\u001b[0m\u001b[37m\u001b[0m \u001b[1m0s\u001b[0m 12ms/step - loss: 68192108544.0000 - val_loss: 85128568832.0000\n",
      "Epoch 227/300\n",
      "\u001b[1m7/7\u001b[0m \u001b[32m━━━━━━━━━━━━━━━━━━━━\u001b[0m\u001b[37m\u001b[0m \u001b[1m0s\u001b[0m 17ms/step - loss: 67677011968.0000 - val_loss: 84994039808.0000\n",
      "Epoch 228/300\n",
      "\u001b[1m7/7\u001b[0m \u001b[32m━━━━━━━━━━━━━━━━━━━━\u001b[0m\u001b[37m\u001b[0m \u001b[1m0s\u001b[0m 12ms/step - loss: 68202520576.0000 - val_loss: 84999749632.0000\n",
      "Epoch 229/300\n",
      "\u001b[1m7/7\u001b[0m \u001b[32m━━━━━━━━━━━━━━━━━━━━\u001b[0m\u001b[37m\u001b[0m \u001b[1m0s\u001b[0m 11ms/step - loss: 67098877952.0000 - val_loss: 85045493760.0000\n",
      "Epoch 230/300\n",
      "\u001b[1m7/7\u001b[0m \u001b[32m━━━━━━━━━━━━━━━━━━━━\u001b[0m\u001b[37m\u001b[0m \u001b[1m0s\u001b[0m 15ms/step - loss: 68733820928.0000 - val_loss: 84919009280.0000\n",
      "Epoch 231/300\n",
      "\u001b[1m7/7\u001b[0m \u001b[32m━━━━━━━━━━━━━━━━━━━━\u001b[0m\u001b[37m\u001b[0m \u001b[1m0s\u001b[0m 16ms/step - loss: 67590569984.0000 - val_loss: 85016879104.0000\n",
      "Epoch 232/300\n",
      "\u001b[1m7/7\u001b[0m \u001b[32m━━━━━━━━━━━━━━━━━━━━\u001b[0m\u001b[37m\u001b[0m \u001b[1m0s\u001b[0m 12ms/step - loss: 68082827264.0000 - val_loss: 85013774336.0000\n",
      "Epoch 233/300\n",
      "\u001b[1m7/7\u001b[0m \u001b[32m━━━━━━━━━━━━━━━━━━━━\u001b[0m\u001b[37m\u001b[0m \u001b[1m0s\u001b[0m 12ms/step - loss: 67251589120.0000 - val_loss: 84951097344.0000\n",
      "Epoch 234/300\n",
      "\u001b[1m7/7\u001b[0m \u001b[32m━━━━━━━━━━━━━━━━━━━━\u001b[0m\u001b[37m\u001b[0m \u001b[1m0s\u001b[0m 16ms/step - loss: 68299804672.0000 - val_loss: 84913750016.0000\n",
      "Epoch 235/300\n",
      "\u001b[1m7/7\u001b[0m \u001b[32m━━━━━━━━━━━━━━━━━━━━\u001b[0m\u001b[37m\u001b[0m \u001b[1m0s\u001b[0m 16ms/step - loss: 67028926464.0000 - val_loss: 84786479104.0000\n",
      "Epoch 236/300\n",
      "\u001b[1m7/7\u001b[0m \u001b[32m━━━━━━━━━━━━━━━━━━━━\u001b[0m\u001b[37m\u001b[0m \u001b[1m0s\u001b[0m 16ms/step - loss: 67544440832.0000 - val_loss: 84717821952.0000\n",
      "Epoch 237/300\n",
      "\u001b[1m7/7\u001b[0m \u001b[32m━━━━━━━━━━━━━━━━━━━━\u001b[0m\u001b[37m\u001b[0m \u001b[1m0s\u001b[0m 16ms/step - loss: 67570937856.0000 - val_loss: 84714594304.0000\n",
      "Epoch 238/300\n",
      "\u001b[1m7/7\u001b[0m \u001b[32m━━━━━━━━━━━━━━━━━━━━\u001b[0m\u001b[37m\u001b[0m \u001b[1m0s\u001b[0m 16ms/step - loss: 67361476608.0000 - val_loss: 84678270976.0000\n",
      "Epoch 239/300\n",
      "\u001b[1m7/7\u001b[0m \u001b[32m━━━━━━━━━━━━━━━━━━━━\u001b[0m\u001b[37m\u001b[0m \u001b[1m0s\u001b[0m 16ms/step - loss: 67650457600.0000 - val_loss: 84608598016.0000\n",
      "Epoch 240/300\n",
      "\u001b[1m7/7\u001b[0m \u001b[32m━━━━━━━━━━━━━━━━━━━━\u001b[0m\u001b[37m\u001b[0m \u001b[1m0s\u001b[0m 16ms/step - loss: 66971586560.0000 - val_loss: 84463157248.0000\n",
      "Epoch 241/300\n",
      "\u001b[1m7/7\u001b[0m \u001b[32m━━━━━━━━━━━━━━━━━━━━\u001b[0m\u001b[37m\u001b[0m \u001b[1m0s\u001b[0m 11ms/step - loss: 67419422720.0000 - val_loss: 84467376128.0000\n",
      "Epoch 242/300\n",
      "\u001b[1m7/7\u001b[0m \u001b[32m━━━━━━━━━━━━━━━━━━━━\u001b[0m\u001b[37m\u001b[0m \u001b[1m0s\u001b[0m 17ms/step - loss: 67108835328.0000 - val_loss: 84365852672.0000\n",
      "Epoch 243/300\n",
      "\u001b[1m7/7\u001b[0m \u001b[32m━━━━━━━━━━━━━━━━━━━━\u001b[0m\u001b[37m\u001b[0m \u001b[1m0s\u001b[0m 16ms/step - loss: 66909552640.0000 - val_loss: 84293804032.0000\n",
      "Epoch 244/300\n",
      "\u001b[1m7/7\u001b[0m \u001b[32m━━━━━━━━━━━━━━━━━━━━\u001b[0m\u001b[37m\u001b[0m \u001b[1m0s\u001b[0m 16ms/step - loss: 67507748864.0000 - val_loss: 84393484288.0000\n",
      "Epoch 245/300\n",
      "\u001b[1m7/7\u001b[0m \u001b[32m━━━━━━━━━━━━━━━━━━━━\u001b[0m\u001b[37m\u001b[0m \u001b[1m0s\u001b[0m 11ms/step - loss: 67587604480.0000 - val_loss: 84341415936.0000\n",
      "Epoch 246/300\n",
      "\u001b[1m7/7\u001b[0m \u001b[32m━━━━━━━━━━━━━━━━━━━━\u001b[0m\u001b[37m\u001b[0m \u001b[1m0s\u001b[0m 12ms/step - loss: 67131551744.0000 - val_loss: 84330618880.0000\n",
      "Epoch 247/300\n",
      "\u001b[1m7/7\u001b[0m \u001b[32m━━━━━━━━━━━━━━━━━━━━\u001b[0m\u001b[37m\u001b[0m \u001b[1m0s\u001b[0m 18ms/step - loss: 67593265152.0000 - val_loss: 84225212416.0000\n",
      "Epoch 248/300\n",
      "\u001b[1m7/7\u001b[0m \u001b[32m━━━━━━━━━━━━━━━━━━━━\u001b[0m\u001b[37m\u001b[0m \u001b[1m0s\u001b[0m 14ms/step - loss: 67133874176.0000 - val_loss: 84238319616.0000\n",
      "Epoch 249/300\n",
      "\u001b[1m7/7\u001b[0m \u001b[32m━━━━━━━━━━━━━━━━━━━━\u001b[0m\u001b[37m\u001b[0m \u001b[1m0s\u001b[0m 16ms/step - loss: 67567349760.0000 - val_loss: 84202823680.0000\n",
      "Epoch 250/300\n",
      "\u001b[1m7/7\u001b[0m \u001b[32m━━━━━━━━━━━━━━━━━━━━\u001b[0m\u001b[37m\u001b[0m \u001b[1m0s\u001b[0m 18ms/step - loss: 67313037312.0000 - val_loss: 84031471616.0000\n",
      "Epoch 251/300\n",
      "\u001b[1m7/7\u001b[0m \u001b[32m━━━━━━━━━━━━━━━━━━━━\u001b[0m\u001b[37m\u001b[0m \u001b[1m0s\u001b[0m 12ms/step - loss: 67331395584.0000 - val_loss: 84037910528.0000\n",
      "Epoch 252/300\n",
      "\u001b[1m7/7\u001b[0m \u001b[32m━━━━━━━━━━━━━━━━━━━━\u001b[0m\u001b[37m\u001b[0m \u001b[1m0s\u001b[0m 16ms/step - loss: 67995557888.0000 - val_loss: 83861143552.0000\n",
      "Epoch 253/300\n",
      "\u001b[1m7/7\u001b[0m \u001b[32m━━━━━━━━━━━━━━━━━━━━\u001b[0m\u001b[37m\u001b[0m \u001b[1m0s\u001b[0m 16ms/step - loss: 66798190592.0000 - val_loss: 83858079744.0000\n",
      "Epoch 254/300\n",
      "\u001b[1m7/7\u001b[0m \u001b[32m━━━━━━━━━━━━━━━━━━━━\u001b[0m\u001b[37m\u001b[0m \u001b[1m0s\u001b[0m 16ms/step - loss: 66448355328.0000 - val_loss: 83833896960.0000\n",
      "Epoch 255/300\n",
      "\u001b[1m7/7\u001b[0m \u001b[32m━━━━━━━━━━━━━━━━━━━━\u001b[0m\u001b[37m\u001b[0m \u001b[1m0s\u001b[0m 16ms/step - loss: 66788605952.0000 - val_loss: 83824926720.0000\n",
      "Epoch 256/300\n",
      "\u001b[1m7/7\u001b[0m \u001b[32m━━━━━━━━━━━━━━━━━━━━\u001b[0m\u001b[37m\u001b[0m \u001b[1m0s\u001b[0m 16ms/step - loss: 66749050880.0000 - val_loss: 83731546112.0000\n",
      "Epoch 257/300\n",
      "\u001b[1m7/7\u001b[0m \u001b[32m━━━━━━━━━━━━━━━━━━━━\u001b[0m\u001b[37m\u001b[0m \u001b[1m0s\u001b[0m 17ms/step - loss: 66175971328.0000 - val_loss: 83824353280.0000\n",
      "Epoch 258/300\n",
      "\u001b[1m7/7\u001b[0m \u001b[32m━━━━━━━━━━━━━━━━━━━━\u001b[0m\u001b[37m\u001b[0m \u001b[1m0s\u001b[0m 11ms/step - loss: 66900111360.0000 - val_loss: 83899686912.0000\n",
      "Epoch 259/300\n",
      "\u001b[1m7/7\u001b[0m \u001b[32m━━━━━━━━━━━━━━━━━━━━\u001b[0m\u001b[37m\u001b[0m \u001b[1m0s\u001b[0m 13ms/step - loss: 66949320704.0000 - val_loss: 83820208128.0000\n",
      "Epoch 260/300\n",
      "\u001b[1m7/7\u001b[0m \u001b[32m━━━━━━━━━━━━━━━━━━━━\u001b[0m\u001b[37m\u001b[0m \u001b[1m0s\u001b[0m 12ms/step - loss: 65819111424.0000 - val_loss: 83869048832.0000\n",
      "Epoch 261/300\n",
      "\u001b[1m7/7\u001b[0m \u001b[32m━━━━━━━━━━━━━━━━━━━━\u001b[0m\u001b[37m\u001b[0m \u001b[1m0s\u001b[0m 12ms/step - loss: 67023839232.0000 - val_loss: 83828359168.0000\n",
      "Epoch 262/300\n",
      "\u001b[1m7/7\u001b[0m \u001b[32m━━━━━━━━━━━━━━━━━━━━\u001b[0m\u001b[37m\u001b[0m \u001b[1m0s\u001b[0m 12ms/step - loss: 66966441984.0000 - val_loss: 83856359424.0000\n",
      "Epoch 263/300\n",
      "\u001b[1m7/7\u001b[0m \u001b[32m━━━━━━━━━━━━━━━━━━━━\u001b[0m\u001b[37m\u001b[0m \u001b[1m0s\u001b[0m 11ms/step - loss: 66781663232.0000 - val_loss: 83757768704.0000\n",
      "Epoch 264/300\n",
      "\u001b[1m7/7\u001b[0m \u001b[32m━━━━━━━━━━━━━━━━━━━━\u001b[0m\u001b[37m\u001b[0m \u001b[1m0s\u001b[0m 16ms/step - loss: 66765660160.0000 - val_loss: 83636109312.0000\n",
      "Epoch 265/300\n",
      "\u001b[1m7/7\u001b[0m \u001b[32m━━━━━━━━━━━━━━━━━━━━\u001b[0m\u001b[37m\u001b[0m \u001b[1m0s\u001b[0m 16ms/step - loss: 66371207168.0000 - val_loss: 83611279360.0000\n",
      "Epoch 266/300\n",
      "\u001b[1m7/7\u001b[0m \u001b[32m━━━━━━━━━━━━━━━━━━━━\u001b[0m\u001b[37m\u001b[0m \u001b[1m0s\u001b[0m 17ms/step - loss: 66761961472.0000 - val_loss: 83564683264.0000\n",
      "Epoch 267/300\n",
      "\u001b[1m7/7\u001b[0m \u001b[32m━━━━━━━━━━━━━━━━━━━━\u001b[0m\u001b[37m\u001b[0m \u001b[1m0s\u001b[0m 16ms/step - loss: 66643415040.0000 - val_loss: 83559088128.0000\n",
      "Epoch 268/300\n",
      "\u001b[1m7/7\u001b[0m \u001b[32m━━━━━━━━━━━━━━━━━━━━\u001b[0m\u001b[37m\u001b[0m \u001b[1m0s\u001b[0m 16ms/step - loss: 66420563968.0000 - val_loss: 83440181248.0000\n",
      "Epoch 269/300\n",
      "\u001b[1m7/7\u001b[0m \u001b[32m━━━━━━━━━━━━━━━━━━━━\u001b[0m\u001b[37m\u001b[0m \u001b[1m0s\u001b[0m 20ms/step - loss: 66831384576.0000 - val_loss: 83382837248.0000\n",
      "Epoch 270/300\n",
      "\u001b[1m7/7\u001b[0m \u001b[32m━━━━━━━━━━━━━━━━━━━━\u001b[0m\u001b[37m\u001b[0m \u001b[1m0s\u001b[0m 13ms/step - loss: 66527174656.0000 - val_loss: 83402170368.0000\n",
      "Epoch 271/300\n",
      "\u001b[1m7/7\u001b[0m \u001b[32m━━━━━━━━━━━━━━━━━━━━\u001b[0m\u001b[37m\u001b[0m \u001b[1m0s\u001b[0m 12ms/step - loss: 66278391808.0000 - val_loss: 83435307008.0000\n",
      "Epoch 272/300\n",
      "\u001b[1m7/7\u001b[0m \u001b[32m━━━━━━━━━━━━━━━━━━━━\u001b[0m\u001b[37m\u001b[0m \u001b[1m0s\u001b[0m 12ms/step - loss: 67037810688.0000 - val_loss: 83432595456.0000\n",
      "Epoch 273/300\n",
      "\u001b[1m7/7\u001b[0m \u001b[32m━━━━━━━━━━━━━━━━━━━━\u001b[0m\u001b[37m\u001b[0m \u001b[1m0s\u001b[0m 12ms/step - loss: 66356875264.0000 - val_loss: 83390521344.0000\n",
      "Epoch 274/300\n",
      "\u001b[1m7/7\u001b[0m \u001b[32m━━━━━━━━━━━━━━━━━━━━\u001b[0m\u001b[37m\u001b[0m \u001b[1m0s\u001b[0m 16ms/step - loss: 66815414272.0000 - val_loss: 83263119360.0000\n",
      "Epoch 275/300\n",
      "\u001b[1m7/7\u001b[0m \u001b[32m━━━━━━━━━━━━━━━━━━━━\u001b[0m\u001b[37m\u001b[0m \u001b[1m0s\u001b[0m 16ms/step - loss: 66240389120.0000 - val_loss: 83193184256.0000\n",
      "Epoch 276/300\n",
      "\u001b[1m7/7\u001b[0m \u001b[32m━━━━━━━━━━━━━━━━━━━━\u001b[0m\u001b[37m\u001b[0m \u001b[1m0s\u001b[0m 16ms/step - loss: 66217132032.0000 - val_loss: 83130908672.0000\n",
      "Epoch 277/300\n",
      "\u001b[1m7/7\u001b[0m \u001b[32m━━━━━━━━━━━━━━━━━━━━\u001b[0m\u001b[37m\u001b[0m \u001b[1m0s\u001b[0m 11ms/step - loss: 67173347328.0000 - val_loss: 83268599808.0000\n",
      "Epoch 278/300\n",
      "\u001b[1m7/7\u001b[0m \u001b[32m━━━━━━━━━━━━━━━━━━━━\u001b[0m\u001b[37m\u001b[0m \u001b[1m0s\u001b[0m 11ms/step - loss: 65799962624.0000 - val_loss: 83216433152.0000\n",
      "Epoch 279/300\n",
      "\u001b[1m7/7\u001b[0m \u001b[32m━━━━━━━━━━━━━━━━━━━━\u001b[0m\u001b[37m\u001b[0m \u001b[1m0s\u001b[0m 12ms/step - loss: 66496045056.0000 - val_loss: 83167985664.0000\n",
      "Epoch 280/300\n",
      "\u001b[1m7/7\u001b[0m \u001b[32m━━━━━━━━━━━━━━━━━━━━\u001b[0m\u001b[37m\u001b[0m \u001b[1m0s\u001b[0m 13ms/step - loss: 65793855488.0000 - val_loss: 83165650944.0000\n",
      "Epoch 281/300\n",
      "\u001b[1m7/7\u001b[0m \u001b[32m━━━━━━━━━━━━━━━━━━━━\u001b[0m\u001b[37m\u001b[0m \u001b[1m0s\u001b[0m 14ms/step - loss: 66697412608.0000 - val_loss: 83213729792.0000\n",
      "Epoch 282/300\n",
      "\u001b[1m7/7\u001b[0m \u001b[32m━━━━━━━━━━━━━━━━━━━━\u001b[0m\u001b[37m\u001b[0m \u001b[1m0s\u001b[0m 12ms/step - loss: 66004836352.0000 - val_loss: 83196207104.0000\n",
      "Epoch 283/300\n",
      "\u001b[1m7/7\u001b[0m \u001b[32m━━━━━━━━━━━━━━━━━━━━\u001b[0m\u001b[37m\u001b[0m \u001b[1m0s\u001b[0m 11ms/step - loss: 66125352960.0000 - val_loss: 83220807680.0000\n",
      "Epoch 284/300\n",
      "\u001b[1m7/7\u001b[0m \u001b[32m━━━━━━━━━━━━━━━━━━━━\u001b[0m\u001b[37m\u001b[0m \u001b[1m0s\u001b[0m 12ms/step - loss: 66075586560.0000 - val_loss: 83214516224.0000\n",
      "Epoch 285/300\n",
      "\u001b[1m7/7\u001b[0m \u001b[32m━━━━━━━━━━━━━━━━━━━━\u001b[0m\u001b[37m\u001b[0m \u001b[1m0s\u001b[0m 12ms/step - loss: 66076622848.0000 - val_loss: 83163381760.0000\n",
      "Epoch 286/300\n",
      "\u001b[1m7/7\u001b[0m \u001b[32m━━━━━━━━━━━━━━━━━━━━\u001b[0m\u001b[37m\u001b[0m \u001b[1m0s\u001b[0m 12ms/step - loss: 66361249792.0000 - val_loss: 83151593472.0000\n",
      "Epoch 287/300\n",
      "\u001b[1m7/7\u001b[0m \u001b[32m━━━━━━━━━━━━━━━━━━━━\u001b[0m\u001b[37m\u001b[0m \u001b[1m0s\u001b[0m 11ms/step - loss: 65749184512.0000 - val_loss: 83186401280.0000\n",
      "Epoch 288/300\n",
      "\u001b[1m7/7\u001b[0m \u001b[32m━━━━━━━━━━━━━━━━━━━━\u001b[0m\u001b[37m\u001b[0m \u001b[1m0s\u001b[0m 14ms/step - loss: 66091671552.0000 - val_loss: 83219349504.0000\n",
      "Epoch 289/300\n",
      "\u001b[1m7/7\u001b[0m \u001b[32m━━━━━━━━━━━━━━━━━━━━\u001b[0m\u001b[37m\u001b[0m \u001b[1m0s\u001b[0m 12ms/step - loss: 66165268480.0000 - val_loss: 83167879168.0000\n",
      "Epoch 290/300\n",
      "\u001b[1m7/7\u001b[0m \u001b[32m━━━━━━━━━━━━━━━━━━━━\u001b[0m\u001b[37m\u001b[0m \u001b[1m0s\u001b[0m 11ms/step - loss: 66222161920.0000 - val_loss: 83172179968.0000\n",
      "Epoch 291/300\n",
      "\u001b[1m7/7\u001b[0m \u001b[32m━━━━━━━━━━━━━━━━━━━━\u001b[0m\u001b[37m\u001b[0m \u001b[1m0s\u001b[0m 16ms/step - loss: 65877057536.0000 - val_loss: 83093667840.0000\n",
      "Epoch 292/300\n",
      "\u001b[1m7/7\u001b[0m \u001b[32m━━━━━━━━━━━━━━━━━━━━\u001b[0m\u001b[37m\u001b[0m \u001b[1m0s\u001b[0m 17ms/step - loss: 66128973824.0000 - val_loss: 83022553088.0000\n",
      "Epoch 293/300\n",
      "\u001b[1m7/7\u001b[0m \u001b[32m━━━━━━━━━━━━━━━━━━━━\u001b[0m\u001b[37m\u001b[0m \u001b[1m0s\u001b[0m 20ms/step - loss: 65515376640.0000 - val_loss: 83006095360.0000\n",
      "Epoch 294/300\n",
      "\u001b[1m7/7\u001b[0m \u001b[32m━━━━━━━━━━━━━━━━━━━━\u001b[0m\u001b[37m\u001b[0m \u001b[1m0s\u001b[0m 12ms/step - loss: 66378858496.0000 - val_loss: 83025969152.0000\n",
      "Epoch 295/300\n",
      "\u001b[1m7/7\u001b[0m \u001b[32m━━━━━━━━━━━━━━━━━━━━\u001b[0m\u001b[37m\u001b[0m \u001b[1m0s\u001b[0m 12ms/step - loss: 66590662656.0000 - val_loss: 83058343936.0000\n",
      "Epoch 296/300\n",
      "\u001b[1m7/7\u001b[0m \u001b[32m━━━━━━━━━━━━━━━━━━━━\u001b[0m\u001b[37m\u001b[0m \u001b[1m0s\u001b[0m 16ms/step - loss: 65826873344.0000 - val_loss: 82902081536.0000\n",
      "Epoch 297/300\n",
      "\u001b[1m7/7\u001b[0m \u001b[32m━━━━━━━━━━━━━━━━━━━━\u001b[0m\u001b[37m\u001b[0m \u001b[1m0s\u001b[0m 16ms/step - loss: 65661198336.0000 - val_loss: 82805465088.0000\n",
      "Epoch 298/300\n",
      "\u001b[1m7/7\u001b[0m \u001b[32m━━━━━━━━━━━━━━━━━━━━\u001b[0m\u001b[37m\u001b[0m \u001b[1m0s\u001b[0m 16ms/step - loss: 65622122496.0000 - val_loss: 82721333248.0000\n",
      "Epoch 299/300\n",
      "\u001b[1m7/7\u001b[0m \u001b[32m━━━━━━━━━━━━━━━━━━━━\u001b[0m\u001b[37m\u001b[0m \u001b[1m0s\u001b[0m 16ms/step - loss: 66352353280.0000 - val_loss: 82642616320.0000\n",
      "Epoch 300/300\n",
      "\u001b[1m7/7\u001b[0m \u001b[32m━━━━━━━━━━━━━━━━━━━━\u001b[0m\u001b[37m\u001b[0m \u001b[1m0s\u001b[0m 12ms/step - loss: 66118008832.0000 - val_loss: 82700746752.0000\n"
     ]
    }
   ],
   "source": [
    "from tensorflow.keras.callbacks import EarlyStopping\n",
    "\n",
    "early_stop = EarlyStopping(\n",
    "    monitor=\"val_loss\",  \n",
    "    patience=20,         \n",
    "    restore_best_weights=True\n",
    "\n",
    ")\n",
    "\n",
    "mc = ModelCheckpoint(\n",
    "    'best_model_small_dataset-regression.keras',\n",
    "    monitor='val_loss',\n",
    "    mode='min',\n",
    "    save_best_only=True\n",
    ")\n",
    "\n",
    "callback_list = [early_stop, mc]\n",
    "\n",
    "history = training_model_11.fit(\n",
    "    x=X_train,\n",
    "    y=y_train,\n",
    "    epochs=300,\n",
    "    validation_data=(X_val, y_val),\n",
    "    callbacks=callback_list,\n",
    "    verbose=1\n",
    ")\n"
   ]
  },
  {
   "cell_type": "markdown",
   "id": "f8fb6f67",
   "metadata": {},
   "source": [
    "#### Visualisation of the results"
   ]
  },
  {
   "cell_type": "code",
   "execution_count": 26,
   "id": "b8684f87",
   "metadata": {},
   "outputs": [
    {
     "data": {
      "image/png": "[encoded data removed]",
      "text/plain": [
       "<Figure size 800x500 with 1 Axes>"
      ]
     },
     "metadata": {},
     "output_type": "display_data"
    }
   ],
   "source": [
    "loss_df = pd.DataFrame(training_model_11.history.history)\n",
    "loss_df.plot(figsize=(8,5))\n",
    "plt.title(\"Training vs Validation Loss\")\n",
    "plt.xlabel(\"Epochs\")\n",
    "plt.ylabel(\"MSE Loss\")\n",
    "plt.grid(True)\n",
    "plt.show()\n"
   ]
  },
  {
   "cell_type": "markdown",
   "id": "6e57187c",
   "metadata": {},
   "source": [
    "The graph shows that both training and validation loss decrease steadily, meaning the model is learning well. Around 125 epochs, the losses become stable, which suggests the model has reached a good point without overfitting."
   ]
  },
  {
   "cell_type": "markdown",
   "id": "16f224b4",
   "metadata": {},
   "source": [
    "#### Reload the best version of the model form history\n"
   ]
  },
  {
   "cell_type": "code",
   "execution_count": 27,
   "id": "415ae46e",
   "metadata": {},
   "outputs": [],
   "source": [
    "from keras.models import load_model\n",
    "best_trained_model = load_model(\"best_model_small_dataset-regression.keras\")"
   ]
  },
  {
   "cell_type": "markdown",
   "id": "5ed31144",
   "metadata": {},
   "source": [
    "#### Data evaluation"
   ]
  },
  {
   "cell_type": "code",
   "execution_count": 28,
   "id": "65d2881a",
   "metadata": {},
   "outputs": [
    {
     "name": "stdout",
     "output_type": "stream",
     "text": [
      "Test data evaluation\n",
      "65324007424.0\n",
      "\n",
      "Train data evaluation:\n",
      "65877098496.0\n"
     ]
    }
   ],
   "source": [
    "print(\"Test data evaluation\")\n",
    "print(best_trained_model.evaluate(X_test, y_test, verbose=0))\n",
    "print(\"\\nTrain data evaluation:\")\n",
    "print(best_trained_model.evaluate(X_train, y_train, verbose=0))"
   ]
  },
  {
   "cell_type": "markdown",
   "id": "6a01a2bc",
   "metadata": {},
   "source": [
    "The evaluation shows that the error for test and train data is very large, meaning the model is not predicting prices accurately. This suggests that either the dataset is very complex pr the dataset is too small to use or the model still needs improvements."
   ]
  },
  {
   "cell_type": "markdown",
   "id": "9cb22e1b",
   "metadata": {},
   "source": [
    "#### Prediction of the data"
   ]
  },
  {
   "cell_type": "code",
   "execution_count": 29,
   "id": "899f7427",
   "metadata": {},
   "outputs": [
    {
     "name": "stdout",
     "output_type": "stream",
     "text": [
      "\u001b[1m2/2\u001b[0m \u001b[32m━━━━━━━━━━━━━━━━━━━━\u001b[0m\u001b[37m\u001b[0m \u001b[1m0s\u001b[0m 80ms/step\n"
     ]
    },
    {
     "data": {
      "application/vnd.microsoft.datawrangler.viewer.v0+json": {
       "columns": [
        {
         "name": "index",
         "rawType": "int64",
         "type": "integer"
        },
        {
         "name": "Test True Y",
         "rawType": "int64",
         "type": "integer"
        },
        {
         "name": "Model Predictions",
         "rawType": "float32",
         "type": "float"
        }
       ],
       "ref": "54d7cea3-2c09-4161-87f1-667884edf515",
       "rows": [
        [
         "0",
         "517113",
         "466200.25"
        ],
        [
         "1",
         "305041",
         "545661.25"
        ],
        [
         "2",
         "427069",
         "564414.3"
        ],
        [
         "3",
         "227948",
         "515741.44"
        ],
        [
         "4",
         "122671",
         "576627.94"
        ],
        [
         "5",
         "922352",
         "516552.9"
        ],
        [
         "6",
         "979989",
         "441753.66"
        ],
        [
         "7",
         "231932",
         "482404.47"
        ],
        [
         "8",
         "831912",
         "516857.34"
        ],
        [
         "9",
         "659042",
         "496284.47"
        ],
        [
         "10",
         "850216",
         "524006.1"
        ],
        [
         "11",
         "264899",
         "414766.16"
        ],
        [
         "12",
         "283734",
         "522582.78"
        ],
        [
         "13",
         "728776",
         "458402.25"
        ],
        [
         "14",
         "635822",
         "485649.84"
        ],
        [
         "15",
         "373109",
         "451873.94"
        ],
        [
         "16",
         "339629",
         "534006.6"
        ],
        [
         "17",
         "455528",
         "555849.4"
        ],
        [
         "18",
         "710490",
         "550522.06"
        ],
        [
         "19",
         "771155",
         "525795.56"
        ],
        [
         "20",
         "335167",
         "479509.84"
        ],
        [
         "21",
         "308261",
         "494795.72"
        ],
        [
         "22",
         "865313",
         "530006.94"
        ],
        [
         "23",
         "402918",
         "421899.4"
        ],
        [
         "24",
         "501896",
         "471827.94"
        ],
        [
         "25",
         "788519",
         "498512.88"
        ],
        [
         "26",
         "471369",
         "549427.25"
        ],
        [
         "27",
         "335796",
         "564914.4"
        ],
        [
         "28",
         "587879",
         "473472.5"
        ],
        [
         "29",
         "600186",
         "538220.4"
        ],
        [
         "30",
         "745914",
         "598922.8"
        ],
        [
         "31",
         "384806",
         "593584.56"
        ],
        [
         "32",
         "877089",
         "508912.28"
        ],
        [
         "33",
         "824839",
         "489947.5"
        ],
        [
         "34",
         "913168",
         "567397.9"
        ],
        [
         "35",
         "819094",
         "532007.75"
        ],
        [
         "36",
         "559773",
         "483183.4"
        ],
        [
         "37",
         "731347",
         "540971.94"
        ],
        [
         "38",
         "997421",
         "572602.56"
        ],
        [
         "39",
         "124538",
         "540691.94"
        ],
        [
         "40",
         "441097",
         "511699.38"
        ],
        [
         "41",
         "647707",
         "531480.9"
        ],
        [
         "42",
         "417824",
         "547306.6"
        ],
        [
         "43",
         "164044",
         "505342.34"
        ],
        [
         "44",
         "792517",
         "452337.66"
        ]
       ],
       "shape": {
        "columns": 2,
        "rows": 45
       }
      },
      "text/html": [
       "<div>\n",
       "<style scoped>\n",
       "    .dataframe tbody tr th:only-of-type {\n",
       "        vertical-align: middle;\n",
       "    }\n",
       "\n",
       "    .dataframe tbody tr th {\n",
       "        vertical-align: top;\n",
       "    }\n",
       "\n",
       "    .dataframe thead th {\n",
       "        text-align: right;\n",
       "    }\n",
       "</style>\n",
       "<table border=\"1\" class=\"dataframe\">\n",
       "  <thead>\n",
       "    <tr style=\"text-align: right;\">\n",
       "      <th></th>\n",
       "      <th>Test True Y</th>\n",
       "      <th>Model Predictions</th>\n",
       "    </tr>\n",
       "  </thead>\n",
       "  <tbody>\n",
       "    <tr>\n",
       "      <th>0</th>\n",
       "      <td>517113</td>\n",
       "      <td>466200.25000</td>\n",
       "    </tr>\n",
       "    <tr>\n",
       "      <th>1</th>\n",
       "      <td>305041</td>\n",
       "      <td>545661.25000</td>\n",
       "    </tr>\n",
       "    <tr>\n",
       "      <th>2</th>\n",
       "      <td>427069</td>\n",
       "      <td>564414.31250</td>\n",
       "    </tr>\n",
       "    <tr>\n",
       "      <th>3</th>\n",
       "      <td>227948</td>\n",
       "      <td>515741.43750</td>\n",
       "    </tr>\n",
       "    <tr>\n",
       "      <th>4</th>\n",
       "      <td>122671</td>\n",
       "      <td>576627.93750</td>\n",
       "    </tr>\n",
       "    <tr>\n",
       "      <th>5</th>\n",
       "      <td>922352</td>\n",
       "      <td>516552.90625</td>\n",
       "    </tr>\n",
       "    <tr>\n",
       "      <th>6</th>\n",
       "      <td>979989</td>\n",
       "      <td>441753.65625</td>\n",
       "    </tr>\n",
       "    <tr>\n",
       "      <th>7</th>\n",
       "      <td>231932</td>\n",
       "      <td>482404.46875</td>\n",
       "    </tr>\n",
       "    <tr>\n",
       "      <th>8</th>\n",
       "      <td>831912</td>\n",
       "      <td>516857.34375</td>\n",
       "    </tr>\n",
       "    <tr>\n",
       "      <th>9</th>\n",
       "      <td>659042</td>\n",
       "      <td>496284.46875</td>\n",
       "    </tr>\n",
       "    <tr>\n",
       "      <th>10</th>\n",
       "      <td>850216</td>\n",
       "      <td>524006.09375</td>\n",
       "    </tr>\n",
       "    <tr>\n",
       "      <th>11</th>\n",
       "      <td>264899</td>\n",
       "      <td>414766.15625</td>\n",
       "    </tr>\n",
       "    <tr>\n",
       "      <th>12</th>\n",
       "      <td>283734</td>\n",
       "      <td>522582.78125</td>\n",
       "    </tr>\n",
       "    <tr>\n",
       "      <th>13</th>\n",
       "      <td>728776</td>\n",
       "      <td>458402.25000</td>\n",
       "    </tr>\n",
       "    <tr>\n",
       "      <th>14</th>\n",
       "      <td>635822</td>\n",
       "      <td>485649.84375</td>\n",
       "    </tr>\n",
       "    <tr>\n",
       "      <th>15</th>\n",
       "      <td>373109</td>\n",
       "      <td>451873.93750</td>\n",
       "    </tr>\n",
       "    <tr>\n",
       "      <th>16</th>\n",
       "      <td>339629</td>\n",
       "      <td>534006.62500</td>\n",
       "    </tr>\n",
       "    <tr>\n",
       "      <th>17</th>\n",
       "      <td>455528</td>\n",
       "      <td>555849.37500</td>\n",
       "    </tr>\n",
       "    <tr>\n",
       "      <th>18</th>\n",
       "      <td>710490</td>\n",
       "      <td>550522.06250</td>\n",
       "    </tr>\n",
       "    <tr>\n",
       "      <th>19</th>\n",
       "      <td>771155</td>\n",
       "      <td>525795.56250</td>\n",
       "    </tr>\n",
       "    <tr>\n",
       "      <th>20</th>\n",
       "      <td>335167</td>\n",
       "      <td>479509.84375</td>\n",
       "    </tr>\n",
       "    <tr>\n",
       "      <th>21</th>\n",
       "      <td>308261</td>\n",
       "      <td>494795.71875</td>\n",
       "    </tr>\n",
       "    <tr>\n",
       "      <th>22</th>\n",
       "      <td>865313</td>\n",
       "      <td>530006.93750</td>\n",
       "    </tr>\n",
       "    <tr>\n",
       "      <th>23</th>\n",
       "      <td>402918</td>\n",
       "      <td>421899.40625</td>\n",
       "    </tr>\n",
       "    <tr>\n",
       "      <th>24</th>\n",
       "      <td>501896</td>\n",
       "      <td>471827.93750</td>\n",
       "    </tr>\n",
       "    <tr>\n",
       "      <th>25</th>\n",
       "      <td>788519</td>\n",
       "      <td>498512.87500</td>\n",
       "    </tr>\n",
       "    <tr>\n",
       "      <th>26</th>\n",
       "      <td>471369</td>\n",
       "      <td>549427.25000</td>\n",
       "    </tr>\n",
       "    <tr>\n",
       "      <th>27</th>\n",
       "      <td>335796</td>\n",
       "      <td>564914.37500</td>\n",
       "    </tr>\n",
       "    <tr>\n",
       "      <th>28</th>\n",
       "      <td>587879</td>\n",
       "      <td>473472.50000</td>\n",
       "    </tr>\n",
       "    <tr>\n",
       "      <th>29</th>\n",
       "      <td>600186</td>\n",
       "      <td>538220.37500</td>\n",
       "    </tr>\n",
       "    <tr>\n",
       "      <th>30</th>\n",
       "      <td>745914</td>\n",
       "      <td>598922.81250</td>\n",
       "    </tr>\n",
       "    <tr>\n",
       "      <th>31</th>\n",
       "      <td>384806</td>\n",
       "      <td>593584.56250</td>\n",
       "    </tr>\n",
       "    <tr>\n",
       "      <th>32</th>\n",
       "      <td>877089</td>\n",
       "      <td>508912.28125</td>\n",
       "    </tr>\n",
       "    <tr>\n",
       "      <th>33</th>\n",
       "      <td>824839</td>\n",
       "      <td>489947.50000</td>\n",
       "    </tr>\n",
       "    <tr>\n",
       "      <th>34</th>\n",
       "      <td>913168</td>\n",
       "      <td>567397.87500</td>\n",
       "    </tr>\n",
       "    <tr>\n",
       "      <th>35</th>\n",
       "      <td>819094</td>\n",
       "      <td>532007.75000</td>\n",
       "    </tr>\n",
       "    <tr>\n",
       "      <th>36</th>\n",
       "      <td>559773</td>\n",
       "      <td>483183.40625</td>\n",
       "    </tr>\n",
       "    <tr>\n",
       "      <th>37</th>\n",
       "      <td>731347</td>\n",
       "      <td>540971.93750</td>\n",
       "    </tr>\n",
       "    <tr>\n",
       "      <th>38</th>\n",
       "      <td>997421</td>\n",
       "      <td>572602.56250</td>\n",
       "    </tr>\n",
       "    <tr>\n",
       "      <th>39</th>\n",
       "      <td>124538</td>\n",
       "      <td>540691.93750</td>\n",
       "    </tr>\n",
       "    <tr>\n",
       "      <th>40</th>\n",
       "      <td>441097</td>\n",
       "      <td>511699.37500</td>\n",
       "    </tr>\n",
       "    <tr>\n",
       "      <th>41</th>\n",
       "      <td>647707</td>\n",
       "      <td>531480.87500</td>\n",
       "    </tr>\n",
       "    <tr>\n",
       "      <th>42</th>\n",
       "      <td>417824</td>\n",
       "      <td>547306.62500</td>\n",
       "    </tr>\n",
       "    <tr>\n",
       "      <th>43</th>\n",
       "      <td>164044</td>\n",
       "      <td>505342.34375</td>\n",
       "    </tr>\n",
       "    <tr>\n",
       "      <th>44</th>\n",
       "      <td>792517</td>\n",
       "      <td>452337.65625</td>\n",
       "    </tr>\n",
       "  </tbody>\n",
       "</table>\n",
       "</div>"
      ],
      "text/plain": [
       "    Test True Y  Model Predictions\n",
       "0        517113       466200.25000\n",
       "1        305041       545661.25000\n",
       "2        427069       564414.31250\n",
       "3        227948       515741.43750\n",
       "4        122671       576627.93750\n",
       "5        922352       516552.90625\n",
       "6        979989       441753.65625\n",
       "7        231932       482404.46875\n",
       "8        831912       516857.34375\n",
       "9        659042       496284.46875\n",
       "10       850216       524006.09375\n",
       "11       264899       414766.15625\n",
       "12       283734       522582.78125\n",
       "13       728776       458402.25000\n",
       "14       635822       485649.84375\n",
       "15       373109       451873.93750\n",
       "16       339629       534006.62500\n",
       "17       455528       555849.37500\n",
       "18       710490       550522.06250\n",
       "19       771155       525795.56250\n",
       "20       335167       479509.84375\n",
       "21       308261       494795.71875\n",
       "22       865313       530006.93750\n",
       "23       402918       421899.40625\n",
       "24       501896       471827.93750\n",
       "25       788519       498512.87500\n",
       "26       471369       549427.25000\n",
       "27       335796       564914.37500\n",
       "28       587879       473472.50000\n",
       "29       600186       538220.37500\n",
       "30       745914       598922.81250\n",
       "31       384806       593584.56250\n",
       "32       877089       508912.28125\n",
       "33       824839       489947.50000\n",
       "34       913168       567397.87500\n",
       "35       819094       532007.75000\n",
       "36       559773       483183.40625\n",
       "37       731347       540971.93750\n",
       "38       997421       572602.56250\n",
       "39       124538       540691.93750\n",
       "40       441097       511699.37500\n",
       "41       647707       531480.87500\n",
       "42       417824       547306.62500\n",
       "43       164044       505342.34375\n",
       "44       792517       452337.65625"
      ]
     },
     "execution_count": 29,
     "metadata": {},
     "output_type": "execute_result"
    }
   ],
   "source": [
    "import seaborn as sns\n",
    "\n",
    "test_predictions = best_trained_model.predict(X_test)\n",
    "test_predictions = pd.Series(test_predictions.reshape(len(y_test),))\n",
    "\n",
    "pred_df = pd.DataFrame(pd.DataFrame(np.asarray(y_test), columns=[\"Test True Y\"]))\n",
    "pred_df = pd.concat([pred_df, test_predictions], axis = 1)\n",
    "pred_df.columns = [\"Test True Y\", \"Model Predictions\"]\n",
    "\n",
    "pred_df"
   ]
  },
  {
   "cell_type": "code",
   "execution_count": 30,
   "id": "32523806",
   "metadata": {},
   "outputs": [
    {
     "data": {
      "image/png": "[encoded data removed]",
      "text/plain": [
       "<Figure size 600x600 with 1 Axes>"
      ]
     },
     "metadata": {},
     "output_type": "display_data"
    }
   ],
   "source": [
    "plt.figure(figsize=(6,6))\n",
    "sns.scatterplot(x=\"Test True Y\", y=\"Model Predictions\", data=pred_df)\n",
    "\n",
    "# Rote gestrichelte Linie (perfekte Vorhersage)\n",
    "min_val = min(pred_df[\"Test True Y\"].min(), pred_df[\"Model Predictions\"].min())\n",
    "max_val = max(pred_df[\"Test True Y\"].max(), pred_df[\"Model Predictions\"].max())\n",
    "plt.plot([min_val, max_val], [min_val, max_val], \"r--\")\n",
    "\n",
    "plt.title(\"True vs Predicted House Prices\")\n",
    "plt.xlabel(\"Test True Y\")\n",
    "plt.ylabel(\"Model Predictions\")\n",
    "plt.show()\n"
   ]
  },
  {
   "cell_type": "markdown",
   "id": "33bf5deb",
   "metadata": {},
   "source": [
    "The scatterplot shows that many predicted prices are spread far from the red line. This means the model struggles to match the true house prices accurately."
   ]
  },
  {
   "cell_type": "code",
   "execution_count": 31,
   "id": "06ecad11",
   "metadata": {},
   "outputs": [
    {
     "name": "stdout",
     "output_type": "stream",
     "text": [
      "MAE\n",
      "223187.06 $\n",
      "\n",
      "MSE\n",
      "65323999232.0 $^2\n",
      "\n",
      "RMSE:\n",
      "255585.6 $\n",
      "\n",
      "R-squared:\n",
      "-0.06\n",
      "\n",
      "Explained variance score:\n",
      "-0.03\n"
     ]
    }
   ],
   "source": [
    "print(\"MAE\")\n",
    "print(round(metrics.mean_absolute_error(y_test, test_predictions), 2), \"$\")\n",
    "\n",
    "print(\"\\nMSE\")\n",
    "print(round(metrics.mean_squared_error(y_test, test_predictions), 2), \"$^2\")\n",
    "\n",
    "print('\\nRMSE:')\n",
    "print(round(np.sqrt(metrics.mean_squared_error(y_test, test_predictions)), 2), \"$\")\n",
    "\n",
    "print('\\nR-squared:')\n",
    "print(round(metrics.r2_score(y_test, test_predictions), 2))\n",
    "\n",
    "print(\"\\nExplained variance score:\")\n",
    "print(round(metrics.explained_variance_score(y_test, test_predictions), 2))"
   ]
  },
  {
   "cell_type": "markdown",
   "id": "92c67023",
   "metadata": {},
   "source": [
    "The error metrics show high values and a negative R-squared, which means the model performs poorly and explains the data worse than a simple average. This indicates that the predictions are not reliable yet."
   ]
  },
  {
   "cell_type": "code",
   "execution_count": 32,
   "id": "53a970ca",
   "metadata": {},
   "outputs": [
    {
     "name": "stderr",
     "output_type": "stream",
     "text": [
      "C:\\Users\\Timothy\\AppData\\Local\\Temp\\ipykernel_19024\\3264322254.py:1: UserWarning: \n",
      "\n",
      "`distplot` is a deprecated function and will be removed in seaborn v0.14.0.\n",
      "\n",
      "Please adapt your code to use either `displot` (a figure-level function with\n",
      "similar flexibility) or `histplot` (an axes-level function for histograms).\n",
      "\n",
      "For a guide to updating your code to use the new functions, please see\n",
      "https://gist.github.com/mwaskom/de44147ed2974457ad6372750bbe5751\n",
      "\n",
      "  sns.distplot((y_test - test_predictions))\n"
     ]
    },
    {
     "data": {
      "image/png": "[encoded data removed]",
      "text/plain": [
       "<Figure size 640x480 with 1 Axes>"
      ]
     },
     "metadata": {},
     "output_type": "display_data"
    }
   ],
   "source": [
    "sns.distplot((y_test - test_predictions))\n",
    "plt.show()\n",
    "plt.close()"
   ]
  },
  {
   "cell_type": "markdown",
   "id": "4677d267",
   "metadata": {},
   "source": [
    "The distplot shows an approximately symmetric distribution of the residuals around 0, indicating that the model’s errors are spread evenly around the prediction axis. However, the values are quite widely dispersed, which suggests a generally low prediction accuracy."
   ]
  },
  {
   "cell_type": "markdown",
   "id": "f1f51545",
   "metadata": {},
   "source": [
    "#### Trying the model in practice with new imaginery house"
   ]
  },
  {
   "cell_type": "code",
   "execution_count": 33,
   "id": "4b466772",
   "metadata": {},
   "outputs": [
    {
     "data": {
      "text/plain": [
       "Index(['Bedrooms', 'Bathrooms', 'SquareFeet', 'YearBuilt', 'GarageSpaces',\n",
       "       'LotSize', 'CrimeRate', 'SchoolRating', 'Region_East', 'Region_North',\n",
       "       'Region_South', 'Region_West'],\n",
       "      dtype='object')"
      ]
     },
     "execution_count": 33,
     "metadata": {},
     "output_type": "execute_result"
    }
   ],
   "source": [
    "X.columns"
   ]
  },
  {
   "cell_type": "code",
   "execution_count": 34,
   "id": "2dfc59fe",
   "metadata": {},
   "outputs": [
    {
     "data": {
      "application/vnd.microsoft.datawrangler.viewer.v0+json": {
       "columns": [
        {
         "name": "index",
         "rawType": "int64",
         "type": "integer"
        },
        {
         "name": "Bedrooms",
         "rawType": "int64",
         "type": "integer"
        },
        {
         "name": "Bathrooms",
         "rawType": "float64",
         "type": "float"
        },
        {
         "name": "SquareFeet",
         "rawType": "int64",
         "type": "integer"
        },
        {
         "name": "YearBuilt",
         "rawType": "int64",
         "type": "integer"
        },
        {
         "name": "GarageSpaces",
         "rawType": "int64",
         "type": "integer"
        },
        {
         "name": "LotSize",
         "rawType": "float64",
         "type": "float"
        },
        {
         "name": "CrimeRate",
         "rawType": "float64",
         "type": "float"
        },
        {
         "name": "SchoolRating",
         "rawType": "int64",
         "type": "integer"
        },
        {
         "name": "Region_East",
         "rawType": "bool",
         "type": "boolean"
        },
        {
         "name": "Region_North",
         "rawType": "bool",
         "type": "boolean"
        },
        {
         "name": "Region_South",
         "rawType": "bool",
         "type": "boolean"
        },
        {
         "name": "Region_West",
         "rawType": "bool",
         "type": "boolean"
        }
       ],
       "ref": "fa6b1a84-3633-4f03-9ed6-80f3047e2d1e",
       "rows": [
        [
         "0",
         "1",
         "1.9",
         "4827",
         "1979",
         "2",
         "1.45",
         "48.6",
         "5",
         "False",
         "False",
         "False",
         "True"
        ],
        [
         "1",
         "2",
         "2.0",
         "1035",
         "1987",
         "2",
         "1.75",
         "92.03",
         "9",
         "False",
         "False",
         "False",
         "True"
        ],
        [
         "2",
         "1",
         "3.0",
         "2769",
         "1982",
         "1",
         "1.46",
         "52.08",
         "3",
         "False",
         "False",
         "False",
         "True"
        ]
       ],
       "shape": {
        "columns": 12,
        "rows": 3
       }
      },
      "text/html": [
       "<div>\n",
       "<style scoped>\n",
       "    .dataframe tbody tr th:only-of-type {\n",
       "        vertical-align: middle;\n",
       "    }\n",
       "\n",
       "    .dataframe tbody tr th {\n",
       "        vertical-align: top;\n",
       "    }\n",
       "\n",
       "    .dataframe thead th {\n",
       "        text-align: right;\n",
       "    }\n",
       "</style>\n",
       "<table border=\"1\" class=\"dataframe\">\n",
       "  <thead>\n",
       "    <tr style=\"text-align: right;\">\n",
       "      <th></th>\n",
       "      <th>Bedrooms</th>\n",
       "      <th>Bathrooms</th>\n",
       "      <th>SquareFeet</th>\n",
       "      <th>YearBuilt</th>\n",
       "      <th>GarageSpaces</th>\n",
       "      <th>LotSize</th>\n",
       "      <th>CrimeRate</th>\n",
       "      <th>SchoolRating</th>\n",
       "      <th>Region_East</th>\n",
       "      <th>Region_North</th>\n",
       "      <th>Region_South</th>\n",
       "      <th>Region_West</th>\n",
       "    </tr>\n",
       "  </thead>\n",
       "  <tbody>\n",
       "    <tr>\n",
       "      <th>0</th>\n",
       "      <td>1</td>\n",
       "      <td>1.9</td>\n",
       "      <td>4827</td>\n",
       "      <td>1979</td>\n",
       "      <td>2</td>\n",
       "      <td>1.45</td>\n",
       "      <td>48.60</td>\n",
       "      <td>5</td>\n",
       "      <td>False</td>\n",
       "      <td>False</td>\n",
       "      <td>False</td>\n",
       "      <td>True</td>\n",
       "    </tr>\n",
       "    <tr>\n",
       "      <th>1</th>\n",
       "      <td>2</td>\n",
       "      <td>2.0</td>\n",
       "      <td>1035</td>\n",
       "      <td>1987</td>\n",
       "      <td>2</td>\n",
       "      <td>1.75</td>\n",
       "      <td>92.03</td>\n",
       "      <td>9</td>\n",
       "      <td>False</td>\n",
       "      <td>False</td>\n",
       "      <td>False</td>\n",
       "      <td>True</td>\n",
       "    </tr>\n",
       "    <tr>\n",
       "      <th>2</th>\n",
       "      <td>1</td>\n",
       "      <td>3.0</td>\n",
       "      <td>2769</td>\n",
       "      <td>1982</td>\n",
       "      <td>1</td>\n",
       "      <td>1.46</td>\n",
       "      <td>52.08</td>\n",
       "      <td>3</td>\n",
       "      <td>False</td>\n",
       "      <td>False</td>\n",
       "      <td>False</td>\n",
       "      <td>True</td>\n",
       "    </tr>\n",
       "  </tbody>\n",
       "</table>\n",
       "</div>"
      ],
      "text/plain": [
       "   Bedrooms  Bathrooms  SquareFeet  YearBuilt  GarageSpaces  LotSize  \\\n",
       "0         1        1.9        4827       1979             2     1.45   \n",
       "1         2        2.0        1035       1987             2     1.75   \n",
       "2         1        3.0        2769       1982             1     1.46   \n",
       "\n",
       "   CrimeRate  SchoolRating  Region_East  Region_North  Region_South  \\\n",
       "0      48.60             5        False         False         False   \n",
       "1      92.03             9        False         False         False   \n",
       "2      52.08             3        False         False         False   \n",
       "\n",
       "   Region_West  \n",
       "0         True  \n",
       "1         True  \n",
       "2         True  "
      ]
     },
     "execution_count": 34,
     "metadata": {},
     "output_type": "execute_result"
    }
   ],
   "source": [
    "X.head(3)"
   ]
  },
  {
   "cell_type": "code",
   "execution_count": 60,
   "id": "2b3eee66",
   "metadata": {},
   "outputs": [
    {
     "name": "stdout",
     "output_type": "stream",
     "text": [
      "\u001b[1m1/1\u001b[0m \u001b[32m━━━━━━━━━━━━━━━━━━━━\u001b[0m\u001b[37m\u001b[0m \u001b[1m0s\u001b[0m 35ms/step\n",
      "Estimated house price:\n",
      "$579338.94\n"
     ]
    }
   ],
   "source": [
    "tester_row = {\n",
    "    \"Bedrooms\": 4,\n",
    "    \"Bathrooms\": 2,\n",
    "    \"SquareFeet\": 4227,\n",
    "    \"YearBuilt\": 2015,\n",
    "    \"GarageSpaces\": 1,\n",
    "    \"LotSize\": 1.78,\n",
    "    \"CrimeRate\": 42.08,\n",
    "    \"SchoolRating\": 8,\n",
    "    \"Region_East\": 0,\n",
    "    \"Region_North\": 0,\n",
    "    \"Region_South\": 1,\n",
    "    \"Region_West\": 0\n",
    "}\n",
    "\n",
    "tester_row = pd.DataFrame([tester_row])\n",
    "\n",
    "tester_row_scaled = scaler.transform(tester_row)\n",
    "\n",
    "result = best_trained_model.predict(tester_row_scaled)[0][0]\n",
    "\n",
    "print(\"Estimated house price:\")\n",
    "print(f\"${round(float(result), 2)}\")"
   ]
  },
  {
   "cell_type": "markdown",
   "id": "39d294fa",
   "metadata": {},
   "source": [
    "#### Conclusion\n",
    "The analysis highlights several challenges in predicting house prices with our dataset using a neural network. Most features show only very weak correlations with the target variable (Price). This limits the model’s ability to learn strong predictive patterns. Variables such as SquareFeet, CrimeRate, and Region, at the Fisher Score and Chi²-Test, have higher importance, while others contribute very little. This confirms that not all features are equally useful. The results of the VIF-Test reveal high multicollinearity among the Region variables, meaning that some of them are redundant and may confuse the model. The error metrics (MAE, RMSE, negative R²) show that the trained model currently performs poorly. Predictions on new test data are also far off from the true values.\n",
    "\n",
    "In the end, the weak performance is less a problem of the neural network architecture itself, but rather of the dataset. The low correlation make accurate prediction difficult. To improve results, a larger and higher-quality dataset with more meaningful features would be necessary."
   ]
  },
  {
   "cell_type": "markdown",
   "id": "f0424cbb",
   "metadata": {},
   "source": [
    "#### Use of AI for data generation\n",
    "Since the original dataset was relatively small and might have limited the model’s learning capacity, I used AI to generate 5,000 synthetic but realistic housing data samples. The goal was to test whether the poor performance mainly resulted from the lack of data. By expanding the dataset, we aimed to give the model more diverse examples and improve its ability to generalize."
   ]
  },
  {
   "cell_type": "markdown",
   "id": "17717d72",
   "metadata": {},
   "source": [
    "#### Loading the dataset"
   ]
  },
  {
   "cell_type": "code",
   "execution_count": 36,
   "id": "ba11c507",
   "metadata": {},
   "outputs": [
    {
     "data": {
      "application/vnd.microsoft.datawrangler.viewer.v0+json": {
       "columns": [
        {
         "name": "index",
         "rawType": "int64",
         "type": "integer"
        },
        {
         "name": "Price",
         "rawType": "int64",
         "type": "integer"
        },
        {
         "name": "Bedrooms",
         "rawType": "int64",
         "type": "integer"
        },
        {
         "name": "Bathrooms",
         "rawType": "float64",
         "type": "float"
        },
        {
         "name": "SquareFeet",
         "rawType": "int64",
         "type": "integer"
        },
        {
         "name": "YearBuilt",
         "rawType": "int64",
         "type": "integer"
        },
        {
         "name": "GarageSpaces",
         "rawType": "int64",
         "type": "integer"
        },
        {
         "name": "LotSize",
         "rawType": "float64",
         "type": "float"
        },
        {
         "name": "ZipCode",
         "rawType": "int64",
         "type": "integer"
        },
        {
         "name": "CrimeRate",
         "rawType": "float64",
         "type": "float"
        },
        {
         "name": "SchoolRating",
         "rawType": "int64",
         "type": "integer"
        }
       ],
       "ref": "1272efd3-6ee1-4360-aa54-1f509d1b8b9b",
       "rows": [
        [
         "0",
         "768057",
         "4",
         "1.7",
         "2847",
         "1972",
         "2",
         "1.46",
         "75201",
         "37.28",
         "10"
        ],
        [
         "1",
         "712254",
         "5",
         "3.3",
         "2740",
         "1964",
         "1",
         "1.66",
         "30301",
         "39.89",
         "1"
        ],
        [
         "2",
         "713762",
         "3",
         "2.4",
         "3163",
         "1966",
         "2",
         "0.99",
         "30301",
         "84.57",
         "3"
        ],
        [
         "3",
         "881840",
         "5",
         "2.7",
         "3306",
         "1963",
         "2",
         "1.29",
         "60601",
         "49.06",
         "5"
        ],
        [
         "4",
         "881072",
         "5",
         "2.9",
         "3591",
         "1965",
         "1",
         "1.54",
         "30301",
         "53.41",
         "4"
        ]
       ],
       "shape": {
        "columns": 10,
        "rows": 5
       }
      },
      "text/html": [
       "<div>\n",
       "<style scoped>\n",
       "    .dataframe tbody tr th:only-of-type {\n",
       "        vertical-align: middle;\n",
       "    }\n",
       "\n",
       "    .dataframe tbody tr th {\n",
       "        vertical-align: top;\n",
       "    }\n",
       "\n",
       "    .dataframe thead th {\n",
       "        text-align: right;\n",
       "    }\n",
       "</style>\n",
       "<table border=\"1\" class=\"dataframe\">\n",
       "  <thead>\n",
       "    <tr style=\"text-align: right;\">\n",
       "      <th></th>\n",
       "      <th>Price</th>\n",
       "      <th>Bedrooms</th>\n",
       "      <th>Bathrooms</th>\n",
       "      <th>SquareFeet</th>\n",
       "      <th>YearBuilt</th>\n",
       "      <th>GarageSpaces</th>\n",
       "      <th>LotSize</th>\n",
       "      <th>ZipCode</th>\n",
       "      <th>CrimeRate</th>\n",
       "      <th>SchoolRating</th>\n",
       "    </tr>\n",
       "  </thead>\n",
       "  <tbody>\n",
       "    <tr>\n",
       "      <th>0</th>\n",
       "      <td>768057</td>\n",
       "      <td>4</td>\n",
       "      <td>1.7</td>\n",
       "      <td>2847</td>\n",
       "      <td>1972</td>\n",
       "      <td>2</td>\n",
       "      <td>1.46</td>\n",
       "      <td>75201</td>\n",
       "      <td>37.28</td>\n",
       "      <td>10</td>\n",
       "    </tr>\n",
       "    <tr>\n",
       "      <th>1</th>\n",
       "      <td>712254</td>\n",
       "      <td>5</td>\n",
       "      <td>3.3</td>\n",
       "      <td>2740</td>\n",
       "      <td>1964</td>\n",
       "      <td>1</td>\n",
       "      <td>1.66</td>\n",
       "      <td>30301</td>\n",
       "      <td>39.89</td>\n",
       "      <td>1</td>\n",
       "    </tr>\n",
       "    <tr>\n",
       "      <th>2</th>\n",
       "      <td>713762</td>\n",
       "      <td>3</td>\n",
       "      <td>2.4</td>\n",
       "      <td>3163</td>\n",
       "      <td>1966</td>\n",
       "      <td>2</td>\n",
       "      <td>0.99</td>\n",
       "      <td>30301</td>\n",
       "      <td>84.57</td>\n",
       "      <td>3</td>\n",
       "    </tr>\n",
       "    <tr>\n",
       "      <th>3</th>\n",
       "      <td>881840</td>\n",
       "      <td>5</td>\n",
       "      <td>2.7</td>\n",
       "      <td>3306</td>\n",
       "      <td>1963</td>\n",
       "      <td>2</td>\n",
       "      <td>1.29</td>\n",
       "      <td>60601</td>\n",
       "      <td>49.06</td>\n",
       "      <td>5</td>\n",
       "    </tr>\n",
       "    <tr>\n",
       "      <th>4</th>\n",
       "      <td>881072</td>\n",
       "      <td>5</td>\n",
       "      <td>2.9</td>\n",
       "      <td>3591</td>\n",
       "      <td>1965</td>\n",
       "      <td>1</td>\n",
       "      <td>1.54</td>\n",
       "      <td>30301</td>\n",
       "      <td>53.41</td>\n",
       "      <td>4</td>\n",
       "    </tr>\n",
       "  </tbody>\n",
       "</table>\n",
       "</div>"
      ],
      "text/plain": [
       "    Price  Bedrooms  Bathrooms  SquareFeet  YearBuilt  GarageSpaces  LotSize  \\\n",
       "0  768057         4        1.7        2847       1972             2     1.46   \n",
       "1  712254         5        3.3        2740       1964             1     1.66   \n",
       "2  713762         3        2.4        3163       1966             2     0.99   \n",
       "3  881840         5        2.7        3306       1963             2     1.29   \n",
       "4  881072         5        2.9        3591       1965             1     1.54   \n",
       "\n",
       "   ZipCode  CrimeRate  SchoolRating  \n",
       "0    75201      37.28            10  \n",
       "1    30301      39.89             1  \n",
       "2    30301      84.57             3  \n",
       "3    60601      49.06             5  \n",
       "4    30301      53.41             4  "
      ]
     },
     "execution_count": 36,
     "metadata": {},
     "output_type": "execute_result"
    }
   ],
   "source": [
    "df2 = pd.read_csv(\"usa_housing_realistic.csv\")\n",
    "df2.head()"
   ]
  },
  {
   "cell_type": "code",
   "execution_count": 37,
   "id": "c73f2a33",
   "metadata": {},
   "outputs": [
    {
     "name": "stdout",
     "output_type": "stream",
     "text": [
      "(5000, 10)\n",
      "\n",
      "\n",
      "<class 'pandas.core.frame.DataFrame'>\n",
      "RangeIndex: 5000 entries, 0 to 4999\n",
      "Data columns (total 10 columns):\n",
      " #   Column        Non-Null Count  Dtype  \n",
      "---  ------        --------------  -----  \n",
      " 0   Price         5000 non-null   int64  \n",
      " 1   Bedrooms      5000 non-null   int64  \n",
      " 2   Bathrooms     5000 non-null   float64\n",
      " 3   SquareFeet    5000 non-null   int64  \n",
      " 4   YearBuilt     5000 non-null   int64  \n",
      " 5   GarageSpaces  5000 non-null   int64  \n",
      " 6   LotSize       5000 non-null   float64\n",
      " 7   ZipCode       5000 non-null   int64  \n",
      " 8   CrimeRate     5000 non-null   float64\n",
      " 9   SchoolRating  5000 non-null   int64  \n",
      "dtypes: float64(3), int64(7)\n",
      "memory usage: 390.8 KB\n",
      "None\n",
      "\n",
      "\n",
      "              Price     Bedrooms    Bathrooms   SquareFeet    YearBuilt  \\\n",
      "count  5.000000e+03  5000.000000  5000.000000  5000.000000  5000.000000   \n",
      "mean   6.907359e+05     3.010800     2.890500  2704.120200  1985.472200   \n",
      "std    1.835829e+05     1.424601     0.661585   746.768298    21.087384   \n",
      "min    1.302280e+05     1.000000     1.000000   400.000000  1950.000000   \n",
      "25%    5.542125e+05     2.000000     2.400000  2163.000000  1967.000000   \n",
      "50%    6.893525e+05     3.000000     2.900000  2695.000000  1985.000000   \n",
      "75%    8.266085e+05     4.000000     3.300000  3252.250000  2003.000000   \n",
      "max    1.326626e+06     5.000000     5.000000  5188.000000  2022.000000   \n",
      "\n",
      "       GarageSpaces      LotSize       ZipCode    CrimeRate  SchoolRating  \n",
      "count   5000.000000  5000.000000   5000.000000  5000.000000    5000.00000  \n",
      "mean       1.513600     1.103114  53936.240000    49.794338       5.52780  \n",
      "std        0.811632     0.410293  30065.425261    19.775083       2.84423  \n",
      "min        0.000000     0.100000  10001.000000     0.000000       1.00000  \n",
      "25%        1.000000     0.810000  30301.000000    36.605000       3.00000  \n",
      "50%        2.000000     1.100000  60601.000000    49.685000       6.00000  \n",
      "75%        2.000000     1.390000  75201.000000    63.250000       8.00000  \n",
      "max        3.000000     2.350000  94101.000000   100.000000      10.00000  \n"
     ]
    }
   ],
   "source": [
    "print(df2.shape)\n",
    "print(\"\\n\")\n",
    "print(df2.info())\n",
    "print(\"\\n\")\n",
    "print(df2.describe())"
   ]
  },
  {
   "cell_type": "code",
   "execution_count": 38,
   "id": "afa4c6e9",
   "metadata": {},
   "outputs": [
    {
     "name": "stdout",
     "output_type": "stream",
     "text": [
      "Amount of data in the dataset: \n"
     ]
    },
    {
     "data": {
      "text/plain": [
       "5000"
      ]
     },
     "execution_count": 38,
     "metadata": {},
     "output_type": "execute_result"
    }
   ],
   "source": [
    "print(\"Amount of data in the dataset: \")\n",
    "len(df2)"
   ]
  },
  {
   "cell_type": "markdown",
   "id": "98f839de",
   "metadata": {},
   "source": [
    "#### Clean the dataset and handle mising values"
   ]
  },
  {
   "cell_type": "code",
   "execution_count": 39,
   "id": "1706c681",
   "metadata": {},
   "outputs": [
    {
     "data": {
      "application/vnd.microsoft.datawrangler.viewer.v0+json": {
       "columns": [
        {
         "name": "index",
         "rawType": "object",
         "type": "string"
        },
        {
         "name": "0",
         "rawType": "int64",
         "type": "integer"
        }
       ],
       "ref": "4fc9af22-60e6-47aa-a2ab-418c7e4267d9",
       "rows": [
        [
         "Price",
         "0"
        ],
        [
         "Bedrooms",
         "0"
        ],
        [
         "Bathrooms",
         "0"
        ],
        [
         "SquareFeet",
         "0"
        ],
        [
         "YearBuilt",
         "0"
        ],
        [
         "GarageSpaces",
         "0"
        ],
        [
         "LotSize",
         "0"
        ],
        [
         "ZipCode",
         "0"
        ],
        [
         "CrimeRate",
         "0"
        ],
        [
         "SchoolRating",
         "0"
        ]
       ],
       "shape": {
        "columns": 1,
        "rows": 10
       }
      },
      "text/plain": [
       "Price           0\n",
       "Bedrooms        0\n",
       "Bathrooms       0\n",
       "SquareFeet      0\n",
       "YearBuilt       0\n",
       "GarageSpaces    0\n",
       "LotSize         0\n",
       "ZipCode         0\n",
       "CrimeRate       0\n",
       "SchoolRating    0\n",
       "dtype: int64"
      ]
     },
     "execution_count": 39,
     "metadata": {},
     "output_type": "execute_result"
    }
   ],
   "source": [
    "df2.isna().sum()"
   ]
  },
  {
   "cell_type": "markdown",
   "id": "9e7a3837",
   "metadata": {},
   "source": [
    "#### Check if there are any duplicates"
   ]
  },
  {
   "cell_type": "code",
   "execution_count": 40,
   "id": "5e612feb",
   "metadata": {},
   "outputs": [
    {
     "name": "stdout",
     "output_type": "stream",
     "text": [
      "Duplicates: \n"
     ]
    },
    {
     "data": {
      "text/plain": [
       "0"
      ]
     },
     "execution_count": 40,
     "metadata": {},
     "output_type": "execute_result"
    }
   ],
   "source": [
    "print(\"Duplicates: \")\n",
    "duplicates = int(df2.duplicated().sum())\n",
    "duplicates"
   ]
  },
  {
   "cell_type": "code",
   "execution_count": 41,
   "id": "d716db37",
   "metadata": {},
   "outputs": [],
   "source": [
    "def zipcode_to_region(zipcode):\n",
    "    if 10000 <= zipcode < 30000:\n",
    "        return \"East\"\n",
    "    elif 30000 <= zipcode < 50000:\n",
    "        return \"South\"\n",
    "    elif 50000 <= zipcode < 70000:\n",
    "        return \"North\"\n",
    "    else:\n",
    "        return \"West\"\n",
    "\n",
    "df2 = df2.drop(columns=[\"Region_East\", \"Region_West\", \"Region_South\", \"Region_North\"], errors=\"ignore\")\n",
    "\n",
    "df2[\"Region\"] = df2[\"ZipCode\"].apply(zipcode_to_region)\n",
    "\n",
    "df2 = pd.get_dummies(df2, columns=[\"Region\"], drop_first=False)\n",
    "\n",
    "y = df2[\"Price\"]\n",
    "X = df2.drop([\"Price\", \"ZipCode\"], axis=1)"
   ]
  },
  {
   "cell_type": "markdown",
   "id": "7901264d",
   "metadata": {},
   "source": [
    "#### Correlation"
   ]
  },
  {
   "cell_type": "code",
   "execution_count": 42,
   "id": "a078e6af",
   "metadata": {},
   "outputs": [
    {
     "data": {
      "image/png": "[encoded data removed]",
      "text/plain": [
       "<Figure size 1000x600 with 2 Axes>"
      ]
     },
     "metadata": {},
     "output_type": "display_data"
    }
   ],
   "source": [
    "corr = X.join(y).corr(numeric_only=True)\n",
    "\n",
    "plt.figure(figsize=(10, 6))\n",
    "sns.heatmap(corr, annot=True, cmap=\"coolwarm\", fmt=\".2f\")\n",
    "plt.title(\"Correlation Matrix of Housing Data\")\n",
    "plt.show()"
   ]
  },
  {
   "cell_type": "markdown",
   "id": "42ec4546",
   "metadata": {},
   "source": [
    "In this new correlation matrix, the key variables like SquareFeet, Bedrooms, and LotSize show a stronger and clearer relationship with Price compared to the earlier results. "
   ]
  },
  {
   "cell_type": "markdown",
   "id": "e7511d5b",
   "metadata": {},
   "source": [
    "#### Fisher-Score"
   ]
  },
  {
   "cell_type": "code",
   "execution_count": 43,
   "id": "ea7eed10",
   "metadata": {},
   "outputs": [
    {
     "data": {
      "image/png": "[encoded data removed]",
      "text/plain": [
       "<Figure size 800x500 with 1 Axes>"
      ]
     },
     "metadata": {},
     "output_type": "display_data"
    }
   ],
   "source": [
    "from skfeature.function.similarity_based import fisher_score\n",
    "\n",
    "y_binned = pd.qcut(y, q=4, labels=False)\n",
    "\n",
    "ranks = fisher_score.fisher_score(X.values, y_binned.values)\n",
    "feat_importances = pd.Series(ranks, index=X.columns)\n",
    "\n",
    "feat_importances.sort_values(ascending=False).plot(kind=\"barh\", figsize=(8,5))\n",
    "plt.title(\"Feature Importance by Fisher Score\")\n",
    "plt.show()"
   ]
  },
  {
   "cell_type": "markdown",
   "id": "0147456e",
   "metadata": {},
   "source": [
    "In this Fisher Score plot, features like Bathrooms, YearBuilt, and Bedrooms now stand out as the most important, while the region variables have very little influence. Compared to the earlier results, the ranking looks clearer and more realistic."
   ]
  },
  {
   "cell_type": "markdown",
   "id": "9229de6e",
   "metadata": {},
   "source": [
    "#### SelectKBest-Score"
   ]
  },
  {
   "cell_type": "code",
   "execution_count": 44,
   "id": "6733b339",
   "metadata": {},
   "outputs": [
    {
     "name": "stdout",
     "output_type": "stream",
     "text": [
      "         Feature    Chi2 Score\n",
      "2     SquareFeet  1.030823e+06\n",
      "6      CrimeRate  3.911576e+04\n",
      "7   SchoolRating  7.296236e+03\n",
      "8    Region_East  4.040463e+03\n",
      "9   Region_North  3.997633e+03\n",
      "10  Region_South  3.911387e+03\n",
      "0       Bedrooms  3.365855e+03\n",
      "11   Region_West  3.007443e+03\n",
      "4   GarageSpaces  2.167729e+03\n",
      "3      YearBuilt  1.115821e+03\n",
      "5        LotSize  7.609664e+02\n",
      "1      Bathrooms  7.556214e+02\n"
     ]
    },
    {
     "name": "stderr",
     "output_type": "stream",
     "text": [
      "d:\\5. Semester\\Deep Learning\\DL-projects\\venv312\\Lib\\site-packages\\sklearn\\preprocessing\\_label.py:302: UserWarning: The number of unique classes is greater than 50% of the number of samples. `y` could represent a regression problem, not a classification problem.\n",
      "  self.y_type_ = type_of_target(y, input_name=\"y\")\n",
      "d:\\5. Semester\\Deep Learning\\DL-projects\\venv312\\Lib\\site-packages\\sklearn\\utils\\multiclass.py:79: UserWarning: The number of unique classes is greater than 50% of the number of samples. `y` could represent a regression problem, not a classification problem.\n",
      "  ys_types = set(type_of_target(x) for x in ys)\n",
      "d:\\5. Semester\\Deep Learning\\DL-projects\\venv312\\Lib\\site-packages\\sklearn\\preprocessing\\_label.py:359: UserWarning: The number of unique classes is greater than 50% of the number of samples. `y` could represent a regression problem, not a classification problem.\n",
      "  y_is_multilabel = type_of_target(y).startswith(\"multilabel\")\n",
      "d:\\5. Semester\\Deep Learning\\DL-projects\\venv312\\Lib\\site-packages\\sklearn\\preprocessing\\_label.py:528: UserWarning: The number of unique classes is greater than 50% of the number of samples. `y` could represent a regression problem, not a classification problem.\n",
      "  y_type = type_of_target(y)\n"
     ]
    }
   ],
   "source": [
    "from sklearn.feature_selection import SelectKBest, chi2\n",
    "import numpy as np\n",
    "\n",
    "X_cat = np.abs(X)  \n",
    "y_cat = y.astype(int)\n",
    "\n",
    "chi2_selector = SelectKBest(score_func=chi2, k=\"all\")\n",
    "chi2_selector.fit(X_cat, y_cat)\n",
    "\n",
    "chi2_scores = pd.DataFrame({\n",
    "    \"Feature\": X_cat.columns,\n",
    "    \"Chi2 Score\": chi2_selector.scores_\n",
    "}).sort_values(by=\"Chi2 Score\", ascending=False)\n",
    "\n",
    "print(chi2_scores)"
   ]
  },
  {
   "cell_type": "markdown",
   "id": "ee4b12ba",
   "metadata": {},
   "source": [
    "In this Chi² test, SquareFeet dominates as the most important feature, followed by CrimeRate and SchoolRating, while variables like LotSize and Bathrooms have much lower scores. Compared to the earlier results, the importance is more concentrated on meaningful features. This indicates, that using a larger dataset with good data, could improve the Chi²-Score."
   ]
  },
  {
   "cell_type": "markdown",
   "id": "2d33b1a1",
   "metadata": {},
   "source": [
    "#### VIF-Test"
   ]
  },
  {
   "cell_type": "code",
   "execution_count": 45,
   "id": "4a2a648a",
   "metadata": {},
   "outputs": [
    {
     "name": "stdout",
     "output_type": "stream",
     "text": [
      "         Feature          VIF\n",
      "0       Bedrooms     3.930642\n",
      "1      Bathrooms     1.686300\n",
      "2     SquareFeet     2.297704\n",
      "3      YearBuilt     1.001190\n",
      "4   GarageSpaces     1.000970\n",
      "5        LotSize     1.903355\n",
      "6      CrimeRate     1.002097\n",
      "7   SchoolRating     1.000972\n",
      "8    Region_East  1697.028720\n",
      "9   Region_North  1755.826894\n",
      "10  Region_South  1937.604167\n",
      "11   Region_West  3549.056924\n"
     ]
    }
   ],
   "source": [
    "from statsmodels.stats.outliers_influence import variance_inflation_factor\n",
    "\n",
    "X_vif = X.copy()\n",
    "\n",
    "X_vif = X_vif.astype(float)\n",
    "\n",
    "vif_data = pd.DataFrame()\n",
    "vif_data[\"Feature\"] = X_vif.columns\n",
    "vif_data[\"VIF\"] = [variance_inflation_factor(X_vif.values, i) for i in range(len(X_vif.columns))]\n",
    "\n",
    "print(vif_data)"
   ]
  },
  {
   "cell_type": "markdown",
   "id": "8352ec82",
   "metadata": {},
   "source": [
    "The VIF results show that most numeric features (like Bedrooms, SquareFeet, LotSize) have low multicollinearity, which is good. However, the Region variables still have extremely high VIF values, meaning they overlap heavily and could cause instability in the model. Compared to before, this confirms that the categorical encoding of regions remains a challenge."
   ]
  },
  {
   "cell_type": "markdown",
   "id": "5187eb27",
   "metadata": {},
   "source": [
    "#### X/y -Split"
   ]
  },
  {
   "cell_type": "code",
   "execution_count": 46,
   "id": "18d6ba7f",
   "metadata": {},
   "outputs": [
    {
     "name": "stdout",
     "output_type": "stream",
     "text": [
      "Training size: (3500, 12)\n",
      "Validation size: (750, 12)\n",
      "Test size: (750, 12)\n"
     ]
    }
   ],
   "source": [
    "X_train, X_temp, y_train, y_temp = train_test_split(X, y, test_size=0.3)\n",
    "\n",
    "X_val, X_test, y_val, y_test = train_test_split(X_temp, y_temp, test_size=0.5)\n",
    "\n",
    "print(\"Training size:\", X_train.shape)\n",
    "print(\"Validation size:\", X_val.shape)\n",
    "print(\"Test size:\", X_test.shape)"
   ]
  },
  {
   "cell_type": "markdown",
   "id": "6f84828b",
   "metadata": {},
   "source": [
    "#### Scaling of the Data"
   ]
  },
  {
   "cell_type": "code",
   "execution_count": 47,
   "id": "1b018a08",
   "metadata": {},
   "outputs": [],
   "source": [
    "from sklearn.preprocessing import StandardScaler\n",
    "\n",
    "scaler = StandardScaler()\n",
    "\n",
    "X_train = scaler.fit_transform(X_train)\n",
    "X_val   = scaler.transform(X_val)\n",
    "X_test  = scaler.transform(X_test)\n"
   ]
  },
  {
   "cell_type": "markdown",
   "id": "d4c90847",
   "metadata": {},
   "source": [
    "#### Create a neural network structure"
   ]
  },
  {
   "cell_type": "code",
   "execution_count": 48,
   "id": "358c794f",
   "metadata": {},
   "outputs": [
    {
     "name": "stderr",
     "output_type": "stream",
     "text": [
      "d:\\5. Semester\\Deep Learning\\DL-projects\\venv312\\Lib\\site-packages\\keras\\src\\layers\\normalization\\batch_normalization.py:142: UserWarning: Do not pass an `input_shape`/`input_dim` argument to a layer. When using Sequential models, prefer using an `Input(shape)` object as the first layer in the model instead.\n",
      "  super().__init__(**kwargs)\n"
     ]
    },
    {
     "data": {
      "text/html": [
       "<pre style=\"white-space:pre;overflow-x:auto;line-height:normal;font-family:Menlo,'DejaVu Sans Mono',consolas,'Courier New',monospace\"><span style=\"font-weight: bold\">Model: \"sequential_1\"</span>\n",
       "</pre>\n"
      ],
      "text/plain": [
       "\u001b[1mModel: \"sequential_1\"\u001b[0m\n"
      ]
     },
     "metadata": {},
     "output_type": "display_data"
    },
    {
     "data": {
      "text/html": [
       "<pre style=\"white-space:pre;overflow-x:auto;line-height:normal;font-family:Menlo,'DejaVu Sans Mono',consolas,'Courier New',monospace\">┏━━━━━━━━━━━━━━━━━━━━━━━━━━━━━━━━━┳━━━━━━━━━━━━━━━━━━━━━━━━┳━━━━━━━━━━━━━━━┓\n",
       "┃<span style=\"font-weight: bold\"> Layer (type)                    </span>┃<span style=\"font-weight: bold\"> Output Shape           </span>┃<span style=\"font-weight: bold\">       Param # </span>┃\n",
       "┡━━━━━━━━━━━━━━━━━━━━━━━━━━━━━━━━━╇━━━━━━━━━━━━━━━━━━━━━━━━╇━━━━━━━━━━━━━━━┩\n",
       "│ batch_normalization_1           │ (<span style=\"color: #00d7ff; text-decoration-color: #00d7ff\">None</span>, <span style=\"color: #00af00; text-decoration-color: #00af00\">12</span>)             │            <span style=\"color: #00af00; text-decoration-color: #00af00\">48</span> │\n",
       "│ (<span style=\"color: #0087ff; text-decoration-color: #0087ff\">BatchNormalization</span>)            │                        │               │\n",
       "├─────────────────────────────────┼────────────────────────┼───────────────┤\n",
       "│ dense_4 (<span style=\"color: #0087ff; text-decoration-color: #0087ff\">Dense</span>)                 │ (<span style=\"color: #00d7ff; text-decoration-color: #00d7ff\">None</span>, <span style=\"color: #00af00; text-decoration-color: #00af00\">16</span>)             │           <span style=\"color: #00af00; text-decoration-color: #00af00\">208</span> │\n",
       "├─────────────────────────────────┼────────────────────────┼───────────────┤\n",
       "│ dense_5 (<span style=\"color: #0087ff; text-decoration-color: #0087ff\">Dense</span>)                 │ (<span style=\"color: #00d7ff; text-decoration-color: #00d7ff\">None</span>, <span style=\"color: #00af00; text-decoration-color: #00af00\">8</span>)              │           <span style=\"color: #00af00; text-decoration-color: #00af00\">136</span> │\n",
       "├─────────────────────────────────┼────────────────────────┼───────────────┤\n",
       "│ dense_6 (<span style=\"color: #0087ff; text-decoration-color: #0087ff\">Dense</span>)                 │ (<span style=\"color: #00d7ff; text-decoration-color: #00d7ff\">None</span>, <span style=\"color: #00af00; text-decoration-color: #00af00\">4</span>)              │            <span style=\"color: #00af00; text-decoration-color: #00af00\">36</span> │\n",
       "├─────────────────────────────────┼────────────────────────┼───────────────┤\n",
       "│ dense_7 (<span style=\"color: #0087ff; text-decoration-color: #0087ff\">Dense</span>)                 │ (<span style=\"color: #00d7ff; text-decoration-color: #00d7ff\">None</span>, <span style=\"color: #00af00; text-decoration-color: #00af00\">1</span>)              │             <span style=\"color: #00af00; text-decoration-color: #00af00\">5</span> │\n",
       "└─────────────────────────────────┴────────────────────────┴───────────────┘\n",
       "</pre>\n"
      ],
      "text/plain": [
       "┏━━━━━━━━━━━━━━━━━━━━━━━━━━━━━━━━━┳━━━━━━━━━━━━━━━━━━━━━━━━┳━━━━━━━━━━━━━━━┓\n",
       "┃\u001b[1m \u001b[0m\u001b[1mLayer (type)                   \u001b[0m\u001b[1m \u001b[0m┃\u001b[1m \u001b[0m\u001b[1mOutput Shape          \u001b[0m\u001b[1m \u001b[0m┃\u001b[1m \u001b[0m\u001b[1m      Param #\u001b[0m\u001b[1m \u001b[0m┃\n",
       "┡━━━━━━━━━━━━━━━━━━━━━━━━━━━━━━━━━╇━━━━━━━━━━━━━━━━━━━━━━━━╇━━━━━━━━━━━━━━━┩\n",
       "│ batch_normalization_1           │ (\u001b[38;5;45mNone\u001b[0m, \u001b[38;5;34m12\u001b[0m)             │            \u001b[38;5;34m48\u001b[0m │\n",
       "│ (\u001b[38;5;33mBatchNormalization\u001b[0m)            │                        │               │\n",
       "├─────────────────────────────────┼────────────────────────┼───────────────┤\n",
       "│ dense_4 (\u001b[38;5;33mDense\u001b[0m)                 │ (\u001b[38;5;45mNone\u001b[0m, \u001b[38;5;34m16\u001b[0m)             │           \u001b[38;5;34m208\u001b[0m │\n",
       "├─────────────────────────────────┼────────────────────────┼───────────────┤\n",
       "│ dense_5 (\u001b[38;5;33mDense\u001b[0m)                 │ (\u001b[38;5;45mNone\u001b[0m, \u001b[38;5;34m8\u001b[0m)              │           \u001b[38;5;34m136\u001b[0m │\n",
       "├─────────────────────────────────┼────────────────────────┼───────────────┤\n",
       "│ dense_6 (\u001b[38;5;33mDense\u001b[0m)                 │ (\u001b[38;5;45mNone\u001b[0m, \u001b[38;5;34m4\u001b[0m)              │            \u001b[38;5;34m36\u001b[0m │\n",
       "├─────────────────────────────────┼────────────────────────┼───────────────┤\n",
       "│ dense_7 (\u001b[38;5;33mDense\u001b[0m)                 │ (\u001b[38;5;45mNone\u001b[0m, \u001b[38;5;34m1\u001b[0m)              │             \u001b[38;5;34m5\u001b[0m │\n",
       "└─────────────────────────────────┴────────────────────────┴───────────────┘\n"
      ]
     },
     "metadata": {},
     "output_type": "display_data"
    },
    {
     "data": {
      "text/html": [
       "<pre style=\"white-space:pre;overflow-x:auto;line-height:normal;font-family:Menlo,'DejaVu Sans Mono',consolas,'Courier New',monospace\"><span style=\"font-weight: bold\"> Total params: </span><span style=\"color: #00af00; text-decoration-color: #00af00\">433</span> (1.69 KB)\n",
       "</pre>\n"
      ],
      "text/plain": [
       "\u001b[1m Total params: \u001b[0m\u001b[38;5;34m433\u001b[0m (1.69 KB)\n"
      ]
     },
     "metadata": {},
     "output_type": "display_data"
    },
    {
     "data": {
      "text/html": [
       "<pre style=\"white-space:pre;overflow-x:auto;line-height:normal;font-family:Menlo,'DejaVu Sans Mono',consolas,'Courier New',monospace\"><span style=\"font-weight: bold\"> Trainable params: </span><span style=\"color: #00af00; text-decoration-color: #00af00\">409</span> (1.60 KB)\n",
       "</pre>\n"
      ],
      "text/plain": [
       "\u001b[1m Trainable params: \u001b[0m\u001b[38;5;34m409\u001b[0m (1.60 KB)\n"
      ]
     },
     "metadata": {},
     "output_type": "display_data"
    },
    {
     "data": {
      "text/html": [
       "<pre style=\"white-space:pre;overflow-x:auto;line-height:normal;font-family:Menlo,'DejaVu Sans Mono',consolas,'Courier New',monospace\"><span style=\"font-weight: bold\"> Non-trainable params: </span><span style=\"color: #00af00; text-decoration-color: #00af00\">24</span> (96.00 B)\n",
       "</pre>\n"
      ],
      "text/plain": [
       "\u001b[1m Non-trainable params: \u001b[0m\u001b[38;5;34m24\u001b[0m (96.00 B)\n"
      ]
     },
     "metadata": {},
     "output_type": "display_data"
    }
   ],
   "source": [
    "from keras.callbacks import ModelCheckpoint, EarlyStopping, ReduceLROnPlateau\n",
    "\n",
    "variable_amount = len(X.columns)\n",
    "\n",
    "neural_model_12 = keras.Sequential(\n",
    "    [\n",
    "        layers.BatchNormalization(input_shape=(variable_amount,)),\n",
    "        layers.Dense(16, activation=\"relu\"),\n",
    "        layers.Dense(8, activation=\"relu\"),\n",
    "        layers.Dense(4, activation=\"relu\"),\n",
    "        layers.Dense(1)\n",
    "    ]\n",
    ")\n",
    "\n",
    "neural_model_12.compile(optimizer=\"adam\", loss=\"mse\")\n",
    "\n",
    "neural_model_12.summary()"
   ]
  },
  {
   "cell_type": "markdown",
   "id": "53b42ec0",
   "metadata": {},
   "source": [
    "#### Train the neural network"
   ]
  },
  {
   "cell_type": "code",
   "execution_count": 49,
   "id": "f8bdab26",
   "metadata": {},
   "outputs": [
    {
     "name": "stdout",
     "output_type": "stream",
     "text": [
      "Epoch 1/300\n",
      "\u001b[1m110/110\u001b[0m \u001b[32m━━━━━━━━━━━━━━━━━━━━\u001b[0m\u001b[37m\u001b[0m \u001b[1m1s\u001b[0m 3ms/step - loss: 509267935232.0000 - val_loss: 513182498816.0000\n",
      "Epoch 2/300\n",
      "\u001b[1m110/110\u001b[0m \u001b[32m━━━━━━━━━━━━━━━━━━━━\u001b[0m\u001b[37m\u001b[0m \u001b[1m0s\u001b[0m 2ms/step - loss: 509234905088.0000 - val_loss: 513082327040.0000\n",
      "Epoch 3/300\n",
      "\u001b[1m110/110\u001b[0m \u001b[32m━━━━━━━━━━━━━━━━━━━━\u001b[0m\u001b[37m\u001b[0m \u001b[1m0s\u001b[0m 2ms/step - loss: 508872687616.0000 - val_loss: 512150568960.0000\n",
      "Epoch 4/300\n",
      "\u001b[1m110/110\u001b[0m \u001b[32m━━━━━━━━━━━━━━━━━━━━\u001b[0m\u001b[37m\u001b[0m \u001b[1m0s\u001b[0m 2ms/step - loss: 506587643904.0000 - val_loss: 507478966272.0000\n",
      "Epoch 5/300\n",
      "\u001b[1m110/110\u001b[0m \u001b[32m━━━━━━━━━━━━━━━━━━━━\u001b[0m\u001b[37m\u001b[0m \u001b[1m0s\u001b[0m 2ms/step - loss: 497908285440.0000 - val_loss: 492373966848.0000\n",
      "Epoch 6/300\n",
      "\u001b[1m110/110\u001b[0m \u001b[32m━━━━━━━━━━━━━━━━━━━━\u001b[0m\u001b[37m\u001b[0m \u001b[1m0s\u001b[0m 2ms/step - loss: 474604634112.0000 - val_loss: 457008447488.0000\n",
      "Epoch 7/300\n",
      "\u001b[1m110/110\u001b[0m \u001b[32m━━━━━━━━━━━━━━━━━━━━\u001b[0m\u001b[37m\u001b[0m \u001b[1m0s\u001b[0m 2ms/step - loss: 427000168448.0000 - val_loss: 392099659776.0000\n",
      "Epoch 8/300\n",
      "\u001b[1m110/110\u001b[0m \u001b[32m━━━━━━━━━━━━━━━━━━━━\u001b[0m\u001b[37m\u001b[0m \u001b[1m0s\u001b[0m 2ms/step - loss: 348415885312.0000 - val_loss: 296212004864.0000\n",
      "Epoch 9/300\n",
      "\u001b[1m110/110\u001b[0m \u001b[32m━━━━━━━━━━━━━━━━━━━━\u001b[0m\u001b[37m\u001b[0m \u001b[1m0s\u001b[0m 2ms/step - loss: 244755955712.0000 - val_loss: 184233771008.0000\n",
      "Epoch 10/300\n",
      "\u001b[1m110/110\u001b[0m \u001b[32m━━━━━━━━━━━━━━━━━━━━\u001b[0m\u001b[37m\u001b[0m \u001b[1m0s\u001b[0m 2ms/step - loss: 138842226688.0000 - val_loss: 88698503168.0000\n",
      "Epoch 11/300\n",
      "\u001b[1m110/110\u001b[0m \u001b[32m━━━━━━━━━━━━━━━━━━━━\u001b[0m\u001b[37m\u001b[0m \u001b[1m0s\u001b[0m 2ms/step - loss: 62147936256.0000 - val_loss: 34181971968.0000\n",
      "Epoch 12/300\n",
      "\u001b[1m110/110\u001b[0m \u001b[32m━━━━━━━━━━━━━━━━━━━━\u001b[0m\u001b[37m\u001b[0m \u001b[1m0s\u001b[0m 2ms/step - loss: 25999616000.0000 - val_loss: 15221634048.0000\n",
      "Epoch 13/300\n",
      "\u001b[1m110/110\u001b[0m \u001b[32m━━━━━━━━━━━━━━━━━━━━\u001b[0m\u001b[37m\u001b[0m \u001b[1m0s\u001b[0m 2ms/step - loss: 14343195648.0000 - val_loss: 10310499328.0000\n",
      "Epoch 14/300\n",
      "\u001b[1m110/110\u001b[0m \u001b[32m━━━━━━━━━━━━━━━━━━━━\u001b[0m\u001b[37m\u001b[0m \u001b[1m0s\u001b[0m 2ms/step - loss: 10716813312.0000 - val_loss: 8333348864.0000\n",
      "Epoch 15/300\n",
      "\u001b[1m110/110\u001b[0m \u001b[32m━━━━━━━━━━━━━━━━━━━━\u001b[0m\u001b[37m\u001b[0m \u001b[1m0s\u001b[0m 2ms/step - loss: 9028626432.0000 - val_loss: 7064934400.0000\n",
      "Epoch 16/300\n",
      "\u001b[1m110/110\u001b[0m \u001b[32m━━━━━━━━━━━━━━━━━━━━\u001b[0m\u001b[37m\u001b[0m \u001b[1m0s\u001b[0m 2ms/step - loss: 7790201344.0000 - val_loss: 6116934656.0000\n",
      "Epoch 17/300\n",
      "\u001b[1m110/110\u001b[0m \u001b[32m━━━━━━━━━━━━━━━━━━━━\u001b[0m\u001b[37m\u001b[0m \u001b[1m0s\u001b[0m 2ms/step - loss: 6972169728.0000 - val_loss: 5309233664.0000\n",
      "Epoch 18/300\n",
      "\u001b[1m110/110\u001b[0m \u001b[32m━━━━━━━━━━━━━━━━━━━━\u001b[0m\u001b[37m\u001b[0m \u001b[1m0s\u001b[0m 2ms/step - loss: 5948048384.0000 - val_loss: 4649083904.0000\n",
      "Epoch 19/300\n",
      "\u001b[1m110/110\u001b[0m \u001b[32m━━━━━━━━━━━━━━━━━━━━\u001b[0m\u001b[37m\u001b[0m \u001b[1m0s\u001b[0m 2ms/step - loss: 5612354560.0000 - val_loss: 4110691328.0000\n",
      "Epoch 20/300\n",
      "\u001b[1m110/110\u001b[0m \u001b[32m━━━━━━━━━━━━━━━━━━━━\u001b[0m\u001b[37m\u001b[0m \u001b[1m0s\u001b[0m 2ms/step - loss: 4933985280.0000 - val_loss: 3629810176.0000\n",
      "Epoch 21/300\n",
      "\u001b[1m110/110\u001b[0m \u001b[32m━━━━━━━━━━━━━━━━━━━━\u001b[0m\u001b[37m\u001b[0m \u001b[1m0s\u001b[0m 3ms/step - loss: 4477776384.0000 - val_loss: 3246945280.0000\n",
      "Epoch 22/300\n",
      "\u001b[1m110/110\u001b[0m \u001b[32m━━━━━━━━━━━━━━━━━━━━\u001b[0m\u001b[37m\u001b[0m \u001b[1m0s\u001b[0m 3ms/step - loss: 4354001920.0000 - val_loss: 2862820352.0000\n",
      "Epoch 23/300\n",
      "\u001b[1m110/110\u001b[0m \u001b[32m━━━━━━━━━━━━━━━━━━━━\u001b[0m\u001b[37m\u001b[0m \u001b[1m0s\u001b[0m 2ms/step - loss: 3837671424.0000 - val_loss: 2585349120.0000\n",
      "Epoch 24/300\n",
      "\u001b[1m110/110\u001b[0m \u001b[32m━━━━━━━━━━━━━━━━━━━━\u001b[0m\u001b[37m\u001b[0m \u001b[1m0s\u001b[0m 2ms/step - loss: 3662098688.0000 - val_loss: 2299118592.0000\n",
      "Epoch 25/300\n",
      "\u001b[1m110/110\u001b[0m \u001b[32m━━━━━━━━━━━━━━━━━━━━\u001b[0m\u001b[37m\u001b[0m \u001b[1m0s\u001b[0m 2ms/step - loss: 3580715776.0000 - val_loss: 2056406144.0000\n",
      "Epoch 26/300\n",
      "\u001b[1m110/110\u001b[0m \u001b[32m━━━━━━━━━━━━━━━━━━━━\u001b[0m\u001b[37m\u001b[0m \u001b[1m0s\u001b[0m 2ms/step - loss: 3204250112.0000 - val_loss: 1850162944.0000\n",
      "Epoch 27/300\n",
      "\u001b[1m110/110\u001b[0m \u001b[32m━━━━━━━━━━━━━━━━━━━━\u001b[0m\u001b[37m\u001b[0m \u001b[1m0s\u001b[0m 2ms/step - loss: 3087333376.0000 - val_loss: 1679582464.0000\n",
      "Epoch 28/300\n",
      "\u001b[1m110/110\u001b[0m \u001b[32m━━━━━━━━━━━━━━━━━━━━\u001b[0m\u001b[37m\u001b[0m \u001b[1m0s\u001b[0m 2ms/step - loss: 2726643456.0000 - val_loss: 1536729216.0000\n",
      "Epoch 29/300\n",
      "\u001b[1m110/110\u001b[0m \u001b[32m━━━━━━━━━━━━━━━━━━━━\u001b[0m\u001b[37m\u001b[0m \u001b[1m0s\u001b[0m 2ms/step - loss: 2673676288.0000 - val_loss: 1391900416.0000\n",
      "Epoch 30/300\n",
      "\u001b[1m110/110\u001b[0m \u001b[32m━━━━━━━━━━━━━━━━━━━━\u001b[0m\u001b[37m\u001b[0m \u001b[1m0s\u001b[0m 2ms/step - loss: 2569749504.0000 - val_loss: 1260130944.0000\n",
      "Epoch 31/300\n",
      "\u001b[1m110/110\u001b[0m \u001b[32m━━━━━━━━━━━━━━━━━━━━\u001b[0m\u001b[37m\u001b[0m \u001b[1m0s\u001b[0m 2ms/step - loss: 2252312064.0000 - val_loss: 1153547904.0000\n",
      "Epoch 32/300\n",
      "\u001b[1m110/110\u001b[0m \u001b[32m━━━━━━━━━━━━━━━━━━━━\u001b[0m\u001b[37m\u001b[0m \u001b[1m0s\u001b[0m 2ms/step - loss: 2346362368.0000 - val_loss: 1067023104.0000\n",
      "Epoch 33/300\n",
      "\u001b[1m110/110\u001b[0m \u001b[32m━━━━━━━━━━━━━━━━━━━━\u001b[0m\u001b[37m\u001b[0m \u001b[1m0s\u001b[0m 2ms/step - loss: 2146147072.0000 - val_loss: 975044352.0000\n",
      "Epoch 34/300\n",
      "\u001b[1m110/110\u001b[0m \u001b[32m━━━━━━━━━━━━━━━━━━━━\u001b[0m\u001b[37m\u001b[0m \u001b[1m0s\u001b[0m 2ms/step - loss: 1991478912.0000 - val_loss: 906974720.0000\n",
      "Epoch 35/300\n",
      "\u001b[1m110/110\u001b[0m \u001b[32m━━━━━━━━━━━━━━━━━━━━\u001b[0m\u001b[37m\u001b[0m \u001b[1m0s\u001b[0m 2ms/step - loss: 2112660096.0000 - val_loss: 827222592.0000\n",
      "Epoch 36/300\n",
      "\u001b[1m110/110\u001b[0m \u001b[32m━━━━━━━━━━━━━━━━━━━━\u001b[0m\u001b[37m\u001b[0m \u001b[1m0s\u001b[0m 2ms/step - loss: 1941992320.0000 - val_loss: 780859264.0000\n",
      "Epoch 37/300\n",
      "\u001b[1m110/110\u001b[0m \u001b[32m━━━━━━━━━━━━━━━━━━━━\u001b[0m\u001b[37m\u001b[0m \u001b[1m0s\u001b[0m 2ms/step - loss: 1934838912.0000 - val_loss: 726175296.0000\n",
      "Epoch 38/300\n",
      "\u001b[1m110/110\u001b[0m \u001b[32m━━━━━━━━━━━━━━━━━━━━\u001b[0m\u001b[37m\u001b[0m \u001b[1m0s\u001b[0m 2ms/step - loss: 1947577728.0000 - val_loss: 673142784.0000\n",
      "Epoch 39/300\n",
      "\u001b[1m110/110\u001b[0m \u001b[32m━━━━━━━━━━━━━━━━━━━━\u001b[0m\u001b[37m\u001b[0m \u001b[1m0s\u001b[0m 2ms/step - loss: 1915307264.0000 - val_loss: 647464384.0000\n",
      "Epoch 40/300\n",
      "\u001b[1m110/110\u001b[0m \u001b[32m━━━━━━━━━━━━━━━━━━━━\u001b[0m\u001b[37m\u001b[0m \u001b[1m0s\u001b[0m 2ms/step - loss: 2190212608.0000 - val_loss: 605697216.0000\n",
      "Epoch 41/300\n",
      "\u001b[1m110/110\u001b[0m \u001b[32m━━━━━━━━━━━━━━━━━━━━\u001b[0m\u001b[37m\u001b[0m \u001b[1m0s\u001b[0m 2ms/step - loss: 1776583424.0000 - val_loss: 579237376.0000\n",
      "Epoch 42/300\n",
      "\u001b[1m110/110\u001b[0m \u001b[32m━━━━━━━━━━━━━━━━━━━━\u001b[0m\u001b[37m\u001b[0m \u001b[1m0s\u001b[0m 2ms/step - loss: 1891392000.0000 - val_loss: 555379776.0000\n",
      "Epoch 43/300\n",
      "\u001b[1m110/110\u001b[0m \u001b[32m━━━━━━━━━━━━━━━━━━━━\u001b[0m\u001b[37m\u001b[0m \u001b[1m0s\u001b[0m 2ms/step - loss: 1817945728.0000 - val_loss: 536703168.0000\n",
      "Epoch 44/300\n",
      "\u001b[1m110/110\u001b[0m \u001b[32m━━━━━━━━━━━━━━━━━━━━\u001b[0m\u001b[37m\u001b[0m \u001b[1m0s\u001b[0m 2ms/step - loss: 1814347776.0000 - val_loss: 531969920.0000\n",
      "Epoch 45/300\n",
      "\u001b[1m110/110\u001b[0m \u001b[32m━━━━━━━━━━━━━━━━━━━━\u001b[0m\u001b[37m\u001b[0m \u001b[1m0s\u001b[0m 2ms/step - loss: 2065510144.0000 - val_loss: 538200000.0000\n",
      "Epoch 46/300\n",
      "\u001b[1m110/110\u001b[0m \u001b[32m━━━━━━━━━━━━━━━━━━━━\u001b[0m\u001b[37m\u001b[0m \u001b[1m0s\u001b[0m 2ms/step - loss: 1859909760.0000 - val_loss: 497298016.0000\n",
      "Epoch 47/300\n",
      "\u001b[1m110/110\u001b[0m \u001b[32m━━━━━━━━━━━━━━━━━━━━\u001b[0m\u001b[37m\u001b[0m \u001b[1m0s\u001b[0m 2ms/step - loss: 1840656128.0000 - val_loss: 490261024.0000\n",
      "Epoch 48/300\n",
      "\u001b[1m110/110\u001b[0m \u001b[32m━━━━━━━━━━━━━━━━━━━━\u001b[0m\u001b[37m\u001b[0m \u001b[1m0s\u001b[0m 2ms/step - loss: 1717946752.0000 - val_loss: 471280896.0000\n",
      "Epoch 49/300\n",
      "\u001b[1m110/110\u001b[0m \u001b[32m━━━━━━━━━━━━━━━━━━━━\u001b[0m\u001b[37m\u001b[0m \u001b[1m0s\u001b[0m 2ms/step - loss: 1897739008.0000 - val_loss: 480526848.0000\n",
      "Epoch 50/300\n",
      "\u001b[1m110/110\u001b[0m \u001b[32m━━━━━━━━━━━━━━━━━━━━\u001b[0m\u001b[37m\u001b[0m \u001b[1m0s\u001b[0m 2ms/step - loss: 1982837632.0000 - val_loss: 456681536.0000\n",
      "Epoch 51/300\n",
      "\u001b[1m110/110\u001b[0m \u001b[32m━━━━━━━━━━━━━━━━━━━━\u001b[0m\u001b[37m\u001b[0m \u001b[1m0s\u001b[0m 2ms/step - loss: 1785558528.0000 - val_loss: 453429088.0000\n",
      "Epoch 52/300\n",
      "\u001b[1m110/110\u001b[0m \u001b[32m━━━━━━━━━━━━━━━━━━━━\u001b[0m\u001b[37m\u001b[0m \u001b[1m0s\u001b[0m 2ms/step - loss: 2089853312.0000 - val_loss: 449636608.0000\n",
      "Epoch 53/300\n",
      "\u001b[1m110/110\u001b[0m \u001b[32m━━━━━━━━━━━━━━━━━━━━\u001b[0m\u001b[37m\u001b[0m \u001b[1m0s\u001b[0m 2ms/step - loss: 1877965440.0000 - val_loss: 449473152.0000\n",
      "Epoch 54/300\n",
      "\u001b[1m110/110\u001b[0m \u001b[32m━━━━━━━━━━━━━━━━━━━━\u001b[0m\u001b[37m\u001b[0m \u001b[1m0s\u001b[0m 2ms/step - loss: 1910288384.0000 - val_loss: 440090752.0000\n",
      "Epoch 55/300\n",
      "\u001b[1m110/110\u001b[0m \u001b[32m━━━━━━━━━━━━━━━━━━━━\u001b[0m\u001b[37m\u001b[0m \u001b[1m0s\u001b[0m 2ms/step - loss: 1813249280.0000 - val_loss: 444615808.0000\n",
      "Epoch 56/300\n",
      "\u001b[1m110/110\u001b[0m \u001b[32m━━━━━━━━━━━━━━━━━━━━\u001b[0m\u001b[37m\u001b[0m \u001b[1m0s\u001b[0m 2ms/step - loss: 1620456192.0000 - val_loss: 435649216.0000\n",
      "Epoch 57/300\n",
      "\u001b[1m110/110\u001b[0m \u001b[32m━━━━━━━━━━━━━━━━━━━━\u001b[0m\u001b[37m\u001b[0m \u001b[1m0s\u001b[0m 2ms/step - loss: 1573178240.0000 - val_loss: 432336704.0000\n",
      "Epoch 58/300\n",
      "\u001b[1m110/110\u001b[0m \u001b[32m━━━━━━━━━━━━━━━━━━━━\u001b[0m\u001b[37m\u001b[0m \u001b[1m0s\u001b[0m 2ms/step - loss: 1887946112.0000 - val_loss: 430035232.0000\n",
      "Epoch 59/300\n",
      "\u001b[1m110/110\u001b[0m \u001b[32m━━━━━━━━━━━━━━━━━━━━\u001b[0m\u001b[37m\u001b[0m \u001b[1m0s\u001b[0m 2ms/step - loss: 1637001984.0000 - val_loss: 438778944.0000\n",
      "Epoch 60/300\n",
      "\u001b[1m110/110\u001b[0m \u001b[32m━━━━━━━━━━━━━━━━━━━━\u001b[0m\u001b[37m\u001b[0m \u001b[1m0s\u001b[0m 2ms/step - loss: 1899326848.0000 - val_loss: 432338272.0000\n",
      "Epoch 61/300\n",
      "\u001b[1m110/110\u001b[0m \u001b[32m━━━━━━━━━━━━━━━━━━━━\u001b[0m\u001b[37m\u001b[0m \u001b[1m0s\u001b[0m 2ms/step - loss: 1863966848.0000 - val_loss: 428407040.0000\n",
      "Epoch 62/300\n",
      "\u001b[1m110/110\u001b[0m \u001b[32m━━━━━━━━━━━━━━━━━━━━\u001b[0m\u001b[37m\u001b[0m \u001b[1m0s\u001b[0m 2ms/step - loss: 1964057344.0000 - val_loss: 426885248.0000\n",
      "Epoch 63/300\n",
      "\u001b[1m110/110\u001b[0m \u001b[32m━━━━━━━━━━━━━━━━━━━━\u001b[0m\u001b[37m\u001b[0m \u001b[1m0s\u001b[0m 2ms/step - loss: 1874003328.0000 - val_loss: 432837760.0000\n",
      "Epoch 64/300\n",
      "\u001b[1m110/110\u001b[0m \u001b[32m━━━━━━━━━━━━━━━━━━━━\u001b[0m\u001b[37m\u001b[0m \u001b[1m0s\u001b[0m 2ms/step - loss: 1784527744.0000 - val_loss: 429374272.0000\n",
      "Epoch 65/300\n",
      "\u001b[1m110/110\u001b[0m \u001b[32m━━━━━━━━━━━━━━━━━━━━\u001b[0m\u001b[37m\u001b[0m \u001b[1m0s\u001b[0m 2ms/step - loss: 1637501184.0000 - val_loss: 448439904.0000\n",
      "Epoch 66/300\n",
      "\u001b[1m110/110\u001b[0m \u001b[32m━━━━━━━━━━━━━━━━━━━━\u001b[0m\u001b[37m\u001b[0m \u001b[1m0s\u001b[0m 2ms/step - loss: 1714472960.0000 - val_loss: 425206080.0000\n",
      "Epoch 67/300\n",
      "\u001b[1m110/110\u001b[0m \u001b[32m━━━━━━━━━━━━━━━━━━━━\u001b[0m\u001b[37m\u001b[0m \u001b[1m0s\u001b[0m 2ms/step - loss: 1789540864.0000 - val_loss: 430455072.0000\n",
      "Epoch 68/300\n",
      "\u001b[1m110/110\u001b[0m \u001b[32m━━━━━━━━━━━━━━━━━━━━\u001b[0m\u001b[37m\u001b[0m \u001b[1m0s\u001b[0m 2ms/step - loss: 1824928640.0000 - val_loss: 432731328.0000\n",
      "Epoch 69/300\n",
      "\u001b[1m110/110\u001b[0m \u001b[32m━━━━━━━━━━━━━━━━━━━━\u001b[0m\u001b[37m\u001b[0m \u001b[1m0s\u001b[0m 2ms/step - loss: 1887207040.0000 - val_loss: 433264992.0000\n",
      "Epoch 70/300\n",
      "\u001b[1m110/110\u001b[0m \u001b[32m━━━━━━━━━━━━━━━━━━━━\u001b[0m\u001b[37m\u001b[0m \u001b[1m0s\u001b[0m 2ms/step - loss: 1938114048.0000 - val_loss: 427912544.0000\n",
      "Epoch 71/300\n",
      "\u001b[1m110/110\u001b[0m \u001b[32m━━━━━━━━━━━━━━━━━━━━\u001b[0m\u001b[37m\u001b[0m \u001b[1m0s\u001b[0m 2ms/step - loss: 1686601728.0000 - val_loss: 425296480.0000\n",
      "Epoch 72/300\n",
      "\u001b[1m110/110\u001b[0m \u001b[32m━━━━━━━━━━━━━━━━━━━━\u001b[0m\u001b[37m\u001b[0m \u001b[1m0s\u001b[0m 2ms/step - loss: 1737044480.0000 - val_loss: 423201600.0000\n",
      "Epoch 73/300\n",
      "\u001b[1m110/110\u001b[0m \u001b[32m━━━━━━━━━━━━━━━━━━━━\u001b[0m\u001b[37m\u001b[0m \u001b[1m0s\u001b[0m 2ms/step - loss: 2009236992.0000 - val_loss: 427335584.0000\n",
      "Epoch 74/300\n",
      "\u001b[1m110/110\u001b[0m \u001b[32m━━━━━━━━━━━━━━━━━━━━\u001b[0m\u001b[37m\u001b[0m \u001b[1m0s\u001b[0m 2ms/step - loss: 1728040832.0000 - val_loss: 425109888.0000\n",
      "Epoch 75/300\n",
      "\u001b[1m110/110\u001b[0m \u001b[32m━━━━━━━━━━━━━━━━━━━━\u001b[0m\u001b[37m\u001b[0m \u001b[1m0s\u001b[0m 2ms/step - loss: 1555939328.0000 - val_loss: 444673824.0000\n",
      "Epoch 76/300\n",
      "\u001b[1m110/110\u001b[0m \u001b[32m━━━━━━━━━━━━━━━━━━━━\u001b[0m\u001b[37m\u001b[0m \u001b[1m0s\u001b[0m 2ms/step - loss: 1954379264.0000 - val_loss: 425546304.0000\n",
      "Epoch 77/300\n",
      "\u001b[1m110/110\u001b[0m \u001b[32m━━━━━━━━━━━━━━━━━━━━\u001b[0m\u001b[37m\u001b[0m \u001b[1m0s\u001b[0m 2ms/step - loss: 1837791488.0000 - val_loss: 482822752.0000\n",
      "Epoch 78/300\n",
      "\u001b[1m110/110\u001b[0m \u001b[32m━━━━━━━━━━━━━━━━━━━━\u001b[0m\u001b[37m\u001b[0m \u001b[1m0s\u001b[0m 2ms/step - loss: 1753575552.0000 - val_loss: 421660864.0000\n",
      "Epoch 79/300\n",
      "\u001b[1m110/110\u001b[0m \u001b[32m━━━━━━━━━━━━━━━━━━━━\u001b[0m\u001b[37m\u001b[0m \u001b[1m0s\u001b[0m 2ms/step - loss: 1728099712.0000 - val_loss: 435205312.0000\n",
      "Epoch 80/300\n",
      "\u001b[1m110/110\u001b[0m \u001b[32m━━━━━━━━━━━━━━━━━━━━\u001b[0m\u001b[37m\u001b[0m \u001b[1m0s\u001b[0m 2ms/step - loss: 1930867072.0000 - val_loss: 425940576.0000\n",
      "Epoch 81/300\n",
      "\u001b[1m110/110\u001b[0m \u001b[32m━━━━━━━━━━━━━━━━━━━━\u001b[0m\u001b[37m\u001b[0m \u001b[1m0s\u001b[0m 2ms/step - loss: 1507207424.0000 - val_loss: 423837312.0000\n",
      "Epoch 82/300\n",
      "\u001b[1m110/110\u001b[0m \u001b[32m━━━━━━━━━━━━━━━━━━━━\u001b[0m\u001b[37m\u001b[0m \u001b[1m0s\u001b[0m 2ms/step - loss: 1858268416.0000 - val_loss: 425188992.0000\n",
      "Epoch 83/300\n",
      "\u001b[1m110/110\u001b[0m \u001b[32m━━━━━━━━━━━━━━━━━━━━\u001b[0m\u001b[37m\u001b[0m \u001b[1m0s\u001b[0m 2ms/step - loss: 1725186944.0000 - val_loss: 423558208.0000\n",
      "Epoch 84/300\n",
      "\u001b[1m110/110\u001b[0m \u001b[32m━━━━━━━━━━━━━━━━━━━━\u001b[0m\u001b[37m\u001b[0m \u001b[1m0s\u001b[0m 2ms/step - loss: 1903868160.0000 - val_loss: 423175008.0000\n",
      "Epoch 85/300\n",
      "\u001b[1m110/110\u001b[0m \u001b[32m━━━━━━━━━━━━━━━━━━━━\u001b[0m\u001b[37m\u001b[0m \u001b[1m0s\u001b[0m 2ms/step - loss: 2015281280.0000 - val_loss: 438202176.0000\n",
      "Epoch 86/300\n",
      "\u001b[1m110/110\u001b[0m \u001b[32m━━━━━━━━━━━━━━━━━━━━\u001b[0m\u001b[37m\u001b[0m \u001b[1m0s\u001b[0m 2ms/step - loss: 1994579456.0000 - val_loss: 428517408.0000\n",
      "Epoch 87/300\n",
      "\u001b[1m110/110\u001b[0m \u001b[32m━━━━━━━━━━━━━━━━━━━━\u001b[0m\u001b[37m\u001b[0m \u001b[1m0s\u001b[0m 2ms/step - loss: 1673578368.0000 - val_loss: 425424096.0000\n",
      "Epoch 88/300\n",
      "\u001b[1m110/110\u001b[0m \u001b[32m━━━━━━━━━━━━━━━━━━━━\u001b[0m\u001b[37m\u001b[0m \u001b[1m0s\u001b[0m 2ms/step - loss: 1666337536.0000 - val_loss: 422725888.0000\n",
      "Epoch 89/300\n",
      "\u001b[1m110/110\u001b[0m \u001b[32m━━━━━━━━━━━━━━━━━━━━\u001b[0m\u001b[37m\u001b[0m \u001b[1m0s\u001b[0m 2ms/step - loss: 1998275840.0000 - val_loss: 427775744.0000\n",
      "Epoch 90/300\n",
      "\u001b[1m110/110\u001b[0m \u001b[32m━━━━━━━━━━━━━━━━━━━━\u001b[0m\u001b[37m\u001b[0m \u001b[1m0s\u001b[0m 2ms/step - loss: 1716551168.0000 - val_loss: 422292480.0000\n",
      "Epoch 91/300\n",
      "\u001b[1m110/110\u001b[0m \u001b[32m━━━━━━━━━━━━━━━━━━━━\u001b[0m\u001b[37m\u001b[0m \u001b[1m0s\u001b[0m 2ms/step - loss: 1644899072.0000 - val_loss: 428836224.0000\n",
      "Epoch 92/300\n",
      "\u001b[1m110/110\u001b[0m \u001b[32m━━━━━━━━━━━━━━━━━━━━\u001b[0m\u001b[37m\u001b[0m \u001b[1m0s\u001b[0m 2ms/step - loss: 1748385152.0000 - val_loss: 422329184.0000\n",
      "Epoch 93/300\n",
      "\u001b[1m110/110\u001b[0m \u001b[32m━━━━━━━━━━━━━━━━━━━━\u001b[0m\u001b[37m\u001b[0m \u001b[1m0s\u001b[0m 2ms/step - loss: 1638102144.0000 - val_loss: 425931488.0000\n",
      "Epoch 94/300\n",
      "\u001b[1m110/110\u001b[0m \u001b[32m━━━━━━━━━━━━━━━━━━━━\u001b[0m\u001b[37m\u001b[0m \u001b[1m0s\u001b[0m 2ms/step - loss: 1681427584.0000 - val_loss: 424343584.0000\n",
      "Epoch 95/300\n",
      "\u001b[1m110/110\u001b[0m \u001b[32m━━━━━━━━━━━━━━━━━━━━\u001b[0m\u001b[37m\u001b[0m \u001b[1m0s\u001b[0m 2ms/step - loss: 1937089536.0000 - val_loss: 422626560.0000\n",
      "Epoch 96/300\n",
      "\u001b[1m110/110\u001b[0m \u001b[32m━━━━━━━━━━━━━━━━━━━━\u001b[0m\u001b[37m\u001b[0m \u001b[1m0s\u001b[0m 2ms/step - loss: 1691641472.0000 - val_loss: 423100160.0000\n",
      "Epoch 97/300\n",
      "\u001b[1m110/110\u001b[0m \u001b[32m━━━━━━━━━━━━━━━━━━━━\u001b[0m\u001b[37m\u001b[0m \u001b[1m0s\u001b[0m 2ms/step - loss: 1809207040.0000 - val_loss: 422311104.0000\n",
      "Epoch 98/300\n",
      "\u001b[1m110/110\u001b[0m \u001b[32m━━━━━━━━━━━━━━━━━━━━\u001b[0m\u001b[37m\u001b[0m \u001b[1m0s\u001b[0m 2ms/step - loss: 1668760960.0000 - val_loss: 431142176.0000\n"
     ]
    }
   ],
   "source": [
    "from tensorflow.keras.callbacks import EarlyStopping\n",
    "\n",
    "early_stop = EarlyStopping(\n",
    "    monitor=\"val_loss\",  \n",
    "    patience=20,         \n",
    "    restore_best_weights=True\n",
    ")\n",
    "\n",
    "mc2 = ModelCheckpoint(\n",
    "    'best_model_small_dataset_extended-regression.keras',\n",
    "    monitor='val_loss',\n",
    "    mode='min',\n",
    "    save_best_only=True\n",
    ")\n",
    "\n",
    "callback_list = [early_stop, mc2]\n",
    "\n",
    "history = neural_model_12.fit(\n",
    "    x=X_train, y=y_train,\n",
    "    epochs=300,\n",
    "    validation_data=(X_val, y_val),\n",
    "    callbacks=callback_list,\n",
    "    verbose=1\n",
    ")\n"
   ]
  },
  {
   "cell_type": "markdown",
   "id": "3af633fb",
   "metadata": {},
   "source": [
    "#### Performance and Error Metrics"
   ]
  },
  {
   "cell_type": "code",
   "execution_count": 50,
   "id": "8d42b430",
   "metadata": {},
   "outputs": [
    {
     "data": {
      "image/png": "[encoded data removed]",
      "text/plain": [
       "<Figure size 800x500 with 1 Axes>"
      ]
     },
     "metadata": {},
     "output_type": "display_data"
    }
   ],
   "source": [
    "loss_df2 = pd.DataFrame(neural_model_12.history.history)\n",
    "loss_df2.plot(figsize=(8,5))\n",
    "plt.title(\"Training vs Validation Loss\")\n",
    "plt.xlabel(\"Epochs\")\n",
    "plt.ylabel(\"MSE Loss\")\n",
    "plt.grid(True)\n",
    "plt.show()"
   ]
  },
  {
   "cell_type": "markdown",
   "id": "789f6618",
   "metadata": {},
   "source": [
    "This graph shows that both training and validation loss quickly dropped within the first few epochs and then stabilized at nearly zero. Compared to the earlier run, the model learned much faster and more consistently, which suggests an improvement in data quality."
   ]
  },
  {
   "cell_type": "markdown",
   "id": "9bc2d9c6",
   "metadata": {},
   "source": [
    "#### Reload the best version of the model from history"
   ]
  },
  {
   "cell_type": "code",
   "execution_count": 51,
   "id": "ef214331",
   "metadata": {},
   "outputs": [],
   "source": [
    "best_trained_model2 = load_model(\"best_model_small_dataset_extended-regression.keras\")"
   ]
  },
  {
   "cell_type": "markdown",
   "id": "258ac1d4",
   "metadata": {},
   "source": [
    "#### Trying the model and predict the price with new house data"
   ]
  },
  {
   "cell_type": "code",
   "execution_count": 52,
   "id": "bb7fb16b",
   "metadata": {},
   "outputs": [
    {
     "name": "stdout",
     "output_type": "stream",
     "text": [
      "Test data evaluation\n",
      "383976064.0\n",
      "\n",
      "Train data evaluation:\n",
      "392144256.0\n"
     ]
    }
   ],
   "source": [
    "print(\"Test data evaluation\")\n",
    "print(best_trained_model2.evaluate(X_test, y_test, verbose=0))\n",
    "print(\"\\nTrain data evaluation:\")\n",
    "print(best_trained_model2.evaluate(X_train, y_train, verbose=0))"
   ]
  },
  {
   "cell_type": "markdown",
   "id": "dbdc9df8",
   "metadata": {},
   "source": [
    "This evaluation shows that the error for both training and test data is much lower than before. It suggests the model now generalizes better and performs more consistently on unseen data."
   ]
  },
  {
   "cell_type": "code",
   "execution_count": 53,
   "id": "723e48d8",
   "metadata": {},
   "outputs": [
    {
     "name": "stdout",
     "output_type": "stream",
     "text": [
      "\u001b[1m24/24\u001b[0m \u001b[32m━━━━━━━━━━━━━━━━━━━━\u001b[0m\u001b[37m\u001b[0m \u001b[1m0s\u001b[0m 3ms/step\n"
     ]
    },
    {
     "data": {
      "application/vnd.microsoft.datawrangler.viewer.v0+json": {
       "columns": [
        {
         "name": "index",
         "rawType": "int64",
         "type": "integer"
        },
        {
         "name": "Test True Y",
         "rawType": "int64",
         "type": "integer"
        },
        {
         "name": "Model Predictions",
         "rawType": "float32",
         "type": "float"
        }
       ],
       "ref": "0dd3ef7a-22a4-4898-b140-e1ee7a8cd49a",
       "rows": [
        [
         "0",
         "612860",
         "600611.6"
        ],
        [
         "1",
         "688215",
         "688473.7"
        ],
        [
         "2",
         "509572",
         "549129.3"
        ],
        [
         "3",
         "370773",
         "353310.47"
        ],
        [
         "4",
         "878468",
         "864826.56"
        ],
        [
         "5",
         "682246",
         "699546.4"
        ],
        [
         "6",
         "517748",
         "504499.78"
        ],
        [
         "7",
         "571543",
         "572912.2"
        ],
        [
         "8",
         "587522",
         "609808.44"
        ],
        [
         "9",
         "476000",
         "440349.44"
        ],
        [
         "10",
         "688136",
         "685725.75"
        ],
        [
         "11",
         "501348",
         "533878.75"
        ],
        [
         "12",
         "539170",
         "504993.12"
        ],
        [
         "13",
         "479089",
         "491615.66"
        ],
        [
         "14",
         "583697",
         "588543.2"
        ],
        [
         "15",
         "700544",
         "717825.8"
        ],
        [
         "16",
         "892509",
         "918925.6"
        ],
        [
         "17",
         "643700",
         "676102.3"
        ],
        [
         "18",
         "673171",
         "660451.0"
        ],
        [
         "19",
         "1012698",
         "1.0222601e+06"
        ],
        [
         "20",
         "810906",
         "785642.06"
        ],
        [
         "21",
         "997679",
         "1.01102606e+06"
        ],
        [
         "22",
         "426324",
         "413735.28"
        ],
        [
         "23",
         "679150",
         "677034.8"
        ],
        [
         "24",
         "819504",
         "807626.5"
        ],
        [
         "25",
         "503111",
         "527568.44"
        ],
        [
         "26",
         "616658",
         "574507.44"
        ],
        [
         "27",
         "1166415",
         "1.146942e+06"
        ],
        [
         "28",
         "766904",
         "752715.25"
        ],
        [
         "29",
         "462073",
         "469401.56"
        ],
        [
         "30",
         "178097",
         "199156.61"
        ],
        [
         "31",
         "572359",
         "536010.2"
        ],
        [
         "32",
         "528113",
         "562758.25"
        ],
        [
         "33",
         "1181302",
         "1.1574232e+06"
        ],
        [
         "34",
         "930576",
         "930245.9"
        ],
        [
         "35",
         "395071",
         "395953.75"
        ],
        [
         "36",
         "476224",
         "480523.72"
        ],
        [
         "37",
         "934985",
         "940688.7"
        ],
        [
         "38",
         "582093",
         "558102.5"
        ],
        [
         "39",
         "561007",
         "564428.8"
        ],
        [
         "40",
         "859406",
         "865482.2"
        ],
        [
         "41",
         "585002",
         "604141.56"
        ],
        [
         "42",
         "458119",
         "472148.47"
        ],
        [
         "43",
         "830051",
         "826579.44"
        ],
        [
         "44",
         "1072198",
         "1.06398e+06"
        ],
        [
         "45",
         "709155",
         "703116.06"
        ],
        [
         "46",
         "717189",
         "733220.25"
        ],
        [
         "47",
         "695791",
         "690139.8"
        ],
        [
         "48",
         "432106",
         "424503.62"
        ],
        [
         "49",
         "367677",
         "350732.28"
        ]
       ],
       "shape": {
        "columns": 2,
        "rows": 750
       }
      },
      "text/html": [
       "<div>\n",
       "<style scoped>\n",
       "    .dataframe tbody tr th:only-of-type {\n",
       "        vertical-align: middle;\n",
       "    }\n",
       "\n",
       "    .dataframe tbody tr th {\n",
       "        vertical-align: top;\n",
       "    }\n",
       "\n",
       "    .dataframe thead th {\n",
       "        text-align: right;\n",
       "    }\n",
       "</style>\n",
       "<table border=\"1\" class=\"dataframe\">\n",
       "  <thead>\n",
       "    <tr style=\"text-align: right;\">\n",
       "      <th></th>\n",
       "      <th>Test True Y</th>\n",
       "      <th>Model Predictions</th>\n",
       "    </tr>\n",
       "  </thead>\n",
       "  <tbody>\n",
       "    <tr>\n",
       "      <th>0</th>\n",
       "      <td>612860</td>\n",
       "      <td>600611.62500</td>\n",
       "    </tr>\n",
       "    <tr>\n",
       "      <th>1</th>\n",
       "      <td>688215</td>\n",
       "      <td>688473.68750</td>\n",
       "    </tr>\n",
       "    <tr>\n",
       "      <th>2</th>\n",
       "      <td>509572</td>\n",
       "      <td>549129.31250</td>\n",
       "    </tr>\n",
       "    <tr>\n",
       "      <th>3</th>\n",
       "      <td>370773</td>\n",
       "      <td>353310.46875</td>\n",
       "    </tr>\n",
       "    <tr>\n",
       "      <th>4</th>\n",
       "      <td>878468</td>\n",
       "      <td>864826.56250</td>\n",
       "    </tr>\n",
       "    <tr>\n",
       "      <th>...</th>\n",
       "      <td>...</td>\n",
       "      <td>...</td>\n",
       "    </tr>\n",
       "    <tr>\n",
       "      <th>745</th>\n",
       "      <td>613386</td>\n",
       "      <td>588377.81250</td>\n",
       "    </tr>\n",
       "    <tr>\n",
       "      <th>746</th>\n",
       "      <td>443678</td>\n",
       "      <td>445060.56250</td>\n",
       "    </tr>\n",
       "    <tr>\n",
       "      <th>747</th>\n",
       "      <td>755176</td>\n",
       "      <td>784359.56250</td>\n",
       "    </tr>\n",
       "    <tr>\n",
       "      <th>748</th>\n",
       "      <td>404655</td>\n",
       "      <td>422559.09375</td>\n",
       "    </tr>\n",
       "    <tr>\n",
       "      <th>749</th>\n",
       "      <td>799445</td>\n",
       "      <td>798395.25000</td>\n",
       "    </tr>\n",
       "  </tbody>\n",
       "</table>\n",
       "<p>750 rows × 2 columns</p>\n",
       "</div>"
      ],
      "text/plain": [
       "     Test True Y  Model Predictions\n",
       "0         612860       600611.62500\n",
       "1         688215       688473.68750\n",
       "2         509572       549129.31250\n",
       "3         370773       353310.46875\n",
       "4         878468       864826.56250\n",
       "..           ...                ...\n",
       "745       613386       588377.81250\n",
       "746       443678       445060.56250\n",
       "747       755176       784359.56250\n",
       "748       404655       422559.09375\n",
       "749       799445       798395.25000\n",
       "\n",
       "[750 rows x 2 columns]"
      ]
     },
     "execution_count": 53,
     "metadata": {},
     "output_type": "execute_result"
    }
   ],
   "source": [
    "import seaborn as sns\n",
    "\n",
    "test_predictions2 = best_trained_model2.predict(X_test)\n",
    "test_predictions2 = pd.Series(test_predictions2.reshape(len(y_test),))\n",
    "\n",
    "pred_df2 = pd.DataFrame(pd.DataFrame(np.asarray(y_test), columns=[\"Test True Y\"]))\n",
    "pred_df2 = pd.concat([pred_df2, test_predictions2], axis = 1)\n",
    "pred_df2.columns = [\"Test True Y\", \"Model Predictions\"]\n",
    "\n",
    "pred_df2"
   ]
  },
  {
   "cell_type": "code",
   "execution_count": 54,
   "id": "d585e9c9",
   "metadata": {},
   "outputs": [
    {
     "data": {
      "image/png": "[encoded data removed]",
      "text/plain": [
       "<Figure size 600x600 with 1 Axes>"
      ]
     },
     "metadata": {},
     "output_type": "display_data"
    }
   ],
   "source": [
    "plt.figure(figsize=(6,6))\n",
    "sns.scatterplot(x=\"Test True Y\", y=\"Model Predictions\", data=pred_df2)\n",
    "\n",
    "min_val = min(pred_df2[\"Test True Y\"].min(), pred_df2[\"Model Predictions\"].min())\n",
    "max_val = max(pred_df2[\"Test True Y\"].max(), pred_df2[\"Model Predictions\"].max())\n",
    "plt.plot([min_val, max_val], [min_val, max_val], \"r--\")\n",
    "\n",
    "plt.title(\"True vs Predicted House Prices\")\n",
    "plt.xlabel(\"Test True Y\")\n",
    "plt.ylabel(\"Model Predictions\")\n",
    "plt.show()"
   ]
  },
  {
   "cell_type": "markdown",
   "id": "02d653ec",
   "metadata": {},
   "source": [
    "This scatterplot shows that the predicted house prices align very closely with the true values. The points almost follow the red diagonal line, which means the model is making accurate predictions."
   ]
  },
  {
   "cell_type": "code",
   "execution_count": 55,
   "id": "1b435f8b",
   "metadata": {},
   "outputs": [
    {
     "name": "stdout",
     "output_type": "stream",
     "text": [
      "MAE\n",
      "15727.98 $\n",
      "\n",
      "MSE\n",
      "383976064.0 $^2\n",
      "\n",
      "RMSE:\n",
      "19595.31 $\n",
      "\n",
      "R-squared:\n",
      "0.99\n",
      "\n",
      "Explained variance score:\n",
      "0.99\n"
     ]
    }
   ],
   "source": [
    "print(\"MAE\")\n",
    "print(round(metrics.mean_absolute_error(y_test, test_predictions2), 2), \"$\")\n",
    "\n",
    "print(\"\\nMSE\")\n",
    "print(round(metrics.mean_squared_error(y_test, test_predictions2), 2), \"$^2\")\n",
    "\n",
    "print('\\nRMSE:')\n",
    "print(round(np.sqrt(metrics.mean_squared_error(y_test, test_predictions2)), 2), \"$\")\n",
    "\n",
    "print('\\nR-squared:')\n",
    "print(round(metrics.r2_score(y_test, test_predictions2), 2))\n",
    "\n",
    "print(\"\\nExplained variance score:\")\n",
    "print(round(metrics.explained_variance_score(y_test, test_predictions2), 2))"
   ]
  },
  {
   "cell_type": "markdown",
   "id": "8f963fcf",
   "metadata": {},
   "source": [
    "These evaluation metrics show excellent model performance: the MAE and RMSE are low, while R² and explained variance score are very close to 1. This means the model predicts house prices with very high accuracy."
   ]
  },
  {
   "cell_type": "code",
   "execution_count": 56,
   "id": "158ba301",
   "metadata": {},
   "outputs": [
    {
     "name": "stderr",
     "output_type": "stream",
     "text": [
      "C:\\Users\\Timothy\\AppData\\Local\\Temp\\ipykernel_19024\\1068473982.py:1: UserWarning: \n",
      "\n",
      "`distplot` is a deprecated function and will be removed in seaborn v0.14.0.\n",
      "\n",
      "Please adapt your code to use either `displot` (a figure-level function with\n",
      "similar flexibility) or `histplot` (an axes-level function for histograms).\n",
      "\n",
      "For a guide to updating your code to use the new functions, please see\n",
      "https://gist.github.com/mwaskom/de44147ed2974457ad6372750bbe5751\n",
      "\n",
      "  sns.distplot((y_test - test_predictions2))\n"
     ]
    },
    {
     "data": {
      "image/png": "[encoded data removed]",
      "text/plain": [
       "<Figure size 640x480 with 1 Axes>"
      ]
     },
     "metadata": {},
     "output_type": "display_data"
    }
   ],
   "source": [
    "sns.distplot((y_test - test_predictions2))\n",
    "plt.show()\n",
    "plt.close()"
   ]
  },
  {
   "cell_type": "markdown",
   "id": "7d715395",
   "metadata": {},
   "source": [
    "This residual plot shows that most prediction errors are centered around zero, with a roughly normal distribution. This indicates that the model’s predictions are balanced and do not show major bias."
   ]
  },
  {
   "cell_type": "markdown",
   "id": "a4330849",
   "metadata": {},
   "source": [
    "#### Trying the model in practice with new imaginary house"
   ]
  },
  {
   "cell_type": "code",
   "execution_count": 57,
   "id": "3ba347d0",
   "metadata": {},
   "outputs": [
    {
     "data": {
      "text/plain": [
       "Index(['Bedrooms', 'Bathrooms', 'SquareFeet', 'YearBuilt', 'GarageSpaces',\n",
       "       'LotSize', 'CrimeRate', 'SchoolRating', 'Region_East', 'Region_North',\n",
       "       'Region_South', 'Region_West'],\n",
       "      dtype='object')"
      ]
     },
     "execution_count": 57,
     "metadata": {},
     "output_type": "execute_result"
    }
   ],
   "source": [
    "X.columns"
   ]
  },
  {
   "cell_type": "code",
   "execution_count": 58,
   "id": "3bfbbc25",
   "metadata": {},
   "outputs": [
    {
     "data": {
      "application/vnd.microsoft.datawrangler.viewer.v0+json": {
       "columns": [
        {
         "name": "index",
         "rawType": "int64",
         "type": "integer"
        },
        {
         "name": "Bedrooms",
         "rawType": "int64",
         "type": "integer"
        },
        {
         "name": "Bathrooms",
         "rawType": "float64",
         "type": "float"
        },
        {
         "name": "SquareFeet",
         "rawType": "int64",
         "type": "integer"
        },
        {
         "name": "YearBuilt",
         "rawType": "int64",
         "type": "integer"
        },
        {
         "name": "GarageSpaces",
         "rawType": "int64",
         "type": "integer"
        },
        {
         "name": "LotSize",
         "rawType": "float64",
         "type": "float"
        },
        {
         "name": "CrimeRate",
         "rawType": "float64",
         "type": "float"
        },
        {
         "name": "SchoolRating",
         "rawType": "int64",
         "type": "integer"
        },
        {
         "name": "Region_East",
         "rawType": "bool",
         "type": "boolean"
        },
        {
         "name": "Region_North",
         "rawType": "bool",
         "type": "boolean"
        },
        {
         "name": "Region_South",
         "rawType": "bool",
         "type": "boolean"
        },
        {
         "name": "Region_West",
         "rawType": "bool",
         "type": "boolean"
        }
       ],
       "ref": "663d3102-64f7-44ea-bf97-e86d256fa77a",
       "rows": [
        [
         "0",
         "4",
         "1.7",
         "2847",
         "1972",
         "2",
         "1.46",
         "37.28",
         "10",
         "False",
         "False",
         "False",
         "True"
        ],
        [
         "1",
         "5",
         "3.3",
         "2740",
         "1964",
         "1",
         "1.66",
         "39.89",
         "1",
         "False",
         "False",
         "True",
         "False"
        ],
        [
         "2",
         "3",
         "2.4",
         "3163",
         "1966",
         "2",
         "0.99",
         "84.57",
         "3",
         "False",
         "False",
         "True",
         "False"
        ]
       ],
       "shape": {
        "columns": 12,
        "rows": 3
       }
      },
      "text/html": [
       "<div>\n",
       "<style scoped>\n",
       "    .dataframe tbody tr th:only-of-type {\n",
       "        vertical-align: middle;\n",
       "    }\n",
       "\n",
       "    .dataframe tbody tr th {\n",
       "        vertical-align: top;\n",
       "    }\n",
       "\n",
       "    .dataframe thead th {\n",
       "        text-align: right;\n",
       "    }\n",
       "</style>\n",
       "<table border=\"1\" class=\"dataframe\">\n",
       "  <thead>\n",
       "    <tr style=\"text-align: right;\">\n",
       "      <th></th>\n",
       "      <th>Bedrooms</th>\n",
       "      <th>Bathrooms</th>\n",
       "      <th>SquareFeet</th>\n",
       "      <th>YearBuilt</th>\n",
       "      <th>GarageSpaces</th>\n",
       "      <th>LotSize</th>\n",
       "      <th>CrimeRate</th>\n",
       "      <th>SchoolRating</th>\n",
       "      <th>Region_East</th>\n",
       "      <th>Region_North</th>\n",
       "      <th>Region_South</th>\n",
       "      <th>Region_West</th>\n",
       "    </tr>\n",
       "  </thead>\n",
       "  <tbody>\n",
       "    <tr>\n",
       "      <th>0</th>\n",
       "      <td>4</td>\n",
       "      <td>1.7</td>\n",
       "      <td>2847</td>\n",
       "      <td>1972</td>\n",
       "      <td>2</td>\n",
       "      <td>1.46</td>\n",
       "      <td>37.28</td>\n",
       "      <td>10</td>\n",
       "      <td>False</td>\n",
       "      <td>False</td>\n",
       "      <td>False</td>\n",
       "      <td>True</td>\n",
       "    </tr>\n",
       "    <tr>\n",
       "      <th>1</th>\n",
       "      <td>5</td>\n",
       "      <td>3.3</td>\n",
       "      <td>2740</td>\n",
       "      <td>1964</td>\n",
       "      <td>1</td>\n",
       "      <td>1.66</td>\n",
       "      <td>39.89</td>\n",
       "      <td>1</td>\n",
       "      <td>False</td>\n",
       "      <td>False</td>\n",
       "      <td>True</td>\n",
       "      <td>False</td>\n",
       "    </tr>\n",
       "    <tr>\n",
       "      <th>2</th>\n",
       "      <td>3</td>\n",
       "      <td>2.4</td>\n",
       "      <td>3163</td>\n",
       "      <td>1966</td>\n",
       "      <td>2</td>\n",
       "      <td>0.99</td>\n",
       "      <td>84.57</td>\n",
       "      <td>3</td>\n",
       "      <td>False</td>\n",
       "      <td>False</td>\n",
       "      <td>True</td>\n",
       "      <td>False</td>\n",
       "    </tr>\n",
       "  </tbody>\n",
       "</table>\n",
       "</div>"
      ],
      "text/plain": [
       "   Bedrooms  Bathrooms  SquareFeet  YearBuilt  GarageSpaces  LotSize  \\\n",
       "0         4        1.7        2847       1972             2     1.46   \n",
       "1         5        3.3        2740       1964             1     1.66   \n",
       "2         3        2.4        3163       1966             2     0.99   \n",
       "\n",
       "   CrimeRate  SchoolRating  Region_East  Region_North  Region_South  \\\n",
       "0      37.28            10        False         False         False   \n",
       "1      39.89             1        False         False          True   \n",
       "2      84.57             3        False         False          True   \n",
       "\n",
       "   Region_West  \n",
       "0         True  \n",
       "1        False  \n",
       "2        False  "
      ]
     },
     "execution_count": 58,
     "metadata": {},
     "output_type": "execute_result"
    }
   ],
   "source": [
    "X.head(3)"
   ]
  },
  {
   "cell_type": "code",
   "execution_count": 59,
   "id": "4b926809",
   "metadata": {},
   "outputs": [
    {
     "name": "stdout",
     "output_type": "stream",
     "text": [
      "\u001b[1m1/1\u001b[0m \u001b[32m━━━━━━━━━━━━━━━━━━━━\u001b[0m\u001b[37m\u001b[0m \u001b[1m0s\u001b[0m 30ms/step\n",
      "Estimated house price with this example:\n",
      "$509447.97\n"
     ]
    }
   ],
   "source": [
    "tester_row2 = {\n",
    "    \"Bedrooms\": 3,\n",
    "    \"Bathrooms\": 2,\n",
    "    \"SquareFeet\": 1550,\n",
    "    \"YearBuilt\": 2022,\n",
    "    \"GarageSpaces\": 1,\n",
    "    \"LotSize\": 1.20,\n",
    "    \"CrimeRate\": 7.30,\n",
    "    \"SchoolRating\": 9,\n",
    "    \"Region_East\": 0,\n",
    "    \"Region_North\": 0,\n",
    "    \"Region_South\": 0,\n",
    "    \"Region_West\": 1\n",
    "}\n",
    "\n",
    "tester_row2 = pd.DataFrame([tester_row2])\n",
    "\n",
    "tester_row_scaled2 = scaler.transform(tester_row2)\n",
    "\n",
    "result = best_trained_model2.predict(tester_row_scaled2)[0][0]\n",
    "\n",
    "print(\"Estimated house price with this example:\")\n",
    "print(f\"${round(float(result), 2)}\")"
   ]
  },
  {
   "cell_type": "markdown",
   "id": "9d0fd318",
   "metadata": {},
   "source": [
    "#### Conclusion"
   ]
  },
  {
   "cell_type": "markdown",
   "id": "ebd5460f",
   "metadata": {},
   "source": [
    "The results with the synthetic dataset of 5,000 samples generated by AI show a clear improvement in model performance compared to the original small dataset. The correlations in the synthetic data were stronger and more consistent, which gave the model clearer patterns to learn from. As a result, the evaluation metrics improved significantly, with the model achieving a very high R² score of 0.99 and much lower prediction errors.\n",
    "\n",
    "#### Challenges during the project\n",
    "\n",
    "At first, I struggled with preprocessing and scaling, especially deciding how to handle categorical variables, but with testing and adjustments I was able to stabilize the training. In working life, methods like this can be highly useful for price prediction, market analysis, and forecasting, as they show how synthetic data can solve problems of limited datasets. This project required experimentation to find the right model setup. For further optimization, I would explore more feature engineering, different regularization techniques, and testing alternative architectures to ensure the model generalizes even better  and predicts more accurrately."
   ]
  }
 ],
 "metadata": {
  "kernelspec": {
   "display_name": "venv312 (3.12.10)",
   "language": "python",
   "name": "python3"
  },
  "language_info": {
   "codemirror_mode": {
    "name": "ipython",
    "version": 3
   },
   "file_extension": ".py",
   "mimetype": "text/x-python",
   "name": "python",
   "nbconvert_exporter": "python",
   "pygments_lexer": "ipython3",
   "version": "3.12.10"
  }
 },
 "nbformat": 4,
 "nbformat_minor": 5
}

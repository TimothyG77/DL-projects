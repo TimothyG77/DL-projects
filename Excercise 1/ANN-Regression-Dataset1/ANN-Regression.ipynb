{
 "cells": [
  {
   "cell_type": "markdown",
   "id": "620ed4e9",
   "metadata": {},
   "source": [
    "#### USA Houseprices - Excercise 1 - Timothy Gregorian"
   ]
  },
  {
   "cell_type": "markdown",
   "id": "1a90e52c",
   "metadata": {},
   "source": [
    "In this analysis, we explore a dataset of housing prices in the United States to understand the key factors that influence property values. The main goal is to build a predictive model using a deep learning neural network, which can accurately estimate house prices based on their characteristics.\n",
    "\n",
    "In addition, we will analyze the correlations between the variables, since there is a possibility that the dataset may not be suitable for achieving a high R-squared score when evaluating the quality of the model."
   ]
  },
  {
   "cell_type": "markdown",
   "id": "0a5fe286",
   "metadata": {},
   "source": [
    "### Link to Dataset 1\n",
    "https://www.kaggle.com/datasets/arnavgupta1205/usa-housing-dataset\n",
    "\n",
    "### Information about the Dataset\n",
    "This USA Housing Market Dataset contains 300 rows and 10 columns of real-estate related data, which can be used for housing price predictions."
   ]
  },
  {
   "cell_type": "markdown",
   "id": "41493eae",
   "metadata": {},
   "source": [
    "### Data Description\n",
    "The dataset consists of 10 variables related  to housing characteristics in the United States:\n",
    "\n",
    "1) Price: The selling price of the house (target variable).\n",
    "\n",
    "2) Bedrooms: Number of bedrooms in the house.\n",
    "\n",
    "3) Bathrooms: Number of bathrooms in the house.\n",
    "\n",
    "4) SquareFeet: Total living area in square feet.\n",
    "\n",
    "5) YearBuilt: The year the property was constructed.\n",
    "\n",
    "6) GarageSpaces: Number of garage spaces available.\n",
    "\n",
    "7) LotSize: Size of the property lot.\n",
    "\n",
    "8) ZipCode: Postal code indicating the geographical location of the    house (categorical variable).\n",
    "\n",
    "9) CrimeRate: Crime index of the neighborhood where the house is located (0.0 - 100.0).\n",
    "\n",
    "10) SchoolRating: Quality rating of nearby schools, ranging from 1 (lowest) to 10 (highest)."
   ]
  },
  {
   "cell_type": "markdown",
   "id": "12565413",
   "metadata": {},
   "source": [
    "#### Import all necessary libraries"
   ]
  },
  {
   "cell_type": "code",
   "execution_count": 2,
   "id": "e203bf0b",
   "metadata": {},
   "outputs": [],
   "source": [
    "import pandas as pd\n",
    "import numpy as np\n",
    "import matplotlib.pyplot as plt\n",
    "import seaborn as sns\n",
    "\n",
    "from sklearn.model_selection import train_test_split\n",
    "from sklearn.preprocessing import StandardScaler\n",
    "from sklearn import metrics\n",
    "\n",
    "import tensorflow as tf\n",
    "import keras\n",
    "from keras import layers"
   ]
  },
  {
   "cell_type": "markdown",
   "id": "387ff957",
   "metadata": {},
   "source": [
    "#### Load the Dataset"
   ]
  },
  {
   "cell_type": "code",
   "execution_count": 3,
   "id": "2e66719c",
   "metadata": {},
   "outputs": [
    {
     "data": {
      "application/vnd.microsoft.datawrangler.viewer.v0+json": {
       "columns": [
        {
         "name": "index",
         "rawType": "int64",
         "type": "integer"
        },
        {
         "name": "Price",
         "rawType": "int64",
         "type": "integer"
        },
        {
         "name": "Bedrooms",
         "rawType": "int64",
         "type": "integer"
        },
        {
         "name": "Bathrooms",
         "rawType": "float64",
         "type": "float"
        },
        {
         "name": "SquareFeet",
         "rawType": "int64",
         "type": "integer"
        },
        {
         "name": "YearBuilt",
         "rawType": "int64",
         "type": "integer"
        },
        {
         "name": "GarageSpaces",
         "rawType": "int64",
         "type": "integer"
        },
        {
         "name": "LotSize",
         "rawType": "float64",
         "type": "float"
        },
        {
         "name": "ZipCode",
         "rawType": "int64",
         "type": "integer"
        },
        {
         "name": "CrimeRate",
         "rawType": "float64",
         "type": "float"
        },
        {
         "name": "SchoolRating",
         "rawType": "int64",
         "type": "integer"
        }
       ],
       "ref": "570a417f-45ce-4ed3-bb74-a7dd1dd39292",
       "rows": [
        [
         "0",
         "221958",
         "1",
         "1.9",
         "4827",
         "1979",
         "2",
         "1.45",
         "82240",
         "48.6",
         "5"
        ],
        [
         "1",
         "771155",
         "2",
         "2.0",
         "1035",
         "1987",
         "2",
         "1.75",
         "74315",
         "92.03",
         "9"
        ],
        [
         "2",
         "231932",
         "1",
         "3.0",
         "2769",
         "1982",
         "1",
         "1.46",
         "79249",
         "52.08",
         "3"
        ],
        [
         "3",
         "465838",
         "3",
         "3.3",
         "2708",
         "1907",
         "3",
         "1.62",
         "80587",
         "61.65",
         "1"
        ],
        [
         "4",
         "359178",
         "4",
         "3.4",
         "1175",
         "1994",
         "2",
         "0.74",
         "20756",
         "15.66",
         "4"
        ]
       ],
       "shape": {
        "columns": 10,
        "rows": 5
       }
      },
      "text/html": [
       "<div>\n",
       "<style scoped>\n",
       "    .dataframe tbody tr th:only-of-type {\n",
       "        vertical-align: middle;\n",
       "    }\n",
       "\n",
       "    .dataframe tbody tr th {\n",
       "        vertical-align: top;\n",
       "    }\n",
       "\n",
       "    .dataframe thead th {\n",
       "        text-align: right;\n",
       "    }\n",
       "</style>\n",
       "<table border=\"1\" class=\"dataframe\">\n",
       "  <thead>\n",
       "    <tr style=\"text-align: right;\">\n",
       "      <th></th>\n",
       "      <th>Price</th>\n",
       "      <th>Bedrooms</th>\n",
       "      <th>Bathrooms</th>\n",
       "      <th>SquareFeet</th>\n",
       "      <th>YearBuilt</th>\n",
       "      <th>GarageSpaces</th>\n",
       "      <th>LotSize</th>\n",
       "      <th>ZipCode</th>\n",
       "      <th>CrimeRate</th>\n",
       "      <th>SchoolRating</th>\n",
       "    </tr>\n",
       "  </thead>\n",
       "  <tbody>\n",
       "    <tr>\n",
       "      <th>0</th>\n",
       "      <td>221958</td>\n",
       "      <td>1</td>\n",
       "      <td>1.9</td>\n",
       "      <td>4827</td>\n",
       "      <td>1979</td>\n",
       "      <td>2</td>\n",
       "      <td>1.45</td>\n",
       "      <td>82240</td>\n",
       "      <td>48.60</td>\n",
       "      <td>5</td>\n",
       "    </tr>\n",
       "    <tr>\n",
       "      <th>1</th>\n",
       "      <td>771155</td>\n",
       "      <td>2</td>\n",
       "      <td>2.0</td>\n",
       "      <td>1035</td>\n",
       "      <td>1987</td>\n",
       "      <td>2</td>\n",
       "      <td>1.75</td>\n",
       "      <td>74315</td>\n",
       "      <td>92.03</td>\n",
       "      <td>9</td>\n",
       "    </tr>\n",
       "    <tr>\n",
       "      <th>2</th>\n",
       "      <td>231932</td>\n",
       "      <td>1</td>\n",
       "      <td>3.0</td>\n",
       "      <td>2769</td>\n",
       "      <td>1982</td>\n",
       "      <td>1</td>\n",
       "      <td>1.46</td>\n",
       "      <td>79249</td>\n",
       "      <td>52.08</td>\n",
       "      <td>3</td>\n",
       "    </tr>\n",
       "    <tr>\n",
       "      <th>3</th>\n",
       "      <td>465838</td>\n",
       "      <td>3</td>\n",
       "      <td>3.3</td>\n",
       "      <td>2708</td>\n",
       "      <td>1907</td>\n",
       "      <td>3</td>\n",
       "      <td>1.62</td>\n",
       "      <td>80587</td>\n",
       "      <td>61.65</td>\n",
       "      <td>1</td>\n",
       "    </tr>\n",
       "    <tr>\n",
       "      <th>4</th>\n",
       "      <td>359178</td>\n",
       "      <td>4</td>\n",
       "      <td>3.4</td>\n",
       "      <td>1175</td>\n",
       "      <td>1994</td>\n",
       "      <td>2</td>\n",
       "      <td>0.74</td>\n",
       "      <td>20756</td>\n",
       "      <td>15.66</td>\n",
       "      <td>4</td>\n",
       "    </tr>\n",
       "  </tbody>\n",
       "</table>\n",
       "</div>"
      ],
      "text/plain": [
       "    Price  Bedrooms  Bathrooms  SquareFeet  YearBuilt  GarageSpaces  LotSize  \\\n",
       "0  221958         1        1.9        4827       1979             2     1.45   \n",
       "1  771155         2        2.0        1035       1987             2     1.75   \n",
       "2  231932         1        3.0        2769       1982             1     1.46   \n",
       "3  465838         3        3.3        2708       1907             3     1.62   \n",
       "4  359178         4        3.4        1175       1994             2     0.74   \n",
       "\n",
       "   ZipCode  CrimeRate  SchoolRating  \n",
       "0    82240      48.60             5  \n",
       "1    74315      92.03             9  \n",
       "2    79249      52.08             3  \n",
       "3    80587      61.65             1  \n",
       "4    20756      15.66             4  "
      ]
     },
     "execution_count": 3,
     "metadata": {},
     "output_type": "execute_result"
    }
   ],
   "source": [
    "df = pd.read_csv(\"usa_housing_kaggle.csv\")\n",
    "df.head()"
   ]
  },
  {
   "cell_type": "markdown",
   "id": "3adf40b7",
   "metadata": {},
   "source": [
    "#### Information about the Dataset"
   ]
  },
  {
   "cell_type": "code",
   "execution_count": 4,
   "id": "b9d433cc",
   "metadata": {},
   "outputs": [
    {
     "name": "stdout",
     "output_type": "stream",
     "text": [
      "(300, 10)\n",
      "\n",
      "\n",
      "<class 'pandas.core.frame.DataFrame'>\n",
      "RangeIndex: 300 entries, 0 to 299\n",
      "Data columns (total 10 columns):\n",
      " #   Column        Non-Null Count  Dtype  \n",
      "---  ------        --------------  -----  \n",
      " 0   Price         300 non-null    int64  \n",
      " 1   Bedrooms      300 non-null    int64  \n",
      " 2   Bathrooms     300 non-null    float64\n",
      " 3   SquareFeet    300 non-null    int64  \n",
      " 4   YearBuilt     300 non-null    int64  \n",
      " 5   GarageSpaces  300 non-null    int64  \n",
      " 6   LotSize       300 non-null    float64\n",
      " 7   ZipCode       300 non-null    int64  \n",
      " 8   CrimeRate     300 non-null    float64\n",
      " 9   SchoolRating  300 non-null    int64  \n",
      "dtypes: float64(3), int64(7)\n",
      "memory usage: 23.6 KB\n",
      "None\n",
      "\n",
      "\n",
      "               Price    Bedrooms   Bathrooms  SquareFeet    YearBuilt  \\\n",
      "count     300.000000  300.000000  300.000000   300.00000   300.000000   \n",
      "mean   522761.916667    2.966667    2.464000  3052.75000  1962.616667   \n",
      "std    256922.348275    1.451175    0.886184  1194.97144    36.005431   \n",
      "min    112666.000000    1.000000    1.000000   840.00000  1902.000000   \n",
      "25%    299936.500000    2.000000    1.700000  2053.50000  1931.750000   \n",
      "50%    505806.500000    3.000000    2.400000  3127.00000  1961.000000   \n",
      "75%    744603.750000    4.000000    3.200000  4081.00000  1994.000000   \n",
      "max    999684.000000    5.000000    4.000000  4997.00000  2022.000000   \n",
      "\n",
      "       GarageSpaces     LotSize       ZipCode   CrimeRate  SchoolRating  \n",
      "count    300.000000  300.000000    300.000000  300.000000    300.000000  \n",
      "mean       1.513333    1.062200  54324.770000   49.324033      5.096667  \n",
      "std        1.116832    0.543896  24718.938552   28.833220      2.674165  \n",
      "min        0.000000    0.110000  10163.000000    0.190000      1.000000  \n",
      "25%        1.000000    0.570000  34175.000000   22.547500      3.000000  \n",
      "50%        1.000000    1.085000  54896.500000   49.970000      5.000000  \n",
      "75%        3.000000    1.482500  74108.000000   74.402500      8.000000  \n",
      "max        3.000000    2.000000  99881.000000   99.710000      9.000000  \n"
     ]
    }
   ],
   "source": [
    "print(df.shape)\n",
    "print(\"\\n\")\n",
    "print(df.info())\n",
    "print(\"\\n\")\n",
    "print(df.describe())"
   ]
  },
  {
   "cell_type": "markdown",
   "id": "af6a6680",
   "metadata": {},
   "source": [
    "#### Check the length of the Dataset"
   ]
  },
  {
   "cell_type": "code",
   "execution_count": 5,
   "id": "1fff2ea6",
   "metadata": {},
   "outputs": [
    {
     "name": "stdout",
     "output_type": "stream",
     "text": [
      "Amount of data in the dataset: \n"
     ]
    },
    {
     "data": {
      "text/plain": [
       "300"
      ]
     },
     "execution_count": 5,
     "metadata": {},
     "output_type": "execute_result"
    }
   ],
   "source": [
    "print(\"Amount of data in the dataset: \")\n",
    "len(df)"
   ]
  },
  {
   "cell_type": "markdown",
   "id": "6a9b4ec6",
   "metadata": {},
   "source": [
    "#### Check for any missing values "
   ]
  },
  {
   "cell_type": "code",
   "execution_count": 6,
   "id": "ec3e87c4",
   "metadata": {},
   "outputs": [
    {
     "data": {
      "application/vnd.microsoft.datawrangler.viewer.v0+json": {
       "columns": [
        {
         "name": "index",
         "rawType": "object",
         "type": "string"
        },
        {
         "name": "0",
         "rawType": "int64",
         "type": "integer"
        }
       ],
       "ref": "3d39d8e5-6b74-4915-b85f-7d0a51f3fa12",
       "rows": [
        [
         "Price",
         "0"
        ],
        [
         "Bedrooms",
         "0"
        ],
        [
         "Bathrooms",
         "0"
        ],
        [
         "SquareFeet",
         "0"
        ],
        [
         "YearBuilt",
         "0"
        ],
        [
         "GarageSpaces",
         "0"
        ],
        [
         "LotSize",
         "0"
        ],
        [
         "ZipCode",
         "0"
        ],
        [
         "CrimeRate",
         "0"
        ],
        [
         "SchoolRating",
         "0"
        ]
       ],
       "shape": {
        "columns": 1,
        "rows": 10
       }
      },
      "text/plain": [
       "Price           0\n",
       "Bedrooms        0\n",
       "Bathrooms       0\n",
       "SquareFeet      0\n",
       "YearBuilt       0\n",
       "GarageSpaces    0\n",
       "LotSize         0\n",
       "ZipCode         0\n",
       "CrimeRate       0\n",
       "SchoolRating    0\n",
       "dtype: int64"
      ]
     },
     "execution_count": 6,
     "metadata": {},
     "output_type": "execute_result"
    }
   ],
   "source": [
    "df.isna().sum()"
   ]
  },
  {
   "cell_type": "markdown",
   "id": "8043631c",
   "metadata": {},
   "source": [
    "#### Check for any duplicates"
   ]
  },
  {
   "cell_type": "code",
   "execution_count": 7,
   "id": "f5da7b37",
   "metadata": {},
   "outputs": [
    {
     "name": "stdout",
     "output_type": "stream",
     "text": [
      "Duplicates: \n"
     ]
    },
    {
     "data": {
      "text/plain": [
       "0"
      ]
     },
     "execution_count": 7,
     "metadata": {},
     "output_type": "execute_result"
    }
   ],
   "source": [
    "print(\"Duplicates: \")\n",
    "duplicates = int(df.duplicated().sum())\n",
    "duplicates"
   ]
  },
  {
   "cell_type": "markdown",
   "id": "e6fde361",
   "metadata": {},
   "source": [
    "#### Data Cleaning \n",
    "The results showed that the dataset contains 300 observations, with no missing values and no duplicate records."
   ]
  },
  {
   "cell_type": "code",
   "execution_count": 9,
   "id": "db573ff5",
   "metadata": {},
   "outputs": [],
   "source": [
    "# Independent Variable List:\n",
    "# Bedrooms\n",
    "# Bathrooms\n",
    "# Squarefeet\n",
    "# YearBuilt\n",
    "# GarageSpaces\n",
    "# LotSize\n",
    "# ZipCode\n",
    "# CrimeRate\n",
    "# SchoolRating\n",
    "\n",
    "# Dependent Variables:\n",
    "# Price -> Training the model to predict this variable\n",
    "# Save every independent variable in X, except for \"price\"\n",
    "\n",
    "def zipcode_to_region(zipcode):\n",
    "    if 10000 <= zipcode < 30000:\n",
    "        return \"East\"\n",
    "    elif 30000 <= zipcode < 50000:\n",
    "        return \"South\"\n",
    "    elif 50000 <= zipcode < 70000:\n",
    "        return \"North\"\n",
    "    else:\n",
    "        return \"West\"\n",
    "\n",
    "# Falls Region-Spalten schon da sind → löschen\n",
    "df = df.drop(columns=[\"Region_East\", \"Region_West\", \"Region_South\", \"Region_North\"], errors=\"ignore\")\n",
    "\n",
    "# Neue Spalte mit Regionen\n",
    "df[\"Region\"] = df[\"ZipCode\"].apply(zipcode_to_region)\n",
    "\n",
    "# One-Hot-Encoding für Regionen\n",
    "df = pd.get_dummies(df, columns=[\"Region\"], drop_first=False)\n",
    "\n",
    "# X/y -Split\n",
    "y = df[\"Price\"]\n",
    "X = df.drop([\"Price\", \"ZipCode\"], axis=1)"
   ]
  },
  {
   "cell_type": "markdown",
   "id": "43e28b04",
   "metadata": {},
   "source": [
    "#### Correlation"
   ]
  },
  {
   "cell_type": "code",
   "execution_count": 10,
   "id": "6a8ac8b1",
   "metadata": {},
   "outputs": [
    {
     "data": {
      "image/png": "[encoded data removed]",
      "text/plain": [
       "<Figure size 1000x600 with 2 Axes>"
      ]
     },
     "metadata": {},
     "output_type": "display_data"
    }
   ],
   "source": [
    "# Correlation Matrix\n",
    "corr = X.join(y).corr(numeric_only=True)\n",
    "\n",
    "plt.figure(figsize=(10, 6))\n",
    "sns.heatmap(corr, annot=True, cmap=\"coolwarm\", fmt=\".2f\")\n",
    "plt.title(\"Correlation Matrix of Housing Data\")\n",
    "plt.show()"
   ]
  },
  {
   "cell_type": "markdown",
   "id": "f9892f69",
   "metadata": {},
   "source": [
    "#### Fisher Score"
   ]
  },
  {
   "cell_type": "code",
   "execution_count": 12,
   "id": "d79b5fc8",
   "metadata": {},
   "outputs": [
    {
     "data": {
      "image/png": "[encoded data removed]",
      "text/plain": [
       "<Figure size 800x500 with 1 Axes>"
      ]
     },
     "metadata": {},
     "output_type": "display_data"
    }
   ],
   "source": [
    "from skfeature.function.similarity_based import fisher_score\n",
    "\n",
    "# Price in Kategorien (Quartile) aufteilen\n",
    "y_binned = pd.qcut(y, q=4, labels=False)\n",
    "\n",
    "# Fisher Score berechnen\n",
    "ranks = fisher_score.fisher_score(X.values, y_binned.values)\n",
    "feat_importances = pd.Series(ranks, index=X.columns)\n",
    "\n",
    "# Sortieren & Plotten\n",
    "feat_importances.sort_values(ascending=False).plot(kind=\"barh\", figsize=(8,5))\n",
    "plt.title(\"Feature Importance by Fisher Score\")\n",
    "plt.show()\n",
    "\n"
   ]
  },
  {
   "cell_type": "markdown",
   "id": "d2b70141",
   "metadata": {},
   "source": [
    "#### SelectKBest-Score"
   ]
  },
  {
   "cell_type": "code",
   "execution_count": 13,
   "id": "a144344a",
   "metadata": {},
   "outputs": [
    {
     "name": "stdout",
     "output_type": "stream",
     "text": [
      "         Feature     Chi2 Score\n",
      "2     SquareFeet  139860.475391\n",
      "6      CrimeRate    5039.632897\n",
      "7   SchoolRating     419.528450\n",
      "4   GarageSpaces     246.440529\n",
      "8    Region_East     239.000000\n",
      "10  Region_South     228.000000\n",
      "9   Region_North     227.000000\n",
      "0       Bedrooms     212.247191\n",
      "11   Region_West     206.000000\n",
      "3      YearBuilt     197.502102\n",
      "1      Bathrooms      95.296753\n",
      "5        LotSize      83.271463\n"
     ]
    }
   ],
   "source": [
    "from sklearn.feature_selection import SelectKBest, chi2\n",
    "import numpy as np\n",
    "\n",
    "# Chi² Test erwartet nur nicht-negative Werte\n",
    "X_cat = np.abs(X)  \n",
    "y_cat = y.astype(int)\n",
    "\n",
    "chi2_selector = SelectKBest(score_func=chi2, k=\"all\")\n",
    "chi2_selector.fit(X_cat, y_cat)\n",
    "\n",
    "chi2_scores = pd.DataFrame({\n",
    "    \"Feature\": X_cat.columns,\n",
    "    \"Chi2 Score\": chi2_selector.scores_\n",
    "}).sort_values(by=\"Chi2 Score\", ascending=False)\n",
    "\n",
    "print(chi2_scores)\n"
   ]
  },
  {
   "cell_type": "markdown",
   "id": "06ca9bfa",
   "metadata": {},
   "source": [
    "#### VIF-Test"
   ]
  },
  {
   "cell_type": "code",
   "execution_count": 15,
   "id": "4b2d3016",
   "metadata": {},
   "outputs": [
    {
     "name": "stdout",
     "output_type": "stream",
     "text": [
      "         Feature          VIF\n",
      "0       Bedrooms     1.040308\n",
      "1      Bathrooms     1.033074\n",
      "2     SquareFeet     1.039447\n",
      "3      YearBuilt     1.042271\n",
      "4   GarageSpaces     1.030404\n",
      "5        LotSize     1.062858\n",
      "6      CrimeRate     1.009585\n",
      "7   SchoolRating     1.023965\n",
      "8    Region_East   652.689179\n",
      "9   Region_North   773.774603\n",
      "10  Region_South   769.372113\n",
      "11   Region_West  1007.981243\n"
     ]
    }
   ],
   "source": [
    "from statsmodels.stats.outliers_influence import variance_inflation_factor\n",
    "\n",
    "# Kopie nur mit numerischen Features\n",
    "X_vif = X.copy()\n",
    "\n",
    "# sicherstellen, dass alle Features float sind\n",
    "X_vif = X_vif.astype(float)\n",
    "\n",
    "# DataFrame für VIF-Ergebnisse\n",
    "vif_data = pd.DataFrame()\n",
    "vif_data[\"Feature\"] = X_vif.columns\n",
    "vif_data[\"VIF\"] = [variance_inflation_factor(X_vif.values, i) for i in range(len(X_vif.columns))]\n",
    "\n",
    "print(vif_data)\n"
   ]
  },
  {
   "cell_type": "markdown",
   "id": "8ace1aec",
   "metadata": {},
   "source": [
    "#### X/y -Split"
   ]
  },
  {
   "cell_type": "code",
   "execution_count": 16,
   "id": "2468eced",
   "metadata": {},
   "outputs": [
    {
     "name": "stdout",
     "output_type": "stream",
     "text": [
      "Training size: (210, 12)\n",
      "Validation size: (45, 12)\n",
      "Test size: (45, 12)\n"
     ]
    }
   ],
   "source": [
    "X_train, X_temp, y_train, y_temp = train_test_split(X, y, test_size=0.3)\n",
    "\n",
    "X_val, X_test, y_val, y_test = train_test_split(X_temp, y_temp, test_size=0.5)\n",
    "\n",
    "print(\"Training size:\", X_train.shape)\n",
    "print(\"Validation size:\", X_val.shape)\n",
    "print(\"Test size:\", X_test.shape)"
   ]
  },
  {
   "cell_type": "markdown",
   "id": "5fe61678",
   "metadata": {},
   "source": [
    "#### Scaling of the Data"
   ]
  },
  {
   "cell_type": "code",
   "execution_count": 17,
   "id": "e32ca17c",
   "metadata": {},
   "outputs": [],
   "source": [
    "from sklearn.preprocessing import StandardScaler\n",
    "\n",
    "# Initialisiere den Scaler\n",
    "scaler = StandardScaler()\n",
    "\n",
    "# Fit nur mit Trainingsdaten, dann transformiere alle Sets\n",
    "X_train = scaler.fit_transform(X_train)\n",
    "X_val   = scaler.transform(X_val)\n",
    "X_test  = scaler.transform(X_test)"
   ]
  },
  {
   "cell_type": "markdown",
   "id": "ab54f885",
   "metadata": {},
   "source": [
    "#### Architecture of the neural network"
   ]
  },
  {
   "cell_type": "code",
   "execution_count": 19,
   "id": "d934cebb",
   "metadata": {},
   "outputs": [
    {
     "data": {
      "text/html": [
       "<pre style=\"white-space:pre;overflow-x:auto;line-height:normal;font-family:Menlo,'DejaVu Sans Mono',consolas,'Courier New',monospace\"><span style=\"font-weight: bold\">Model: \"sequential_1\"</span>\n",
       "</pre>\n"
      ],
      "text/plain": [
       "\u001b[1mModel: \"sequential_1\"\u001b[0m\n"
      ]
     },
     "metadata": {},
     "output_type": "display_data"
    },
    {
     "data": {
      "text/html": [
       "<pre style=\"white-space:pre;overflow-x:auto;line-height:normal;font-family:Menlo,'DejaVu Sans Mono',consolas,'Courier New',monospace\">┏━━━━━━━━━━━━━━━━━━━━━━━━━━━━━━━━━┳━━━━━━━━━━━━━━━━━━━━━━━━┳━━━━━━━━━━━━━━━┓\n",
       "┃<span style=\"font-weight: bold\"> Layer (type)                    </span>┃<span style=\"font-weight: bold\"> Output Shape           </span>┃<span style=\"font-weight: bold\">       Param # </span>┃\n",
       "┡━━━━━━━━━━━━━━━━━━━━━━━━━━━━━━━━━╇━━━━━━━━━━━━━━━━━━━━━━━━╇━━━━━━━━━━━━━━━┩\n",
       "│ batch_normalization_1           │ (<span style=\"color: #00d7ff; text-decoration-color: #00d7ff\">None</span>, <span style=\"color: #00af00; text-decoration-color: #00af00\">12</span>)             │            <span style=\"color: #00af00; text-decoration-color: #00af00\">48</span> │\n",
       "│ (<span style=\"color: #0087ff; text-decoration-color: #0087ff\">BatchNormalization</span>)            │                        │               │\n",
       "├─────────────────────────────────┼────────────────────────┼───────────────┤\n",
       "│ dense_4 (<span style=\"color: #0087ff; text-decoration-color: #0087ff\">Dense</span>)                 │ (<span style=\"color: #00d7ff; text-decoration-color: #00d7ff\">None</span>, <span style=\"color: #00af00; text-decoration-color: #00af00\">32</span>)             │           <span style=\"color: #00af00; text-decoration-color: #00af00\">416</span> │\n",
       "├─────────────────────────────────┼────────────────────────┼───────────────┤\n",
       "│ dense_5 (<span style=\"color: #0087ff; text-decoration-color: #0087ff\">Dense</span>)                 │ (<span style=\"color: #00d7ff; text-decoration-color: #00d7ff\">None</span>, <span style=\"color: #00af00; text-decoration-color: #00af00\">16</span>)             │           <span style=\"color: #00af00; text-decoration-color: #00af00\">528</span> │\n",
       "├─────────────────────────────────┼────────────────────────┼───────────────┤\n",
       "│ dense_6 (<span style=\"color: #0087ff; text-decoration-color: #0087ff\">Dense</span>)                 │ (<span style=\"color: #00d7ff; text-decoration-color: #00d7ff\">None</span>, <span style=\"color: #00af00; text-decoration-color: #00af00\">8</span>)              │           <span style=\"color: #00af00; text-decoration-color: #00af00\">136</span> │\n",
       "├─────────────────────────────────┼────────────────────────┼───────────────┤\n",
       "│ dense_7 (<span style=\"color: #0087ff; text-decoration-color: #0087ff\">Dense</span>)                 │ (<span style=\"color: #00d7ff; text-decoration-color: #00d7ff\">None</span>, <span style=\"color: #00af00; text-decoration-color: #00af00\">1</span>)              │             <span style=\"color: #00af00; text-decoration-color: #00af00\">9</span> │\n",
       "└─────────────────────────────────┴────────────────────────┴───────────────┘\n",
       "</pre>\n"
      ],
      "text/plain": [
       "┏━━━━━━━━━━━━━━━━━━━━━━━━━━━━━━━━━┳━━━━━━━━━━━━━━━━━━━━━━━━┳━━━━━━━━━━━━━━━┓\n",
       "┃\u001b[1m \u001b[0m\u001b[1mLayer (type)                   \u001b[0m\u001b[1m \u001b[0m┃\u001b[1m \u001b[0m\u001b[1mOutput Shape          \u001b[0m\u001b[1m \u001b[0m┃\u001b[1m \u001b[0m\u001b[1m      Param #\u001b[0m\u001b[1m \u001b[0m┃\n",
       "┡━━━━━━━━━━━━━━━━━━━━━━━━━━━━━━━━━╇━━━━━━━━━━━━━━━━━━━━━━━━╇━━━━━━━━━━━━━━━┩\n",
       "│ batch_normalization_1           │ (\u001b[38;5;45mNone\u001b[0m, \u001b[38;5;34m12\u001b[0m)             │            \u001b[38;5;34m48\u001b[0m │\n",
       "│ (\u001b[38;5;33mBatchNormalization\u001b[0m)            │                        │               │\n",
       "├─────────────────────────────────┼────────────────────────┼───────────────┤\n",
       "│ dense_4 (\u001b[38;5;33mDense\u001b[0m)                 │ (\u001b[38;5;45mNone\u001b[0m, \u001b[38;5;34m32\u001b[0m)             │           \u001b[38;5;34m416\u001b[0m │\n",
       "├─────────────────────────────────┼────────────────────────┼───────────────┤\n",
       "│ dense_5 (\u001b[38;5;33mDense\u001b[0m)                 │ (\u001b[38;5;45mNone\u001b[0m, \u001b[38;5;34m16\u001b[0m)             │           \u001b[38;5;34m528\u001b[0m │\n",
       "├─────────────────────────────────┼────────────────────────┼───────────────┤\n",
       "│ dense_6 (\u001b[38;5;33mDense\u001b[0m)                 │ (\u001b[38;5;45mNone\u001b[0m, \u001b[38;5;34m8\u001b[0m)              │           \u001b[38;5;34m136\u001b[0m │\n",
       "├─────────────────────────────────┼────────────────────────┼───────────────┤\n",
       "│ dense_7 (\u001b[38;5;33mDense\u001b[0m)                 │ (\u001b[38;5;45mNone\u001b[0m, \u001b[38;5;34m1\u001b[0m)              │             \u001b[38;5;34m9\u001b[0m │\n",
       "└─────────────────────────────────┴────────────────────────┴───────────────┘\n"
      ]
     },
     "metadata": {},
     "output_type": "display_data"
    },
    {
     "data": {
      "text/html": [
       "<pre style=\"white-space:pre;overflow-x:auto;line-height:normal;font-family:Menlo,'DejaVu Sans Mono',consolas,'Courier New',monospace\"><span style=\"font-weight: bold\"> Total params: </span><span style=\"color: #00af00; text-decoration-color: #00af00\">1,137</span> (4.44 KB)\n",
       "</pre>\n"
      ],
      "text/plain": [
       "\u001b[1m Total params: \u001b[0m\u001b[38;5;34m1,137\u001b[0m (4.44 KB)\n"
      ]
     },
     "metadata": {},
     "output_type": "display_data"
    },
    {
     "data": {
      "text/html": [
       "<pre style=\"white-space:pre;overflow-x:auto;line-height:normal;font-family:Menlo,'DejaVu Sans Mono',consolas,'Courier New',monospace\"><span style=\"font-weight: bold\"> Trainable params: </span><span style=\"color: #00af00; text-decoration-color: #00af00\">1,113</span> (4.35 KB)\n",
       "</pre>\n"
      ],
      "text/plain": [
       "\u001b[1m Trainable params: \u001b[0m\u001b[38;5;34m1,113\u001b[0m (4.35 KB)\n"
      ]
     },
     "metadata": {},
     "output_type": "display_data"
    },
    {
     "data": {
      "text/html": [
       "<pre style=\"white-space:pre;overflow-x:auto;line-height:normal;font-family:Menlo,'DejaVu Sans Mono',consolas,'Courier New',monospace\"><span style=\"font-weight: bold\"> Non-trainable params: </span><span style=\"color: #00af00; text-decoration-color: #00af00\">24</span> (96.00 B)\n",
       "</pre>\n"
      ],
      "text/plain": [
       "\u001b[1m Non-trainable params: \u001b[0m\u001b[38;5;34m24\u001b[0m (96.00 B)\n"
      ]
     },
     "metadata": {},
     "output_type": "display_data"
    }
   ],
   "source": [
    "variable_amount = len(X.columns)\n",
    "\n",
    "training_model_1 = keras.Sequential(\n",
    "    [\n",
    "        layers.BatchNormalization(input_shape=(variable_amount,)),\n",
    "        layers.Dense(32, activation=\"relu\"),\n",
    "        layers.Dense(16, activation=\"relu\"),\n",
    "        layers.Dense(8, activation=\"relu\"),\n",
    "        layers.Dense(1)\n",
    "    ]\n",
    ")\n",
    "\n",
    "training_model_1.compile(optimizer=\"adam\", loss=\"mse\")\n",
    "\n",
    "training_model_1.summary()"
   ]
  },
  {
   "cell_type": "markdown",
   "id": "d3c397fa",
   "metadata": {},
   "source": [
    "#### Training of the model"
   ]
  },
  {
   "cell_type": "code",
   "execution_count": 20,
   "id": "ea752cde",
   "metadata": {},
   "outputs": [
    {
     "name": "stdout",
     "output_type": "stream",
     "text": [
      "Epoch 1/300\n",
      "\u001b[1m7/7\u001b[0m \u001b[32m━━━━━━━━━━━━━━━━━━━━\u001b[0m\u001b[37m\u001b[0m \u001b[1m1s\u001b[0m 34ms/step - loss: 353811005440.0000 - val_loss: 312602001408.0000\n",
      "Epoch 2/300\n",
      "\u001b[1m7/7\u001b[0m \u001b[32m━━━━━━━━━━━━━━━━━━━━\u001b[0m\u001b[37m\u001b[0m \u001b[1m0s\u001b[0m 14ms/step - loss: 353810710528.0000 - val_loss: 312601706496.0000\n",
      "Epoch 3/300\n",
      "\u001b[1m7/7\u001b[0m \u001b[32m━━━━━━━━━━━━━━━━━━━━\u001b[0m\u001b[37m\u001b[0m \u001b[1m0s\u001b[0m 12ms/step - loss: 353810382848.0000 - val_loss: 312601411584.0000\n",
      "Epoch 4/300\n",
      "\u001b[1m7/7\u001b[0m \u001b[32m━━━━━━━━━━━━━━━━━━━━\u001b[0m\u001b[37m\u001b[0m \u001b[1m0s\u001b[0m 13ms/step - loss: 353810087936.0000 - val_loss: 312601116672.0000\n",
      "Epoch 5/300\n",
      "\u001b[1m7/7\u001b[0m \u001b[32m━━━━━━━━━━━━━━━━━━━━\u001b[0m\u001b[37m\u001b[0m \u001b[1m0s\u001b[0m 12ms/step - loss: 353809793024.0000 - val_loss: 312600821760.0000\n",
      "Epoch 6/300\n",
      "\u001b[1m7/7\u001b[0m \u001b[32m━━━━━━━━━━━━━━━━━━━━\u001b[0m\u001b[37m\u001b[0m \u001b[1m0s\u001b[0m 12ms/step - loss: 353809432576.0000 - val_loss: 312600428544.0000\n",
      "Epoch 7/300\n",
      "\u001b[1m7/7\u001b[0m \u001b[32m━━━━━━━━━━━━━━━━━━━━\u001b[0m\u001b[37m\u001b[0m \u001b[1m0s\u001b[0m 14ms/step - loss: 353809039360.0000 - val_loss: 312600002560.0000\n",
      "Epoch 8/300\n",
      "\u001b[1m7/7\u001b[0m \u001b[32m━━━━━━━━━━━━━━━━━━━━\u001b[0m\u001b[37m\u001b[0m \u001b[1m0s\u001b[0m 15ms/step - loss: 353808515072.0000 - val_loss: 312599445504.0000\n",
      "Epoch 9/300\n",
      "\u001b[1m7/7\u001b[0m \u001b[32m━━━━━━━━━━━━━━━━━━━━\u001b[0m\u001b[37m\u001b[0m \u001b[1m0s\u001b[0m 12ms/step - loss: 353807925248.0000 - val_loss: 312598822912.0000\n",
      "Epoch 10/300\n",
      "\u001b[1m7/7\u001b[0m \u001b[32m━━━━━━━━━━━━━━━━━━━━\u001b[0m\u001b[37m\u001b[0m \u001b[1m0s\u001b[0m 12ms/step - loss: 353807171584.0000 - val_loss: 312598036480.0000\n",
      "Epoch 11/300\n",
      "\u001b[1m7/7\u001b[0m \u001b[32m━━━━━━━━━━━━━━━━━━━━\u001b[0m\u001b[37m\u001b[0m \u001b[1m0s\u001b[0m 11ms/step - loss: 353806254080.0000 - val_loss: 312597086208.0000\n",
      "Epoch 12/300\n",
      "\u001b[1m7/7\u001b[0m \u001b[32m━━━━━━━━━━━━━━━━━━━━\u001b[0m\u001b[37m\u001b[0m \u001b[1m0s\u001b[0m 15ms/step - loss: 353805172736.0000 - val_loss: 312595939328.0000\n",
      "Epoch 13/300\n",
      "\u001b[1m7/7\u001b[0m \u001b[32m━━━━━━━━━━━━━━━━━━━━\u001b[0m\u001b[37m\u001b[0m \u001b[1m0s\u001b[0m 13ms/step - loss: 353803796480.0000 - val_loss: 312594563072.0000\n",
      "Epoch 14/300\n",
      "\u001b[1m7/7\u001b[0m \u001b[32m━━━━━━━━━━━━━━━━━━━━\u001b[0m\u001b[37m\u001b[0m \u001b[1m0s\u001b[0m 14ms/step - loss: 353802190848.0000 - val_loss: 312592891904.0000\n",
      "Epoch 15/300\n",
      "\u001b[1m7/7\u001b[0m \u001b[32m━━━━━━━━━━━━━━━━━━━━\u001b[0m\u001b[37m\u001b[0m \u001b[1m0s\u001b[0m 13ms/step - loss: 353800159232.0000 - val_loss: 312590925824.0000\n",
      "Epoch 16/300\n",
      "\u001b[1m7/7\u001b[0m \u001b[32m━━━━━━━━━━━━━━━━━━━━\u001b[0m\u001b[37m\u001b[0m \u001b[1m0s\u001b[0m 12ms/step - loss: 353797931008.0000 - val_loss: 312588533760.0000\n",
      "Epoch 17/300\n",
      "\u001b[1m7/7\u001b[0m \u001b[32m━━━━━━━━━━━━━━━━━━━━\u001b[0m\u001b[37m\u001b[0m \u001b[1m0s\u001b[0m 12ms/step - loss: 353794883584.0000 - val_loss: 312585617408.0000\n",
      "Epoch 18/300\n",
      "\u001b[1m7/7\u001b[0m \u001b[32m━━━━━━━━━━━━━━━━━━━━\u001b[0m\u001b[37m\u001b[0m \u001b[1m0s\u001b[0m 12ms/step - loss: 353791475712.0000 - val_loss: 312582242304.0000\n",
      "Epoch 19/300\n",
      "\u001b[1m7/7\u001b[0m \u001b[32m━━━━━━━━━━━━━━━━━━━━\u001b[0m\u001b[37m\u001b[0m \u001b[1m0s\u001b[0m 12ms/step - loss: 353787379712.0000 - val_loss: 312578080768.0000\n",
      "Epoch 20/300\n",
      "\u001b[1m7/7\u001b[0m \u001b[32m━━━━━━━━━━━━━━━━━━━━\u001b[0m\u001b[37m\u001b[0m \u001b[1m0s\u001b[0m 12ms/step - loss: 353782366208.0000 - val_loss: 312573100032.0000\n",
      "Epoch 21/300\n",
      "\u001b[1m7/7\u001b[0m \u001b[32m━━━━━━━━━━━━━━━━━━━━\u001b[0m\u001b[37m\u001b[0m \u001b[1m0s\u001b[0m 13ms/step - loss: 353776009216.0000 - val_loss: 312567169024.0000\n",
      "Epoch 22/300\n",
      "\u001b[1m7/7\u001b[0m \u001b[32m━━━━━━━━━━━━━━━━━━━━\u001b[0m\u001b[37m\u001b[0m \u001b[1m0s\u001b[0m 11ms/step - loss: 353768701952.0000 - val_loss: 312560058368.0000\n",
      "Epoch 23/300\n",
      "\u001b[1m7/7\u001b[0m \u001b[32m━━━━━━━━━━━━━━━━━━━━\u001b[0m\u001b[37m\u001b[0m \u001b[1m0s\u001b[0m 12ms/step - loss: 353759887360.0000 - val_loss: 312551505920.0000\n",
      "Epoch 24/300\n",
      "\u001b[1m7/7\u001b[0m \u001b[32m━━━━━━━━━━━━━━━━━━━━\u001b[0m\u001b[37m\u001b[0m \u001b[1m0s\u001b[0m 13ms/step - loss: 353749401600.0000 - val_loss: 312541446144.0000\n",
      "Epoch 25/300\n",
      "\u001b[1m7/7\u001b[0m \u001b[32m━━━━━━━━━━━━━━━━━━━━\u001b[0m\u001b[37m\u001b[0m \u001b[1m0s\u001b[0m 11ms/step - loss: 353737244672.0000 - val_loss: 312529485824.0000\n",
      "Epoch 26/300\n",
      "\u001b[1m7/7\u001b[0m \u001b[32m━━━━━━━━━━━━━━━━━━━━\u001b[0m\u001b[37m\u001b[0m \u001b[1m0s\u001b[0m 14ms/step - loss: 353722400768.0000 - val_loss: 312515362816.0000\n",
      "Epoch 27/300\n",
      "\u001b[1m7/7\u001b[0m \u001b[32m━━━━━━━━━━━━━━━━━━━━\u001b[0m\u001b[37m\u001b[0m \u001b[1m0s\u001b[0m 14ms/step - loss: 353704017920.0000 - val_loss: 312498651136.0000\n",
      "Epoch 28/300\n",
      "\u001b[1m7/7\u001b[0m \u001b[32m━━━━━━━━━━━━━━━━━━━━\u001b[0m\u001b[37m\u001b[0m \u001b[1m0s\u001b[0m 11ms/step - loss: 353682325504.0000 - val_loss: 312478728192.0000\n",
      "Epoch 29/300\n",
      "\u001b[1m7/7\u001b[0m \u001b[32m━━━━━━━━━━━━━━━━━━━━\u001b[0m\u001b[37m\u001b[0m \u001b[1m0s\u001b[0m 13ms/step - loss: 353657159680.0000 - val_loss: 312455364608.0000\n",
      "Epoch 30/300\n",
      "\u001b[1m7/7\u001b[0m \u001b[32m━━━━━━━━━━━━━━━━━━━━\u001b[0m\u001b[37m\u001b[0m \u001b[1m0s\u001b[0m 11ms/step - loss: 353626390528.0000 - val_loss: 312427446272.0000\n",
      "Epoch 31/300\n",
      "\u001b[1m7/7\u001b[0m \u001b[32m━━━━━━━━━━━━━━━━━━━━\u001b[0m\u001b[37m\u001b[0m \u001b[1m0s\u001b[0m 12ms/step - loss: 353591558144.0000 - val_loss: 312394711040.0000\n",
      "Epoch 32/300\n",
      "\u001b[1m7/7\u001b[0m \u001b[32m━━━━━━━━━━━━━━━━━━━━\u001b[0m\u001b[37m\u001b[0m \u001b[1m0s\u001b[0m 11ms/step - loss: 353548206080.0000 - val_loss: 312356634624.0000\n",
      "Epoch 33/300\n",
      "\u001b[1m7/7\u001b[0m \u001b[32m━━━━━━━━━━━━━━━━━━━━\u001b[0m\u001b[37m\u001b[0m \u001b[1m0s\u001b[0m 14ms/step - loss: 353498103808.0000 - val_loss: 312311808000.0000\n",
      "Epoch 34/300\n",
      "\u001b[1m7/7\u001b[0m \u001b[32m━━━━━━━━━━━━━━━━━━━━\u001b[0m\u001b[37m\u001b[0m \u001b[1m0s\u001b[0m 13ms/step - loss: 353441447936.0000 - val_loss: 312259936256.0000\n",
      "Epoch 35/300\n",
      "\u001b[1m7/7\u001b[0m \u001b[32m━━━━━━━━━━━━━━━━━━━━\u001b[0m\u001b[37m\u001b[0m \u001b[1m0s\u001b[0m 12ms/step - loss: 353373716480.0000 - val_loss: 312199053312.0000\n",
      "Epoch 36/300\n",
      "\u001b[1m7/7\u001b[0m \u001b[32m━━━━━━━━━━━━━━━━━━━━\u001b[0m\u001b[37m\u001b[0m \u001b[1m0s\u001b[0m 11ms/step - loss: 353295204352.0000 - val_loss: 312129191936.0000\n",
      "Epoch 37/300\n",
      "\u001b[1m7/7\u001b[0m \u001b[32m━━━━━━━━━━━━━━━━━━━━\u001b[0m\u001b[37m\u001b[0m \u001b[1m0s\u001b[0m 12ms/step - loss: 353201356800.0000 - val_loss: 312047271936.0000\n",
      "Epoch 38/300\n",
      "\u001b[1m7/7\u001b[0m \u001b[32m━━━━━━━━━━━━━━━━━━━━\u001b[0m\u001b[37m\u001b[0m \u001b[1m0s\u001b[0m 11ms/step - loss: 353098530816.0000 - val_loss: 311951720448.0000\n",
      "Epoch 39/300\n",
      "\u001b[1m7/7\u001b[0m \u001b[32m━━━━━━━━━━━━━━━━━━━━\u001b[0m\u001b[37m\u001b[0m \u001b[1m0s\u001b[0m 12ms/step - loss: 352977453056.0000 - val_loss: 311841882112.0000\n",
      "Epoch 40/300\n",
      "\u001b[1m7/7\u001b[0m \u001b[32m━━━━━━━━━━━━━━━━━━━━\u001b[0m\u001b[37m\u001b[0m \u001b[1m0s\u001b[0m 11ms/step - loss: 352833110016.0000 - val_loss: 311716937728.0000\n",
      "Epoch 41/300\n",
      "\u001b[1m7/7\u001b[0m \u001b[32m━━━━━━━━━━━━━━━━━━━━\u001b[0m\u001b[37m\u001b[0m \u001b[1m0s\u001b[0m 12ms/step - loss: 352674217984.0000 - val_loss: 311571841024.0000\n",
      "Epoch 42/300\n",
      "\u001b[1m7/7\u001b[0m \u001b[32m━━━━━━━━━━━━━━━━━━━━\u001b[0m\u001b[37m\u001b[0m \u001b[1m0s\u001b[0m 11ms/step - loss: 352482033664.0000 - val_loss: 311405805568.0000\n",
      "Epoch 43/300\n",
      "\u001b[1m7/7\u001b[0m \u001b[32m━━━━━━━━━━━━━━━━━━━━\u001b[0m\u001b[37m\u001b[0m \u001b[1m0s\u001b[0m 11ms/step - loss: 352272056320.0000 - val_loss: 311217717248.0000\n",
      "Epoch 44/300\n",
      "\u001b[1m7/7\u001b[0m \u001b[32m━━━━━━━━━━━━━━━━━━━━\u001b[0m\u001b[37m\u001b[0m \u001b[1m0s\u001b[0m 14ms/step - loss: 352028655616.0000 - val_loss: 311003447296.0000\n",
      "Epoch 45/300\n",
      "\u001b[1m7/7\u001b[0m \u001b[32m━━━━━━━━━━━━━━━━━━━━\u001b[0m\u001b[37m\u001b[0m \u001b[1m0s\u001b[0m 13ms/step - loss: 351748882432.0000 - val_loss: 310758080512.0000\n",
      "Epoch 46/300\n",
      "\u001b[1m7/7\u001b[0m \u001b[32m━━━━━━━━━━━━━━━━━━━━\u001b[0m\u001b[37m\u001b[0m \u001b[1m0s\u001b[0m 11ms/step - loss: 351433490432.0000 - val_loss: 310487285760.0000\n",
      "Epoch 47/300\n",
      "\u001b[1m7/7\u001b[0m \u001b[32m━━━━━━━━━━━━━━━━━━━━\u001b[0m\u001b[37m\u001b[0m \u001b[1m0s\u001b[0m 14ms/step - loss: 351104794624.0000 - val_loss: 310182936576.0000\n",
      "Epoch 48/300\n",
      "\u001b[1m7/7\u001b[0m \u001b[32m━━━━━━━━━━━━━━━━━━━━\u001b[0m\u001b[37m\u001b[0m \u001b[1m0s\u001b[0m 11ms/step - loss: 350692147200.0000 - val_loss: 309837660160.0000\n",
      "Epoch 49/300\n",
      "\u001b[1m7/7\u001b[0m \u001b[32m━━━━━━━━━━━━━━━━━━━━\u001b[0m\u001b[37m\u001b[0m \u001b[1m0s\u001b[0m 11ms/step - loss: 350271668224.0000 - val_loss: 309453619200.0000\n",
      "Epoch 50/300\n",
      "\u001b[1m7/7\u001b[0m \u001b[32m━━━━━━━━━━━━━━━━━━━━\u001b[0m\u001b[37m\u001b[0m \u001b[1m0s\u001b[0m 11ms/step - loss: 349807345664.0000 - val_loss: 309031305216.0000\n",
      "Epoch 51/300\n",
      "\u001b[1m7/7\u001b[0m \u001b[32m━━━━━━━━━━━━━━━━━━━━\u001b[0m\u001b[37m\u001b[0m \u001b[1m0s\u001b[0m 12ms/step - loss: 349239246848.0000 - val_loss: 308553973760.0000\n",
      "Epoch 52/300\n",
      "\u001b[1m7/7\u001b[0m \u001b[32m━━━━━━━━━━━━━━━━━━━━\u001b[0m\u001b[37m\u001b[0m \u001b[1m0s\u001b[0m 11ms/step - loss: 348647686144.0000 - val_loss: 308028899328.0000\n",
      "Epoch 53/300\n",
      "\u001b[1m7/7\u001b[0m \u001b[32m━━━━━━━━━━━━━━━━━━━━\u001b[0m\u001b[37m\u001b[0m \u001b[1m0s\u001b[0m 13ms/step - loss: 347953627136.0000 - val_loss: 307446317056.0000\n",
      "Epoch 54/300\n",
      "\u001b[1m7/7\u001b[0m \u001b[32m━━━━━━━━━━━━━━━━━━━━\u001b[0m\u001b[37m\u001b[0m \u001b[1m0s\u001b[0m 14ms/step - loss: 347262681088.0000 - val_loss: 306799738880.0000\n",
      "Epoch 55/300\n",
      "\u001b[1m7/7\u001b[0m \u001b[32m━━━━━━━━━━━━━━━━━━━━\u001b[0m\u001b[37m\u001b[0m \u001b[1m0s\u001b[0m 10ms/step - loss: 346421985280.0000 - val_loss: 306095456256.0000\n",
      "Epoch 56/300\n",
      "\u001b[1m7/7\u001b[0m \u001b[32m━━━━━━━━━━━━━━━━━━━━\u001b[0m\u001b[37m\u001b[0m \u001b[1m0s\u001b[0m 12ms/step - loss: 345570115584.0000 - val_loss: 305328816128.0000\n",
      "Epoch 57/300\n",
      "\u001b[1m7/7\u001b[0m \u001b[32m━━━━━━━━━━━━━━━━━━━━\u001b[0m\u001b[37m\u001b[0m \u001b[1m0s\u001b[0m 14ms/step - loss: 344631803904.0000 - val_loss: 304480452608.0000\n",
      "Epoch 58/300\n",
      "\u001b[1m7/7\u001b[0m \u001b[32m━━━━━━━━━━━━━━━━━━━━\u001b[0m\u001b[37m\u001b[0m \u001b[1m0s\u001b[0m 13ms/step - loss: 343582441472.0000 - val_loss: 303565701120.0000\n",
      "Epoch 59/300\n",
      "\u001b[1m7/7\u001b[0m \u001b[32m━━━━━━━━━━━━━━━━━━━━\u001b[0m\u001b[37m\u001b[0m \u001b[1m0s\u001b[0m 11ms/step - loss: 342429106176.0000 - val_loss: 302547402752.0000\n",
      "Epoch 60/300\n",
      "\u001b[1m7/7\u001b[0m \u001b[32m━━━━━━━━━━━━━━━━━━━━\u001b[0m\u001b[37m\u001b[0m \u001b[1m0s\u001b[0m 14ms/step - loss: 341147582464.0000 - val_loss: 301456850944.0000\n",
      "Epoch 61/300\n",
      "\u001b[1m7/7\u001b[0m \u001b[32m━━━━━━━━━━━━━━━━━━━━\u001b[0m\u001b[37m\u001b[0m \u001b[1m0s\u001b[0m 12ms/step - loss: 339883720704.0000 - val_loss: 300285198336.0000\n",
      "Epoch 62/300\n",
      "\u001b[1m7/7\u001b[0m \u001b[32m━━━━━━━━━━━━━━━━━━━━\u001b[0m\u001b[37m\u001b[0m \u001b[1m0s\u001b[0m 11ms/step - loss: 338399068160.0000 - val_loss: 299010424832.0000\n",
      "Epoch 63/300\n",
      "\u001b[1m7/7\u001b[0m \u001b[32m━━━━━━━━━━━━━━━━━━━━\u001b[0m\u001b[37m\u001b[0m \u001b[1m0s\u001b[0m 11ms/step - loss: 336787898368.0000 - val_loss: 297640493056.0000\n",
      "Epoch 64/300\n",
      "\u001b[1m7/7\u001b[0m \u001b[32m━━━━━━━━━━━━━━━━━━━━\u001b[0m\u001b[37m\u001b[0m \u001b[1m0s\u001b[0m 12ms/step - loss: 335147499520.0000 - val_loss: 296166096896.0000\n",
      "Epoch 65/300\n",
      "\u001b[1m7/7\u001b[0m \u001b[32m━━━━━━━━━━━━━━━━━━━━\u001b[0m\u001b[37m\u001b[0m \u001b[1m0s\u001b[0m 11ms/step - loss: 333312425984.0000 - val_loss: 294577635328.0000\n",
      "Epoch 66/300\n",
      "\u001b[1m7/7\u001b[0m \u001b[32m━━━━━━━━━━━━━━━━━━━━\u001b[0m\u001b[37m\u001b[0m \u001b[1m0s\u001b[0m 12ms/step - loss: 331374395392.0000 - val_loss: 292869177344.0000\n",
      "Epoch 67/300\n",
      "\u001b[1m7/7\u001b[0m \u001b[32m━━━━━━━━━━━━━━━━━━━━\u001b[0m\u001b[37m\u001b[0m \u001b[1m0s\u001b[0m 13ms/step - loss: 329374138368.0000 - val_loss: 291038527488.0000\n",
      "Epoch 68/300\n",
      "\u001b[1m7/7\u001b[0m \u001b[32m━━━━━━━━━━━━━━━━━━━━\u001b[0m\u001b[37m\u001b[0m \u001b[1m0s\u001b[0m 11ms/step - loss: 327273545728.0000 - val_loss: 289110425600.0000\n",
      "Epoch 69/300\n",
      "\u001b[1m7/7\u001b[0m \u001b[32m━━━━━━━━━━━━━━━━━━━━\u001b[0m\u001b[37m\u001b[0m \u001b[1m0s\u001b[0m 12ms/step - loss: 324735139840.0000 - val_loss: 287057608704.0000\n",
      "Epoch 70/300\n",
      "\u001b[1m7/7\u001b[0m \u001b[32m━━━━━━━━━━━━━━━━━━━━\u001b[0m\u001b[37m\u001b[0m \u001b[1m0s\u001b[0m 12ms/step - loss: 322070642688.0000 - val_loss: 284866117632.0000\n",
      "Epoch 71/300\n",
      "\u001b[1m7/7\u001b[0m \u001b[32m━━━━━━━━━━━━━━━━━━━━\u001b[0m\u001b[37m\u001b[0m \u001b[1m0s\u001b[0m 11ms/step - loss: 319663013888.0000 - val_loss: 282528514048.0000\n",
      "Epoch 72/300\n",
      "\u001b[1m7/7\u001b[0m \u001b[32m━━━━━━━━━━━━━━━━━━━━\u001b[0m\u001b[37m\u001b[0m \u001b[1m0s\u001b[0m 13ms/step - loss: 316675719168.0000 - val_loss: 280063901696.0000\n",
      "Epoch 73/300\n",
      "\u001b[1m7/7\u001b[0m \u001b[32m━━━━━━━━━━━━━━━━━━━━\u001b[0m\u001b[37m\u001b[0m \u001b[1m0s\u001b[0m 13ms/step - loss: 313780371456.0000 - val_loss: 277415559168.0000\n",
      "Epoch 74/300\n",
      "\u001b[1m7/7\u001b[0m \u001b[32m━━━━━━━━━━━━━━━━━━━━\u001b[0m\u001b[37m\u001b[0m \u001b[1m0s\u001b[0m 11ms/step - loss: 310650699776.0000 - val_loss: 274634375168.0000\n",
      "Epoch 75/300\n",
      "\u001b[1m7/7\u001b[0m \u001b[32m━━━━━━━━━━━━━━━━━━━━\u001b[0m\u001b[37m\u001b[0m \u001b[1m0s\u001b[0m 14ms/step - loss: 307272581120.0000 - val_loss: 271738175488.0000\n",
      "Epoch 76/300\n",
      "\u001b[1m7/7\u001b[0m \u001b[32m━━━━━━━━━━━━━━━━━━━━\u001b[0m\u001b[37m\u001b[0m \u001b[1m0s\u001b[0m 13ms/step - loss: 303602728960.0000 - val_loss: 268758679552.0000\n",
      "Epoch 77/300\n",
      "\u001b[1m7/7\u001b[0m \u001b[32m━━━━━━━━━━━━━━━━━━━━\u001b[0m\u001b[37m\u001b[0m \u001b[1m0s\u001b[0m 11ms/step - loss: 300163727360.0000 - val_loss: 265568141312.0000\n",
      "Epoch 78/300\n",
      "\u001b[1m7/7\u001b[0m \u001b[32m━━━━━━━━━━━━━━━━━━━━\u001b[0m\u001b[37m\u001b[0m \u001b[1m0s\u001b[0m 11ms/step - loss: 296254636032.0000 - val_loss: 262277054464.0000\n",
      "Epoch 79/300\n",
      "\u001b[1m7/7\u001b[0m \u001b[32m━━━━━━━━━━━━━━━━━━━━\u001b[0m\u001b[37m\u001b[0m \u001b[1m0s\u001b[0m 14ms/step - loss: 292221091840.0000 - val_loss: 258853683200.0000\n",
      "Epoch 80/300\n",
      "\u001b[1m7/7\u001b[0m \u001b[32m━━━━━━━━━━━━━━━━━━━━\u001b[0m\u001b[37m\u001b[0m \u001b[1m0s\u001b[0m 13ms/step - loss: 287978717184.0000 - val_loss: 255282626560.0000\n",
      "Epoch 81/300\n",
      "\u001b[1m7/7\u001b[0m \u001b[32m━━━━━━━━━━━━━━━━━━━━\u001b[0m\u001b[37m\u001b[0m \u001b[1m0s\u001b[0m 12ms/step - loss: 284115828736.0000 - val_loss: 251638857728.0000\n",
      "Epoch 82/300\n",
      "\u001b[1m7/7\u001b[0m \u001b[32m━━━━━━━━━━━━━━━━━━━━\u001b[0m\u001b[37m\u001b[0m \u001b[1m0s\u001b[0m 11ms/step - loss: 279513890816.0000 - val_loss: 247713841152.0000\n",
      "Epoch 83/300\n",
      "\u001b[1m7/7\u001b[0m \u001b[32m━━━━━━━━━━━━━━━━━━━━\u001b[0m\u001b[37m\u001b[0m \u001b[1m0s\u001b[0m 12ms/step - loss: 274384109568.0000 - val_loss: 243756728320.0000\n",
      "Epoch 84/300\n",
      "\u001b[1m7/7\u001b[0m \u001b[32m━━━━━━━━━━━━━━━━━━━━\u001b[0m\u001b[37m\u001b[0m \u001b[1m0s\u001b[0m 11ms/step - loss: 270026752000.0000 - val_loss: 239632236544.0000\n",
      "Epoch 85/300\n",
      "\u001b[1m7/7\u001b[0m \u001b[32m━━━━━━━━━━━━━━━━━━━━\u001b[0m\u001b[37m\u001b[0m \u001b[1m0s\u001b[0m 11ms/step - loss: 264549515264.0000 - val_loss: 235392139264.0000\n",
      "Epoch 86/300\n",
      "\u001b[1m7/7\u001b[0m \u001b[32m━━━━━━━━━━━━━━━━━━━━\u001b[0m\u001b[37m\u001b[0m \u001b[1m0s\u001b[0m 13ms/step - loss: 259646406656.0000 - val_loss: 231052214272.0000\n",
      "Epoch 87/300\n",
      "\u001b[1m7/7\u001b[0m \u001b[32m━━━━━━━━━━━━━━━━━━━━\u001b[0m\u001b[37m\u001b[0m \u001b[1m0s\u001b[0m 11ms/step - loss: 253951311872.0000 - val_loss: 226586361856.0000\n",
      "Epoch 88/300\n",
      "\u001b[1m7/7\u001b[0m \u001b[32m━━━━━━━━━━━━━━━━━━━━\u001b[0m\u001b[37m\u001b[0m \u001b[1m0s\u001b[0m 11ms/step - loss: 248702009344.0000 - val_loss: 222068588544.0000\n",
      "Epoch 89/300\n",
      "\u001b[1m7/7\u001b[0m \u001b[32m━━━━━━━━━━━━━━━━━━━━\u001b[0m\u001b[37m\u001b[0m \u001b[1m0s\u001b[0m 12ms/step - loss: 242898894848.0000 - val_loss: 217480511488.0000\n",
      "Epoch 90/300\n",
      "\u001b[1m7/7\u001b[0m \u001b[32m━━━━━━━━━━━━━━━━━━━━\u001b[0m\u001b[37m\u001b[0m \u001b[1m0s\u001b[0m 13ms/step - loss: 237762265088.0000 - val_loss: 212742553600.0000\n",
      "Epoch 91/300\n",
      "\u001b[1m7/7\u001b[0m \u001b[32m━━━━━━━━━━━━━━━━━━━━\u001b[0m\u001b[37m\u001b[0m \u001b[1m0s\u001b[0m 13ms/step - loss: 231531069440.0000 - val_loss: 207927590912.0000\n",
      "Epoch 92/300\n",
      "\u001b[1m7/7\u001b[0m \u001b[32m━━━━━━━━━━━━━━━━━━━━\u001b[0m\u001b[37m\u001b[0m \u001b[1m0s\u001b[0m 13ms/step - loss: 226010955776.0000 - val_loss: 203121655808.0000\n",
      "Epoch 93/300\n",
      "\u001b[1m7/7\u001b[0m \u001b[32m━━━━━━━━━━━━━━━━━━━━\u001b[0m\u001b[37m\u001b[0m \u001b[1m0s\u001b[0m 11ms/step - loss: 220147875840.0000 - val_loss: 198188548096.0000\n",
      "Epoch 94/300\n",
      "\u001b[1m7/7\u001b[0m \u001b[32m━━━━━━━━━━━━━━━━━━━━\u001b[0m\u001b[37m\u001b[0m \u001b[1m0s\u001b[0m 13ms/step - loss: 213614198784.0000 - val_loss: 193234665472.0000\n",
      "Epoch 95/300\n",
      "\u001b[1m7/7\u001b[0m \u001b[32m━━━━━━━━━━━━━━━━━━━━\u001b[0m\u001b[37m\u001b[0m \u001b[1m0s\u001b[0m 11ms/step - loss: 207722528768.0000 - val_loss: 188273803264.0000\n",
      "Epoch 96/300\n",
      "\u001b[1m7/7\u001b[0m \u001b[32m━━━━━━━━━━━━━━━━━━━━\u001b[0m\u001b[37m\u001b[0m \u001b[1m0s\u001b[0m 11ms/step - loss: 201736503296.0000 - val_loss: 183454957568.0000\n",
      "Epoch 97/300\n",
      "\u001b[1m7/7\u001b[0m \u001b[32m━━━━━━━━━━━━━━━━━━━━\u001b[0m\u001b[37m\u001b[0m \u001b[1m0s\u001b[0m 13ms/step - loss: 195182411776.0000 - val_loss: 178584240128.0000\n",
      "Epoch 98/300\n",
      "\u001b[1m7/7\u001b[0m \u001b[32m━━━━━━━━━━━━━━━━━━━━\u001b[0m\u001b[37m\u001b[0m \u001b[1m0s\u001b[0m 12ms/step - loss: 189114122240.0000 - val_loss: 173804830720.0000\n",
      "Epoch 99/300\n",
      "\u001b[1m7/7\u001b[0m \u001b[32m━━━━━━━━━━━━━━━━━━━━\u001b[0m\u001b[37m\u001b[0m \u001b[1m0s\u001b[0m 12ms/step - loss: 182531080192.0000 - val_loss: 168994947072.0000\n",
      "Epoch 100/300\n",
      "\u001b[1m7/7\u001b[0m \u001b[32m━━━━━━━━━━━━━━━━━━━━\u001b[0m\u001b[37m\u001b[0m \u001b[1m0s\u001b[0m 11ms/step - loss: 176266297344.0000 - val_loss: 164331110400.0000\n",
      "Epoch 101/300\n",
      "\u001b[1m7/7\u001b[0m \u001b[32m━━━━━━━━━━━━━━━━━━━━\u001b[0m\u001b[37m\u001b[0m \u001b[1m0s\u001b[0m 13ms/step - loss: 170414145536.0000 - val_loss: 159709495296.0000\n",
      "Epoch 102/300\n",
      "\u001b[1m7/7\u001b[0m \u001b[32m━━━━━━━━━━━━━━━━━━━━\u001b[0m\u001b[37m\u001b[0m \u001b[1m0s\u001b[0m 11ms/step - loss: 164858429440.0000 - val_loss: 155155464192.0000\n",
      "Epoch 103/300\n",
      "\u001b[1m7/7\u001b[0m \u001b[32m━━━━━━━━━━━━━━━━━━━━\u001b[0m\u001b[37m\u001b[0m \u001b[1m0s\u001b[0m 12ms/step - loss: 158318542848.0000 - val_loss: 150949150720.0000\n",
      "Epoch 104/300\n",
      "\u001b[1m7/7\u001b[0m \u001b[32m━━━━━━━━━━━━━━━━━━━━\u001b[0m\u001b[37m\u001b[0m \u001b[1m0s\u001b[0m 12ms/step - loss: 153211699200.0000 - val_loss: 146909986816.0000\n",
      "Epoch 105/300\n",
      "\u001b[1m7/7\u001b[0m \u001b[32m━━━━━━━━━━━━━━━━━━━━\u001b[0m\u001b[37m\u001b[0m \u001b[1m0s\u001b[0m 12ms/step - loss: 147698188288.0000 - val_loss: 142985330688.0000\n",
      "Epoch 106/300\n",
      "\u001b[1m7/7\u001b[0m \u001b[32m━━━━━━━━━━━━━━━━━━━━\u001b[0m\u001b[37m\u001b[0m \u001b[1m0s\u001b[0m 12ms/step - loss: 143117369344.0000 - val_loss: 139130601472.0000\n",
      "Epoch 107/300\n",
      "\u001b[1m7/7\u001b[0m \u001b[32m━━━━━━━━━━━━━━━━━━━━\u001b[0m\u001b[37m\u001b[0m \u001b[1m0s\u001b[0m 12ms/step - loss: 137031483392.0000 - val_loss: 135512334336.0000\n",
      "Epoch 108/300\n",
      "\u001b[1m7/7\u001b[0m \u001b[32m━━━━━━━━━━━━━━━━━━━━\u001b[0m\u001b[37m\u001b[0m \u001b[1m0s\u001b[0m 12ms/step - loss: 132008615936.0000 - val_loss: 132030201856.0000\n",
      "Epoch 109/300\n",
      "\u001b[1m7/7\u001b[0m \u001b[32m━━━━━━━━━━━━━━━━━━━━\u001b[0m\u001b[37m\u001b[0m \u001b[1m0s\u001b[0m 13ms/step - loss: 126447689728.0000 - val_loss: 128850599936.0000\n",
      "Epoch 110/300\n",
      "\u001b[1m7/7\u001b[0m \u001b[32m━━━━━━━━━━━━━━━━━━━━\u001b[0m\u001b[37m\u001b[0m \u001b[1m0s\u001b[0m 12ms/step - loss: 122568007680.0000 - val_loss: 125900423168.0000\n",
      "Epoch 111/300\n",
      "\u001b[1m7/7\u001b[0m \u001b[32m━━━━━━━━━━━━━━━━━━━━\u001b[0m\u001b[37m\u001b[0m \u001b[1m0s\u001b[0m 11ms/step - loss: 119088824320.0000 - val_loss: 123173683200.0000\n",
      "Epoch 112/300\n",
      "\u001b[1m7/7\u001b[0m \u001b[32m━━━━━━━━━━━━━━━━━━━━\u001b[0m\u001b[37m\u001b[0m \u001b[1m0s\u001b[0m 14ms/step - loss: 113307844608.0000 - val_loss: 120663498752.0000\n",
      "Epoch 113/300\n",
      "\u001b[1m7/7\u001b[0m \u001b[32m━━━━━━━━━━━━━━━━━━━━\u001b[0m\u001b[37m\u001b[0m \u001b[1m0s\u001b[0m 12ms/step - loss: 108093743104.0000 - val_loss: 118306054144.0000\n",
      "Epoch 114/300\n",
      "\u001b[1m7/7\u001b[0m \u001b[32m━━━━━━━━━━━━━━━━━━━━\u001b[0m\u001b[37m\u001b[0m \u001b[1m0s\u001b[0m 12ms/step - loss: 105831137280.0000 - val_loss: 116195983360.0000\n",
      "Epoch 115/300\n",
      "\u001b[1m7/7\u001b[0m \u001b[32m━━━━━━━━━━━━━━━━━━━━\u001b[0m\u001b[37m\u001b[0m \u001b[1m0s\u001b[0m 11ms/step - loss: 102659432448.0000 - val_loss: 114296848384.0000\n",
      "Epoch 116/300\n",
      "\u001b[1m7/7\u001b[0m \u001b[32m━━━━━━━━━━━━━━━━━━━━\u001b[0m\u001b[37m\u001b[0m \u001b[1m0s\u001b[0m 11ms/step - loss: 98362179584.0000 - val_loss: 112658366464.0000\n",
      "Epoch 117/300\n",
      "\u001b[1m7/7\u001b[0m \u001b[32m━━━━━━━━━━━━━━━━━━━━\u001b[0m\u001b[37m\u001b[0m \u001b[1m0s\u001b[0m 13ms/step - loss: 97094860800.0000 - val_loss: 111214067712.0000\n",
      "Epoch 118/300\n",
      "\u001b[1m7/7\u001b[0m \u001b[32m━━━━━━━━━━━━━━━━━━━━\u001b[0m\u001b[37m\u001b[0m \u001b[1m0s\u001b[0m 12ms/step - loss: 93129293824.0000 - val_loss: 109983227904.0000\n",
      "Epoch 119/300\n",
      "\u001b[1m7/7\u001b[0m \u001b[32m━━━━━━━━━━━━━━━━━━━━\u001b[0m\u001b[37m\u001b[0m \u001b[1m0s\u001b[0m 12ms/step - loss: 91079942144.0000 - val_loss: 108929056768.0000\n",
      "Epoch 120/300\n",
      "\u001b[1m7/7\u001b[0m \u001b[32m━━━━━━━━━━━━━━━━━━━━\u001b[0m\u001b[37m\u001b[0m \u001b[1m0s\u001b[0m 12ms/step - loss: 89569001472.0000 - val_loss: 108062621696.0000\n",
      "Epoch 121/300\n",
      "\u001b[1m7/7\u001b[0m \u001b[32m━━━━━━━━━━━━━━━━━━━━\u001b[0m\u001b[37m\u001b[0m \u001b[1m0s\u001b[0m 13ms/step - loss: 87694745600.0000 - val_loss: 107347640320.0000\n",
      "Epoch 122/300\n",
      "\u001b[1m7/7\u001b[0m \u001b[32m━━━━━━━━━━━━━━━━━━━━\u001b[0m\u001b[37m\u001b[0m \u001b[1m0s\u001b[0m 11ms/step - loss: 85139849216.0000 - val_loss: 106778615808.0000\n",
      "Epoch 123/300\n",
      "\u001b[1m7/7\u001b[0m \u001b[32m━━━━━━━━━━━━━━━━━━━━\u001b[0m\u001b[37m\u001b[0m \u001b[1m0s\u001b[0m 12ms/step - loss: 83638632448.0000 - val_loss: 106344783872.0000\n",
      "Epoch 124/300\n",
      "\u001b[1m7/7\u001b[0m \u001b[32m━━━━━━━━━━━━━━━━━━━━\u001b[0m\u001b[37m\u001b[0m \u001b[1m0s\u001b[0m 11ms/step - loss: 81514987520.0000 - val_loss: 106014957568.0000\n",
      "Epoch 125/300\n",
      "\u001b[1m7/7\u001b[0m \u001b[32m━━━━━━━━━━━━━━━━━━━━\u001b[0m\u001b[37m\u001b[0m \u001b[1m0s\u001b[0m 11ms/step - loss: 79918538752.0000 - val_loss: 105788809216.0000\n",
      "Epoch 126/300\n",
      "\u001b[1m7/7\u001b[0m \u001b[32m━━━━━━━━━━━━━━━━━━━━\u001b[0m\u001b[37m\u001b[0m \u001b[1m0s\u001b[0m 13ms/step - loss: 80390987776.0000 - val_loss: 105704357888.0000\n",
      "Epoch 127/300\n",
      "\u001b[1m7/7\u001b[0m \u001b[32m━━━━━━━━━━━━━━━━━━━━\u001b[0m\u001b[37m\u001b[0m \u001b[1m0s\u001b[0m 11ms/step - loss: 77748199424.0000 - val_loss: 105594970112.0000\n",
      "Epoch 128/300\n",
      "\u001b[1m7/7\u001b[0m \u001b[32m━━━━━━━━━━━━━━━━━━━━\u001b[0m\u001b[37m\u001b[0m \u001b[1m0s\u001b[0m 11ms/step - loss: 78717591552.0000 - val_loss: 105667248128.0000\n",
      "Epoch 129/300\n",
      "\u001b[1m7/7\u001b[0m \u001b[32m━━━━━━━━━━━━━━━━━━━━\u001b[0m\u001b[37m\u001b[0m \u001b[1m0s\u001b[0m 12ms/step - loss: 76766216192.0000 - val_loss: 105676865536.0000\n",
      "Epoch 130/300\n",
      "\u001b[1m7/7\u001b[0m \u001b[32m━━━━━━━━━━━━━━━━━━━━\u001b[0m\u001b[37m\u001b[0m \u001b[1m0s\u001b[0m 11ms/step - loss: 76570615808.0000 - val_loss: 105692192768.0000\n",
      "Epoch 131/300\n",
      "\u001b[1m7/7\u001b[0m \u001b[32m━━━━━━━━━━━━━━━━━━━━\u001b[0m\u001b[37m\u001b[0m \u001b[1m0s\u001b[0m 12ms/step - loss: 76157272064.0000 - val_loss: 105746579456.0000\n",
      "Epoch 132/300\n",
      "\u001b[1m7/7\u001b[0m \u001b[32m━━━━━━━━━━━━━━━━━━━━\u001b[0m\u001b[37m\u001b[0m \u001b[1m0s\u001b[0m 11ms/step - loss: 77087416320.0000 - val_loss: 105797337088.0000\n",
      "Epoch 133/300\n",
      "\u001b[1m7/7\u001b[0m \u001b[32m━━━━━━━━━━━━━━━━━━━━\u001b[0m\u001b[37m\u001b[0m \u001b[1m0s\u001b[0m 12ms/step - loss: 74604904448.0000 - val_loss: 105810681856.0000\n",
      "Epoch 134/300\n",
      "\u001b[1m7/7\u001b[0m \u001b[32m━━━━━━━━━━━━━━━━━━━━\u001b[0m\u001b[37m\u001b[0m \u001b[1m0s\u001b[0m 12ms/step - loss: 75624816640.0000 - val_loss: 105980952576.0000\n",
      "Epoch 135/300\n",
      "\u001b[1m7/7\u001b[0m \u001b[32m━━━━━━━━━━━━━━━━━━━━\u001b[0m\u001b[37m\u001b[0m \u001b[1m0s\u001b[0m 11ms/step - loss: 74564665344.0000 - val_loss: 106097483776.0000\n",
      "Epoch 136/300\n",
      "\u001b[1m7/7\u001b[0m \u001b[32m━━━━━━━━━━━━━━━━━━━━\u001b[0m\u001b[37m\u001b[0m \u001b[1m0s\u001b[0m 12ms/step - loss: 74394959872.0000 - val_loss: 106199564288.0000\n",
      "Epoch 137/300\n",
      "\u001b[1m7/7\u001b[0m \u001b[32m━━━━━━━━━━━━━━━━━━━━\u001b[0m\u001b[37m\u001b[0m \u001b[1m0s\u001b[0m 11ms/step - loss: 74227351552.0000 - val_loss: 106177945600.0000\n",
      "Epoch 138/300\n",
      "\u001b[1m7/7\u001b[0m \u001b[32m━━━━━━━━━━━━━━━━━━━━\u001b[0m\u001b[37m\u001b[0m \u001b[1m0s\u001b[0m 12ms/step - loss: 73902465024.0000 - val_loss: 106278559744.0000\n",
      "Epoch 139/300\n",
      "\u001b[1m7/7\u001b[0m \u001b[32m━━━━━━━━━━━━━━━━━━━━\u001b[0m\u001b[37m\u001b[0m \u001b[1m0s\u001b[0m 14ms/step - loss: 74646069248.0000 - val_loss: 106258636800.0000\n",
      "Epoch 140/300\n",
      "\u001b[1m7/7\u001b[0m \u001b[32m━━━━━━━━━━━━━━━━━━━━\u001b[0m\u001b[37m\u001b[0m \u001b[1m0s\u001b[0m 11ms/step - loss: 72753012736.0000 - val_loss: 106268590080.0000\n",
      "Epoch 141/300\n",
      "\u001b[1m7/7\u001b[0m \u001b[32m━━━━━━━━━━━━━━━━━━━━\u001b[0m\u001b[37m\u001b[0m \u001b[1m0s\u001b[0m 14ms/step - loss: 74064314368.0000 - val_loss: 106257702912.0000\n",
      "Epoch 142/300\n",
      "\u001b[1m7/7\u001b[0m \u001b[32m━━━━━━━━━━━━━━━━━━━━\u001b[0m\u001b[37m\u001b[0m \u001b[1m0s\u001b[0m 12ms/step - loss: 73193627648.0000 - val_loss: 106304544768.0000\n",
      "Epoch 143/300\n",
      "\u001b[1m7/7\u001b[0m \u001b[32m━━━━━━━━━━━━━━━━━━━━\u001b[0m\u001b[37m\u001b[0m \u001b[1m0s\u001b[0m 11ms/step - loss: 73185738752.0000 - val_loss: 106197147648.0000\n",
      "Epoch 144/300\n",
      "\u001b[1m7/7\u001b[0m \u001b[32m━━━━━━━━━━━━━━━━━━━━\u001b[0m\u001b[37m\u001b[0m \u001b[1m0s\u001b[0m 14ms/step - loss: 73832497152.0000 - val_loss: 106074415104.0000\n",
      "Epoch 145/300\n",
      "\u001b[1m7/7\u001b[0m \u001b[32m━━━━━━━━━━━━━━━━━━━━\u001b[0m\u001b[37m\u001b[0m \u001b[1m0s\u001b[0m 12ms/step - loss: 72669921280.0000 - val_loss: 105979109376.0000\n",
      "Epoch 146/300\n",
      "\u001b[1m7/7\u001b[0m \u001b[32m━━━━━━━━━━━━━━━━━━━━\u001b[0m\u001b[37m\u001b[0m \u001b[1m0s\u001b[0m 11ms/step - loss: 71968628736.0000 - val_loss: 105956458496.0000\n",
      "Epoch 147/300\n",
      "\u001b[1m7/7\u001b[0m \u001b[32m━━━━━━━━━━━━━━━━━━━━\u001b[0m\u001b[37m\u001b[0m \u001b[1m0s\u001b[0m 11ms/step - loss: 74069475328.0000 - val_loss: 105893142528.0000\n"
     ]
    }
   ],
   "source": [
    "from tensorflow.keras.callbacks import EarlyStopping\n",
    "\n",
    "early_stop = EarlyStopping(\n",
    "    monitor=\"val_loss\",  # überwacht den Validierungsfehler\n",
    "    patience=20,         # wenn 20 Epochen lang keine Verbesserung → Stop\n",
    "    restore_best_weights=True\n",
    ")\n",
    "\n",
    "history = training_model_1.fit(\n",
    "    x=X_train, y=y_train,\n",
    "    epochs=300,\n",
    "    validation_data=(X_val, y_val),\n",
    "    callbacks=[early_stop],\n",
    "    verbose=1\n",
    ")\n"
   ]
  },
  {
   "cell_type": "markdown",
   "id": "f8fb6f67",
   "metadata": {},
   "source": [
    "#### Visualisation of the results"
   ]
  },
  {
   "cell_type": "code",
   "execution_count": 22,
   "id": "b8684f87",
   "metadata": {},
   "outputs": [
    {
     "data": {
      "image/png": "[encoded data removed]",
      "text/plain": [
       "<Figure size 800x500 with 1 Axes>"
      ]
     },
     "metadata": {},
     "output_type": "display_data"
    }
   ],
   "source": [
    "loss_df = pd.DataFrame(training_model_1.history.history)\n",
    "loss_df.plot(figsize=(8,5))\n",
    "plt.title(\"Training vs Validation Loss\")\n",
    "plt.xlabel(\"Epochs\")\n",
    "plt.ylabel(\"MSE Loss\")\n",
    "plt.grid(True)\n",
    "plt.show()\n"
   ]
  },
  {
   "cell_type": "markdown",
   "id": "5ed31144",
   "metadata": {},
   "source": [
    "#### Data evaluation"
   ]
  },
  {
   "cell_type": "code",
   "execution_count": 23,
   "id": "65d2881a",
   "metadata": {},
   "outputs": [
    {
     "name": "stdout",
     "output_type": "stream",
     "text": [
      "Test data evaluation\n",
      "77341777920.0\n",
      "\n",
      "Train data evaluation:\n",
      "78403256320.0\n"
     ]
    }
   ],
   "source": [
    "print(\"Test data evaluation\")\n",
    "print(training_model_1.evaluate(X_test, y_test, verbose=0))\n",
    "print(\"\\nTrain data evaluation:\")\n",
    "print(training_model_1.evaluate(X_train, y_train, verbose=0))"
   ]
  },
  {
   "cell_type": "markdown",
   "id": "9cb22e1b",
   "metadata": {},
   "source": [
    "#### Prediction of the data"
   ]
  },
  {
   "cell_type": "code",
   "execution_count": 26,
   "id": "899f7427",
   "metadata": {},
   "outputs": [
    {
     "name": "stdout",
     "output_type": "stream",
     "text": [
      "\u001b[1m2/2\u001b[0m \u001b[32m━━━━━━━━━━━━━━━━━━━━\u001b[0m\u001b[37m\u001b[0m \u001b[1m0s\u001b[0m 17ms/step\n"
     ]
    },
    {
     "data": {
      "application/vnd.microsoft.datawrangler.viewer.v0+json": {
       "columns": [
        {
         "name": "index",
         "rawType": "int64",
         "type": "integer"
        },
        {
         "name": "Test True Y",
         "rawType": "int64",
         "type": "integer"
        },
        {
         "name": "Model Predictions",
         "rawType": "float32",
         "type": "float"
        }
       ],
       "ref": "f0aa34e3-4234-4a87-906f-d310cb015eac",
       "rows": [
        [
         "0",
         "291335",
         "292249.97"
        ],
        [
         "1",
         "455528",
         "486351.3"
        ],
        [
         "2",
         "867595",
         "438202.56"
        ],
        [
         "3",
         "151663",
         "488196.12"
        ],
        [
         "4",
         "819094",
         "479485.62"
        ],
        [
         "5",
         "374329",
         "462338.8"
        ],
        [
         "6",
         "827270",
         "609689.75"
        ],
        [
         "7",
         "206530",
         "450338.94"
        ],
        [
         "8",
         "979858",
         "301795.88"
        ],
        [
         "9",
         "236330",
         "660656.94"
        ],
        [
         "10",
         "840976",
         "241439.38"
        ],
        [
         "11",
         "468452",
         "342951.75"
        ],
        [
         "12",
         "209751",
         "414106.44"
        ],
        [
         "13",
         "453531",
         "531016.9"
        ],
        [
         "14",
         "865313",
         "548308.75"
        ],
        [
         "15",
         "256730",
         "437714.25"
        ],
        [
         "16",
         "613153",
         "375277.44"
        ],
        [
         "17",
         "465838",
         "599152.0"
        ],
        [
         "18",
         "339931",
         "547858.9"
        ],
        [
         "19",
         "911774",
         "512627.88"
        ],
        [
         "20",
         "371836",
         "271911.25"
        ],
        [
         "21",
         "662332",
         "358727.22"
        ],
        [
         "22",
         "664685",
         "249944.95"
        ],
        [
         "23",
         "233883",
         "435409.2"
        ],
        [
         "24",
         "435674",
         "478062.62"
        ],
        [
         "25",
         "210078",
         "440929.12"
        ],
        [
         "26",
         "353618",
         "515166.16"
        ],
        [
         "27",
         "717075",
         "346130.38"
        ],
        [
         "28",
         "616588",
         "431464.53"
        ],
        [
         "29",
         "672843",
         "389560.06"
        ],
        [
         "30",
         "516880",
         "437748.72"
        ],
        [
         "31",
         "231932",
         "626453.4"
        ],
        [
         "32",
         "237337",
         "472886.7"
        ],
        [
         "33",
         "417824",
         "556301.1"
        ],
        [
         "34",
         "218451",
         "314765.06"
        ],
        [
         "35",
         "589492",
         "362121.28"
        ],
        [
         "36",
         "559773",
         "440434.1"
        ],
        [
         "37",
         "722794",
         "330822.62"
        ],
        [
         "38",
         "428947",
         "344382.3"
        ],
        [
         "39",
         "206081",
         "473402.6"
        ],
        [
         "40",
         "164044",
         "569866.94"
        ],
        [
         "41",
         "580754",
         "537746.25"
        ],
        [
         "42",
         "628178",
         "410126.5"
        ],
        [
         "43",
         "589570",
         "348437.1"
        ],
        [
         "44",
         "552366",
         "431390.5"
        ]
       ],
       "shape": {
        "columns": 2,
        "rows": 45
       }
      },
      "text/html": [
       "<div>\n",
       "<style scoped>\n",
       "    .dataframe tbody tr th:only-of-type {\n",
       "        vertical-align: middle;\n",
       "    }\n",
       "\n",
       "    .dataframe tbody tr th {\n",
       "        vertical-align: top;\n",
       "    }\n",
       "\n",
       "    .dataframe thead th {\n",
       "        text-align: right;\n",
       "    }\n",
       "</style>\n",
       "<table border=\"1\" class=\"dataframe\">\n",
       "  <thead>\n",
       "    <tr style=\"text-align: right;\">\n",
       "      <th></th>\n",
       "      <th>Test True Y</th>\n",
       "      <th>Model Predictions</th>\n",
       "    </tr>\n",
       "  </thead>\n",
       "  <tbody>\n",
       "    <tr>\n",
       "      <th>0</th>\n",
       "      <td>291335</td>\n",
       "      <td>292249.968750</td>\n",
       "    </tr>\n",
       "    <tr>\n",
       "      <th>1</th>\n",
       "      <td>455528</td>\n",
       "      <td>486351.312500</td>\n",
       "    </tr>\n",
       "    <tr>\n",
       "      <th>2</th>\n",
       "      <td>867595</td>\n",
       "      <td>438202.562500</td>\n",
       "    </tr>\n",
       "    <tr>\n",
       "      <th>3</th>\n",
       "      <td>151663</td>\n",
       "      <td>488196.125000</td>\n",
       "    </tr>\n",
       "    <tr>\n",
       "      <th>4</th>\n",
       "      <td>819094</td>\n",
       "      <td>479485.625000</td>\n",
       "    </tr>\n",
       "    <tr>\n",
       "      <th>5</th>\n",
       "      <td>374329</td>\n",
       "      <td>462338.812500</td>\n",
       "    </tr>\n",
       "    <tr>\n",
       "      <th>6</th>\n",
       "      <td>827270</td>\n",
       "      <td>609689.750000</td>\n",
       "    </tr>\n",
       "    <tr>\n",
       "      <th>7</th>\n",
       "      <td>206530</td>\n",
       "      <td>450338.937500</td>\n",
       "    </tr>\n",
       "    <tr>\n",
       "      <th>8</th>\n",
       "      <td>979858</td>\n",
       "      <td>301795.875000</td>\n",
       "    </tr>\n",
       "    <tr>\n",
       "      <th>9</th>\n",
       "      <td>236330</td>\n",
       "      <td>660656.937500</td>\n",
       "    </tr>\n",
       "    <tr>\n",
       "      <th>10</th>\n",
       "      <td>840976</td>\n",
       "      <td>241439.375000</td>\n",
       "    </tr>\n",
       "    <tr>\n",
       "      <th>11</th>\n",
       "      <td>468452</td>\n",
       "      <td>342951.750000</td>\n",
       "    </tr>\n",
       "    <tr>\n",
       "      <th>12</th>\n",
       "      <td>209751</td>\n",
       "      <td>414106.437500</td>\n",
       "    </tr>\n",
       "    <tr>\n",
       "      <th>13</th>\n",
       "      <td>453531</td>\n",
       "      <td>531016.875000</td>\n",
       "    </tr>\n",
       "    <tr>\n",
       "      <th>14</th>\n",
       "      <td>865313</td>\n",
       "      <td>548308.750000</td>\n",
       "    </tr>\n",
       "    <tr>\n",
       "      <th>15</th>\n",
       "      <td>256730</td>\n",
       "      <td>437714.250000</td>\n",
       "    </tr>\n",
       "    <tr>\n",
       "      <th>16</th>\n",
       "      <td>613153</td>\n",
       "      <td>375277.437500</td>\n",
       "    </tr>\n",
       "    <tr>\n",
       "      <th>17</th>\n",
       "      <td>465838</td>\n",
       "      <td>599152.000000</td>\n",
       "    </tr>\n",
       "    <tr>\n",
       "      <th>18</th>\n",
       "      <td>339931</td>\n",
       "      <td>547858.875000</td>\n",
       "    </tr>\n",
       "    <tr>\n",
       "      <th>19</th>\n",
       "      <td>911774</td>\n",
       "      <td>512627.875000</td>\n",
       "    </tr>\n",
       "    <tr>\n",
       "      <th>20</th>\n",
       "      <td>371836</td>\n",
       "      <td>271911.250000</td>\n",
       "    </tr>\n",
       "    <tr>\n",
       "      <th>21</th>\n",
       "      <td>662332</td>\n",
       "      <td>358727.218750</td>\n",
       "    </tr>\n",
       "    <tr>\n",
       "      <th>22</th>\n",
       "      <td>664685</td>\n",
       "      <td>249944.953125</td>\n",
       "    </tr>\n",
       "    <tr>\n",
       "      <th>23</th>\n",
       "      <td>233883</td>\n",
       "      <td>435409.187500</td>\n",
       "    </tr>\n",
       "    <tr>\n",
       "      <th>24</th>\n",
       "      <td>435674</td>\n",
       "      <td>478062.625000</td>\n",
       "    </tr>\n",
       "    <tr>\n",
       "      <th>25</th>\n",
       "      <td>210078</td>\n",
       "      <td>440929.125000</td>\n",
       "    </tr>\n",
       "    <tr>\n",
       "      <th>26</th>\n",
       "      <td>353618</td>\n",
       "      <td>515166.156250</td>\n",
       "    </tr>\n",
       "    <tr>\n",
       "      <th>27</th>\n",
       "      <td>717075</td>\n",
       "      <td>346130.375000</td>\n",
       "    </tr>\n",
       "    <tr>\n",
       "      <th>28</th>\n",
       "      <td>616588</td>\n",
       "      <td>431464.531250</td>\n",
       "    </tr>\n",
       "    <tr>\n",
       "      <th>29</th>\n",
       "      <td>672843</td>\n",
       "      <td>389560.062500</td>\n",
       "    </tr>\n",
       "    <tr>\n",
       "      <th>30</th>\n",
       "      <td>516880</td>\n",
       "      <td>437748.718750</td>\n",
       "    </tr>\n",
       "    <tr>\n",
       "      <th>31</th>\n",
       "      <td>231932</td>\n",
       "      <td>626453.375000</td>\n",
       "    </tr>\n",
       "    <tr>\n",
       "      <th>32</th>\n",
       "      <td>237337</td>\n",
       "      <td>472886.687500</td>\n",
       "    </tr>\n",
       "    <tr>\n",
       "      <th>33</th>\n",
       "      <td>417824</td>\n",
       "      <td>556301.125000</td>\n",
       "    </tr>\n",
       "    <tr>\n",
       "      <th>34</th>\n",
       "      <td>218451</td>\n",
       "      <td>314765.062500</td>\n",
       "    </tr>\n",
       "    <tr>\n",
       "      <th>35</th>\n",
       "      <td>589492</td>\n",
       "      <td>362121.281250</td>\n",
       "    </tr>\n",
       "    <tr>\n",
       "      <th>36</th>\n",
       "      <td>559773</td>\n",
       "      <td>440434.093750</td>\n",
       "    </tr>\n",
       "    <tr>\n",
       "      <th>37</th>\n",
       "      <td>722794</td>\n",
       "      <td>330822.625000</td>\n",
       "    </tr>\n",
       "    <tr>\n",
       "      <th>38</th>\n",
       "      <td>428947</td>\n",
       "      <td>344382.312500</td>\n",
       "    </tr>\n",
       "    <tr>\n",
       "      <th>39</th>\n",
       "      <td>206081</td>\n",
       "      <td>473402.593750</td>\n",
       "    </tr>\n",
       "    <tr>\n",
       "      <th>40</th>\n",
       "      <td>164044</td>\n",
       "      <td>569866.937500</td>\n",
       "    </tr>\n",
       "    <tr>\n",
       "      <th>41</th>\n",
       "      <td>580754</td>\n",
       "      <td>537746.250000</td>\n",
       "    </tr>\n",
       "    <tr>\n",
       "      <th>42</th>\n",
       "      <td>628178</td>\n",
       "      <td>410126.500000</td>\n",
       "    </tr>\n",
       "    <tr>\n",
       "      <th>43</th>\n",
       "      <td>589570</td>\n",
       "      <td>348437.093750</td>\n",
       "    </tr>\n",
       "    <tr>\n",
       "      <th>44</th>\n",
       "      <td>552366</td>\n",
       "      <td>431390.500000</td>\n",
       "    </tr>\n",
       "  </tbody>\n",
       "</table>\n",
       "</div>"
      ],
      "text/plain": [
       "    Test True Y  Model Predictions\n",
       "0        291335      292249.968750\n",
       "1        455528      486351.312500\n",
       "2        867595      438202.562500\n",
       "3        151663      488196.125000\n",
       "4        819094      479485.625000\n",
       "5        374329      462338.812500\n",
       "6        827270      609689.750000\n",
       "7        206530      450338.937500\n",
       "8        979858      301795.875000\n",
       "9        236330      660656.937500\n",
       "10       840976      241439.375000\n",
       "11       468452      342951.750000\n",
       "12       209751      414106.437500\n",
       "13       453531      531016.875000\n",
       "14       865313      548308.750000\n",
       "15       256730      437714.250000\n",
       "16       613153      375277.437500\n",
       "17       465838      599152.000000\n",
       "18       339931      547858.875000\n",
       "19       911774      512627.875000\n",
       "20       371836      271911.250000\n",
       "21       662332      358727.218750\n",
       "22       664685      249944.953125\n",
       "23       233883      435409.187500\n",
       "24       435674      478062.625000\n",
       "25       210078      440929.125000\n",
       "26       353618      515166.156250\n",
       "27       717075      346130.375000\n",
       "28       616588      431464.531250\n",
       "29       672843      389560.062500\n",
       "30       516880      437748.718750\n",
       "31       231932      626453.375000\n",
       "32       237337      472886.687500\n",
       "33       417824      556301.125000\n",
       "34       218451      314765.062500\n",
       "35       589492      362121.281250\n",
       "36       559773      440434.093750\n",
       "37       722794      330822.625000\n",
       "38       428947      344382.312500\n",
       "39       206081      473402.593750\n",
       "40       164044      569866.937500\n",
       "41       580754      537746.250000\n",
       "42       628178      410126.500000\n",
       "43       589570      348437.093750\n",
       "44       552366      431390.500000"
      ]
     },
     "execution_count": 26,
     "metadata": {},
     "output_type": "execute_result"
    }
   ],
   "source": [
    "import seaborn as sns\n",
    "\n",
    "test_predictions = training_model_1.predict(X_test)\n",
    "test_predictions = pd.Series(test_predictions.reshape(len(y_test),))\n",
    "\n",
    "pred_df = pd.DataFrame(pd.DataFrame(np.asarray(y_test), columns=[\"Test True Y\"]))\n",
    "pred_df = pd.concat([pred_df, test_predictions], axis = 1)\n",
    "pred_df.columns = [\"Test True Y\", \"Model Predictions\"]\n",
    "\n",
    "pred_df"
   ]
  },
  {
   "cell_type": "code",
   "execution_count": 38,
   "id": "32523806",
   "metadata": {},
   "outputs": [
    {
     "data": {
      "image/png": "[encoded data removed]",
      "text/plain": [
       "<Figure size 600x600 with 1 Axes>"
      ]
     },
     "metadata": {},
     "output_type": "display_data"
    }
   ],
   "source": [
    "plt.figure(figsize=(6,6))\n",
    "sns.scatterplot(x=\"Test True Y\", y=\"Model Predictions\", data=pred_df)\n",
    "\n",
    "# Rote gestrichelte Linie (perfekte Vorhersage)\n",
    "min_val = min(pred_df[\"Test True Y\"].min(), pred_df[\"Model Predictions\"].min())\n",
    "max_val = max(pred_df[\"Test True Y\"].max(), pred_df[\"Model Predictions\"].max())\n",
    "plt.plot([min_val, max_val], [min_val, max_val], \"r--\")\n",
    "\n",
    "plt.title(\"True vs Predicted House Prices\")\n",
    "plt.xlabel(\"Test True Y\")\n",
    "plt.ylabel(\"Model Predictions\")\n",
    "plt.show()\n"
   ]
  },
  {
   "cell_type": "code",
   "execution_count": 39,
   "id": "06ecad11",
   "metadata": {},
   "outputs": [
    {
     "name": "stdout",
     "output_type": "stream",
     "text": [
      "MAE\n",
      "236215.02 $\n",
      "\n",
      "MSE\n",
      "77341777920.0 $^2\n",
      "\n",
      "RMSE:\n",
      "278103.9 $\n",
      "\n",
      "R-squared:\n",
      "-0.46\n",
      "\n",
      "Explained variance score:\n",
      "-0.41\n"
     ]
    }
   ],
   "source": [
    "print(\"MAE\")\n",
    "print(round(metrics.mean_absolute_error(y_test, test_predictions), 2), \"$\")\n",
    "\n",
    "print(\"\\nMSE\")\n",
    "print(round(metrics.mean_squared_error(y_test, test_predictions), 2), \"$^2\")\n",
    "\n",
    "print('\\nRMSE:')\n",
    "print(round(np.sqrt(metrics.mean_squared_error(y_test, test_predictions)), 2), \"$\")\n",
    "\n",
    "print('\\nR-squared:')\n",
    "print(round(metrics.r2_score(y_test, test_predictions), 2))\n",
    "\n",
    "print(\"\\nExplained variance score:\")\n",
    "print(round(metrics.explained_variance_score(y_test, test_predictions), 2))"
   ]
  },
  {
   "cell_type": "code",
   "execution_count": 40,
   "id": "53a970ca",
   "metadata": {},
   "outputs": [
    {
     "name": "stderr",
     "output_type": "stream",
     "text": [
      "C:\\Users\\Timothy\\AppData\\Local\\Temp\\ipykernel_4008\\3264322254.py:1: UserWarning: \n",
      "\n",
      "`distplot` is a deprecated function and will be removed in seaborn v0.14.0.\n",
      "\n",
      "Please adapt your code to use either `displot` (a figure-level function with\n",
      "similar flexibility) or `histplot` (an axes-level function for histograms).\n",
      "\n",
      "For a guide to updating your code to use the new functions, please see\n",
      "https://gist.github.com/mwaskom/de44147ed2974457ad6372750bbe5751\n",
      "\n",
      "  sns.distplot((y_test - test_predictions))\n"
     ]
    },
    {
     "data": {
      "image/png": "[encoded data removed]",
      "text/plain": [
       "<Figure size 640x480 with 1 Axes>"
      ]
     },
     "metadata": {},
     "output_type": "display_data"
    }
   ],
   "source": [
    "sns.distplot((y_test - test_predictions))\n",
    "plt.show()\n",
    "plt.close()"
   ]
  },
  {
   "cell_type": "markdown",
   "id": "f1f51545",
   "metadata": {},
   "source": [
    "#### Trying the model in practice with new imaginery house"
   ]
  },
  {
   "cell_type": "code",
   "execution_count": 44,
   "id": "4b466772",
   "metadata": {},
   "outputs": [
    {
     "data": {
      "text/plain": [
       "Index(['Bedrooms', 'Bathrooms', 'SquareFeet', 'YearBuilt', 'GarageSpaces',\n",
       "       'LotSize', 'CrimeRate', 'SchoolRating', 'Region_East', 'Region_North',\n",
       "       'Region_South', 'Region_West'],\n",
       "      dtype='object')"
      ]
     },
     "execution_count": 44,
     "metadata": {},
     "output_type": "execute_result"
    }
   ],
   "source": [
    "X.columns"
   ]
  },
  {
   "cell_type": "code",
   "execution_count": 45,
   "id": "2dfc59fe",
   "metadata": {},
   "outputs": [
    {
     "data": {
      "application/vnd.microsoft.datawrangler.viewer.v0+json": {
       "columns": [
        {
         "name": "index",
         "rawType": "int64",
         "type": "integer"
        },
        {
         "name": "Bedrooms",
         "rawType": "int64",
         "type": "integer"
        },
        {
         "name": "Bathrooms",
         "rawType": "float64",
         "type": "float"
        },
        {
         "name": "SquareFeet",
         "rawType": "int64",
         "type": "integer"
        },
        {
         "name": "YearBuilt",
         "rawType": "int64",
         "type": "integer"
        },
        {
         "name": "GarageSpaces",
         "rawType": "int64",
         "type": "integer"
        },
        {
         "name": "LotSize",
         "rawType": "float64",
         "type": "float"
        },
        {
         "name": "CrimeRate",
         "rawType": "float64",
         "type": "float"
        },
        {
         "name": "SchoolRating",
         "rawType": "int64",
         "type": "integer"
        },
        {
         "name": "Region_East",
         "rawType": "bool",
         "type": "boolean"
        },
        {
         "name": "Region_North",
         "rawType": "bool",
         "type": "boolean"
        },
        {
         "name": "Region_South",
         "rawType": "bool",
         "type": "boolean"
        },
        {
         "name": "Region_West",
         "rawType": "bool",
         "type": "boolean"
        }
       ],
       "ref": "96ed02ea-d710-470c-a79e-f49bab4e0e64",
       "rows": [
        [
         "0",
         "1",
         "1.9",
         "4827",
         "1979",
         "2",
         "1.45",
         "48.6",
         "5",
         "False",
         "False",
         "False",
         "True"
        ],
        [
         "1",
         "2",
         "2.0",
         "1035",
         "1987",
         "2",
         "1.75",
         "92.03",
         "9",
         "False",
         "False",
         "False",
         "True"
        ],
        [
         "2",
         "1",
         "3.0",
         "2769",
         "1982",
         "1",
         "1.46",
         "52.08",
         "3",
         "False",
         "False",
         "False",
         "True"
        ]
       ],
       "shape": {
        "columns": 12,
        "rows": 3
       }
      },
      "text/html": [
       "<div>\n",
       "<style scoped>\n",
       "    .dataframe tbody tr th:only-of-type {\n",
       "        vertical-align: middle;\n",
       "    }\n",
       "\n",
       "    .dataframe tbody tr th {\n",
       "        vertical-align: top;\n",
       "    }\n",
       "\n",
       "    .dataframe thead th {\n",
       "        text-align: right;\n",
       "    }\n",
       "</style>\n",
       "<table border=\"1\" class=\"dataframe\">\n",
       "  <thead>\n",
       "    <tr style=\"text-align: right;\">\n",
       "      <th></th>\n",
       "      <th>Bedrooms</th>\n",
       "      <th>Bathrooms</th>\n",
       "      <th>SquareFeet</th>\n",
       "      <th>YearBuilt</th>\n",
       "      <th>GarageSpaces</th>\n",
       "      <th>LotSize</th>\n",
       "      <th>CrimeRate</th>\n",
       "      <th>SchoolRating</th>\n",
       "      <th>Region_East</th>\n",
       "      <th>Region_North</th>\n",
       "      <th>Region_South</th>\n",
       "      <th>Region_West</th>\n",
       "    </tr>\n",
       "  </thead>\n",
       "  <tbody>\n",
       "    <tr>\n",
       "      <th>0</th>\n",
       "      <td>1</td>\n",
       "      <td>1.9</td>\n",
       "      <td>4827</td>\n",
       "      <td>1979</td>\n",
       "      <td>2</td>\n",
       "      <td>1.45</td>\n",
       "      <td>48.60</td>\n",
       "      <td>5</td>\n",
       "      <td>False</td>\n",
       "      <td>False</td>\n",
       "      <td>False</td>\n",
       "      <td>True</td>\n",
       "    </tr>\n",
       "    <tr>\n",
       "      <th>1</th>\n",
       "      <td>2</td>\n",
       "      <td>2.0</td>\n",
       "      <td>1035</td>\n",
       "      <td>1987</td>\n",
       "      <td>2</td>\n",
       "      <td>1.75</td>\n",
       "      <td>92.03</td>\n",
       "      <td>9</td>\n",
       "      <td>False</td>\n",
       "      <td>False</td>\n",
       "      <td>False</td>\n",
       "      <td>True</td>\n",
       "    </tr>\n",
       "    <tr>\n",
       "      <th>2</th>\n",
       "      <td>1</td>\n",
       "      <td>3.0</td>\n",
       "      <td>2769</td>\n",
       "      <td>1982</td>\n",
       "      <td>1</td>\n",
       "      <td>1.46</td>\n",
       "      <td>52.08</td>\n",
       "      <td>3</td>\n",
       "      <td>False</td>\n",
       "      <td>False</td>\n",
       "      <td>False</td>\n",
       "      <td>True</td>\n",
       "    </tr>\n",
       "  </tbody>\n",
       "</table>\n",
       "</div>"
      ],
      "text/plain": [
       "   Bedrooms  Bathrooms  SquareFeet  YearBuilt  GarageSpaces  LotSize  \\\n",
       "0         1        1.9        4827       1979             2     1.45   \n",
       "1         2        2.0        1035       1987             2     1.75   \n",
       "2         1        3.0        2769       1982             1     1.46   \n",
       "\n",
       "   CrimeRate  SchoolRating  Region_East  Region_North  Region_South  \\\n",
       "0      48.60             5        False         False         False   \n",
       "1      92.03             9        False         False         False   \n",
       "2      52.08             3        False         False         False   \n",
       "\n",
       "   Region_West  \n",
       "0         True  \n",
       "1         True  \n",
       "2         True  "
      ]
     },
     "execution_count": 45,
     "metadata": {},
     "output_type": "execute_result"
    }
   ],
   "source": [
    "X.head(3)"
   ]
  },
  {
   "cell_type": "code",
   "execution_count": 48,
   "id": "2b3eee66",
   "metadata": {},
   "outputs": [
    {
     "name": "stdout",
     "output_type": "stream",
     "text": [
      "\u001b[1m1/1\u001b[0m \u001b[32m━━━━━━━━━━━━━━━━━━━━\u001b[0m\u001b[37m\u001b[0m \u001b[1m0s\u001b[0m 29ms/step\n",
      "Estimated house price with this example:\n",
      "$217651248.0\n"
     ]
    }
   ],
   "source": [
    "tester_row = {\n",
    "    \"Bedrooms\": 4,\n",
    "    \"Bathrooms\": 3,\n",
    "    \"SquareFeet\": 2500,\n",
    "    \"YearBuilt\": 2010,\n",
    "    \"GarageSpaces\": 2,\n",
    "    \"LotSize\": 5000,\n",
    "    \"CrimeRate\": 0.05,\n",
    "    \"SchoolRating\": 8,\n",
    "    \"Region_East\": 0,\n",
    "    \"Region_North\": 1,\n",
    "    \"Region_South\": 0,\n",
    "    \"Region_West\": 0\n",
    "}\n",
    "\n",
    "# In ein DataFrame umwandeln\n",
    "tester_row = pd.DataFrame([tester_row])\n",
    "\n",
    "# WICHTIG: Die gleichen Transformationen anwenden wie beim Training\n",
    "tester_row_scaled = scaler.transform(tester_row)\n",
    "\n",
    "# Vorhersage machen\n",
    "result = training_model_1.predict(tester_row_scaled)[0][0]\n",
    "\n",
    "print(\"Estimated house price with this example:\")\n",
    "print(f\"${round(float(result), 2)}\")"
   ]
  },
  {
   "cell_type": "markdown",
   "id": "39d294fa",
   "metadata": {},
   "source": [
    "#### Conclusion\n",
    "The analysis highlights several challenges in predicting house prices with our dataset using a neural network:\n",
    "\n",
    "Correlations: Most features show only very weak correlations with the target variable (Price). This limits the model’s ability to learn strong predictive patterns.\n",
    "\n",
    "Feature Importance (Fisher Score & Chi²): Variables such as SquareFeet, CrimeRate, and Region have higher importance, while others contribute very little. This confirms that not all features are equally useful.\n",
    "\n",
    "VIF Test: The results reveal high multicollinearity among the Region variables, meaning that some of them are redundant and may confuse the model.\n",
    "\n",
    "Model Performance: The error metrics (MAE, RMSE, negative R²) show that the trained model currently performs poorly. Predictions on new test data are also far off from the true values.\n",
    "\n",
    "In the end, the weak performance is less a problem of the neural network architecture itself, but rather of the dataset. The low correlation make accurate prediction difficult. To improve results, a larger and higher-quality dataset with more meaningful features would be necessary."
   ]
  },
  {
   "cell_type": "markdown",
   "id": "f0424cbb",
   "metadata": {},
   "source": [
    "#### Use of AI\n",
    "Since the original dataset was relatively small and might have limited the model’s learning capacity, I used AI to generate 5,000 synthetic but realistic housing data samples. The goal was to test whether the poor performance mainly resulted from the lack of data. By expanding the dataset, we aimed to give the model more diverse examples and improve its ability to generalize."
   ]
  },
  {
   "cell_type": "markdown",
   "id": "17717d72",
   "metadata": {},
   "source": [
    "#### Loading the dataset"
   ]
  },
  {
   "cell_type": "code",
   "execution_count": 55,
   "id": "ba11c507",
   "metadata": {},
   "outputs": [
    {
     "data": {
      "application/vnd.microsoft.datawrangler.viewer.v0+json": {
       "columns": [
        {
         "name": "index",
         "rawType": "int64",
         "type": "integer"
        },
        {
         "name": "Price",
         "rawType": "int64",
         "type": "integer"
        },
        {
         "name": "Bedrooms",
         "rawType": "int64",
         "type": "integer"
        },
        {
         "name": "Bathrooms",
         "rawType": "float64",
         "type": "float"
        },
        {
         "name": "SquareFeet",
         "rawType": "int64",
         "type": "integer"
        },
        {
         "name": "YearBuilt",
         "rawType": "int64",
         "type": "integer"
        },
        {
         "name": "GarageSpaces",
         "rawType": "int64",
         "type": "integer"
        },
        {
         "name": "LotSize",
         "rawType": "float64",
         "type": "float"
        },
        {
         "name": "ZipCode",
         "rawType": "int64",
         "type": "integer"
        },
        {
         "name": "CrimeRate",
         "rawType": "float64",
         "type": "float"
        },
        {
         "name": "SchoolRating",
         "rawType": "int64",
         "type": "integer"
        }
       ],
       "ref": "b0f41cdb-29c9-4f95-b61a-f1fb1c05ede8",
       "rows": [
        [
         "0",
         "768057",
         "4",
         "1.7",
         "2847",
         "1972",
         "2",
         "1.46",
         "75201",
         "37.28",
         "10"
        ],
        [
         "1",
         "712254",
         "5",
         "3.3",
         "2740",
         "1964",
         "1",
         "1.66",
         "30301",
         "39.89",
         "1"
        ],
        [
         "2",
         "713762",
         "3",
         "2.4",
         "3163",
         "1966",
         "2",
         "0.99",
         "30301",
         "84.57",
         "3"
        ],
        [
         "3",
         "881840",
         "5",
         "2.7",
         "3306",
         "1963",
         "2",
         "1.29",
         "60601",
         "49.06",
         "5"
        ],
        [
         "4",
         "881072",
         "5",
         "2.9",
         "3591",
         "1965",
         "1",
         "1.54",
         "30301",
         "53.41",
         "4"
        ]
       ],
       "shape": {
        "columns": 10,
        "rows": 5
       }
      },
      "text/html": [
       "<div>\n",
       "<style scoped>\n",
       "    .dataframe tbody tr th:only-of-type {\n",
       "        vertical-align: middle;\n",
       "    }\n",
       "\n",
       "    .dataframe tbody tr th {\n",
       "        vertical-align: top;\n",
       "    }\n",
       "\n",
       "    .dataframe thead th {\n",
       "        text-align: right;\n",
       "    }\n",
       "</style>\n",
       "<table border=\"1\" class=\"dataframe\">\n",
       "  <thead>\n",
       "    <tr style=\"text-align: right;\">\n",
       "      <th></th>\n",
       "      <th>Price</th>\n",
       "      <th>Bedrooms</th>\n",
       "      <th>Bathrooms</th>\n",
       "      <th>SquareFeet</th>\n",
       "      <th>YearBuilt</th>\n",
       "      <th>GarageSpaces</th>\n",
       "      <th>LotSize</th>\n",
       "      <th>ZipCode</th>\n",
       "      <th>CrimeRate</th>\n",
       "      <th>SchoolRating</th>\n",
       "    </tr>\n",
       "  </thead>\n",
       "  <tbody>\n",
       "    <tr>\n",
       "      <th>0</th>\n",
       "      <td>768057</td>\n",
       "      <td>4</td>\n",
       "      <td>1.7</td>\n",
       "      <td>2847</td>\n",
       "      <td>1972</td>\n",
       "      <td>2</td>\n",
       "      <td>1.46</td>\n",
       "      <td>75201</td>\n",
       "      <td>37.28</td>\n",
       "      <td>10</td>\n",
       "    </tr>\n",
       "    <tr>\n",
       "      <th>1</th>\n",
       "      <td>712254</td>\n",
       "      <td>5</td>\n",
       "      <td>3.3</td>\n",
       "      <td>2740</td>\n",
       "      <td>1964</td>\n",
       "      <td>1</td>\n",
       "      <td>1.66</td>\n",
       "      <td>30301</td>\n",
       "      <td>39.89</td>\n",
       "      <td>1</td>\n",
       "    </tr>\n",
       "    <tr>\n",
       "      <th>2</th>\n",
       "      <td>713762</td>\n",
       "      <td>3</td>\n",
       "      <td>2.4</td>\n",
       "      <td>3163</td>\n",
       "      <td>1966</td>\n",
       "      <td>2</td>\n",
       "      <td>0.99</td>\n",
       "      <td>30301</td>\n",
       "      <td>84.57</td>\n",
       "      <td>3</td>\n",
       "    </tr>\n",
       "    <tr>\n",
       "      <th>3</th>\n",
       "      <td>881840</td>\n",
       "      <td>5</td>\n",
       "      <td>2.7</td>\n",
       "      <td>3306</td>\n",
       "      <td>1963</td>\n",
       "      <td>2</td>\n",
       "      <td>1.29</td>\n",
       "      <td>60601</td>\n",
       "      <td>49.06</td>\n",
       "      <td>5</td>\n",
       "    </tr>\n",
       "    <tr>\n",
       "      <th>4</th>\n",
       "      <td>881072</td>\n",
       "      <td>5</td>\n",
       "      <td>2.9</td>\n",
       "      <td>3591</td>\n",
       "      <td>1965</td>\n",
       "      <td>1</td>\n",
       "      <td>1.54</td>\n",
       "      <td>30301</td>\n",
       "      <td>53.41</td>\n",
       "      <td>4</td>\n",
       "    </tr>\n",
       "  </tbody>\n",
       "</table>\n",
       "</div>"
      ],
      "text/plain": [
       "    Price  Bedrooms  Bathrooms  SquareFeet  YearBuilt  GarageSpaces  LotSize  \\\n",
       "0  768057         4        1.7        2847       1972             2     1.46   \n",
       "1  712254         5        3.3        2740       1964             1     1.66   \n",
       "2  713762         3        2.4        3163       1966             2     0.99   \n",
       "3  881840         5        2.7        3306       1963             2     1.29   \n",
       "4  881072         5        2.9        3591       1965             1     1.54   \n",
       "\n",
       "   ZipCode  CrimeRate  SchoolRating  \n",
       "0    75201      37.28            10  \n",
       "1    30301      39.89             1  \n",
       "2    30301      84.57             3  \n",
       "3    60601      49.06             5  \n",
       "4    30301      53.41             4  "
      ]
     },
     "execution_count": 55,
     "metadata": {},
     "output_type": "execute_result"
    }
   ],
   "source": [
    "# No categorial variables, only numerical values\n",
    "df = pd.read_csv(\"usa_housing_realistic.csv\")\n",
    "df.head()"
   ]
  },
  {
   "cell_type": "code",
   "execution_count": 56,
   "id": "c73f2a33",
   "metadata": {},
   "outputs": [
    {
     "name": "stdout",
     "output_type": "stream",
     "text": [
      "(5000, 10)\n",
      "\n",
      "\n",
      "<class 'pandas.core.frame.DataFrame'>\n",
      "RangeIndex: 5000 entries, 0 to 4999\n",
      "Data columns (total 10 columns):\n",
      " #   Column        Non-Null Count  Dtype  \n",
      "---  ------        --------------  -----  \n",
      " 0   Price         5000 non-null   int64  \n",
      " 1   Bedrooms      5000 non-null   int64  \n",
      " 2   Bathrooms     5000 non-null   float64\n",
      " 3   SquareFeet    5000 non-null   int64  \n",
      " 4   YearBuilt     5000 non-null   int64  \n",
      " 5   GarageSpaces  5000 non-null   int64  \n",
      " 6   LotSize       5000 non-null   float64\n",
      " 7   ZipCode       5000 non-null   int64  \n",
      " 8   CrimeRate     5000 non-null   float64\n",
      " 9   SchoolRating  5000 non-null   int64  \n",
      "dtypes: float64(3), int64(7)\n",
      "memory usage: 390.8 KB\n",
      "None\n",
      "\n",
      "\n",
      "              Price     Bedrooms    Bathrooms   SquareFeet    YearBuilt  \\\n",
      "count  5.000000e+03  5000.000000  5000.000000  5000.000000  5000.000000   \n",
      "mean   6.907359e+05     3.010800     2.890500  2704.120200  1985.472200   \n",
      "std    1.835829e+05     1.424601     0.661585   746.768298    21.087384   \n",
      "min    1.302280e+05     1.000000     1.000000   400.000000  1950.000000   \n",
      "25%    5.542125e+05     2.000000     2.400000  2163.000000  1967.000000   \n",
      "50%    6.893525e+05     3.000000     2.900000  2695.000000  1985.000000   \n",
      "75%    8.266085e+05     4.000000     3.300000  3252.250000  2003.000000   \n",
      "max    1.326626e+06     5.000000     5.000000  5188.000000  2022.000000   \n",
      "\n",
      "       GarageSpaces      LotSize       ZipCode    CrimeRate  SchoolRating  \n",
      "count   5000.000000  5000.000000   5000.000000  5000.000000    5000.00000  \n",
      "mean       1.513600     1.103114  53936.240000    49.794338       5.52780  \n",
      "std        0.811632     0.410293  30065.425261    19.775083       2.84423  \n",
      "min        0.000000     0.100000  10001.000000     0.000000       1.00000  \n",
      "25%        1.000000     0.810000  30301.000000    36.605000       3.00000  \n",
      "50%        2.000000     1.100000  60601.000000    49.685000       6.00000  \n",
      "75%        2.000000     1.390000  75201.000000    63.250000       8.00000  \n",
      "max        3.000000     2.350000  94101.000000   100.000000      10.00000  \n"
     ]
    }
   ],
   "source": [
    "print(df.shape)\n",
    "print(\"\\n\")\n",
    "print(df.info())\n",
    "print(\"\\n\")\n",
    "print(df.describe())"
   ]
  },
  {
   "cell_type": "code",
   "execution_count": 57,
   "id": "afa4c6e9",
   "metadata": {},
   "outputs": [
    {
     "name": "stdout",
     "output_type": "stream",
     "text": [
      "Amount of data in the dataset: \n"
     ]
    },
    {
     "data": {
      "text/plain": [
       "5000"
      ]
     },
     "execution_count": 57,
     "metadata": {},
     "output_type": "execute_result"
    }
   ],
   "source": [
    "print(\"Amount of data in the dataset: \")\n",
    "len(df)"
   ]
  },
  {
   "cell_type": "markdown",
   "id": "98f839de",
   "metadata": {},
   "source": [
    "#### Clean the dataset and handle mising values"
   ]
  },
  {
   "cell_type": "code",
   "execution_count": 58,
   "id": "1706c681",
   "metadata": {},
   "outputs": [
    {
     "data": {
      "application/vnd.microsoft.datawrangler.viewer.v0+json": {
       "columns": [
        {
         "name": "index",
         "rawType": "object",
         "type": "string"
        },
        {
         "name": "0",
         "rawType": "int64",
         "type": "integer"
        }
       ],
       "ref": "4013a4dc-8ace-414b-8b38-bdef0748f835",
       "rows": [
        [
         "Price",
         "0"
        ],
        [
         "Bedrooms",
         "0"
        ],
        [
         "Bathrooms",
         "0"
        ],
        [
         "SquareFeet",
         "0"
        ],
        [
         "YearBuilt",
         "0"
        ],
        [
         "GarageSpaces",
         "0"
        ],
        [
         "LotSize",
         "0"
        ],
        [
         "ZipCode",
         "0"
        ],
        [
         "CrimeRate",
         "0"
        ],
        [
         "SchoolRating",
         "0"
        ]
       ],
       "shape": {
        "columns": 1,
        "rows": 10
       }
      },
      "text/plain": [
       "Price           0\n",
       "Bedrooms        0\n",
       "Bathrooms       0\n",
       "SquareFeet      0\n",
       "YearBuilt       0\n",
       "GarageSpaces    0\n",
       "LotSize         0\n",
       "ZipCode         0\n",
       "CrimeRate       0\n",
       "SchoolRating    0\n",
       "dtype: int64"
      ]
     },
     "execution_count": 58,
     "metadata": {},
     "output_type": "execute_result"
    }
   ],
   "source": [
    "df.isna().sum()"
   ]
  },
  {
   "cell_type": "markdown",
   "id": "9e7a3837",
   "metadata": {},
   "source": [
    "#### Check if there are any duplicates"
   ]
  },
  {
   "cell_type": "code",
   "execution_count": 59,
   "id": "5e612feb",
   "metadata": {},
   "outputs": [
    {
     "name": "stdout",
     "output_type": "stream",
     "text": [
      "Duplicates: \n"
     ]
    },
    {
     "data": {
      "text/plain": [
       "0"
      ]
     },
     "execution_count": 59,
     "metadata": {},
     "output_type": "execute_result"
    }
   ],
   "source": [
    "print(\"Duplicates: \")\n",
    "duplicates = int(df.duplicated().sum())\n",
    "duplicates"
   ]
  },
  {
   "cell_type": "code",
   "execution_count": 60,
   "id": "d716db37",
   "metadata": {},
   "outputs": [],
   "source": [
    "# Independent Variable List:\n",
    "# Bedrooms\n",
    "# Bathrooms\n",
    "# Squarefeet\n",
    "# YearBuilt\n",
    "# GarageSpaces\n",
    "# LotSize\n",
    "# ZipCode\n",
    "# CrimeRate\n",
    "# SchoolRating\n",
    "\n",
    "# Dependent Variables:\n",
    "# Price -> Training the model to predict this variable\n",
    "# Save every independent variable in X, except for \"price\"\n",
    "\n",
    "def zipcode_to_region(zipcode):\n",
    "    if 10000 <= zipcode < 30000:\n",
    "        return \"East\"\n",
    "    elif 30000 <= zipcode < 50000:\n",
    "        return \"South\"\n",
    "    elif 50000 <= zipcode < 70000:\n",
    "        return \"North\"\n",
    "    else:\n",
    "        return \"West\"\n",
    "\n",
    "# Falls Region-Spalten schon da sind → löschen\n",
    "df = df.drop(columns=[\"Region_East\", \"Region_West\", \"Region_South\", \"Region_North\"], errors=\"ignore\")\n",
    "\n",
    "# Neue Spalte mit Regionen\n",
    "df[\"Region\"] = df[\"ZipCode\"].apply(zipcode_to_region)\n",
    "\n",
    "# One-Hot-Encoding für Regionen\n",
    "df = pd.get_dummies(df, columns=[\"Region\"], drop_first=False)\n",
    "\n",
    "# X/y -Split\n",
    "y = df[\"Price\"]\n",
    "X = df.drop([\"Price\", \"ZipCode\"], axis=1)"
   ]
  },
  {
   "cell_type": "markdown",
   "id": "7901264d",
   "metadata": {},
   "source": [
    "#### Correlation"
   ]
  },
  {
   "cell_type": "code",
   "execution_count": 61,
   "id": "a078e6af",
   "metadata": {},
   "outputs": [
    {
     "data": {
      "image/png": "[encoded data removed]",
      "text/plain": [
       "<Figure size 1000x600 with 2 Axes>"
      ]
     },
     "metadata": {},
     "output_type": "display_data"
    }
   ],
   "source": [
    "# Correlation Matrix\n",
    "corr = X.join(y).corr(numeric_only=True)\n",
    "\n",
    "plt.figure(figsize=(10, 6))\n",
    "sns.heatmap(corr, annot=True, cmap=\"coolwarm\", fmt=\".2f\")\n",
    "plt.title(\"Correlation Matrix of Housing Data\")\n",
    "plt.show()"
   ]
  },
  {
   "cell_type": "markdown",
   "id": "e7511d5b",
   "metadata": {},
   "source": [
    "#### Fisher-Score"
   ]
  },
  {
   "cell_type": "code",
   "execution_count": 62,
   "id": "ea7eed10",
   "metadata": {},
   "outputs": [
    {
     "data": {
      "image/png": "[encoded data removed]",
      "text/plain": [
       "<Figure size 800x500 with 1 Axes>"
      ]
     },
     "metadata": {},
     "output_type": "display_data"
    }
   ],
   "source": [
    "from skfeature.function.similarity_based import fisher_score\n",
    "\n",
    "# Price in Kategorien (Quartile) aufteilen\n",
    "y_binned = pd.qcut(y, q=4, labels=False)\n",
    "\n",
    "# Fisher Score berechnen\n",
    "ranks = fisher_score.fisher_score(X.values, y_binned.values)\n",
    "feat_importances = pd.Series(ranks, index=X.columns)\n",
    "\n",
    "# Sortieren & Plotten\n",
    "feat_importances.sort_values(ascending=False).plot(kind=\"barh\", figsize=(8,5))\n",
    "plt.title(\"Feature Importance by Fisher Score\")\n",
    "plt.show()"
   ]
  },
  {
   "cell_type": "markdown",
   "id": "9229de6e",
   "metadata": {},
   "source": [
    "#### SelectKBest-Score"
   ]
  },
  {
   "cell_type": "code",
   "execution_count": 63,
   "id": "6733b339",
   "metadata": {},
   "outputs": [
    {
     "name": "stdout",
     "output_type": "stream",
     "text": [
      "         Feature    Chi2 Score\n",
      "2     SquareFeet  1.030823e+06\n",
      "6      CrimeRate  3.911576e+04\n",
      "7   SchoolRating  7.296236e+03\n",
      "8    Region_East  4.040463e+03\n",
      "9   Region_North  3.997633e+03\n",
      "10  Region_South  3.911387e+03\n",
      "0       Bedrooms  3.365855e+03\n",
      "11   Region_West  3.007443e+03\n",
      "4   GarageSpaces  2.167729e+03\n",
      "3      YearBuilt  1.115821e+03\n",
      "5        LotSize  7.609664e+02\n",
      "1      Bathrooms  7.556214e+02\n"
     ]
    },
    {
     "name": "stderr",
     "output_type": "stream",
     "text": [
      "d:\\5. Semester\\Deep Learning\\DL-projects\\venv312\\Lib\\site-packages\\sklearn\\preprocessing\\_label.py:302: UserWarning: The number of unique classes is greater than 50% of the number of samples. `y` could represent a regression problem, not a classification problem.\n",
      "  self.y_type_ = type_of_target(y, input_name=\"y\")\n",
      "d:\\5. Semester\\Deep Learning\\DL-projects\\venv312\\Lib\\site-packages\\sklearn\\utils\\multiclass.py:79: UserWarning: The number of unique classes is greater than 50% of the number of samples. `y` could represent a regression problem, not a classification problem.\n",
      "  ys_types = set(type_of_target(x) for x in ys)\n",
      "d:\\5. Semester\\Deep Learning\\DL-projects\\venv312\\Lib\\site-packages\\sklearn\\preprocessing\\_label.py:359: UserWarning: The number of unique classes is greater than 50% of the number of samples. `y` could represent a regression problem, not a classification problem.\n",
      "  y_is_multilabel = type_of_target(y).startswith(\"multilabel\")\n",
      "d:\\5. Semester\\Deep Learning\\DL-projects\\venv312\\Lib\\site-packages\\sklearn\\preprocessing\\_label.py:528: UserWarning: The number of unique classes is greater than 50% of the number of samples. `y` could represent a regression problem, not a classification problem.\n",
      "  y_type = type_of_target(y)\n"
     ]
    }
   ],
   "source": [
    "from sklearn.feature_selection import SelectKBest, chi2\n",
    "import numpy as np\n",
    "\n",
    "# Chi² Test erwartet nur nicht-negative Werte\n",
    "X_cat = np.abs(X)  \n",
    "y_cat = y.astype(int)\n",
    "\n",
    "chi2_selector = SelectKBest(score_func=chi2, k=\"all\")\n",
    "chi2_selector.fit(X_cat, y_cat)\n",
    "\n",
    "chi2_scores = pd.DataFrame({\n",
    "    \"Feature\": X_cat.columns,\n",
    "    \"Chi2 Score\": chi2_selector.scores_\n",
    "}).sort_values(by=\"Chi2 Score\", ascending=False)\n",
    "\n",
    "print(chi2_scores)"
   ]
  },
  {
   "cell_type": "markdown",
   "id": "2d33b1a1",
   "metadata": {},
   "source": [
    "#### VIF-Test"
   ]
  },
  {
   "cell_type": "code",
   "execution_count": 64,
   "id": "4a2a648a",
   "metadata": {},
   "outputs": [
    {
     "name": "stdout",
     "output_type": "stream",
     "text": [
      "         Feature          VIF\n",
      "0       Bedrooms     3.930642\n",
      "1      Bathrooms     1.686300\n",
      "2     SquareFeet     2.297704\n",
      "3      YearBuilt     1.001190\n",
      "4   GarageSpaces     1.000970\n",
      "5        LotSize     1.903355\n",
      "6      CrimeRate     1.002097\n",
      "7   SchoolRating     1.000972\n",
      "8    Region_East  1697.028720\n",
      "9   Region_North  1755.826894\n",
      "10  Region_South  1937.604167\n",
      "11   Region_West  3549.056924\n"
     ]
    }
   ],
   "source": [
    "from statsmodels.stats.outliers_influence import variance_inflation_factor\n",
    "\n",
    "# Kopie nur mit numerischen Features\n",
    "X_vif = X.copy()\n",
    "\n",
    "# sicherstellen, dass alle Features float sind\n",
    "X_vif = X_vif.astype(float)\n",
    "\n",
    "# DataFrame für VIF-Ergebnisse\n",
    "vif_data = pd.DataFrame()\n",
    "vif_data[\"Feature\"] = X_vif.columns\n",
    "vif_data[\"VIF\"] = [variance_inflation_factor(X_vif.values, i) for i in range(len(X_vif.columns))]\n",
    "\n",
    "print(vif_data)"
   ]
  },
  {
   "cell_type": "markdown",
   "id": "5187eb27",
   "metadata": {},
   "source": [
    "#### X/y -Split"
   ]
  },
  {
   "cell_type": "code",
   "execution_count": 65,
   "id": "18d6ba7f",
   "metadata": {},
   "outputs": [
    {
     "name": "stdout",
     "output_type": "stream",
     "text": [
      "Training size: (3500, 12)\n",
      "Validation size: (750, 12)\n",
      "Test size: (750, 12)\n"
     ]
    }
   ],
   "source": [
    "# Data splitted into 70% training data and 30% temporary data\n",
    "X_train, X_temp, y_train, y_temp = train_test_split(X, y, test_size=0.3)\n",
    "\n",
    "# Temporary data splitted into 15% test data and 15% validation data\n",
    "X_val, X_test, y_val, y_test = train_test_split(X_temp, y_temp, test_size=0.5)\n",
    "\n",
    "print(\"Training size:\", X_train.shape)\n",
    "print(\"Validation size:\", X_val.shape)\n",
    "print(\"Test size:\", X_test.shape)"
   ]
  },
  {
   "cell_type": "markdown",
   "id": "6f84828b",
   "metadata": {},
   "source": [
    "#### Scaling of the Data"
   ]
  },
  {
   "cell_type": "code",
   "execution_count": 66,
   "id": "1b018a08",
   "metadata": {},
   "outputs": [],
   "source": [
    "from sklearn.preprocessing import StandardScaler\n",
    "\n",
    "# Initialisiere den Scaler\n",
    "scaler = StandardScaler()\n",
    "\n",
    "# Fit nur mit Trainingsdaten, dann transformiere alle Sets\n",
    "X_train = scaler.fit_transform(X_train)\n",
    "X_val   = scaler.transform(X_val)\n",
    "X_test  = scaler.transform(X_test)\n"
   ]
  },
  {
   "cell_type": "markdown",
   "id": "d4c90847",
   "metadata": {},
   "source": [
    "#### Create a neural network structure"
   ]
  },
  {
   "cell_type": "code",
   "execution_count": 67,
   "id": "358c794f",
   "metadata": {},
   "outputs": [
    {
     "name": "stderr",
     "output_type": "stream",
     "text": [
      "d:\\5. Semester\\Deep Learning\\DL-projects\\venv312\\Lib\\site-packages\\keras\\src\\layers\\normalization\\batch_normalization.py:142: UserWarning: Do not pass an `input_shape`/`input_dim` argument to a layer. When using Sequential models, prefer using an `Input(shape)` object as the first layer in the model instead.\n",
      "  super().__init__(**kwargs)\n"
     ]
    },
    {
     "data": {
      "text/html": [
       "<pre style=\"white-space:pre;overflow-x:auto;line-height:normal;font-family:Menlo,'DejaVu Sans Mono',consolas,'Courier New',monospace\"><span style=\"font-weight: bold\">Model: \"sequential_2\"</span>\n",
       "</pre>\n"
      ],
      "text/plain": [
       "\u001b[1mModel: \"sequential_2\"\u001b[0m\n"
      ]
     },
     "metadata": {},
     "output_type": "display_data"
    },
    {
     "data": {
      "text/html": [
       "<pre style=\"white-space:pre;overflow-x:auto;line-height:normal;font-family:Menlo,'DejaVu Sans Mono',consolas,'Courier New',monospace\">┏━━━━━━━━━━━━━━━━━━━━━━━━━━━━━━━━━┳━━━━━━━━━━━━━━━━━━━━━━━━┳━━━━━━━━━━━━━━━┓\n",
       "┃<span style=\"font-weight: bold\"> Layer (type)                    </span>┃<span style=\"font-weight: bold\"> Output Shape           </span>┃<span style=\"font-weight: bold\">       Param # </span>┃\n",
       "┡━━━━━━━━━━━━━━━━━━━━━━━━━━━━━━━━━╇━━━━━━━━━━━━━━━━━━━━━━━━╇━━━━━━━━━━━━━━━┩\n",
       "│ batch_normalization_2           │ (<span style=\"color: #00d7ff; text-decoration-color: #00d7ff\">None</span>, <span style=\"color: #00af00; text-decoration-color: #00af00\">12</span>)             │            <span style=\"color: #00af00; text-decoration-color: #00af00\">48</span> │\n",
       "│ (<span style=\"color: #0087ff; text-decoration-color: #0087ff\">BatchNormalization</span>)            │                        │               │\n",
       "├─────────────────────────────────┼────────────────────────┼───────────────┤\n",
       "│ dense_8 (<span style=\"color: #0087ff; text-decoration-color: #0087ff\">Dense</span>)                 │ (<span style=\"color: #00d7ff; text-decoration-color: #00d7ff\">None</span>, <span style=\"color: #00af00; text-decoration-color: #00af00\">16</span>)             │           <span style=\"color: #00af00; text-decoration-color: #00af00\">208</span> │\n",
       "├─────────────────────────────────┼────────────────────────┼───────────────┤\n",
       "│ dense_9 (<span style=\"color: #0087ff; text-decoration-color: #0087ff\">Dense</span>)                 │ (<span style=\"color: #00d7ff; text-decoration-color: #00d7ff\">None</span>, <span style=\"color: #00af00; text-decoration-color: #00af00\">8</span>)              │           <span style=\"color: #00af00; text-decoration-color: #00af00\">136</span> │\n",
       "├─────────────────────────────────┼────────────────────────┼───────────────┤\n",
       "│ dense_10 (<span style=\"color: #0087ff; text-decoration-color: #0087ff\">Dense</span>)                │ (<span style=\"color: #00d7ff; text-decoration-color: #00d7ff\">None</span>, <span style=\"color: #00af00; text-decoration-color: #00af00\">4</span>)              │            <span style=\"color: #00af00; text-decoration-color: #00af00\">36</span> │\n",
       "├─────────────────────────────────┼────────────────────────┼───────────────┤\n",
       "│ dense_11 (<span style=\"color: #0087ff; text-decoration-color: #0087ff\">Dense</span>)                │ (<span style=\"color: #00d7ff; text-decoration-color: #00d7ff\">None</span>, <span style=\"color: #00af00; text-decoration-color: #00af00\">1</span>)              │             <span style=\"color: #00af00; text-decoration-color: #00af00\">5</span> │\n",
       "└─────────────────────────────────┴────────────────────────┴───────────────┘\n",
       "</pre>\n"
      ],
      "text/plain": [
       "┏━━━━━━━━━━━━━━━━━━━━━━━━━━━━━━━━━┳━━━━━━━━━━━━━━━━━━━━━━━━┳━━━━━━━━━━━━━━━┓\n",
       "┃\u001b[1m \u001b[0m\u001b[1mLayer (type)                   \u001b[0m\u001b[1m \u001b[0m┃\u001b[1m \u001b[0m\u001b[1mOutput Shape          \u001b[0m\u001b[1m \u001b[0m┃\u001b[1m \u001b[0m\u001b[1m      Param #\u001b[0m\u001b[1m \u001b[0m┃\n",
       "┡━━━━━━━━━━━━━━━━━━━━━━━━━━━━━━━━━╇━━━━━━━━━━━━━━━━━━━━━━━━╇━━━━━━━━━━━━━━━┩\n",
       "│ batch_normalization_2           │ (\u001b[38;5;45mNone\u001b[0m, \u001b[38;5;34m12\u001b[0m)             │            \u001b[38;5;34m48\u001b[0m │\n",
       "│ (\u001b[38;5;33mBatchNormalization\u001b[0m)            │                        │               │\n",
       "├─────────────────────────────────┼────────────────────────┼───────────────┤\n",
       "│ dense_8 (\u001b[38;5;33mDense\u001b[0m)                 │ (\u001b[38;5;45mNone\u001b[0m, \u001b[38;5;34m16\u001b[0m)             │           \u001b[38;5;34m208\u001b[0m │\n",
       "├─────────────────────────────────┼────────────────────────┼───────────────┤\n",
       "│ dense_9 (\u001b[38;5;33mDense\u001b[0m)                 │ (\u001b[38;5;45mNone\u001b[0m, \u001b[38;5;34m8\u001b[0m)              │           \u001b[38;5;34m136\u001b[0m │\n",
       "├─────────────────────────────────┼────────────────────────┼───────────────┤\n",
       "│ dense_10 (\u001b[38;5;33mDense\u001b[0m)                │ (\u001b[38;5;45mNone\u001b[0m, \u001b[38;5;34m4\u001b[0m)              │            \u001b[38;5;34m36\u001b[0m │\n",
       "├─────────────────────────────────┼────────────────────────┼───────────────┤\n",
       "│ dense_11 (\u001b[38;5;33mDense\u001b[0m)                │ (\u001b[38;5;45mNone\u001b[0m, \u001b[38;5;34m1\u001b[0m)              │             \u001b[38;5;34m5\u001b[0m │\n",
       "└─────────────────────────────────┴────────────────────────┴───────────────┘\n"
      ]
     },
     "metadata": {},
     "output_type": "display_data"
    },
    {
     "data": {
      "text/html": [
       "<pre style=\"white-space:pre;overflow-x:auto;line-height:normal;font-family:Menlo,'DejaVu Sans Mono',consolas,'Courier New',monospace\"><span style=\"font-weight: bold\"> Total params: </span><span style=\"color: #00af00; text-decoration-color: #00af00\">433</span> (1.69 KB)\n",
       "</pre>\n"
      ],
      "text/plain": [
       "\u001b[1m Total params: \u001b[0m\u001b[38;5;34m433\u001b[0m (1.69 KB)\n"
      ]
     },
     "metadata": {},
     "output_type": "display_data"
    },
    {
     "data": {
      "text/html": [
       "<pre style=\"white-space:pre;overflow-x:auto;line-height:normal;font-family:Menlo,'DejaVu Sans Mono',consolas,'Courier New',monospace\"><span style=\"font-weight: bold\"> Trainable params: </span><span style=\"color: #00af00; text-decoration-color: #00af00\">409</span> (1.60 KB)\n",
       "</pre>\n"
      ],
      "text/plain": [
       "\u001b[1m Trainable params: \u001b[0m\u001b[38;5;34m409\u001b[0m (1.60 KB)\n"
      ]
     },
     "metadata": {},
     "output_type": "display_data"
    },
    {
     "data": {
      "text/html": [
       "<pre style=\"white-space:pre;overflow-x:auto;line-height:normal;font-family:Menlo,'DejaVu Sans Mono',consolas,'Courier New',monospace\"><span style=\"font-weight: bold\"> Non-trainable params: </span><span style=\"color: #00af00; text-decoration-color: #00af00\">24</span> (96.00 B)\n",
       "</pre>\n"
      ],
      "text/plain": [
       "\u001b[1m Non-trainable params: \u001b[0m\u001b[38;5;34m24\u001b[0m (96.00 B)\n"
      ]
     },
     "metadata": {},
     "output_type": "display_data"
    }
   ],
   "source": [
    "variable_amount = len(X.columns)\n",
    "\n",
    "training_model_2 = keras.Sequential(\n",
    "    [\n",
    "        layers.BatchNormalization(input_shape=(variable_amount,)),\n",
    "        layers.Dense(16, activation=\"relu\"),\n",
    "        layers.Dense(8, activation=\"relu\"),\n",
    "        layers.Dense(4, activation=\"relu\"),\n",
    "        layers.Dense(1)\n",
    "    ]\n",
    ")\n",
    "\n",
    "training_model_2.compile(optimizer=\"adam\", loss=\"mse\")\n",
    "\n",
    "training_model_2.summary()"
   ]
  },
  {
   "cell_type": "markdown",
   "id": "53b42ec0",
   "metadata": {},
   "source": [
    "#### Train the neural network"
   ]
  },
  {
   "cell_type": "code",
   "execution_count": 68,
   "id": "f8bdab26",
   "metadata": {},
   "outputs": [
    {
     "name": "stdout",
     "output_type": "stream",
     "text": [
      "Epoch 1/300\n",
      "\u001b[1m110/110\u001b[0m \u001b[32m━━━━━━━━━━━━━━━━━━━━\u001b[0m\u001b[37m\u001b[0m \u001b[1m1s\u001b[0m 3ms/step - loss: 505936510976.0000 - val_loss: 523007754240.0000\n",
      "Epoch 2/300\n",
      "\u001b[1m110/110\u001b[0m \u001b[32m━━━━━━━━━━━━━━━━━━━━\u001b[0m\u001b[37m\u001b[0m \u001b[1m0s\u001b[0m 2ms/step - loss: 505925926912.0000 - val_loss: 522974756864.0000\n",
      "Epoch 3/300\n",
      "\u001b[1m110/110\u001b[0m \u001b[32m━━━━━━━━━━━━━━━━━━━━\u001b[0m\u001b[37m\u001b[0m \u001b[1m0s\u001b[0m 2ms/step - loss: 505793118208.0000 - val_loss: 522606968832.0000\n",
      "Epoch 4/300\n",
      "\u001b[1m110/110\u001b[0m \u001b[32m━━━━━━━━━━━━━━━━━━━━\u001b[0m\u001b[37m\u001b[0m \u001b[1m0s\u001b[0m 2ms/step - loss: 504786780160.0000 - val_loss: 520407711744.0000\n",
      "Epoch 5/300\n",
      "\u001b[1m110/110\u001b[0m \u001b[32m━━━━━━━━━━━━━━━━━━━━\u001b[0m\u001b[37m\u001b[0m \u001b[1m0s\u001b[0m 2ms/step - loss: 500613644288.0000 - val_loss: 513017544704.0000\n",
      "Epoch 6/300\n",
      "\u001b[1m110/110\u001b[0m \u001b[32m━━━━━━━━━━━━━━━━━━━━\u001b[0m\u001b[37m\u001b[0m \u001b[1m0s\u001b[0m 2ms/step - loss: 489136324608.0000 - val_loss: 495131033600.0000\n",
      "Epoch 7/300\n",
      "\u001b[1m110/110\u001b[0m \u001b[32m━━━━━━━━━━━━━━━━━━━━\u001b[0m\u001b[37m\u001b[0m \u001b[1m0s\u001b[0m 2ms/step - loss: 464806084608.0000 - val_loss: 460608339968.0000\n",
      "Epoch 8/300\n",
      "\u001b[1m110/110\u001b[0m \u001b[32m━━━━━━━━━━━━━━━━━━━━\u001b[0m\u001b[37m\u001b[0m \u001b[1m0s\u001b[0m 2ms/step - loss: 421775081472.0000 - val_loss: 404486062080.0000\n",
      "Epoch 9/300\n",
      "\u001b[1m110/110\u001b[0m \u001b[32m━━━━━━━━━━━━━━━━━━━━\u001b[0m\u001b[37m\u001b[0m \u001b[1m0s\u001b[0m 2ms/step - loss: 356518854656.0000 - val_loss: 324959961088.0000\n",
      "Epoch 10/300\n",
      "\u001b[1m110/110\u001b[0m \u001b[32m━━━━━━━━━━━━━━━━━━━━\u001b[0m\u001b[37m\u001b[0m \u001b[1m0s\u001b[0m 2ms/step - loss: 271721988096.0000 - val_loss: 229976752128.0000\n",
      "Epoch 11/300\n",
      "\u001b[1m110/110\u001b[0m \u001b[32m━━━━━━━━━━━━━━━━━━━━\u001b[0m\u001b[37m\u001b[0m \u001b[1m0s\u001b[0m 3ms/step - loss: 179463585792.0000 - val_loss: 136842502144.0000\n",
      "Epoch 12/300\n",
      "\u001b[1m110/110\u001b[0m \u001b[32m━━━━━━━━━━━━━━━━━━━━\u001b[0m\u001b[37m\u001b[0m \u001b[1m0s\u001b[0m 2ms/step - loss: 97882619904.0000 - val_loss: 65327370240.0000\n",
      "Epoch 13/300\n",
      "\u001b[1m110/110\u001b[0m \u001b[32m━━━━━━━━━━━━━━━━━━━━\u001b[0m\u001b[37m\u001b[0m \u001b[1m0s\u001b[0m 2ms/step - loss: 43813974016.0000 - val_loss: 25777283072.0000\n",
      "Epoch 14/300\n",
      "\u001b[1m110/110\u001b[0m \u001b[32m━━━━━━━━━━━━━━━━━━━━\u001b[0m\u001b[37m\u001b[0m \u001b[1m0s\u001b[0m 2ms/step - loss: 18248130560.0000 - val_loss: 11226713088.0000\n",
      "Epoch 15/300\n",
      "\u001b[1m110/110\u001b[0m \u001b[32m━━━━━━━━━━━━━━━━━━━━\u001b[0m\u001b[37m\u001b[0m \u001b[1m0s\u001b[0m 2ms/step - loss: 9467104256.0000 - val_loss: 6929240576.0000\n",
      "Epoch 16/300\n",
      "\u001b[1m110/110\u001b[0m \u001b[32m━━━━━━━━━━━━━━━━━━━━\u001b[0m\u001b[37m\u001b[0m \u001b[1m0s\u001b[0m 2ms/step - loss: 7088110592.0000 - val_loss: 5574568448.0000\n",
      "Epoch 17/300\n",
      "\u001b[1m110/110\u001b[0m \u001b[32m━━━━━━━━━━━━━━━━━━━━\u001b[0m\u001b[37m\u001b[0m \u001b[1m0s\u001b[0m 2ms/step - loss: 6460100096.0000 - val_loss: 4846853632.0000\n",
      "Epoch 18/300\n",
      "\u001b[1m110/110\u001b[0m \u001b[32m━━━━━━━━━━━━━━━━━━━━\u001b[0m\u001b[37m\u001b[0m \u001b[1m0s\u001b[0m 2ms/step - loss: 5469831168.0000 - val_loss: 4356935168.0000\n",
      "Epoch 19/300\n",
      "\u001b[1m110/110\u001b[0m \u001b[32m━━━━━━━━━━━━━━━━━━━━\u001b[0m\u001b[37m\u001b[0m \u001b[1m0s\u001b[0m 2ms/step - loss: 5125028864.0000 - val_loss: 3936645888.0000\n",
      "Epoch 20/300\n",
      "\u001b[1m110/110\u001b[0m \u001b[32m━━━━━━━━━━━━━━━━━━━━\u001b[0m\u001b[37m\u001b[0m \u001b[1m0s\u001b[0m 2ms/step - loss: 4720911360.0000 - val_loss: 3582928384.0000\n",
      "Epoch 21/300\n",
      "\u001b[1m110/110\u001b[0m \u001b[32m━━━━━━━━━━━━━━━━━━━━\u001b[0m\u001b[37m\u001b[0m \u001b[1m0s\u001b[0m 2ms/step - loss: 4169996800.0000 - val_loss: 3292149760.0000\n",
      "Epoch 22/300\n",
      "\u001b[1m110/110\u001b[0m \u001b[32m━━━━━━━━━━━━━━━━━━━━\u001b[0m\u001b[37m\u001b[0m \u001b[1m0s\u001b[0m 2ms/step - loss: 4217014784.0000 - val_loss: 3003725568.0000\n",
      "Epoch 23/300\n",
      "\u001b[1m110/110\u001b[0m \u001b[32m━━━━━━━━━━━━━━━━━━━━\u001b[0m\u001b[37m\u001b[0m \u001b[1m0s\u001b[0m 2ms/step - loss: 3862575616.0000 - val_loss: 2738738688.0000\n",
      "Epoch 24/300\n",
      "\u001b[1m110/110\u001b[0m \u001b[32m━━━━━━━━━━━━━━━━━━━━\u001b[0m\u001b[37m\u001b[0m \u001b[1m0s\u001b[0m 2ms/step - loss: 3760824064.0000 - val_loss: 2529410048.0000\n",
      "Epoch 25/300\n",
      "\u001b[1m110/110\u001b[0m \u001b[32m━━━━━━━━━━━━━━━━━━━━\u001b[0m\u001b[37m\u001b[0m \u001b[1m0s\u001b[0m 2ms/step - loss: 3489210368.0000 - val_loss: 2319930112.0000\n",
      "Epoch 26/300\n",
      "\u001b[1m110/110\u001b[0m \u001b[32m━━━━━━━━━━━━━━━━━━━━\u001b[0m\u001b[37m\u001b[0m \u001b[1m0s\u001b[0m 2ms/step - loss: 3393950208.0000 - val_loss: 2145832320.0000\n",
      "Epoch 27/300\n",
      "\u001b[1m110/110\u001b[0m \u001b[32m━━━━━━━━━━━━━━━━━━━━\u001b[0m\u001b[37m\u001b[0m \u001b[1m0s\u001b[0m 2ms/step - loss: 3316547328.0000 - val_loss: 1977767936.0000\n",
      "Epoch 28/300\n",
      "\u001b[1m110/110\u001b[0m \u001b[32m━━━━━━━━━━━━━━━━━━━━\u001b[0m\u001b[37m\u001b[0m \u001b[1m0s\u001b[0m 2ms/step - loss: 3151069696.0000 - val_loss: 1843137792.0000\n",
      "Epoch 29/300\n",
      "\u001b[1m110/110\u001b[0m \u001b[32m━━━━━━━━━━━━━━━━━━━━\u001b[0m\u001b[37m\u001b[0m \u001b[1m0s\u001b[0m 2ms/step - loss: 2997017088.0000 - val_loss: 1718585088.0000\n",
      "Epoch 30/300\n",
      "\u001b[1m110/110\u001b[0m \u001b[32m━━━━━━━━━━━━━━━━━━━━\u001b[0m\u001b[37m\u001b[0m \u001b[1m0s\u001b[0m 2ms/step - loss: 2897308416.0000 - val_loss: 1585641984.0000\n",
      "Epoch 31/300\n",
      "\u001b[1m110/110\u001b[0m \u001b[32m━━━━━━━━━━━━━━━━━━━━\u001b[0m\u001b[37m\u001b[0m \u001b[1m0s\u001b[0m 2ms/step - loss: 2741063424.0000 - val_loss: 1472375296.0000\n",
      "Epoch 32/300\n",
      "\u001b[1m110/110\u001b[0m \u001b[32m━━━━━━━━━━━━━━━━━━━━\u001b[0m\u001b[37m\u001b[0m \u001b[1m0s\u001b[0m 2ms/step - loss: 2581319936.0000 - val_loss: 1356359040.0000\n",
      "Epoch 33/300\n",
      "\u001b[1m110/110\u001b[0m \u001b[32m━━━━━━━━━━━━━━━━━━━━\u001b[0m\u001b[37m\u001b[0m \u001b[1m0s\u001b[0m 2ms/step - loss: 2657357056.0000 - val_loss: 1260999040.0000\n",
      "Epoch 34/300\n",
      "\u001b[1m110/110\u001b[0m \u001b[32m━━━━━━━━━━━━━━━━━━━━\u001b[0m\u001b[37m\u001b[0m \u001b[1m0s\u001b[0m 2ms/step - loss: 2495693568.0000 - val_loss: 1193192576.0000\n",
      "Epoch 35/300\n",
      "\u001b[1m110/110\u001b[0m \u001b[32m━━━━━━━━━━━━━━━━━━━━\u001b[0m\u001b[37m\u001b[0m \u001b[1m0s\u001b[0m 2ms/step - loss: 2434310656.0000 - val_loss: 1111363328.0000\n",
      "Epoch 36/300\n",
      "\u001b[1m110/110\u001b[0m \u001b[32m━━━━━━━━━━━━━━━━━━━━\u001b[0m\u001b[37m\u001b[0m \u001b[1m0s\u001b[0m 2ms/step - loss: 2169421568.0000 - val_loss: 1047271104.0000\n",
      "Epoch 37/300\n",
      "\u001b[1m110/110\u001b[0m \u001b[32m━━━━━━━━━━━━━━━━━━━━\u001b[0m\u001b[37m\u001b[0m \u001b[1m0s\u001b[0m 2ms/step - loss: 2531630336.0000 - val_loss: 976404288.0000\n",
      "Epoch 38/300\n",
      "\u001b[1m110/110\u001b[0m \u001b[32m━━━━━━━━━━━━━━━━━━━━\u001b[0m\u001b[37m\u001b[0m \u001b[1m0s\u001b[0m 2ms/step - loss: 2373284096.0000 - val_loss: 918686464.0000\n",
      "Epoch 39/300\n",
      "\u001b[1m110/110\u001b[0m \u001b[32m━━━━━━━━━━━━━━━━━━━━\u001b[0m\u001b[37m\u001b[0m \u001b[1m0s\u001b[0m 2ms/step - loss: 2590186752.0000 - val_loss: 855053376.0000\n",
      "Epoch 40/300\n",
      "\u001b[1m110/110\u001b[0m \u001b[32m━━━━━━━━━━━━━━━━━━━━\u001b[0m\u001b[37m\u001b[0m \u001b[1m0s\u001b[0m 2ms/step - loss: 1978609536.0000 - val_loss: 813311616.0000\n",
      "Epoch 41/300\n",
      "\u001b[1m110/110\u001b[0m \u001b[32m━━━━━━━━━━━━━━━━━━━━\u001b[0m\u001b[37m\u001b[0m \u001b[1m0s\u001b[0m 2ms/step - loss: 1958692224.0000 - val_loss: 779366848.0000\n",
      "Epoch 42/300\n",
      "\u001b[1m110/110\u001b[0m \u001b[32m━━━━━━━━━━━━━━━━━━━━\u001b[0m\u001b[37m\u001b[0m \u001b[1m0s\u001b[0m 2ms/step - loss: 2205771264.0000 - val_loss: 740844288.0000\n",
      "Epoch 43/300\n",
      "\u001b[1m110/110\u001b[0m \u001b[32m━━━━━━━━━━━━━━━━━━━━\u001b[0m\u001b[37m\u001b[0m \u001b[1m0s\u001b[0m 2ms/step - loss: 2076501376.0000 - val_loss: 703682560.0000\n",
      "Epoch 44/300\n",
      "\u001b[1m110/110\u001b[0m \u001b[32m━━━━━━━━━━━━━━━━━━━━\u001b[0m\u001b[37m\u001b[0m \u001b[1m0s\u001b[0m 2ms/step - loss: 2215059456.0000 - val_loss: 684293760.0000\n",
      "Epoch 45/300\n",
      "\u001b[1m110/110\u001b[0m \u001b[32m━━━━━━━━━━━━━━━━━━━━\u001b[0m\u001b[37m\u001b[0m \u001b[1m0s\u001b[0m 2ms/step - loss: 2016191360.0000 - val_loss: 642849984.0000\n",
      "Epoch 46/300\n",
      "\u001b[1m110/110\u001b[0m \u001b[32m━━━━━━━━━━━━━━━━━━━━\u001b[0m\u001b[37m\u001b[0m \u001b[1m0s\u001b[0m 2ms/step - loss: 1868311424.0000 - val_loss: 619596928.0000\n",
      "Epoch 47/300\n",
      "\u001b[1m110/110\u001b[0m \u001b[32m━━━━━━━━━━━━━━━━━━━━\u001b[0m\u001b[37m\u001b[0m \u001b[1m0s\u001b[0m 2ms/step - loss: 1702072576.0000 - val_loss: 603002368.0000\n",
      "Epoch 48/300\n",
      "\u001b[1m110/110\u001b[0m \u001b[32m━━━━━━━━━━━━━━━━━━━━\u001b[0m\u001b[37m\u001b[0m \u001b[1m0s\u001b[0m 2ms/step - loss: 1744033408.0000 - val_loss: 586364672.0000\n",
      "Epoch 49/300\n",
      "\u001b[1m110/110\u001b[0m \u001b[32m━━━━━━━━━━━━━━━━━━━━\u001b[0m\u001b[37m\u001b[0m \u001b[1m0s\u001b[0m 2ms/step - loss: 2041297408.0000 - val_loss: 589348672.0000\n",
      "Epoch 50/300\n",
      "\u001b[1m110/110\u001b[0m \u001b[32m━━━━━━━━━━━━━━━━━━━━\u001b[0m\u001b[37m\u001b[0m \u001b[1m0s\u001b[0m 2ms/step - loss: 1750741888.0000 - val_loss: 547925376.0000\n",
      "Epoch 51/300\n",
      "\u001b[1m110/110\u001b[0m \u001b[32m━━━━━━━━━━━━━━━━━━━━\u001b[0m\u001b[37m\u001b[0m \u001b[1m0s\u001b[0m 2ms/step - loss: 1821845504.0000 - val_loss: 542067712.0000\n",
      "Epoch 52/300\n",
      "\u001b[1m110/110\u001b[0m \u001b[32m━━━━━━━━━━━━━━━━━━━━\u001b[0m\u001b[37m\u001b[0m \u001b[1m0s\u001b[0m 2ms/step - loss: 2169827328.0000 - val_loss: 527231744.0000\n",
      "Epoch 53/300\n",
      "\u001b[1m110/110\u001b[0m \u001b[32m━━━━━━━━━━━━━━━━━━━━\u001b[0m\u001b[37m\u001b[0m \u001b[1m0s\u001b[0m 2ms/step - loss: 1657926912.0000 - val_loss: 504778720.0000\n",
      "Epoch 54/300\n",
      "\u001b[1m110/110\u001b[0m \u001b[32m━━━━━━━━━━━━━━━━━━━━\u001b[0m\u001b[37m\u001b[0m \u001b[1m0s\u001b[0m 2ms/step - loss: 1515505280.0000 - val_loss: 535051360.0000\n",
      "Epoch 55/300\n",
      "\u001b[1m110/110\u001b[0m \u001b[32m━━━━━━━━━━━━━━━━━━━━\u001b[0m\u001b[37m\u001b[0m \u001b[1m0s\u001b[0m 2ms/step - loss: 1659915392.0000 - val_loss: 486579584.0000\n",
      "Epoch 56/300\n",
      "\u001b[1m110/110\u001b[0m \u001b[32m━━━━━━━━━━━━━━━━━━━━\u001b[0m\u001b[37m\u001b[0m \u001b[1m0s\u001b[0m 2ms/step - loss: 1500824832.0000 - val_loss: 477010432.0000\n",
      "Epoch 57/300\n",
      "\u001b[1m110/110\u001b[0m \u001b[32m━━━━━━━━━━━━━━━━━━━━\u001b[0m\u001b[37m\u001b[0m \u001b[1m0s\u001b[0m 2ms/step - loss: 1811993344.0000 - val_loss: 476720736.0000\n",
      "Epoch 58/300\n",
      "\u001b[1m110/110\u001b[0m \u001b[32m━━━━━━━━━━━━━━━━━━━━\u001b[0m\u001b[37m\u001b[0m \u001b[1m0s\u001b[0m 2ms/step - loss: 1895185536.0000 - val_loss: 492708832.0000\n",
      "Epoch 59/300\n",
      "\u001b[1m110/110\u001b[0m \u001b[32m━━━━━━━━━━━━━━━━━━━━\u001b[0m\u001b[37m\u001b[0m \u001b[1m0s\u001b[0m 2ms/step - loss: 1910364544.0000 - val_loss: 463012960.0000\n",
      "Epoch 60/300\n",
      "\u001b[1m110/110\u001b[0m \u001b[32m━━━━━━━━━━━━━━━━━━━━\u001b[0m\u001b[37m\u001b[0m \u001b[1m0s\u001b[0m 2ms/step - loss: 1709436544.0000 - val_loss: 465575392.0000\n",
      "Epoch 61/300\n",
      "\u001b[1m110/110\u001b[0m \u001b[32m━━━━━━━━━━━━━━━━━━━━\u001b[0m\u001b[37m\u001b[0m \u001b[1m0s\u001b[0m 2ms/step - loss: 1721136384.0000 - val_loss: 458229600.0000\n",
      "Epoch 62/300\n",
      "\u001b[1m110/110\u001b[0m \u001b[32m━━━━━━━━━━━━━━━━━━━━\u001b[0m\u001b[37m\u001b[0m \u001b[1m0s\u001b[0m 2ms/step - loss: 1742889856.0000 - val_loss: 452417152.0000\n",
      "Epoch 63/300\n",
      "\u001b[1m110/110\u001b[0m \u001b[32m━━━━━━━━━━━━━━━━━━━━\u001b[0m\u001b[37m\u001b[0m \u001b[1m0s\u001b[0m 2ms/step - loss: 2043390720.0000 - val_loss: 444223968.0000\n",
      "Epoch 64/300\n",
      "\u001b[1m110/110\u001b[0m \u001b[32m━━━━━━━━━━━━━━━━━━━━\u001b[0m\u001b[37m\u001b[0m \u001b[1m0s\u001b[0m 2ms/step - loss: 1797790592.0000 - val_loss: 440222976.0000\n",
      "Epoch 65/300\n",
      "\u001b[1m110/110\u001b[0m \u001b[32m━━━━━━━━━━━━━━━━━━━━\u001b[0m\u001b[37m\u001b[0m \u001b[1m0s\u001b[0m 2ms/step - loss: 1640140544.0000 - val_loss: 438392704.0000\n",
      "Epoch 66/300\n",
      "\u001b[1m110/110\u001b[0m \u001b[32m━━━━━━━━━━━━━━━━━━━━\u001b[0m\u001b[37m\u001b[0m \u001b[1m0s\u001b[0m 2ms/step - loss: 1652225024.0000 - val_loss: 439449728.0000\n",
      "Epoch 67/300\n",
      "\u001b[1m110/110\u001b[0m \u001b[32m━━━━━━━━━━━━━━━━━━━━\u001b[0m\u001b[37m\u001b[0m \u001b[1m0s\u001b[0m 2ms/step - loss: 1826916352.0000 - val_loss: 437259744.0000\n",
      "Epoch 68/300\n",
      "\u001b[1m110/110\u001b[0m \u001b[32m━━━━━━━━━━━━━━━━━━━━\u001b[0m\u001b[37m\u001b[0m \u001b[1m0s\u001b[0m 2ms/step - loss: 1588656256.0000 - val_loss: 432012384.0000\n",
      "Epoch 69/300\n",
      "\u001b[1m110/110\u001b[0m \u001b[32m━━━━━━━━━━━━━━━━━━━━\u001b[0m\u001b[37m\u001b[0m \u001b[1m0s\u001b[0m 2ms/step - loss: 1917027712.0000 - val_loss: 447752864.0000\n",
      "Epoch 70/300\n",
      "\u001b[1m110/110\u001b[0m \u001b[32m━━━━━━━━━━━━━━━━━━━━\u001b[0m\u001b[37m\u001b[0m \u001b[1m0s\u001b[0m 2ms/step - loss: 1732374272.0000 - val_loss: 430358272.0000\n",
      "Epoch 71/300\n",
      "\u001b[1m110/110\u001b[0m \u001b[32m━━━━━━━━━━━━━━━━━━━━\u001b[0m\u001b[37m\u001b[0m \u001b[1m0s\u001b[0m 2ms/step - loss: 1799118080.0000 - val_loss: 430234272.0000\n",
      "Epoch 72/300\n",
      "\u001b[1m110/110\u001b[0m \u001b[32m━━━━━━━━━━━━━━━━━━━━\u001b[0m\u001b[37m\u001b[0m \u001b[1m0s\u001b[0m 2ms/step - loss: 1521844480.0000 - val_loss: 427428192.0000\n",
      "Epoch 73/300\n",
      "\u001b[1m110/110\u001b[0m \u001b[32m━━━━━━━━━━━━━━━━━━━━\u001b[0m\u001b[37m\u001b[0m \u001b[1m0s\u001b[0m 2ms/step - loss: 1830918912.0000 - val_loss: 426654656.0000\n",
      "Epoch 74/300\n",
      "\u001b[1m110/110\u001b[0m \u001b[32m━━━━━━━━━━━━━━━━━━━━\u001b[0m\u001b[37m\u001b[0m \u001b[1m0s\u001b[0m 2ms/step - loss: 1877982208.0000 - val_loss: 430806880.0000\n",
      "Epoch 75/300\n",
      "\u001b[1m110/110\u001b[0m \u001b[32m━━━━━━━━━━━━━━━━━━━━\u001b[0m\u001b[37m\u001b[0m \u001b[1m0s\u001b[0m 2ms/step - loss: 1901149568.0000 - val_loss: 439149952.0000\n",
      "Epoch 76/300\n",
      "\u001b[1m110/110\u001b[0m \u001b[32m━━━━━━━━━━━━━━━━━━━━\u001b[0m\u001b[37m\u001b[0m \u001b[1m0s\u001b[0m 2ms/step - loss: 1987621632.0000 - val_loss: 420887168.0000\n",
      "Epoch 77/300\n",
      "\u001b[1m110/110\u001b[0m \u001b[32m━━━━━━━━━━━━━━━━━━━━\u001b[0m\u001b[37m\u001b[0m \u001b[1m0s\u001b[0m 2ms/step - loss: 1892383104.0000 - val_loss: 421725856.0000\n",
      "Epoch 78/300\n",
      "\u001b[1m110/110\u001b[0m \u001b[32m━━━━━━━━━━━━━━━━━━━━\u001b[0m\u001b[37m\u001b[0m \u001b[1m0s\u001b[0m 2ms/step - loss: 1445572864.0000 - val_loss: 430543872.0000\n",
      "Epoch 79/300\n",
      "\u001b[1m110/110\u001b[0m \u001b[32m━━━━━━━━━━━━━━━━━━━━\u001b[0m\u001b[37m\u001b[0m \u001b[1m0s\u001b[0m 2ms/step - loss: 1498238848.0000 - val_loss: 423261472.0000\n",
      "Epoch 80/300\n",
      "\u001b[1m110/110\u001b[0m \u001b[32m━━━━━━━━━━━━━━━━━━━━\u001b[0m\u001b[37m\u001b[0m \u001b[1m0s\u001b[0m 2ms/step - loss: 1904091776.0000 - val_loss: 421901888.0000\n",
      "Epoch 81/300\n",
      "\u001b[1m110/110\u001b[0m \u001b[32m━━━━━━━━━━━━━━━━━━━━\u001b[0m\u001b[37m\u001b[0m \u001b[1m0s\u001b[0m 2ms/step - loss: 1537077120.0000 - val_loss: 424389504.0000\n",
      "Epoch 82/300\n",
      "\u001b[1m110/110\u001b[0m \u001b[32m━━━━━━━━━━━━━━━━━━━━\u001b[0m\u001b[37m\u001b[0m \u001b[1m0s\u001b[0m 2ms/step - loss: 1938993024.0000 - val_loss: 424887456.0000\n",
      "Epoch 83/300\n",
      "\u001b[1m110/110\u001b[0m \u001b[32m━━━━━━━━━━━━━━━━━━━━\u001b[0m\u001b[37m\u001b[0m \u001b[1m0s\u001b[0m 2ms/step - loss: 2058887168.0000 - val_loss: 459630880.0000\n",
      "Epoch 84/300\n",
      "\u001b[1m110/110\u001b[0m \u001b[32m━━━━━━━━━━━━━━━━━━━━\u001b[0m\u001b[37m\u001b[0m \u001b[1m0s\u001b[0m 2ms/step - loss: 1883314944.0000 - val_loss: 438025984.0000\n",
      "Epoch 85/300\n",
      "\u001b[1m110/110\u001b[0m \u001b[32m━━━━━━━━━━━━━━━━━━━━\u001b[0m\u001b[37m\u001b[0m \u001b[1m0s\u001b[0m 2ms/step - loss: 1862231680.0000 - val_loss: 419157600.0000\n",
      "Epoch 86/300\n",
      "\u001b[1m110/110\u001b[0m \u001b[32m━━━━━━━━━━━━━━━━━━━━\u001b[0m\u001b[37m\u001b[0m \u001b[1m0s\u001b[0m 2ms/step - loss: 1965654144.0000 - val_loss: 430303424.0000\n",
      "Epoch 87/300\n",
      "\u001b[1m110/110\u001b[0m \u001b[32m━━━━━━━━━━━━━━━━━━━━\u001b[0m\u001b[37m\u001b[0m \u001b[1m0s\u001b[0m 2ms/step - loss: 1918029056.0000 - val_loss: 422668192.0000\n",
      "Epoch 88/300\n",
      "\u001b[1m110/110\u001b[0m \u001b[32m━━━━━━━━━━━━━━━━━━━━\u001b[0m\u001b[37m\u001b[0m \u001b[1m0s\u001b[0m 2ms/step - loss: 1861925504.0000 - val_loss: 420710944.0000\n",
      "Epoch 89/300\n",
      "\u001b[1m110/110\u001b[0m \u001b[32m━━━━━━━━━━━━━━━━━━━━\u001b[0m\u001b[37m\u001b[0m \u001b[1m0s\u001b[0m 2ms/step - loss: 1491644544.0000 - val_loss: 422483168.0000\n",
      "Epoch 90/300\n",
      "\u001b[1m110/110\u001b[0m \u001b[32m━━━━━━━━━━━━━━━━━━━━\u001b[0m\u001b[37m\u001b[0m \u001b[1m0s\u001b[0m 2ms/step - loss: 1751069824.0000 - val_loss: 418439424.0000\n",
      "Epoch 91/300\n",
      "\u001b[1m110/110\u001b[0m \u001b[32m━━━━━━━━━━━━━━━━━━━━\u001b[0m\u001b[37m\u001b[0m \u001b[1m0s\u001b[0m 2ms/step - loss: 1738828544.0000 - val_loss: 421332416.0000\n",
      "Epoch 92/300\n",
      "\u001b[1m110/110\u001b[0m \u001b[32m━━━━━━━━━━━━━━━━━━━━\u001b[0m\u001b[37m\u001b[0m \u001b[1m0s\u001b[0m 2ms/step - loss: 1927362560.0000 - val_loss: 416616896.0000\n",
      "Epoch 93/300\n",
      "\u001b[1m110/110\u001b[0m \u001b[32m━━━━━━━━━━━━━━━━━━━━\u001b[0m\u001b[37m\u001b[0m \u001b[1m0s\u001b[0m 2ms/step - loss: 1648934016.0000 - val_loss: 415212928.0000\n",
      "Epoch 94/300\n",
      "\u001b[1m110/110\u001b[0m \u001b[32m━━━━━━━━━━━━━━━━━━━━\u001b[0m\u001b[37m\u001b[0m \u001b[1m0s\u001b[0m 2ms/step - loss: 1837731200.0000 - val_loss: 416199264.0000\n",
      "Epoch 95/300\n",
      "\u001b[1m110/110\u001b[0m \u001b[32m━━━━━━━━━━━━━━━━━━━━\u001b[0m\u001b[37m\u001b[0m \u001b[1m0s\u001b[0m 2ms/step - loss: 1762970112.0000 - val_loss: 440909664.0000\n",
      "Epoch 96/300\n",
      "\u001b[1m110/110\u001b[0m \u001b[32m━━━━━━━━━━━━━━━━━━━━\u001b[0m\u001b[37m\u001b[0m \u001b[1m0s\u001b[0m 2ms/step - loss: 1989170432.0000 - val_loss: 423643744.0000\n",
      "Epoch 97/300\n",
      "\u001b[1m110/110\u001b[0m \u001b[32m━━━━━━━━━━━━━━━━━━━━\u001b[0m\u001b[37m\u001b[0m \u001b[1m0s\u001b[0m 2ms/step - loss: 1734193152.0000 - val_loss: 419890944.0000\n",
      "Epoch 98/300\n",
      "\u001b[1m110/110\u001b[0m \u001b[32m━━━━━━━━━━━━━━━━━━━━\u001b[0m\u001b[37m\u001b[0m \u001b[1m0s\u001b[0m 2ms/step - loss: 1466751744.0000 - val_loss: 417295616.0000\n",
      "Epoch 99/300\n",
      "\u001b[1m110/110\u001b[0m \u001b[32m━━━━━━━━━━━━━━━━━━━━\u001b[0m\u001b[37m\u001b[0m \u001b[1m0s\u001b[0m 2ms/step - loss: 1565979648.0000 - val_loss: 418643456.0000\n",
      "Epoch 100/300\n",
      "\u001b[1m110/110\u001b[0m \u001b[32m━━━━━━━━━━━━━━━━━━━━\u001b[0m\u001b[37m\u001b[0m \u001b[1m0s\u001b[0m 2ms/step - loss: 1689392384.0000 - val_loss: 421499008.0000\n",
      "Epoch 101/300\n",
      "\u001b[1m110/110\u001b[0m \u001b[32m━━━━━━━━━━━━━━━━━━━━\u001b[0m\u001b[37m\u001b[0m \u001b[1m0s\u001b[0m 2ms/step - loss: 1934124160.0000 - val_loss: 415069056.0000\n",
      "Epoch 102/300\n",
      "\u001b[1m110/110\u001b[0m \u001b[32m━━━━━━━━━━━━━━━━━━━━\u001b[0m\u001b[37m\u001b[0m \u001b[1m0s\u001b[0m 2ms/step - loss: 1734644992.0000 - val_loss: 420938592.0000\n",
      "Epoch 103/300\n",
      "\u001b[1m110/110\u001b[0m \u001b[32m━━━━━━━━━━━━━━━━━━━━\u001b[0m\u001b[37m\u001b[0m \u001b[1m0s\u001b[0m 2ms/step - loss: 1591598848.0000 - val_loss: 419381344.0000\n",
      "Epoch 104/300\n",
      "\u001b[1m110/110\u001b[0m \u001b[32m━━━━━━━━━━━━━━━━━━━━\u001b[0m\u001b[37m\u001b[0m \u001b[1m0s\u001b[0m 2ms/step - loss: 1610835584.0000 - val_loss: 421816384.0000\n",
      "Epoch 105/300\n",
      "\u001b[1m110/110\u001b[0m \u001b[32m━━━━━━━━━━━━━━━━━━━━\u001b[0m\u001b[37m\u001b[0m \u001b[1m0s\u001b[0m 2ms/step - loss: 1841352320.0000 - val_loss: 414507872.0000\n",
      "Epoch 106/300\n",
      "\u001b[1m110/110\u001b[0m \u001b[32m━━━━━━━━━━━━━━━━━━━━\u001b[0m\u001b[37m\u001b[0m \u001b[1m0s\u001b[0m 2ms/step - loss: 1786913408.0000 - val_loss: 414380288.0000\n",
      "Epoch 107/300\n",
      "\u001b[1m110/110\u001b[0m \u001b[32m━━━━━━━━━━━━━━━━━━━━\u001b[0m\u001b[37m\u001b[0m \u001b[1m0s\u001b[0m 2ms/step - loss: 1906858112.0000 - val_loss: 415418464.0000\n",
      "Epoch 108/300\n",
      "\u001b[1m110/110\u001b[0m \u001b[32m━━━━━━━━━━━━━━━━━━━━\u001b[0m\u001b[37m\u001b[0m \u001b[1m0s\u001b[0m 2ms/step - loss: 1625562240.0000 - val_loss: 417014784.0000\n",
      "Epoch 109/300\n",
      "\u001b[1m110/110\u001b[0m \u001b[32m━━━━━━━━━━━━━━━━━━━━\u001b[0m\u001b[37m\u001b[0m \u001b[1m0s\u001b[0m 2ms/step - loss: 1792801408.0000 - val_loss: 415856288.0000\n",
      "Epoch 110/300\n",
      "\u001b[1m110/110\u001b[0m \u001b[32m━━━━━━━━━━━━━━━━━━━━\u001b[0m\u001b[37m\u001b[0m \u001b[1m0s\u001b[0m 2ms/step - loss: 1847971712.0000 - val_loss: 438610784.0000\n",
      "Epoch 111/300\n",
      "\u001b[1m110/110\u001b[0m \u001b[32m━━━━━━━━━━━━━━━━━━━━\u001b[0m\u001b[37m\u001b[0m \u001b[1m0s\u001b[0m 2ms/step - loss: 2160313856.0000 - val_loss: 423238560.0000\n",
      "Epoch 112/300\n",
      "\u001b[1m110/110\u001b[0m \u001b[32m━━━━━━━━━━━━━━━━━━━━\u001b[0m\u001b[37m\u001b[0m \u001b[1m0s\u001b[0m 2ms/step - loss: 1610835072.0000 - val_loss: 418759776.0000\n",
      "Epoch 113/300\n",
      "\u001b[1m110/110\u001b[0m \u001b[32m━━━━━━━━━━━━━━━━━━━━\u001b[0m\u001b[37m\u001b[0m \u001b[1m0s\u001b[0m 2ms/step - loss: 1923278464.0000 - val_loss: 439486048.0000\n",
      "Epoch 114/300\n",
      "\u001b[1m110/110\u001b[0m \u001b[32m━━━━━━━━━━━━━━━━━━━━\u001b[0m\u001b[37m\u001b[0m \u001b[1m0s\u001b[0m 2ms/step - loss: 1586633600.0000 - val_loss: 424000096.0000\n",
      "Epoch 115/300\n",
      "\u001b[1m110/110\u001b[0m \u001b[32m━━━━━━━━━━━━━━━━━━━━\u001b[0m\u001b[37m\u001b[0m \u001b[1m0s\u001b[0m 2ms/step - loss: 1839408384.0000 - val_loss: 416685152.0000\n",
      "Epoch 116/300\n",
      "\u001b[1m110/110\u001b[0m \u001b[32m━━━━━━━━━━━━━━━━━━━━\u001b[0m\u001b[37m\u001b[0m \u001b[1m0s\u001b[0m 2ms/step - loss: 1605246720.0000 - val_loss: 427896992.0000\n",
      "Epoch 117/300\n",
      "\u001b[1m110/110\u001b[0m \u001b[32m━━━━━━━━━━━━━━━━━━━━\u001b[0m\u001b[37m\u001b[0m \u001b[1m0s\u001b[0m 2ms/step - loss: 1847025408.0000 - val_loss: 416219616.0000\n",
      "Epoch 118/300\n",
      "\u001b[1m110/110\u001b[0m \u001b[32m━━━━━━━━━━━━━━━━━━━━\u001b[0m\u001b[37m\u001b[0m \u001b[1m0s\u001b[0m 2ms/step - loss: 1771561472.0000 - val_loss: 415430304.0000\n",
      "Epoch 119/300\n",
      "\u001b[1m110/110\u001b[0m \u001b[32m━━━━━━━━━━━━━━━━━━━━\u001b[0m\u001b[37m\u001b[0m \u001b[1m0s\u001b[0m 2ms/step - loss: 1853176960.0000 - val_loss: 418228384.0000\n",
      "Epoch 120/300\n",
      "\u001b[1m110/110\u001b[0m \u001b[32m━━━━━━━━━━━━━━━━━━━━\u001b[0m\u001b[37m\u001b[0m \u001b[1m0s\u001b[0m 2ms/step - loss: 1756966784.0000 - val_loss: 416315136.0000\n",
      "Epoch 121/300\n",
      "\u001b[1m110/110\u001b[0m \u001b[32m━━━━━━━━━━━━━━━━━━━━\u001b[0m\u001b[37m\u001b[0m \u001b[1m0s\u001b[0m 2ms/step - loss: 1975746944.0000 - val_loss: 430195392.0000\n",
      "Epoch 122/300\n",
      "\u001b[1m110/110\u001b[0m \u001b[32m━━━━━━━━━━━━━━━━━━━━\u001b[0m\u001b[37m\u001b[0m \u001b[1m0s\u001b[0m 2ms/step - loss: 1891144448.0000 - val_loss: 415896352.0000\n",
      "Epoch 123/300\n",
      "\u001b[1m110/110\u001b[0m \u001b[32m━━━━━━━━━━━━━━━━━━━━\u001b[0m\u001b[37m\u001b[0m \u001b[1m0s\u001b[0m 2ms/step - loss: 1536271744.0000 - val_loss: 420869344.0000\n",
      "Epoch 124/300\n",
      "\u001b[1m110/110\u001b[0m \u001b[32m━━━━━━━━━━━━━━━━━━━━\u001b[0m\u001b[37m\u001b[0m \u001b[1m0s\u001b[0m 2ms/step - loss: 1959603456.0000 - val_loss: 417426848.0000\n",
      "Epoch 125/300\n",
      "\u001b[1m110/110\u001b[0m \u001b[32m━━━━━━━━━━━━━━━━━━━━\u001b[0m\u001b[37m\u001b[0m \u001b[1m0s\u001b[0m 2ms/step - loss: 1897810560.0000 - val_loss: 415282976.0000\n",
      "Epoch 126/300\n",
      "\u001b[1m110/110\u001b[0m \u001b[32m━━━━━━━━━━━━━━━━━━━━\u001b[0m\u001b[37m\u001b[0m \u001b[1m0s\u001b[0m 2ms/step - loss: 1627933440.0000 - val_loss: 415919328.0000\n"
     ]
    }
   ],
   "source": [
    "from tensorflow.keras.callbacks import EarlyStopping\n",
    "\n",
    "early_stop = EarlyStopping(\n",
    "    monitor=\"val_loss\",  # überwacht den Validierungsfehler\n",
    "    patience=20,         # wenn 20 Epochen lang keine Verbesserung → Stop\n",
    "    restore_best_weights=True\n",
    ")\n",
    "\n",
    "history = training_model_2.fit(\n",
    "    x=X_train, y=y_train,\n",
    "    epochs=300,\n",
    "    validation_data=(X_val, y_val),\n",
    "    callbacks=[early_stop],\n",
    "    verbose=1\n",
    ")\n"
   ]
  },
  {
   "cell_type": "markdown",
   "id": "3af633fb",
   "metadata": {},
   "source": [
    "#### Performance and Error Metrics"
   ]
  },
  {
   "cell_type": "code",
   "execution_count": 69,
   "id": "8d42b430",
   "metadata": {},
   "outputs": [
    {
     "data": {
      "image/png": "[encoded data removed]",
      "text/plain": [
       "<Figure size 800x500 with 1 Axes>"
      ]
     },
     "metadata": {},
     "output_type": "display_data"
    }
   ],
   "source": [
    "loss_df = pd.DataFrame(training_model_2.history.history)\n",
    "loss_df.plot(figsize=(8,5))\n",
    "plt.title(\"Training vs Validation Loss\")\n",
    "plt.xlabel(\"Epochs\")\n",
    "plt.ylabel(\"MSE Loss\")\n",
    "plt.grid(True)\n",
    "plt.show()"
   ]
  },
  {
   "cell_type": "markdown",
   "id": "258ac1d4",
   "metadata": {},
   "source": [
    "#### Trying the model and predict the price with new house data"
   ]
  },
  {
   "cell_type": "code",
   "execution_count": 70,
   "id": "bb7fb16b",
   "metadata": {},
   "outputs": [
    {
     "name": "stdout",
     "output_type": "stream",
     "text": [
      "Test data evaluation\n",
      "416595968.0\n",
      "\n",
      "Train data evaluation:\n",
      "386676032.0\n"
     ]
    }
   ],
   "source": [
    "print(\"Test data evaluation\")\n",
    "print(training_model_2.evaluate(X_test, y_test, verbose=0))\n",
    "print(\"\\nTrain data evaluation:\")\n",
    "print(training_model_2.evaluate(X_train, y_train, verbose=0))"
   ]
  },
  {
   "cell_type": "code",
   "execution_count": 71,
   "id": "723e48d8",
   "metadata": {},
   "outputs": [
    {
     "name": "stdout",
     "output_type": "stream",
     "text": [
      "\u001b[1m24/24\u001b[0m \u001b[32m━━━━━━━━━━━━━━━━━━━━\u001b[0m\u001b[37m\u001b[0m \u001b[1m0s\u001b[0m 3ms/step\n"
     ]
    },
    {
     "data": {
      "application/vnd.microsoft.datawrangler.viewer.v0+json": {
       "columns": [
        {
         "name": "index",
         "rawType": "int64",
         "type": "integer"
        },
        {
         "name": "Test True Y",
         "rawType": "int64",
         "type": "integer"
        },
        {
         "name": "Model Predictions",
         "rawType": "float32",
         "type": "float"
        }
       ],
       "ref": "fea7f0a3-7ca3-496e-9dcc-d877e8856840",
       "rows": [
        [
         "0",
         "569531",
         "573869.75"
        ],
        [
         "1",
         "895561",
         "870973.9"
        ],
        [
         "2",
         "826691",
         "848684.6"
        ],
        [
         "3",
         "492147",
         "472027.62"
        ],
        [
         "4",
         "625516",
         "635556.9"
        ],
        [
         "5",
         "494381",
         "523652.3"
        ],
        [
         "6",
         "803572",
         "830520.1"
        ],
        [
         "7",
         "550821",
         "533796.0"
        ],
        [
         "8",
         "681753",
         "707536.25"
        ],
        [
         "9",
         "688185",
         "681184.4"
        ],
        [
         "10",
         "645012",
         "638550.9"
        ],
        [
         "11",
         "294001",
         "300970.88"
        ],
        [
         "12",
         "953303",
         "949773.4"
        ],
        [
         "13",
         "629581",
         "615315.3"
        ],
        [
         "14",
         "793109",
         "816594.75"
        ],
        [
         "15",
         "877810",
         "902228.2"
        ],
        [
         "16",
         "811058",
         "831593.0"
        ],
        [
         "17",
         "575917",
         "585754.0"
        ],
        [
         "18",
         "440628",
         "431712.34"
        ],
        [
         "19",
         "318243",
         "317894.12"
        ],
        [
         "20",
         "737137",
         "731796.1"
        ],
        [
         "21",
         "966293",
         "965519.25"
        ],
        [
         "22",
         "724183",
         "757649.75"
        ],
        [
         "23",
         "896847",
         "879862.94"
        ],
        [
         "24",
         "451654",
         "445870.2"
        ],
        [
         "25",
         "774824",
         "773937.6"
        ],
        [
         "26",
         "721428",
         "723087.5"
        ],
        [
         "27",
         "657884",
         "660084.44"
        ],
        [
         "28",
         "587522",
         "608826.25"
        ],
        [
         "29",
         "884879",
         "861038.75"
        ],
        [
         "30",
         "1007810",
         "977208.3"
        ],
        [
         "31",
         "742346",
         "765732.6"
        ],
        [
         "32",
         "768326",
         "787627.75"
        ],
        [
         "33",
         "947365",
         "968651.2"
        ],
        [
         "34",
         "993121",
         "991443.9"
        ],
        [
         "35",
         "856550",
         "846315.0"
        ],
        [
         "36",
         "678817",
         "693107.9"
        ],
        [
         "37",
         "670363",
         "662734.1"
        ],
        [
         "38",
         "728508",
         "753822.6"
        ],
        [
         "39",
         "498724",
         "495694.97"
        ],
        [
         "40",
         "422988",
         "477086.5"
        ],
        [
         "41",
         "684699",
         "693340.7"
        ],
        [
         "42",
         "600244",
         "620073.75"
        ],
        [
         "43",
         "728125",
         "703200.25"
        ],
        [
         "44",
         "899819",
         "896560.1"
        ],
        [
         "45",
         "375537",
         "364349.34"
        ],
        [
         "46",
         "435243",
         "441516.2"
        ],
        [
         "47",
         "948484",
         "930823.8"
        ],
        [
         "48",
         "757043",
         "775202.06"
        ],
        [
         "49",
         "905454",
         "874570.4"
        ]
       ],
       "shape": {
        "columns": 2,
        "rows": 750
       }
      },
      "text/html": [
       "<div>\n",
       "<style scoped>\n",
       "    .dataframe tbody tr th:only-of-type {\n",
       "        vertical-align: middle;\n",
       "    }\n",
       "\n",
       "    .dataframe tbody tr th {\n",
       "        vertical-align: top;\n",
       "    }\n",
       "\n",
       "    .dataframe thead th {\n",
       "        text-align: right;\n",
       "    }\n",
       "</style>\n",
       "<table border=\"1\" class=\"dataframe\">\n",
       "  <thead>\n",
       "    <tr style=\"text-align: right;\">\n",
       "      <th></th>\n",
       "      <th>Test True Y</th>\n",
       "      <th>Model Predictions</th>\n",
       "    </tr>\n",
       "  </thead>\n",
       "  <tbody>\n",
       "    <tr>\n",
       "      <th>0</th>\n",
       "      <td>569531</td>\n",
       "      <td>573869.7500</td>\n",
       "    </tr>\n",
       "    <tr>\n",
       "      <th>1</th>\n",
       "      <td>895561</td>\n",
       "      <td>870973.8750</td>\n",
       "    </tr>\n",
       "    <tr>\n",
       "      <th>2</th>\n",
       "      <td>826691</td>\n",
       "      <td>848684.6250</td>\n",
       "    </tr>\n",
       "    <tr>\n",
       "      <th>3</th>\n",
       "      <td>492147</td>\n",
       "      <td>472027.6250</td>\n",
       "    </tr>\n",
       "    <tr>\n",
       "      <th>4</th>\n",
       "      <td>625516</td>\n",
       "      <td>635556.8750</td>\n",
       "    </tr>\n",
       "    <tr>\n",
       "      <th>...</th>\n",
       "      <td>...</td>\n",
       "      <td>...</td>\n",
       "    </tr>\n",
       "    <tr>\n",
       "      <th>745</th>\n",
       "      <td>541866</td>\n",
       "      <td>561947.7500</td>\n",
       "    </tr>\n",
       "    <tr>\n",
       "      <th>746</th>\n",
       "      <td>598411</td>\n",
       "      <td>618247.7500</td>\n",
       "    </tr>\n",
       "    <tr>\n",
       "      <th>747</th>\n",
       "      <td>588091</td>\n",
       "      <td>587266.8750</td>\n",
       "    </tr>\n",
       "    <tr>\n",
       "      <th>748</th>\n",
       "      <td>942580</td>\n",
       "      <td>966327.3125</td>\n",
       "    </tr>\n",
       "    <tr>\n",
       "      <th>749</th>\n",
       "      <td>582506</td>\n",
       "      <td>581301.0000</td>\n",
       "    </tr>\n",
       "  </tbody>\n",
       "</table>\n",
       "<p>750 rows × 2 columns</p>\n",
       "</div>"
      ],
      "text/plain": [
       "     Test True Y  Model Predictions\n",
       "0         569531        573869.7500\n",
       "1         895561        870973.8750\n",
       "2         826691        848684.6250\n",
       "3         492147        472027.6250\n",
       "4         625516        635556.8750\n",
       "..           ...                ...\n",
       "745       541866        561947.7500\n",
       "746       598411        618247.7500\n",
       "747       588091        587266.8750\n",
       "748       942580        966327.3125\n",
       "749       582506        581301.0000\n",
       "\n",
       "[750 rows x 2 columns]"
      ]
     },
     "execution_count": 71,
     "metadata": {},
     "output_type": "execute_result"
    }
   ],
   "source": [
    "import seaborn as sns\n",
    "\n",
    "# Predictions für Testdaten\n",
    "test_predictions = training_model_2.predict(X_test)\n",
    "test_predictions = pd.Series(test_predictions.reshape(len(y_test),))\n",
    "\n",
    "# DataFrame mit echten & predicted Werten\n",
    "pred_df = pd.DataFrame(pd.DataFrame(np.asarray(y_test), columns=[\"Test True Y\"]))\n",
    "pred_df = pd.concat([pred_df, test_predictions], axis = 1)\n",
    "pred_df.columns = [\"Test True Y\", \"Model Predictions\"]\n",
    "\n",
    "pred_df"
   ]
  },
  {
   "cell_type": "code",
   "execution_count": 72,
   "id": "d585e9c9",
   "metadata": {},
   "outputs": [
    {
     "data": {
      "image/png": "[encoded data removed]",
      "text/plain": [
       "<Figure size 600x600 with 1 Axes>"
      ]
     },
     "metadata": {},
     "output_type": "display_data"
    }
   ],
   "source": [
    "plt.figure(figsize=(6,6))\n",
    "sns.scatterplot(x=\"Test True Y\", y=\"Model Predictions\", data=pred_df)\n",
    "\n",
    "# Rote gestrichelte Linie (perfekte Vorhersage)\n",
    "min_val = min(pred_df[\"Test True Y\"].min(), pred_df[\"Model Predictions\"].min())\n",
    "max_val = max(pred_df[\"Test True Y\"].max(), pred_df[\"Model Predictions\"].max())\n",
    "plt.plot([min_val, max_val], [min_val, max_val], \"r--\")\n",
    "\n",
    "plt.title(\"True vs Predicted House Prices\")\n",
    "plt.xlabel(\"Test True Y\")\n",
    "plt.ylabel(\"Model Predictions\")\n",
    "plt.show()"
   ]
  },
  {
   "cell_type": "code",
   "execution_count": 73,
   "id": "1b435f8b",
   "metadata": {},
   "outputs": [
    {
     "name": "stdout",
     "output_type": "stream",
     "text": [
      "MAE\n",
      "16578.56 $\n",
      "\n",
      "MSE\n",
      "416596000.0 $^2\n",
      "\n",
      "RMSE:\n",
      "20410.68 $\n",
      "\n",
      "R-squared:\n",
      "0.99\n",
      "\n",
      "Explained variance score:\n",
      "0.99\n"
     ]
    }
   ],
   "source": [
    "print(\"MAE\")\n",
    "print(round(metrics.mean_absolute_error(y_test, test_predictions), 2), \"$\")\n",
    "\n",
    "print(\"\\nMSE\")\n",
    "print(round(metrics.mean_squared_error(y_test, test_predictions), 2), \"$^2\")\n",
    "\n",
    "print('\\nRMSE:')\n",
    "print(round(np.sqrt(metrics.mean_squared_error(y_test, test_predictions)), 2), \"$\")\n",
    "\n",
    "print('\\nR-squared:')\n",
    "print(round(metrics.r2_score(y_test, test_predictions), 2))\n",
    "\n",
    "print(\"\\nExplained variance score:\")\n",
    "print(round(metrics.explained_variance_score(y_test, test_predictions), 2))"
   ]
  },
  {
   "cell_type": "code",
   "execution_count": 74,
   "id": "158ba301",
   "metadata": {},
   "outputs": [
    {
     "name": "stderr",
     "output_type": "stream",
     "text": [
      "C:\\Users\\Timothy\\AppData\\Local\\Temp\\ipykernel_4008\\3264322254.py:1: UserWarning: \n",
      "\n",
      "`distplot` is a deprecated function and will be removed in seaborn v0.14.0.\n",
      "\n",
      "Please adapt your code to use either `displot` (a figure-level function with\n",
      "similar flexibility) or `histplot` (an axes-level function for histograms).\n",
      "\n",
      "For a guide to updating your code to use the new functions, please see\n",
      "https://gist.github.com/mwaskom/de44147ed2974457ad6372750bbe5751\n",
      "\n",
      "  sns.distplot((y_test - test_predictions))\n"
     ]
    },
    {
     "data": {
      "image/png": "[encoded data removed]",
      "text/plain": [
       "<Figure size 640x480 with 1 Axes>"
      ]
     },
     "metadata": {},
     "output_type": "display_data"
    }
   ],
   "source": [
    "sns.distplot((y_test - test_predictions))\n",
    "plt.show()\n",
    "plt.close()"
   ]
  },
  {
   "cell_type": "markdown",
   "id": "a4330849",
   "metadata": {},
   "source": [
    "#### Trying the model in practice with new imaginary house"
   ]
  },
  {
   "cell_type": "code",
   "execution_count": 75,
   "id": "3ba347d0",
   "metadata": {},
   "outputs": [
    {
     "data": {
      "text/plain": [
       "Index(['Bedrooms', 'Bathrooms', 'SquareFeet', 'YearBuilt', 'GarageSpaces',\n",
       "       'LotSize', 'CrimeRate', 'SchoolRating', 'Region_East', 'Region_North',\n",
       "       'Region_South', 'Region_West'],\n",
       "      dtype='object')"
      ]
     },
     "execution_count": 75,
     "metadata": {},
     "output_type": "execute_result"
    }
   ],
   "source": [
    "X.columns"
   ]
  },
  {
   "cell_type": "code",
   "execution_count": 76,
   "id": "3bfbbc25",
   "metadata": {},
   "outputs": [
    {
     "data": {
      "application/vnd.microsoft.datawrangler.viewer.v0+json": {
       "columns": [
        {
         "name": "index",
         "rawType": "int64",
         "type": "integer"
        },
        {
         "name": "Bedrooms",
         "rawType": "int64",
         "type": "integer"
        },
        {
         "name": "Bathrooms",
         "rawType": "float64",
         "type": "float"
        },
        {
         "name": "SquareFeet",
         "rawType": "int64",
         "type": "integer"
        },
        {
         "name": "YearBuilt",
         "rawType": "int64",
         "type": "integer"
        },
        {
         "name": "GarageSpaces",
         "rawType": "int64",
         "type": "integer"
        },
        {
         "name": "LotSize",
         "rawType": "float64",
         "type": "float"
        },
        {
         "name": "CrimeRate",
         "rawType": "float64",
         "type": "float"
        },
        {
         "name": "SchoolRating",
         "rawType": "int64",
         "type": "integer"
        },
        {
         "name": "Region_East",
         "rawType": "bool",
         "type": "boolean"
        },
        {
         "name": "Region_North",
         "rawType": "bool",
         "type": "boolean"
        },
        {
         "name": "Region_South",
         "rawType": "bool",
         "type": "boolean"
        },
        {
         "name": "Region_West",
         "rawType": "bool",
         "type": "boolean"
        }
       ],
       "ref": "ca1c8aa4-7db5-4ce0-9444-a82cc2460f85",
       "rows": [
        [
         "0",
         "4",
         "1.7",
         "2847",
         "1972",
         "2",
         "1.46",
         "37.28",
         "10",
         "False",
         "False",
         "False",
         "True"
        ],
        [
         "1",
         "5",
         "3.3",
         "2740",
         "1964",
         "1",
         "1.66",
         "39.89",
         "1",
         "False",
         "False",
         "True",
         "False"
        ],
        [
         "2",
         "3",
         "2.4",
         "3163",
         "1966",
         "2",
         "0.99",
         "84.57",
         "3",
         "False",
         "False",
         "True",
         "False"
        ]
       ],
       "shape": {
        "columns": 12,
        "rows": 3
       }
      },
      "text/html": [
       "<div>\n",
       "<style scoped>\n",
       "    .dataframe tbody tr th:only-of-type {\n",
       "        vertical-align: middle;\n",
       "    }\n",
       "\n",
       "    .dataframe tbody tr th {\n",
       "        vertical-align: top;\n",
       "    }\n",
       "\n",
       "    .dataframe thead th {\n",
       "        text-align: right;\n",
       "    }\n",
       "</style>\n",
       "<table border=\"1\" class=\"dataframe\">\n",
       "  <thead>\n",
       "    <tr style=\"text-align: right;\">\n",
       "      <th></th>\n",
       "      <th>Bedrooms</th>\n",
       "      <th>Bathrooms</th>\n",
       "      <th>SquareFeet</th>\n",
       "      <th>YearBuilt</th>\n",
       "      <th>GarageSpaces</th>\n",
       "      <th>LotSize</th>\n",
       "      <th>CrimeRate</th>\n",
       "      <th>SchoolRating</th>\n",
       "      <th>Region_East</th>\n",
       "      <th>Region_North</th>\n",
       "      <th>Region_South</th>\n",
       "      <th>Region_West</th>\n",
       "    </tr>\n",
       "  </thead>\n",
       "  <tbody>\n",
       "    <tr>\n",
       "      <th>0</th>\n",
       "      <td>4</td>\n",
       "      <td>1.7</td>\n",
       "      <td>2847</td>\n",
       "      <td>1972</td>\n",
       "      <td>2</td>\n",
       "      <td>1.46</td>\n",
       "      <td>37.28</td>\n",
       "      <td>10</td>\n",
       "      <td>False</td>\n",
       "      <td>False</td>\n",
       "      <td>False</td>\n",
       "      <td>True</td>\n",
       "    </tr>\n",
       "    <tr>\n",
       "      <th>1</th>\n",
       "      <td>5</td>\n",
       "      <td>3.3</td>\n",
       "      <td>2740</td>\n",
       "      <td>1964</td>\n",
       "      <td>1</td>\n",
       "      <td>1.66</td>\n",
       "      <td>39.89</td>\n",
       "      <td>1</td>\n",
       "      <td>False</td>\n",
       "      <td>False</td>\n",
       "      <td>True</td>\n",
       "      <td>False</td>\n",
       "    </tr>\n",
       "    <tr>\n",
       "      <th>2</th>\n",
       "      <td>3</td>\n",
       "      <td>2.4</td>\n",
       "      <td>3163</td>\n",
       "      <td>1966</td>\n",
       "      <td>2</td>\n",
       "      <td>0.99</td>\n",
       "      <td>84.57</td>\n",
       "      <td>3</td>\n",
       "      <td>False</td>\n",
       "      <td>False</td>\n",
       "      <td>True</td>\n",
       "      <td>False</td>\n",
       "    </tr>\n",
       "  </tbody>\n",
       "</table>\n",
       "</div>"
      ],
      "text/plain": [
       "   Bedrooms  Bathrooms  SquareFeet  YearBuilt  GarageSpaces  LotSize  \\\n",
       "0         4        1.7        2847       1972             2     1.46   \n",
       "1         5        3.3        2740       1964             1     1.66   \n",
       "2         3        2.4        3163       1966             2     0.99   \n",
       "\n",
       "   CrimeRate  SchoolRating  Region_East  Region_North  Region_South  \\\n",
       "0      37.28            10        False         False         False   \n",
       "1      39.89             1        False         False          True   \n",
       "2      84.57             3        False         False          True   \n",
       "\n",
       "   Region_West  \n",
       "0         True  \n",
       "1        False  \n",
       "2        False  "
      ]
     },
     "execution_count": 76,
     "metadata": {},
     "output_type": "execute_result"
    }
   ],
   "source": [
    "X.head(3)"
   ]
  },
  {
   "cell_type": "code",
   "execution_count": 82,
   "id": "4b926809",
   "metadata": {},
   "outputs": [
    {
     "name": "stdout",
     "output_type": "stream",
     "text": [
      "\u001b[1m1/1\u001b[0m \u001b[32m━━━━━━━━━━━━━━━━━━━━\u001b[0m\u001b[37m\u001b[0m \u001b[1m0s\u001b[0m 35ms/step\n",
      "Estimated house price with this example:\n",
      "$435480.5\n"
     ]
    }
   ],
   "source": [
    "tester_row = {\n",
    "    \"Bedrooms\": 1,\n",
    "    \"Bathrooms\": 1,\n",
    "    \"SquareFeet\": 120,\n",
    "    \"YearBuilt\": 2008,\n",
    "    \"GarageSpaces\": 1,\n",
    "    \"LotSize\": 0.74,\n",
    "    \"CrimeRate\": 0.29,\n",
    "    \"SchoolRating\": 7,\n",
    "    \"Region_East\": 1,\n",
    "    \"Region_North\": 0,\n",
    "    \"Region_South\": 0,\n",
    "    \"Region_West\": 0\n",
    "}\n",
    "\n",
    "# In ein DataFrame umwandeln\n",
    "tester_row = pd.DataFrame([tester_row])\n",
    "\n",
    "# WICHTIG: Die gleichen Transformationen anwenden wie beim Training\n",
    "tester_row_scaled = scaler.transform(tester_row)\n",
    "\n",
    "# Vorhersage machen\n",
    "result = training_model_1.predict(tester_row_scaled)[0][0]\n",
    "\n",
    "print(\"Estimated house price with this example:\")\n",
    "print(f\"${round(float(result), 2)}\")"
   ]
  },
  {
   "cell_type": "markdown",
   "id": "9d0fd318",
   "metadata": {},
   "source": [
    "#### Conclusion"
   ]
  },
  {
   "cell_type": "markdown",
   "id": "ebd5460f",
   "metadata": {},
   "source": [
    "The results with the synthetic dataset of 5,000 samples generated by AI show a major improvement in model performance compared to the original dataset. The correlations in the synthetic data are stronger and more consistent, which gives the neural network clearer patterns to learn from. As a result, the evaluation metrics (very low MAE/RMSE and an R² close to 1.00) indicate that the model can now predict house prices with high accuracy. This highlights that the main limitation of the original U.S. housing dataset was its small size and weak feature relationships. By using AI-generated realistic data, the model was able to generalize much better."
   ]
  }
 ],
 "metadata": {
  "kernelspec": {
   "display_name": "venv312 (3.12.10)",
   "language": "python",
   "name": "python3"
  },
  "language_info": {
   "codemirror_mode": {
    "name": "ipython",
    "version": 3
   },
   "file_extension": ".py",
   "mimetype": "text/x-python",
   "name": "python",
   "nbconvert_exporter": "python",
   "pygments_lexer": "ipython3",
   "version": "3.12.10"
  }
 },
 "nbformat": 4,
 "nbformat_minor": 5
}

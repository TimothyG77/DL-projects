{
 "cells": [
  {
   "cell_type": "markdown",
   "id": "0d8bdf01",
   "metadata": {},
   "source": [
    "#### All States-USA Houseprices - Dataset 2 - Excercise 1 - Timothy Gregorian"
   ]
  },
  {
   "cell_type": "markdown",
   "id": "2e9acc13",
   "metadata": {},
   "source": [
    "In this analysis, we use a large dataset of housing prices across all states in the United States to identify the main factors that influence property values. The purpose of this dataset is to build a predictive deep learning model that can estimate house prices more accurately due to the higher number of observations compared to the smaller dataset used in the folder \"ANN-Regression-Dataset1\"."
   ]
  },
  {
   "cell_type": "markdown",
   "id": "def6105f",
   "metadata": {},
   "source": [
    "#### Use of AI\n",
    " I used AI to generate ideas on how to improve the error metrics (e.g., R², MSE, MAE, RMSE). The AI supported me in identifying possible causes for poor performance (such as dataset quality, feature encoding, scaling, or model architecture) and suggested alternative strategies."
   ]
  },
  {
   "cell_type": "markdown",
   "id": "1bdf033f",
   "metadata": {},
   "source": [
    "#### Link to Dataset 2\n",
    "https://www.kaggle.com/datasets/ahmedshahriarsakib/usa-real-estate-dataset"
   ]
  },
  {
   "cell_type": "markdown",
   "id": "63898725",
   "metadata": {},
   "source": [
    "#### Information about the Dataset\n",
    "This USA Housing Market Dataset contains around 2.2 million rows and 12 columns of real-estate related data, which can be used for housing price predictions."
   ]
  },
  {
   "cell_type": "markdown",
   "id": "c6dad41e",
   "metadata": {},
   "source": [
    "#### Data Description\n",
    "The dataset contains thousands of housing records from different U.S. states and includes multiple variables that can affect property prices. Some of the key variables are:\n",
    "\n",
    "1) brokered_by: Real estate agency or broker responsible for the listing.\n",
    "\n",
    "2) status: Current status of the property.\n",
    "\n",
    "3) price: Selling price of the house -> in our case the target variable.\n",
    "\n",
    "4) bed: Number of bedrooms.\n",
    "\n",
    "5) bath: Number of bathrooms.\n",
    "\n",
    "6) acre_lot: Lot size in acres.\n",
    "\n",
    "7) street: Street address of the property.\n",
    "\n",
    "8) city: City where the house is located.\n",
    "\n",
    "9) state: State where the house is located.\n",
    "\n",
    "10) zip_code: Postal code of the property.\n",
    "\n",
    "11) house_size: Total living area of the house in square feet.\n",
    "\n",
    "12) prev_sold_date: Date when the property was previously sold.\n",
    "\n",
    "This dataset provides a comprehensive view of the U.S. housing market, covering both property characteristics and regional information that can affect house prices."
   ]
  },
  {
   "cell_type": "markdown",
   "id": "4903af9b",
   "metadata": {},
   "source": [
    "#### Import all necessary libraries"
   ]
  },
  {
   "cell_type": "code",
   "execution_count": 1,
   "id": "837888a1",
   "metadata": {},
   "outputs": [],
   "source": [
    "import pandas as pd\n",
    "import numpy as np\n",
    "\n",
    "from sklearn.model_selection import train_test_split\n",
    "from sklearn.preprocessing import StandardScaler\n",
    "from sklearn.metrics import r2_score, mean_squared_error, mean_absolute_error\n",
    "from sklearn import metrics\n",
    "\n",
    "import matplotlib.pyplot as plt\n",
    "from tensorflow.keras.models import Sequential\n",
    "from tensorflow.keras.layers import Dense, Dropout, BatchNormalization\n",
    "\n",
    "import tensorflow as tf\n",
    "import keras\n",
    "from keras import layers \n"
   ]
  },
  {
   "cell_type": "markdown",
   "id": "bb75c98c",
   "metadata": {},
   "source": [
    "#### Load the Dataset / Handle Missing Values\n",
    "In this step, we prepared the dataset by removing unnecessary columns and dropping rows with missing values in the main features. Since the dataset was too large, we randomly sampled 500,000 rows to include data from all U.S. states. This gave us a clean and manageable dataset for training the model."
   ]
  },
  {
   "cell_type": "code",
   "execution_count": 2,
   "id": "9bfa4d1d",
   "metadata": {},
   "outputs": [
    {
     "name": "stdout",
     "output_type": "stream",
     "text": [
      "Shape after dropping irrelevant columns: (2226382, 7)\n",
      "Shape after removing NaN values in core variables: (1360627, 7)\n",
      "Shape after sampling: (500000, 7)\n"
     ]
    }
   ],
   "source": [
    "\n",
    "import pandas as pd\n",
    "\n",
    "data = pd.read_csv(\"realtor-data.zip.csv\")\n",
    "\n",
    "drop_cols = [\"brokered_by\", \"status\", \"street\", \"city\", \"prev_sold_date\"]\n",
    "data = data.drop(columns=drop_cols)\n",
    "\n",
    "print(\"Shape after dropping irrelevant columns:\", data.shape)\n",
    "\n",
    "core_cols = [\"price\", \"bed\", \"bath\", \"acre_lot\", \"house_size\", \"state\", \"zip_code\"]\n",
    "data = data.dropna(subset=core_cols)\n",
    "\n",
    "print(\"Shape after removing NaN values in core variables:\", data.shape)\n",
    "\n",
    "if len(data) >= 500_000:\n",
    "    data = data.sample(n=500_000, random_state=7)\n",
    "else:\n",
    "    print(\"Warning -> Less than 500k clean rows available, using all rows instead!\")\n",
    "\n",
    "print(\"Shape after sampling:\", data.shape)\n",
    "\n"
   ]
  },
  {
   "cell_type": "code",
   "execution_count": 3,
   "id": "d579b294",
   "metadata": {},
   "outputs": [
    {
     "name": "stdout",
     "output_type": "stream",
     "text": [
      "Missing values after cleaning:\n",
      " price         0\n",
      "bed           0\n",
      "bath          0\n",
      "acre_lot      0\n",
      "state         0\n",
      "zip_code      0\n",
      "house_size    0\n",
      "dtype: int64\n"
     ]
    }
   ],
   "source": [
    "print(\"Missing values after cleaning:\\n\", data.isna().sum())"
   ]
  },
  {
   "cell_type": "code",
   "execution_count": 4,
   "id": "1a2fb509",
   "metadata": {},
   "outputs": [
    {
     "name": "stdout",
     "output_type": "stream",
     "text": [
      "Shape after duplicate removal: (485812, 7)\n"
     ]
    }
   ],
   "source": [
    "data = data.drop_duplicates()\n",
    "print(\"Shape after duplicate removal:\", data.shape)\n"
   ]
  },
  {
   "cell_type": "markdown",
   "id": "26cdcdfc",
   "metadata": {},
   "source": [
    "The following code counts the number of housing records of all U.S. states, sorts them in descending order, and stores the results in a new DataFrame for analysis."
   ]
  },
  {
   "cell_type": "code",
   "execution_count": 6,
   "id": "c07941fc",
   "metadata": {},
   "outputs": [
    {
     "name": "stdout",
     "output_type": "stream",
     "text": [
      "Number of rows per state:\n",
      " state\n",
      "California              60443\n",
      "Texas                   51936\n",
      "Florida                 45109\n",
      "Arizona                 19281\n",
      "Pennsylvania            18635\n",
      "New York                18470\n",
      "Georgia                 17373\n",
      "Washington              16502\n",
      "Illinois                16443\n",
      "Virginia                15658\n",
      "Ohio                    14717\n",
      "North Carolina          13365\n",
      "Maryland                11762\n",
      "Minnesota               11448\n",
      "Missouri                10757\n",
      "Massachusetts           10391\n",
      "Oklahoma                 9605\n",
      "Michigan                 8084\n",
      "Oregon                   7950\n",
      "New Jersey               7102\n",
      "Colorado                 6986\n",
      "Wisconsin                6615\n",
      "Tennessee                6544\n",
      "South Carolina           6216\n",
      "Iowa                     5959\n",
      "Kentucky                 5722\n",
      "Alabama                  5275\n",
      "Louisiana                5222\n",
      "Idaho                    4264\n",
      "New Mexico               4254\n",
      "Indiana                  4208\n",
      "Arkansas                 4151\n",
      "Kansas                   4033\n",
      "Nevada                   3635\n",
      "Connecticut              3461\n",
      "Utah                     3440\n",
      "Mississippi              2626\n",
      "West Virginia            2585\n",
      "Rhode Island             2320\n",
      "Delaware                 2228\n",
      "Montana                  1812\n",
      "Nebraska                 1526\n",
      "Hawaii                   1463\n",
      "District of Columbia      993\n",
      "North Dakota              859\n",
      "Maine                     854\n",
      "South Dakota              763\n",
      "Wyoming                   642\n",
      "Puerto Rico               639\n",
      "New Hampshire             620\n",
      "Vermont                   478\n",
      "Alaska                    304\n",
      "Guam                       44\n",
      "Virgin Islands             40\n",
      "Name: count, dtype: int64\n",
      "\n",
      "Shape of state_df: (54, 2)\n",
      "          state  count\n",
      "0    California  60443\n",
      "1         Texas  51936\n",
      "2       Florida  45109\n",
      "3       Arizona  19281\n",
      "4  Pennsylvania  18635\n",
      "5      New York  18470\n",
      "6       Georgia  17373\n",
      "7    Washington  16502\n",
      "8      Illinois  16443\n",
      "9      Virginia  15658\n"
     ]
    }
   ],
   "source": [
    "state_counts = data['state'].value_counts().sort_values(ascending=False)\n",
    "\n",
    "print(\"Number of rows per state:\\n\", state_counts)\n",
    "\n",
    "state_df = state_counts.reset_index()\n",
    "state_df.columns = ['state', 'count']\n",
    "\n",
    "print(\"\\nShape of state_df:\", state_df.shape)\n",
    "print(state_df.head(10))  "
   ]
  },
  {
   "cell_type": "markdown",
   "id": "d9172693",
   "metadata": {},
   "source": [
    "In the following code, the variable \"Zip_Code\" has been transformed into four categories (East, South, North, West) to avoid the model interpreting higher zip codes as inherently better. This categorical grouping provides a more meaningful regional representation for training."
   ]
  },
  {
   "cell_type": "code",
   "execution_count": 7,
   "id": "b4b46e7f",
   "metadata": {},
   "outputs": [],
   "source": [
    "def zipcode_to_region(zipcode):\n",
    "    if 1 <= zipcode < 30000:\n",
    "        return \"East\"\n",
    "    elif 30000 <= zipcode < 50000:\n",
    "        return \"South\"\n",
    "    elif 50000 <= zipcode < 70000:\n",
    "        return \"North\"\n",
    "    else:\n",
    "        return \"West\"\n",
    "\n",
    "data[\"Region\"] = data[\"zip_code\"].apply(zipcode_to_region)\n",
    "\n",
    "data = data.drop(columns=[\"Region_East\", \"Region_South\", \"Region_North\", \"Region_West\"], errors=\"ignore\")\n",
    "\n",
    "data = pd.get_dummies(data, columns=[\"Region\"], drop_first=False)\n"
   ]
  },
  {
   "cell_type": "code",
   "execution_count": 8,
   "id": "bcd1ef0f",
   "metadata": {},
   "outputs": [
    {
     "name": "stdout",
     "output_type": "stream",
     "text": [
      "Columns after status encoding: ['price', 'bed', 'bath', 'acre_lot', 'state', 'zip_code', 'house_size', 'Region_East', 'Region_North', 'Region_South', 'Region_West']\n"
     ]
    }
   ],
   "source": [
    "print(\"Columns after status encoding:\", data.columns.tolist())"
   ]
  },
  {
   "cell_type": "code",
   "execution_count": 9,
   "id": "b8c3730e",
   "metadata": {},
   "outputs": [
    {
     "name": "stdout",
     "output_type": "stream",
     "text": [
      "Shape of X: (485812, 9)\n",
      "Shape of y: (485812,)\n"
     ]
    }
   ],
   "source": [
    "y = data[\"price\"]\n",
    "X = data.drop([\"price\", \"zip_code\"], axis=1) \n",
    "\n",
    "print(\"Shape of X:\", X.shape)\n",
    "print(\"Shape of y:\", y.shape)\n"
   ]
  },
  {
   "cell_type": "markdown",
   "id": "30033ab5",
   "metadata": {},
   "source": [
    "#### Correlation"
   ]
  },
  {
   "cell_type": "code",
   "execution_count": 10,
   "id": "d2a4a550",
   "metadata": {},
   "outputs": [
    {
     "data": {
      "image/png": "[encoded data removed]",
      "text/plain": [
       "<Figure size 1000x600 with 2 Axes>"
      ]
     },
     "metadata": {},
     "output_type": "display_data"
    }
   ],
   "source": [
    "import seaborn as sns\n",
    "import matplotlib.pyplot as plt\n",
    "\n",
    "corr = X.join(y).corr(numeric_only=True)\n",
    "\n",
    "plt.figure(figsize=(10, 6))\n",
    "sns.heatmap(corr, annot=True, cmap=\"coolwarm\", fmt=\".2f\")\n",
    "plt.title(\"Correlation Matrix of Housing Data\")\n",
    "plt.show()\n"
   ]
  },
  {
   "cell_type": "markdown",
   "id": "133019f1",
   "metadata": {},
   "source": [
    "The correlation matrix shows that the number of bedrooms and bathrooms are strongly related, and both have a moderate positive relationship with house prices. Other features, such as lot size and regions, show weak or no clear correlation with price, meaning they contribute less directly to predicting house values."
   ]
  },
  {
   "cell_type": "markdown",
   "id": "1801d8b8",
   "metadata": {},
   "source": [
    "#### Fisher-Score Test"
   ]
  },
  {
   "cell_type": "code",
   "execution_count": 11,
   "id": "d565c556",
   "metadata": {},
   "outputs": [
    {
     "data": {
      "image/png": "[encoded data removed]",
      "text/plain": [
       "<Figure size 800x500 with 1 Axes>"
      ]
     },
     "metadata": {},
     "output_type": "display_data"
    }
   ],
   "source": [
    "from skfeature.function.similarity_based import fisher_score\n",
    "\n",
    "X_sub = X.sample(n=10000, random_state=7)\n",
    "y_sub = y.loc[X_sub.index]\n",
    "\n",
    "X_sub = X_sub.select_dtypes(include=[\"number\"])\n",
    "\n",
    "y_binned = pd.qcut(y_sub, q=4, labels=False)\n",
    "\n",
    "ranks = fisher_score.fisher_score(X_sub.values, y_binned.values)\n",
    "feat_importances = pd.Series(ranks, index=X_sub.columns)\n",
    "\n",
    "feat_importances.sort_values(ascending=False).plot(kind=\"barh\", figsize=(8, 5))\n",
    "plt.title(\"Feature Importance by Fisher Score (Subset of 10k, Numeric Only)\")\n",
    "plt.show()\n"
   ]
  },
  {
   "cell_type": "markdown",
   "id": "1ee67911",
   "metadata": {},
   "source": [
    "The Fisher Score results show that acre_lot and bedrooms are the most influential features for predicting house prices, while house_size has a smaller impact. The number of bathrooms contributes very little, indicating it is less relevant for the model."
   ]
  },
  {
   "cell_type": "markdown",
   "id": "a6adb336",
   "metadata": {},
   "source": [
    "#### Chi²-Test"
   ]
  },
  {
   "cell_type": "code",
   "execution_count": 12,
   "id": "7acd4e42",
   "metadata": {},
   "outputs": [
    {
     "name": "stdout",
     "output_type": "stream",
     "text": [
      "      Feature    Chi2 Score\n",
      "3  house_size  8.086351e+07\n",
      "2    acre_lot  5.016364e+05\n",
      "1        bath  7.320550e+04\n",
      "0         bed  2.244354e+04\n"
     ]
    }
   ],
   "source": [
    "import numpy as np\n",
    "import pandas as pd\n",
    "from sklearn.feature_selection import SelectKBest, chi2\n",
    "\n",
    "X_num = X.select_dtypes(include=[\"number\"])\n",
    "\n",
    "X_cat = np.abs(X_num)\n",
    "\n",
    "y_cat = pd.qcut(y, q=4, labels=False)\n",
    "\n",
    "chi2_selector = SelectKBest(score_func=chi2, k=\"all\")\n",
    "chi2_selector.fit(X_cat, y_cat)\n",
    "\n",
    "chi2_scores = pd.DataFrame({\n",
    "    \"Feature\": X_num.columns,\n",
    "    \"Chi2 Score\": chi2_selector.scores_\n",
    "}).sort_values(by=\"Chi2 Score\", ascending=False)\n",
    "\n",
    "print(chi2_scores)\n"
   ]
  },
  {
   "cell_type": "markdown",
   "id": "11f6f7f3",
   "metadata": {},
   "source": [
    "The Chi² test shows that house_size has by far the strongest influence on house prices, followed by acre_lot. In contrast, bathrooms and especially bedrooms have much weaker importance for prediction."
   ]
  },
  {
   "cell_type": "markdown",
   "id": "e50eb12d",
   "metadata": {},
   "source": [
    "#### VIF-Test"
   ]
  },
  {
   "cell_type": "code",
   "execution_count": 13,
   "id": "9bebb610",
   "metadata": {},
   "outputs": [
    {
     "name": "stdout",
     "output_type": "stream",
     "text": [
      "      Feature       VIF\n",
      "0         bed  8.642917\n",
      "1        bath  8.846145\n",
      "2    acre_lot  1.000187\n",
      "3  house_size  1.309957\n"
     ]
    }
   ],
   "source": [
    "from statsmodels.stats.outliers_influence import variance_inflation_factor\n",
    "import pandas as pd\n",
    "\n",
    "X_vif = X.select_dtypes(include=[\"number\"]).copy()\n",
    "\n",
    "X_vif = X_vif.astype(float)\n",
    "\n",
    "vif_data = pd.DataFrame()\n",
    "vif_data[\"Feature\"] = X_vif.columns\n",
    "vif_data[\"VIF\"] = [variance_inflation_factor(X_vif.values, i) for i in range(X_vif.shape[1])]\n",
    "\n",
    "print(vif_data)\n"
   ]
  },
  {
   "cell_type": "markdown",
   "id": "cef3081d",
   "metadata": {},
   "source": [
    "The VIF test indicates that bedrooms and bathrooms show high multicollinearity, meaning they carry overlapping information. In contrast, acre_lot and house_size have low VIF values, suggesting they provide independent and unique contributions to the model."
   ]
  },
  {
   "cell_type": "markdown",
   "id": "88414142",
   "metadata": {},
   "source": [
    "We applied one-hot encoding to the state variable so that all U.S. states could be included in the model without implying any numerical order. This way, the model can treat each state as a separate category for training."
   ]
  },
  {
   "cell_type": "code",
   "execution_count": 14,
   "id": "73eaaa52",
   "metadata": {},
   "outputs": [
    {
     "name": "stdout",
     "output_type": "stream",
     "text": [
      "Shape after state encoding: (485812, 62)\n"
     ]
    }
   ],
   "source": [
    "X = pd.get_dummies(X, columns=[\"state\"], drop_first=False)\n",
    "\n",
    "print(\"Shape after state encoding:\", X.shape)"
   ]
  },
  {
   "cell_type": "code",
   "execution_count": 15,
   "id": "df07814d",
   "metadata": {},
   "outputs": [
    {
     "name": "stdout",
     "output_type": "stream",
     "text": [
      "['bed', 'bath', 'acre_lot', 'house_size', 'Region_East', 'Region_North', 'Region_South', 'Region_West', 'state_Alabama', 'state_Alaska', 'state_Arizona', 'state_Arkansas', 'state_California', 'state_Colorado', 'state_Connecticut', 'state_Delaware', 'state_District of Columbia', 'state_Florida', 'state_Georgia', 'state_Guam', 'state_Hawaii', 'state_Idaho', 'state_Illinois', 'state_Indiana', 'state_Iowa', 'state_Kansas', 'state_Kentucky', 'state_Louisiana', 'state_Maine', 'state_Maryland', 'state_Massachusetts', 'state_Michigan', 'state_Minnesota', 'state_Mississippi', 'state_Missouri', 'state_Montana', 'state_Nebraska', 'state_Nevada', 'state_New Hampshire', 'state_New Jersey', 'state_New Mexico', 'state_New York', 'state_North Carolina', 'state_North Dakota', 'state_Ohio', 'state_Oklahoma', 'state_Oregon', 'state_Pennsylvania', 'state_Puerto Rico', 'state_Rhode Island', 'state_South Carolina', 'state_South Dakota', 'state_Tennessee', 'state_Texas', 'state_Utah', 'state_Vermont', 'state_Virgin Islands', 'state_Virginia', 'state_Washington', 'state_West Virginia', 'state_Wisconsin', 'state_Wyoming']\n"
     ]
    }
   ],
   "source": [
    "print(X.columns.to_list())"
   ]
  },
  {
   "cell_type": "markdown",
   "id": "a310ab0f",
   "metadata": {},
   "source": [
    "#### Train-/Test-/Validation-Split (70%/15%/15%)"
   ]
  },
  {
   "cell_type": "code",
   "execution_count": 16,
   "id": "69426730",
   "metadata": {},
   "outputs": [
    {
     "name": "stdout",
     "output_type": "stream",
     "text": [
      "Training size: (340068, 62)\n",
      "Validation size: (72872, 62)\n",
      "Test size: (72872, 62)\n"
     ]
    }
   ],
   "source": [
    "from sklearn.model_selection import train_test_split\n",
    "\n",
    "X_train, X_temp, y_train, y_temp = train_test_split(\n",
    "    X, y, test_size=0.3, random_state=7\n",
    ")\n",
    "\n",
    "X_val, X_test, y_val, y_test = train_test_split(\n",
    "    X_temp, y_temp, test_size=0.5, random_state=7\n",
    ")\n",
    "\n",
    "print(\"Training size:\", X_train.shape)\n",
    "print(\"Validation size:\", X_val.shape)\n",
    "print(\"Test size:\", X_test.shape)"
   ]
  },
  {
   "cell_type": "markdown",
   "id": "09af06ea",
   "metadata": {},
   "source": [
    "Here we used StandardScaler to normalize the data, so that all features have the same scale and no variable dominates the model. This ensures more stable and efficient training of the neural network."
   ]
  },
  {
   "cell_type": "code",
   "execution_count": 17,
   "id": "17ffca53",
   "metadata": {},
   "outputs": [],
   "source": [
    "from sklearn.preprocessing import StandardScaler\n",
    "\n",
    "scaler = StandardScaler()\n",
    "\n",
    "X_train = scaler.fit_transform(X_train)\n",
    "X_val   = scaler.transform(X_val)\n",
    "X_test  = scaler.transform(X_test)"
   ]
  },
  {
   "cell_type": "markdown",
   "id": "9c838026",
   "metadata": {},
   "source": [
    "#### Neural Network Architecture\n",
    "Here we built a neural network model with several dense layers and batch normalization to improve stability and performance."
   ]
  },
  {
   "cell_type": "code",
   "execution_count": 18,
   "id": "35cba8de",
   "metadata": {},
   "outputs": [
    {
     "name": "stderr",
     "output_type": "stream",
     "text": [
      "d:\\5. Semester\\Deep Learning\\DL-projects\\venv312\\Lib\\site-packages\\keras\\src\\layers\\normalization\\batch_normalization.py:142: UserWarning: Do not pass an `input_shape`/`input_dim` argument to a layer. When using Sequential models, prefer using an `Input(shape)` object as the first layer in the model instead.\n",
      "  super().__init__(**kwargs)\n"
     ]
    },
    {
     "data": {
      "text/html": [
       "<pre style=\"white-space:pre;overflow-x:auto;line-height:normal;font-family:Menlo,'DejaVu Sans Mono',consolas,'Courier New',monospace\"><span style=\"font-weight: bold\">Model: \"sequential\"</span>\n",
       "</pre>\n"
      ],
      "text/plain": [
       "\u001b[1mModel: \"sequential\"\u001b[0m\n"
      ]
     },
     "metadata": {},
     "output_type": "display_data"
    },
    {
     "data": {
      "text/html": [
       "<pre style=\"white-space:pre;overflow-x:auto;line-height:normal;font-family:Menlo,'DejaVu Sans Mono',consolas,'Courier New',monospace\">┏━━━━━━━━━━━━━━━━━━━━━━━━━━━━━━━━━┳━━━━━━━━━━━━━━━━━━━━━━━━┳━━━━━━━━━━━━━━━┓\n",
       "┃<span style=\"font-weight: bold\"> Layer (type)                    </span>┃<span style=\"font-weight: bold\"> Output Shape           </span>┃<span style=\"font-weight: bold\">       Param # </span>┃\n",
       "┡━━━━━━━━━━━━━━━━━━━━━━━━━━━━━━━━━╇━━━━━━━━━━━━━━━━━━━━━━━━╇━━━━━━━━━━━━━━━┩\n",
       "│ batch_normalization             │ (<span style=\"color: #00d7ff; text-decoration-color: #00d7ff\">None</span>, <span style=\"color: #00af00; text-decoration-color: #00af00\">62</span>)             │           <span style=\"color: #00af00; text-decoration-color: #00af00\">248</span> │\n",
       "│ (<span style=\"color: #0087ff; text-decoration-color: #0087ff\">BatchNormalization</span>)            │                        │               │\n",
       "├─────────────────────────────────┼────────────────────────┼───────────────┤\n",
       "│ dense (<span style=\"color: #0087ff; text-decoration-color: #0087ff\">Dense</span>)                   │ (<span style=\"color: #00d7ff; text-decoration-color: #00d7ff\">None</span>, <span style=\"color: #00af00; text-decoration-color: #00af00\">32</span>)             │         <span style=\"color: #00af00; text-decoration-color: #00af00\">2,016</span> │\n",
       "├─────────────────────────────────┼────────────────────────┼───────────────┤\n",
       "│ batch_normalization_1           │ (<span style=\"color: #00d7ff; text-decoration-color: #00d7ff\">None</span>, <span style=\"color: #00af00; text-decoration-color: #00af00\">32</span>)             │           <span style=\"color: #00af00; text-decoration-color: #00af00\">128</span> │\n",
       "│ (<span style=\"color: #0087ff; text-decoration-color: #0087ff\">BatchNormalization</span>)            │                        │               │\n",
       "├─────────────────────────────────┼────────────────────────┼───────────────┤\n",
       "│ dense_1 (<span style=\"color: #0087ff; text-decoration-color: #0087ff\">Dense</span>)                 │ (<span style=\"color: #00d7ff; text-decoration-color: #00d7ff\">None</span>, <span style=\"color: #00af00; text-decoration-color: #00af00\">16</span>)             │           <span style=\"color: #00af00; text-decoration-color: #00af00\">528</span> │\n",
       "├─────────────────────────────────┼────────────────────────┼───────────────┤\n",
       "│ batch_normalization_2           │ (<span style=\"color: #00d7ff; text-decoration-color: #00d7ff\">None</span>, <span style=\"color: #00af00; text-decoration-color: #00af00\">16</span>)             │            <span style=\"color: #00af00; text-decoration-color: #00af00\">64</span> │\n",
       "│ (<span style=\"color: #0087ff; text-decoration-color: #0087ff\">BatchNormalization</span>)            │                        │               │\n",
       "├─────────────────────────────────┼────────────────────────┼───────────────┤\n",
       "│ dense_2 (<span style=\"color: #0087ff; text-decoration-color: #0087ff\">Dense</span>)                 │ (<span style=\"color: #00d7ff; text-decoration-color: #00d7ff\">None</span>, <span style=\"color: #00af00; text-decoration-color: #00af00\">8</span>)              │           <span style=\"color: #00af00; text-decoration-color: #00af00\">136</span> │\n",
       "├─────────────────────────────────┼────────────────────────┼───────────────┤\n",
       "│ batch_normalization_3           │ (<span style=\"color: #00d7ff; text-decoration-color: #00d7ff\">None</span>, <span style=\"color: #00af00; text-decoration-color: #00af00\">8</span>)              │            <span style=\"color: #00af00; text-decoration-color: #00af00\">32</span> │\n",
       "│ (<span style=\"color: #0087ff; text-decoration-color: #0087ff\">BatchNormalization</span>)            │                        │               │\n",
       "├─────────────────────────────────┼────────────────────────┼───────────────┤\n",
       "│ dense_3 (<span style=\"color: #0087ff; text-decoration-color: #0087ff\">Dense</span>)                 │ (<span style=\"color: #00d7ff; text-decoration-color: #00d7ff\">None</span>, <span style=\"color: #00af00; text-decoration-color: #00af00\">1</span>)              │             <span style=\"color: #00af00; text-decoration-color: #00af00\">9</span> │\n",
       "└─────────────────────────────────┴────────────────────────┴───────────────┘\n",
       "</pre>\n"
      ],
      "text/plain": [
       "┏━━━━━━━━━━━━━━━━━━━━━━━━━━━━━━━━━┳━━━━━━━━━━━━━━━━━━━━━━━━┳━━━━━━━━━━━━━━━┓\n",
       "┃\u001b[1m \u001b[0m\u001b[1mLayer (type)                   \u001b[0m\u001b[1m \u001b[0m┃\u001b[1m \u001b[0m\u001b[1mOutput Shape          \u001b[0m\u001b[1m \u001b[0m┃\u001b[1m \u001b[0m\u001b[1m      Param #\u001b[0m\u001b[1m \u001b[0m┃\n",
       "┡━━━━━━━━━━━━━━━━━━━━━━━━━━━━━━━━━╇━━━━━━━━━━━━━━━━━━━━━━━━╇━━━━━━━━━━━━━━━┩\n",
       "│ batch_normalization             │ (\u001b[38;5;45mNone\u001b[0m, \u001b[38;5;34m62\u001b[0m)             │           \u001b[38;5;34m248\u001b[0m │\n",
       "│ (\u001b[38;5;33mBatchNormalization\u001b[0m)            │                        │               │\n",
       "├─────────────────────────────────┼────────────────────────┼───────────────┤\n",
       "│ dense (\u001b[38;5;33mDense\u001b[0m)                   │ (\u001b[38;5;45mNone\u001b[0m, \u001b[38;5;34m32\u001b[0m)             │         \u001b[38;5;34m2,016\u001b[0m │\n",
       "├─────────────────────────────────┼────────────────────────┼───────────────┤\n",
       "│ batch_normalization_1           │ (\u001b[38;5;45mNone\u001b[0m, \u001b[38;5;34m32\u001b[0m)             │           \u001b[38;5;34m128\u001b[0m │\n",
       "│ (\u001b[38;5;33mBatchNormalization\u001b[0m)            │                        │               │\n",
       "├─────────────────────────────────┼────────────────────────┼───────────────┤\n",
       "│ dense_1 (\u001b[38;5;33mDense\u001b[0m)                 │ (\u001b[38;5;45mNone\u001b[0m, \u001b[38;5;34m16\u001b[0m)             │           \u001b[38;5;34m528\u001b[0m │\n",
       "├─────────────────────────────────┼────────────────────────┼───────────────┤\n",
       "│ batch_normalization_2           │ (\u001b[38;5;45mNone\u001b[0m, \u001b[38;5;34m16\u001b[0m)             │            \u001b[38;5;34m64\u001b[0m │\n",
       "│ (\u001b[38;5;33mBatchNormalization\u001b[0m)            │                        │               │\n",
       "├─────────────────────────────────┼────────────────────────┼───────────────┤\n",
       "│ dense_2 (\u001b[38;5;33mDense\u001b[0m)                 │ (\u001b[38;5;45mNone\u001b[0m, \u001b[38;5;34m8\u001b[0m)              │           \u001b[38;5;34m136\u001b[0m │\n",
       "├─────────────────────────────────┼────────────────────────┼───────────────┤\n",
       "│ batch_normalization_3           │ (\u001b[38;5;45mNone\u001b[0m, \u001b[38;5;34m8\u001b[0m)              │            \u001b[38;5;34m32\u001b[0m │\n",
       "│ (\u001b[38;5;33mBatchNormalization\u001b[0m)            │                        │               │\n",
       "├─────────────────────────────────┼────────────────────────┼───────────────┤\n",
       "│ dense_3 (\u001b[38;5;33mDense\u001b[0m)                 │ (\u001b[38;5;45mNone\u001b[0m, \u001b[38;5;34m1\u001b[0m)              │             \u001b[38;5;34m9\u001b[0m │\n",
       "└─────────────────────────────────┴────────────────────────┴───────────────┘\n"
      ]
     },
     "metadata": {},
     "output_type": "display_data"
    },
    {
     "data": {
      "text/html": [
       "<pre style=\"white-space:pre;overflow-x:auto;line-height:normal;font-family:Menlo,'DejaVu Sans Mono',consolas,'Courier New',monospace\"><span style=\"font-weight: bold\"> Total params: </span><span style=\"color: #00af00; text-decoration-color: #00af00\">3,161</span> (12.35 KB)\n",
       "</pre>\n"
      ],
      "text/plain": [
       "\u001b[1m Total params: \u001b[0m\u001b[38;5;34m3,161\u001b[0m (12.35 KB)\n"
      ]
     },
     "metadata": {},
     "output_type": "display_data"
    },
    {
     "data": {
      "text/html": [
       "<pre style=\"white-space:pre;overflow-x:auto;line-height:normal;font-family:Menlo,'DejaVu Sans Mono',consolas,'Courier New',monospace\"><span style=\"font-weight: bold\"> Trainable params: </span><span style=\"color: #00af00; text-decoration-color: #00af00\">2,925</span> (11.43 KB)\n",
       "</pre>\n"
      ],
      "text/plain": [
       "\u001b[1m Trainable params: \u001b[0m\u001b[38;5;34m2,925\u001b[0m (11.43 KB)\n"
      ]
     },
     "metadata": {},
     "output_type": "display_data"
    },
    {
     "data": {
      "text/html": [
       "<pre style=\"white-space:pre;overflow-x:auto;line-height:normal;font-family:Menlo,'DejaVu Sans Mono',consolas,'Courier New',monospace\"><span style=\"font-weight: bold\"> Non-trainable params: </span><span style=\"color: #00af00; text-decoration-color: #00af00\">236</span> (944.00 B)\n",
       "</pre>\n"
      ],
      "text/plain": [
       "\u001b[1m Non-trainable params: \u001b[0m\u001b[38;5;34m236\u001b[0m (944.00 B)\n"
      ]
     },
     "metadata": {},
     "output_type": "display_data"
    }
   ],
   "source": [
    "from keras.callbacks import ModelCheckpoint, EarlyStopping, ReduceLROnPlateau\n",
    "\n",
    "variable_amount = len(X.columns)\n",
    "\n",
    "neural_model_13 = keras.Sequential(\n",
    "    [\n",
    "        layers.BatchNormalization(input_shape=(variable_amount,)),\n",
    "        layers.Dense(32, activation=\"relu\"),\n",
    "        layers.BatchNormalization(),\n",
    "        layers.Dense(16, activation=\"relu\"),\n",
    "        layers.BatchNormalization(),\n",
    "        layers.Dense(8, activation=\"relu\"),\n",
    "        layers.BatchNormalization(),\n",
    "        layers.Dense(1)\n",
    "    ]\n",
    ")\n",
    "\n",
    "neural_model_13.compile(\n",
    "    optimizer=\"adam\",\n",
    "    loss=\"mse\"\n",
    ")\n",
    "\n",
    "neural_model_13.summary()"
   ]
  },
  {
   "cell_type": "markdown",
   "id": "a0162a52",
   "metadata": {},
   "source": [
    "#### Training the model"
   ]
  },
  {
   "cell_type": "markdown",
   "id": "ae4a834b",
   "metadata": {},
   "source": [
    "Here we used EarlyStopping to monitor the validation loss and stop training if no improvement occurs for 20 epochs. This helps prevent overfitting and ensures the model to be trained in a way for more accurate predictions."
   ]
  },
  {
   "cell_type": "code",
   "execution_count": 19,
   "id": "04d26c2e",
   "metadata": {},
   "outputs": [
    {
     "name": "stdout",
     "output_type": "stream",
     "text": [
      "Epoch 1/100\n",
      "\u001b[1m10628/10628\u001b[0m \u001b[32m━━━━━━━━━━━━━━━━━━━━\u001b[0m\u001b[37m\u001b[0m \u001b[1m22s\u001b[0m 2ms/step - loss: 1776056664064.0000 - val_loss: 1551866658816.0000\n",
      "Epoch 2/100\n",
      "\u001b[1m10628/10628\u001b[0m \u001b[32m━━━━━━━━━━━━━━━━━━━━\u001b[0m\u001b[37m\u001b[0m \u001b[1m19s\u001b[0m 2ms/step - loss: 1772747227136.0000 - val_loss: 1546200940544.0000\n",
      "Epoch 3/100\n",
      "\u001b[1m10628/10628\u001b[0m \u001b[32m━━━━━━━━━━━━━━━━━━━━\u001b[0m\u001b[37m\u001b[0m \u001b[1m19s\u001b[0m 2ms/step - loss: 1767058571264.0000 - val_loss: 1538068447232.0000\n",
      "Epoch 4/100\n",
      "\u001b[1m10628/10628\u001b[0m \u001b[32m━━━━━━━━━━━━━━━━━━━━\u001b[0m\u001b[37m\u001b[0m \u001b[1m19s\u001b[0m 2ms/step - loss: 1758734712832.0000 - val_loss: 1525268873216.0000\n",
      "Epoch 5/100\n",
      "\u001b[1m10628/10628\u001b[0m \u001b[32m━━━━━━━━━━━━━━━━━━━━\u001b[0m\u001b[37m\u001b[0m \u001b[1m19s\u001b[0m 2ms/step - loss: 1747928875008.0000 - val_loss: 1511309705216.0000\n",
      "Epoch 6/100\n",
      "\u001b[1m10628/10628\u001b[0m \u001b[32m━━━━━━━━━━━━━━━━━━━━\u001b[0m\u001b[37m\u001b[0m \u001b[1m19s\u001b[0m 2ms/step - loss: 1735146995712.0000 - val_loss: 1495736778752.0000\n",
      "Epoch 7/100\n",
      "\u001b[1m10628/10628\u001b[0m \u001b[32m━━━━━━━━━━━━━━━━━━━━\u001b[0m\u001b[37m\u001b[0m \u001b[1m19s\u001b[0m 2ms/step - loss: 1720370593792.0000 - val_loss: 1483108515840.0000\n",
      "Epoch 8/100\n",
      "\u001b[1m10628/10628\u001b[0m \u001b[32m━━━━━━━━━━━━━━━━━━━━\u001b[0m\u001b[37m\u001b[0m \u001b[1m19s\u001b[0m 2ms/step - loss: 1703406600192.0000 - val_loss: 1454416068608.0000\n",
      "Epoch 9/100\n",
      "\u001b[1m10628/10628\u001b[0m \u001b[32m━━━━━━━━━━━━━━━━━━━━\u001b[0m\u001b[37m\u001b[0m \u001b[1m19s\u001b[0m 2ms/step - loss: 1684614676480.0000 - val_loss: 1429441478656.0000\n",
      "Epoch 10/100\n",
      "\u001b[1m10628/10628\u001b[0m \u001b[32m━━━━━━━━━━━━━━━━━━━━\u001b[0m\u001b[37m\u001b[0m \u001b[1m19s\u001b[0m 2ms/step - loss: 1664061538304.0000 - val_loss: 1426443468800.0000\n",
      "Epoch 11/100\n",
      "\u001b[1m10628/10628\u001b[0m \u001b[32m━━━━━━━━━━━━━━━━━━━━\u001b[0m\u001b[37m\u001b[0m \u001b[1m19s\u001b[0m 2ms/step - loss: 1641988227072.0000 - val_loss: 1395613106176.0000\n",
      "Epoch 12/100\n",
      "\u001b[1m10628/10628\u001b[0m \u001b[32m━━━━━━━━━━━━━━━━━━━━\u001b[0m\u001b[37m\u001b[0m \u001b[1m19s\u001b[0m 2ms/step - loss: 1618422398976.0000 - val_loss: 1348991975424.0000\n",
      "Epoch 13/100\n",
      "\u001b[1m10628/10628\u001b[0m \u001b[32m━━━━━━━━━━━━━━━━━━━━\u001b[0m\u001b[37m\u001b[0m \u001b[1m22s\u001b[0m 2ms/step - loss: 1594344734720.0000 - val_loss: 1340689481728.0000\n",
      "Epoch 14/100\n",
      "\u001b[1m10628/10628\u001b[0m \u001b[32m━━━━━━━━━━━━━━━━━━━━\u001b[0m\u001b[37m\u001b[0m \u001b[1m20s\u001b[0m 2ms/step - loss: 1568550289408.0000 - val_loss: 1301120679936.0000\n",
      "Epoch 15/100\n",
      "\u001b[1m10628/10628\u001b[0m \u001b[32m━━━━━━━━━━━━━━━━━━━━\u001b[0m\u001b[37m\u001b[0m \u001b[1m19s\u001b[0m 2ms/step - loss: 1542500777984.0000 - val_loss: 1264159424512.0000\n",
      "Epoch 16/100\n",
      "\u001b[1m10628/10628\u001b[0m \u001b[32m━━━━━━━━━━━━━━━━━━━━\u001b[0m\u001b[37m\u001b[0m \u001b[1m19s\u001b[0m 2ms/step - loss: 1516677758976.0000 - val_loss: 1247205523456.0000\n",
      "Epoch 17/100\n",
      "\u001b[1m10628/10628\u001b[0m \u001b[32m━━━━━━━━━━━━━━━━━━━━\u001b[0m\u001b[37m\u001b[0m \u001b[1m19s\u001b[0m 2ms/step - loss: 1489876156416.0000 - val_loss: 1368481595392.0000\n",
      "Epoch 18/100\n",
      "\u001b[1m10628/10628\u001b[0m \u001b[32m━━━━━━━━━━━━━━━━━━━━\u001b[0m\u001b[37m\u001b[0m \u001b[1m19s\u001b[0m 2ms/step - loss: 1462935617536.0000 - val_loss: 1282419851264.0000\n",
      "Epoch 19/100\n",
      "\u001b[1m10628/10628\u001b[0m \u001b[32m━━━━━━━━━━━━━━━━━━━━\u001b[0m\u001b[37m\u001b[0m \u001b[1m19s\u001b[0m 2ms/step - loss: 1435939241984.0000 - val_loss: 1226685153280.0000\n",
      "Epoch 20/100\n",
      "\u001b[1m10628/10628\u001b[0m \u001b[32m━━━━━━━━━━━━━━━━━━━━\u001b[0m\u001b[37m\u001b[0m \u001b[1m20s\u001b[0m 2ms/step - loss: 1411344105472.0000 - val_loss: 1206485123072.0000\n",
      "Epoch 21/100\n",
      "\u001b[1m10628/10628\u001b[0m \u001b[32m━━━━━━━━━━━━━━━━━━━━\u001b[0m\u001b[37m\u001b[0m \u001b[1m20s\u001b[0m 2ms/step - loss: 1386193223680.0000 - val_loss: 1242326106112.0000\n",
      "Epoch 22/100\n",
      "\u001b[1m10628/10628\u001b[0m \u001b[32m━━━━━━━━━━━━━━━━━━━━\u001b[0m\u001b[37m\u001b[0m \u001b[1m19s\u001b[0m 2ms/step - loss: 1361954734080.0000 - val_loss: 1351624818688.0000\n",
      "Epoch 23/100\n",
      "\u001b[1m10628/10628\u001b[0m \u001b[32m━━━━━━━━━━━━━━━━━━━━\u001b[0m\u001b[37m\u001b[0m \u001b[1m19s\u001b[0m 2ms/step - loss: 1339406286848.0000 - val_loss: 1139517030400.0000\n",
      "Epoch 24/100\n",
      "\u001b[1m10628/10628\u001b[0m \u001b[32m━━━━━━━━━━━━━━━━━━━━\u001b[0m\u001b[37m\u001b[0m \u001b[1m19s\u001b[0m 2ms/step - loss: 1317992792064.0000 - val_loss: 1645676724224.0000\n",
      "Epoch 25/100\n",
      "\u001b[1m10628/10628\u001b[0m \u001b[32m━━━━━━━━━━━━━━━━━━━━\u001b[0m\u001b[37m\u001b[0m \u001b[1m19s\u001b[0m 2ms/step - loss: 1297128357888.0000 - val_loss: 1516842778624.0000\n",
      "Epoch 26/100\n",
      "\u001b[1m10628/10628\u001b[0m \u001b[32m━━━━━━━━━━━━━━━━━━━━\u001b[0m\u001b[37m\u001b[0m \u001b[1m19s\u001b[0m 2ms/step - loss: 1277797597184.0000 - val_loss: 1373324967936.0000\n",
      "Epoch 27/100\n",
      "\u001b[1m10628/10628\u001b[0m \u001b[32m━━━━━━━━━━━━━━━━━━━━\u001b[0m\u001b[37m\u001b[0m \u001b[1m20s\u001b[0m 2ms/step - loss: 1260955500544.0000 - val_loss: 1856442204160.0000\n",
      "Epoch 28/100\n",
      "\u001b[1m10628/10628\u001b[0m \u001b[32m━━━━━━━━━━━━━━━━━━━━\u001b[0m\u001b[37m\u001b[0m \u001b[1m19s\u001b[0m 2ms/step - loss: 1246125883392.0000 - val_loss: 1082320093184.0000\n",
      "Epoch 29/100\n",
      "\u001b[1m10628/10628\u001b[0m \u001b[32m━━━━━━━━━━━━━━━━━━━━\u001b[0m\u001b[37m\u001b[0m \u001b[1m19s\u001b[0m 2ms/step - loss: 1231993569280.0000 - val_loss: 3332038721536.0000\n",
      "Epoch 30/100\n",
      "\u001b[1m10628/10628\u001b[0m \u001b[32m━━━━━━━━━━━━━━━━━━━━\u001b[0m\u001b[37m\u001b[0m \u001b[1m19s\u001b[0m 2ms/step - loss: 1218775482368.0000 - val_loss: 1281509031936.0000\n",
      "Epoch 31/100\n",
      "\u001b[1m10628/10628\u001b[0m \u001b[32m━━━━━━━━━━━━━━━━━━━━\u001b[0m\u001b[37m\u001b[0m \u001b[1m19s\u001b[0m 2ms/step - loss: 1207721000960.0000 - val_loss: 1891276423168.0000\n",
      "Epoch 32/100\n",
      "\u001b[1m10628/10628\u001b[0m \u001b[32m━━━━━━━━━━━━━━━━━━━━\u001b[0m\u001b[37m\u001b[0m \u001b[1m19s\u001b[0m 2ms/step - loss: 1198608482304.0000 - val_loss: 159407375646720.0000\n",
      "Epoch 33/100\n",
      "\u001b[1m10628/10628\u001b[0m \u001b[32m━━━━━━━━━━━━━━━━━━━━\u001b[0m\u001b[37m\u001b[0m \u001b[1m19s\u001b[0m 2ms/step - loss: 1188912300032.0000 - val_loss: 40331336744960.0000\n",
      "Epoch 34/100\n",
      "\u001b[1m10628/10628\u001b[0m \u001b[32m━━━━━━━━━━━━━━━━━━━━\u001b[0m\u001b[37m\u001b[0m \u001b[1m19s\u001b[0m 2ms/step - loss: 1181403840512.0000 - val_loss: 1841610883072.0000\n",
      "Epoch 35/100\n",
      "\u001b[1m10628/10628\u001b[0m \u001b[32m━━━━━━━━━━━━━━━━━━━━\u001b[0m\u001b[37m\u001b[0m \u001b[1m19s\u001b[0m 2ms/step - loss: 1176476450816.0000 - val_loss: 1361637146624.0000\n",
      "Epoch 36/100\n",
      "\u001b[1m10628/10628\u001b[0m \u001b[32m━━━━━━━━━━━━━━━━━━━━\u001b[0m\u001b[37m\u001b[0m \u001b[1m19s\u001b[0m 2ms/step - loss: 1169809080320.0000 - val_loss: 5932587679744.0000\n",
      "Epoch 37/100\n",
      "\u001b[1m10628/10628\u001b[0m \u001b[32m━━━━━━━━━━━━━━━━━━━━\u001b[0m\u001b[37m\u001b[0m \u001b[1m19s\u001b[0m 2ms/step - loss: 1164900958208.0000 - val_loss: 5336526225408.0000\n",
      "Epoch 38/100\n",
      "\u001b[1m10628/10628\u001b[0m \u001b[32m━━━━━━━━━━━━━━━━━━━━\u001b[0m\u001b[37m\u001b[0m \u001b[1m19s\u001b[0m 2ms/step - loss: 1157614927872.0000 - val_loss: 1403738259456.0000\n",
      "Epoch 39/100\n",
      "\u001b[1m10628/10628\u001b[0m \u001b[32m━━━━━━━━━━━━━━━━━━━━\u001b[0m\u001b[37m\u001b[0m \u001b[1m21s\u001b[0m 2ms/step - loss: 1154367750144.0000 - val_loss: 2035737821184.0000\n",
      "Epoch 40/100\n",
      "\u001b[1m10628/10628\u001b[0m \u001b[32m━━━━━━━━━━━━━━━━━━━━\u001b[0m\u001b[37m\u001b[0m \u001b[1m20s\u001b[0m 2ms/step - loss: 1148161228800.0000 - val_loss: 1278328307712.0000\n",
      "Epoch 41/100\n",
      "\u001b[1m10628/10628\u001b[0m \u001b[32m━━━━━━━━━━━━━━━━━━━━\u001b[0m\u001b[37m\u001b[0m \u001b[1m20s\u001b[0m 2ms/step - loss: 1147249360896.0000 - val_loss: 1152951123968.0000\n",
      "Epoch 42/100\n",
      "\u001b[1m10628/10628\u001b[0m \u001b[32m━━━━━━━━━━━━━━━━━━━━\u001b[0m\u001b[37m\u001b[0m \u001b[1m19s\u001b[0m 2ms/step - loss: 1143546052608.0000 - val_loss: 1938614517760.0000\n",
      "Epoch 43/100\n",
      "\u001b[1m10628/10628\u001b[0m \u001b[32m━━━━━━━━━━━━━━━━━━━━\u001b[0m\u001b[37m\u001b[0m \u001b[1m19s\u001b[0m 2ms/step - loss: 1140815691776.0000 - val_loss: 1180055633920.0000\n",
      "Epoch 44/100\n",
      "\u001b[1m10628/10628\u001b[0m \u001b[32m━━━━━━━━━━━━━━━━━━━━\u001b[0m\u001b[37m\u001b[0m \u001b[1m19s\u001b[0m 2ms/step - loss: 1135975727104.0000 - val_loss: 1067708186624.0000\n",
      "Epoch 45/100\n",
      "\u001b[1m10628/10628\u001b[0m \u001b[32m━━━━━━━━━━━━━━━━━━━━\u001b[0m\u001b[37m\u001b[0m \u001b[1m19s\u001b[0m 2ms/step - loss: 1134387396608.0000 - val_loss: 1406135435264.0000\n",
      "Epoch 46/100\n",
      "\u001b[1m10628/10628\u001b[0m \u001b[32m━━━━━━━━━━━━━━━━━━━━\u001b[0m\u001b[37m\u001b[0m \u001b[1m19s\u001b[0m 2ms/step - loss: 1130289823744.0000 - val_loss: 39613766828032.0000\n",
      "Epoch 47/100\n",
      "\u001b[1m10628/10628\u001b[0m \u001b[32m━━━━━━━━━━━━━━━━━━━━\u001b[0m\u001b[37m\u001b[0m \u001b[1m19s\u001b[0m 2ms/step - loss: 1129926623232.0000 - val_loss: 3605732261888.0000\n",
      "Epoch 48/100\n",
      "\u001b[1m10628/10628\u001b[0m \u001b[32m━━━━━━━━━━━━━━━━━━━━\u001b[0m\u001b[37m\u001b[0m \u001b[1m19s\u001b[0m 2ms/step - loss: 1123778691072.0000 - val_loss: 5177724108800.0000\n",
      "Epoch 49/100\n",
      "\u001b[1m10628/10628\u001b[0m \u001b[32m━━━━━━━━━━━━━━━━━━━━\u001b[0m\u001b[37m\u001b[0m \u001b[1m19s\u001b[0m 2ms/step - loss: 1121030766592.0000 - val_loss: 24744860581888.0000\n",
      "Epoch 50/100\n",
      "\u001b[1m10628/10628\u001b[0m \u001b[32m━━━━━━━━━━━━━━━━━━━━\u001b[0m\u001b[37m\u001b[0m \u001b[1m19s\u001b[0m 2ms/step - loss: 1117038575616.0000 - val_loss: 203033975717888.0000\n",
      "Epoch 51/100\n",
      "\u001b[1m10628/10628\u001b[0m \u001b[32m━━━━━━━━━━━━━━━━━━━━\u001b[0m\u001b[37m\u001b[0m \u001b[1m19s\u001b[0m 2ms/step - loss: 1113744474112.0000 - val_loss: 464536045879296.0000\n",
      "Epoch 52/100\n",
      "\u001b[1m10628/10628\u001b[0m \u001b[32m━━━━━━━━━━━━━━━━━━━━\u001b[0m\u001b[37m\u001b[0m \u001b[1m19s\u001b[0m 2ms/step - loss: 1111472340992.0000 - val_loss: 13629500948480.0000\n",
      "Epoch 53/100\n",
      "\u001b[1m10628/10628\u001b[0m \u001b[32m━━━━━━━━━━━━━━━━━━━━\u001b[0m\u001b[37m\u001b[0m \u001b[1m19s\u001b[0m 2ms/step - loss: 1109504557056.0000 - val_loss: 11897187336192.0000\n",
      "Epoch 54/100\n",
      "\u001b[1m10628/10628\u001b[0m \u001b[32m━━━━━━━━━━━━━━━━━━━━\u001b[0m\u001b[37m\u001b[0m \u001b[1m20s\u001b[0m 2ms/step - loss: 1106214518784.0000 - val_loss: 425265045962752.0000\n",
      "Epoch 55/100\n",
      "\u001b[1m10628/10628\u001b[0m \u001b[32m━━━━━━━━━━━━━━━━━━━━\u001b[0m\u001b[37m\u001b[0m \u001b[1m19s\u001b[0m 2ms/step - loss: 1102369128448.0000 - val_loss: 6717890363392.0000\n",
      "Epoch 56/100\n",
      "\u001b[1m10628/10628\u001b[0m \u001b[32m━━━━━━━━━━━━━━━━━━━━\u001b[0m\u001b[37m\u001b[0m \u001b[1m19s\u001b[0m 2ms/step - loss: 1099010080768.0000 - val_loss: 10195988119552.0000\n",
      "Epoch 57/100\n",
      "\u001b[1m10628/10628\u001b[0m \u001b[32m━━━━━━━━━━━━━━━━━━━━\u001b[0m\u001b[37m\u001b[0m \u001b[1m19s\u001b[0m 2ms/step - loss: 1098518298624.0000 - val_loss: 25583280979968.0000\n",
      "Epoch 58/100\n",
      "\u001b[1m10628/10628\u001b[0m \u001b[32m━━━━━━━━━━━━━━━━━━━━\u001b[0m\u001b[37m\u001b[0m \u001b[1m19s\u001b[0m 2ms/step - loss: 1094272090112.0000 - val_loss: 7114285121536.0000\n",
      "Epoch 59/100\n",
      "\u001b[1m10628/10628\u001b[0m \u001b[32m━━━━━━━━━━━━━━━━━━━━\u001b[0m\u001b[37m\u001b[0m \u001b[1m19s\u001b[0m 2ms/step - loss: 1093592154112.0000 - val_loss: 114969832062976.0000\n",
      "Epoch 60/100\n",
      "\u001b[1m10628/10628\u001b[0m \u001b[32m━━━━━━━━━━━━━━━━━━━━\u001b[0m\u001b[37m\u001b[0m \u001b[1m19s\u001b[0m 2ms/step - loss: 1089826062336.0000 - val_loss: 392737278918656.0000\n",
      "Epoch 61/100\n",
      "\u001b[1m10628/10628\u001b[0m \u001b[32m━━━━━━━━━━━━━━━━━━━━\u001b[0m\u001b[37m\u001b[0m \u001b[1m19s\u001b[0m 2ms/step - loss: 1087583223808.0000 - val_loss: 71433845735424.0000\n",
      "Epoch 62/100\n",
      "\u001b[1m10628/10628\u001b[0m \u001b[32m━━━━━━━━━━━━━━━━━━━━\u001b[0m\u001b[37m\u001b[0m \u001b[1m19s\u001b[0m 2ms/step - loss: 1083212103680.0000 - val_loss: 1114707557613568.0000\n",
      "Epoch 63/100\n",
      "\u001b[1m10628/10628\u001b[0m \u001b[32m━━━━━━━━━━━━━━━━━━━━\u001b[0m\u001b[37m\u001b[0m \u001b[1m19s\u001b[0m 2ms/step - loss: 1080998363136.0000 - val_loss: 17469629530112.0000\n",
      "Epoch 64/100\n",
      "\u001b[1m10628/10628\u001b[0m \u001b[32m━━━━━━━━━━━━━━━━━━━━\u001b[0m\u001b[37m\u001b[0m \u001b[1m19s\u001b[0m 2ms/step - loss: 1080176345088.0000 - val_loss: 605167535783936.0000\n"
     ]
    }
   ],
   "source": [
    "from tensorflow.keras.callbacks import EarlyStopping\n",
    "\n",
    "early_stop = EarlyStopping(\n",
    "    monitor=\"val_loss\",  \n",
    "    patience=20,         \n",
    "    restore_best_weights=True\n",
    ")\n",
    "\n",
    "mc = ModelCheckpoint(\n",
    "    'best_model_all_states_dataset-regression.keras',\n",
    "    monitor='val_loss',\n",
    "    mode='min',\n",
    "    save_best_only=True\n",
    ")\n",
    "\n",
    "callback_list = [early_stop, mc]\n",
    "\n",
    "history = neural_model_13.fit(\n",
    "    x=X_train,\n",
    "    y=y_train,\n",
    "    epochs=100,\n",
    "    validation_data=(X_val, y_val),\n",
    "    callbacks=callback_list,\n",
    "    verbose=1\n",
    ")"
   ]
  },
  {
   "cell_type": "markdown",
   "id": "4720d66b",
   "metadata": {},
   "source": [
    "#### Visualisation / Results"
   ]
  },
  {
   "cell_type": "code",
   "execution_count": 20,
   "id": "e026f3a8",
   "metadata": {},
   "outputs": [
    {
     "data": {
      "image/png": "[encoded data removed]",
      "text/plain": [
       "<Figure size 800x500 with 1 Axes>"
      ]
     },
     "metadata": {},
     "output_type": "display_data"
    }
   ],
   "source": [
    "loss_df = pd.DataFrame(neural_model_13.history.history)\n",
    "loss_df.plot(figsize=(8,5))\n",
    "plt.title(\"Training vs Validation Loss\")\n",
    "plt.xlabel(\"Epochs\")\n",
    "plt.ylabel(\"MSE Loss\")\n",
    "plt.grid(True)\n",
    "plt.show()"
   ]
  },
  {
   "cell_type": "markdown",
   "id": "d6686716",
   "metadata": {},
   "source": [
    "The plot shows that the training loss remains low and stable, while the validation loss fluctuates heavily with strong spikes. This indicates that the model struggles to generalize well and suffers from instability and possible overfitting."
   ]
  },
  {
   "cell_type": "markdown",
   "id": "9906a1c4",
   "metadata": {},
   "source": [
    "#### Reload the best version of the model form history"
   ]
  },
  {
   "cell_type": "code",
   "execution_count": 21,
   "id": "f3b4681e",
   "metadata": {},
   "outputs": [],
   "source": [
    "from keras.models import load_model\n",
    "best_trained_model = load_model(\"best_model_all_states_dataset-regression.keras\")"
   ]
  },
  {
   "cell_type": "code",
   "execution_count": 22,
   "id": "17f5ca74",
   "metadata": {},
   "outputs": [
    {
     "name": "stdout",
     "output_type": "stream",
     "text": [
      "Test data evaluation\n",
      "783065939968.0\n",
      "\n",
      "Train data evaluation:\n",
      "1052942991360.0\n"
     ]
    }
   ],
   "source": [
    "print(\"Test data evaluation\")\n",
    "print(best_trained_model.evaluate(X_test, y_test, verbose=0))\n",
    "print(\"\\nTrain data evaluation:\")\n",
    "print(best_trained_model.evaluate(X_train, y_train, verbose=0))"
   ]
  },
  {
   "cell_type": "markdown",
   "id": "fb64f3ef",
   "metadata": {},
   "source": [
    "The evaluation results show very high error values for both training and test data. This indicates that the model was not able to learn the patterns in the dataset effectively and delivers poor predictive performance."
   ]
  },
  {
   "cell_type": "code",
   "execution_count": 23,
   "id": "66251265",
   "metadata": {},
   "outputs": [
    {
     "name": "stdout",
     "output_type": "stream",
     "text": [
      "\u001b[1m2278/2278\u001b[0m \u001b[32m━━━━━━━━━━━━━━━━━━━━\u001b[0m\u001b[37m\u001b[0m \u001b[1m2s\u001b[0m 819us/step\n"
     ]
    },
    {
     "data": {
      "application/vnd.microsoft.datawrangler.viewer.v0+json": {
       "columns": [
        {
         "name": "index",
         "rawType": "int64",
         "type": "integer"
        },
        {
         "name": "Test True Y",
         "rawType": "float64",
         "type": "float"
        },
        {
         "name": "Model Predictions",
         "rawType": "float32",
         "type": "float"
        }
       ],
       "ref": "c638e0b4-1509-4043-b132-9f3ee2cb2a7b",
       "rows": [
        [
         "0",
         "600000.0",
         "556310.1"
        ],
        [
         "1",
         "1825000.0",
         "997317.7"
        ],
        [
         "2",
         "665000.0",
         "527012.06"
        ],
        [
         "3",
         "109900.0",
         "523455.47"
        ],
        [
         "4",
         "475000.0",
         "957727.8"
        ],
        [
         "5",
         "219900.0",
         "472466.16"
        ],
        [
         "6",
         "299888.0",
         "415576.72"
        ],
        [
         "7",
         "179900.0",
         "736398.1"
        ],
        [
         "8",
         "246000.0",
         "535669.75"
        ],
        [
         "9",
         "273900.0",
         "627385.56"
        ],
        [
         "10",
         "170000.0",
         "332216.25"
        ],
        [
         "11",
         "764565.0",
         "1.171056e+06"
        ],
        [
         "12",
         "479700.0",
         "567714.8"
        ],
        [
         "13",
         "214900.0",
         "218823.8"
        ],
        [
         "14",
         "115000.0",
         "334607.72"
        ],
        [
         "15",
         "497900.0",
         "635524.1"
        ],
        [
         "16",
         "620000.0",
         "465860.72"
        ],
        [
         "17",
         "82500.0",
         "322232.16"
        ],
        [
         "18",
         "225000.0",
         "447957.4"
        ],
        [
         "19",
         "4950000.0",
         "2.3892245e+06"
        ],
        [
         "20",
         "225000.0",
         "304117.03"
        ],
        [
         "21",
         "296750.0",
         "692233.5"
        ],
        [
         "22",
         "330000.0",
         "541301.75"
        ],
        [
         "23",
         "255000.0",
         "516031.44"
        ],
        [
         "24",
         "189900.0",
         "387383.6"
        ],
        [
         "25",
         "60000.0",
         "401414.28"
        ],
        [
         "26",
         "359900.0",
         "424154.4"
        ],
        [
         "27",
         "250000.0",
         "517425.6"
        ],
        [
         "28",
         "399900.0",
         "542786.0"
        ],
        [
         "29",
         "79900.0",
         "345372.6"
        ],
        [
         "30",
         "662175.0",
         "575841.06"
        ],
        [
         "31",
         "219900.0",
         "472915.47"
        ],
        [
         "32",
         "974999.0",
         "1.1194122e+06"
        ],
        [
         "33",
         "490000.0",
         "446055.9"
        ],
        [
         "34",
         "249325.0",
         "428130.22"
        ],
        [
         "35",
         "229000.0",
         "499817.72"
        ],
        [
         "36",
         "339900.0",
         "499927.38"
        ],
        [
         "37",
         "229900.0",
         "377335.28"
        ],
        [
         "38",
         "6995000.0",
         "2.4833962e+06"
        ],
        [
         "39",
         "239900.0",
         "382073.06"
        ],
        [
         "40",
         "219900.0",
         "372331.06"
        ],
        [
         "41",
         "269900.0",
         "343455.84"
        ],
        [
         "42",
         "268500.0",
         "403750.94"
        ],
        [
         "43",
         "399000.0",
         "451047.53"
        ],
        [
         "44",
         "615000.0",
         "1.19715e+06"
        ],
        [
         "45",
         "145000.0",
         "372778.97"
        ],
        [
         "46",
         "650000.0",
         "824840.75"
        ],
        [
         "47",
         "537000.0",
         "860471.3"
        ],
        [
         "48",
         "4395000.0",
         "2.5047268e+06"
        ],
        [
         "49",
         "517000.0",
         "679358.8"
        ]
       ],
       "shape": {
        "columns": 2,
        "rows": 72872
       }
      },
      "text/html": [
       "<div>\n",
       "<style scoped>\n",
       "    .dataframe tbody tr th:only-of-type {\n",
       "        vertical-align: middle;\n",
       "    }\n",
       "\n",
       "    .dataframe tbody tr th {\n",
       "        vertical-align: top;\n",
       "    }\n",
       "\n",
       "    .dataframe thead th {\n",
       "        text-align: right;\n",
       "    }\n",
       "</style>\n",
       "<table border=\"1\" class=\"dataframe\">\n",
       "  <thead>\n",
       "    <tr style=\"text-align: right;\">\n",
       "      <th></th>\n",
       "      <th>Test True Y</th>\n",
       "      <th>Model Predictions</th>\n",
       "    </tr>\n",
       "  </thead>\n",
       "  <tbody>\n",
       "    <tr>\n",
       "      <th>0</th>\n",
       "      <td>600000.0</td>\n",
       "      <td>5.563101e+05</td>\n",
       "    </tr>\n",
       "    <tr>\n",
       "      <th>1</th>\n",
       "      <td>1825000.0</td>\n",
       "      <td>9.973177e+05</td>\n",
       "    </tr>\n",
       "    <tr>\n",
       "      <th>2</th>\n",
       "      <td>665000.0</td>\n",
       "      <td>5.270121e+05</td>\n",
       "    </tr>\n",
       "    <tr>\n",
       "      <th>3</th>\n",
       "      <td>109900.0</td>\n",
       "      <td>5.234555e+05</td>\n",
       "    </tr>\n",
       "    <tr>\n",
       "      <th>4</th>\n",
       "      <td>475000.0</td>\n",
       "      <td>9.577278e+05</td>\n",
       "    </tr>\n",
       "    <tr>\n",
       "      <th>...</th>\n",
       "      <td>...</td>\n",
       "      <td>...</td>\n",
       "    </tr>\n",
       "    <tr>\n",
       "      <th>72867</th>\n",
       "      <td>899000.0</td>\n",
       "      <td>9.748912e+05</td>\n",
       "    </tr>\n",
       "    <tr>\n",
       "      <th>72868</th>\n",
       "      <td>284900.0</td>\n",
       "      <td>4.494251e+05</td>\n",
       "    </tr>\n",
       "    <tr>\n",
       "      <th>72869</th>\n",
       "      <td>494900.0</td>\n",
       "      <td>1.032628e+06</td>\n",
       "    </tr>\n",
       "    <tr>\n",
       "      <th>72870</th>\n",
       "      <td>2195000.0</td>\n",
       "      <td>6.372760e+05</td>\n",
       "    </tr>\n",
       "    <tr>\n",
       "      <th>72871</th>\n",
       "      <td>3380000.0</td>\n",
       "      <td>8.816990e+05</td>\n",
       "    </tr>\n",
       "  </tbody>\n",
       "</table>\n",
       "<p>72872 rows × 2 columns</p>\n",
       "</div>"
      ],
      "text/plain": [
       "       Test True Y  Model Predictions\n",
       "0         600000.0       5.563101e+05\n",
       "1        1825000.0       9.973177e+05\n",
       "2         665000.0       5.270121e+05\n",
       "3         109900.0       5.234555e+05\n",
       "4         475000.0       9.577278e+05\n",
       "...            ...                ...\n",
       "72867     899000.0       9.748912e+05\n",
       "72868     284900.0       4.494251e+05\n",
       "72869     494900.0       1.032628e+06\n",
       "72870    2195000.0       6.372760e+05\n",
       "72871    3380000.0       8.816990e+05\n",
       "\n",
       "[72872 rows x 2 columns]"
      ]
     },
     "execution_count": 23,
     "metadata": {},
     "output_type": "execute_result"
    }
   ],
   "source": [
    "import seaborn as sns\n",
    "\n",
    "test_predictions = best_trained_model.predict(X_test)\n",
    "test_predictions = pd.Series(test_predictions.reshape(len(y_test),))\n",
    "\n",
    "pred_df = pd.DataFrame(pd.DataFrame(np.asarray(y_test), columns=[\"Test True Y\"]))\n",
    "pred_df = pd.concat([pred_df, test_predictions], axis = 1)\n",
    "pred_df.columns = [\"Test True Y\", \"Model Predictions\"]\n",
    "\n",
    "pred_df\n"
   ]
  },
  {
   "cell_type": "markdown",
   "id": "71ad9d74",
   "metadata": {},
   "source": [
    "#### Scatterplot"
   ]
  },
  {
   "cell_type": "code",
   "execution_count": 24,
   "id": "fd474193",
   "metadata": {},
   "outputs": [
    {
     "data": {
      "image/png": "[encoded data removed]",
      "text/plain": [
       "<Figure size 600x600 with 1 Axes>"
      ]
     },
     "metadata": {},
     "output_type": "display_data"
    }
   ],
   "source": [
    "plt.figure(figsize=(6,6))\n",
    "sns.scatterplot(x=\"Test True Y\", y=\"Model Predictions\", data=pred_df)\n",
    "\n",
    "min_val = min(pred_df[\"Test True Y\"].min(), pred_df[\"Model Predictions\"].min())\n",
    "max_val = max(pred_df[\"Test True Y\"].max(), pred_df[\"Model Predictions\"].max())\n",
    "plt.plot([min_val, max_val], [min_val, max_val], \"r--\")\n",
    "\n",
    "plt.title(\"True vs Predicted House Prices\")\n",
    "plt.xlabel(\"Test True Y\")\n",
    "plt.ylabel(\"Model Predictions\")\n",
    "plt.show()\n"
   ]
  },
  {
   "cell_type": "markdown",
   "id": "743229cb",
   "metadata": {},
   "source": [
    "The scatterplot shows that most predictions are far from the red diagonal line, which represents perfect accuracy. This indicates that the model has difficulty matching the true house prices and produces many inaccurate predictions."
   ]
  },
  {
   "cell_type": "markdown",
   "id": "988bdb8f",
   "metadata": {},
   "source": [
    "#### Error-Metrics"
   ]
  },
  {
   "cell_type": "code",
   "execution_count": 26,
   "id": "4295617a",
   "metadata": {},
   "outputs": [
    {
     "name": "stdout",
     "output_type": "stream",
     "text": [
      "MAE\n",
      "306172.19 $\n",
      "\n",
      "MSE\n",
      "783065610152.44 $^2\n",
      "\n",
      "RMSE:\n",
      "884909.94 $\n",
      "\n",
      "R-squared:\n",
      "0.22\n",
      "\n",
      "Explained variance score:\n",
      "0.22\n"
     ]
    }
   ],
   "source": [
    "print(\"MAE\")\n",
    "print(round(metrics.mean_absolute_error(y_test, test_predictions), 2), \"$\")\n",
    "\n",
    "print(\"\\nMSE\")\n",
    "print(round(metrics.mean_squared_error(y_test, test_predictions), 2), \"$^2\")\n",
    "\n",
    "print('\\nRMSE:')\n",
    "print(round(np.sqrt(metrics.mean_squared_error(y_test, test_predictions)), 2), \"$\")\n",
    "\n",
    "print('\\nR-squared:')\n",
    "print(round(metrics.r2_score(y_test, test_predictions), 2))\n",
    "\n",
    "print(\"\\nExplained variance score:\")\n",
    "print(round(metrics.explained_variance_score(y_test, test_predictions), 2))"
   ]
  },
  {
   "cell_type": "markdown",
   "id": "725d0cba",
   "metadata": {},
   "source": [
    "The evaluation metrics show a very high prediction error (MAE and RMSE) and only a low R² score of 0.22. This means the model explains little of the variance in house prices and struggles to deliver reliable predictions."
   ]
  },
  {
   "cell_type": "code",
   "execution_count": 27,
   "id": "43442f4e",
   "metadata": {},
   "outputs": [
    {
     "name": "stderr",
     "output_type": "stream",
     "text": [
      "C:\\Users\\Timothy\\AppData\\Local\\Temp\\ipykernel_4620\\3264322254.py:1: UserWarning: \n",
      "\n",
      "`distplot` is a deprecated function and will be removed in seaborn v0.14.0.\n",
      "\n",
      "Please adapt your code to use either `displot` (a figure-level function with\n",
      "similar flexibility) or `histplot` (an axes-level function for histograms).\n",
      "\n",
      "For a guide to updating your code to use the new functions, please see\n",
      "https://gist.github.com/mwaskom/de44147ed2974457ad6372750bbe5751\n",
      "\n",
      "  sns.distplot((y_test - test_predictions))\n"
     ]
    },
    {
     "data": {
      "image/png": "[encoded data removed]",
      "text/plain": [
       "<Figure size 640x480 with 1 Axes>"
      ]
     },
     "metadata": {},
     "output_type": "display_data"
    }
   ],
   "source": [
    "sns.distplot((y_test - test_predictions))\n",
    "plt.show()\n",
    "plt.close()"
   ]
  },
  {
   "cell_type": "markdown",
   "id": "584587ea",
   "metadata": {},
   "source": [
    "The distplot shows that most residuals are concentrated very close to zero, but there are also extreme outliers. This indicates that while the model makes reasonable predictions in many cases, it produces large errors for certain houses."
   ]
  },
  {
   "cell_type": "code",
   "execution_count": 28,
   "id": "75ea9b8b",
   "metadata": {},
   "outputs": [
    {
     "data": {
      "text/plain": [
       "Index(['bed', 'bath', 'acre_lot', 'house_size', 'Region_East', 'Region_North',\n",
       "       'Region_South', 'Region_West', 'state_Alabama', 'state_Alaska',\n",
       "       'state_Arizona', 'state_Arkansas', 'state_California', 'state_Colorado',\n",
       "       'state_Connecticut', 'state_Delaware', 'state_District of Columbia',\n",
       "       'state_Florida', 'state_Georgia', 'state_Guam', 'state_Hawaii',\n",
       "       'state_Idaho', 'state_Illinois', 'state_Indiana', 'state_Iowa',\n",
       "       'state_Kansas', 'state_Kentucky', 'state_Louisiana', 'state_Maine',\n",
       "       'state_Maryland', 'state_Massachusetts', 'state_Michigan',\n",
       "       'state_Minnesota', 'state_Mississippi', 'state_Missouri',\n",
       "       'state_Montana', 'state_Nebraska', 'state_Nevada',\n",
       "       'state_New Hampshire', 'state_New Jersey', 'state_New Mexico',\n",
       "       'state_New York', 'state_North Carolina', 'state_North Dakota',\n",
       "       'state_Ohio', 'state_Oklahoma', 'state_Oregon', 'state_Pennsylvania',\n",
       "       'state_Puerto Rico', 'state_Rhode Island', 'state_South Carolina',\n",
       "       'state_South Dakota', 'state_Tennessee', 'state_Texas', 'state_Utah',\n",
       "       'state_Vermont', 'state_Virgin Islands', 'state_Virginia',\n",
       "       'state_Washington', 'state_West Virginia', 'state_Wisconsin',\n",
       "       'state_Wyoming'],\n",
       "      dtype='object')"
      ]
     },
     "execution_count": 28,
     "metadata": {},
     "output_type": "execute_result"
    }
   ],
   "source": [
    "X.columns"
   ]
  },
  {
   "cell_type": "code",
   "execution_count": 29,
   "id": "6e0581e8",
   "metadata": {},
   "outputs": [
    {
     "data": {
      "application/vnd.microsoft.datawrangler.viewer.v0+json": {
       "columns": [
        {
         "name": "index",
         "rawType": "int64",
         "type": "integer"
        },
        {
         "name": "bed",
         "rawType": "float64",
         "type": "float"
        },
        {
         "name": "bath",
         "rawType": "float64",
         "type": "float"
        },
        {
         "name": "acre_lot",
         "rawType": "float64",
         "type": "float"
        },
        {
         "name": "house_size",
         "rawType": "float64",
         "type": "float"
        },
        {
         "name": "Region_East",
         "rawType": "bool",
         "type": "boolean"
        },
        {
         "name": "Region_North",
         "rawType": "bool",
         "type": "boolean"
        },
        {
         "name": "Region_South",
         "rawType": "bool",
         "type": "boolean"
        },
        {
         "name": "Region_West",
         "rawType": "bool",
         "type": "boolean"
        },
        {
         "name": "state_Alabama",
         "rawType": "bool",
         "type": "boolean"
        },
        {
         "name": "state_Alaska",
         "rawType": "bool",
         "type": "boolean"
        },
        {
         "name": "state_Arizona",
         "rawType": "bool",
         "type": "boolean"
        },
        {
         "name": "state_Arkansas",
         "rawType": "bool",
         "type": "boolean"
        },
        {
         "name": "state_California",
         "rawType": "bool",
         "type": "boolean"
        },
        {
         "name": "state_Colorado",
         "rawType": "bool",
         "type": "boolean"
        },
        {
         "name": "state_Connecticut",
         "rawType": "bool",
         "type": "boolean"
        },
        {
         "name": "state_Delaware",
         "rawType": "bool",
         "type": "boolean"
        },
        {
         "name": "state_District of Columbia",
         "rawType": "bool",
         "type": "boolean"
        },
        {
         "name": "state_Florida",
         "rawType": "bool",
         "type": "boolean"
        },
        {
         "name": "state_Georgia",
         "rawType": "bool",
         "type": "boolean"
        },
        {
         "name": "state_Guam",
         "rawType": "bool",
         "type": "boolean"
        },
        {
         "name": "state_Hawaii",
         "rawType": "bool",
         "type": "boolean"
        },
        {
         "name": "state_Idaho",
         "rawType": "bool",
         "type": "boolean"
        },
        {
         "name": "state_Illinois",
         "rawType": "bool",
         "type": "boolean"
        },
        {
         "name": "state_Indiana",
         "rawType": "bool",
         "type": "boolean"
        },
        {
         "name": "state_Iowa",
         "rawType": "bool",
         "type": "boolean"
        },
        {
         "name": "state_Kansas",
         "rawType": "bool",
         "type": "boolean"
        },
        {
         "name": "state_Kentucky",
         "rawType": "bool",
         "type": "boolean"
        },
        {
         "name": "state_Louisiana",
         "rawType": "bool",
         "type": "boolean"
        },
        {
         "name": "state_Maine",
         "rawType": "bool",
         "type": "boolean"
        },
        {
         "name": "state_Maryland",
         "rawType": "bool",
         "type": "boolean"
        },
        {
         "name": "state_Massachusetts",
         "rawType": "bool",
         "type": "boolean"
        },
        {
         "name": "state_Michigan",
         "rawType": "bool",
         "type": "boolean"
        },
        {
         "name": "state_Minnesota",
         "rawType": "bool",
         "type": "boolean"
        },
        {
         "name": "state_Mississippi",
         "rawType": "bool",
         "type": "boolean"
        },
        {
         "name": "state_Missouri",
         "rawType": "bool",
         "type": "boolean"
        },
        {
         "name": "state_Montana",
         "rawType": "bool",
         "type": "boolean"
        },
        {
         "name": "state_Nebraska",
         "rawType": "bool",
         "type": "boolean"
        },
        {
         "name": "state_Nevada",
         "rawType": "bool",
         "type": "boolean"
        },
        {
         "name": "state_New Hampshire",
         "rawType": "bool",
         "type": "boolean"
        },
        {
         "name": "state_New Jersey",
         "rawType": "bool",
         "type": "boolean"
        },
        {
         "name": "state_New Mexico",
         "rawType": "bool",
         "type": "boolean"
        },
        {
         "name": "state_New York",
         "rawType": "bool",
         "type": "boolean"
        },
        {
         "name": "state_North Carolina",
         "rawType": "bool",
         "type": "boolean"
        },
        {
         "name": "state_North Dakota",
         "rawType": "bool",
         "type": "boolean"
        },
        {
         "name": "state_Ohio",
         "rawType": "bool",
         "type": "boolean"
        },
        {
         "name": "state_Oklahoma",
         "rawType": "bool",
         "type": "boolean"
        },
        {
         "name": "state_Oregon",
         "rawType": "bool",
         "type": "boolean"
        },
        {
         "name": "state_Pennsylvania",
         "rawType": "bool",
         "type": "boolean"
        },
        {
         "name": "state_Puerto Rico",
         "rawType": "bool",
         "type": "boolean"
        },
        {
         "name": "state_Rhode Island",
         "rawType": "bool",
         "type": "boolean"
        },
        {
         "name": "state_South Carolina",
         "rawType": "bool",
         "type": "boolean"
        },
        {
         "name": "state_South Dakota",
         "rawType": "bool",
         "type": "boolean"
        },
        {
         "name": "state_Tennessee",
         "rawType": "bool",
         "type": "boolean"
        },
        {
         "name": "state_Texas",
         "rawType": "bool",
         "type": "boolean"
        },
        {
         "name": "state_Utah",
         "rawType": "bool",
         "type": "boolean"
        },
        {
         "name": "state_Vermont",
         "rawType": "bool",
         "type": "boolean"
        },
        {
         "name": "state_Virgin Islands",
         "rawType": "bool",
         "type": "boolean"
        },
        {
         "name": "state_Virginia",
         "rawType": "bool",
         "type": "boolean"
        },
        {
         "name": "state_Washington",
         "rawType": "bool",
         "type": "boolean"
        },
        {
         "name": "state_West Virginia",
         "rawType": "bool",
         "type": "boolean"
        },
        {
         "name": "state_Wisconsin",
         "rawType": "bool",
         "type": "boolean"
        },
        {
         "name": "state_Wyoming",
         "rawType": "bool",
         "type": "boolean"
        }
       ],
       "ref": "1e11f6ca-aa4e-4236-863c-fdf95422b6bb",
       "rows": [
        [
         "430126",
         "3.0",
         "2.0",
         "1.78",
         "1736.0",
         "False",
         "False",
         "True",
         "False",
         "False",
         "False",
         "False",
         "False",
         "False",
         "False",
         "False",
         "False",
         "False",
         "True",
         "False",
         "False",
         "False",
         "False",
         "False",
         "False",
         "False",
         "False",
         "False",
         "False",
         "False",
         "False",
         "False",
         "False",
         "False",
         "False",
         "False",
         "False",
         "False",
         "False",
         "False",
         "False",
         "False",
         "False",
         "False",
         "False",
         "False",
         "False",
         "False",
         "False",
         "False",
         "False",
         "False",
         "False",
         "False",
         "False",
         "False",
         "False",
         "False",
         "False",
         "False",
         "False",
         "False",
         "False"
        ],
        [
         "1754137",
         "3.0",
         "1.0",
         "0.38",
         "1512.0",
         "False",
         "False",
         "True",
         "False",
         "False",
         "False",
         "False",
         "False",
         "False",
         "False",
         "False",
         "False",
         "False",
         "False",
         "False",
         "False",
         "False",
         "False",
         "False",
         "False",
         "False",
         "False",
         "False",
         "False",
         "False",
         "False",
         "False",
         "False",
         "False",
         "False",
         "False",
         "False",
         "False",
         "False",
         "False",
         "False",
         "False",
         "False",
         "False",
         "False",
         "False",
         "False",
         "False",
         "False",
         "False",
         "False",
         "False",
         "False",
         "True",
         "False",
         "False",
         "False",
         "False",
         "False",
         "False",
         "False",
         "False",
         "False"
        ],
        [
         "1417500",
         "3.0",
         "2.0",
         "0.16",
         "1664.0",
         "True",
         "False",
         "False",
         "False",
         "False",
         "False",
         "False",
         "False",
         "False",
         "False",
         "False",
         "False",
         "False",
         "False",
         "False",
         "False",
         "False",
         "False",
         "False",
         "False",
         "False",
         "False",
         "False",
         "False",
         "False",
         "False",
         "True",
         "False",
         "False",
         "False",
         "False",
         "False",
         "False",
         "False",
         "False",
         "False",
         "False",
         "False",
         "False",
         "False",
         "False",
         "False",
         "False",
         "False",
         "False",
         "False",
         "False",
         "False",
         "False",
         "False",
         "False",
         "False",
         "False",
         "False",
         "False",
         "False",
         "False",
         "False"
        ]
       ],
       "shape": {
        "columns": 62,
        "rows": 3
       }
      },
      "text/html": [
       "<div>\n",
       "<style scoped>\n",
       "    .dataframe tbody tr th:only-of-type {\n",
       "        vertical-align: middle;\n",
       "    }\n",
       "\n",
       "    .dataframe tbody tr th {\n",
       "        vertical-align: top;\n",
       "    }\n",
       "\n",
       "    .dataframe thead th {\n",
       "        text-align: right;\n",
       "    }\n",
       "</style>\n",
       "<table border=\"1\" class=\"dataframe\">\n",
       "  <thead>\n",
       "    <tr style=\"text-align: right;\">\n",
       "      <th></th>\n",
       "      <th>bed</th>\n",
       "      <th>bath</th>\n",
       "      <th>acre_lot</th>\n",
       "      <th>house_size</th>\n",
       "      <th>Region_East</th>\n",
       "      <th>Region_North</th>\n",
       "      <th>Region_South</th>\n",
       "      <th>Region_West</th>\n",
       "      <th>state_Alabama</th>\n",
       "      <th>state_Alaska</th>\n",
       "      <th>...</th>\n",
       "      <th>state_Tennessee</th>\n",
       "      <th>state_Texas</th>\n",
       "      <th>state_Utah</th>\n",
       "      <th>state_Vermont</th>\n",
       "      <th>state_Virgin Islands</th>\n",
       "      <th>state_Virginia</th>\n",
       "      <th>state_Washington</th>\n",
       "      <th>state_West Virginia</th>\n",
       "      <th>state_Wisconsin</th>\n",
       "      <th>state_Wyoming</th>\n",
       "    </tr>\n",
       "  </thead>\n",
       "  <tbody>\n",
       "    <tr>\n",
       "      <th>430126</th>\n",
       "      <td>3.0</td>\n",
       "      <td>2.0</td>\n",
       "      <td>1.78</td>\n",
       "      <td>1736.0</td>\n",
       "      <td>False</td>\n",
       "      <td>False</td>\n",
       "      <td>True</td>\n",
       "      <td>False</td>\n",
       "      <td>False</td>\n",
       "      <td>False</td>\n",
       "      <td>...</td>\n",
       "      <td>False</td>\n",
       "      <td>False</td>\n",
       "      <td>False</td>\n",
       "      <td>False</td>\n",
       "      <td>False</td>\n",
       "      <td>False</td>\n",
       "      <td>False</td>\n",
       "      <td>False</td>\n",
       "      <td>False</td>\n",
       "      <td>False</td>\n",
       "    </tr>\n",
       "    <tr>\n",
       "      <th>1754137</th>\n",
       "      <td>3.0</td>\n",
       "      <td>1.0</td>\n",
       "      <td>0.38</td>\n",
       "      <td>1512.0</td>\n",
       "      <td>False</td>\n",
       "      <td>False</td>\n",
       "      <td>True</td>\n",
       "      <td>False</td>\n",
       "      <td>False</td>\n",
       "      <td>False</td>\n",
       "      <td>...</td>\n",
       "      <td>True</td>\n",
       "      <td>False</td>\n",
       "      <td>False</td>\n",
       "      <td>False</td>\n",
       "      <td>False</td>\n",
       "      <td>False</td>\n",
       "      <td>False</td>\n",
       "      <td>False</td>\n",
       "      <td>False</td>\n",
       "      <td>False</td>\n",
       "    </tr>\n",
       "    <tr>\n",
       "      <th>1417500</th>\n",
       "      <td>3.0</td>\n",
       "      <td>2.0</td>\n",
       "      <td>0.16</td>\n",
       "      <td>1664.0</td>\n",
       "      <td>True</td>\n",
       "      <td>False</td>\n",
       "      <td>False</td>\n",
       "      <td>False</td>\n",
       "      <td>False</td>\n",
       "      <td>False</td>\n",
       "      <td>...</td>\n",
       "      <td>False</td>\n",
       "      <td>False</td>\n",
       "      <td>False</td>\n",
       "      <td>False</td>\n",
       "      <td>False</td>\n",
       "      <td>False</td>\n",
       "      <td>False</td>\n",
       "      <td>False</td>\n",
       "      <td>False</td>\n",
       "      <td>False</td>\n",
       "    </tr>\n",
       "  </tbody>\n",
       "</table>\n",
       "<p>3 rows × 62 columns</p>\n",
       "</div>"
      ],
      "text/plain": [
       "         bed  bath  acre_lot  house_size  Region_East  Region_North  \\\n",
       "430126   3.0   2.0      1.78      1736.0        False         False   \n",
       "1754137  3.0   1.0      0.38      1512.0        False         False   \n",
       "1417500  3.0   2.0      0.16      1664.0         True         False   \n",
       "\n",
       "         Region_South  Region_West  state_Alabama  state_Alaska  ...  \\\n",
       "430126           True        False          False         False  ...   \n",
       "1754137          True        False          False         False  ...   \n",
       "1417500         False        False          False         False  ...   \n",
       "\n",
       "         state_Tennessee  state_Texas  state_Utah  state_Vermont  \\\n",
       "430126             False        False       False          False   \n",
       "1754137             True        False       False          False   \n",
       "1417500            False        False       False          False   \n",
       "\n",
       "         state_Virgin Islands  state_Virginia  state_Washington  \\\n",
       "430126                  False           False             False   \n",
       "1754137                 False           False             False   \n",
       "1417500                 False           False             False   \n",
       "\n",
       "         state_West Virginia  state_Wisconsin  state_Wyoming  \n",
       "430126                 False            False          False  \n",
       "1754137                False            False          False  \n",
       "1417500                False            False          False  \n",
       "\n",
       "[3 rows x 62 columns]"
      ]
     },
     "execution_count": 29,
     "metadata": {},
     "output_type": "execute_result"
    }
   ],
   "source": [
    "X.head(3)"
   ]
  },
  {
   "cell_type": "markdown",
   "id": "dbb22c88",
   "metadata": {},
   "source": [
    "#### Prediction-Example"
   ]
  },
  {
   "cell_type": "code",
   "execution_count": 31,
   "id": "e37f827d",
   "metadata": {},
   "outputs": [
    {
     "name": "stdout",
     "output_type": "stream",
     "text": [
      "\u001b[1m1/1\u001b[0m \u001b[32m━━━━━━━━━━━━━━━━━━━━\u001b[0m\u001b[37m\u001b[0m \u001b[1m0s\u001b[0m 25ms/step\n",
      "Estimated house price: \n",
      "$393026.66\n"
     ]
    }
   ],
   "source": [
    "tester_row = {\n",
    "    \"bed\": 3,\n",
    "    \"bath\": 2,\n",
    "    \"acre_lot\": 0.78,\n",
    "    \"house_size\": 1890.0,\n",
    "    \"Region_East\": 1,\n",
    "    \"Region_North\": 0,\n",
    "    \"Region_South\": 0,\n",
    "    \"Region_West\": 0,\n",
    "\n",
    "    # states\n",
    "    'state_Alabama': 0, \n",
    "    'state_Alaska': 0,\n",
    "    'state_Arizona': 0,\n",
    "    'state_Arkansas': 0,\n",
    "    'state_California': 0,\n",
    "    'state_Colorado': 0,\n",
    "    'state_Connecticut': 0,\n",
    "    'state_Delaware': 0,\n",
    "    'state_District of Columbia': 0,\n",
    "    'state_Florida': 0,\n",
    "    'state_Georgia': 0,\n",
    "    'state_Guam': 0,\n",
    "    'state_Hawaii': 0,\n",
    "    'state_Idaho': 0,\n",
    "    'state_Illinois': 0,\n",
    "    'state_Indiana': 0,\n",
    "    'state_Iowa': 1,\n",
    "    'state_Kansas': 0,\n",
    "    'state_Kentucky': 0,\n",
    "    'state_Louisiana': 0,\n",
    "    'state_Maine': 0,\n",
    "    'state_Maryland': 0,\n",
    "    'state_Massachusetts': 0,\n",
    "    'state_Michigan': 0,\n",
    "    'state_Minnesota': 0,\n",
    "    'state_Mississippi': 0,\n",
    "    'state_Missouri': 0,\n",
    "    'state_Montana': 0,\n",
    "    'state_Nebraska': 0,\n",
    "    'state_Nevada': 0,\n",
    "    'state_New Hampshire': 0,\n",
    "    'state_New Jersey': 0,\n",
    "    'state_New Mexico': 0,\n",
    "    'state_New York': 0,\n",
    "    'state_North Carolina': 0,\n",
    "    'state_North Dakota': 0,\n",
    "    'state_Ohio': 0,\n",
    "    'state_Oklahoma': 0,\n",
    "    'state_Oregon': 0,\n",
    "    'state_Pennsylvania': 0,\n",
    "    'state_Puerto Rico': 0,\n",
    "    'state_Rhode Island': 0,\n",
    "    'state_South Carolina': 0,\n",
    "    'state_South Dakota': 0, \n",
    "    'state_Tennessee': 0,\n",
    "    'state_Texas': 0,\n",
    "    'state_Utah': 0,\n",
    "    'state_Vermont': 0,\n",
    "    'state_Virgin Islands': 0,\n",
    "    'state_Virginia': 0,\n",
    "    'state_Washington': 0,\n",
    "    'state_West Virginia': 0,\n",
    "    'state_Wisconsin': 0,\n",
    "    'state_Wyoming': 0\n",
    "}\n",
    "\n",
    "tester_row = pd.DataFrame([tester_row])\n",
    "\n",
    "tester_row_scaled = scaler.transform(tester_row)\n",
    "\n",
    "result = best_trained_model.predict(tester_row_scaled)[0][0]\n",
    "\n",
    "print(\"Estimated house price: \")\n",
    "print(f\"${round(float(result), 2)}\")\n"
   ]
  },
  {
   "cell_type": "markdown",
   "id": "696d80a8",
   "metadata": {},
   "source": [
    "#### Conclusion and Challenges\n",
    "At the beginning, I faced some challenges with scaling the dataset, especially because it included all U.S. states and the Zip_Code variable, which could not simply be treated as numeric. By transforming the zip codes into regions and applying one-hot encoding for the states, the data became much more suitable for training. Another difficulty was designing the right model architecture, as my first attempts resulted in negative R² values, meaning the model performed worse than a baseline. Through multiple tests and adjustments, I was finally able to achieve a positive R² score, showing some improvement.\n",
    "\n",
    "The relatively low R² value of 0.22 is, in my opinion, mainly due to the dataset quality and structure rather than the model itself. The data may contain noise, outliers, or missing relevant features, which limits how well any model can explain house price variance. In working life, linear regression and similar predictive models can still be very useful for price estimation, risk assessment, or forecasting trends. This project required careful preprocessing and parameter tuning to get meaningful results. For further optimization, I would consider adding more feature engineering, by creating other variables to create a more qualitative dataset, trying different neural network architectures, and possibly using a different scaling method (Regularisation, etc.)."
   ]
  }
 ],
 "metadata": {
  "kernelspec": {
   "display_name": "venv312 (3.12.10)",
   "language": "python",
   "name": "python3"
  },
  "language_info": {
   "codemirror_mode": {
    "name": "ipython",
    "version": 3
   },
   "file_extension": ".py",
   "mimetype": "text/x-python",
   "name": "python",
   "nbconvert_exporter": "python",
   "pygments_lexer": "ipython3",
   "version": "3.12.10"
  }
 },
 "nbformat": 4,
 "nbformat_minor": 5
}

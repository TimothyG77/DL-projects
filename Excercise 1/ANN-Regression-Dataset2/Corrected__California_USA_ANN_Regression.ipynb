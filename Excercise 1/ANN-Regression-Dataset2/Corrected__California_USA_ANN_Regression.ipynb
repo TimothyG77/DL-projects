{
 "cells": [
  {
   "cell_type": "markdown",
   "id": "e627bb6e",
   "metadata": {},
   "source": [
    "#### California - USA Houseprices - Dataset 2 - Corrected - Excercise 1 - Timothy Gregorian"
   ]
  },
  {
   "cell_type": "markdown",
   "id": "b564aa42",
   "metadata": {},
   "source": [
    "In this project, I used the same U.S. housing dataset as before (All_States_USA_ANN_Regression.ipynb) but focused only on the US state California. The goal was to test whether reducing the variable state to one state could improve the overall model performance and increase the R² score compared to using all states."
   ]
  },
  {
   "cell_type": "markdown",
   "id": "7ece0530",
   "metadata": {},
   "source": [
    "#### Link to Dataset 2\n",
    "https://www.kaggle.com/datasets/ahmedshahriarsakib/usa-real-estate-dataset"
   ]
  },
  {
   "cell_type": "markdown",
   "id": "bf04415d",
   "metadata": {},
   "source": [
    "#### Information about the Dataset\n",
    "This USA Housing Market Dataset contains around 2.2 million rows and 12 columns of real-estate related data, which can be used for housing price predictions."
   ]
  },
  {
   "cell_type": "markdown",
   "id": "17cc1a49",
   "metadata": {},
   "source": [
    "#### Data Description\n",
    "The dataset contains thousands of housing records from different U.S. states and includes multiple variables that can affect property prices. Some of the key variables are:\n",
    "\n",
    "1) brokered_by: Real estate agency or broker responsible for the listing.\n",
    "\n",
    "2) status: Current status of the property.\n",
    "\n",
    "3) price: Selling price of the house -> target variable.\n",
    "\n",
    "4) bed: Number of bedrooms.\n",
    "\n",
    "5) bath: Number of bathrooms.\n",
    "\n",
    "6) acre_lot: Lot size in acres.\n",
    "\n",
    "7) street: Street address of the property.\n",
    "\n",
    "8) city: City where the house is located.\n",
    "\n",
    "9) state: State where the house is located.\n",
    "\n",
    "10) zip_code: Postal code of the property.\n",
    "\n",
    "11) house_size: Total living area of the house in square feet.\n",
    "\n",
    "12) prev_sold_date: Date when the property was previously sold."
   ]
  },
  {
   "cell_type": "markdown",
   "id": "c460e0a4",
   "metadata": {},
   "source": [
    "#### Imports / Modules"
   ]
  },
  {
   "cell_type": "code",
   "execution_count": 25,
   "id": "538767bf",
   "metadata": {},
   "outputs": [],
   "source": [
    "import pandas as pd\n",
    "import numpy as np\n",
    "import matplotlib.pyplot as plt\n",
    "import seaborn as sns\n",
    "from sklearn.model_selection import train_test_split\n",
    "from sklearn import metrics\n",
    "\n",
    "import tensorflow as tf\n",
    "import keras\n",
    "from keras import layers"
   ]
  },
  {
   "cell_type": "markdown",
   "id": "5168e493",
   "metadata": {},
   "source": [
    "#### Loading the dataset"
   ]
  },
  {
   "cell_type": "code",
   "execution_count": 26,
   "id": "688c497d",
   "metadata": {},
   "outputs": [
    {
     "data": {
      "application/vnd.microsoft.datawrangler.viewer.v0+json": {
       "columns": [
        {
         "name": "index",
         "rawType": "int64",
         "type": "integer"
        },
        {
         "name": "brokered_by",
         "rawType": "float64",
         "type": "float"
        },
        {
         "name": "status",
         "rawType": "object",
         "type": "string"
        },
        {
         "name": "price",
         "rawType": "float64",
         "type": "float"
        },
        {
         "name": "bed",
         "rawType": "float64",
         "type": "float"
        },
        {
         "name": "bath",
         "rawType": "float64",
         "type": "float"
        },
        {
         "name": "acre_lot",
         "rawType": "float64",
         "type": "float"
        },
        {
         "name": "street",
         "rawType": "float64",
         "type": "float"
        },
        {
         "name": "city",
         "rawType": "object",
         "type": "string"
        },
        {
         "name": "state",
         "rawType": "object",
         "type": "string"
        },
        {
         "name": "zip_code",
         "rawType": "float64",
         "type": "float"
        },
        {
         "name": "house_size",
         "rawType": "float64",
         "type": "float"
        },
        {
         "name": "prev_sold_date",
         "rawType": "object",
         "type": "unknown"
        }
       ],
       "ref": "cf3e683c-1bd5-401c-bf32-a3683d4d5765",
       "rows": [
        [
         "0",
         "103378.0",
         "for_sale",
         "105000.0",
         "3.0",
         "2.0",
         "0.12",
         "1962661.0",
         "Adjuntas",
         "Puerto Rico",
         "601.0",
         "920.0",
         null
        ],
        [
         "1",
         "52707.0",
         "for_sale",
         "80000.0",
         "4.0",
         "2.0",
         "0.08",
         "1902874.0",
         "Adjuntas",
         "Puerto Rico",
         "601.0",
         "1527.0",
         null
        ],
        [
         "2",
         "103379.0",
         "for_sale",
         "67000.0",
         "2.0",
         "1.0",
         "0.15",
         "1404990.0",
         "Juana Diaz",
         "Puerto Rico",
         "795.0",
         "748.0",
         null
        ],
        [
         "3",
         "31239.0",
         "for_sale",
         "145000.0",
         "4.0",
         "2.0",
         "0.1",
         "1947675.0",
         "Ponce",
         "Puerto Rico",
         "731.0",
         "1800.0",
         null
        ],
        [
         "4",
         "34632.0",
         "for_sale",
         "65000.0",
         "6.0",
         "2.0",
         "0.05",
         "331151.0",
         "Mayaguez",
         "Puerto Rico",
         "680.0",
         null,
         null
        ]
       ],
       "shape": {
        "columns": 12,
        "rows": 5
       }
      },
      "text/html": [
       "<div>\n",
       "<style scoped>\n",
       "    .dataframe tbody tr th:only-of-type {\n",
       "        vertical-align: middle;\n",
       "    }\n",
       "\n",
       "    .dataframe tbody tr th {\n",
       "        vertical-align: top;\n",
       "    }\n",
       "\n",
       "    .dataframe thead th {\n",
       "        text-align: right;\n",
       "    }\n",
       "</style>\n",
       "<table border=\"1\" class=\"dataframe\">\n",
       "  <thead>\n",
       "    <tr style=\"text-align: right;\">\n",
       "      <th></th>\n",
       "      <th>brokered_by</th>\n",
       "      <th>status</th>\n",
       "      <th>price</th>\n",
       "      <th>bed</th>\n",
       "      <th>bath</th>\n",
       "      <th>acre_lot</th>\n",
       "      <th>street</th>\n",
       "      <th>city</th>\n",
       "      <th>state</th>\n",
       "      <th>zip_code</th>\n",
       "      <th>house_size</th>\n",
       "      <th>prev_sold_date</th>\n",
       "    </tr>\n",
       "  </thead>\n",
       "  <tbody>\n",
       "    <tr>\n",
       "      <th>0</th>\n",
       "      <td>103378.00</td>\n",
       "      <td>for_sale</td>\n",
       "      <td>105000.00</td>\n",
       "      <td>3.00</td>\n",
       "      <td>2.00</td>\n",
       "      <td>0.12</td>\n",
       "      <td>1962661.00</td>\n",
       "      <td>Adjuntas</td>\n",
       "      <td>Puerto Rico</td>\n",
       "      <td>601.00</td>\n",
       "      <td>920.00</td>\n",
       "      <td>NaN</td>\n",
       "    </tr>\n",
       "    <tr>\n",
       "      <th>1</th>\n",
       "      <td>52707.00</td>\n",
       "      <td>for_sale</td>\n",
       "      <td>80000.00</td>\n",
       "      <td>4.00</td>\n",
       "      <td>2.00</td>\n",
       "      <td>0.08</td>\n",
       "      <td>1902874.00</td>\n",
       "      <td>Adjuntas</td>\n",
       "      <td>Puerto Rico</td>\n",
       "      <td>601.00</td>\n",
       "      <td>1527.00</td>\n",
       "      <td>NaN</td>\n",
       "    </tr>\n",
       "    <tr>\n",
       "      <th>2</th>\n",
       "      <td>103379.00</td>\n",
       "      <td>for_sale</td>\n",
       "      <td>67000.00</td>\n",
       "      <td>2.00</td>\n",
       "      <td>1.00</td>\n",
       "      <td>0.15</td>\n",
       "      <td>1404990.00</td>\n",
       "      <td>Juana Diaz</td>\n",
       "      <td>Puerto Rico</td>\n",
       "      <td>795.00</td>\n",
       "      <td>748.00</td>\n",
       "      <td>NaN</td>\n",
       "    </tr>\n",
       "    <tr>\n",
       "      <th>3</th>\n",
       "      <td>31239.00</td>\n",
       "      <td>for_sale</td>\n",
       "      <td>145000.00</td>\n",
       "      <td>4.00</td>\n",
       "      <td>2.00</td>\n",
       "      <td>0.10</td>\n",
       "      <td>1947675.00</td>\n",
       "      <td>Ponce</td>\n",
       "      <td>Puerto Rico</td>\n",
       "      <td>731.00</td>\n",
       "      <td>1800.00</td>\n",
       "      <td>NaN</td>\n",
       "    </tr>\n",
       "    <tr>\n",
       "      <th>4</th>\n",
       "      <td>34632.00</td>\n",
       "      <td>for_sale</td>\n",
       "      <td>65000.00</td>\n",
       "      <td>6.00</td>\n",
       "      <td>2.00</td>\n",
       "      <td>0.05</td>\n",
       "      <td>331151.00</td>\n",
       "      <td>Mayaguez</td>\n",
       "      <td>Puerto Rico</td>\n",
       "      <td>680.00</td>\n",
       "      <td>NaN</td>\n",
       "      <td>NaN</td>\n",
       "    </tr>\n",
       "  </tbody>\n",
       "</table>\n",
       "</div>"
      ],
      "text/plain": [
       "   brokered_by    status     price  bed  bath  acre_lot     street  \\\n",
       "0    103378.00  for_sale 105000.00 3.00  2.00      0.12 1962661.00   \n",
       "1     52707.00  for_sale  80000.00 4.00  2.00      0.08 1902874.00   \n",
       "2    103379.00  for_sale  67000.00 2.00  1.00      0.15 1404990.00   \n",
       "3     31239.00  for_sale 145000.00 4.00  2.00      0.10 1947675.00   \n",
       "4     34632.00  for_sale  65000.00 6.00  2.00      0.05  331151.00   \n",
       "\n",
       "         city        state  zip_code  house_size prev_sold_date  \n",
       "0    Adjuntas  Puerto Rico    601.00      920.00            NaN  \n",
       "1    Adjuntas  Puerto Rico    601.00     1527.00            NaN  \n",
       "2  Juana Diaz  Puerto Rico    795.00      748.00            NaN  \n",
       "3       Ponce  Puerto Rico    731.00     1800.00            NaN  \n",
       "4    Mayaguez  Puerto Rico    680.00         NaN            NaN  "
      ]
     },
     "execution_count": 26,
     "metadata": {},
     "output_type": "execute_result"
    }
   ],
   "source": [
    "df = pd.read_csv(\"realtor-data.zip.csv\")\n",
    "df.head()"
   ]
  },
  {
   "cell_type": "markdown",
   "id": "a55fa14c",
   "metadata": {},
   "source": [
    "#### Handle missing values"
   ]
  },
  {
   "cell_type": "code",
   "execution_count": 27,
   "id": "38e5bf51",
   "metadata": {},
   "outputs": [
    {
     "data": {
      "application/vnd.microsoft.datawrangler.viewer.v0+json": {
       "columns": [
        {
         "name": "index",
         "rawType": "object",
         "type": "string"
        },
        {
         "name": "0",
         "rawType": "int64",
         "type": "integer"
        }
       ],
       "ref": "3b732d0f-a40d-44e3-a986-3735ddd7e202",
       "rows": [
        [
         "brokered_by",
         "4533"
        ],
        [
         "status",
         "0"
        ],
        [
         "price",
         "1541"
        ],
        [
         "bed",
         "481317"
        ],
        [
         "bath",
         "511771"
        ],
        [
         "acre_lot",
         "325589"
        ],
        [
         "street",
         "10866"
        ],
        [
         "city",
         "1407"
        ],
        [
         "state",
         "8"
        ],
        [
         "zip_code",
         "299"
        ],
        [
         "house_size",
         "568484"
        ],
        [
         "prev_sold_date",
         "734297"
        ]
       ],
       "shape": {
        "columns": 1,
        "rows": 12
       }
      },
      "text/plain": [
       "brokered_by         4533\n",
       "status                 0\n",
       "price               1541\n",
       "bed               481317\n",
       "bath              511771\n",
       "acre_lot          325589\n",
       "street             10866\n",
       "city                1407\n",
       "state                  8\n",
       "zip_code             299\n",
       "house_size        568484\n",
       "prev_sold_date    734297\n",
       "dtype: int64"
      ]
     },
     "execution_count": 27,
     "metadata": {},
     "output_type": "execute_result"
    }
   ],
   "source": [
    "df.isna().sum()"
   ]
  },
  {
   "cell_type": "markdown",
   "id": "6a8f2c2a",
   "metadata": {},
   "source": [
    "#### AI was used in this code cell\n",
    "I used AI fo this code cell, to find the best way to get rid of all missing values in the dataset and because I could not find any code example for handling missing values on the Github:"
   ]
  },
  {
   "cell_type": "code",
   "execution_count": 28,
   "id": "1482ac33",
   "metadata": {},
   "outputs": [
    {
     "name": "stdout",
     "output_type": "stream",
     "text": [
      "Shape after removing missing values: (1084909, 12)\n",
      "Shape after filtering for California: (157724, 12)\n"
     ]
    }
   ],
   "source": [
    "core_cols = ['brokered_by', 'status', 'price', 'bed', 'bath', 'acre_lot',\n",
    "             'street', 'city', 'state', 'zip_code', 'house_size', 'prev_sold_date']\n",
    "df = df.dropna(subset=core_cols)\n",
    "\n",
    "print(\"Shape after removing missing values:\", df.shape)\n",
    "\n",
    "df = df[df['state'] == \"California\"]\n",
    "\n",
    "print(\"Shape after filtering for California:\", df.shape)\n"
   ]
  },
  {
   "cell_type": "code",
   "execution_count": 29,
   "id": "c2f3f2e7",
   "metadata": {},
   "outputs": [
    {
     "data": {
      "application/vnd.microsoft.datawrangler.viewer.v0+json": {
       "columns": [
        {
         "name": "index",
         "rawType": "object",
         "type": "string"
        },
        {
         "name": "0",
         "rawType": "int64",
         "type": "integer"
        }
       ],
       "ref": "41697797-eeae-48a1-9565-0275ae523b05",
       "rows": [
        [
         "brokered_by",
         "0"
        ],
        [
         "status",
         "0"
        ],
        [
         "price",
         "0"
        ],
        [
         "bed",
         "0"
        ],
        [
         "bath",
         "0"
        ],
        [
         "acre_lot",
         "0"
        ],
        [
         "street",
         "0"
        ],
        [
         "city",
         "0"
        ],
        [
         "state",
         "0"
        ],
        [
         "zip_code",
         "0"
        ],
        [
         "house_size",
         "0"
        ],
        [
         "prev_sold_date",
         "0"
        ]
       ],
       "shape": {
        "columns": 1,
        "rows": 12
       }
      },
      "text/plain": [
       "brokered_by       0\n",
       "status            0\n",
       "price             0\n",
       "bed               0\n",
       "bath              0\n",
       "acre_lot          0\n",
       "street            0\n",
       "city              0\n",
       "state             0\n",
       "zip_code          0\n",
       "house_size        0\n",
       "prev_sold_date    0\n",
       "dtype: int64"
      ]
     },
     "execution_count": 29,
     "metadata": {},
     "output_type": "execute_result"
    }
   ],
   "source": [
    "df.isna().sum()"
   ]
  },
  {
   "cell_type": "code",
   "execution_count": 30,
   "id": "7fc2bd06",
   "metadata": {},
   "outputs": [
    {
     "data": {
      "text/plain": [
       "0"
      ]
     },
     "execution_count": 30,
     "metadata": {},
     "output_type": "execute_result"
    }
   ],
   "source": [
    "int(df.duplicated().sum())"
   ]
  },
  {
   "cell_type": "code",
   "execution_count": 31,
   "id": "a36d49c3",
   "metadata": {},
   "outputs": [
    {
     "data": {
      "application/vnd.microsoft.datawrangler.viewer.v0+json": {
       "columns": [
        {
         "name": "index",
         "rawType": "int64",
         "type": "integer"
        },
        {
         "name": "brokered_by",
         "rawType": "float64",
         "type": "float"
        },
        {
         "name": "status",
         "rawType": "object",
         "type": "string"
        },
        {
         "name": "price",
         "rawType": "float64",
         "type": "float"
        },
        {
         "name": "bed",
         "rawType": "float64",
         "type": "float"
        },
        {
         "name": "bath",
         "rawType": "float64",
         "type": "float"
        },
        {
         "name": "acre_lot",
         "rawType": "float64",
         "type": "float"
        },
        {
         "name": "street",
         "rawType": "float64",
         "type": "float"
        },
        {
         "name": "city",
         "rawType": "object",
         "type": "string"
        },
        {
         "name": "state",
         "rawType": "object",
         "type": "string"
        },
        {
         "name": "zip_code",
         "rawType": "float64",
         "type": "float"
        },
        {
         "name": "house_size",
         "rawType": "float64",
         "type": "float"
        },
        {
         "name": "prev_sold_date",
         "rawType": "object",
         "type": "string"
        }
       ],
       "ref": "f8529a99-4022-4f45-bfb4-fa59d777214c",
       "rows": [
        [
         "1208998",
         "4311.0",
         "for_sale",
         "172999.0",
         "3.0",
         "2.0",
         "0.16",
         "987585.0",
         "Blythe",
         "California",
         "92225.0",
         "1132.0",
         "1984-06-29"
        ],
        [
         "1209113",
         "4311.0",
         "for_sale",
         "201000.0",
         "2.0",
         "2.0",
         "0.34",
         "761139.0",
         "Blythe",
         "California",
         "92225.0",
         "1100.0",
         "1997-09-23"
        ],
        [
         "1209116",
         "76008.0",
         "for_sale",
         "250000.0",
         "7.0",
         "3.0",
         "0.19",
         "1002149.0",
         "Blythe",
         "California",
         "92225.0",
         "3126.0",
         "2015-09-23"
        ],
        [
         "1209118",
         "86230.0",
         "for_sale",
         "325000.0",
         "3.0",
         "2.0",
         "5.0",
         "664584.0",
         "Blythe",
         "California",
         "92225.0",
         "1925.0",
         "1985-01-14"
        ],
        [
         "1209120",
         "22611.0",
         "for_sale",
         "287500.0",
         "5.0",
         "3.0",
         "0.2",
         "1230938.0",
         "Blythe",
         "California",
         "92225.0",
         "1642.0",
         "2018-03-08"
        ]
       ],
       "shape": {
        "columns": 12,
        "rows": 5
       }
      },
      "text/html": [
       "<div>\n",
       "<style scoped>\n",
       "    .dataframe tbody tr th:only-of-type {\n",
       "        vertical-align: middle;\n",
       "    }\n",
       "\n",
       "    .dataframe tbody tr th {\n",
       "        vertical-align: top;\n",
       "    }\n",
       "\n",
       "    .dataframe thead th {\n",
       "        text-align: right;\n",
       "    }\n",
       "</style>\n",
       "<table border=\"1\" class=\"dataframe\">\n",
       "  <thead>\n",
       "    <tr style=\"text-align: right;\">\n",
       "      <th></th>\n",
       "      <th>brokered_by</th>\n",
       "      <th>status</th>\n",
       "      <th>price</th>\n",
       "      <th>bed</th>\n",
       "      <th>bath</th>\n",
       "      <th>acre_lot</th>\n",
       "      <th>street</th>\n",
       "      <th>city</th>\n",
       "      <th>state</th>\n",
       "      <th>zip_code</th>\n",
       "      <th>house_size</th>\n",
       "      <th>prev_sold_date</th>\n",
       "    </tr>\n",
       "  </thead>\n",
       "  <tbody>\n",
       "    <tr>\n",
       "      <th>1208998</th>\n",
       "      <td>4311.00</td>\n",
       "      <td>for_sale</td>\n",
       "      <td>172999.00</td>\n",
       "      <td>3.00</td>\n",
       "      <td>2.00</td>\n",
       "      <td>0.16</td>\n",
       "      <td>987585.00</td>\n",
       "      <td>Blythe</td>\n",
       "      <td>California</td>\n",
       "      <td>92225.00</td>\n",
       "      <td>1132.00</td>\n",
       "      <td>1984-06-29</td>\n",
       "    </tr>\n",
       "    <tr>\n",
       "      <th>1209113</th>\n",
       "      <td>4311.00</td>\n",
       "      <td>for_sale</td>\n",
       "      <td>201000.00</td>\n",
       "      <td>2.00</td>\n",
       "      <td>2.00</td>\n",
       "      <td>0.34</td>\n",
       "      <td>761139.00</td>\n",
       "      <td>Blythe</td>\n",
       "      <td>California</td>\n",
       "      <td>92225.00</td>\n",
       "      <td>1100.00</td>\n",
       "      <td>1997-09-23</td>\n",
       "    </tr>\n",
       "    <tr>\n",
       "      <th>1209116</th>\n",
       "      <td>76008.00</td>\n",
       "      <td>for_sale</td>\n",
       "      <td>250000.00</td>\n",
       "      <td>7.00</td>\n",
       "      <td>3.00</td>\n",
       "      <td>0.19</td>\n",
       "      <td>1002149.00</td>\n",
       "      <td>Blythe</td>\n",
       "      <td>California</td>\n",
       "      <td>92225.00</td>\n",
       "      <td>3126.00</td>\n",
       "      <td>2015-09-23</td>\n",
       "    </tr>\n",
       "    <tr>\n",
       "      <th>1209118</th>\n",
       "      <td>86230.00</td>\n",
       "      <td>for_sale</td>\n",
       "      <td>325000.00</td>\n",
       "      <td>3.00</td>\n",
       "      <td>2.00</td>\n",
       "      <td>5.00</td>\n",
       "      <td>664584.00</td>\n",
       "      <td>Blythe</td>\n",
       "      <td>California</td>\n",
       "      <td>92225.00</td>\n",
       "      <td>1925.00</td>\n",
       "      <td>1985-01-14</td>\n",
       "    </tr>\n",
       "    <tr>\n",
       "      <th>1209120</th>\n",
       "      <td>22611.00</td>\n",
       "      <td>for_sale</td>\n",
       "      <td>287500.00</td>\n",
       "      <td>5.00</td>\n",
       "      <td>3.00</td>\n",
       "      <td>0.20</td>\n",
       "      <td>1230938.00</td>\n",
       "      <td>Blythe</td>\n",
       "      <td>California</td>\n",
       "      <td>92225.00</td>\n",
       "      <td>1642.00</td>\n",
       "      <td>2018-03-08</td>\n",
       "    </tr>\n",
       "  </tbody>\n",
       "</table>\n",
       "</div>"
      ],
      "text/plain": [
       "         brokered_by    status     price  bed  bath  acre_lot     street  \\\n",
       "1208998      4311.00  for_sale 172999.00 3.00  2.00      0.16  987585.00   \n",
       "1209113      4311.00  for_sale 201000.00 2.00  2.00      0.34  761139.00   \n",
       "1209116     76008.00  for_sale 250000.00 7.00  3.00      0.19 1002149.00   \n",
       "1209118     86230.00  for_sale 325000.00 3.00  2.00      5.00  664584.00   \n",
       "1209120     22611.00  for_sale 287500.00 5.00  3.00      0.20 1230938.00   \n",
       "\n",
       "           city       state  zip_code  house_size prev_sold_date  \n",
       "1208998  Blythe  California  92225.00     1132.00     1984-06-29  \n",
       "1209113  Blythe  California  92225.00     1100.00     1997-09-23  \n",
       "1209116  Blythe  California  92225.00     3126.00     2015-09-23  \n",
       "1209118  Blythe  California  92225.00     1925.00     1985-01-14  \n",
       "1209120  Blythe  California  92225.00     1642.00     2018-03-08  "
      ]
     },
     "execution_count": 31,
     "metadata": {},
     "output_type": "execute_result"
    }
   ],
   "source": [
    "df.head()"
   ]
  },
  {
   "cell_type": "code",
   "execution_count": 32,
   "id": "0c10650f",
   "metadata": {},
   "outputs": [
    {
     "data": {
      "application/vnd.microsoft.datawrangler.viewer.v0+json": {
       "columns": [
        {
         "name": "index",
         "rawType": "int64",
         "type": "integer"
        },
        {
         "name": "price",
         "rawType": "float64",
         "type": "float"
        },
        {
         "name": "bed",
         "rawType": "float64",
         "type": "float"
        },
        {
         "name": "bath",
         "rawType": "float64",
         "type": "float"
        },
        {
         "name": "acre_lot",
         "rawType": "float64",
         "type": "float"
        },
        {
         "name": "house_size",
         "rawType": "float64",
         "type": "float"
        }
       ],
       "ref": "f8173840-cf3e-45a3-8f27-013ea8e88d60",
       "rows": [
        [
         "1208998",
         "172999.0",
         "3.0",
         "2.0",
         "0.16",
         "1132.0"
        ],
        [
         "1209113",
         "201000.0",
         "2.0",
         "2.0",
         "0.34",
         "1100.0"
        ],
        [
         "1209116",
         "250000.0",
         "7.0",
         "3.0",
         "0.19",
         "3126.0"
        ],
        [
         "1209118",
         "325000.0",
         "3.0",
         "2.0",
         "5.0",
         "1925.0"
        ],
        [
         "1209120",
         "287500.0",
         "5.0",
         "3.0",
         "0.2",
         "1642.0"
        ]
       ],
       "shape": {
        "columns": 5,
        "rows": 5
       }
      },
      "text/html": [
       "<div>\n",
       "<style scoped>\n",
       "    .dataframe tbody tr th:only-of-type {\n",
       "        vertical-align: middle;\n",
       "    }\n",
       "\n",
       "    .dataframe tbody tr th {\n",
       "        vertical-align: top;\n",
       "    }\n",
       "\n",
       "    .dataframe thead th {\n",
       "        text-align: right;\n",
       "    }\n",
       "</style>\n",
       "<table border=\"1\" class=\"dataframe\">\n",
       "  <thead>\n",
       "    <tr style=\"text-align: right;\">\n",
       "      <th></th>\n",
       "      <th>price</th>\n",
       "      <th>bed</th>\n",
       "      <th>bath</th>\n",
       "      <th>acre_lot</th>\n",
       "      <th>house_size</th>\n",
       "    </tr>\n",
       "  </thead>\n",
       "  <tbody>\n",
       "    <tr>\n",
       "      <th>1208998</th>\n",
       "      <td>172999.00</td>\n",
       "      <td>3.00</td>\n",
       "      <td>2.00</td>\n",
       "      <td>0.16</td>\n",
       "      <td>1132.00</td>\n",
       "    </tr>\n",
       "    <tr>\n",
       "      <th>1209113</th>\n",
       "      <td>201000.00</td>\n",
       "      <td>2.00</td>\n",
       "      <td>2.00</td>\n",
       "      <td>0.34</td>\n",
       "      <td>1100.00</td>\n",
       "    </tr>\n",
       "    <tr>\n",
       "      <th>1209116</th>\n",
       "      <td>250000.00</td>\n",
       "      <td>7.00</td>\n",
       "      <td>3.00</td>\n",
       "      <td>0.19</td>\n",
       "      <td>3126.00</td>\n",
       "    </tr>\n",
       "    <tr>\n",
       "      <th>1209118</th>\n",
       "      <td>325000.00</td>\n",
       "      <td>3.00</td>\n",
       "      <td>2.00</td>\n",
       "      <td>5.00</td>\n",
       "      <td>1925.00</td>\n",
       "    </tr>\n",
       "    <tr>\n",
       "      <th>1209120</th>\n",
       "      <td>287500.00</td>\n",
       "      <td>5.00</td>\n",
       "      <td>3.00</td>\n",
       "      <td>0.20</td>\n",
       "      <td>1642.00</td>\n",
       "    </tr>\n",
       "  </tbody>\n",
       "</table>\n",
       "</div>"
      ],
      "text/plain": [
       "            price  bed  bath  acre_lot  house_size\n",
       "1208998 172999.00 3.00  2.00      0.16     1132.00\n",
       "1209113 201000.00 2.00  2.00      0.34     1100.00\n",
       "1209116 250000.00 7.00  3.00      0.19     3126.00\n",
       "1209118 325000.00 3.00  2.00      5.00     1925.00\n",
       "1209120 287500.00 5.00  3.00      0.20     1642.00"
      ]
     },
     "execution_count": 32,
     "metadata": {},
     "output_type": "execute_result"
    }
   ],
   "source": [
    "columns_to_delete = [\"brokered_by\", \"status\", \"street\", \"city\", \"state\", \"zip_code\", \"prev_sold_date\"]\n",
    "df = df.drop(columns=columns_to_delete)\n",
    "df.head()"
   ]
  },
  {
   "cell_type": "markdown",
   "id": "ca6b226a",
   "metadata": {},
   "source": [
    "#### X/y-Split"
   ]
  },
  {
   "cell_type": "code",
   "execution_count": 34,
   "id": "12511913",
   "metadata": {},
   "outputs": [],
   "source": [
    "X = df.drop(\"price\", axis=1)\n",
    "\n",
    "y = df[\"price\"]"
   ]
  },
  {
   "cell_type": "markdown",
   "id": "bc69130e",
   "metadata": {},
   "source": [
    "#### Correlation-Test"
   ]
  },
  {
   "cell_type": "code",
   "execution_count": 35,
   "id": "43881a69",
   "metadata": {},
   "outputs": [
    {
     "data": {
      "application/vnd.microsoft.datawrangler.viewer.v0+json": {
       "columns": [
        {
         "name": "index",
         "rawType": "object",
         "type": "string"
        },
        {
         "name": "price",
         "rawType": "float64",
         "type": "float"
        },
        {
         "name": "bed",
         "rawType": "float64",
         "type": "float"
        },
        {
         "name": "bath",
         "rawType": "float64",
         "type": "float"
        },
        {
         "name": "acre_lot",
         "rawType": "float64",
         "type": "float"
        },
        {
         "name": "house_size",
         "rawType": "float64",
         "type": "float"
        }
       ],
       "ref": "d6249ac3-6b83-4082-9940-2864bd14f502",
       "rows": [
        [
         "price",
         "1.0",
         "0.2225244114905886",
         "0.37479045122310617",
         "-0.0018892804300671697",
         "0.48935187132327024"
        ],
        [
         "bed",
         "0.2225244114905886",
         "1.0",
         "0.7658738707721751",
         "-0.006299645267316074",
         "0.6774252244207747"
        ],
        [
         "bath",
         "0.37479045122310617",
         "0.7658738707721751",
         "1.0",
         "-0.00215543510062525",
         "0.8091665610333317"
        ],
        [
         "acre_lot",
         "-0.0018892804300671697",
         "-0.006299645267316074",
         "-0.00215543510062525",
         "1.0",
         "-0.002963227801284617"
        ],
        [
         "house_size",
         "0.48935187132327024",
         "0.6774252244207747",
         "0.8091665610333317",
         "-0.002963227801284617",
         "1.0"
        ]
       ],
       "shape": {
        "columns": 5,
        "rows": 5
       }
      },
      "text/html": [
       "<div>\n",
       "<style scoped>\n",
       "    .dataframe tbody tr th:only-of-type {\n",
       "        vertical-align: middle;\n",
       "    }\n",
       "\n",
       "    .dataframe tbody tr th {\n",
       "        vertical-align: top;\n",
       "    }\n",
       "\n",
       "    .dataframe thead th {\n",
       "        text-align: right;\n",
       "    }\n",
       "</style>\n",
       "<table border=\"1\" class=\"dataframe\">\n",
       "  <thead>\n",
       "    <tr style=\"text-align: right;\">\n",
       "      <th></th>\n",
       "      <th>price</th>\n",
       "      <th>bed</th>\n",
       "      <th>bath</th>\n",
       "      <th>acre_lot</th>\n",
       "      <th>house_size</th>\n",
       "    </tr>\n",
       "  </thead>\n",
       "  <tbody>\n",
       "    <tr>\n",
       "      <th>price</th>\n",
       "      <td>1.00</td>\n",
       "      <td>0.22</td>\n",
       "      <td>0.37</td>\n",
       "      <td>-0.00</td>\n",
       "      <td>0.49</td>\n",
       "    </tr>\n",
       "    <tr>\n",
       "      <th>bed</th>\n",
       "      <td>0.22</td>\n",
       "      <td>1.00</td>\n",
       "      <td>0.77</td>\n",
       "      <td>-0.01</td>\n",
       "      <td>0.68</td>\n",
       "    </tr>\n",
       "    <tr>\n",
       "      <th>bath</th>\n",
       "      <td>0.37</td>\n",
       "      <td>0.77</td>\n",
       "      <td>1.00</td>\n",
       "      <td>-0.00</td>\n",
       "      <td>0.81</td>\n",
       "    </tr>\n",
       "    <tr>\n",
       "      <th>acre_lot</th>\n",
       "      <td>-0.00</td>\n",
       "      <td>-0.01</td>\n",
       "      <td>-0.00</td>\n",
       "      <td>1.00</td>\n",
       "      <td>-0.00</td>\n",
       "    </tr>\n",
       "    <tr>\n",
       "      <th>house_size</th>\n",
       "      <td>0.49</td>\n",
       "      <td>0.68</td>\n",
       "      <td>0.81</td>\n",
       "      <td>-0.00</td>\n",
       "      <td>1.00</td>\n",
       "    </tr>\n",
       "  </tbody>\n",
       "</table>\n",
       "</div>"
      ],
      "text/plain": [
       "            price   bed  bath  acre_lot  house_size\n",
       "price        1.00  0.22  0.37     -0.00        0.49\n",
       "bed          0.22  1.00  0.77     -0.01        0.68\n",
       "bath         0.37  0.77  1.00     -0.00        0.81\n",
       "acre_lot    -0.00 -0.01 -0.00      1.00       -0.00\n",
       "house_size   0.49  0.68  0.81     -0.00        1.00"
      ]
     },
     "execution_count": 35,
     "metadata": {},
     "output_type": "execute_result"
    }
   ],
   "source": [
    "correlations = df.corr(numeric_only=True)\n",
    "correlations"
   ]
  },
  {
   "cell_type": "markdown",
   "id": "a31c93d6",
   "metadata": {},
   "source": [
    "#### Chi²-Test"
   ]
  },
  {
   "cell_type": "code",
   "execution_count": 36,
   "id": "89459391",
   "metadata": {},
   "outputs": [
    {
     "data": {
      "application/vnd.microsoft.datawrangler.viewer.v0+json": {
       "columns": [
        {
         "name": "index",
         "rawType": "int64",
         "type": "integer"
        },
        {
         "name": "Features",
         "rawType": "object",
         "type": "string"
        },
        {
         "name": "Score",
         "rawType": "float64",
         "type": "float"
        }
       ],
       "ref": "c6ff3966-9f7f-408e-9250-a6b9e038d4a7",
       "rows": [
        [
         "2",
         "acre_lot",
         "260696026.03751922"
        ],
        [
         "3",
         "house_size",
         "73073898.18300653"
        ],
        [
         "1",
         "bath",
         "60362.00842176429"
        ],
        [
         "0",
         "bed",
         "35185.39410481188"
        ]
       ],
       "shape": {
        "columns": 2,
        "rows": 4
       }
      },
      "text/html": [
       "<div>\n",
       "<style scoped>\n",
       "    .dataframe tbody tr th:only-of-type {\n",
       "        vertical-align: middle;\n",
       "    }\n",
       "\n",
       "    .dataframe tbody tr th {\n",
       "        vertical-align: top;\n",
       "    }\n",
       "\n",
       "    .dataframe thead th {\n",
       "        text-align: right;\n",
       "    }\n",
       "</style>\n",
       "<table border=\"1\" class=\"dataframe\">\n",
       "  <thead>\n",
       "    <tr style=\"text-align: right;\">\n",
       "      <th></th>\n",
       "      <th>Features</th>\n",
       "      <th>Score</th>\n",
       "    </tr>\n",
       "  </thead>\n",
       "  <tbody>\n",
       "    <tr>\n",
       "      <th>2</th>\n",
       "      <td>acre_lot</td>\n",
       "      <td>260696026.04</td>\n",
       "    </tr>\n",
       "    <tr>\n",
       "      <th>3</th>\n",
       "      <td>house_size</td>\n",
       "      <td>73073898.18</td>\n",
       "    </tr>\n",
       "    <tr>\n",
       "      <th>1</th>\n",
       "      <td>bath</td>\n",
       "      <td>60362.01</td>\n",
       "    </tr>\n",
       "    <tr>\n",
       "      <th>0</th>\n",
       "      <td>bed</td>\n",
       "      <td>35185.39</td>\n",
       "    </tr>\n",
       "  </tbody>\n",
       "</table>\n",
       "</div>"
      ],
      "text/plain": [
       "     Features        Score\n",
       "2    acre_lot 260696026.04\n",
       "3  house_size  73073898.18\n",
       "1        bath     60362.01\n",
       "0         bed     35185.39"
      ]
     },
     "execution_count": 36,
     "metadata": {},
     "output_type": "execute_result"
    }
   ],
   "source": [
    "from sklearn.feature_selection import SelectKBest\n",
    "from sklearn.feature_selection import chi2\n",
    "\n",
    "X_cat = X.astype(int)\n",
    "X_cat = X_cat.clip(lower=0)\n",
    "\n",
    "chi_2_features = SelectKBest(chi2, k=len(X_cat.columns))\n",
    "best_features = chi_2_features.fit(X_cat,y.astype(int))\n",
    "\n",
    "pd.options.display.float_format = '{:.2f}'.format\n",
    "\n",
    "df_features = pd.DataFrame(best_features.scores_)\n",
    "df_columns = pd.DataFrame(X_cat.columns)\n",
    "f_scores = pd.concat([df_columns,df_features],axis=1)\n",
    "f_scores.columns = ['Features','Score']\n",
    "f_scores.sort_values(by='Score',ascending=False)"
   ]
  },
  {
   "cell_type": "markdown",
   "id": "6b50ef93",
   "metadata": {},
   "source": [
    "#### VIF-Test"
   ]
  },
  {
   "cell_type": "code",
   "execution_count": 37,
   "id": "308242ea",
   "metadata": {},
   "outputs": [
    {
     "name": "stdout",
     "output_type": "stream",
     "text": [
      "      feature   VIF\n",
      "0         bed  9.77\n",
      "1        bath 15.14\n",
      "2    acre_lot  1.00\n",
      "3  house_size  9.76\n"
     ]
    }
   ],
   "source": [
    "from statsmodels.stats.outliers_influence import variance_inflation_factor \n",
    "\n",
    "vif_data = pd.DataFrame() \n",
    "vif_data[\"feature\"] = X.columns \n",
    "\n",
    "vif_data[\"VIF\"] = [variance_inflation_factor(X.values, i) \n",
    "                          for i in range(len(X.columns))] \n",
    "\n",
    "print(vif_data)"
   ]
  },
  {
   "cell_type": "markdown",
   "id": "2d487fa3",
   "metadata": {},
   "source": [
    "#### Train-/Test-/Validation-Split"
   ]
  },
  {
   "cell_type": "code",
   "execution_count": 38,
   "id": "d43d9577",
   "metadata": {},
   "outputs": [],
   "source": [
    "X_train, X_temp, y_train, y_temp = train_test_split(X, y, test_size=0.3)\n",
    "\n",
    "X_val, X_test, y_val, y_test = train_test_split(X_temp, y_temp, test_size=0.5)"
   ]
  },
  {
   "cell_type": "code",
   "execution_count": 39,
   "id": "9597cf56",
   "metadata": {},
   "outputs": [
    {
     "data": {
      "text/plain": [
       "157724"
      ]
     },
     "execution_count": 39,
     "metadata": {},
     "output_type": "execute_result"
    }
   ],
   "source": [
    "len(df)"
   ]
  },
  {
   "cell_type": "markdown",
   "id": "a21748ed",
   "metadata": {},
   "source": [
    "#### Create the neural network structure"
   ]
  },
  {
   "cell_type": "code",
   "execution_count": 40,
   "id": "bddaa88c",
   "metadata": {},
   "outputs": [
    {
     "name": "stderr",
     "output_type": "stream",
     "text": [
      "d:\\5. Semester\\Deep Learning\\DL-projects\\venv312\\Lib\\site-packages\\keras\\src\\layers\\normalization\\batch_normalization.py:142: UserWarning: Do not pass an `input_shape`/`input_dim` argument to a layer. When using Sequential models, prefer using an `Input(shape)` object as the first layer in the model instead.\n",
      "  super().__init__(**kwargs)\n"
     ]
    },
    {
     "data": {
      "text/html": [
       "<pre style=\"white-space:pre;overflow-x:auto;line-height:normal;font-family:Menlo,'DejaVu Sans Mono',consolas,'Courier New',monospace\"><span style=\"font-weight: bold\">Model: \"sequential\"</span>\n",
       "</pre>\n"
      ],
      "text/plain": [
       "\u001b[1mModel: \"sequential\"\u001b[0m\n"
      ]
     },
     "metadata": {},
     "output_type": "display_data"
    },
    {
     "data": {
      "text/html": [
       "<pre style=\"white-space:pre;overflow-x:auto;line-height:normal;font-family:Menlo,'DejaVu Sans Mono',consolas,'Courier New',monospace\">┏━━━━━━━━━━━━━━━━━━━━━━━━━━━━━━━━━┳━━━━━━━━━━━━━━━━━━━━━━━━┳━━━━━━━━━━━━━━━┓\n",
       "┃<span style=\"font-weight: bold\"> Layer (type)                    </span>┃<span style=\"font-weight: bold\"> Output Shape           </span>┃<span style=\"font-weight: bold\">       Param # </span>┃\n",
       "┡━━━━━━━━━━━━━━━━━━━━━━━━━━━━━━━━━╇━━━━━━━━━━━━━━━━━━━━━━━━╇━━━━━━━━━━━━━━━┩\n",
       "│ batch_normalization             │ (<span style=\"color: #00d7ff; text-decoration-color: #00d7ff\">None</span>, <span style=\"color: #00af00; text-decoration-color: #00af00\">4</span>)              │            <span style=\"color: #00af00; text-decoration-color: #00af00\">16</span> │\n",
       "│ (<span style=\"color: #0087ff; text-decoration-color: #0087ff\">BatchNormalization</span>)            │                        │               │\n",
       "├─────────────────────────────────┼────────────────────────┼───────────────┤\n",
       "│ dense (<span style=\"color: #0087ff; text-decoration-color: #0087ff\">Dense</span>)                   │ (<span style=\"color: #00d7ff; text-decoration-color: #00d7ff\">None</span>, <span style=\"color: #00af00; text-decoration-color: #00af00\">128</span>)            │           <span style=\"color: #00af00; text-decoration-color: #00af00\">640</span> │\n",
       "├─────────────────────────────────┼────────────────────────┼───────────────┤\n",
       "│ dropout (<span style=\"color: #0087ff; text-decoration-color: #0087ff\">Dropout</span>)               │ (<span style=\"color: #00d7ff; text-decoration-color: #00d7ff\">None</span>, <span style=\"color: #00af00; text-decoration-color: #00af00\">128</span>)            │             <span style=\"color: #00af00; text-decoration-color: #00af00\">0</span> │\n",
       "├─────────────────────────────────┼────────────────────────┼───────────────┤\n",
       "│ dense_1 (<span style=\"color: #0087ff; text-decoration-color: #0087ff\">Dense</span>)                 │ (<span style=\"color: #00d7ff; text-decoration-color: #00d7ff\">None</span>, <span style=\"color: #00af00; text-decoration-color: #00af00\">64</span>)             │         <span style=\"color: #00af00; text-decoration-color: #00af00\">8,256</span> │\n",
       "├─────────────────────────────────┼────────────────────────┼───────────────┤\n",
       "│ dense_2 (<span style=\"color: #0087ff; text-decoration-color: #0087ff\">Dense</span>)                 │ (<span style=\"color: #00d7ff; text-decoration-color: #00d7ff\">None</span>, <span style=\"color: #00af00; text-decoration-color: #00af00\">32</span>)             │         <span style=\"color: #00af00; text-decoration-color: #00af00\">2,080</span> │\n",
       "├─────────────────────────────────┼────────────────────────┼───────────────┤\n",
       "│ dense_3 (<span style=\"color: #0087ff; text-decoration-color: #0087ff\">Dense</span>)                 │ (<span style=\"color: #00d7ff; text-decoration-color: #00d7ff\">None</span>, <span style=\"color: #00af00; text-decoration-color: #00af00\">1</span>)              │            <span style=\"color: #00af00; text-decoration-color: #00af00\">33</span> │\n",
       "└─────────────────────────────────┴────────────────────────┴───────────────┘\n",
       "</pre>\n"
      ],
      "text/plain": [
       "┏━━━━━━━━━━━━━━━━━━━━━━━━━━━━━━━━━┳━━━━━━━━━━━━━━━━━━━━━━━━┳━━━━━━━━━━━━━━━┓\n",
       "┃\u001b[1m \u001b[0m\u001b[1mLayer (type)                   \u001b[0m\u001b[1m \u001b[0m┃\u001b[1m \u001b[0m\u001b[1mOutput Shape          \u001b[0m\u001b[1m \u001b[0m┃\u001b[1m \u001b[0m\u001b[1m      Param #\u001b[0m\u001b[1m \u001b[0m┃\n",
       "┡━━━━━━━━━━━━━━━━━━━━━━━━━━━━━━━━━╇━━━━━━━━━━━━━━━━━━━━━━━━╇━━━━━━━━━━━━━━━┩\n",
       "│ batch_normalization             │ (\u001b[38;5;45mNone\u001b[0m, \u001b[38;5;34m4\u001b[0m)              │            \u001b[38;5;34m16\u001b[0m │\n",
       "│ (\u001b[38;5;33mBatchNormalization\u001b[0m)            │                        │               │\n",
       "├─────────────────────────────────┼────────────────────────┼───────────────┤\n",
       "│ dense (\u001b[38;5;33mDense\u001b[0m)                   │ (\u001b[38;5;45mNone\u001b[0m, \u001b[38;5;34m128\u001b[0m)            │           \u001b[38;5;34m640\u001b[0m │\n",
       "├─────────────────────────────────┼────────────────────────┼───────────────┤\n",
       "│ dropout (\u001b[38;5;33mDropout\u001b[0m)               │ (\u001b[38;5;45mNone\u001b[0m, \u001b[38;5;34m128\u001b[0m)            │             \u001b[38;5;34m0\u001b[0m │\n",
       "├─────────────────────────────────┼────────────────────────┼───────────────┤\n",
       "│ dense_1 (\u001b[38;5;33mDense\u001b[0m)                 │ (\u001b[38;5;45mNone\u001b[0m, \u001b[38;5;34m64\u001b[0m)             │         \u001b[38;5;34m8,256\u001b[0m │\n",
       "├─────────────────────────────────┼────────────────────────┼───────────────┤\n",
       "│ dense_2 (\u001b[38;5;33mDense\u001b[0m)                 │ (\u001b[38;5;45mNone\u001b[0m, \u001b[38;5;34m32\u001b[0m)             │         \u001b[38;5;34m2,080\u001b[0m │\n",
       "├─────────────────────────────────┼────────────────────────┼───────────────┤\n",
       "│ dense_3 (\u001b[38;5;33mDense\u001b[0m)                 │ (\u001b[38;5;45mNone\u001b[0m, \u001b[38;5;34m1\u001b[0m)              │            \u001b[38;5;34m33\u001b[0m │\n",
       "└─────────────────────────────────┴────────────────────────┴───────────────┘\n"
      ]
     },
     "metadata": {},
     "output_type": "display_data"
    },
    {
     "data": {
      "text/html": [
       "<pre style=\"white-space:pre;overflow-x:auto;line-height:normal;font-family:Menlo,'DejaVu Sans Mono',consolas,'Courier New',monospace\"><span style=\"font-weight: bold\"> Total params: </span><span style=\"color: #00af00; text-decoration-color: #00af00\">11,025</span> (43.07 KB)\n",
       "</pre>\n"
      ],
      "text/plain": [
       "\u001b[1m Total params: \u001b[0m\u001b[38;5;34m11,025\u001b[0m (43.07 KB)\n"
      ]
     },
     "metadata": {},
     "output_type": "display_data"
    },
    {
     "data": {
      "text/html": [
       "<pre style=\"white-space:pre;overflow-x:auto;line-height:normal;font-family:Menlo,'DejaVu Sans Mono',consolas,'Courier New',monospace\"><span style=\"font-weight: bold\"> Trainable params: </span><span style=\"color: #00af00; text-decoration-color: #00af00\">11,017</span> (43.04 KB)\n",
       "</pre>\n"
      ],
      "text/plain": [
       "\u001b[1m Trainable params: \u001b[0m\u001b[38;5;34m11,017\u001b[0m (43.04 KB)\n"
      ]
     },
     "metadata": {},
     "output_type": "display_data"
    },
    {
     "data": {
      "text/html": [
       "<pre style=\"white-space:pre;overflow-x:auto;line-height:normal;font-family:Menlo,'DejaVu Sans Mono',consolas,'Courier New',monospace\"><span style=\"font-weight: bold\"> Non-trainable params: </span><span style=\"color: #00af00; text-decoration-color: #00af00\">8</span> (32.00 B)\n",
       "</pre>\n"
      ],
      "text/plain": [
       "\u001b[1m Non-trainable params: \u001b[0m\u001b[38;5;34m8\u001b[0m (32.00 B)\n"
      ]
     },
     "metadata": {},
     "output_type": "display_data"
    }
   ],
   "source": [
    "from keras.callbacks import ModelCheckpoint, EarlyStopping, ReduceLROnPlateau\n",
    "\n",
    "variable_amount = len(X.columns)\n",
    "\n",
    "mc = ModelCheckpoint('best_model_all_states.keras', monitor='val_loss', mode='min', save_best_only=True)\n",
    "\n",
    "callback_list = [mc]\n",
    "\n",
    "model = keras.Sequential(\n",
    "    [\n",
    "        layers.BatchNormalization(input_shape=(variable_amount,)),\n",
    "        layers.Dense(128, activation=\"relu\", kernel_regularizer=keras.regularizers.l1_l2(l1=0.1, l2=0.1)),\n",
    "        layers.Dropout(0.2),\n",
    "        layers.Dense(64, activation=\"relu\"),\n",
    "        layers.Dense(32, activation=\"relu\"),\n",
    "        layers.Dense(1)\n",
    "    ]\n",
    ")\n",
    "\n",
    "model.compile(optimizer='adam', loss='mse')\n",
    "model.summary()"
   ]
  },
  {
   "cell_type": "markdown",
   "id": "fcd245fc",
   "metadata": {},
   "source": [
    "#### Train the neural network"
   ]
  },
  {
   "cell_type": "code",
   "execution_count": 42,
   "id": "9478ae0b",
   "metadata": {},
   "outputs": [
    {
     "name": "stdout",
     "output_type": "stream",
     "text": [
      "Epoch 1/30\n",
      "\u001b[1m3451/3451\u001b[0m \u001b[32m━━━━━━━━━━━━━━━━━━━━\u001b[0m\u001b[37m\u001b[0m \u001b[1m5s\u001b[0m 2ms/step - loss: 4916367589376.0000 - val_loss: 3432153612288.0000\n",
      "Epoch 2/30\n",
      "\u001b[1m3451/3451\u001b[0m \u001b[32m━━━━━━━━━━━━━━━━━━━━\u001b[0m\u001b[37m\u001b[0m \u001b[1m5s\u001b[0m 1ms/step - loss: 4856776491008.0000 - val_loss: 3297362837504.0000\n",
      "Epoch 3/30\n",
      "\u001b[1m3451/3451\u001b[0m \u001b[32m━━━━━━━━━━━━━━━━━━━━\u001b[0m\u001b[37m\u001b[0m \u001b[1m5s\u001b[0m 2ms/step - loss: 4796047163392.0000 - val_loss: 3226655260672.0000\n",
      "Epoch 4/30\n",
      "\u001b[1m3451/3451\u001b[0m \u001b[32m━━━━━━━━━━━━━━━━━━━━\u001b[0m\u001b[37m\u001b[0m \u001b[1m5s\u001b[0m 2ms/step - loss: 4756310327296.0000 - val_loss: 6811722711040.0000\n",
      "Epoch 5/30\n",
      "\u001b[1m3451/3451\u001b[0m \u001b[32m━━━━━━━━━━━━━━━━━━━━\u001b[0m\u001b[37m\u001b[0m \u001b[1m5s\u001b[0m 2ms/step - loss: 4751289745408.0000 - val_loss: 3089631543296.0000\n",
      "Epoch 6/30\n",
      "\u001b[1m3451/3451\u001b[0m \u001b[32m━━━━━━━━━━━━━━━━━━━━\u001b[0m\u001b[37m\u001b[0m \u001b[1m5s\u001b[0m 2ms/step - loss: 4698714144768.0000 - val_loss: 3083701583872.0000\n",
      "Epoch 7/30\n",
      "\u001b[1m3451/3451\u001b[0m \u001b[32m━━━━━━━━━━━━━━━━━━━━\u001b[0m\u001b[37m\u001b[0m \u001b[1m5s\u001b[0m 1ms/step - loss: 4683013816320.0000 - val_loss: 3772429107200.0000\n",
      "Epoch 8/30\n",
      "\u001b[1m3451/3451\u001b[0m \u001b[32m━━━━━━━━━━━━━━━━━━━━\u001b[0m\u001b[37m\u001b[0m \u001b[1m5s\u001b[0m 1ms/step - loss: 4669683793920.0000 - val_loss: 3316258963456.0000\n",
      "Epoch 9/30\n",
      "\u001b[1m3451/3451\u001b[0m \u001b[32m━━━━━━━━━━━━━━━━━━━━\u001b[0m\u001b[37m\u001b[0m \u001b[1m6s\u001b[0m 2ms/step - loss: 4653644251136.0000 - val_loss: 3397913673728.0000\n",
      "Epoch 10/30\n",
      "\u001b[1m3451/3451\u001b[0m \u001b[32m━━━━━━━━━━━━━━━━━━━━\u001b[0m\u001b[37m\u001b[0m \u001b[1m6s\u001b[0m 2ms/step - loss: 4621733986304.0000 - val_loss: 4066391621632.0000\n",
      "Epoch 11/30\n",
      "\u001b[1m3451/3451\u001b[0m \u001b[32m━━━━━━━━━━━━━━━━━━━━\u001b[0m\u001b[37m\u001b[0m \u001b[1m6s\u001b[0m 2ms/step - loss: 4634830700544.0000 - val_loss: 11187888586752.0000\n",
      "Epoch 12/30\n",
      "\u001b[1m3451/3451\u001b[0m \u001b[32m━━━━━━━━━━━━━━━━━━━━\u001b[0m\u001b[37m\u001b[0m \u001b[1m5s\u001b[0m 2ms/step - loss: 4600035803136.0000 - val_loss: 3580018819072.0000\n",
      "Epoch 13/30\n",
      "\u001b[1m3451/3451\u001b[0m \u001b[32m━━━━━━━━━━━━━━━━━━━━\u001b[0m\u001b[37m\u001b[0m \u001b[1m5s\u001b[0m 2ms/step - loss: 4576650461184.0000 - val_loss: 4448217202688.0000\n",
      "Epoch 14/30\n",
      "\u001b[1m3451/3451\u001b[0m \u001b[32m━━━━━━━━━━━━━━━━━━━━\u001b[0m\u001b[37m\u001b[0m \u001b[1m5s\u001b[0m 2ms/step - loss: 4590705049600.0000 - val_loss: 3936999440384.0000\n",
      "Epoch 15/30\n",
      "\u001b[1m3451/3451\u001b[0m \u001b[32m━━━━━━━━━━━━━━━━━━━━\u001b[0m\u001b[37m\u001b[0m \u001b[1m7s\u001b[0m 2ms/step - loss: 4611255566336.0000 - val_loss: 3871831490560.0000\n",
      "Epoch 16/30\n",
      "\u001b[1m3451/3451\u001b[0m \u001b[32m━━━━━━━━━━━━━━━━━━━━\u001b[0m\u001b[37m\u001b[0m \u001b[1m8s\u001b[0m 2ms/step - loss: 4594602606592.0000 - val_loss: 5699348201472.0000\n",
      "Epoch 17/30\n",
      "\u001b[1m3451/3451\u001b[0m \u001b[32m━━━━━━━━━━━━━━━━━━━━\u001b[0m\u001b[37m\u001b[0m \u001b[1m7s\u001b[0m 2ms/step - loss: 4535164076032.0000 - val_loss: 5724232482816.0000\n",
      "Epoch 18/30\n",
      "\u001b[1m3451/3451\u001b[0m \u001b[32m━━━━━━━━━━━━━━━━━━━━\u001b[0m\u001b[37m\u001b[0m \u001b[1m6s\u001b[0m 2ms/step - loss: 4591792422912.0000 - val_loss: 5880322457600.0000\n",
      "Epoch 19/30\n",
      "\u001b[1m3451/3451\u001b[0m \u001b[32m━━━━━━━━━━━━━━━━━━━━\u001b[0m\u001b[37m\u001b[0m \u001b[1m5s\u001b[0m 2ms/step - loss: 4593528864768.0000 - val_loss: 6462005313536.0000\n",
      "Epoch 20/30\n",
      "\u001b[1m3451/3451\u001b[0m \u001b[32m━━━━━━━━━━━━━━━━━━━━\u001b[0m\u001b[37m\u001b[0m \u001b[1m6s\u001b[0m 2ms/step - loss: 4537220333568.0000 - val_loss: 5543468466176.0000\n",
      "Epoch 21/30\n",
      "\u001b[1m3451/3451\u001b[0m \u001b[32m━━━━━━━━━━━━━━━━━━━━\u001b[0m\u001b[37m\u001b[0m \u001b[1m6s\u001b[0m 2ms/step - loss: 4563859406848.0000 - val_loss: 8033153318912.0000\n",
      "Epoch 22/30\n",
      "\u001b[1m3451/3451\u001b[0m \u001b[32m━━━━━━━━━━━━━━━━━━━━\u001b[0m\u001b[37m\u001b[0m \u001b[1m5s\u001b[0m 2ms/step - loss: 4537056755712.0000 - val_loss: 6635439259648.0000\n",
      "Epoch 23/30\n",
      "\u001b[1m3451/3451\u001b[0m \u001b[32m━━━━━━━━━━━━━━━━━━━━\u001b[0m\u001b[37m\u001b[0m \u001b[1m5s\u001b[0m 2ms/step - loss: 4508140699648.0000 - val_loss: 8312033640448.0000\n",
      "Epoch 24/30\n",
      "\u001b[1m3451/3451\u001b[0m \u001b[32m━━━━━━━━━━━━━━━━━━━━\u001b[0m\u001b[37m\u001b[0m \u001b[1m5s\u001b[0m 2ms/step - loss: 4510563434496.0000 - val_loss: 9603216572416.0000\n",
      "Epoch 25/30\n",
      "\u001b[1m3451/3451\u001b[0m \u001b[32m━━━━━━━━━━━━━━━━━━━━\u001b[0m\u001b[37m\u001b[0m \u001b[1m5s\u001b[0m 2ms/step - loss: 4532921171968.0000 - val_loss: 8673987919872.0000\n",
      "Epoch 26/30\n",
      "\u001b[1m3451/3451\u001b[0m \u001b[32m━━━━━━━━━━━━━━━━━━━━\u001b[0m\u001b[37m\u001b[0m \u001b[1m5s\u001b[0m 2ms/step - loss: 4515498033152.0000 - val_loss: 8453535301632.0000\n",
      "Epoch 27/30\n",
      "\u001b[1m3451/3451\u001b[0m \u001b[32m━━━━━━━━━━━━━━━━━━━━\u001b[0m\u001b[37m\u001b[0m \u001b[1m5s\u001b[0m 2ms/step - loss: 4512310362112.0000 - val_loss: 7169272971264.0000\n",
      "Epoch 28/30\n",
      "\u001b[1m3451/3451\u001b[0m \u001b[32m━━━━━━━━━━━━━━━━━━━━\u001b[0m\u001b[37m\u001b[0m \u001b[1m5s\u001b[0m 2ms/step - loss: 4503885053952.0000 - val_loss: 7830627155968.0000\n",
      "Epoch 29/30\n",
      "\u001b[1m3451/3451\u001b[0m \u001b[32m━━━━━━━━━━━━━━━━━━━━\u001b[0m\u001b[37m\u001b[0m \u001b[1m5s\u001b[0m 2ms/step - loss: 4509370155008.0000 - val_loss: 9955441639424.0000\n",
      "Epoch 30/30\n",
      "\u001b[1m3451/3451\u001b[0m \u001b[32m━━━━━━━━━━━━━━━━━━━━\u001b[0m\u001b[37m\u001b[0m \u001b[1m5s\u001b[0m 2ms/step - loss: 4519616315392.0000 - val_loss: 10708704034816.0000\n"
     ]
    },
    {
     "data": {
      "text/plain": [
       "<keras.src.callbacks.history.History at 0x208689bfa70>"
      ]
     },
     "execution_count": 42,
     "metadata": {},
     "output_type": "execute_result"
    }
   ],
   "source": [
    "model.fit(x=X_train, y=y_train, epochs=30, validation_data=(X_val, y_val), callbacks=callback_list)"
   ]
  },
  {
   "cell_type": "markdown",
   "id": "888eb7c8",
   "metadata": {},
   "source": [
    "#### Performance and Error Metrics"
   ]
  },
  {
   "cell_type": "code",
   "execution_count": 43,
   "id": "207e98d4",
   "metadata": {},
   "outputs": [
    {
     "data": {
      "text/plain": [
       "<Axes: >"
      ]
     },
     "execution_count": 43,
     "metadata": {},
     "output_type": "execute_result"
    },
    {
     "data": {
      "image/png": "[encoded data removed]",
      "text/plain": [
       "<Figure size 640x480 with 1 Axes>"
      ]
     },
     "metadata": {},
     "output_type": "display_data"
    }
   ],
   "source": [
    "loss_df = pd.DataFrame(model.history.history)\n",
    "loss_df.plot()"
   ]
  },
  {
   "cell_type": "markdown",
   "id": "a43a15bb",
   "metadata": {},
   "source": [
    "#### Load the best model version"
   ]
  },
  {
   "cell_type": "code",
   "execution_count": 44,
   "id": "b7ae804f",
   "metadata": {},
   "outputs": [],
   "source": [
    "from keras.models import load_model\n",
    "model = load_model(\"best_model_all_states.keras\")"
   ]
  },
  {
   "cell_type": "code",
   "execution_count": 45,
   "id": "220146bf",
   "metadata": {},
   "outputs": [
    {
     "name": "stdout",
     "output_type": "stream",
     "text": [
      "Test data evaluation:\n",
      "2555277213696.0\n",
      "\n",
      "Train data evaluation:\n",
      "4797672456192.0\n"
     ]
    }
   ],
   "source": [
    "print(\"Test data evaluation:\")\n",
    "print(model.evaluate(X_test, y_test, verbose=0))\n",
    "print(\"\\nTrain data evaluation:\")\n",
    "print(model.evaluate(X_train, y_train, verbose=0))"
   ]
  },
  {
   "cell_type": "code",
   "execution_count": 46,
   "id": "47e5b7f5",
   "metadata": {},
   "outputs": [
    {
     "name": "stdout",
     "output_type": "stream",
     "text": [
      "\u001b[1m740/740\u001b[0m \u001b[32m━━━━━━━━━━━━━━━━━━━━\u001b[0m\u001b[37m\u001b[0m \u001b[1m1s\u001b[0m 804us/step\n"
     ]
    },
    {
     "data": {
      "application/vnd.microsoft.datawrangler.viewer.v0+json": {
       "columns": [
        {
         "name": "index",
         "rawType": "int64",
         "type": "integer"
        },
        {
         "name": "Test True Y",
         "rawType": "float64",
         "type": "float"
        },
        {
         "name": "Model Predictions",
         "rawType": "float32",
         "type": "float"
        }
       ],
       "ref": "a91bfe4f-acab-441c-96f8-638adc538063",
       "rows": [
        [
         "0",
         "700000.0",
         "706870.8"
        ],
        [
         "1",
         "1295000.0",
         "654027.1"
        ],
        [
         "2",
         "685000.0",
         "1.0378764e+06"
        ],
        [
         "3",
         "375000.0",
         "625746.0"
        ],
        [
         "4",
         "1199900.0",
         "1.087484e+06"
        ],
        [
         "5",
         "225000.0",
         "629604.75"
        ],
        [
         "6",
         "339500.0",
         "735557.5"
        ],
        [
         "7",
         "613000.0",
         "783490.0"
        ],
        [
         "8",
         "905000.0",
         "620947.9"
        ],
        [
         "9",
         "485000.0",
         "630065.75"
        ],
        [
         "10",
         "4995000.0",
         "4.8717285e+06"
        ],
        [
         "11",
         "632000.0",
         "620268.7"
        ],
        [
         "12",
         "949000.0",
         "742956.6"
        ],
        [
         "13",
         "699000.0",
         "646746.4"
        ],
        [
         "14",
         "899000.0",
         "955211.9"
        ],
        [
         "15",
         "319000.0",
         "652870.75"
        ],
        [
         "16",
         "693000.0",
         "963703.1"
        ],
        [
         "17",
         "899000.0",
         "632910.4"
        ],
        [
         "18",
         "550000.0",
         "856636.6"
        ],
        [
         "19",
         "599900.0",
         "898460.6"
        ],
        [
         "20",
         "2370000.0",
         "1.5549836e+06"
        ],
        [
         "21",
         "521000.0",
         "678717.2"
        ],
        [
         "22",
         "710000.0",
         "841352.1"
        ],
        [
         "23",
         "505000.0",
         "646420.1"
        ],
        [
         "24",
         "2600000.0",
         "4.0889978e+06"
        ],
        [
         "25",
         "349500.0",
         "812681.0"
        ],
        [
         "26",
         "2489000.0",
         "4.436334e+06"
        ],
        [
         "27",
         "1295000.0",
         "621140.9"
        ],
        [
         "28",
         "950000.0",
         "708997.9"
        ],
        [
         "29",
         "1049000.0",
         "1.0125554e+06"
        ],
        [
         "30",
         "449000.0",
         "752426.4"
        ],
        [
         "31",
         "1195000.0",
         "914933.6"
        ],
        [
         "32",
         "849000.0",
         "805066.7"
        ],
        [
         "33",
         "469995.0",
         "677860.75"
        ],
        [
         "34",
         "1200000.0",
         "811503.9"
        ],
        [
         "35",
         "250000.0",
         "626920.7"
        ],
        [
         "36",
         "775000.0",
         "618462.2"
        ],
        [
         "37",
         "575000.0",
         "631618.75"
        ],
        [
         "38",
         "5199000.0",
         "1.4731786e+06"
        ],
        [
         "39",
         "1249999.0",
         "757718.4"
        ],
        [
         "40",
         "780000.0",
         "934301.1"
        ],
        [
         "41",
         "799000.0",
         "695669.75"
        ],
        [
         "42",
         "1050000.0",
         "1.3221514e+06"
        ],
        [
         "43",
         "489900.0",
         "1.2692348e+06"
        ],
        [
         "44",
         "2500000.0",
         "1.3728724e+06"
        ],
        [
         "45",
         "8250000.0",
         "6.4361275e+06"
        ],
        [
         "46",
         "270000.0",
         "666453.06"
        ],
        [
         "47",
         "788000.0",
         "633553.5"
        ],
        [
         "48",
         "489900.0",
         "664864.75"
        ],
        [
         "49",
         "742000.0",
         "808353.9"
        ]
       ],
       "shape": {
        "columns": 2,
        "rows": 23659
       }
      },
      "text/html": [
       "<div>\n",
       "<style scoped>\n",
       "    .dataframe tbody tr th:only-of-type {\n",
       "        vertical-align: middle;\n",
       "    }\n",
       "\n",
       "    .dataframe tbody tr th {\n",
       "        vertical-align: top;\n",
       "    }\n",
       "\n",
       "    .dataframe thead th {\n",
       "        text-align: right;\n",
       "    }\n",
       "</style>\n",
       "<table border=\"1\" class=\"dataframe\">\n",
       "  <thead>\n",
       "    <tr style=\"text-align: right;\">\n",
       "      <th></th>\n",
       "      <th>Test True Y</th>\n",
       "      <th>Model Predictions</th>\n",
       "    </tr>\n",
       "  </thead>\n",
       "  <tbody>\n",
       "    <tr>\n",
       "      <th>0</th>\n",
       "      <td>700000.00</td>\n",
       "      <td>706870.81</td>\n",
       "    </tr>\n",
       "    <tr>\n",
       "      <th>1</th>\n",
       "      <td>1295000.00</td>\n",
       "      <td>654027.12</td>\n",
       "    </tr>\n",
       "    <tr>\n",
       "      <th>2</th>\n",
       "      <td>685000.00</td>\n",
       "      <td>1037876.38</td>\n",
       "    </tr>\n",
       "    <tr>\n",
       "      <th>3</th>\n",
       "      <td>375000.00</td>\n",
       "      <td>625746.00</td>\n",
       "    </tr>\n",
       "    <tr>\n",
       "      <th>4</th>\n",
       "      <td>1199900.00</td>\n",
       "      <td>1087484.00</td>\n",
       "    </tr>\n",
       "    <tr>\n",
       "      <th>...</th>\n",
       "      <td>...</td>\n",
       "      <td>...</td>\n",
       "    </tr>\n",
       "    <tr>\n",
       "      <th>23654</th>\n",
       "      <td>988888.00</td>\n",
       "      <td>849833.88</td>\n",
       "    </tr>\n",
       "    <tr>\n",
       "      <th>23655</th>\n",
       "      <td>825000.00</td>\n",
       "      <td>1250649.38</td>\n",
       "    </tr>\n",
       "    <tr>\n",
       "      <th>23656</th>\n",
       "      <td>575000.00</td>\n",
       "      <td>663247.62</td>\n",
       "    </tr>\n",
       "    <tr>\n",
       "      <th>23657</th>\n",
       "      <td>1650000.00</td>\n",
       "      <td>760834.00</td>\n",
       "    </tr>\n",
       "    <tr>\n",
       "      <th>23658</th>\n",
       "      <td>789000.00</td>\n",
       "      <td>624845.88</td>\n",
       "    </tr>\n",
       "  </tbody>\n",
       "</table>\n",
       "<p>23659 rows × 2 columns</p>\n",
       "</div>"
      ],
      "text/plain": [
       "       Test True Y  Model Predictions\n",
       "0        700000.00          706870.81\n",
       "1       1295000.00          654027.12\n",
       "2        685000.00         1037876.38\n",
       "3        375000.00          625746.00\n",
       "4       1199900.00         1087484.00\n",
       "...            ...                ...\n",
       "23654    988888.00          849833.88\n",
       "23655    825000.00         1250649.38\n",
       "23656    575000.00          663247.62\n",
       "23657   1650000.00          760834.00\n",
       "23658    789000.00          624845.88\n",
       "\n",
       "[23659 rows x 2 columns]"
      ]
     },
     "execution_count": 46,
     "metadata": {},
     "output_type": "execute_result"
    }
   ],
   "source": [
    "test_predictions = model.predict(X_test)\n",
    "\n",
    "test_predictions = pd.Series(test_predictions.reshape(len(y_test),))\n",
    "pred_df = pd.DataFrame(np.asarray(y_test), columns=['Test True Y'])\n",
    "pred_df = pd.concat([pred_df, test_predictions], axis=1)\n",
    "pred_df.columns = ['Test True Y', 'Model Predictions']\n",
    "\n",
    "pred_df"
   ]
  },
  {
   "cell_type": "code",
   "execution_count": 47,
   "id": "51849e17",
   "metadata": {},
   "outputs": [
    {
     "data": {
      "text/plain": [
       "<Axes: xlabel='Test True Y', ylabel='Model Predictions'>"
      ]
     },
     "execution_count": 47,
     "metadata": {},
     "output_type": "execute_result"
    },
    {
     "data": {
      "image/png": "[encoded data removed]",
      "text/plain": [
       "<Figure size 640x480 with 1 Axes>"
      ]
     },
     "metadata": {},
     "output_type": "display_data"
    }
   ],
   "source": [
    "sns.scatterplot(x='Test True Y', y='Model Predictions', data=pred_df)"
   ]
  },
  {
   "cell_type": "code",
   "execution_count": 48,
   "id": "1acb9536",
   "metadata": {},
   "outputs": [
    {
     "name": "stdout",
     "output_type": "stream",
     "text": [
      "MAE\n",
      "491140.17 $\n",
      "\n",
      "MSE\n",
      "2555277161930.79 $^2\n",
      "\n",
      "RMSE:\n",
      "1598523.43 $\n",
      "\n",
      "R-squared:\n",
      "0.04\n",
      "\n",
      "Explained variance score:\n",
      "0.04\n"
     ]
    }
   ],
   "source": [
    "print(\"MAE\")\n",
    "print(round(metrics.mean_absolute_error(y_test, test_predictions), 2), \"$\")\n",
    "\n",
    "print(\"\\nMSE\")\n",
    "print(round(metrics.mean_squared_error(y_test, test_predictions), 2), \"$^2\")\n",
    "\n",
    "print('\\nRMSE:')\n",
    "print(round(np.sqrt(metrics.mean_squared_error(y_test, test_predictions)), 2), \"$\")\n",
    "\n",
    "print('\\nR-squared:')\n",
    "print(round(metrics.r2_score(y_test, test_predictions), 2))\n",
    "\n",
    "print(\"\\nExplained variance score:\")\n",
    "print(round(metrics.explained_variance_score(y_test, test_predictions), 2))"
   ]
  },
  {
   "cell_type": "code",
   "execution_count": 54,
   "id": "0ef2c34c",
   "metadata": {},
   "outputs": [
    {
     "name": "stderr",
     "output_type": "stream",
     "text": [
      "C:\\Users\\Timothy\\AppData\\Local\\Temp\\ipykernel_14652\\3264322254.py:1: UserWarning: \n",
      "\n",
      "`distplot` is a deprecated function and will be removed in seaborn v0.14.0.\n",
      "\n",
      "Please adapt your code to use either `displot` (a figure-level function with\n",
      "similar flexibility) or `histplot` (an axes-level function for histograms).\n",
      "\n",
      "For a guide to updating your code to use the new functions, please see\n",
      "https://gist.github.com/mwaskom/de44147ed2974457ad6372750bbe5751\n",
      "\n",
      "  sns.distplot((y_test - test_predictions))\n",
      "d:\\5. Semester\\Deep Learning\\DL-projects\\venv312\\Lib\\site-packages\\seaborn\\distributions.py:2464: RuntimeWarning: Mean of empty slice.\n",
      "  line, = ax.plot(a.mean(), 0)\n",
      "d:\\5. Semester\\Deep Learning\\DL-projects\\venv312\\Lib\\site-packages\\numpy\\_core\\_methods.py:144: RuntimeWarning: invalid value encountered in scalar divide\n",
      "  ret = ret.dtype.type(ret / rcount)\n",
      "d:\\5. Semester\\Deep Learning\\DL-projects\\venv312\\Lib\\site-packages\\numpy\\lib\\_histograms_impl.py:897: RuntimeWarning: invalid value encountered in divide\n",
      "  return n / db / n.sum(), bin_edges\n"
     ]
    },
    {
     "data": {
      "image/png": "[encoded data removed]",
      "text/plain": [
       "<Figure size 640x480 with 1 Axes>"
      ]
     },
     "metadata": {},
     "output_type": "display_data"
    }
   ],
   "source": [
    "sns.distplot((y_test - test_predictions))\n",
    "plt.show()\n",
    "plt.close()"
   ]
  },
  {
   "cell_type": "code",
   "execution_count": 51,
   "id": "b5244ca4",
   "metadata": {},
   "outputs": [
    {
     "data": {
      "text/plain": [
       "Index(['price', 'bed', 'bath', 'acre_lot', 'house_size'], dtype='object')"
      ]
     },
     "execution_count": 51,
     "metadata": {},
     "output_type": "execute_result"
    }
   ],
   "source": [
    "df.columns"
   ]
  },
  {
   "cell_type": "markdown",
   "id": "7c0b8e28",
   "metadata": {},
   "source": [
    "#### Trying the model in practice with new imaginery house"
   ]
  },
  {
   "cell_type": "code",
   "execution_count": 52,
   "id": "1536d7aa",
   "metadata": {},
   "outputs": [],
   "source": [
    "tester_row = {\n",
    "    \"bed\": 4,\n",
    "    \"bath\": 3,\n",
    "    \"acre_lot\": 0.14,\n",
    "    \"house_size\": 3054.0,\n",
    "}\n",
    "\n",
    "tester_row = pd.DataFrame([tester_row])"
   ]
  },
  {
   "cell_type": "code",
   "execution_count": 53,
   "id": "76472993",
   "metadata": {},
   "outputs": [
    {
     "name": "stdout",
     "output_type": "stream",
     "text": [
      "\u001b[1m1/1\u001b[0m \u001b[32m━━━━━━━━━━━━━━━━━━━━\u001b[0m\u001b[37m\u001b[0m \u001b[1m0s\u001b[0m 39ms/step\n",
      "\n",
      "Estimated house price:\n",
      "$ 1224490.38\n",
      "----------------\n"
     ]
    }
   ],
   "source": [
    "result = model.predict(tester_row)[0]\n",
    "\n",
    "print()\n",
    "print(f\"Estimated house price:\")\n",
    "print(f\"$ {round(float(result[0]), 2)}\")\n",
    "print(\"----------------\")"
   ]
  }
 ],
 "metadata": {
  "kernelspec": {
   "display_name": "venv312 (3.12.10)",
   "language": "python",
   "name": "python3"
  },
  "language_info": {
   "codemirror_mode": {
    "name": "ipython",
    "version": 3
   },
   "file_extension": ".py",
   "mimetype": "text/x-python",
   "name": "python",
   "nbconvert_exporter": "python",
   "pygments_lexer": "ipython3",
   "version": "3.12.10"
  }
 },
 "nbformat": 4,
 "nbformat_minor": 5
}

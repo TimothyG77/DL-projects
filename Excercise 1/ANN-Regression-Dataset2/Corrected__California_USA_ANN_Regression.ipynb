{
 "cells": [
  {
   "cell_type": "markdown",
   "id": "e627bb6e",
   "metadata": {},
   "source": [
    "#### California - USA Houseprices - Dataset 2 - Corrected - Excercise 1 - Timothy Gregorian"
   ]
  },
  {
   "cell_type": "markdown",
   "id": "b564aa42",
   "metadata": {},
   "source": [
    "In this project, I used the same U.S. housing dataset as before (All_States_USA_ANN_Regression.ipynb) but focused only on the US state California. The goal was to test whether reducing the variable state to one state could improve the overall model performance and increase the R² score compared to using all states."
   ]
  },
  {
   "cell_type": "markdown",
   "id": "50ee75d9",
   "metadata": {},
   "source": [
    "#### Note\n",
    "Throughout the project, I followed the lecturer’s GitHub code structure and methodology as closely as possible, and only used AI and external sources when no examples were available in the provided GitHub scripts."
   ]
  },
  {
   "cell_type": "markdown",
   "id": "7ece0530",
   "metadata": {},
   "source": [
    "#### Link to Dataset 2\n",
    "https://www.kaggle.com/datasets/ahmedshahriarsakib/usa-real-estate-dataset"
   ]
  },
  {
   "cell_type": "markdown",
   "id": "bf04415d",
   "metadata": {},
   "source": [
    "#### Information about the Dataset\n",
    "This USA Housing Market Dataset contains around 2.2 million rows and 12 columns of real-estate related data, which can be used for housing price predictions."
   ]
  },
  {
   "cell_type": "markdown",
   "id": "17cc1a49",
   "metadata": {},
   "source": [
    "#### Data Description\n",
    "The dataset contains thousands of housing records from different U.S. states and includes multiple variables that can affect property prices. Some of the key variables are:\n",
    "\n",
    "1) brokered_by: Real estate agency or broker responsible for the listing.\n",
    "\n",
    "2) status: Current status of the property.\n",
    "\n",
    "3) price: Selling price of the house -> target variable.\n",
    "\n",
    "4) bed: Number of bedrooms.\n",
    "\n",
    "5) bath: Number of bathrooms.\n",
    "\n",
    "6) acre_lot: Lot size in acres.\n",
    "\n",
    "7) street: Street address of the property.\n",
    "\n",
    "8) city: City where the house is located.\n",
    "\n",
    "9) state: State where the house is located.\n",
    "\n",
    "10) zip_code: Postal code of the property.\n",
    "\n",
    "11) house_size: Total living area of the house in square feet.\n",
    "\n",
    "12) prev_sold_date: Date when the property was previously sold."
   ]
  },
  {
   "cell_type": "markdown",
   "id": "c460e0a4",
   "metadata": {},
   "source": [
    "#### Imports / Modules"
   ]
  },
  {
   "cell_type": "code",
   "execution_count": 1,
   "id": "538767bf",
   "metadata": {},
   "outputs": [],
   "source": [
    "import pandas as pd\n",
    "import numpy as np\n",
    "import matplotlib.pyplot as plt\n",
    "import seaborn as sns\n",
    "from sklearn.model_selection import train_test_split\n",
    "from sklearn import metrics\n",
    "\n",
    "import tensorflow as tf\n",
    "import keras\n",
    "from keras import layers"
   ]
  },
  {
   "cell_type": "markdown",
   "id": "5168e493",
   "metadata": {},
   "source": [
    "#### Loading the dataset"
   ]
  },
  {
   "cell_type": "code",
   "execution_count": 5,
   "id": "688c497d",
   "metadata": {},
   "outputs": [
    {
     "data": {
      "application/vnd.microsoft.datawrangler.viewer.v0+json": {
       "columns": [
        {
         "name": "index",
         "rawType": "int64",
         "type": "integer"
        },
        {
         "name": "brokered_by",
         "rawType": "float64",
         "type": "float"
        },
        {
         "name": "status",
         "rawType": "object",
         "type": "string"
        },
        {
         "name": "price",
         "rawType": "float64",
         "type": "float"
        },
        {
         "name": "bed",
         "rawType": "float64",
         "type": "float"
        },
        {
         "name": "bath",
         "rawType": "float64",
         "type": "float"
        },
        {
         "name": "acre_lot",
         "rawType": "float64",
         "type": "float"
        },
        {
         "name": "street",
         "rawType": "float64",
         "type": "float"
        },
        {
         "name": "city",
         "rawType": "object",
         "type": "string"
        },
        {
         "name": "state",
         "rawType": "object",
         "type": "string"
        },
        {
         "name": "zip_code",
         "rawType": "float64",
         "type": "float"
        },
        {
         "name": "house_size",
         "rawType": "float64",
         "type": "float"
        },
        {
         "name": "prev_sold_date",
         "rawType": "object",
         "type": "unknown"
        }
       ],
       "ref": "40288dee-bb6b-4060-a847-0701cc92c859",
       "rows": [
        [
         "0",
         "103378.0",
         "for_sale",
         "105000.0",
         "3.0",
         "2.0",
         "0.12",
         "1962661.0",
         "Adjuntas",
         "Puerto Rico",
         "601.0",
         "920.0",
         null
        ],
        [
         "1",
         "52707.0",
         "for_sale",
         "80000.0",
         "4.0",
         "2.0",
         "0.08",
         "1902874.0",
         "Adjuntas",
         "Puerto Rico",
         "601.0",
         "1527.0",
         null
        ],
        [
         "2",
         "103379.0",
         "for_sale",
         "67000.0",
         "2.0",
         "1.0",
         "0.15",
         "1404990.0",
         "Juana Diaz",
         "Puerto Rico",
         "795.0",
         "748.0",
         null
        ],
        [
         "3",
         "31239.0",
         "for_sale",
         "145000.0",
         "4.0",
         "2.0",
         "0.1",
         "1947675.0",
         "Ponce",
         "Puerto Rico",
         "731.0",
         "1800.0",
         null
        ],
        [
         "4",
         "34632.0",
         "for_sale",
         "65000.0",
         "6.0",
         "2.0",
         "0.05",
         "331151.0",
         "Mayaguez",
         "Puerto Rico",
         "680.0",
         null,
         null
        ]
       ],
       "shape": {
        "columns": 12,
        "rows": 5
       }
      },
      "text/html": [
       "<div>\n",
       "<style scoped>\n",
       "    .dataframe tbody tr th:only-of-type {\n",
       "        vertical-align: middle;\n",
       "    }\n",
       "\n",
       "    .dataframe tbody tr th {\n",
       "        vertical-align: top;\n",
       "    }\n",
       "\n",
       "    .dataframe thead th {\n",
       "        text-align: right;\n",
       "    }\n",
       "</style>\n",
       "<table border=\"1\" class=\"dataframe\">\n",
       "  <thead>\n",
       "    <tr style=\"text-align: right;\">\n",
       "      <th></th>\n",
       "      <th>brokered_by</th>\n",
       "      <th>status</th>\n",
       "      <th>price</th>\n",
       "      <th>bed</th>\n",
       "      <th>bath</th>\n",
       "      <th>acre_lot</th>\n",
       "      <th>street</th>\n",
       "      <th>city</th>\n",
       "      <th>state</th>\n",
       "      <th>zip_code</th>\n",
       "      <th>house_size</th>\n",
       "      <th>prev_sold_date</th>\n",
       "    </tr>\n",
       "  </thead>\n",
       "  <tbody>\n",
       "    <tr>\n",
       "      <th>0</th>\n",
       "      <td>103378.0</td>\n",
       "      <td>for_sale</td>\n",
       "      <td>105000.0</td>\n",
       "      <td>3.0</td>\n",
       "      <td>2.0</td>\n",
       "      <td>0.12</td>\n",
       "      <td>1962661.0</td>\n",
       "      <td>Adjuntas</td>\n",
       "      <td>Puerto Rico</td>\n",
       "      <td>601.0</td>\n",
       "      <td>920.0</td>\n",
       "      <td>NaN</td>\n",
       "    </tr>\n",
       "    <tr>\n",
       "      <th>1</th>\n",
       "      <td>52707.0</td>\n",
       "      <td>for_sale</td>\n",
       "      <td>80000.0</td>\n",
       "      <td>4.0</td>\n",
       "      <td>2.0</td>\n",
       "      <td>0.08</td>\n",
       "      <td>1902874.0</td>\n",
       "      <td>Adjuntas</td>\n",
       "      <td>Puerto Rico</td>\n",
       "      <td>601.0</td>\n",
       "      <td>1527.0</td>\n",
       "      <td>NaN</td>\n",
       "    </tr>\n",
       "    <tr>\n",
       "      <th>2</th>\n",
       "      <td>103379.0</td>\n",
       "      <td>for_sale</td>\n",
       "      <td>67000.0</td>\n",
       "      <td>2.0</td>\n",
       "      <td>1.0</td>\n",
       "      <td>0.15</td>\n",
       "      <td>1404990.0</td>\n",
       "      <td>Juana Diaz</td>\n",
       "      <td>Puerto Rico</td>\n",
       "      <td>795.0</td>\n",
       "      <td>748.0</td>\n",
       "      <td>NaN</td>\n",
       "    </tr>\n",
       "    <tr>\n",
       "      <th>3</th>\n",
       "      <td>31239.0</td>\n",
       "      <td>for_sale</td>\n",
       "      <td>145000.0</td>\n",
       "      <td>4.0</td>\n",
       "      <td>2.0</td>\n",
       "      <td>0.10</td>\n",
       "      <td>1947675.0</td>\n",
       "      <td>Ponce</td>\n",
       "      <td>Puerto Rico</td>\n",
       "      <td>731.0</td>\n",
       "      <td>1800.0</td>\n",
       "      <td>NaN</td>\n",
       "    </tr>\n",
       "    <tr>\n",
       "      <th>4</th>\n",
       "      <td>34632.0</td>\n",
       "      <td>for_sale</td>\n",
       "      <td>65000.0</td>\n",
       "      <td>6.0</td>\n",
       "      <td>2.0</td>\n",
       "      <td>0.05</td>\n",
       "      <td>331151.0</td>\n",
       "      <td>Mayaguez</td>\n",
       "      <td>Puerto Rico</td>\n",
       "      <td>680.0</td>\n",
       "      <td>NaN</td>\n",
       "      <td>NaN</td>\n",
       "    </tr>\n",
       "  </tbody>\n",
       "</table>\n",
       "</div>"
      ],
      "text/plain": [
       "   brokered_by    status     price  bed  bath  acre_lot     street  \\\n",
       "0     103378.0  for_sale  105000.0  3.0   2.0      0.12  1962661.0   \n",
       "1      52707.0  for_sale   80000.0  4.0   2.0      0.08  1902874.0   \n",
       "2     103379.0  for_sale   67000.0  2.0   1.0      0.15  1404990.0   \n",
       "3      31239.0  for_sale  145000.0  4.0   2.0      0.10  1947675.0   \n",
       "4      34632.0  for_sale   65000.0  6.0   2.0      0.05   331151.0   \n",
       "\n",
       "         city        state  zip_code  house_size prev_sold_date  \n",
       "0    Adjuntas  Puerto Rico     601.0       920.0            NaN  \n",
       "1    Adjuntas  Puerto Rico     601.0      1527.0            NaN  \n",
       "2  Juana Diaz  Puerto Rico     795.0       748.0            NaN  \n",
       "3       Ponce  Puerto Rico     731.0      1800.0            NaN  \n",
       "4    Mayaguez  Puerto Rico     680.0         NaN            NaN  "
      ]
     },
     "execution_count": 5,
     "metadata": {},
     "output_type": "execute_result"
    }
   ],
   "source": [
    "df = pd.read_csv(\"realtor-data.zip.csv\")\n",
    "df.head()"
   ]
  },
  {
   "cell_type": "markdown",
   "id": "a55fa14c",
   "metadata": {},
   "source": [
    "#### Handle missing values\n",
    "We have many missing values:"
   ]
  },
  {
   "cell_type": "code",
   "execution_count": 6,
   "id": "38e5bf51",
   "metadata": {},
   "outputs": [
    {
     "data": {
      "application/vnd.microsoft.datawrangler.viewer.v0+json": {
       "columns": [
        {
         "name": "index",
         "rawType": "object",
         "type": "string"
        },
        {
         "name": "0",
         "rawType": "int64",
         "type": "integer"
        }
       ],
       "ref": "3820e13d-da08-4e12-8664-b19acabb894b",
       "rows": [
        [
         "brokered_by",
         "4533"
        ],
        [
         "status",
         "0"
        ],
        [
         "price",
         "1541"
        ],
        [
         "bed",
         "481317"
        ],
        [
         "bath",
         "511771"
        ],
        [
         "acre_lot",
         "325589"
        ],
        [
         "street",
         "10866"
        ],
        [
         "city",
         "1407"
        ],
        [
         "state",
         "8"
        ],
        [
         "zip_code",
         "299"
        ],
        [
         "house_size",
         "568484"
        ],
        [
         "prev_sold_date",
         "734297"
        ]
       ],
       "shape": {
        "columns": 1,
        "rows": 12
       }
      },
      "text/plain": [
       "brokered_by         4533\n",
       "status                 0\n",
       "price               1541\n",
       "bed               481317\n",
       "bath              511771\n",
       "acre_lot          325589\n",
       "street             10866\n",
       "city                1407\n",
       "state                  8\n",
       "zip_code             299\n",
       "house_size        568484\n",
       "prev_sold_date    734297\n",
       "dtype: int64"
      ]
     },
     "execution_count": 6,
     "metadata": {},
     "output_type": "execute_result"
    }
   ],
   "source": [
    "df.isna().sum()"
   ]
  },
  {
   "cell_type": "markdown",
   "id": "6a8f2c2a",
   "metadata": {},
   "source": [
    "#### AI was used in this code cell\n",
    "I used AI fo this code cell, to find the optimal code for sampling only data for the state \"California\":"
   ]
  },
  {
   "cell_type": "code",
   "execution_count": 7,
   "id": "1482ac33",
   "metadata": {},
   "outputs": [
    {
     "name": "stdout",
     "output_type": "stream",
     "text": [
      "Shape after removing missing values: (1084909, 12)\n",
      "Shape after filtering for California: (157724, 12)\n"
     ]
    }
   ],
   "source": [
    "core_cols = ['brokered_by', 'status', 'price', 'bed', 'bath', 'acre_lot',\n",
    "             'street', 'city', 'state', 'zip_code', 'house_size', 'prev_sold_date']\n",
    "df = df.dropna(subset=core_cols)\n",
    "\n",
    "print(\"Shape after removing missing values:\", df.shape)\n",
    "\n",
    "df = df[df['state'] == \"California\"]\n",
    "\n",
    "print(\"Shape after filtering for California:\", df.shape)\n"
   ]
  },
  {
   "cell_type": "markdown",
   "id": "ca48a539",
   "metadata": {},
   "source": [
    "No missing values and no duplicates anymore:"
   ]
  },
  {
   "cell_type": "code",
   "execution_count": 8,
   "id": "c2f3f2e7",
   "metadata": {},
   "outputs": [
    {
     "data": {
      "application/vnd.microsoft.datawrangler.viewer.v0+json": {
       "columns": [
        {
         "name": "index",
         "rawType": "object",
         "type": "string"
        },
        {
         "name": "0",
         "rawType": "int64",
         "type": "integer"
        }
       ],
       "ref": "04f4de4d-598b-4512-ba5a-b9ee9254effc",
       "rows": [
        [
         "brokered_by",
         "0"
        ],
        [
         "status",
         "0"
        ],
        [
         "price",
         "0"
        ],
        [
         "bed",
         "0"
        ],
        [
         "bath",
         "0"
        ],
        [
         "acre_lot",
         "0"
        ],
        [
         "street",
         "0"
        ],
        [
         "city",
         "0"
        ],
        [
         "state",
         "0"
        ],
        [
         "zip_code",
         "0"
        ],
        [
         "house_size",
         "0"
        ],
        [
         "prev_sold_date",
         "0"
        ]
       ],
       "shape": {
        "columns": 1,
        "rows": 12
       }
      },
      "text/plain": [
       "brokered_by       0\n",
       "status            0\n",
       "price             0\n",
       "bed               0\n",
       "bath              0\n",
       "acre_lot          0\n",
       "street            0\n",
       "city              0\n",
       "state             0\n",
       "zip_code          0\n",
       "house_size        0\n",
       "prev_sold_date    0\n",
       "dtype: int64"
      ]
     },
     "execution_count": 8,
     "metadata": {},
     "output_type": "execute_result"
    }
   ],
   "source": [
    "df.isna().sum()"
   ]
  },
  {
   "cell_type": "code",
   "execution_count": 9,
   "id": "7fc2bd06",
   "metadata": {},
   "outputs": [
    {
     "data": {
      "text/plain": [
       "0"
      ]
     },
     "execution_count": 9,
     "metadata": {},
     "output_type": "execute_result"
    }
   ],
   "source": [
    "int(df.duplicated().sum())"
   ]
  },
  {
   "cell_type": "code",
   "execution_count": 10,
   "id": "a36d49c3",
   "metadata": {},
   "outputs": [
    {
     "data": {
      "application/vnd.microsoft.datawrangler.viewer.v0+json": {
       "columns": [
        {
         "name": "index",
         "rawType": "int64",
         "type": "integer"
        },
        {
         "name": "brokered_by",
         "rawType": "float64",
         "type": "float"
        },
        {
         "name": "status",
         "rawType": "object",
         "type": "string"
        },
        {
         "name": "price",
         "rawType": "float64",
         "type": "float"
        },
        {
         "name": "bed",
         "rawType": "float64",
         "type": "float"
        },
        {
         "name": "bath",
         "rawType": "float64",
         "type": "float"
        },
        {
         "name": "acre_lot",
         "rawType": "float64",
         "type": "float"
        },
        {
         "name": "street",
         "rawType": "float64",
         "type": "float"
        },
        {
         "name": "city",
         "rawType": "object",
         "type": "string"
        },
        {
         "name": "state",
         "rawType": "object",
         "type": "string"
        },
        {
         "name": "zip_code",
         "rawType": "float64",
         "type": "float"
        },
        {
         "name": "house_size",
         "rawType": "float64",
         "type": "float"
        },
        {
         "name": "prev_sold_date",
         "rawType": "object",
         "type": "string"
        }
       ],
       "ref": "9ee5d440-0925-4dcd-8766-19c7441fa116",
       "rows": [
        [
         "1208998",
         "4311.0",
         "for_sale",
         "172999.0",
         "3.0",
         "2.0",
         "0.16",
         "987585.0",
         "Blythe",
         "California",
         "92225.0",
         "1132.0",
         "1984-06-29"
        ],
        [
         "1209113",
         "4311.0",
         "for_sale",
         "201000.0",
         "2.0",
         "2.0",
         "0.34",
         "761139.0",
         "Blythe",
         "California",
         "92225.0",
         "1100.0",
         "1997-09-23"
        ],
        [
         "1209116",
         "76008.0",
         "for_sale",
         "250000.0",
         "7.0",
         "3.0",
         "0.19",
         "1002149.0",
         "Blythe",
         "California",
         "92225.0",
         "3126.0",
         "2015-09-23"
        ],
        [
         "1209118",
         "86230.0",
         "for_sale",
         "325000.0",
         "3.0",
         "2.0",
         "5.0",
         "664584.0",
         "Blythe",
         "California",
         "92225.0",
         "1925.0",
         "1985-01-14"
        ],
        [
         "1209120",
         "22611.0",
         "for_sale",
         "287500.0",
         "5.0",
         "3.0",
         "0.2",
         "1230938.0",
         "Blythe",
         "California",
         "92225.0",
         "1642.0",
         "2018-03-08"
        ]
       ],
       "shape": {
        "columns": 12,
        "rows": 5
       }
      },
      "text/html": [
       "<div>\n",
       "<style scoped>\n",
       "    .dataframe tbody tr th:only-of-type {\n",
       "        vertical-align: middle;\n",
       "    }\n",
       "\n",
       "    .dataframe tbody tr th {\n",
       "        vertical-align: top;\n",
       "    }\n",
       "\n",
       "    .dataframe thead th {\n",
       "        text-align: right;\n",
       "    }\n",
       "</style>\n",
       "<table border=\"1\" class=\"dataframe\">\n",
       "  <thead>\n",
       "    <tr style=\"text-align: right;\">\n",
       "      <th></th>\n",
       "      <th>brokered_by</th>\n",
       "      <th>status</th>\n",
       "      <th>price</th>\n",
       "      <th>bed</th>\n",
       "      <th>bath</th>\n",
       "      <th>acre_lot</th>\n",
       "      <th>street</th>\n",
       "      <th>city</th>\n",
       "      <th>state</th>\n",
       "      <th>zip_code</th>\n",
       "      <th>house_size</th>\n",
       "      <th>prev_sold_date</th>\n",
       "    </tr>\n",
       "  </thead>\n",
       "  <tbody>\n",
       "    <tr>\n",
       "      <th>1208998</th>\n",
       "      <td>4311.0</td>\n",
       "      <td>for_sale</td>\n",
       "      <td>172999.0</td>\n",
       "      <td>3.0</td>\n",
       "      <td>2.0</td>\n",
       "      <td>0.16</td>\n",
       "      <td>987585.0</td>\n",
       "      <td>Blythe</td>\n",
       "      <td>California</td>\n",
       "      <td>92225.0</td>\n",
       "      <td>1132.0</td>\n",
       "      <td>1984-06-29</td>\n",
       "    </tr>\n",
       "    <tr>\n",
       "      <th>1209113</th>\n",
       "      <td>4311.0</td>\n",
       "      <td>for_sale</td>\n",
       "      <td>201000.0</td>\n",
       "      <td>2.0</td>\n",
       "      <td>2.0</td>\n",
       "      <td>0.34</td>\n",
       "      <td>761139.0</td>\n",
       "      <td>Blythe</td>\n",
       "      <td>California</td>\n",
       "      <td>92225.0</td>\n",
       "      <td>1100.0</td>\n",
       "      <td>1997-09-23</td>\n",
       "    </tr>\n",
       "    <tr>\n",
       "      <th>1209116</th>\n",
       "      <td>76008.0</td>\n",
       "      <td>for_sale</td>\n",
       "      <td>250000.0</td>\n",
       "      <td>7.0</td>\n",
       "      <td>3.0</td>\n",
       "      <td>0.19</td>\n",
       "      <td>1002149.0</td>\n",
       "      <td>Blythe</td>\n",
       "      <td>California</td>\n",
       "      <td>92225.0</td>\n",
       "      <td>3126.0</td>\n",
       "      <td>2015-09-23</td>\n",
       "    </tr>\n",
       "    <tr>\n",
       "      <th>1209118</th>\n",
       "      <td>86230.0</td>\n",
       "      <td>for_sale</td>\n",
       "      <td>325000.0</td>\n",
       "      <td>3.0</td>\n",
       "      <td>2.0</td>\n",
       "      <td>5.00</td>\n",
       "      <td>664584.0</td>\n",
       "      <td>Blythe</td>\n",
       "      <td>California</td>\n",
       "      <td>92225.0</td>\n",
       "      <td>1925.0</td>\n",
       "      <td>1985-01-14</td>\n",
       "    </tr>\n",
       "    <tr>\n",
       "      <th>1209120</th>\n",
       "      <td>22611.0</td>\n",
       "      <td>for_sale</td>\n",
       "      <td>287500.0</td>\n",
       "      <td>5.0</td>\n",
       "      <td>3.0</td>\n",
       "      <td>0.20</td>\n",
       "      <td>1230938.0</td>\n",
       "      <td>Blythe</td>\n",
       "      <td>California</td>\n",
       "      <td>92225.0</td>\n",
       "      <td>1642.0</td>\n",
       "      <td>2018-03-08</td>\n",
       "    </tr>\n",
       "  </tbody>\n",
       "</table>\n",
       "</div>"
      ],
      "text/plain": [
       "         brokered_by    status     price  bed  bath  acre_lot     street  \\\n",
       "1208998       4311.0  for_sale  172999.0  3.0   2.0      0.16   987585.0   \n",
       "1209113       4311.0  for_sale  201000.0  2.0   2.0      0.34   761139.0   \n",
       "1209116      76008.0  for_sale  250000.0  7.0   3.0      0.19  1002149.0   \n",
       "1209118      86230.0  for_sale  325000.0  3.0   2.0      5.00   664584.0   \n",
       "1209120      22611.0  for_sale  287500.0  5.0   3.0      0.20  1230938.0   \n",
       "\n",
       "           city       state  zip_code  house_size prev_sold_date  \n",
       "1208998  Blythe  California   92225.0      1132.0     1984-06-29  \n",
       "1209113  Blythe  California   92225.0      1100.0     1997-09-23  \n",
       "1209116  Blythe  California   92225.0      3126.0     2015-09-23  \n",
       "1209118  Blythe  California   92225.0      1925.0     1985-01-14  \n",
       "1209120  Blythe  California   92225.0      1642.0     2018-03-08  "
      ]
     },
     "execution_count": 10,
     "metadata": {},
     "output_type": "execute_result"
    }
   ],
   "source": [
    "df.head()"
   ]
  },
  {
   "cell_type": "markdown",
   "id": "2d376c2d",
   "metadata": {},
   "source": [
    "Now we drop any unnecessary variables:"
   ]
  },
  {
   "cell_type": "code",
   "execution_count": 11,
   "id": "0c10650f",
   "metadata": {},
   "outputs": [
    {
     "data": {
      "application/vnd.microsoft.datawrangler.viewer.v0+json": {
       "columns": [
        {
         "name": "index",
         "rawType": "int64",
         "type": "integer"
        },
        {
         "name": "price",
         "rawType": "float64",
         "type": "float"
        },
        {
         "name": "bed",
         "rawType": "float64",
         "type": "float"
        },
        {
         "name": "bath",
         "rawType": "float64",
         "type": "float"
        },
        {
         "name": "acre_lot",
         "rawType": "float64",
         "type": "float"
        },
        {
         "name": "zip_code",
         "rawType": "float64",
         "type": "float"
        },
        {
         "name": "house_size",
         "rawType": "float64",
         "type": "float"
        }
       ],
       "ref": "2ad8a542-15b8-4df1-90f7-60b33388f153",
       "rows": [
        [
         "1208998",
         "172999.0",
         "3.0",
         "2.0",
         "0.16",
         "92225.0",
         "1132.0"
        ],
        [
         "1209113",
         "201000.0",
         "2.0",
         "2.0",
         "0.34",
         "92225.0",
         "1100.0"
        ],
        [
         "1209116",
         "250000.0",
         "7.0",
         "3.0",
         "0.19",
         "92225.0",
         "3126.0"
        ],
        [
         "1209118",
         "325000.0",
         "3.0",
         "2.0",
         "5.0",
         "92225.0",
         "1925.0"
        ],
        [
         "1209120",
         "287500.0",
         "5.0",
         "3.0",
         "0.2",
         "92225.0",
         "1642.0"
        ]
       ],
       "shape": {
        "columns": 6,
        "rows": 5
       }
      },
      "text/html": [
       "<div>\n",
       "<style scoped>\n",
       "    .dataframe tbody tr th:only-of-type {\n",
       "        vertical-align: middle;\n",
       "    }\n",
       "\n",
       "    .dataframe tbody tr th {\n",
       "        vertical-align: top;\n",
       "    }\n",
       "\n",
       "    .dataframe thead th {\n",
       "        text-align: right;\n",
       "    }\n",
       "</style>\n",
       "<table border=\"1\" class=\"dataframe\">\n",
       "  <thead>\n",
       "    <tr style=\"text-align: right;\">\n",
       "      <th></th>\n",
       "      <th>price</th>\n",
       "      <th>bed</th>\n",
       "      <th>bath</th>\n",
       "      <th>acre_lot</th>\n",
       "      <th>zip_code</th>\n",
       "      <th>house_size</th>\n",
       "    </tr>\n",
       "  </thead>\n",
       "  <tbody>\n",
       "    <tr>\n",
       "      <th>1208998</th>\n",
       "      <td>172999.0</td>\n",
       "      <td>3.0</td>\n",
       "      <td>2.0</td>\n",
       "      <td>0.16</td>\n",
       "      <td>92225.0</td>\n",
       "      <td>1132.0</td>\n",
       "    </tr>\n",
       "    <tr>\n",
       "      <th>1209113</th>\n",
       "      <td>201000.0</td>\n",
       "      <td>2.0</td>\n",
       "      <td>2.0</td>\n",
       "      <td>0.34</td>\n",
       "      <td>92225.0</td>\n",
       "      <td>1100.0</td>\n",
       "    </tr>\n",
       "    <tr>\n",
       "      <th>1209116</th>\n",
       "      <td>250000.0</td>\n",
       "      <td>7.0</td>\n",
       "      <td>3.0</td>\n",
       "      <td>0.19</td>\n",
       "      <td>92225.0</td>\n",
       "      <td>3126.0</td>\n",
       "    </tr>\n",
       "    <tr>\n",
       "      <th>1209118</th>\n",
       "      <td>325000.0</td>\n",
       "      <td>3.0</td>\n",
       "      <td>2.0</td>\n",
       "      <td>5.00</td>\n",
       "      <td>92225.0</td>\n",
       "      <td>1925.0</td>\n",
       "    </tr>\n",
       "    <tr>\n",
       "      <th>1209120</th>\n",
       "      <td>287500.0</td>\n",
       "      <td>5.0</td>\n",
       "      <td>3.0</td>\n",
       "      <td>0.20</td>\n",
       "      <td>92225.0</td>\n",
       "      <td>1642.0</td>\n",
       "    </tr>\n",
       "  </tbody>\n",
       "</table>\n",
       "</div>"
      ],
      "text/plain": [
       "            price  bed  bath  acre_lot  zip_code  house_size\n",
       "1208998  172999.0  3.0   2.0      0.16   92225.0      1132.0\n",
       "1209113  201000.0  2.0   2.0      0.34   92225.0      1100.0\n",
       "1209116  250000.0  7.0   3.0      0.19   92225.0      3126.0\n",
       "1209118  325000.0  3.0   2.0      5.00   92225.0      1925.0\n",
       "1209120  287500.0  5.0   3.0      0.20   92225.0      1642.0"
      ]
     },
     "execution_count": 11,
     "metadata": {},
     "output_type": "execute_result"
    }
   ],
   "source": [
    "columns_to_delete = [\"brokered_by\", \"status\", \"street\", \"city\", \"state\", \"prev_sold_date\"]\n",
    "df = df.drop(columns=columns_to_delete)\n",
    "df.head()"
   ]
  },
  {
   "cell_type": "markdown",
   "id": "7230f261",
   "metadata": {},
   "source": [
    "#### Artificial intelligence was used for this code cell\n",
    "AI was used for this code cell because the initial attempt with Agglomerative Clustering caused a MemoryError of around 931 GB RAM, as the algorithm tried to process over 250 million data points.\n",
    "To handle this issue, I used MiniBatchKMeans, which is more efficient and suitable for large datasets.\n",
    "I also used AI since no example for this approach was available in the lecturer’s GitHub code scripts."
   ]
  },
  {
   "cell_type": "code",
   "execution_count": 12,
   "id": "5d82f1aa",
   "metadata": {},
   "outputs": [],
   "source": [
    "from sklearn.cluster import MiniBatchKMeans\n",
    "\n",
    "X_zip = df[[\"zip_code\"]].values\n",
    "\n",
    "kmeans = MiniBatchKMeans(n_clusters=55, random_state=7, batch_size=10000)\n",
    "df[\"ZipCodeCluster\"] = kmeans.fit_predict(X_zip)\n",
    "\n",
    "cluster_mean = df.groupby(\"ZipCodeCluster\")[\"price\"].mean()\n",
    "df[\"ZipCodeClusterValue\"] = df[\"ZipCodeCluster\"].map(cluster_mean)\n",
    "df = df.drop(columns=[\"zip_code\", \"ZipCodeCluster\"])"
   ]
  },
  {
   "cell_type": "code",
   "execution_count": 35,
   "id": "2904b782",
   "metadata": {},
   "outputs": [
    {
     "data": {
      "application/vnd.microsoft.datawrangler.viewer.v0+json": {
       "columns": [
        {
         "name": "index",
         "rawType": "int64",
         "type": "integer"
        },
        {
         "name": "price",
         "rawType": "float64",
         "type": "float"
        },
        {
         "name": "bed",
         "rawType": "float64",
         "type": "float"
        },
        {
         "name": "bath",
         "rawType": "float64",
         "type": "float"
        },
        {
         "name": "acre_lot",
         "rawType": "float64",
         "type": "float"
        },
        {
         "name": "house_size",
         "rawType": "float64",
         "type": "float"
        },
        {
         "name": "ZipCodeClusterValue",
         "rawType": "float64",
         "type": "float"
        }
       ],
       "ref": "10d45993-7d25-475d-9e29-e5793f3909d2",
       "rows": [
        [
         "1208998",
         "172999.0",
         "3.0",
         "2.0",
         "0.16",
         "1132.0",
         "736566.632633404"
        ],
        [
         "1209113",
         "201000.0",
         "2.0",
         "2.0",
         "0.34",
         "1100.0",
         "736566.632633404"
        ],
        [
         "1209116",
         "250000.0",
         "7.0",
         "3.0",
         "0.19",
         "3126.0",
         "736566.632633404"
        ],
        [
         "1209118",
         "325000.0",
         "3.0",
         "2.0",
         "5.0",
         "1925.0",
         "736566.632633404"
        ],
        [
         "1209120",
         "287500.0",
         "5.0",
         "3.0",
         "0.2",
         "1642.0",
         "736566.632633404"
        ]
       ],
       "shape": {
        "columns": 6,
        "rows": 5
       }
      },
      "text/html": [
       "<div>\n",
       "<style scoped>\n",
       "    .dataframe tbody tr th:only-of-type {\n",
       "        vertical-align: middle;\n",
       "    }\n",
       "\n",
       "    .dataframe tbody tr th {\n",
       "        vertical-align: top;\n",
       "    }\n",
       "\n",
       "    .dataframe thead th {\n",
       "        text-align: right;\n",
       "    }\n",
       "</style>\n",
       "<table border=\"1\" class=\"dataframe\">\n",
       "  <thead>\n",
       "    <tr style=\"text-align: right;\">\n",
       "      <th></th>\n",
       "      <th>price</th>\n",
       "      <th>bed</th>\n",
       "      <th>bath</th>\n",
       "      <th>acre_lot</th>\n",
       "      <th>house_size</th>\n",
       "      <th>ZipCodeClusterValue</th>\n",
       "    </tr>\n",
       "  </thead>\n",
       "  <tbody>\n",
       "    <tr>\n",
       "      <th>1208998</th>\n",
       "      <td>172999.00</td>\n",
       "      <td>3.00</td>\n",
       "      <td>2.00</td>\n",
       "      <td>0.16</td>\n",
       "      <td>1132.00</td>\n",
       "      <td>736566.63</td>\n",
       "    </tr>\n",
       "    <tr>\n",
       "      <th>1209113</th>\n",
       "      <td>201000.00</td>\n",
       "      <td>2.00</td>\n",
       "      <td>2.00</td>\n",
       "      <td>0.34</td>\n",
       "      <td>1100.00</td>\n",
       "      <td>736566.63</td>\n",
       "    </tr>\n",
       "    <tr>\n",
       "      <th>1209116</th>\n",
       "      <td>250000.00</td>\n",
       "      <td>7.00</td>\n",
       "      <td>3.00</td>\n",
       "      <td>0.19</td>\n",
       "      <td>3126.00</td>\n",
       "      <td>736566.63</td>\n",
       "    </tr>\n",
       "    <tr>\n",
       "      <th>1209118</th>\n",
       "      <td>325000.00</td>\n",
       "      <td>3.00</td>\n",
       "      <td>2.00</td>\n",
       "      <td>5.00</td>\n",
       "      <td>1925.00</td>\n",
       "      <td>736566.63</td>\n",
       "    </tr>\n",
       "    <tr>\n",
       "      <th>1209120</th>\n",
       "      <td>287500.00</td>\n",
       "      <td>5.00</td>\n",
       "      <td>3.00</td>\n",
       "      <td>0.20</td>\n",
       "      <td>1642.00</td>\n",
       "      <td>736566.63</td>\n",
       "    </tr>\n",
       "  </tbody>\n",
       "</table>\n",
       "</div>"
      ],
      "text/plain": [
       "            price  bed  bath  acre_lot  house_size  ZipCodeClusterValue\n",
       "1208998 172999.00 3.00  2.00      0.16     1132.00            736566.63\n",
       "1209113 201000.00 2.00  2.00      0.34     1100.00            736566.63\n",
       "1209116 250000.00 7.00  3.00      0.19     3126.00            736566.63\n",
       "1209118 325000.00 3.00  2.00      5.00     1925.00            736566.63\n",
       "1209120 287500.00 5.00  3.00      0.20     1642.00            736566.63"
      ]
     },
     "execution_count": 35,
     "metadata": {},
     "output_type": "execute_result"
    }
   ],
   "source": [
    "df.head()"
   ]
  },
  {
   "cell_type": "markdown",
   "id": "ca6b226a",
   "metadata": {},
   "source": [
    "#### X/y-Split"
   ]
  },
  {
   "cell_type": "code",
   "execution_count": 14,
   "id": "12511913",
   "metadata": {},
   "outputs": [],
   "source": [
    "X = df.drop(\"price\", axis=1)\n",
    "\n",
    "y = df[\"price\"]"
   ]
  },
  {
   "cell_type": "markdown",
   "id": "bc69130e",
   "metadata": {},
   "source": [
    "#### Correlation-Test"
   ]
  },
  {
   "cell_type": "markdown",
   "id": "c4dc5a8e",
   "metadata": {},
   "source": [
    "The correlation test shows that house_size, bath, and bed have the strongest positive relationships with price.\n",
    "The variable ZipCodeClusterValue also shows a small positive correlation, indicating that the clustering of zip codes adds useful regional information to the model."
   ]
  },
  {
   "cell_type": "code",
   "execution_count": 15,
   "id": "43881a69",
   "metadata": {},
   "outputs": [
    {
     "data": {
      "application/vnd.microsoft.datawrangler.viewer.v0+json": {
       "columns": [
        {
         "name": "index",
         "rawType": "object",
         "type": "string"
        },
        {
         "name": "price",
         "rawType": "float64",
         "type": "float"
        },
        {
         "name": "bed",
         "rawType": "float64",
         "type": "float"
        },
        {
         "name": "bath",
         "rawType": "float64",
         "type": "float"
        },
        {
         "name": "acre_lot",
         "rawType": "float64",
         "type": "float"
        },
        {
         "name": "house_size",
         "rawType": "float64",
         "type": "float"
        },
        {
         "name": "ZipCodeClusterValue",
         "rawType": "float64",
         "type": "float"
        }
       ],
       "ref": "47e7e34f-2644-4f0c-b0cc-d9eeb3c873a9",
       "rows": [
        [
         "price",
         "1.0",
         "0.2225244114905886",
         "0.37479045122310617",
         "-0.0018892804300671697",
         "0.48935187132327024",
         "0.2545084190768537"
        ],
        [
         "bed",
         "0.2225244114905886",
         "1.0",
         "0.7658738707721751",
         "-0.006299645267316074",
         "0.6774252244207747",
         "0.01911846913443648"
        ],
        [
         "bath",
         "0.37479045122310617",
         "0.7658738707721751",
         "1.0",
         "-0.00215543510062525",
         "0.8091665610333317",
         "0.12378730857956073"
        ],
        [
         "acre_lot",
         "-0.0018892804300671697",
         "-0.006299645267316074",
         "-0.00215543510062525",
         "1.0",
         "-0.002963227801284617",
         "-0.0012938660443768877"
        ],
        [
         "house_size",
         "0.48935187132327024",
         "0.6774252244207747",
         "0.8091665610333317",
         "-0.002963227801284617",
         "1.0",
         "0.093144966180059"
        ],
        [
         "ZipCodeClusterValue",
         "0.2545084190768537",
         "0.01911846913443648",
         "0.12378730857956073",
         "-0.0012938660443768877",
         "0.093144966180059",
         "1.0"
        ]
       ],
       "shape": {
        "columns": 6,
        "rows": 6
       }
      },
      "text/html": [
       "<div>\n",
       "<style scoped>\n",
       "    .dataframe tbody tr th:only-of-type {\n",
       "        vertical-align: middle;\n",
       "    }\n",
       "\n",
       "    .dataframe tbody tr th {\n",
       "        vertical-align: top;\n",
       "    }\n",
       "\n",
       "    .dataframe thead th {\n",
       "        text-align: right;\n",
       "    }\n",
       "</style>\n",
       "<table border=\"1\" class=\"dataframe\">\n",
       "  <thead>\n",
       "    <tr style=\"text-align: right;\">\n",
       "      <th></th>\n",
       "      <th>price</th>\n",
       "      <th>bed</th>\n",
       "      <th>bath</th>\n",
       "      <th>acre_lot</th>\n",
       "      <th>house_size</th>\n",
       "      <th>ZipCodeClusterValue</th>\n",
       "    </tr>\n",
       "  </thead>\n",
       "  <tbody>\n",
       "    <tr>\n",
       "      <th>price</th>\n",
       "      <td>1.000000</td>\n",
       "      <td>0.222524</td>\n",
       "      <td>0.374790</td>\n",
       "      <td>-0.001889</td>\n",
       "      <td>0.489352</td>\n",
       "      <td>0.254508</td>\n",
       "    </tr>\n",
       "    <tr>\n",
       "      <th>bed</th>\n",
       "      <td>0.222524</td>\n",
       "      <td>1.000000</td>\n",
       "      <td>0.765874</td>\n",
       "      <td>-0.006300</td>\n",
       "      <td>0.677425</td>\n",
       "      <td>0.019118</td>\n",
       "    </tr>\n",
       "    <tr>\n",
       "      <th>bath</th>\n",
       "      <td>0.374790</td>\n",
       "      <td>0.765874</td>\n",
       "      <td>1.000000</td>\n",
       "      <td>-0.002155</td>\n",
       "      <td>0.809167</td>\n",
       "      <td>0.123787</td>\n",
       "    </tr>\n",
       "    <tr>\n",
       "      <th>acre_lot</th>\n",
       "      <td>-0.001889</td>\n",
       "      <td>-0.006300</td>\n",
       "      <td>-0.002155</td>\n",
       "      <td>1.000000</td>\n",
       "      <td>-0.002963</td>\n",
       "      <td>-0.001294</td>\n",
       "    </tr>\n",
       "    <tr>\n",
       "      <th>house_size</th>\n",
       "      <td>0.489352</td>\n",
       "      <td>0.677425</td>\n",
       "      <td>0.809167</td>\n",
       "      <td>-0.002963</td>\n",
       "      <td>1.000000</td>\n",
       "      <td>0.093145</td>\n",
       "    </tr>\n",
       "    <tr>\n",
       "      <th>ZipCodeClusterValue</th>\n",
       "      <td>0.254508</td>\n",
       "      <td>0.019118</td>\n",
       "      <td>0.123787</td>\n",
       "      <td>-0.001294</td>\n",
       "      <td>0.093145</td>\n",
       "      <td>1.000000</td>\n",
       "    </tr>\n",
       "  </tbody>\n",
       "</table>\n",
       "</div>"
      ],
      "text/plain": [
       "                        price       bed      bath  acre_lot  house_size  \\\n",
       "price                1.000000  0.222524  0.374790 -0.001889    0.489352   \n",
       "bed                  0.222524  1.000000  0.765874 -0.006300    0.677425   \n",
       "bath                 0.374790  0.765874  1.000000 -0.002155    0.809167   \n",
       "acre_lot            -0.001889 -0.006300 -0.002155  1.000000   -0.002963   \n",
       "house_size           0.489352  0.677425  0.809167 -0.002963    1.000000   \n",
       "ZipCodeClusterValue  0.254508  0.019118  0.123787 -0.001294    0.093145   \n",
       "\n",
       "                     ZipCodeClusterValue  \n",
       "price                           0.254508  \n",
       "bed                             0.019118  \n",
       "bath                            0.123787  \n",
       "acre_lot                       -0.001294  \n",
       "house_size                      0.093145  \n",
       "ZipCodeClusterValue             1.000000  "
      ]
     },
     "execution_count": 15,
     "metadata": {},
     "output_type": "execute_result"
    }
   ],
   "source": [
    "correlations = df.corr(numeric_only=True)\n",
    "correlations"
   ]
  },
  {
   "cell_type": "markdown",
   "id": "a31c93d6",
   "metadata": {},
   "source": [
    "#### Chi²-Test"
   ]
  },
  {
   "cell_type": "markdown",
   "id": "e4779472",
   "metadata": {},
   "source": [
    "The Chi² test results show that ZipCodeClusterValue has the highest score, indicating it provides the strongest relationship with the target variable price.\n",
    "Other features such as acre_lot and house_size also contribute significantly, while bath and bed have lower importance."
   ]
  },
  {
   "cell_type": "code",
   "execution_count": 16,
   "id": "89459391",
   "metadata": {},
   "outputs": [
    {
     "data": {
      "application/vnd.microsoft.datawrangler.viewer.v0+json": {
       "columns": [
        {
         "name": "index",
         "rawType": "int64",
         "type": "integer"
        },
        {
         "name": "Features",
         "rawType": "object",
         "type": "string"
        },
        {
         "name": "Score",
         "rawType": "float64",
         "type": "float"
        }
       ],
       "ref": "80bc9583-9abf-4a0e-a02e-18afb037cf4e",
       "rows": [
        [
         "4",
         "ZipCodeClusterValue",
         "18761183090.576633"
        ],
        [
         "2",
         "acre_lot",
         "260696026.03751922"
        ],
        [
         "3",
         "house_size",
         "73073898.18300653"
        ],
        [
         "1",
         "bath",
         "60362.00842176429"
        ],
        [
         "0",
         "bed",
         "35185.39410481188"
        ]
       ],
       "shape": {
        "columns": 2,
        "rows": 5
       }
      },
      "text/html": [
       "<div>\n",
       "<style scoped>\n",
       "    .dataframe tbody tr th:only-of-type {\n",
       "        vertical-align: middle;\n",
       "    }\n",
       "\n",
       "    .dataframe tbody tr th {\n",
       "        vertical-align: top;\n",
       "    }\n",
       "\n",
       "    .dataframe thead th {\n",
       "        text-align: right;\n",
       "    }\n",
       "</style>\n",
       "<table border=\"1\" class=\"dataframe\">\n",
       "  <thead>\n",
       "    <tr style=\"text-align: right;\">\n",
       "      <th></th>\n",
       "      <th>Features</th>\n",
       "      <th>Score</th>\n",
       "    </tr>\n",
       "  </thead>\n",
       "  <tbody>\n",
       "    <tr>\n",
       "      <th>4</th>\n",
       "      <td>ZipCodeClusterValue</td>\n",
       "      <td>18761183090.58</td>\n",
       "    </tr>\n",
       "    <tr>\n",
       "      <th>2</th>\n",
       "      <td>acre_lot</td>\n",
       "      <td>260696026.04</td>\n",
       "    </tr>\n",
       "    <tr>\n",
       "      <th>3</th>\n",
       "      <td>house_size</td>\n",
       "      <td>73073898.18</td>\n",
       "    </tr>\n",
       "    <tr>\n",
       "      <th>1</th>\n",
       "      <td>bath</td>\n",
       "      <td>60362.01</td>\n",
       "    </tr>\n",
       "    <tr>\n",
       "      <th>0</th>\n",
       "      <td>bed</td>\n",
       "      <td>35185.39</td>\n",
       "    </tr>\n",
       "  </tbody>\n",
       "</table>\n",
       "</div>"
      ],
      "text/plain": [
       "              Features          Score\n",
       "4  ZipCodeClusterValue 18761183090.58\n",
       "2             acre_lot   260696026.04\n",
       "3           house_size    73073898.18\n",
       "1                 bath       60362.01\n",
       "0                  bed       35185.39"
      ]
     },
     "execution_count": 16,
     "metadata": {},
     "output_type": "execute_result"
    }
   ],
   "source": [
    "from sklearn.feature_selection import SelectKBest\n",
    "from sklearn.feature_selection import chi2\n",
    "\n",
    "X_cat = X.astype(int)\n",
    "X_cat = X_cat.clip(lower=0)\n",
    "\n",
    "chi_2_features = SelectKBest(chi2, k=len(X_cat.columns))\n",
    "best_features = chi_2_features.fit(X_cat,y.astype(int))\n",
    "\n",
    "pd.options.display.float_format = '{:.2f}'.format\n",
    "\n",
    "df_features = pd.DataFrame(best_features.scores_)\n",
    "df_columns = pd.DataFrame(X_cat.columns)\n",
    "f_scores = pd.concat([df_columns,df_features],axis=1)\n",
    "f_scores.columns = ['Features','Score']\n",
    "f_scores.sort_values(by='Score',ascending=False)"
   ]
  },
  {
   "cell_type": "markdown",
   "id": "6b50ef93",
   "metadata": {},
   "source": [
    "#### VIF-Test"
   ]
  },
  {
   "cell_type": "markdown",
   "id": "d055a9c9",
   "metadata": {},
   "source": [
    "The VIF test shows that bath and bed have higher multicollinearity values, indicating some correlation between these features.\n",
    "In contrast, acre_lot, house_size, and ZipCodeClusterValue show lower VIF values."
   ]
  },
  {
   "cell_type": "code",
   "execution_count": 17,
   "id": "308242ea",
   "metadata": {},
   "outputs": [
    {
     "name": "stdout",
     "output_type": "stream",
     "text": [
      "               feature   VIF\n",
      "0                  bed 10.51\n",
      "1                 bath 15.38\n",
      "2             acre_lot  1.00\n",
      "3           house_size  9.76\n",
      "4  ZipCodeClusterValue  2.88\n"
     ]
    }
   ],
   "source": [
    "from statsmodels.stats.outliers_influence import variance_inflation_factor \n",
    "\n",
    "vif_data = pd.DataFrame() \n",
    "vif_data[\"feature\"] = X.columns \n",
    "\n",
    "vif_data[\"VIF\"] = [variance_inflation_factor(X.values, i) \n",
    "                          for i in range(len(X.columns))] \n",
    "\n",
    "print(vif_data)"
   ]
  },
  {
   "cell_type": "markdown",
   "id": "2d487fa3",
   "metadata": {},
   "source": [
    "#### Train-/Test-/Validation-Split (70/30)"
   ]
  },
  {
   "cell_type": "code",
   "execution_count": 18,
   "id": "d43d9577",
   "metadata": {},
   "outputs": [],
   "source": [
    "X_train, X_temp, y_train, y_temp = train_test_split(X, y, test_size=0.3)\n",
    "\n",
    "X_val, X_test, y_val, y_test = train_test_split(X_temp, y_temp, test_size=0.5)"
   ]
  },
  {
   "cell_type": "code",
   "execution_count": 19,
   "id": "9597cf56",
   "metadata": {},
   "outputs": [
    {
     "data": {
      "text/plain": [
       "157724"
      ]
     },
     "execution_count": 19,
     "metadata": {},
     "output_type": "execute_result"
    }
   ],
   "source": [
    "len(df)"
   ]
  },
  {
   "cell_type": "markdown",
   "id": "a21748ed",
   "metadata": {},
   "source": [
    "#### Create the neural network structure"
   ]
  },
  {
   "cell_type": "code",
   "execution_count": null,
   "id": "bddaa88c",
   "metadata": {},
   "outputs": [
    {
     "name": "stderr",
     "output_type": "stream",
     "text": [
      "d:\\5. Semester\\Deep Learning\\DL-projects\\venv312\\Lib\\site-packages\\keras\\src\\layers\\normalization\\batch_normalization.py:142: UserWarning: Do not pass an `input_shape`/`input_dim` argument to a layer. When using Sequential models, prefer using an `Input(shape)` object as the first layer in the model instead.\n",
      "  super().__init__(**kwargs)\n"
     ]
    },
    {
     "data": {
      "text/html": [
       "<pre style=\"white-space:pre;overflow-x:auto;line-height:normal;font-family:Menlo,'DejaVu Sans Mono',consolas,'Courier New',monospace\"><span style=\"font-weight: bold\">Model: \"sequential\"</span>\n",
       "</pre>\n"
      ],
      "text/plain": [
       "\u001b[1mModel: \"sequential\"\u001b[0m\n"
      ]
     },
     "metadata": {},
     "output_type": "display_data"
    },
    {
     "data": {
      "text/html": [
       "<pre style=\"white-space:pre;overflow-x:auto;line-height:normal;font-family:Menlo,'DejaVu Sans Mono',consolas,'Courier New',monospace\">┏━━━━━━━━━━━━━━━━━━━━━━━━━━━━━━━━━┳━━━━━━━━━━━━━━━━━━━━━━━━┳━━━━━━━━━━━━━━━┓\n",
       "┃<span style=\"font-weight: bold\"> Layer (type)                    </span>┃<span style=\"font-weight: bold\"> Output Shape           </span>┃<span style=\"font-weight: bold\">       Param # </span>┃\n",
       "┡━━━━━━━━━━━━━━━━━━━━━━━━━━━━━━━━━╇━━━━━━━━━━━━━━━━━━━━━━━━╇━━━━━━━━━━━━━━━┩\n",
       "│ batch_normalization             │ (<span style=\"color: #00d7ff; text-decoration-color: #00d7ff\">None</span>, <span style=\"color: #00af00; text-decoration-color: #00af00\">5</span>)              │            <span style=\"color: #00af00; text-decoration-color: #00af00\">20</span> │\n",
       "│ (<span style=\"color: #0087ff; text-decoration-color: #0087ff\">BatchNormalization</span>)            │                        │               │\n",
       "├─────────────────────────────────┼────────────────────────┼───────────────┤\n",
       "│ dense (<span style=\"color: #0087ff; text-decoration-color: #0087ff\">Dense</span>)                   │ (<span style=\"color: #00d7ff; text-decoration-color: #00d7ff\">None</span>, <span style=\"color: #00af00; text-decoration-color: #00af00\">128</span>)            │           <span style=\"color: #00af00; text-decoration-color: #00af00\">768</span> │\n",
       "├─────────────────────────────────┼────────────────────────┼───────────────┤\n",
       "│ dropout (<span style=\"color: #0087ff; text-decoration-color: #0087ff\">Dropout</span>)               │ (<span style=\"color: #00d7ff; text-decoration-color: #00d7ff\">None</span>, <span style=\"color: #00af00; text-decoration-color: #00af00\">128</span>)            │             <span style=\"color: #00af00; text-decoration-color: #00af00\">0</span> │\n",
       "├─────────────────────────────────┼────────────────────────┼───────────────┤\n",
       "│ dense_1 (<span style=\"color: #0087ff; text-decoration-color: #0087ff\">Dense</span>)                 │ (<span style=\"color: #00d7ff; text-decoration-color: #00d7ff\">None</span>, <span style=\"color: #00af00; text-decoration-color: #00af00\">64</span>)             │         <span style=\"color: #00af00; text-decoration-color: #00af00\">8,256</span> │\n",
       "├─────────────────────────────────┼────────────────────────┼───────────────┤\n",
       "│ dense_2 (<span style=\"color: #0087ff; text-decoration-color: #0087ff\">Dense</span>)                 │ (<span style=\"color: #00d7ff; text-decoration-color: #00d7ff\">None</span>, <span style=\"color: #00af00; text-decoration-color: #00af00\">32</span>)             │         <span style=\"color: #00af00; text-decoration-color: #00af00\">2,080</span> │\n",
       "├─────────────────────────────────┼────────────────────────┼───────────────┤\n",
       "│ dense_3 (<span style=\"color: #0087ff; text-decoration-color: #0087ff\">Dense</span>)                 │ (<span style=\"color: #00d7ff; text-decoration-color: #00d7ff\">None</span>, <span style=\"color: #00af00; text-decoration-color: #00af00\">1</span>)              │            <span style=\"color: #00af00; text-decoration-color: #00af00\">33</span> │\n",
       "└─────────────────────────────────┴────────────────────────┴───────────────┘\n",
       "</pre>\n"
      ],
      "text/plain": [
       "┏━━━━━━━━━━━━━━━━━━━━━━━━━━━━━━━━━┳━━━━━━━━━━━━━━━━━━━━━━━━┳━━━━━━━━━━━━━━━┓\n",
       "┃\u001b[1m \u001b[0m\u001b[1mLayer (type)                   \u001b[0m\u001b[1m \u001b[0m┃\u001b[1m \u001b[0m\u001b[1mOutput Shape          \u001b[0m\u001b[1m \u001b[0m┃\u001b[1m \u001b[0m\u001b[1m      Param #\u001b[0m\u001b[1m \u001b[0m┃\n",
       "┡━━━━━━━━━━━━━━━━━━━━━━━━━━━━━━━━━╇━━━━━━━━━━━━━━━━━━━━━━━━╇━━━━━━━━━━━━━━━┩\n",
       "│ batch_normalization             │ (\u001b[38;5;45mNone\u001b[0m, \u001b[38;5;34m5\u001b[0m)              │            \u001b[38;5;34m20\u001b[0m │\n",
       "│ (\u001b[38;5;33mBatchNormalization\u001b[0m)            │                        │               │\n",
       "├─────────────────────────────────┼────────────────────────┼───────────────┤\n",
       "│ dense (\u001b[38;5;33mDense\u001b[0m)                   │ (\u001b[38;5;45mNone\u001b[0m, \u001b[38;5;34m128\u001b[0m)            │           \u001b[38;5;34m768\u001b[0m │\n",
       "├─────────────────────────────────┼────────────────────────┼───────────────┤\n",
       "│ dropout (\u001b[38;5;33mDropout\u001b[0m)               │ (\u001b[38;5;45mNone\u001b[0m, \u001b[38;5;34m128\u001b[0m)            │             \u001b[38;5;34m0\u001b[0m │\n",
       "├─────────────────────────────────┼────────────────────────┼───────────────┤\n",
       "│ dense_1 (\u001b[38;5;33mDense\u001b[0m)                 │ (\u001b[38;5;45mNone\u001b[0m, \u001b[38;5;34m64\u001b[0m)             │         \u001b[38;5;34m8,256\u001b[0m │\n",
       "├─────────────────────────────────┼────────────────────────┼───────────────┤\n",
       "│ dense_2 (\u001b[38;5;33mDense\u001b[0m)                 │ (\u001b[38;5;45mNone\u001b[0m, \u001b[38;5;34m32\u001b[0m)             │         \u001b[38;5;34m2,080\u001b[0m │\n",
       "├─────────────────────────────────┼────────────────────────┼───────────────┤\n",
       "│ dense_3 (\u001b[38;5;33mDense\u001b[0m)                 │ (\u001b[38;5;45mNone\u001b[0m, \u001b[38;5;34m1\u001b[0m)              │            \u001b[38;5;34m33\u001b[0m │\n",
       "└─────────────────────────────────┴────────────────────────┴───────────────┘\n"
      ]
     },
     "metadata": {},
     "output_type": "display_data"
    },
    {
     "data": {
      "text/html": [
       "<pre style=\"white-space:pre;overflow-x:auto;line-height:normal;font-family:Menlo,'DejaVu Sans Mono',consolas,'Courier New',monospace\"><span style=\"font-weight: bold\"> Total params: </span><span style=\"color: #00af00; text-decoration-color: #00af00\">11,157</span> (43.58 KB)\n",
       "</pre>\n"
      ],
      "text/plain": [
       "\u001b[1m Total params: \u001b[0m\u001b[38;5;34m11,157\u001b[0m (43.58 KB)\n"
      ]
     },
     "metadata": {},
     "output_type": "display_data"
    },
    {
     "data": {
      "text/html": [
       "<pre style=\"white-space:pre;overflow-x:auto;line-height:normal;font-family:Menlo,'DejaVu Sans Mono',consolas,'Courier New',monospace\"><span style=\"font-weight: bold\"> Trainable params: </span><span style=\"color: #00af00; text-decoration-color: #00af00\">11,147</span> (43.54 KB)\n",
       "</pre>\n"
      ],
      "text/plain": [
       "\u001b[1m Trainable params: \u001b[0m\u001b[38;5;34m11,147\u001b[0m (43.54 KB)\n"
      ]
     },
     "metadata": {},
     "output_type": "display_data"
    },
    {
     "data": {
      "text/html": [
       "<pre style=\"white-space:pre;overflow-x:auto;line-height:normal;font-family:Menlo,'DejaVu Sans Mono',consolas,'Courier New',monospace\"><span style=\"font-weight: bold\"> Non-trainable params: </span><span style=\"color: #00af00; text-decoration-color: #00af00\">10</span> (40.00 B)\n",
       "</pre>\n"
      ],
      "text/plain": [
       "\u001b[1m Non-trainable params: \u001b[0m\u001b[38;5;34m10\u001b[0m (40.00 B)\n"
      ]
     },
     "metadata": {},
     "output_type": "display_data"
    }
   ],
   "source": [
    "from keras.callbacks import ModelCheckpoint, EarlyStopping, ReduceLROnPlateau\n",
    "\n",
    "variable_amount = len(X.columns)\n",
    "\n",
    "mc = ModelCheckpoint('best_model_california_state.keras', monitor='val_loss', mode='min', save_best_only=True)\n",
    "\n",
    "callback_list = [mc]\n",
    "\n",
    "model = keras.Sequential(\n",
    "    [\n",
    "        layers.BatchNormalization(input_shape=(variable_amount,)),\n",
    "        layers.Dense(128, activation=\"relu\", kernel_regularizer=keras.regularizers.l1_l2(l1=0.1, l2=0.1)),\n",
    "        layers.Dropout(0.2),\n",
    "        layers.Dense(64, activation=\"relu\"),\n",
    "        layers.Dense(32, activation=\"relu\"),\n",
    "        layers.Dense(1)\n",
    "    ]\n",
    ")\n",
    "\n",
    "model.compile(optimizer='adam', loss='mse')\n",
    "model.summary()"
   ]
  },
  {
   "cell_type": "markdown",
   "id": "fcd245fc",
   "metadata": {},
   "source": [
    "#### Train the neural network"
   ]
  },
  {
   "cell_type": "code",
   "execution_count": 21,
   "id": "9478ae0b",
   "metadata": {},
   "outputs": [
    {
     "name": "stdout",
     "output_type": "stream",
     "text": [
      "Epoch 1/30\n",
      "\u001b[1m3451/3451\u001b[0m \u001b[32m━━━━━━━━━━━━━━━━━━━━\u001b[0m\u001b[37m\u001b[0m \u001b[1m7s\u001b[0m 2ms/step - loss: 4959655428096.0000 - val_loss: 1569760739328.0000\n",
      "Epoch 2/30\n",
      "\u001b[1m3451/3451\u001b[0m \u001b[32m━━━━━━━━━━━━━━━━━━━━\u001b[0m\u001b[37m\u001b[0m \u001b[1m5s\u001b[0m 2ms/step - loss: 4588795068416.0000 - val_loss: 1463421763584.0000\n",
      "Epoch 3/30\n",
      "\u001b[1m3451/3451\u001b[0m \u001b[32m━━━━━━━━━━━━━━━━━━━━\u001b[0m\u001b[37m\u001b[0m \u001b[1m5s\u001b[0m 2ms/step - loss: 4499542900736.0000 - val_loss: 1413879037952.0000\n",
      "Epoch 4/30\n",
      "\u001b[1m3451/3451\u001b[0m \u001b[32m━━━━━━━━━━━━━━━━━━━━\u001b[0m\u001b[37m\u001b[0m \u001b[1m5s\u001b[0m 2ms/step - loss: 4414045159424.0000 - val_loss: 1375984549888.0000\n",
      "Epoch 5/30\n",
      "\u001b[1m3451/3451\u001b[0m \u001b[32m━━━━━━━━━━━━━━━━━━━━\u001b[0m\u001b[37m\u001b[0m \u001b[1m5s\u001b[0m 2ms/step - loss: 4364362055680.0000 - val_loss: 1357575356416.0000\n",
      "Epoch 6/30\n",
      "\u001b[1m3451/3451\u001b[0m \u001b[32m━━━━━━━━━━━━━━━━━━━━\u001b[0m\u001b[37m\u001b[0m \u001b[1m5s\u001b[0m 2ms/step - loss: 4344681070592.0000 - val_loss: 1359941206016.0000\n",
      "Epoch 7/30\n",
      "\u001b[1m3451/3451\u001b[0m \u001b[32m━━━━━━━━━━━━━━━━━━━━\u001b[0m\u001b[37m\u001b[0m \u001b[1m6s\u001b[0m 2ms/step - loss: 4289611431936.0000 - val_loss: 2417505337344.0000\n",
      "Epoch 8/30\n",
      "\u001b[1m3451/3451\u001b[0m \u001b[32m━━━━━━━━━━━━━━━━━━━━\u001b[0m\u001b[37m\u001b[0m \u001b[1m6s\u001b[0m 2ms/step - loss: 4240614621184.0000 - val_loss: 4145884954624.0000\n",
      "Epoch 9/30\n",
      "\u001b[1m3451/3451\u001b[0m \u001b[32m━━━━━━━━━━━━━━━━━━━━\u001b[0m\u001b[37m\u001b[0m \u001b[1m6s\u001b[0m 2ms/step - loss: 4225528233984.0000 - val_loss: 5228055232512.0000\n",
      "Epoch 10/30\n",
      "\u001b[1m3451/3451\u001b[0m \u001b[32m━━━━━━━━━━━━━━━━━━━━\u001b[0m\u001b[37m\u001b[0m \u001b[1m5s\u001b[0m 2ms/step - loss: 4199678738432.0000 - val_loss: 2237738516480.0000\n",
      "Epoch 11/30\n",
      "\u001b[1m3451/3451\u001b[0m \u001b[32m━━━━━━━━━━━━━━━━━━━━\u001b[0m\u001b[37m\u001b[0m \u001b[1m5s\u001b[0m 2ms/step - loss: 4195385868288.0000 - val_loss: 2703393292288.0000\n",
      "Epoch 12/30\n",
      "\u001b[1m3451/3451\u001b[0m \u001b[32m━━━━━━━━━━━━━━━━━━━━\u001b[0m\u001b[37m\u001b[0m \u001b[1m6s\u001b[0m 2ms/step - loss: 4206287912960.0000 - val_loss: 2004607565824.0000\n",
      "Epoch 13/30\n",
      "\u001b[1m3451/3451\u001b[0m \u001b[32m━━━━━━━━━━━━━━━━━━━━\u001b[0m\u001b[37m\u001b[0m \u001b[1m6s\u001b[0m 2ms/step - loss: 4155179532288.0000 - val_loss: 2128273473536.0000\n",
      "Epoch 14/30\n",
      "\u001b[1m3451/3451\u001b[0m \u001b[32m━━━━━━━━━━━━━━━━━━━━\u001b[0m\u001b[37m\u001b[0m \u001b[1m5s\u001b[0m 2ms/step - loss: 4172712509440.0000 - val_loss: 2917882920960.0000\n",
      "Epoch 15/30\n",
      "\u001b[1m3451/3451\u001b[0m \u001b[32m━━━━━━━━━━━━━━━━━━━━\u001b[0m\u001b[37m\u001b[0m \u001b[1m6s\u001b[0m 2ms/step - loss: 4143437053952.0000 - val_loss: 3317290500096.0000\n",
      "Epoch 16/30\n",
      "\u001b[1m3451/3451\u001b[0m \u001b[32m━━━━━━━━━━━━━━━━━━━━\u001b[0m\u001b[37m\u001b[0m \u001b[1m6s\u001b[0m 2ms/step - loss: 4133427085312.0000 - val_loss: 4782383693824.0000\n",
      "Epoch 17/30\n",
      "\u001b[1m3451/3451\u001b[0m \u001b[32m━━━━━━━━━━━━━━━━━━━━\u001b[0m\u001b[37m\u001b[0m \u001b[1m6s\u001b[0m 2ms/step - loss: 4117901869056.0000 - val_loss: 4072100331520.0000\n",
      "Epoch 18/30\n",
      "\u001b[1m3451/3451\u001b[0m \u001b[32m━━━━━━━━━━━━━━━━━━━━\u001b[0m\u001b[37m\u001b[0m \u001b[1m6s\u001b[0m 2ms/step - loss: 4147619299328.0000 - val_loss: 4451669639168.0000\n",
      "Epoch 19/30\n",
      "\u001b[1m3451/3451\u001b[0m \u001b[32m━━━━━━━━━━━━━━━━━━━━\u001b[0m\u001b[37m\u001b[0m \u001b[1m6s\u001b[0m 2ms/step - loss: 4158708514816.0000 - val_loss: 3314953486336.0000\n",
      "Epoch 20/30\n",
      "\u001b[1m3451/3451\u001b[0m \u001b[32m━━━━━━━━━━━━━━━━━━━━\u001b[0m\u001b[37m\u001b[0m \u001b[1m6s\u001b[0m 2ms/step - loss: 4120082644992.0000 - val_loss: 3889427120128.0000\n",
      "Epoch 21/30\n",
      "\u001b[1m3451/3451\u001b[0m \u001b[32m━━━━━━━━━━━━━━━━━━━━\u001b[0m\u001b[37m\u001b[0m \u001b[1m6s\u001b[0m 2ms/step - loss: 4134691930112.0000 - val_loss: 5199344697344.0000\n",
      "Epoch 22/30\n",
      "\u001b[1m3451/3451\u001b[0m \u001b[32m━━━━━━━━━━━━━━━━━━━━\u001b[0m\u001b[37m\u001b[0m \u001b[1m6s\u001b[0m 2ms/step - loss: 4137659662336.0000 - val_loss: 10409372286976.0000\n",
      "Epoch 23/30\n",
      "\u001b[1m3451/3451\u001b[0m \u001b[32m━━━━━━━━━━━━━━━━━━━━\u001b[0m\u001b[37m\u001b[0m \u001b[1m6s\u001b[0m 2ms/step - loss: 4121618022400.0000 - val_loss: 5931332534272.0000\n",
      "Epoch 24/30\n",
      "\u001b[1m3451/3451\u001b[0m \u001b[32m━━━━━━━━━━━━━━━━━━━━\u001b[0m\u001b[37m\u001b[0m \u001b[1m6s\u001b[0m 2ms/step - loss: 4081332518912.0000 - val_loss: 4542738464768.0000\n",
      "Epoch 25/30\n",
      "\u001b[1m3451/3451\u001b[0m \u001b[32m━━━━━━━━━━━━━━━━━━━━\u001b[0m\u001b[37m\u001b[0m \u001b[1m6s\u001b[0m 2ms/step - loss: 4165349146624.0000 - val_loss: 6546635882496.0000\n",
      "Epoch 26/30\n",
      "\u001b[1m3451/3451\u001b[0m \u001b[32m━━━━━━━━━━━━━━━━━━━━\u001b[0m\u001b[37m\u001b[0m \u001b[1m6s\u001b[0m 2ms/step - loss: 4134880673792.0000 - val_loss: 9338402897920.0000\n",
      "Epoch 27/30\n",
      "\u001b[1m3451/3451\u001b[0m \u001b[32m━━━━━━━━━━━━━━━━━━━━\u001b[0m\u001b[37m\u001b[0m \u001b[1m6s\u001b[0m 2ms/step - loss: 4105883615232.0000 - val_loss: 8104584413184.0000\n",
      "Epoch 28/30\n",
      "\u001b[1m3451/3451\u001b[0m \u001b[32m━━━━━━━━━━━━━━━━━━━━\u001b[0m\u001b[37m\u001b[0m \u001b[1m6s\u001b[0m 2ms/step - loss: 4062518968320.0000 - val_loss: 10774754885632.0000\n",
      "Epoch 29/30\n",
      "\u001b[1m3451/3451\u001b[0m \u001b[32m━━━━━━━━━━━━━━━━━━━━\u001b[0m\u001b[37m\u001b[0m \u001b[1m6s\u001b[0m 2ms/step - loss: 4137997828096.0000 - val_loss: 8977469407232.0000\n",
      "Epoch 30/30\n",
      "\u001b[1m3451/3451\u001b[0m \u001b[32m━━━━━━━━━━━━━━━━━━━━\u001b[0m\u001b[37m\u001b[0m \u001b[1m6s\u001b[0m 2ms/step - loss: 4108174753792.0000 - val_loss: 14742897819648.0000\n"
     ]
    },
    {
     "data": {
      "text/plain": [
       "<keras.src.callbacks.history.History at 0x210c95b6fc0>"
      ]
     },
     "execution_count": 21,
     "metadata": {},
     "output_type": "execute_result"
    }
   ],
   "source": [
    "model.fit(x=X_train, y=y_train, epochs=30, validation_data=(X_val, y_val), callbacks=callback_list)"
   ]
  },
  {
   "cell_type": "markdown",
   "id": "888eb7c8",
   "metadata": {},
   "source": [
    "#### Performance and Error Metrics"
   ]
  },
  {
   "cell_type": "code",
   "execution_count": 22,
   "id": "207e98d4",
   "metadata": {},
   "outputs": [
    {
     "data": {
      "text/plain": [
       "<Axes: >"
      ]
     },
     "execution_count": 22,
     "metadata": {},
     "output_type": "execute_result"
    },
    {
     "data": {
      "image/png": "[encoded data removed]",
      "text/plain": [
       "<Figure size 640x480 with 1 Axes>"
      ]
     },
     "metadata": {},
     "output_type": "display_data"
    }
   ],
   "source": [
    "loss_df = pd.DataFrame(model.history.history)\n",
    "loss_df.plot()"
   ]
  },
  {
   "cell_type": "markdown",
   "id": "d35410a2",
   "metadata": {},
   "source": [
    "The graph shows the training and validation loss over 30 epochs.\n",
    "The training loss remains relatively stable, while the validation loss increases sharply toward the end, indicating that the model begins to overfit and struggles to generalize data."
   ]
  },
  {
   "cell_type": "markdown",
   "id": "a43a15bb",
   "metadata": {},
   "source": [
    "#### Load the best model version"
   ]
  },
  {
   "cell_type": "code",
   "execution_count": null,
   "id": "b7ae804f",
   "metadata": {},
   "outputs": [],
   "source": [
    "from keras.models import load_model\n",
    "model = load_model(\"best_model_california_state.keras\")"
   ]
  },
  {
   "cell_type": "markdown",
   "id": "363d8693",
   "metadata": {},
   "source": [
    "Since the training loss is slightly higher than the test loss, the model demonstrates a balanced performance without strong signs of overfitting."
   ]
  },
  {
   "cell_type": "code",
   "execution_count": 24,
   "id": "220146bf",
   "metadata": {},
   "outputs": [
    {
     "name": "stdout",
     "output_type": "stream",
     "text": [
      "Test data evaluation:\n",
      "3046870089728.0\n",
      "\n",
      "Train data evaluation:\n",
      "4465339924480.0\n"
     ]
    }
   ],
   "source": [
    "print(\"Test data evaluation:\")\n",
    "print(model.evaluate(X_test, y_test, verbose=0))\n",
    "print(\"\\nTrain data evaluation:\")\n",
    "print(model.evaluate(X_train, y_train, verbose=0))"
   ]
  },
  {
   "cell_type": "code",
   "execution_count": 25,
   "id": "47e5b7f5",
   "metadata": {},
   "outputs": [
    {
     "name": "stdout",
     "output_type": "stream",
     "text": [
      "\u001b[1m740/740\u001b[0m \u001b[32m━━━━━━━━━━━━━━━━━━━━\u001b[0m\u001b[37m\u001b[0m \u001b[1m1s\u001b[0m 874us/step\n"
     ]
    },
    {
     "data": {
      "application/vnd.microsoft.datawrangler.viewer.v0+json": {
       "columns": [
        {
         "name": "index",
         "rawType": "int64",
         "type": "integer"
        },
        {
         "name": "Test True Y",
         "rawType": "float64",
         "type": "float"
        },
        {
         "name": "Model Predictions",
         "rawType": "float32",
         "type": "float"
        }
       ],
       "ref": "1a699e59-33b8-46ed-83a2-6728d410852d",
       "rows": [
        [
         "0",
         "925000.0",
         "1.1482356e+06"
        ],
        [
         "1",
         "799000.0",
         "745709.2"
        ],
        [
         "2",
         "475000.0",
         "514493.12"
        ],
        [
         "3",
         "899000.0",
         "910884.75"
        ],
        [
         "4",
         "575000.0",
         "484906.75"
        ],
        [
         "5",
         "800000.0",
         "1.00321456e+06"
        ],
        [
         "6",
         "679000.0",
         "623971.3"
        ],
        [
         "7",
         "684999.0",
         "631435.75"
        ],
        [
         "8",
         "465000.0",
         "697395.1"
        ],
        [
         "9",
         "289900.0",
         "456060.78"
        ],
        [
         "10",
         "509900.0",
         "552965.94"
        ],
        [
         "11",
         "299999.0",
         "436713.2"
        ],
        [
         "12",
         "309900.0",
         "499110.53"
        ],
        [
         "13",
         "310000.0",
         "583504.1"
        ],
        [
         "14",
         "975000.0",
         "580231.5"
        ],
        [
         "15",
         "325000.0",
         "466032.28"
        ],
        [
         "16",
         "425000.0",
         "472879.88"
        ],
        [
         "17",
         "530000.0",
         "760950.44"
        ],
        [
         "18",
         "879888.0",
         "750020.9"
        ],
        [
         "19",
         "245000.0",
         "429351.22"
        ],
        [
         "20",
         "374999.0",
         "4.398131e+07"
        ],
        [
         "21",
         "879000.0",
         "808013.0"
        ],
        [
         "22",
         "988000.0",
         "766380.56"
        ],
        [
         "23",
         "525000.0",
         "584957.5"
        ],
        [
         "24",
         "525900.0",
         "486448.84"
        ],
        [
         "25",
         "1249000.0",
         "1.04665906e+06"
        ],
        [
         "26",
         "828500.0",
         "715309.1"
        ],
        [
         "27",
         "460000.0",
         "774441.56"
        ],
        [
         "28",
         "650000.0",
         "607077.94"
        ],
        [
         "29",
         "779000.0",
         "690579.1"
        ],
        [
         "30",
         "509900.0",
         "544534.56"
        ],
        [
         "31",
         "3700000.0",
         "2.2517828e+06"
        ],
        [
         "32",
         "444000.0",
         "540206.3"
        ],
        [
         "33",
         "340000.0",
         "588789.2"
        ],
        [
         "34",
         "1198000.0",
         "1.1996759e+06"
        ],
        [
         "35",
         "3498000.0",
         "4.2704305e+06"
        ],
        [
         "36",
         "770000.0",
         "597202.75"
        ],
        [
         "37",
         "429999.0",
         "597623.75"
        ],
        [
         "38",
         "420000.0",
         "927611.44"
        ],
        [
         "39",
         "240000.0",
         "474358.72"
        ],
        [
         "40",
         "400000.0",
         "516290.97"
        ],
        [
         "41",
         "999000.0",
         "964086.5"
        ],
        [
         "42",
         "745000.0",
         "691478.1"
        ],
        [
         "43",
         "599950.0",
         "545111.3"
        ],
        [
         "44",
         "562009.0",
         "721569.6"
        ],
        [
         "45",
         "250000.0",
         "524470.9"
        ],
        [
         "46",
         "970000.0",
         "1.7998814e+06"
        ],
        [
         "47",
         "525000.0",
         "530869.2"
        ],
        [
         "48",
         "499999.0",
         "569159.06"
        ],
        [
         "49",
         "575000.0",
         "764420.4"
        ]
       ],
       "shape": {
        "columns": 2,
        "rows": 23659
       }
      },
      "text/html": [
       "<div>\n",
       "<style scoped>\n",
       "    .dataframe tbody tr th:only-of-type {\n",
       "        vertical-align: middle;\n",
       "    }\n",
       "\n",
       "    .dataframe tbody tr th {\n",
       "        vertical-align: top;\n",
       "    }\n",
       "\n",
       "    .dataframe thead th {\n",
       "        text-align: right;\n",
       "    }\n",
       "</style>\n",
       "<table border=\"1\" class=\"dataframe\">\n",
       "  <thead>\n",
       "    <tr style=\"text-align: right;\">\n",
       "      <th></th>\n",
       "      <th>Test True Y</th>\n",
       "      <th>Model Predictions</th>\n",
       "    </tr>\n",
       "  </thead>\n",
       "  <tbody>\n",
       "    <tr>\n",
       "      <th>0</th>\n",
       "      <td>925000.00</td>\n",
       "      <td>1148235.62</td>\n",
       "    </tr>\n",
       "    <tr>\n",
       "      <th>1</th>\n",
       "      <td>799000.00</td>\n",
       "      <td>745709.19</td>\n",
       "    </tr>\n",
       "    <tr>\n",
       "      <th>2</th>\n",
       "      <td>475000.00</td>\n",
       "      <td>514493.12</td>\n",
       "    </tr>\n",
       "    <tr>\n",
       "      <th>3</th>\n",
       "      <td>899000.00</td>\n",
       "      <td>910884.75</td>\n",
       "    </tr>\n",
       "    <tr>\n",
       "      <th>4</th>\n",
       "      <td>575000.00</td>\n",
       "      <td>484906.75</td>\n",
       "    </tr>\n",
       "    <tr>\n",
       "      <th>...</th>\n",
       "      <td>...</td>\n",
       "      <td>...</td>\n",
       "    </tr>\n",
       "    <tr>\n",
       "      <th>23654</th>\n",
       "      <td>900000.00</td>\n",
       "      <td>825647.31</td>\n",
       "    </tr>\n",
       "    <tr>\n",
       "      <th>23655</th>\n",
       "      <td>679000.00</td>\n",
       "      <td>477235.34</td>\n",
       "    </tr>\n",
       "    <tr>\n",
       "      <th>23656</th>\n",
       "      <td>728888.00</td>\n",
       "      <td>1022767.75</td>\n",
       "    </tr>\n",
       "    <tr>\n",
       "      <th>23657</th>\n",
       "      <td>450000.00</td>\n",
       "      <td>582456.00</td>\n",
       "    </tr>\n",
       "    <tr>\n",
       "      <th>23658</th>\n",
       "      <td>799998.00</td>\n",
       "      <td>549864.62</td>\n",
       "    </tr>\n",
       "  </tbody>\n",
       "</table>\n",
       "<p>23659 rows × 2 columns</p>\n",
       "</div>"
      ],
      "text/plain": [
       "       Test True Y  Model Predictions\n",
       "0        925000.00         1148235.62\n",
       "1        799000.00          745709.19\n",
       "2        475000.00          514493.12\n",
       "3        899000.00          910884.75\n",
       "4        575000.00          484906.75\n",
       "...            ...                ...\n",
       "23654    900000.00          825647.31\n",
       "23655    679000.00          477235.34\n",
       "23656    728888.00         1022767.75\n",
       "23657    450000.00          582456.00\n",
       "23658    799998.00          549864.62\n",
       "\n",
       "[23659 rows x 2 columns]"
      ]
     },
     "execution_count": 25,
     "metadata": {},
     "output_type": "execute_result"
    }
   ],
   "source": [
    "test_predictions = model.predict(X_test)\n",
    "\n",
    "test_predictions = pd.Series(test_predictions.reshape(len(y_test),))\n",
    "pred_df = pd.DataFrame(np.asarray(y_test), columns=['Test True Y'])\n",
    "pred_df = pd.concat([pred_df, test_predictions], axis=1)\n",
    "pred_df.columns = ['Test True Y', 'Model Predictions']\n",
    "\n",
    "pred_df"
   ]
  },
  {
   "cell_type": "code",
   "execution_count": 26,
   "id": "51849e17",
   "metadata": {},
   "outputs": [
    {
     "data": {
      "text/plain": [
       "<Axes: xlabel='Test True Y', ylabel='Model Predictions'>"
      ]
     },
     "execution_count": 26,
     "metadata": {},
     "output_type": "execute_result"
    },
    {
     "data": {
      "image/png": "[encoded data removed]",
      "text/plain": [
       "<Figure size 640x480 with 1 Axes>"
      ]
     },
     "metadata": {},
     "output_type": "display_data"
    }
   ],
   "source": [
    "sns.scatterplot(x='Test True Y', y='Model Predictions', data=pred_df)"
   ]
  },
  {
   "cell_type": "code",
   "execution_count": 27,
   "id": "1acb9536",
   "metadata": {},
   "outputs": [
    {
     "name": "stdout",
     "output_type": "stream",
     "text": [
      "MAE\n",
      "398051.65 $\n",
      "\n",
      "MSE\n",
      "3046868915168.33 $^2\n",
      "\n",
      "RMSE:\n",
      "1745528.26 $\n",
      "\n",
      "R-squared:\n",
      "0.37\n",
      "\n",
      "Explained variance score:\n",
      "0.37\n"
     ]
    }
   ],
   "source": [
    "print(\"MAE\")\n",
    "print(round(metrics.mean_absolute_error(y_test, test_predictions), 2), \"$\")\n",
    "\n",
    "print(\"\\nMSE\")\n",
    "print(round(metrics.mean_squared_error(y_test, test_predictions), 2), \"$^2\")\n",
    "\n",
    "print('\\nRMSE:')\n",
    "print(round(np.sqrt(metrics.mean_squared_error(y_test, test_predictions)), 2), \"$\")\n",
    "\n",
    "print('\\nR-squared:')\n",
    "print(round(metrics.r2_score(y_test, test_predictions), 2))\n",
    "\n",
    "print(\"\\nExplained variance score:\")\n",
    "print(round(metrics.explained_variance_score(y_test, test_predictions), 2))"
   ]
  },
  {
   "cell_type": "markdown",
   "id": "8481b6c8",
   "metadata": {},
   "source": [
    "With an R²-score of 0.37 and an explained variance of 0.37, the model explains about 37 % of the variation in house prices, showing a moderate improvement in predictive accuracy."
   ]
  },
  {
   "cell_type": "code",
   "execution_count": 29,
   "id": "b5244ca4",
   "metadata": {},
   "outputs": [
    {
     "data": {
      "text/plain": [
       "Index(['price', 'bed', 'bath', 'acre_lot', 'house_size',\n",
       "       'ZipCodeClusterValue'],\n",
       "      dtype='object')"
      ]
     },
     "execution_count": 29,
     "metadata": {},
     "output_type": "execute_result"
    }
   ],
   "source": [
    "df.columns"
   ]
  },
  {
   "cell_type": "markdown",
   "id": "7c0b8e28",
   "metadata": {},
   "source": [
    "#### Trying the model in practice with new imaginery house"
   ]
  },
  {
   "cell_type": "code",
   "execution_count": 40,
   "id": "1536d7aa",
   "metadata": {},
   "outputs": [],
   "source": [
    "tester_row = {\n",
    "    \"bed\": 4,\n",
    "    \"bath\": 3,\n",
    "    \"acre_lot\": 0.14,\n",
    "    \"house_size\": 3054.0,\n",
    "    \"ZipCOdeClusterValue\": 379850,\n",
    "}\n",
    "\n",
    "tester_row = pd.DataFrame([tester_row])"
   ]
  },
  {
   "cell_type": "code",
   "execution_count": 41,
   "id": "76472993",
   "metadata": {},
   "outputs": [
    {
     "name": "stdout",
     "output_type": "stream",
     "text": [
      "\u001b[1m1/1\u001b[0m \u001b[32m━━━━━━━━━━━━━━━━━━━━\u001b[0m\u001b[37m\u001b[0m \u001b[1m0s\u001b[0m 35ms/step\n",
      "\n",
      "Estimated house price:\n",
      "$ 736333.75\n",
      "----------------\n"
     ]
    }
   ],
   "source": [
    "result = model.predict(tester_row)[0]\n",
    "\n",
    "print()\n",
    "print(f\"Estimated house price:\")\n",
    "print(f\"$ {round(float(result[0]), 2)}\")\n",
    "print(\"----------------\")"
   ]
  },
  {
   "cell_type": "markdown",
   "id": "053ac3f2",
   "metadata": {},
   "source": [
    "#### Conclusion\n",
    "In this project, the model was trained using housing data exclusively from the state of California.\n",
    "\n",
    "Several feature engineering and statistical methods were applied, including OneHotEncoding, LabelEncoding and MiniBatchKMeans.\n",
    "\n",
    "After model training, the R²-score reached 0.37, and the explained variance score was also 0.37, indicating that the model was able to explain around 37% of the variation in house prices.\n",
    "\n",
    "Throughout this project, I followed the lecturer’s GitHub code structure as closely as possible. I only used AI or external sources when I could not find suitable examples or methods in the provided GitHub scripts.\n",
    "\n",
    "Overall, the project demonstrates that even when using data from a single U.S. state as well as clustering can significantly enhance model performance."
   ]
  }
 ],
 "metadata": {
  "kernelspec": {
   "display_name": "venv312 (3.12.10)",
   "language": "python",
   "name": "python3"
  },
  "language_info": {
   "codemirror_mode": {
    "name": "ipython",
    "version": 3
   },
   "file_extension": ".py",
   "mimetype": "text/x-python",
   "name": "python",
   "nbconvert_exporter": "python",
   "pygments_lexer": "ipython3",
   "version": "3.12.10"
  }
 },
 "nbformat": 4,
 "nbformat_minor": 5
}

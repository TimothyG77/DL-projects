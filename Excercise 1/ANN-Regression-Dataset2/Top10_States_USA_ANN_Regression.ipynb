{
 "cells": [
  {
   "cell_type": "markdown",
   "id": "2f42abdb",
   "metadata": {},
   "source": [
    "#### Top 10 USA States - Housing Prices - Excercise 1 - Dataset 2 - Timothy Gregorian"
   ]
  },
  {
   "cell_type": "markdown",
   "id": "6624f9bf",
   "metadata": {},
   "source": [
    "In this project, I used the same U.S. housing dataset as before (All_States_USA_ANN_Regression.ipynb) but focused only on the top 10 states with the most records. From these states, I randomly sampled data and trained a predictive model to estimate house prices. The goal was to test whether reducing the dataset to fewer but more consistent regions could improve the overall model performance and increase the R² score compared to using all states."
   ]
  },
  {
   "cell_type": "markdown",
   "id": "bb2bbb6e",
   "metadata": {},
   "source": [
    "#### Use of AI\n",
    " I used AI to generate ideas on how to improve the error metrics (e.g., R², MSE, MAE, RMSE). The AI supported me in identifying possible causes for poor performance (such as dataset quality, feature encoding, scaling, or model architecture) and suggested alternative strategies."
   ]
  },
  {
   "cell_type": "markdown",
   "id": "0b4127fd",
   "metadata": {},
   "source": [
    "#### Link to Dataset 2\n",
    "https://www.kaggle.com/datasets/ahmedshahriarsakib/usa-real-estate-dataset"
   ]
  },
  {
   "cell_type": "markdown",
   "id": "fbb6a3a5",
   "metadata": {},
   "source": [
    "#### Information about the Dataset\n",
    "This USA Housing Market Dataset contains around 2.2 million rows and 12 columns of real-estate related data, which can be used for housing price predictions."
   ]
  },
  {
   "cell_type": "markdown",
   "id": "e3d329e5",
   "metadata": {},
   "source": [
    "#### Data Description\n",
    "The dataset contains thousands of housing records from different U.S. states and includes multiple variables that can affect property prices. Some of the key variables are:\n",
    "\n",
    "1) brokered_by: Real estate agency or broker responsible for the listing.\n",
    "\n",
    "2) status: Current status of the property.\n",
    "\n",
    "3) price: Selling price of the house -> target variable.\n",
    "\n",
    "4) bed: Number of bedrooms.\n",
    "\n",
    "5) bath: Number of bathrooms.\n",
    "\n",
    "6) acre_lot: Lot size in acres.\n",
    "\n",
    "7) street: Street address of the property.\n",
    "\n",
    "8) city: City where the house is located.\n",
    "\n",
    "9) state: State where the house is located.\n",
    "\n",
    "10) zip_code: Postal code of the property.\n",
    "\n",
    "11) house_size: Total living area of the house in square feet.\n",
    "\n",
    "12) prev_sold_date: Date when the property was previously sold."
   ]
  },
  {
   "cell_type": "markdown",
   "id": "c5c7a097",
   "metadata": {},
   "source": [
    "#### Import all necessary libraries"
   ]
  },
  {
   "cell_type": "code",
   "execution_count": 2,
   "id": "480a8690",
   "metadata": {},
   "outputs": [],
   "source": [
    "import pandas as pd\n",
    "import numpy as np\n",
    "\n",
    "from sklearn.model_selection import train_test_split\n",
    "from sklearn.preprocessing import StandardScaler\n",
    "from sklearn.metrics import r2_score, mean_squared_error, mean_absolute_error\n",
    "from sklearn import metrics\n",
    "\n",
    "import matplotlib.pyplot as plt\n",
    "from tensorflow.keras.models import Sequential\n",
    "from tensorflow.keras.layers import Dense, Dropout, BatchNormalization\n",
    "\n",
    "import tensorflow as tf\n",
    "import keras\n",
    "from keras import layers "
   ]
  },
  {
   "cell_type": "markdown",
   "id": "ebd8be0a",
   "metadata": {},
   "source": [
    "#### Load the Dataset / Handle Missing Values\n",
    "In the following code, \"value_counts()\" with \"nlargest(10).index\" counts the top 10 states of the USA with the most amount of data entries."
   ]
  },
  {
   "cell_type": "code",
   "execution_count": 3,
   "id": "d5489beb",
   "metadata": {},
   "outputs": [
    {
     "name": "stdout",
     "output_type": "stream",
     "text": [
      "Shape after dropping irrelevant columns: (2226382, 7)\n",
      "Shape after removing NaN values in core variables: (1360627, 7)\n",
      "Shape after removing duplicates: (1259367, 7)\n",
      "Shape after filtering Top 10 states: (719086, 7)\n",
      "Shape after final sampling: (500000, 7)\n"
     ]
    }
   ],
   "source": [
    "import pandas as pd\n",
    "\n",
    "data = pd.read_csv(\"realtor-data.zip.csv\")\n",
    "\n",
    "drop_cols = [\"brokered_by\", \"status\", \"street\", \"city\", \"prev_sold_date\"]\n",
    "data = data.drop(columns=drop_cols)\n",
    "\n",
    "print(\"Shape after dropping irrelevant columns:\", data.shape)\n",
    "\n",
    "core_cols = [\"price\", \"bed\", \"bath\", \"acre_lot\", \"house_size\", \"state\", \"zip_code\"]\n",
    "data = data.dropna(subset=core_cols)\n",
    "\n",
    "print(\"Shape after removing NaN values in core variables:\", data.shape)\n",
    "\n",
    "data = data.drop_duplicates()\n",
    "print(\"Shape after removing duplicates:\", data.shape)\n",
    "\n",
    "top10_states = data[\"state\"].value_counts().nlargest(10).index\n",
    "data = data[data[\"state\"].isin(top10_states)]\n",
    "\n",
    "print(\"Shape after filtering Top 10 states:\", data.shape)\n",
    "\n",
    "if len(data) >= 500_000:\n",
    "    data = data.sample(n=500_000, random_state=7)\n",
    "else:\n",
    "    print(f\"Warning -> Only {len(data)} rows available after filtering, using all rows instead!\")\n",
    "\n",
    "print(\"Shape after final sampling:\", data.shape)\n"
   ]
  },
  {
   "cell_type": "code",
   "execution_count": 4,
   "id": "5ade32cc",
   "metadata": {},
   "outputs": [
    {
     "name": "stdout",
     "output_type": "stream",
     "text": [
      "Missing values after cleaning:\n",
      " price         0\n",
      "bed           0\n",
      "bath          0\n",
      "acre_lot      0\n",
      "state         0\n",
      "zip_code      0\n",
      "house_size    0\n",
      "dtype: int64\n"
     ]
    }
   ],
   "source": [
    "print(\"Missing values after cleaning:\\n\", data.isna().sum())"
   ]
  },
  {
   "cell_type": "code",
   "execution_count": 5,
   "id": "1083c5f2",
   "metadata": {},
   "outputs": [
    {
     "name": "stdout",
     "output_type": "stream",
     "text": [
      "Shape nach Duplikat-Entfernung: (500000, 7)\n"
     ]
    }
   ],
   "source": [
    "print(\"Shape nach Duplikat-Entfernung:\", data.shape)"
   ]
  },
  {
   "cell_type": "code",
   "execution_count": 6,
   "id": "c212a893",
   "metadata": {},
   "outputs": [
    {
     "name": "stdout",
     "output_type": "stream",
     "text": [
      "Number of rows per state:\n",
      " state\n",
      "California      107519\n",
      "Texas            91985\n",
      "Florida          81025\n",
      "New York         34275\n",
      "Pennsylvania     33895\n",
      "Arizona          33500\n",
      "Georgia          30829\n",
      "Illinois         29622\n",
      "Washington       28803\n",
      "Virginia         28547\n",
      "Name: count, dtype: int64\n",
      "\n",
      "Shape of state_df: (10, 2)\n",
      "          state   count\n",
      "0    California  107519\n",
      "1         Texas   91985\n",
      "2       Florida   81025\n",
      "3      New York   34275\n",
      "4  Pennsylvania   33895\n",
      "5       Arizona   33500\n",
      "6       Georgia   30829\n",
      "7      Illinois   29622\n",
      "8    Washington   28803\n",
      "9      Virginia   28547\n"
     ]
    }
   ],
   "source": [
    "state_counts = data['state'].value_counts().sort_values(ascending=False)\n",
    "\n",
    "print(\"Number of rows per state:\\n\", state_counts)\n",
    "\n",
    "state_df = state_counts.reset_index()\n",
    "state_df.columns = ['state', 'count']\n",
    "\n",
    "print(\"\\nShape of state_df:\", state_df.shape)\n",
    "print(state_df.head(10))  "
   ]
  },
  {
   "cell_type": "code",
   "execution_count": 7,
   "id": "b3201d6b",
   "metadata": {},
   "outputs": [],
   "source": [
    "def zipcode_to_region(zipcode):\n",
    "    if 1 <= zipcode < 30000:\n",
    "        return \"East\"\n",
    "    elif 30000 <= zipcode < 50000:\n",
    "        return \"South\"\n",
    "    elif 50000 <= zipcode < 70000:\n",
    "        return \"North\"\n",
    "    else:\n",
    "        return \"West\"\n",
    "\n",
    "data[\"Region\"] = data[\"zip_code\"].apply(zipcode_to_region)\n",
    "\n",
    "data = data.drop(columns=[\"Region_East\", \"Region_South\", \"Region_North\", \"Region_West\"], errors=\"ignore\")\n",
    "\n",
    "data = pd.get_dummies(data, columns=[\"Region\"], drop_first=False)"
   ]
  },
  {
   "cell_type": "code",
   "execution_count": 8,
   "id": "c50fd94d",
   "metadata": {},
   "outputs": [
    {
     "name": "stdout",
     "output_type": "stream",
     "text": [
      "Columns after status encoding: ['price', 'bed', 'bath', 'acre_lot', 'state', 'zip_code', 'house_size', 'Region_East', 'Region_North', 'Region_South', 'Region_West']\n"
     ]
    }
   ],
   "source": [
    "print(\"Columns after status encoding:\", data.columns.tolist())"
   ]
  },
  {
   "cell_type": "code",
   "execution_count": 9,
   "id": "2dc50cb3",
   "metadata": {},
   "outputs": [
    {
     "name": "stdout",
     "output_type": "stream",
     "text": [
      "Shape of X: (500000, 9)\n",
      "Shape of y: (500000,)\n"
     ]
    }
   ],
   "source": [
    "y = data[\"price\"]\n",
    "X = data.drop([\"price\", \"zip_code\"], axis=1)  \n",
    "\n",
    "print(\"Shape of X:\", X.shape)\n",
    "print(\"Shape of y:\", y.shape)"
   ]
  },
  {
   "cell_type": "markdown",
   "id": "9128b3a7",
   "metadata": {},
   "source": [
    "#### Correlation"
   ]
  },
  {
   "cell_type": "code",
   "execution_count": 10,
   "id": "4ecd1691",
   "metadata": {},
   "outputs": [
    {
     "data": {
      "image/png": "[encoded data removed]",
      "text/plain": [
       "<Figure size 1000x600 with 2 Axes>"
      ]
     },
     "metadata": {},
     "output_type": "display_data"
    }
   ],
   "source": [
    "import seaborn as sns\n",
    "import matplotlib.pyplot as plt\n",
    "\n",
    "corr = X.join(y).corr(numeric_only=True)\n",
    "\n",
    "plt.figure(figsize=(10, 6))\n",
    "sns.heatmap(corr, annot=True, cmap=\"coolwarm\", fmt=\".2f\")\n",
    "plt.title(\"Correlation Matrix of Housing Data\")\n",
    "plt.show()"
   ]
  },
  {
   "cell_type": "markdown",
   "id": "fdfa4df2",
   "metadata": {},
   "source": [
    "In the Top 10 states dataset, the correlations are generally similar to the full dataset: bedrooms and bathrooms remain strongly related, and both show a moderate positive link to price. However, the relationships of house_size and bathrooms with price appear slightly stronger, while regional effects remain weak, suggesting that limiting the dataset did not change the overall correlation patterns significantly."
   ]
  },
  {
   "cell_type": "markdown",
   "id": "3a385c14",
   "metadata": {},
   "source": [
    "#### Fisher-Score Test"
   ]
  },
  {
   "cell_type": "code",
   "execution_count": 11,
   "id": "98f35c4e",
   "metadata": {},
   "outputs": [
    {
     "data": {
      "image/png": "[encoded data removed]",
      "text/plain": [
       "<Figure size 800x500 with 1 Axes>"
      ]
     },
     "metadata": {},
     "output_type": "display_data"
    }
   ],
   "source": [
    "from skfeature.function.similarity_based import fisher_score\n",
    "\n",
    "X_sub = X.sample(n=10000, random_state=7)\n",
    "y_sub = y.loc[X_sub.index]\n",
    "\n",
    "X_sub = X_sub.select_dtypes(include=[\"number\"])\n",
    "\n",
    "y_binned = pd.qcut(y_sub, q=4, labels=False)\n",
    "\n",
    "ranks = fisher_score.fisher_score(X_sub.values, y_binned.values)\n",
    "feat_importances = pd.Series(ranks, index=X_sub.columns)\n",
    "\n",
    "feat_importances.sort_values(ascending=False).plot(kind=\"barh\", figsize=(8, 5))\n",
    "plt.title(\"Feature Importance by Fisher Score (Subset of 10k, Numeric Only)\")\n",
    "plt.show()\n"
   ]
  },
  {
   "cell_type": "markdown",
   "id": "4fd89fc0",
   "metadata": {},
   "source": [
    "The results show that acre_lot and bedrooms are the most important features, while house_size has a smaller influence and bathrooms contribute the least. This is consistent with the full dataset."
   ]
  },
  {
   "cell_type": "markdown",
   "id": "efd95cb6",
   "metadata": {},
   "source": [
    "#### Chi²-Test"
   ]
  },
  {
   "cell_type": "code",
   "execution_count": 12,
   "id": "bfe4656d",
   "metadata": {},
   "outputs": [
    {
     "name": "stdout",
     "output_type": "stream",
     "text": [
      "      Feature    Chi2 Score\n",
      "3  house_size  7.292031e+07\n",
      "2    acre_lot  1.788843e+06\n",
      "1        bath  6.558322e+04\n",
      "0         bed  2.147553e+04\n"
     ]
    }
   ],
   "source": [
    "import numpy as np\n",
    "import pandas as pd\n",
    "from sklearn.feature_selection import SelectKBest, chi2\n",
    "\n",
    "X_num = X.select_dtypes(include=[\"number\"])\n",
    "\n",
    "X_cat = np.abs(X_num)\n",
    "\n",
    "y_cat = pd.qcut(y, q=4, labels=False)\n",
    "\n",
    "chi2_selector = SelectKBest(score_func=chi2, k=\"all\")\n",
    "chi2_selector.fit(X_cat, y_cat)\n",
    "\n",
    "chi2_scores = pd.DataFrame({\n",
    "    \"Feature\": X_num.columns,\n",
    "    \"Chi2 Score\": chi2_selector.scores_\n",
    "}).sort_values(by=\"Chi2 Score\", ascending=False)\n",
    "\n",
    "print(chi2_scores)\n"
   ]
  },
  {
   "cell_type": "markdown",
   "id": "35515c61",
   "metadata": {},
   "source": [
    "House_size becomes the strongest predictor by far, followed by acre_lot, while bathrooms and especially bedrooms are less relevant. Compared to the larger dataset, the ranking is similar but with even clearer dominance of house_size."
   ]
  },
  {
   "cell_type": "markdown",
   "id": "8fba876b",
   "metadata": {},
   "source": [
    "#### VIF-Test"
   ]
  },
  {
   "cell_type": "code",
   "execution_count": 13,
   "id": "43e5e3a9",
   "metadata": {},
   "outputs": [
    {
     "name": "stdout",
     "output_type": "stream",
     "text": [
      "      Feature       VIF\n",
      "0         bed  8.733776\n",
      "1        bath  9.090048\n",
      "2    acre_lot  1.000271\n",
      "3  house_size  1.885591\n"
     ]
    }
   ],
   "source": [
    "from statsmodels.stats.outliers_influence import variance_inflation_factor\n",
    "import pandas as pd\n",
    "\n",
    "X_vif = X.select_dtypes(include=[\"number\"]).copy()\n",
    "\n",
    "X_vif = X_vif.astype(float)\n",
    "\n",
    "vif_data = pd.DataFrame()\n",
    "vif_data[\"Feature\"] = X_vif.columns\n",
    "vif_data[\"VIF\"] = [variance_inflation_factor(X_vif.values, i) for i in range(X_vif.shape[1])]\n",
    "\n",
    "print(vif_data)"
   ]
  },
  {
   "cell_type": "markdown",
   "id": "680e46bb",
   "metadata": {},
   "source": [
    "The VIF values again show high multicollinearity between bedrooms and bathrooms, while acre_lot and house_size remain independent. The overall pattern is nearly the same as in the full dataset."
   ]
  },
  {
   "cell_type": "code",
   "execution_count": 14,
   "id": "7df74d7f",
   "metadata": {},
   "outputs": [
    {
     "name": "stdout",
     "output_type": "stream",
     "text": [
      "Shape after state encoding: (500000, 18)\n"
     ]
    }
   ],
   "source": [
    "X = pd.get_dummies(X, columns=[\"state\"], drop_first=False)\n",
    "\n",
    "print(\"Shape after state encoding:\", X.shape)"
   ]
  },
  {
   "cell_type": "code",
   "execution_count": 15,
   "id": "699c555d",
   "metadata": {},
   "outputs": [
    {
     "name": "stdout",
     "output_type": "stream",
     "text": [
      "['bed', 'bath', 'acre_lot', 'house_size', 'Region_East', 'Region_North', 'Region_South', 'Region_West', 'state_Arizona', 'state_California', 'state_Florida', 'state_Georgia', 'state_Illinois', 'state_New York', 'state_Pennsylvania', 'state_Texas', 'state_Virginia', 'state_Washington']\n"
     ]
    }
   ],
   "source": [
    "print(X.columns.to_list())"
   ]
  },
  {
   "cell_type": "markdown",
   "id": "7970f2d8",
   "metadata": {},
   "source": [
    "#### Train-/Test-/Validation-Split (70%/15%/15%)"
   ]
  },
  {
   "cell_type": "code",
   "execution_count": 16,
   "id": "fd662ec7",
   "metadata": {},
   "outputs": [
    {
     "name": "stdout",
     "output_type": "stream",
     "text": [
      "Training size: (350000, 18)\n",
      "Validation size: (75000, 18)\n",
      "Test size: (75000, 18)\n"
     ]
    }
   ],
   "source": [
    "from sklearn.model_selection import train_test_split\n",
    "\n",
    "X_train, X_temp, y_train, y_temp = train_test_split(\n",
    "    X, y, test_size=0.3, random_state=7\n",
    ")\n",
    "\n",
    "X_val, X_test, y_val, y_test = train_test_split(\n",
    "    X_temp, y_temp, test_size=0.5, random_state=7\n",
    ")\n",
    "\n",
    "print(\"Training size:\", X_train.shape)\n",
    "print(\"Validation size:\", X_val.shape)\n",
    "print(\"Test size:\", X_test.shape)"
   ]
  },
  {
   "cell_type": "code",
   "execution_count": 17,
   "id": "e62c7b4d",
   "metadata": {},
   "outputs": [],
   "source": [
    "from sklearn.preprocessing import StandardScaler\n",
    "\n",
    "scaler = StandardScaler()\n",
    "\n",
    "X_train = scaler.fit_transform(X_train)\n",
    "X_val   = scaler.transform(X_val)\n",
    "X_test  = scaler.transform(X_test)"
   ]
  },
  {
   "cell_type": "markdown",
   "id": "b4e1e6a1",
   "metadata": {},
   "source": [
    "#### Neural Network Architecture"
   ]
  },
  {
   "cell_type": "code",
   "execution_count": 18,
   "id": "c2ac42de",
   "metadata": {},
   "outputs": [
    {
     "name": "stderr",
     "output_type": "stream",
     "text": [
      "d:\\5. Semester\\Deep Learning\\DL-projects\\venv312\\Lib\\site-packages\\keras\\src\\layers\\normalization\\batch_normalization.py:142: UserWarning: Do not pass an `input_shape`/`input_dim` argument to a layer. When using Sequential models, prefer using an `Input(shape)` object as the first layer in the model instead.\n",
      "  super().__init__(**kwargs)\n"
     ]
    },
    {
     "data": {
      "text/html": [
       "<pre style=\"white-space:pre;overflow-x:auto;line-height:normal;font-family:Menlo,'DejaVu Sans Mono',consolas,'Courier New',monospace\"><span style=\"font-weight: bold\">Model: \"sequential\"</span>\n",
       "</pre>\n"
      ],
      "text/plain": [
       "\u001b[1mModel: \"sequential\"\u001b[0m\n"
      ]
     },
     "metadata": {},
     "output_type": "display_data"
    },
    {
     "data": {
      "text/html": [
       "<pre style=\"white-space:pre;overflow-x:auto;line-height:normal;font-family:Menlo,'DejaVu Sans Mono',consolas,'Courier New',monospace\">┏━━━━━━━━━━━━━━━━━━━━━━━━━━━━━━━━━┳━━━━━━━━━━━━━━━━━━━━━━━━┳━━━━━━━━━━━━━━━┓\n",
       "┃<span style=\"font-weight: bold\"> Layer (type)                    </span>┃<span style=\"font-weight: bold\"> Output Shape           </span>┃<span style=\"font-weight: bold\">       Param # </span>┃\n",
       "┡━━━━━━━━━━━━━━━━━━━━━━━━━━━━━━━━━╇━━━━━━━━━━━━━━━━━━━━━━━━╇━━━━━━━━━━━━━━━┩\n",
       "│ batch_normalization             │ (<span style=\"color: #00d7ff; text-decoration-color: #00d7ff\">None</span>, <span style=\"color: #00af00; text-decoration-color: #00af00\">18</span>)             │            <span style=\"color: #00af00; text-decoration-color: #00af00\">72</span> │\n",
       "│ (<span style=\"color: #0087ff; text-decoration-color: #0087ff\">BatchNormalization</span>)            │                        │               │\n",
       "├─────────────────────────────────┼────────────────────────┼───────────────┤\n",
       "│ dense (<span style=\"color: #0087ff; text-decoration-color: #0087ff\">Dense</span>)                   │ (<span style=\"color: #00d7ff; text-decoration-color: #00d7ff\">None</span>, <span style=\"color: #00af00; text-decoration-color: #00af00\">128</span>)            │         <span style=\"color: #00af00; text-decoration-color: #00af00\">2,432</span> │\n",
       "├─────────────────────────────────┼────────────────────────┼───────────────┤\n",
       "│ dropout (<span style=\"color: #0087ff; text-decoration-color: #0087ff\">Dropout</span>)               │ (<span style=\"color: #00d7ff; text-decoration-color: #00d7ff\">None</span>, <span style=\"color: #00af00; text-decoration-color: #00af00\">128</span>)            │             <span style=\"color: #00af00; text-decoration-color: #00af00\">0</span> │\n",
       "├─────────────────────────────────┼────────────────────────┼───────────────┤\n",
       "│ dense_1 (<span style=\"color: #0087ff; text-decoration-color: #0087ff\">Dense</span>)                 │ (<span style=\"color: #00d7ff; text-decoration-color: #00d7ff\">None</span>, <span style=\"color: #00af00; text-decoration-color: #00af00\">64</span>)             │         <span style=\"color: #00af00; text-decoration-color: #00af00\">8,256</span> │\n",
       "├─────────────────────────────────┼────────────────────────┼───────────────┤\n",
       "│ dropout_1 (<span style=\"color: #0087ff; text-decoration-color: #0087ff\">Dropout</span>)             │ (<span style=\"color: #00d7ff; text-decoration-color: #00d7ff\">None</span>, <span style=\"color: #00af00; text-decoration-color: #00af00\">64</span>)             │             <span style=\"color: #00af00; text-decoration-color: #00af00\">0</span> │\n",
       "├─────────────────────────────────┼────────────────────────┼───────────────┤\n",
       "│ dense_2 (<span style=\"color: #0087ff; text-decoration-color: #0087ff\">Dense</span>)                 │ (<span style=\"color: #00d7ff; text-decoration-color: #00d7ff\">None</span>, <span style=\"color: #00af00; text-decoration-color: #00af00\">32</span>)             │         <span style=\"color: #00af00; text-decoration-color: #00af00\">2,080</span> │\n",
       "├─────────────────────────────────┼────────────────────────┼───────────────┤\n",
       "│ dense_3 (<span style=\"color: #0087ff; text-decoration-color: #0087ff\">Dense</span>)                 │ (<span style=\"color: #00d7ff; text-decoration-color: #00d7ff\">None</span>, <span style=\"color: #00af00; text-decoration-color: #00af00\">1</span>)              │            <span style=\"color: #00af00; text-decoration-color: #00af00\">33</span> │\n",
       "└─────────────────────────────────┴────────────────────────┴───────────────┘\n",
       "</pre>\n"
      ],
      "text/plain": [
       "┏━━━━━━━━━━━━━━━━━━━━━━━━━━━━━━━━━┳━━━━━━━━━━━━━━━━━━━━━━━━┳━━━━━━━━━━━━━━━┓\n",
       "┃\u001b[1m \u001b[0m\u001b[1mLayer (type)                   \u001b[0m\u001b[1m \u001b[0m┃\u001b[1m \u001b[0m\u001b[1mOutput Shape          \u001b[0m\u001b[1m \u001b[0m┃\u001b[1m \u001b[0m\u001b[1m      Param #\u001b[0m\u001b[1m \u001b[0m┃\n",
       "┡━━━━━━━━━━━━━━━━━━━━━━━━━━━━━━━━━╇━━━━━━━━━━━━━━━━━━━━━━━━╇━━━━━━━━━━━━━━━┩\n",
       "│ batch_normalization             │ (\u001b[38;5;45mNone\u001b[0m, \u001b[38;5;34m18\u001b[0m)             │            \u001b[38;5;34m72\u001b[0m │\n",
       "│ (\u001b[38;5;33mBatchNormalization\u001b[0m)            │                        │               │\n",
       "├─────────────────────────────────┼────────────────────────┼───────────────┤\n",
       "│ dense (\u001b[38;5;33mDense\u001b[0m)                   │ (\u001b[38;5;45mNone\u001b[0m, \u001b[38;5;34m128\u001b[0m)            │         \u001b[38;5;34m2,432\u001b[0m │\n",
       "├─────────────────────────────────┼────────────────────────┼───────────────┤\n",
       "│ dropout (\u001b[38;5;33mDropout\u001b[0m)               │ (\u001b[38;5;45mNone\u001b[0m, \u001b[38;5;34m128\u001b[0m)            │             \u001b[38;5;34m0\u001b[0m │\n",
       "├─────────────────────────────────┼────────────────────────┼───────────────┤\n",
       "│ dense_1 (\u001b[38;5;33mDense\u001b[0m)                 │ (\u001b[38;5;45mNone\u001b[0m, \u001b[38;5;34m64\u001b[0m)             │         \u001b[38;5;34m8,256\u001b[0m │\n",
       "├─────────────────────────────────┼────────────────────────┼───────────────┤\n",
       "│ dropout_1 (\u001b[38;5;33mDropout\u001b[0m)             │ (\u001b[38;5;45mNone\u001b[0m, \u001b[38;5;34m64\u001b[0m)             │             \u001b[38;5;34m0\u001b[0m │\n",
       "├─────────────────────────────────┼────────────────────────┼───────────────┤\n",
       "│ dense_2 (\u001b[38;5;33mDense\u001b[0m)                 │ (\u001b[38;5;45mNone\u001b[0m, \u001b[38;5;34m32\u001b[0m)             │         \u001b[38;5;34m2,080\u001b[0m │\n",
       "├─────────────────────────────────┼────────────────────────┼───────────────┤\n",
       "│ dense_3 (\u001b[38;5;33mDense\u001b[0m)                 │ (\u001b[38;5;45mNone\u001b[0m, \u001b[38;5;34m1\u001b[0m)              │            \u001b[38;5;34m33\u001b[0m │\n",
       "└─────────────────────────────────┴────────────────────────┴───────────────┘\n"
      ]
     },
     "metadata": {},
     "output_type": "display_data"
    },
    {
     "data": {
      "text/html": [
       "<pre style=\"white-space:pre;overflow-x:auto;line-height:normal;font-family:Menlo,'DejaVu Sans Mono',consolas,'Courier New',monospace\"><span style=\"font-weight: bold\"> Total params: </span><span style=\"color: #00af00; text-decoration-color: #00af00\">12,873</span> (50.29 KB)\n",
       "</pre>\n"
      ],
      "text/plain": [
       "\u001b[1m Total params: \u001b[0m\u001b[38;5;34m12,873\u001b[0m (50.29 KB)\n"
      ]
     },
     "metadata": {},
     "output_type": "display_data"
    },
    {
     "data": {
      "text/html": [
       "<pre style=\"white-space:pre;overflow-x:auto;line-height:normal;font-family:Menlo,'DejaVu Sans Mono',consolas,'Courier New',monospace\"><span style=\"font-weight: bold\"> Trainable params: </span><span style=\"color: #00af00; text-decoration-color: #00af00\">12,837</span> (50.14 KB)\n",
       "</pre>\n"
      ],
      "text/plain": [
       "\u001b[1m Trainable params: \u001b[0m\u001b[38;5;34m12,837\u001b[0m (50.14 KB)\n"
      ]
     },
     "metadata": {},
     "output_type": "display_data"
    },
    {
     "data": {
      "text/html": [
       "<pre style=\"white-space:pre;overflow-x:auto;line-height:normal;font-family:Menlo,'DejaVu Sans Mono',consolas,'Courier New',monospace\"><span style=\"font-weight: bold\"> Non-trainable params: </span><span style=\"color: #00af00; text-decoration-color: #00af00\">36</span> (144.00 B)\n",
       "</pre>\n"
      ],
      "text/plain": [
       "\u001b[1m Non-trainable params: \u001b[0m\u001b[38;5;34m36\u001b[0m (144.00 B)\n"
      ]
     },
     "metadata": {},
     "output_type": "display_data"
    }
   ],
   "source": [
    "from tensorflow.keras.callbacks import ModelCheckpoint, EarlyStopping, ReduceLROnPlateau\n",
    "\n",
    "variable_amount = len(X.columns)\n",
    "\n",
    "neural_model_21 = keras.Sequential(\n",
    "    [\n",
    "        layers.BatchNormalization(input_shape=(variable_amount,)),\n",
    "        layers.Dense(128, activation=\"relu\"),\n",
    "        layers.Dropout(0.2),\n",
    "        layers.Dense(64, activation=\"relu\"),\n",
    "        layers.Dropout(0.2),\n",
    "        layers.Dense(32, activation=\"relu\"),\n",
    "        layers.Dense(1)\n",
    "    ]\n",
    ")\n",
    "\n",
    "neural_model_21.compile(\n",
    "    optimizer=\"adam\",\n",
    "    loss=\"mse\"\n",
    ")\n",
    "\n",
    "neural_model_21.summary()"
   ]
  },
  {
   "cell_type": "markdown",
   "id": "894fe8e8",
   "metadata": {},
   "source": [
    "#### Training the model"
   ]
  },
  {
   "cell_type": "code",
   "execution_count": 19,
   "id": "62de7682",
   "metadata": {},
   "outputs": [
    {
     "name": "stdout",
     "output_type": "stream",
     "text": [
      "Epoch 1/100\n",
      "\u001b[1m342/342\u001b[0m \u001b[32m━━━━━━━━━━━━━━━━━━━━\u001b[0m\u001b[37m\u001b[0m \u001b[1m3s\u001b[0m 4ms/step - loss: 1996114493440.0000 - val_loss: 1921939931136.0000 - learning_rate: 0.0010\n",
      "Epoch 2/100\n",
      "\u001b[1m342/342\u001b[0m \u001b[32m━━━━━━━━━━━━━━━━━━━━\u001b[0m\u001b[37m\u001b[0m \u001b[1m1s\u001b[0m 4ms/step - loss: 1335545298944.0000 - val_loss: 1668061855744.0000 - learning_rate: 0.0010\n",
      "Epoch 3/100\n",
      "\u001b[1m342/342\u001b[0m \u001b[32m━━━━━━━━━━━━━━━━━━━━\u001b[0m\u001b[37m\u001b[0m \u001b[1m1s\u001b[0m 4ms/step - loss: 1197529890816.0000 - val_loss: 1637586042880.0000 - learning_rate: 0.0010\n",
      "Epoch 4/100\n",
      "\u001b[1m342/342\u001b[0m \u001b[32m━━━━━━━━━━━━━━━━━━━━\u001b[0m\u001b[37m\u001b[0m \u001b[1m1s\u001b[0m 4ms/step - loss: 1146719305728.0000 - val_loss: 1533500588032.0000 - learning_rate: 0.0010\n",
      "Epoch 5/100\n",
      "\u001b[1m342/342\u001b[0m \u001b[32m━━━━━━━━━━━━━━━━━━━━\u001b[0m\u001b[37m\u001b[0m \u001b[1m1s\u001b[0m 4ms/step - loss: 1108839890944.0000 - val_loss: 1501132357632.0000 - learning_rate: 0.0010\n",
      "Epoch 6/100\n",
      "\u001b[1m342/342\u001b[0m \u001b[32m━━━━━━━━━━━━━━━━━━━━\u001b[0m\u001b[37m\u001b[0m \u001b[1m1s\u001b[0m 4ms/step - loss: 1085539221504.0000 - val_loss: 1569078378496.0000 - learning_rate: 0.0010\n",
      "Epoch 7/100\n",
      "\u001b[1m342/342\u001b[0m \u001b[32m━━━━━━━━━━━━━━━━━━━━\u001b[0m\u001b[37m\u001b[0m \u001b[1m1s\u001b[0m 4ms/step - loss: 1062389088256.0000 - val_loss: 1422824046592.0000 - learning_rate: 0.0010\n",
      "Epoch 8/100\n",
      "\u001b[1m342/342\u001b[0m \u001b[32m━━━━━━━━━━━━━━━━━━━━\u001b[0m\u001b[37m\u001b[0m \u001b[1m1s\u001b[0m 4ms/step - loss: 1042271633408.0000 - val_loss: 1412633722880.0000 - learning_rate: 0.0010\n",
      "Epoch 9/100\n",
      "\u001b[1m342/342\u001b[0m \u001b[32m━━━━━━━━━━━━━━━━━━━━\u001b[0m\u001b[37m\u001b[0m \u001b[1m1s\u001b[0m 4ms/step - loss: 1018570407936.0000 - val_loss: 1381411454976.0000 - learning_rate: 0.0010\n",
      "Epoch 10/100\n",
      "\u001b[1m342/342\u001b[0m \u001b[32m━━━━━━━━━━━━━━━━━━━━\u001b[0m\u001b[37m\u001b[0m \u001b[1m1s\u001b[0m 4ms/step - loss: 1019411824640.0000 - val_loss: 1530244628480.0000 - learning_rate: 0.0010\n",
      "Epoch 11/100\n",
      "\u001b[1m342/342\u001b[0m \u001b[32m━━━━━━━━━━━━━━━━━━━━\u001b[0m\u001b[37m\u001b[0m \u001b[1m1s\u001b[0m 4ms/step - loss: 1006429536256.0000 - val_loss: 1395040190464.0000 - learning_rate: 0.0010\n",
      "Epoch 12/100\n",
      "\u001b[1m342/342\u001b[0m \u001b[32m━━━━━━━━━━━━━━━━━━━━\u001b[0m\u001b[37m\u001b[0m \u001b[1m1s\u001b[0m 4ms/step - loss: 1005235077120.0000 - val_loss: 1435145076736.0000 - learning_rate: 0.0010\n",
      "Epoch 13/100\n",
      "\u001b[1m342/342\u001b[0m \u001b[32m━━━━━━━━━━━━━━━━━━━━\u001b[0m\u001b[37m\u001b[0m \u001b[1m1s\u001b[0m 4ms/step - loss: 978110513152.0000 - val_loss: 1339158560768.0000 - learning_rate: 0.0010\n",
      "Epoch 14/100\n",
      "\u001b[1m342/342\u001b[0m \u001b[32m━━━━━━━━━━━━━━━━━━━━\u001b[0m\u001b[37m\u001b[0m \u001b[1m1s\u001b[0m 4ms/step - loss: 990992990208.0000 - val_loss: 1453702381568.0000 - learning_rate: 0.0010\n",
      "Epoch 15/100\n",
      "\u001b[1m342/342\u001b[0m \u001b[32m━━━━━━━━━━━━━━━━━━━━\u001b[0m\u001b[37m\u001b[0m \u001b[1m1s\u001b[0m 4ms/step - loss: 986024968192.0000 - val_loss: 1552413622272.0000 - learning_rate: 0.0010\n",
      "Epoch 16/100\n",
      "\u001b[1m342/342\u001b[0m \u001b[32m━━━━━━━━━━━━━━━━━━━━\u001b[0m\u001b[37m\u001b[0m \u001b[1m1s\u001b[0m 4ms/step - loss: 976765124608.0000 - val_loss: 1374867161088.0000 - learning_rate: 0.0010\n",
      "Epoch 17/100\n",
      "\u001b[1m342/342\u001b[0m \u001b[32m━━━━━━━━━━━━━━━━━━━━\u001b[0m\u001b[37m\u001b[0m \u001b[1m1s\u001b[0m 4ms/step - loss: 978287984640.0000 - val_loss: 1533670326272.0000 - learning_rate: 0.0010\n",
      "Epoch 18/100\n",
      "\u001b[1m342/342\u001b[0m \u001b[32m━━━━━━━━━━━━━━━━━━━━\u001b[0m\u001b[37m\u001b[0m \u001b[1m1s\u001b[0m 4ms/step - loss: 981857992704.0000 - val_loss: 1447637680128.0000 - learning_rate: 0.0010\n",
      "Epoch 19/100\n",
      "\u001b[1m342/342\u001b[0m \u001b[32m━━━━━━━━━━━━━━━━━━━━\u001b[0m\u001b[37m\u001b[0m \u001b[1m1s\u001b[0m 4ms/step - loss: 976536535040.0000 - val_loss: 1325340950528.0000 - learning_rate: 0.0010\n",
      "Epoch 20/100\n",
      "\u001b[1m342/342\u001b[0m \u001b[32m━━━━━━━━━━━━━━━━━━━━\u001b[0m\u001b[37m\u001b[0m \u001b[1m1s\u001b[0m 4ms/step - loss: 973371211776.0000 - val_loss: 1507984277504.0000 - learning_rate: 0.0010\n",
      "Epoch 21/100\n",
      "\u001b[1m342/342\u001b[0m \u001b[32m━━━━━━━━━━━━━━━━━━━━\u001b[0m\u001b[37m\u001b[0m \u001b[1m1s\u001b[0m 4ms/step - loss: 969913597952.0000 - val_loss: 1381329666048.0000 - learning_rate: 0.0010\n",
      "Epoch 22/100\n",
      "\u001b[1m342/342\u001b[0m \u001b[32m━━━━━━━━━━━━━━━━━━━━\u001b[0m\u001b[37m\u001b[0m \u001b[1m1s\u001b[0m 4ms/step - loss: 962755624960.0000 - val_loss: 1349793480704.0000 - learning_rate: 0.0010\n",
      "Epoch 23/100\n",
      "\u001b[1m342/342\u001b[0m \u001b[32m━━━━━━━━━━━━━━━━━━━━\u001b[0m\u001b[37m\u001b[0m \u001b[1m1s\u001b[0m 4ms/step - loss: 970434347008.0000 - val_loss: 1550120648704.0000 - learning_rate: 0.0010\n",
      "Epoch 24/100\n",
      "\u001b[1m342/342\u001b[0m \u001b[32m━━━━━━━━━━━━━━━━━━━━\u001b[0m\u001b[37m\u001b[0m \u001b[1m1s\u001b[0m 4ms/step - loss: 969324232704.0000 - val_loss: 1368835751936.0000 - learning_rate: 0.0010\n",
      "Epoch 25/100\n",
      "\u001b[1m342/342\u001b[0m \u001b[32m━━━━━━━━━━━━━━━━━━━━\u001b[0m\u001b[37m\u001b[0m \u001b[1m1s\u001b[0m 4ms/step - loss: 968453193728.0000 - val_loss: 1344907509760.0000 - learning_rate: 0.0010\n",
      "Epoch 26/100\n",
      "\u001b[1m342/342\u001b[0m \u001b[32m━━━━━━━━━━━━━━━━━━━━\u001b[0m\u001b[37m\u001b[0m \u001b[1m1s\u001b[0m 4ms/step - loss: 957836099584.0000 - val_loss: 1424276717568.0000 - learning_rate: 0.0010\n",
      "Epoch 27/100\n",
      "\u001b[1m342/342\u001b[0m \u001b[32m━━━━━━━━━━━━━━━━━━━━\u001b[0m\u001b[37m\u001b[0m \u001b[1m1s\u001b[0m 4ms/step - loss: 958189142016.0000 - val_loss: 1353237135360.0000 - learning_rate: 0.0010\n",
      "Epoch 28/100\n",
      "\u001b[1m342/342\u001b[0m \u001b[32m━━━━━━━━━━━━━━━━━━━━\u001b[0m\u001b[37m\u001b[0m \u001b[1m1s\u001b[0m 4ms/step - loss: 959253118976.0000 - val_loss: 1425910530048.0000 - learning_rate: 0.0010\n",
      "Epoch 29/100\n",
      "\u001b[1m341/342\u001b[0m \u001b[32m━━━━━━━━━━━━━━━━━━━\u001b[0m\u001b[37m━\u001b[0m \u001b[1m0s\u001b[0m 3ms/step - loss: 1075087015936.0000\n",
      "Epoch 29: ReduceLROnPlateau reducing learning rate to 0.0005000000237487257.\n",
      "\u001b[1m342/342\u001b[0m \u001b[32m━━━━━━━━━━━━━━━━━━━━\u001b[0m\u001b[37m\u001b[0m \u001b[1m1s\u001b[0m 4ms/step - loss: 957490528256.0000 - val_loss: 1398275571712.0000 - learning_rate: 0.0010\n",
      "Epoch 30/100\n",
      "\u001b[1m342/342\u001b[0m \u001b[32m━━━━━━━━━━━━━━━━━━━━\u001b[0m\u001b[37m\u001b[0m \u001b[1m1s\u001b[0m 4ms/step - loss: 948276428800.0000 - val_loss: 1490190991360.0000 - learning_rate: 5.0000e-04\n",
      "Epoch 31/100\n",
      "\u001b[1m342/342\u001b[0m \u001b[32m━━━━━━━━━━━━━━━━━━━━\u001b[0m\u001b[37m\u001b[0m \u001b[1m1s\u001b[0m 4ms/step - loss: 959014174720.0000 - val_loss: 1456638787584.0000 - learning_rate: 5.0000e-04\n",
      "Epoch 32/100\n",
      "\u001b[1m342/342\u001b[0m \u001b[32m━━━━━━━━━━━━━━━━━━━━\u001b[0m\u001b[37m\u001b[0m \u001b[1m1s\u001b[0m 4ms/step - loss: 960622690304.0000 - val_loss: 1442957885440.0000 - learning_rate: 5.0000e-04\n",
      "Epoch 33/100\n",
      "\u001b[1m342/342\u001b[0m \u001b[32m━━━━━━━━━━━━━━━━━━━━\u001b[0m\u001b[37m\u001b[0m \u001b[1m1s\u001b[0m 4ms/step - loss: 955458453504.0000 - val_loss: 1322002153472.0000 - learning_rate: 5.0000e-04\n",
      "Epoch 34/100\n",
      "\u001b[1m342/342\u001b[0m \u001b[32m━━━━━━━━━━━━━━━━━━━━\u001b[0m\u001b[37m\u001b[0m \u001b[1m1s\u001b[0m 4ms/step - loss: 955655258112.0000 - val_loss: 1357660684288.0000 - learning_rate: 5.0000e-04\n",
      "Epoch 35/100\n",
      "\u001b[1m342/342\u001b[0m \u001b[32m━━━━━━━━━━━━━━━━━━━━\u001b[0m\u001b[37m\u001b[0m \u001b[1m1s\u001b[0m 4ms/step - loss: 961383301120.0000 - val_loss: 1368404000768.0000 - learning_rate: 5.0000e-04\n",
      "Epoch 36/100\n",
      "\u001b[1m342/342\u001b[0m \u001b[32m━━━━━━━━━━━━━━━━━━━━\u001b[0m\u001b[37m\u001b[0m \u001b[1m1s\u001b[0m 4ms/step - loss: 951577411584.0000 - val_loss: 1441994244096.0000 - learning_rate: 5.0000e-04\n",
      "Epoch 37/100\n",
      "\u001b[1m342/342\u001b[0m \u001b[32m━━━━━━━━━━━━━━━━━━━━\u001b[0m\u001b[37m\u001b[0m \u001b[1m1s\u001b[0m 4ms/step - loss: 966380617728.0000 - val_loss: 1311479037952.0000 - learning_rate: 5.0000e-04\n",
      "Epoch 38/100\n",
      "\u001b[1m342/342\u001b[0m \u001b[32m━━━━━━━━━━━━━━━━━━━━\u001b[0m\u001b[37m\u001b[0m \u001b[1m2s\u001b[0m 4ms/step - loss: 951330275328.0000 - val_loss: 1459860668416.0000 - learning_rate: 5.0000e-04\n",
      "Epoch 39/100\n",
      "\u001b[1m342/342\u001b[0m \u001b[32m━━━━━━━━━━━━━━━━━━━━\u001b[0m\u001b[37m\u001b[0m \u001b[1m2s\u001b[0m 4ms/step - loss: 948298645504.0000 - val_loss: 1293979746304.0000 - learning_rate: 5.0000e-04\n",
      "Epoch 40/100\n",
      "\u001b[1m342/342\u001b[0m \u001b[32m━━━━━━━━━━━━━━━━━━━━\u001b[0m\u001b[37m\u001b[0m \u001b[1m1s\u001b[0m 4ms/step - loss: 951885496320.0000 - val_loss: 1511181778944.0000 - learning_rate: 5.0000e-04\n",
      "Epoch 41/100\n",
      "\u001b[1m342/342\u001b[0m \u001b[32m━━━━━━━━━━━━━━━━━━━━\u001b[0m\u001b[37m\u001b[0m \u001b[1m1s\u001b[0m 4ms/step - loss: 957969924096.0000 - val_loss: 1349759795200.0000 - learning_rate: 5.0000e-04\n",
      "Epoch 42/100\n",
      "\u001b[1m342/342\u001b[0m \u001b[32m━━━━━━━━━━━━━━━━━━━━\u001b[0m\u001b[37m\u001b[0m \u001b[1m1s\u001b[0m 4ms/step - loss: 960771915776.0000 - val_loss: 1386930110464.0000 - learning_rate: 5.0000e-04\n",
      "Epoch 43/100\n",
      "\u001b[1m342/342\u001b[0m \u001b[32m━━━━━━━━━━━━━━━━━━━━\u001b[0m\u001b[37m\u001b[0m \u001b[1m2s\u001b[0m 4ms/step - loss: 968837038080.0000 - val_loss: 1428647444480.0000 - learning_rate: 5.0000e-04\n",
      "Epoch 44/100\n",
      "\u001b[1m342/342\u001b[0m \u001b[32m━━━━━━━━━━━━━━━━━━━━\u001b[0m\u001b[37m\u001b[0m \u001b[1m1s\u001b[0m 4ms/step - loss: 950870999040.0000 - val_loss: 1367480598528.0000 - learning_rate: 5.0000e-04\n",
      "Epoch 45/100\n",
      "\u001b[1m342/342\u001b[0m \u001b[32m━━━━━━━━━━━━━━━━━━━━\u001b[0m\u001b[37m\u001b[0m \u001b[1m1s\u001b[0m 4ms/step - loss: 942342930432.0000 - val_loss: 1391350906880.0000 - learning_rate: 5.0000e-04\n",
      "Epoch 46/100\n",
      "\u001b[1m342/342\u001b[0m \u001b[32m━━━━━━━━━━━━━━━━━━━━\u001b[0m\u001b[37m\u001b[0m \u001b[1m1s\u001b[0m 4ms/step - loss: 949102641152.0000 - val_loss: 1306236289024.0000 - learning_rate: 5.0000e-04\n",
      "Epoch 47/100\n",
      "\u001b[1m342/342\u001b[0m \u001b[32m━━━━━━━━━━━━━━━━━━━━\u001b[0m\u001b[37m\u001b[0m \u001b[1m1s\u001b[0m 4ms/step - loss: 959617302528.0000 - val_loss: 1405906190336.0000 - learning_rate: 5.0000e-04\n",
      "Epoch 48/100\n",
      "\u001b[1m342/342\u001b[0m \u001b[32m━━━━━━━━━━━━━━━━━━━━\u001b[0m\u001b[37m\u001b[0m \u001b[1m1s\u001b[0m 4ms/step - loss: 963642720256.0000 - val_loss: 1424395862016.0000 - learning_rate: 5.0000e-04\n",
      "Epoch 49/100\n",
      "\u001b[1m339/342\u001b[0m \u001b[32m━━━━━━━━━━━━━━━━━━━\u001b[0m\u001b[37m━\u001b[0m \u001b[1m0s\u001b[0m 4ms/step - loss: 998080053248.0000 \n",
      "Epoch 49: ReduceLROnPlateau reducing learning rate to 0.0002500000118743628.\n",
      "\u001b[1m342/342\u001b[0m \u001b[32m━━━━━━━━━━━━━━━━━━━━\u001b[0m\u001b[37m\u001b[0m \u001b[1m1s\u001b[0m 4ms/step - loss: 948261617664.0000 - val_loss: 1377121206272.0000 - learning_rate: 5.0000e-04\n",
      "Epoch 50/100\n",
      "\u001b[1m342/342\u001b[0m \u001b[32m━━━━━━━━━━━━━━━━━━━━\u001b[0m\u001b[37m\u001b[0m \u001b[1m1s\u001b[0m 4ms/step - loss: 956002664448.0000 - val_loss: 1465214959616.0000 - learning_rate: 2.5000e-04\n",
      "Epoch 51/100\n",
      "\u001b[1m342/342\u001b[0m \u001b[32m━━━━━━━━━━━━━━━━━━━━\u001b[0m\u001b[37m\u001b[0m \u001b[1m1s\u001b[0m 4ms/step - loss: 957570482176.0000 - val_loss: 1445255446528.0000 - learning_rate: 2.5000e-04\n",
      "Epoch 52/100\n",
      "\u001b[1m342/342\u001b[0m \u001b[32m━━━━━━━━━━━━━━━━━━━━\u001b[0m\u001b[37m\u001b[0m \u001b[1m1s\u001b[0m 4ms/step - loss: 934733348864.0000 - val_loss: 1534064590848.0000 - learning_rate: 2.5000e-04\n",
      "Epoch 53/100\n",
      "\u001b[1m342/342\u001b[0m \u001b[32m━━━━━━━━━━━━━━━━━━━━\u001b[0m\u001b[37m\u001b[0m \u001b[1m1s\u001b[0m 4ms/step - loss: 947359318016.0000 - val_loss: 1332318961664.0000 - learning_rate: 2.5000e-04\n",
      "Epoch 54/100\n",
      "\u001b[1m342/342\u001b[0m \u001b[32m━━━━━━━━━━━━━━━━━━━━\u001b[0m\u001b[37m\u001b[0m \u001b[1m1s\u001b[0m 4ms/step - loss: 949062991872.0000 - val_loss: 1386396647424.0000 - learning_rate: 2.5000e-04\n",
      "Epoch 55/100\n",
      "\u001b[1m342/342\u001b[0m \u001b[32m━━━━━━━━━━━━━━━━━━━━\u001b[0m\u001b[37m\u001b[0m \u001b[1m1s\u001b[0m 4ms/step - loss: 953157419008.0000 - val_loss: 1379396222976.0000 - learning_rate: 2.5000e-04\n",
      "Epoch 56/100\n",
      "\u001b[1m342/342\u001b[0m \u001b[32m━━━━━━━━━━━━━━━━━━━━\u001b[0m\u001b[37m\u001b[0m \u001b[1m1s\u001b[0m 4ms/step - loss: 962241822720.0000 - val_loss: 1432039325696.0000 - learning_rate: 2.5000e-04\n",
      "Epoch 57/100\n",
      "\u001b[1m342/342\u001b[0m \u001b[32m━━━━━━━━━━━━━━━━━━━━\u001b[0m\u001b[37m\u001b[0m \u001b[1m1s\u001b[0m 4ms/step - loss: 947832422400.0000 - val_loss: 1423613493248.0000 - learning_rate: 2.5000e-04\n"
     ]
    }
   ],
   "source": [
    "from tensorflow.keras.callbacks import EarlyStopping\n",
    "\n",
    "early_stop = EarlyStopping(\n",
    "    monitor=\"val_loss\",  \n",
    "    patience=18,         \n",
    "    restore_best_weights=True\n",
    ")\n",
    "\n",
    "mc = ModelCheckpoint(\n",
    "    'best_model_top10_states_dataset-regression.keras',\n",
    "    monitor='val_loss',\n",
    "    mode='min',\n",
    "    save_best_only=True\n",
    ")\n",
    "\n",
    "reduce_lr = ReduceLROnPlateau(\n",
    "    monitor=\"val_loss\",\n",
    "    factor=0.5,\n",
    "    patience=10,\n",
    "    verbose=1\n",
    ")\n",
    "\n",
    "callback_list = [early_stop, mc, reduce_lr]\n",
    "\n",
    "history = neural_model_21.fit(\n",
    "    x=X_train,\n",
    "    y=y_train,\n",
    "    epochs=100,\n",
    "    batch_size=1024,\n",
    "    validation_data=(X_val, y_val),\n",
    "    callbacks=callback_list,\n",
    "    verbose=1\n",
    ")"
   ]
  },
  {
   "cell_type": "markdown",
   "id": "5e482296",
   "metadata": {},
   "source": [
    "#### Visualisation / Results"
   ]
  },
  {
   "cell_type": "code",
   "execution_count": 20,
   "id": "33f3a797",
   "metadata": {},
   "outputs": [
    {
     "data": {
      "image/png": "[encoded data removed]",
      "text/plain": [
       "<Figure size 800x500 with 1 Axes>"
      ]
     },
     "metadata": {},
     "output_type": "display_data"
    }
   ],
   "source": [
    "loss_df = pd.DataFrame(neural_model_21.history.history)\n",
    "loss_df.plot(figsize=(8,5))\n",
    "plt.title(\"Training vs Validation Loss\")\n",
    "plt.xlabel(\"Epochs\")\n",
    "plt.ylabel(\"MSE Loss\")\n",
    "plt.grid(True)\n",
    "plt.show()"
   ]
  },
  {
   "cell_type": "markdown",
   "id": "968783c6",
   "metadata": {},
   "source": [
    "The graph shows that the training loss stays low and stable, while the validation loss fluctuates with occasional large spikes. This suggests that the model can learn the training data but still has instability when applied to unseen validation data."
   ]
  },
  {
   "cell_type": "markdown",
   "id": "f2ef6dea",
   "metadata": {},
   "source": [
    "#### Reload the best version of the model form history "
   ]
  },
  {
   "cell_type": "code",
   "execution_count": 21,
   "id": "45529e8f",
   "metadata": {},
   "outputs": [],
   "source": [
    "from keras.models import load_model\n",
    "best_trained_model = load_model(\"best_model_top10_states_dataset-regression.keras\")"
   ]
  },
  {
   "cell_type": "code",
   "execution_count": 22,
   "id": "5facb5e3",
   "metadata": {},
   "outputs": [
    {
     "name": "stdout",
     "output_type": "stream",
     "text": [
      "Test data evaluation\n",
      "1632077479936.0\n",
      "\n",
      "Train data evaluation:\n",
      "4027747926016.0\n"
     ]
    }
   ],
   "source": [
    "print(\"Test data evaluation\")\n",
    "print(best_trained_model.evaluate(X_test, y_test, verbose=0))\n",
    "print(\"\\nTrain data evaluation:\")\n",
    "print(best_trained_model.evaluate(X_train, y_train, verbose=0))"
   ]
  },
  {
   "cell_type": "markdown",
   "id": "4d834dd1",
   "metadata": {},
   "source": [
    "The evaluation shows very high error values for both training and test data, which means the model was not able to capture the underlying patterns well. This indicates poor predictive performance, even when focusing only on the Top 10 states."
   ]
  },
  {
   "cell_type": "code",
   "execution_count": 23,
   "id": "0b6a303a",
   "metadata": {},
   "outputs": [
    {
     "name": "stdout",
     "output_type": "stream",
     "text": [
      "\u001b[1m2344/2344\u001b[0m \u001b[32m━━━━━━━━━━━━━━━━━━━━\u001b[0m\u001b[37m\u001b[0m \u001b[1m2s\u001b[0m 725us/step\n"
     ]
    },
    {
     "data": {
      "application/vnd.microsoft.datawrangler.viewer.v0+json": {
       "columns": [
        {
         "name": "index",
         "rawType": "int64",
         "type": "integer"
        },
        {
         "name": "Test True Y",
         "rawType": "float64",
         "type": "float"
        },
        {
         "name": "Model Predictions",
         "rawType": "float32",
         "type": "float"
        }
       ],
       "ref": "8af31984-3679-4ce7-a663-568ba6c81b9c",
       "rows": [
        [
         "0",
         "532500.0",
         "440403.56"
        ],
        [
         "1",
         "99900.0",
         "289430.88"
        ],
        [
         "2",
         "985000.0",
         "982577.25"
        ],
        [
         "3",
         "584900.0",
         "822787.1"
        ],
        [
         "4",
         "915000.0",
         "360753.97"
        ],
        [
         "5",
         "1325000.0",
         "897684.1"
        ],
        [
         "6",
         "429000.0",
         "704155.3"
        ],
        [
         "7",
         "389000.0",
         "404369.7"
        ],
        [
         "8",
         "385000.0",
         "506832.6"
        ],
        [
         "9",
         "94900.0",
         "270746.47"
        ],
        [
         "10",
         "480000.0",
         "761541.94"
        ],
        [
         "11",
         "369900.0",
         "318218.3"
        ],
        [
         "12",
         "778000.0",
         "787188.75"
        ],
        [
         "13",
         "165000.0",
         "344068.88"
        ],
        [
         "14",
         "599000.0",
         "719757.94"
        ],
        [
         "15",
         "599000.0",
         "986773.75"
        ],
        [
         "16",
         "174900.0",
         "247355.44"
        ],
        [
         "17",
         "419900.0",
         "570525.25"
        ],
        [
         "18",
         "443980.0",
         "429562.56"
        ],
        [
         "19",
         "525000.0",
         "970210.4"
        ],
        [
         "20",
         "999900.0",
         "402264.3"
        ],
        [
         "21",
         "695000.0",
         "353146.34"
        ],
        [
         "22",
         "355000.0",
         "367507.94"
        ],
        [
         "23",
         "260000.0",
         "300941.75"
        ],
        [
         "24",
         "299999.0",
         "360260.34"
        ],
        [
         "25",
         "484066.0",
         "586511.94"
        ],
        [
         "26",
         "635000.0",
         "803862.0"
        ],
        [
         "27",
         "388900.0",
         "429315.62"
        ],
        [
         "28",
         "199900.0",
         "649573.9"
        ],
        [
         "29",
         "1649888.0",
         "1.2212546e+06"
        ],
        [
         "30",
         "595000.0",
         "670650.6"
        ],
        [
         "31",
         "664995.0",
         "388076.44"
        ],
        [
         "32",
         "685000.0",
         "1.1108988e+06"
        ],
        [
         "33",
         "475000.0",
         "186372.3"
        ],
        [
         "34",
         "625000.0",
         "1.0642486e+06"
        ],
        [
         "35",
         "85000.0",
         "285179.44"
        ],
        [
         "36",
         "399000.0",
         "270506.38"
        ],
        [
         "37",
         "485000.0",
         "573353.1"
        ],
        [
         "38",
         "289900.0",
         "194159.94"
        ],
        [
         "39",
         "358990.0",
         "348527.7"
        ],
        [
         "40",
         "220000.0",
         "360846.8"
        ],
        [
         "41",
         "220000.0",
         "343525.03"
        ],
        [
         "42",
         "285000.0",
         "319693.38"
        ],
        [
         "43",
         "449900.0",
         "593793.5"
        ],
        [
         "44",
         "525000.0",
         "584391.4"
        ],
        [
         "45",
         "649900.0",
         "786508.5"
        ],
        [
         "46",
         "650000.0",
         "356698.06"
        ],
        [
         "47",
         "459900.0",
         "462491.94"
        ],
        [
         "48",
         "968900.0",
         "423875.34"
        ],
        [
         "49",
         "782840.0",
         "614367.7"
        ]
       ],
       "shape": {
        "columns": 2,
        "rows": 75000
       }
      },
      "text/html": [
       "<div>\n",
       "<style scoped>\n",
       "    .dataframe tbody tr th:only-of-type {\n",
       "        vertical-align: middle;\n",
       "    }\n",
       "\n",
       "    .dataframe tbody tr th {\n",
       "        vertical-align: top;\n",
       "    }\n",
       "\n",
       "    .dataframe thead th {\n",
       "        text-align: right;\n",
       "    }\n",
       "</style>\n",
       "<table border=\"1\" class=\"dataframe\">\n",
       "  <thead>\n",
       "    <tr style=\"text-align: right;\">\n",
       "      <th></th>\n",
       "      <th>Test True Y</th>\n",
       "      <th>Model Predictions</th>\n",
       "    </tr>\n",
       "  </thead>\n",
       "  <tbody>\n",
       "    <tr>\n",
       "      <th>0</th>\n",
       "      <td>532500.0</td>\n",
       "      <td>4.404036e+05</td>\n",
       "    </tr>\n",
       "    <tr>\n",
       "      <th>1</th>\n",
       "      <td>99900.0</td>\n",
       "      <td>2.894309e+05</td>\n",
       "    </tr>\n",
       "    <tr>\n",
       "      <th>2</th>\n",
       "      <td>985000.0</td>\n",
       "      <td>9.825772e+05</td>\n",
       "    </tr>\n",
       "    <tr>\n",
       "      <th>3</th>\n",
       "      <td>584900.0</td>\n",
       "      <td>8.227871e+05</td>\n",
       "    </tr>\n",
       "    <tr>\n",
       "      <th>4</th>\n",
       "      <td>915000.0</td>\n",
       "      <td>3.607540e+05</td>\n",
       "    </tr>\n",
       "    <tr>\n",
       "      <th>...</th>\n",
       "      <td>...</td>\n",
       "      <td>...</td>\n",
       "    </tr>\n",
       "    <tr>\n",
       "      <th>74995</th>\n",
       "      <td>324850.0</td>\n",
       "      <td>4.563631e+05</td>\n",
       "    </tr>\n",
       "    <tr>\n",
       "      <th>74996</th>\n",
       "      <td>460000.0</td>\n",
       "      <td>1.188413e+06</td>\n",
       "    </tr>\n",
       "    <tr>\n",
       "      <th>74997</th>\n",
       "      <td>225000.0</td>\n",
       "      <td>6.170730e+05</td>\n",
       "    </tr>\n",
       "    <tr>\n",
       "      <th>74998</th>\n",
       "      <td>300000.0</td>\n",
       "      <td>7.367315e+05</td>\n",
       "    </tr>\n",
       "    <tr>\n",
       "      <th>74999</th>\n",
       "      <td>334900.0</td>\n",
       "      <td>2.513156e+05</td>\n",
       "    </tr>\n",
       "  </tbody>\n",
       "</table>\n",
       "<p>75000 rows × 2 columns</p>\n",
       "</div>"
      ],
      "text/plain": [
       "       Test True Y  Model Predictions\n",
       "0         532500.0       4.404036e+05\n",
       "1          99900.0       2.894309e+05\n",
       "2         985000.0       9.825772e+05\n",
       "3         584900.0       8.227871e+05\n",
       "4         915000.0       3.607540e+05\n",
       "...            ...                ...\n",
       "74995     324850.0       4.563631e+05\n",
       "74996     460000.0       1.188413e+06\n",
       "74997     225000.0       6.170730e+05\n",
       "74998     300000.0       7.367315e+05\n",
       "74999     334900.0       2.513156e+05\n",
       "\n",
       "[75000 rows x 2 columns]"
      ]
     },
     "execution_count": 23,
     "metadata": {},
     "output_type": "execute_result"
    }
   ],
   "source": [
    "import seaborn as sns\n",
    "\n",
    "test_predictions = best_trained_model.predict(X_test)\n",
    "test_predictions = pd.Series(test_predictions.reshape(len(y_test),))\n",
    "\n",
    "pred_df = pd.DataFrame(pd.DataFrame(np.asarray(y_test), columns=[\"Test True Y\"]))\n",
    "pred_df = pd.concat([pred_df, test_predictions], axis = 1)\n",
    "pred_df.columns = [\"Test True Y\", \"Model Predictions\"]\n",
    "\n",
    "pred_df"
   ]
  },
  {
   "cell_type": "markdown",
   "id": "c28b814c",
   "metadata": {},
   "source": [
    "#### Scatterplot"
   ]
  },
  {
   "cell_type": "code",
   "execution_count": 24,
   "id": "e6d24ec9",
   "metadata": {},
   "outputs": [
    {
     "data": {
      "image/png": "[encoded data removed]",
      "text/plain": [
       "<Figure size 600x600 with 1 Axes>"
      ]
     },
     "metadata": {},
     "output_type": "display_data"
    }
   ],
   "source": [
    "plt.figure(figsize=(6,6))\n",
    "sns.scatterplot(x=\"Test True Y\", y=\"Model Predictions\", data=pred_df)\n",
    "\n",
    "min_val = min(pred_df[\"Test True Y\"].min(), pred_df[\"Model Predictions\"].min())\n",
    "max_val = max(pred_df[\"Test True Y\"].max(), pred_df[\"Model Predictions\"].max())\n",
    "plt.plot([min_val, max_val], [min_val, max_val], \"r--\")\n",
    "\n",
    "plt.title(\"True vs Predicted House Prices\")\n",
    "plt.xlabel(\"Test True Y\")\n",
    "plt.ylabel(\"Model Predictions\")\n",
    "plt.show()"
   ]
  },
  {
   "cell_type": "markdown",
   "id": "0c9b0671",
   "metadata": {},
   "source": [
    "The scatterplot shows that most predictions are clustered far below the red diagonal line, which represents perfect accuracy. This means the model consistently underestimates house prices and struggles to match the true values."
   ]
  },
  {
   "cell_type": "markdown",
   "id": "f06deaac",
   "metadata": {},
   "source": [
    "#### Error-Metrics"
   ]
  },
  {
   "cell_type": "code",
   "execution_count": 25,
   "id": "22a6097a",
   "metadata": {},
   "outputs": [
    {
     "name": "stdout",
     "output_type": "stream",
     "text": [
      "MAE\n",
      "291117.28 $\n",
      "\n",
      "MSE\n",
      "1632077306724.69 $^2\n",
      "\n",
      "RMSE:\n",
      "1277527.81 $\n",
      "\n",
      "R-squared:\n",
      "0.28\n",
      "\n",
      "Explained variance score:\n",
      "0.28\n"
     ]
    }
   ],
   "source": [
    "print(\"MAE\")\n",
    "print(round(metrics.mean_absolute_error(y_test, test_predictions), 2), \"$\")\n",
    "\n",
    "print(\"\\nMSE\")\n",
    "print(round(metrics.mean_squared_error(y_test, test_predictions), 2), \"$^2\")\n",
    "\n",
    "print('\\nRMSE:')\n",
    "print(round(np.sqrt(metrics.mean_squared_error(y_test, test_predictions)), 2), \"$\")\n",
    "\n",
    "print('\\nR-squared:')\n",
    "print(round(metrics.r2_score(y_test, test_predictions), 2))\n",
    "\n",
    "print(\"\\nExplained variance score:\")\n",
    "print(round(metrics.explained_variance_score(y_test, test_predictions), 2))"
   ]
  },
  {
   "cell_type": "markdown",
   "id": "5390dfb7",
   "metadata": {},
   "source": [
    "The evaluation metrics show very high prediction errors (MAE and RMSE), but the R² score of 0.28 is higher than in the full dataset. This means the model explains slightly more variance in house prices when trained only on the Top 10 states, though accuracy remains limited."
   ]
  },
  {
   "cell_type": "code",
   "execution_count": 26,
   "id": "a20a689f",
   "metadata": {},
   "outputs": [
    {
     "name": "stderr",
     "output_type": "stream",
     "text": [
      "C:\\Users\\Timothy\\AppData\\Local\\Temp\\ipykernel_20108\\3264322254.py:1: UserWarning: \n",
      "\n",
      "`distplot` is a deprecated function and will be removed in seaborn v0.14.0.\n",
      "\n",
      "Please adapt your code to use either `displot` (a figure-level function with\n",
      "similar flexibility) or `histplot` (an axes-level function for histograms).\n",
      "\n",
      "For a guide to updating your code to use the new functions, please see\n",
      "https://gist.github.com/mwaskom/de44147ed2974457ad6372750bbe5751\n",
      "\n",
      "  sns.distplot((y_test - test_predictions))\n"
     ]
    },
    {
     "data": {
      "image/png": "[encoded data removed]",
      "text/plain": [
       "<Figure size 640x480 with 1 Axes>"
      ]
     },
     "metadata": {},
     "output_type": "display_data"
    }
   ],
   "source": [
    "sns.distplot((y_test - test_predictions))\n",
    "plt.show()\n",
    "plt.close()"
   ]
  },
  {
   "cell_type": "markdown",
   "id": "10941ca9",
   "metadata": {},
   "source": [
    "The distplot shows that most residuals are concentrated close to zero, but there are still noticeable outliers. This suggests the model captures general trends better than before, yet still makes large errors for some houses."
   ]
  },
  {
   "cell_type": "code",
   "execution_count": 27,
   "id": "bda3b2e2",
   "metadata": {},
   "outputs": [
    {
     "data": {
      "text/plain": [
       "Index(['bed', 'bath', 'acre_lot', 'house_size', 'Region_East', 'Region_North',\n",
       "       'Region_South', 'Region_West', 'state_Arizona', 'state_California',\n",
       "       'state_Florida', 'state_Georgia', 'state_Illinois', 'state_New York',\n",
       "       'state_Pennsylvania', 'state_Texas', 'state_Virginia',\n",
       "       'state_Washington'],\n",
       "      dtype='object')"
      ]
     },
     "execution_count": 27,
     "metadata": {},
     "output_type": "execute_result"
    }
   ],
   "source": [
    "X.columns"
   ]
  },
  {
   "cell_type": "code",
   "execution_count": 28,
   "id": "337d69b9",
   "metadata": {},
   "outputs": [
    {
     "data": {
      "application/vnd.microsoft.datawrangler.viewer.v0+json": {
       "columns": [
        {
         "name": "index",
         "rawType": "int64",
         "type": "integer"
        },
        {
         "name": "bed",
         "rawType": "float64",
         "type": "float"
        },
        {
         "name": "bath",
         "rawType": "float64",
         "type": "float"
        },
        {
         "name": "acre_lot",
         "rawType": "float64",
         "type": "float"
        },
        {
         "name": "house_size",
         "rawType": "float64",
         "type": "float"
        },
        {
         "name": "Region_East",
         "rawType": "bool",
         "type": "boolean"
        },
        {
         "name": "Region_North",
         "rawType": "bool",
         "type": "boolean"
        },
        {
         "name": "Region_South",
         "rawType": "bool",
         "type": "boolean"
        },
        {
         "name": "Region_West",
         "rawType": "bool",
         "type": "boolean"
        },
        {
         "name": "state_Arizona",
         "rawType": "bool",
         "type": "boolean"
        },
        {
         "name": "state_California",
         "rawType": "bool",
         "type": "boolean"
        },
        {
         "name": "state_Florida",
         "rawType": "bool",
         "type": "boolean"
        },
        {
         "name": "state_Georgia",
         "rawType": "bool",
         "type": "boolean"
        },
        {
         "name": "state_Illinois",
         "rawType": "bool",
         "type": "boolean"
        },
        {
         "name": "state_New York",
         "rawType": "bool",
         "type": "boolean"
        },
        {
         "name": "state_Pennsylvania",
         "rawType": "bool",
         "type": "boolean"
        },
        {
         "name": "state_Texas",
         "rawType": "bool",
         "type": "boolean"
        },
        {
         "name": "state_Virginia",
         "rawType": "bool",
         "type": "boolean"
        },
        {
         "name": "state_Washington",
         "rawType": "bool",
         "type": "boolean"
        }
       ],
       "ref": "ba639e2c-a8ae-46fa-a075-a5c9753ac183",
       "rows": [
        [
         "2138264",
         "1.0",
         "1.0",
         "1.16",
         "666.0",
         "False",
         "False",
         "False",
         "True",
         "False",
         "True",
         "False",
         "False",
         "False",
         "False",
         "False",
         "False",
         "False",
         "False"
        ],
        [
         "1514744",
         "3.0",
         "2.0",
         "0.42",
         "1722.0",
         "True",
         "False",
         "False",
         "False",
         "False",
         "False",
         "False",
         "False",
         "False",
         "False",
         "True",
         "False",
         "False",
         "False"
        ],
        [
         "1098561",
         "4.0",
         "4.0",
         "0.15",
         "2435.0",
         "False",
         "False",
         "False",
         "True",
         "False",
         "False",
         "False",
         "False",
         "False",
         "False",
         "False",
         "True",
         "False",
         "False"
        ]
       ],
       "shape": {
        "columns": 18,
        "rows": 3
       }
      },
      "text/html": [
       "<div>\n",
       "<style scoped>\n",
       "    .dataframe tbody tr th:only-of-type {\n",
       "        vertical-align: middle;\n",
       "    }\n",
       "\n",
       "    .dataframe tbody tr th {\n",
       "        vertical-align: top;\n",
       "    }\n",
       "\n",
       "    .dataframe thead th {\n",
       "        text-align: right;\n",
       "    }\n",
       "</style>\n",
       "<table border=\"1\" class=\"dataframe\">\n",
       "  <thead>\n",
       "    <tr style=\"text-align: right;\">\n",
       "      <th></th>\n",
       "      <th>bed</th>\n",
       "      <th>bath</th>\n",
       "      <th>acre_lot</th>\n",
       "      <th>house_size</th>\n",
       "      <th>Region_East</th>\n",
       "      <th>Region_North</th>\n",
       "      <th>Region_South</th>\n",
       "      <th>Region_West</th>\n",
       "      <th>state_Arizona</th>\n",
       "      <th>state_California</th>\n",
       "      <th>state_Florida</th>\n",
       "      <th>state_Georgia</th>\n",
       "      <th>state_Illinois</th>\n",
       "      <th>state_New York</th>\n",
       "      <th>state_Pennsylvania</th>\n",
       "      <th>state_Texas</th>\n",
       "      <th>state_Virginia</th>\n",
       "      <th>state_Washington</th>\n",
       "    </tr>\n",
       "  </thead>\n",
       "  <tbody>\n",
       "    <tr>\n",
       "      <th>2138264</th>\n",
       "      <td>1.0</td>\n",
       "      <td>1.0</td>\n",
       "      <td>1.16</td>\n",
       "      <td>666.0</td>\n",
       "      <td>False</td>\n",
       "      <td>False</td>\n",
       "      <td>False</td>\n",
       "      <td>True</td>\n",
       "      <td>False</td>\n",
       "      <td>True</td>\n",
       "      <td>False</td>\n",
       "      <td>False</td>\n",
       "      <td>False</td>\n",
       "      <td>False</td>\n",
       "      <td>False</td>\n",
       "      <td>False</td>\n",
       "      <td>False</td>\n",
       "      <td>False</td>\n",
       "    </tr>\n",
       "    <tr>\n",
       "      <th>1514744</th>\n",
       "      <td>3.0</td>\n",
       "      <td>2.0</td>\n",
       "      <td>0.42</td>\n",
       "      <td>1722.0</td>\n",
       "      <td>True</td>\n",
       "      <td>False</td>\n",
       "      <td>False</td>\n",
       "      <td>False</td>\n",
       "      <td>False</td>\n",
       "      <td>False</td>\n",
       "      <td>False</td>\n",
       "      <td>False</td>\n",
       "      <td>False</td>\n",
       "      <td>False</td>\n",
       "      <td>True</td>\n",
       "      <td>False</td>\n",
       "      <td>False</td>\n",
       "      <td>False</td>\n",
       "    </tr>\n",
       "    <tr>\n",
       "      <th>1098561</th>\n",
       "      <td>4.0</td>\n",
       "      <td>4.0</td>\n",
       "      <td>0.15</td>\n",
       "      <td>2435.0</td>\n",
       "      <td>False</td>\n",
       "      <td>False</td>\n",
       "      <td>False</td>\n",
       "      <td>True</td>\n",
       "      <td>False</td>\n",
       "      <td>False</td>\n",
       "      <td>False</td>\n",
       "      <td>False</td>\n",
       "      <td>False</td>\n",
       "      <td>False</td>\n",
       "      <td>False</td>\n",
       "      <td>True</td>\n",
       "      <td>False</td>\n",
       "      <td>False</td>\n",
       "    </tr>\n",
       "  </tbody>\n",
       "</table>\n",
       "</div>"
      ],
      "text/plain": [
       "         bed  bath  acre_lot  ...  state_Texas  state_Virginia  state_Washington\n",
       "2138264  1.0   1.0      1.16  ...        False           False             False\n",
       "1514744  3.0   2.0      0.42  ...        False           False             False\n",
       "1098561  4.0   4.0      0.15  ...         True           False             False\n",
       "\n",
       "[3 rows x 18 columns]"
      ]
     },
     "execution_count": 28,
     "metadata": {},
     "output_type": "execute_result"
    }
   ],
   "source": [
    "X.head(3)"
   ]
  },
  {
   "cell_type": "markdown",
   "id": "1f90f197",
   "metadata": {},
   "source": [
    "#### Prediction-Example"
   ]
  },
  {
   "cell_type": "code",
   "execution_count": 29,
   "id": "2e3a59c5",
   "metadata": {},
   "outputs": [
    {
     "name": "stdout",
     "output_type": "stream",
     "text": [
      "\u001b[1m1/1\u001b[0m \u001b[32m━━━━━━━━━━━━━━━━━━━━\u001b[0m\u001b[37m\u001b[0m \u001b[1m0s\u001b[0m 26ms/step\n",
      "Estimated house price with this example: \n",
      "$472426.25\n"
     ]
    }
   ],
   "source": [
    "tester_row = {\n",
    "    \"bed\": 5,\n",
    "    \"bath\": 2,\n",
    "    \"acre_lot\": 0.16,\n",
    "    \"house_size\": 2358,\n",
    "    \"Region_East\": 1,\n",
    "    \"Region_North\": 0,\n",
    "    \"Region_South\": 0,\n",
    "    \"Region_West\": 0,\n",
    "\n",
    "    'state_Arizona': 0,\n",
    "    'state_California': 1,\n",
    "    'state_Florida': 0,\n",
    "    'state_Georgia': 0,\n",
    "    'state_Illinois': 0,\n",
    "    'state_New York': 0,\n",
    "    'state_Pennsylvania': 0,\n",
    "    'state_Texas': 0,\n",
    "    'state_Virginia': 0,\n",
    "    'state_Washington': 0\n",
    "}\n",
    "#2067775\n",
    "\n",
    "tester_row = pd.DataFrame([tester_row])\n",
    "\n",
    "tester_row_scaled = scaler.transform(tester_row)\n",
    "\n",
    "result = best_trained_model.predict(tester_row_scaled)[0][0]\n",
    "\n",
    "print(\"Estimated house price with this example: \")\n",
    "print(f\"${round(float(result), 2)}\")\n"
   ]
  },
  {
   "cell_type": "code",
   "execution_count": 30,
   "id": "0edde3e3",
   "metadata": {},
   "outputs": [
    {
     "name": "stdout",
     "output_type": "stream",
     "text": [
      "\u001b[1m1/1\u001b[0m \u001b[32m━━━━━━━━━━━━━━━━━━━━\u001b[0m\u001b[37m\u001b[0m \u001b[1m0s\u001b[0m 34ms/step\n",
      "Estimated house price with this example: \n",
      "$184517.89\n"
     ]
    }
   ],
   "source": [
    "tester_row2 = {\n",
    "    \"bed\": 5,\n",
    "    \"bath\": 2,\n",
    "    \"acre_lot\": 0.16,\n",
    "    \"house_size\": 2358,\n",
    "    \"Region_East\": 0,\n",
    "    \"Region_North\": 1,\n",
    "    \"Region_South\": 0,\n",
    "    \"Region_West\": 0,\n",
    "\n",
    "    'state_Arizona': 0,\n",
    "    'state_California': 1,\n",
    "    'state_Florida': 0,\n",
    "    'state_Georgia': 0,\n",
    "    'state_Illinois': 0,\n",
    "    'state_New York': 0,\n",
    "    'state_Pennsylvania': 0,\n",
    "    'state_Texas': 0,\n",
    "    'state_Virginia': 0,\n",
    "    'state_Washington': 0\n",
    "}\n",
    "#2067775\n",
    "\n",
    "tester_row2 = pd.DataFrame([tester_row2])\n",
    "\n",
    "tester_row_scaled2 = scaler.transform(tester_row2)\n",
    "\n",
    "result = best_trained_model.predict(tester_row_scaled2)[0][0]\n",
    "\n",
    "print(\"Estimated house price with this example: \")\n",
    "print(f\"${round(float(result), 2)}\")"
   ]
  },
  {
   "cell_type": "code",
   "execution_count": 31,
   "id": "a67bc440",
   "metadata": {},
   "outputs": [
    {
     "name": "stdout",
     "output_type": "stream",
     "text": [
      "\u001b[1m1/1\u001b[0m \u001b[32m━━━━━━━━━━━━━━━━━━━━\u001b[0m\u001b[37m\u001b[0m \u001b[1m0s\u001b[0m 42ms/step\n",
      "Estimated house price with this example: \n",
      "$420581.88\n"
     ]
    }
   ],
   "source": [
    "tester_row3 = {\n",
    "    \"bed\": 5,\n",
    "    \"bath\": 2,\n",
    "    \"acre_lot\": 0.16,\n",
    "    \"house_size\": 2358,\n",
    "    \"Region_East\": 0,\n",
    "    \"Region_North\": 0,\n",
    "    \"Region_South\": 1,\n",
    "    \"Region_West\": 0,\n",
    "\n",
    "    'state_Arizona': 0,\n",
    "    'state_California': 1,\n",
    "    'state_Florida': 0,\n",
    "    'state_Georgia': 0,\n",
    "    'state_Illinois': 0,\n",
    "    'state_New York': 0,\n",
    "    'state_Pennsylvania': 0,\n",
    "    'state_Texas': 0,\n",
    "    'state_Virginia': 0,\n",
    "    'state_Washington': 0\n",
    "}\n",
    "#2067775\n",
    "\n",
    "tester_row3 = pd.DataFrame([tester_row3])\n",
    "\n",
    "tester_row_scaled3 = scaler.transform(tester_row3)\n",
    "\n",
    "result = best_trained_model.predict(tester_row_scaled3)[0][0]\n",
    "\n",
    "print(\"Estimated house price with this example: \")\n",
    "print(f\"${round(float(result), 2)}\")"
   ]
  },
  {
   "cell_type": "code",
   "execution_count": 32,
   "id": "b96ca91a",
   "metadata": {},
   "outputs": [
    {
     "name": "stdout",
     "output_type": "stream",
     "text": [
      "\u001b[1m1/1\u001b[0m \u001b[32m━━━━━━━━━━━━━━━━━━━━\u001b[0m\u001b[37m\u001b[0m \u001b[1m0s\u001b[0m 32ms/step\n",
      "Estimated house price with this example: \n",
      "$766600.06\n"
     ]
    }
   ],
   "source": [
    "tester_row4 = {\n",
    "    \"bed\": 5,\n",
    "    \"bath\": 2,\n",
    "    \"acre_lot\": 0.16,\n",
    "    \"house_size\": 2358,\n",
    "    \"Region_East\": 0,\n",
    "    \"Region_North\": 0,\n",
    "    \"Region_South\": 0,\n",
    "    \"Region_West\": 1,\n",
    "\n",
    "    'state_Arizona': 0,\n",
    "    'state_California': 1,\n",
    "    'state_Florida': 0,\n",
    "    'state_Georgia': 0,\n",
    "    'state_Illinois': 0,\n",
    "    'state_New York': 0,\n",
    "    'state_Pennsylvania': 0,\n",
    "    'state_Texas': 0,\n",
    "    'state_Virginia': 0,\n",
    "    'state_Washington': 0\n",
    "}\n",
    "#2067775\n",
    "\n",
    "tester_row4 = pd.DataFrame([tester_row4])\n",
    "\n",
    "tester_row_scaled4 = scaler.transform(tester_row4)\n",
    "\n",
    "result = best_trained_model.predict(tester_row_scaled4)[0][0]\n",
    "\n",
    "print(\"Estimated house price with this example: \")\n",
    "print(f\"${round(float(result), 2)}\")"
   ]
  },
  {
   "cell_type": "markdown",
   "id": "601b6cee",
   "metadata": {},
   "source": [
    "#### Model Evaluation and Prediction Analysis\n",
    "For the property in row \"2067775\" of the CSV-dataset (California), the actual sale price was $1,318,850.00. When predicting the same house with fixed features but switching the regional indicator, the model gave the following estimates:\n",
    "\n",
    "East -> $472,426.25\n",
    "\n",
    "North -> $184,517.89\n",
    "\n",
    "South -> $420,581.88\n",
    "\n",
    "West -> $766,600.06\n",
    "\n",
    "All four predictions fall well below the true market price, with the West region coming closest at about $766,600.06, while the North region is the lowest at only $184,517.89.\n",
    "\n",
    "This pattern indicates that the model underestimates high-value California properties and that the encoded regional feature has a very strong influence on the predictions. However, the spread between regions also shows that the network has difficulty generalizing consistent price levels for the same house when only the region changes."
   ]
  },
  {
   "cell_type": "markdown",
   "id": "b2adedc1",
   "metadata": {},
   "source": [
    "#### Conclusion\n",
    "\n",
    "At the beginning, I faced similar challenges as in the previous project, especially with scaling and handling categorical variables like states. By applying one-hot encoding and focusing only on the Top 10 states, the dataset became more consistent and easier for the model to learn from. Another difficulty was again designing the right model architecture, since early attempts produced unstable results. After multiple tests and optimizations, the model achieved a higher R² score of 0.28, which shows an improvement compared to using all states.\n",
    "\n",
    "I believe that the main reason for this improvement is the reduction in dataset complexity. When too many states are included, the variation and noise make it difficult for the model to capture meaningful patterns. By limiting the scope to fewer states, the model was able to generalize better and improve its prediction quality, even though the error values like MAE and RMSE remained very high. In working life, predictive models like this can still be very useful for price estimation, market analysis, and risk assessment, but their accuracy strongly depends on the quality and structure of the available data. For further optimization, I would consider adding more relevant features, trying alternative model architectures, and applying stronger regularization or ensemble methods to improve stability and reduce variance."
   ]
  }
 ],
 "metadata": {
  "kernelspec": {
   "display_name": "venv312 (3.12.10)",
   "language": "python",
   "name": "python3"
  },
  "language_info": {
   "codemirror_mode": {
    "name": "ipython",
    "version": 3
   },
   "file_extension": ".py",
   "mimetype": "text/x-python",
   "name": "python",
   "nbconvert_exporter": "python",
   "pygments_lexer": "ipython3",
   "version": "3.12.10"
  }
 },
 "nbformat": 4,
 "nbformat_minor": 5
}
